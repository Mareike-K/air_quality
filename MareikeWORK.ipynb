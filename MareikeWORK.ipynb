{
 "cells": [
  {
   "cell_type": "code",
   "execution_count": null,
   "metadata": {},
   "outputs": [],
   "source": [
    "import pandas as pd"
   ]
  },
  {
   "cell_type": "code",
   "execution_count": null,
   "metadata": {},
   "outputs": [],
   "source": [
    "file_path = \"/Users/mareikekeller/air_quality/data/waqi-covid19-airqualitydata-2025.csv\"\n",
    "df = pd.read_csv(file_path, comment=\"#\")"
   ]
  },
  {
   "cell_type": "code",
   "execution_count": null,
   "metadata": {},
   "outputs": [],
   "source": [
    "df.sample(20)"
   ]
  },
  {
   "cell_type": "code",
   "execution_count": null,
   "metadata": {},
   "outputs": [],
   "source": [
    "df.shape"
   ]
  },
  {
   "cell_type": "code",
   "execution_count": null,
   "metadata": {},
   "outputs": [],
   "source": [
    "df.describe()"
   ]
  },
  {
   "cell_type": "code",
   "execution_count": null,
   "metadata": {},
   "outputs": [],
   "source": [
    "# Einzigartige Werte in der Spalte Specie\n",
    "einzigartige_werte = df['Specie'].unique()\n",
    "print(einzigartige_werte)"
   ]
  },
  {
   "cell_type": "code",
   "execution_count": null,
   "metadata": {},
   "outputs": [],
   "source": [
    "# Einzigartige Werte in der Spalte Country\n",
    "einzigartige_werte = df['Country'].unique()\n",
    "countries_sorted = sorted(einzigartige_werte)\n",
    "\n",
    "for country in countries_sorted:\n",
    "    print(country)"
   ]
  },
  {
   "cell_type": "code",
   "execution_count": null,
   "metadata": {},
   "outputs": [],
   "source": [
    "mask_top_five_cities = (df['City'] == \"Abu Dhabi\") | (df['City'] == \"Buenos Aires\") | (df['City'] == \"Vienna\") | (df['City'] == \"Brisbane\") | (df['City'] == \"Sarajevo\")\n",
    "df_top_five_cities = df[mask_top_five_cities]\n",
    "df_top_five_cities.sample(50)\n"
   ]
  },
  {
   "cell_type": "code",
   "execution_count": null,
   "metadata": {},
   "outputs": [],
   "source": [
    "mask_year = df_top_five_cities['Date'].str.startswith('2019')\n",
    "df_top_five_cities_2019 = df_top_five_cities[mask_year]\n",
    "df_top_five_cities_2019"
   ]
  },
  {
   "cell_type": "code",
   "execution_count": null,
   "metadata": {},
   "outputs": [],
   "source": [
    "print(f\"{'column':<20}{'# unique values'}\")\n",
    "print(\"-\"*40)\n",
    "for column in df.columns:\n",
    "    print(f\"{column:<20}{df[column].nunique()}\")"
   ]
  },
  {
   "cell_type": "code",
   "execution_count": null,
   "metadata": {},
   "outputs": [],
   "source": [
    "mask_london = (df['City'] == \"London\") & (df['Date'] == \"2025-01-08\")\n",
    "df_london = df[mask_london]\n",
    "print(df_london)"
   ]
  },
  {
   "cell_type": "code",
   "execution_count": null,
   "metadata": {},
   "outputs": [],
   "source": [
    "# unique values per column\n",
    "print(f\"{'column':<20}{'# unique values'}\")\n",
    "print(\"-\"*40)\n",
    "for column in df.columns:\n",
    "    print(f\"{column:<20}{df[column].nunique()}\")"
   ]
  },
  {
   "cell_type": "code",
   "execution_count": null,
   "metadata": {},
   "outputs": [],
   "source": [
    "# All measurements for London on 2025-01-08\n",
    "mask_london = (df['City'] == \"London\") & (df['Date'] == \"2025-01-08\")\n",
    "df_london = df[mask_london]\n",
    "df_london"
   ]
  },
  {
   "cell_type": "code",
   "execution_count": null,
   "metadata": {},
   "outputs": [],
   "source": [
    "# Are there any missing values?\n",
    "df.isna().sum()"
   ]
  },
  {
   "cell_type": "code",
   "execution_count": null,
   "metadata": {},
   "outputs": [],
   "source": [
    "# Which data types are in the dataframe?\n",
    "df.dtypes"
   ]
  },
  {
   "cell_type": "code",
   "execution_count": null,
   "metadata": {},
   "outputs": [],
   "source": [
    "# How many measurements are there for each country?\n",
    "pd.crosstab(df['Country'], 'count').sort_values('count', ascending=False)"
   ]
  },
  {
   "cell_type": "code",
   "execution_count": null,
   "metadata": {},
   "outputs": [],
   "source": [
    "# Whoch countries have the highest number of measurements?\n",
    "countries_count = df.loc[:, 'Country'].value_counts()\n",
    "print(countries_count.head(10))"
   ]
  },
  {
   "cell_type": "code",
   "execution_count": null,
   "metadata": {},
   "outputs": [],
   "source": [
    "# Whoch cities per country have the highest number of measurements?\n",
    "city_counts = df.groupby([\"Country\", \"City\"]).size().reset_index(name=\"count\")\n",
    "\n",
    "# Für jedes Land die Stadt mit den meisten Einträgen finden\n",
    "max_city_per_country = city_counts.loc[city_counts.groupby(\"Country\")[\"count\"].idxmax()]\n",
    "\n",
    "# Ergebnisse anzeigen\n",
    "print(max_city_per_country)"
   ]
  }
 ],
 "metadata": {
  "kernelspec": {
   "display_name": ".venv",
   "language": "python",
   "name": "python3"
  },
  "language_info": {
   "codemirror_mode": {
    "name": "ipython",
    "version": 3
   },
   "file_extension": ".py",
   "mimetype": "text/x-python",
   "name": "python",
   "nbconvert_exporter": "python",
   "pygments_lexer": "ipython3",
   "version": "3.11.4"
  }
 },
 "nbformat": 4,
 "nbformat_minor": 2
}
