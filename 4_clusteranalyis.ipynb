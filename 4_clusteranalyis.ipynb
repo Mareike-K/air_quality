{
 "cells": [
  {
   "cell_type": "markdown",
   "metadata": {},
   "source": [
    "# Clusteranalyse\n",
    "\n",
    "In diesem Notebook wird eine Clusteranalyse über den gesamten Datensatz, noch ohne Feature Engineering, durchgeführt. Ziel ist es, die Städte im Datensatz aufgrund ihrer Schadstoffbelastung in verschiedene Cluster einzuteilen und diese Cluster zu beschreiben.\n",
    "\n",
    "Die Clusteranalyse verläuft rekursiv und beinhaltet auch die Identifikation und Entfernung von Städten mit extremen (realistischen und unrealistischen) Schadstoffprofilen.\n",
    "\n",
    "Verwendet werden:\n",
    "- geodatasets und geopandas für geographische Karten und Plots\n",
    "- matplotlib.patches zur Individualisierung von Farbkodierungen in Plots\n",
    "- sklearn für Skalierung, Clustering (K-Means) und PCA\n",
    "\n",
    "📌 **Datenstand:** `cleaned_air_quality_data_2025-03-27.csv`  \n",
    "📁 **Importiert aus:** lokaler Datei (--> gitignore)\n"
   ]
  },
  {
   "cell_type": "markdown",
   "metadata": {},
   "source": [
    "## 📚 Inhaltsverzeichnis \n",
    "(Diese Art von Inhaltsverzeichnis mit Link funktioniert leider in Notebooks nicht, weil die as JSON gespeichert werden und nicht als HTML...)\n",
    "\n",
    "- [0. Datensatz laden](#0-datensatz-laden)\n",
    "- [1. Vollständige Schadstoffmessungen und geographische Verteilung](#1-vollständige-schadstoffmessungen-und-geographische-verteilung)\n",
    "- [2. Clusterberechnung - mehrstufig](#2-clusterberechnung-mehrstufig)\n",
    "- [3. Clusterbeschreibung mit PCA](#3-clusterbeschreibung-mit-pca)\n",
    "- [4. Geographische Verteilung der Schadstoffcluster](#4-geographische-verteilung-der-schadstoffcluster)\n",
    "- [5. Inhaltliche Interpretation](#5-inhaltliche-interpretation)\n"
   ]
  },
  {
   "cell_type": "markdown",
   "metadata": {},
   "source": [
    "# 0. Datensatz laden"
   ]
  },
  {
   "cell_type": "code",
   "execution_count": null,
   "metadata": {},
   "outputs": [],
   "source": [
    "# imports\n",
    "import pandas as pd\n",
    "import numpy as np\n",
    "import matplotlib.pyplot as plt\n",
    "import matplotlib.patches as mpatches\n",
    "import seaborn as sns\n",
    "import geopandas as gpd\n",
    "from shapely.geometry import Point\n",
    "import geodatasets\n",
    "from sklearn.preprocessing import StandardScaler\n",
    "from sklearn.cluster import KMeans\n",
    "from sklearn.decomposition import PCA\n",
    "%matplotlib inline"
   ]
  },
  {
   "cell_type": "code",
   "execution_count": null,
   "metadata": {},
   "outputs": [],
   "source": [
    "df = pd.read_csv(\"data/cleaned_air_quality_data_2025-03-27.csv\")\n",
    "df.head()"
   ]
  },
  {
   "cell_type": "code",
   "execution_count": null,
   "metadata": {},
   "outputs": [],
   "source": [
    "df.shape"
   ]
  },
  {
   "cell_type": "code",
   "execution_count": null,
   "metadata": {},
   "outputs": [],
   "source": [
    "df.columns"
   ]
  },
  {
   "cell_type": "code",
   "execution_count": null,
   "metadata": {},
   "outputs": [],
   "source": [
    "# Liste der Schadstoffvariablen\n",
    "pollutants = ['Co', 'No2', 'O3', 'Pm10', 'Pm25', 'So2']"
   ]
  },
  {
   "cell_type": "markdown",
   "metadata": {},
   "source": [
    "# 1. Vollständige Schadstoffmessungen und geographische Verteilung\n",
    "\n",
    "Um Städte aufgrund ihrer Schadstoffbelastung sinnvoll miteinander vergleichen zu können, muss zuerst ermittelt werden, für welche Städte und Schadstoffe genügend Werte vorliegen."
   ]
  },
  {
   "cell_type": "code",
   "execution_count": null,
   "metadata": {},
   "outputs": [],
   "source": [
    "# Anteil fehlender Werte pro Spalte\n",
    "missing_ratios = df[pollutants].isna().mean().sort_values(ascending=True)\n",
    "\n",
    "print(\"Anteil fehlender Werte pro Schadstoff:\")\n",
    "print(missing_ratios)\n"
   ]
  },
  {
   "cell_type": "code",
   "execution_count": null,
   "metadata": {},
   "outputs": [],
   "source": [
    "# Gruppieren: Für jede Stadt den Mittelwert je Schadstoff berechnen\n",
    "city_pollution_avg = df.groupby('City')[pollutants].mean()\n",
    "\n",
    "# Ergebnis prüfen\n",
    "print(city_pollution_avg.head())\n"
   ]
  },
  {
   "cell_type": "code",
   "execution_count": null,
   "metadata": {},
   "outputs": [],
   "source": [
    "# Städte mit vollständigen Werten (alle 6 Schadstoffe nicht NaN)\n",
    "city_pollution_complete = city_pollution_avg.dropna()\n",
    "print(f\"Anzahl Städte mit vollständigen Daten: {city_pollution_complete.shape[0]}\")\n"
   ]
  },
  {
   "cell_type": "markdown",
   "metadata": {},
   "source": [
    "Es liegen also für 404 Städte Werte für alle sechs Schadstoffe vor.\n",
    "\n",
    "Frage: Wie verteilen sich diese Städte über die geographischen Regionen?"
   ]
  },
  {
   "cell_type": "code",
   "execution_count": null,
   "metadata": {},
   "outputs": [],
   "source": [
    "\n",
    "# Mittelwerte für Koordinaten je Stadt berechnen\n",
    "coords = df.groupby('City')[['Latitude', 'Longitude']].mean()\n",
    "\n",
    "# Nur die Städte mit vollständigen Schadstoffdaten behalten\n",
    "coords_filtered = coords.loc[city_pollution_complete.index]\n",
    "\n"
   ]
  },
  {
   "cell_type": "code",
   "execution_count": null,
   "metadata": {},
   "outputs": [],
   "source": [
    "# GeoDataFrame mit Punkt-Geometrie\n",
    "coords_filtered['geometry'] = coords_filtered.apply(lambda row: Point(row['Longitude'], row['Latitude']), axis=1)\n",
    "gdf_complete = gpd.GeoDataFrame(coords_filtered, geometry='geometry', crs='EPSG:4326')\n"
   ]
  },
  {
   "cell_type": "code",
   "execution_count": null,
   "metadata": {},
   "outputs": [],
   "source": [
    "# Weltkarte laden\n",
    "world = gpd.read_file(geodatasets.get_path('naturalearth.land'))\n",
    "\n",
    "# Plot\n",
    "ax = world.plot(figsize=(12, 6), color='lightgrey', edgecolor='white')\n",
    "gdf_complete.plot(ax=ax, color='green', markersize=5)\n",
    "\n",
    "ax.set_title(\"Städte mit vollständigen Daten für alle sechs Schadstoffe\")\n"
   ]
  },
  {
   "cell_type": "markdown",
   "metadata": {},
   "source": [
    "Die 404 Städte verteilen sich über alle Kontinente. In dichter besiedelten Regionen liegen erwartungsgemäß mehr Messstationen.\n",
    "\n",
    "Die ermittelten 404 Städte werden in die folgende Clusteranalyse einbezogen (df = city_pollution_complete).\n",
    "\n"
   ]
  },
  {
   "cell_type": "markdown",
   "metadata": {},
   "source": [
    "# 2. Clusterberechnung (mehrstufig)\n",
    "\n",
    "Die folgende Clusterberechnung erfolgt mehrstufig, da im Prozess immer wieder Extremfälle sichbar werden können, über die im Einzelfall entschieden werden muss.\n",
    "\n",
    "Damit die Schadstoffwerte, die in unterscheidlichen Einheiten gemessen werden, vergleichbar zu machen, müssen sie zunächst skaliert werden.:"
   ]
  },
  {
   "cell_type": "code",
   "execution_count": null,
   "metadata": {},
   "outputs": [],
   "source": [
    "X = city_pollution_complete.copy()\n",
    "\n",
    "# Daten skalieren\n",
    "scaler = StandardScaler()\n",
    "X_scaled = scaler.fit_transform(X)\n",
    "\n",
    "# In DataFrame umwandeln für bessere Lesbarkeit\n",
    "X_scaled_df = pd.DataFrame(X_scaled, index=X.index, columns=X.columns)\n",
    "\n",
    "print(X_scaled_df.head())\n"
   ]
  },
  {
   "cell_type": "markdown",
   "metadata": {},
   "source": [
    "Nun muss eine sinnvolle Anzahl an Clustern ermittelt werden. Dazu wird die Elbow-Methode eingesetzt."
   ]
  },
  {
   "cell_type": "code",
   "execution_count": null,
   "metadata": {},
   "outputs": [],
   "source": [
    "# Für verschiedene Clusterzahlen die \"Inertia\" berechnen\n",
    "\n",
    "inertias = []\n",
    "k_range = range(1, 31)  # z. B. 1 bis 30 Cluster\n",
    "\n",
    "for k in k_range:\n",
    "    kmeans = KMeans(n_clusters=k, random_state=42)\n",
    "    kmeans.fit(X_scaled)\n",
    "    inertias.append(kmeans.inertia_)\n",
    "\n",
    "# Plot der Elbow-Kurve\n",
    "plt.figure(figsize=(8, 5))\n",
    "plt.plot(k_range, inertias, marker='o')\n",
    "plt.xlabel('Anzahl der Cluster (k)')\n",
    "plt.ylabel('Inertia')\n",
    "plt.title('Elbow-Methode zur Bestimmung der optimalen Clusteranzahl')\n",
    "plt.grid(True)\n",
    "plt.show()\n"
   ]
  },
  {
   "cell_type": "markdown",
   "metadata": {},
   "source": [
    "Die Elbow-Methode liefert kein eindeutiges Ergebnis. Im Datensatz sind mit Sicherheit noch echte Ausreißerstädte enhalten, die das Bild verzerren. Entscheidung: Mit 6 Clustern beginnen.\n",
    "\n",
    "Als Algorithmus für die Zuordnung der Städte zu Clustern wird KMeans gewählt:"
   ]
  },
  {
   "cell_type": "code",
   "execution_count": null,
   "metadata": {},
   "outputs": [],
   "source": [
    "# KMeans mit 6 Clustern\n",
    "kmeans = KMeans(n_clusters=6, random_state=42)\n",
    "labels = kmeans.fit_predict(X_scaled)\n",
    "\n",
    "# Clusterlabels zum ursprünglichen DataFrame hinzufügen\n",
    "city_pollution_complete = city_pollution_avg.dropna().copy()\n",
    "city_pollution_complete['Cluster'] = labels\n",
    "\n",
    "# Vorschau: Welche Stadt gehört zu welchem Cluster?\n",
    "print(city_pollution_complete[['Cluster']].value_counts().sort_index())\n"
   ]
  },
  {
   "cell_type": "markdown",
   "metadata": {},
   "source": [
    "Hier werden sofort extereme Outlier sichtbar: Cluster 3 und Cluster 5 enthalten jeweils nur eine Stadt.\n",
    "\n",
    "Welche Städte wurden von KMeans als eigene Cluster bestimmt?"
   ]
  },
  {
   "cell_type": "code",
   "execution_count": null,
   "metadata": {},
   "outputs": [],
   "source": [
    "# Cluster mit nur 1 Stadt ermitteln\n",
    "einzel_clusters = city_pollution_complete['Cluster'].value_counts()\n",
    "einzel_clusters = einzel_clusters[einzel_clusters == 1].index.tolist()\n",
    "\n",
    "# Städte aus diesen Clustern anzeigen\n",
    "einzelstaedte = city_pollution_complete[city_pollution_complete['Cluster'].isin(einzel_clusters)]\n",
    "\n",
    "print(einzelstaedte.index.tolist())  # Stadt-Namen\n"
   ]
  },
  {
   "cell_type": "code",
   "execution_count": null,
   "metadata": {},
   "outputs": [],
   "source": [
    "einzelstaedte"
   ]
  },
  {
   "cell_type": "markdown",
   "metadata": {},
   "source": [
    "## Städte mit extremen Schadstoffprofilen\n",
    "\n",
    "### Temuco (Chile)\n",
    "Temuco fällt durch außergewöhnlich hohe Schwefeldioxid-Werte (SO₂ ≈ 85.6 µg/m³) auf, die in keiner anderen Stadt annähernd erreicht wurden. Diese Belastung ist vermutlich auf die Kombination aus häufiger Holzverbrennung im Winter und der Nähe zum aktiven Vulkan Villarrica zurückzuführen. Auch die PM2.5-Werte lagen mit 67.5 µg/m³ deutlich über dem Mittel.\n",
    "\n",
    "Aufgrund dieses sehr speziellen, aber durchaus plausiblen Luftschadstoffprofils hätte Temuco ein eigenes Cluster gebildet und dadurch die Vergleichbarkeit der übrigen Gruppen verzerrt. Die Stadt wurde daher aus der Clusteranalyse ausgeschlossen\n",
    "\n",
    "### Ashkelon (Israel)\n",
    "Ashkelon wurde aufgrund technischer Auffälligkeiten ausgeschlossen. Der CO-Wert liegt mit durchschnittlich 138.7 µg/m³ mehr als eine Größenordnung über allen anderen Städten im Datensatz. Auch die übrigen Schadstoffwerte wirken inkonsistent. Die stark abweichenden Werte deuten auf eine defekte oder fehlerhafte CO-Messstation hin.\n",
    "\n",
    "Um eine Verzerrung der Clusteranalyse durch fehlerhafte Daten zu vermeiden, wurde Ashkelon entfernt. Der Ausschluss erfolgte hier nicht, um extreme, aber plausible Umweltbedingungen auszublenden, sondern auf Basis der Datenqualität."
   ]
  },
  {
   "cell_type": "code",
   "execution_count": null,
   "metadata": {},
   "outputs": [],
   "source": [
    "# Liste der Städte, die aus der Hauptanalyse entfernt werden:\n",
    "ausreisser = ['Ashkelon', 'Temuco']\n",
    "\n",
    "# Neue Version des DataFrames ohne diese beiden\n",
    "city_pollution_cleaned = city_pollution_complete.drop(index=ausreisser)"
   ]
  },
  {
   "cell_type": "markdown",
   "metadata": {},
   "source": [
    "Nach der Entfernung von Ashkelon und Temuco wird die Clusteranalyse nach demselben Muster auf dem reduzierten Datensatz (df = city_pollution_scaled_cleaned) neu berechnet:"
   ]
  },
  {
   "cell_type": "code",
   "execution_count": null,
   "metadata": {},
   "outputs": [],
   "source": [
    "scaler = StandardScaler()\n",
    "city_pollution_scaled_cleaned = scaler.fit_transform(city_pollution_cleaned)"
   ]
  },
  {
   "cell_type": "code",
   "execution_count": null,
   "metadata": {},
   "outputs": [],
   "source": [
    "kmeans_cleaned = KMeans(n_clusters=6, random_state=42)\n",
    "labels_cleaned = kmeans_cleaned.fit_predict(city_pollution_scaled_cleaned)\n",
    "\n",
    "# Clusterlabels zum DataFrame hinzufügen\n",
    "city_pollution_cleaned['Cluster'] = labels_cleaned\n"
   ]
  },
  {
   "cell_type": "code",
   "execution_count": null,
   "metadata": {},
   "outputs": [],
   "source": [
    "city_pollution_cleaned['Cluster'].value_counts().sort_index()\n"
   ]
  },
  {
   "cell_type": "markdown",
   "metadata": {},
   "source": [
    "Wieder erscheint ein Cluster mit nur einer Stadt. Das ist nicht ungewöhnlich, da sich durch das Entfernen der extremen Ausreißer nun das gesamte Gefüge verschoben hat und nun auch weniger starke Ausreißer hervortreten können."
   ]
  },
  {
   "cell_type": "code",
   "execution_count": null,
   "metadata": {},
   "outputs": [],
   "source": [
    "# Cluster mit nur 1 Stadt ermitteln\n",
    "einzel_clusters = city_pollution_cleaned['Cluster'].value_counts()\n",
    "einzel_clusters = einzel_clusters[einzel_clusters == 1].index.tolist()\n",
    "\n",
    "# Städte aus diesen Clustern anzeigen\n",
    "einzelstaedte = city_pollution_cleaned[city_pollution_cleaned['Cluster'].isin(einzel_clusters)]\n",
    "\n",
    "print(einzelstaedte.index.tolist())  # Stadt-Namen"
   ]
  },
  {
   "cell_type": "code",
   "execution_count": null,
   "metadata": {},
   "outputs": [],
   "source": [
    "einzelstaedte"
   ]
  },
  {
   "cell_type": "markdown",
   "metadata": {},
   "source": [
    "### Khorramshahr (Iran)\n",
    "\n",
    "Khorramshahr wurde aufgrund seines außergewöhnlich hohen Ozon- und Feinstaubniveaus aus der Hauptclusteranalyse ausgeschlossen. Die Werte deuten nicht auf Messfehler, sondern auf eine ernsthafte Luftbelastung hin, die möglicherweise durch regionale Industrieaktivität, hohe Temperaturen und Photochemie verstärkt wird.\n",
    "\n",
    "Die Stadt bildet aufgrund ihres Extremprofils ein eigenes Cluster, wodurch die übrige Gruppierung verzerrt würde. Daher wird sie separat dokumentiert, aber aus der finalen Clusterstruktur ausgeschlossenn."
   ]
  },
  {
   "cell_type": "code",
   "execution_count": null,
   "metadata": {},
   "outputs": [],
   "source": [
    "# Liste aktualisieren\n",
    "ausreisser = ['Ashkelon', 'Temuco', 'Khorramshahr']\n",
    "\n",
    "# Gefilterter DataFrame\n",
    "X_cleaned_final = city_pollution_complete.drop(index=ausreisser)"
   ]
  },
  {
   "cell_type": "markdown",
   "metadata": {},
   "source": [
    "Mit dem nun erhaltenen Datensatz (X_cleaned_final) wird die Clusteranalyse neu berechnet:"
   ]
  },
  {
   "cell_type": "code",
   "execution_count": null,
   "metadata": {},
   "outputs": [],
   "source": [
    "scaler = StandardScaler()\n",
    "X_scaled_final = scaler.fit_transform(X_cleaned_final)\n"
   ]
  },
  {
   "cell_type": "code",
   "execution_count": null,
   "metadata": {},
   "outputs": [],
   "source": [
    "kmeans_final = KMeans(n_clusters=6, random_state=42)\n",
    "labels_final = kmeans_final.fit_predict(X_scaled_final)\n",
    "\n",
    "# Clusterlabels hinzufügen\n",
    "X_cleaned_final['Cluster'] = labels_final\n"
   ]
  },
  {
   "cell_type": "code",
   "execution_count": null,
   "metadata": {},
   "outputs": [],
   "source": [
    "X_cleaned_final['Cluster'].value_counts().sort_index()"
   ]
  },
  {
   "cell_type": "markdown",
   "metadata": {},
   "source": [
    "Nun haben wir keine zu kleinen Cluster mehr. Die aktuelle Zuordnung wird also nicht weiter verändert."
   ]
  },
  {
   "cell_type": "markdown",
   "metadata": {},
   "source": [
    "# 3. Clusterbeschreibung mit PCA\n",
    "\n",
    "Als nächster Schritt überprüft werden, wie deutlich sich die Cluster in ihren Eigenschaften überschneiden. Dazu wird eine PCA durchgeführt, bei der die sechs Schadstoffe auf zwei Dimensionen reduziert werden, damit sie in einem zweidimensionalen Scatterplot darstellbar sind.\n",
    "\n",
    "PS: Das hat jetzt nichts mit geografischer Verteilung zu tun, das zeigt nur, wie nah welche Cluster rechnerisch beieinander liegen."
   ]
  },
  {
   "cell_type": "code",
   "execution_count": null,
   "metadata": {},
   "outputs": [],
   "source": [
    "# PCA auf die skalierten Daten anwenden (X_scaled_final)\n",
    "pca = PCA(n_components=2)\n",
    "X_pca = pca.fit_transform(X_scaled_final)\n",
    "\n",
    "# In DataFrame mit Clusternummern zusammenführen\n",
    "pca_df = pd.DataFrame(X_pca, columns=['PC1', 'PC2'], index=X_cleaned_final.index)\n",
    "pca_df['Cluster'] = X_cleaned_final['Cluster']\n",
    "\n",
    "# Plot definieren\n",
    "plt.figure(figsize=(10, 6))\n",
    "for cluster in sorted(pca_df['Cluster'].unique()):\n",
    "    subset = pca_df[pca_df['Cluster'] == cluster]\n",
    "    plt.scatter(subset['PC1'], subset['PC2'], label=f'Cluster {cluster}', s=20, alpha=0.7)\n",
    "\n",
    "plt.title(\"PCA-Visualisierung der Cluster (2D)\")\n",
    "plt.xlabel(\"Hauptkomponente 1\")\n",
    "plt.ylabel(\"Hauptkomponente 2\")\n",
    "plt.legend()\n",
    "plt.grid(True);\n"
   ]
  },
  {
   "cell_type": "markdown",
   "metadata": {},
   "source": [
    "Die PCA-Visualisierung zeigt die Verteilung der Städte im zweidimensionalen Raum, basierend auf ihren durchschnittlichen Schadstoffwerten (CO, NO₂, O₃, PM10, PM2.5, SO₂). Die ursprünglichen sechs Dimensionen wurden mithilfe einer Hauptkomponentenanalyse (PCA) auf zwei Hauptachsen reduziert, die möglichst viel der Varianz im Datensatz abbilden. Die Punkte im Plot repräsentieren einzelne Städte, eingefärbt nach ihrer jeweiligen Clusterzugehörigkeit (KMeans, k=6).\n",
    "\n",
    "In der linken Hälfte des Plots gruppieren sich die Cluster 1, 3, 4 und 5:\n",
    "\n",
    "- Cluster 5 erscheint besonders kompakt und dicht, was auf ein sehr homogenes Schadstoffprofil der zugehörigen Städte hindeutet.\n",
    "\n",
    "- Cluster 1 und Cluster 3 liegen in direkter Nachbarschaft zu Cluster 5 und sind ebenfalls gut erkennbar voneinander abgegrenzt, jedoch weniger dicht. In einem kleinen Bereich überschneiden sich die drei Cluster leicht, was auf gewisse Ähnlichkeiten in den Profilen hindeutet.\n",
    "\n",
    "- Cluster 4 liegt ebenfalls in der linken Plot-Hälfte, ist jedoch vollständig von den anderen Gruppen abgegrenzt. Die Punktwolke ist weniger dicht, aber klar umrissen, was auf größere interne Varianz, jedoch gute Abgrenzbarkeit hindeutet.\n",
    "\n",
    "In der rechten Hälfte befinden sich Cluster 0 und Cluster 2:\n",
    "\n",
    "- Cluster 0 bildet eine erkennbare Gruppe, überscheidet sich aber am Rand mit Cluster 2\n",
    "\n",
    "- Cluster 2 ist das am stärksten gestreute Cluster und wirkt visuell weniger zusammenhängend. Ein einzelner Punkt liegt sogar deutlich entfernt in der linken Plothälfte, nahe bei Cluster 3. Die Zugehörigkeit zu Cluster 2 wird hier nur durch die algorithmische Einfärbung deutlich.\n",
    "\n",
    "Die Clusterstruktur ist insgesamt ausreichend gut differenziert und bietet eine fundierte Grundlage für die inhaltliche Analyse der Luftverschmutzungsprofile."
   ]
  },
  {
   "cell_type": "markdown",
   "metadata": {},
   "source": [
    "# 4. Geographische Verteilung der Schadstoffcluster\n",
    "\n",
    "Um zu verstehen, ob und wie Schadstoffmuster mit geographischer Lage zusammenhängen, werden die ermittelten Cluster nun auf eine Weltkarte geplottet."
   ]
  },
  {
   "cell_type": "code",
   "execution_count": null,
   "metadata": {},
   "outputs": [],
   "source": [
    "# Mittelwerte der Schadstoffe je Cluster\n",
    "cluster_profiles = X_cleaned_final.groupby('Cluster')[['Co', 'No2', 'O3', 'Pm10', 'Pm25', 'So2']].mean()\n",
    "\n",
    "# Optional: auf 2 Dezimalstellen runden für bessere Lesbarkeit\n",
    "cluster_profiles_rounded = cluster_profiles.round(2)\n",
    "\n",
    "# Anzeigen\n",
    "print(cluster_profiles_rounded)\n"
   ]
  },
  {
   "cell_type": "code",
   "execution_count": null,
   "metadata": {},
   "outputs": [],
   "source": [
    "# Koordinaten zuordnen\n",
    "coords = df.groupby('City')[['Latitude', 'Longitude']].mean()\n",
    "\n",
    "# Nur die bereinigten Städte (ohne Ashkelon, Temuco, Khorramshahr)\n",
    "coords_final = coords.loc[X_cleaned_final.index]\n",
    "\n",
    "# GeoDataFrame bauen\n",
    "coords_final['Cluster'] = X_cleaned_final['Cluster']\n",
    "coords_final['geometry'] = coords_final.apply(lambda row: Point(row['Longitude'], row['Latitude']), axis=1)\n",
    "gdf_final = gpd.GeoDataFrame(coords_final, geometry='geometry', crs='EPSG:4326')\n"
   ]
  },
  {
   "cell_type": "code",
   "execution_count": null,
   "metadata": {},
   "outputs": [],
   "source": [
    "# Farbdefinition individuell, weil die vorgegebenen Farbpaletten visuell schlecht zu unterscheiden waren, und weil man so die zugehörigen Cluster besser zuordnen kann\n",
    "# Die hier gewählten Farben sollten für Präsentationen evtl. noch überarbeitet werden, weil das Rot_Grün-Problem weiter besteht.\n",
    "\n",
    "cluster_colors = {\n",
    "    1: '#4CAF50',  # mittelgrün\n",
    "    5: '#1B5E20',  # dunkelgrün\n",
    "    3: '#2196F3',  # mittelblau\n",
    "    4: '#0D47A1',  # dunkelblau\n",
    "    0: '#F7A1A1',  # hellrot\n",
    "    2: '#B71C1C'   # dunkelrot\n",
    "}\n",
    "\n",
    "# Manuelle Gruppierung\n",
    "legend_entries = [\n",
    "    mpatches.Patch(color='#4CAF50', label='Cluster 1 – Niedrige Belastung (günstiges Klima)'),\n",
    "    mpatches.Patch(color='#1B5E20', label='Cluster 5 – Niedrige Belastung (urbane Bedingungen)'),\n",
    "    mpatches.Patch(color='#2196F3', label='Cluster 3 – Mittlere Belastung (Feinstaub)'),\n",
    "    mpatches.Patch(color='#0D47A1', label='Cluster 4 – Mittlere Belastung (Ozon)'),\n",
    "    mpatches.Patch(color='#F7A1A1', label='Cluster 0 – Starke Belastung (Feinstaub)'),\n",
    "    mpatches.Patch(color='#B71C1C', label='Cluster 2 – Starke Belastung (CO und SO₂)')\n",
    "]\n"
   ]
  },
  {
   "cell_type": "code",
   "execution_count": null,
   "metadata": {},
   "outputs": [],
   "source": [
    "# Weltkarte\n",
    "world = gpd.read_file(geodatasets.get_path('naturalearth.land'))\n",
    "\n",
    "# Plot\n",
    "fig, ax = plt.subplots(figsize=(14, 8))\n",
    "world.plot(ax=ax, color='lightgrey', edgecolor='white')\n",
    "\n",
    "# Punkte pro Cluster plotten\n",
    "for cluster in sorted(gdf_final['Cluster'].unique()):\n",
    "    gdf_final[gdf_final['Cluster'] == cluster].plot(\n",
    "        ax=ax,\n",
    "        color=cluster_colors[cluster],\n",
    "        markersize=20,\n",
    "        label=f'Cluster {cluster}'\n",
    "    )\n",
    "\n",
    "# Benutzerdefinierte Legende\n",
    "ax.legend(handles=legend_entries, title=\"Clustergruppen\", loc='lower left', fontsize=10, title_fontsize=12)\n",
    "\n",
    "# Titel & Layout\n",
    "ax.set_title(\"Städte nach Luftverschmutzungs-Clustern (k=6)\", fontsize=15)\n",
    "ax.set_axis_off()\n",
    "plt.tight_layout()\n",
    "plt.show()\n"
   ]
  },
  {
   "cell_type": "markdown",
   "metadata": {},
   "source": [
    "# 5. Inhaltliche Interpretation\n",
    "\n",
    "Abschließend werden die berechneten Cluster inhaltlich interpretiert.\n",
    "\n",
    "Wir möchten an dieser Stelle daran erinnern, dass die Städte, die den Clustern mit niedriger Belastung zugeordnet wurden, mit Ausnahme von Zürich (Schweiz) alle die von der WHO aktuell empfohlenen Feinstaubwerte übersteigen. Es handelt also nur um *relativ* saubere Luft im Vergleich zu anderen Städten."
   ]
  },
  {
   "cell_type": "markdown",
   "metadata": {},
   "source": [
    "## Niedrige Schadstoffbelastung (Cluster 1 und 5)\n",
    "\n",
    "Cluster 1 und Cluster 5 umfassen beide Städte mit insgesamt niedriger Luftverschmutzung. Dennoch unterscheidet der Algorithmus diese Gruppen aufgrund unterschiedlicher Schadstoffprofile, insbesondere bei Ozon (O₃) und Feinstaub (PM2.5).\n",
    "\n",
    "Cluster 1 enthält vor allem Städte in Australien, Neuseeland, Kanada, Island und kleineren US-Regionen, oft in klimatisch günstigen, gut belüfteten oder dünn besiedelten Gegenden. Hier sind sowohl Ozon- als auch Feinstaubwerte durchgängig sehr niedrig. Die geringe Ozonbelastung ist besonders auffällig, da man intuitiv in Regionen wie Australien aufgrund des „Ozonlochs“ hohe Ozonwerte erwarten könnte. Tatsächlich bezieht sich das Ozonloch jedoch auf die Stratosphäre – bodennahes Ozon, das als Luftschadstoff wirkt, ist in diesen Städten gering.\n",
    "\n",
    "Cluster 5 dagegen umfasst eine große Gruppe urbaner Zentren in Ländern wie Japan, Spanien, Frankreich, Deutschland, den USA und Großbritannien. Die Luftqualität ist hier weiterhin vergleichsweise gut, allerdings zeigen sich moderat erhöhte PM2.5- und Ozonwerte. Diese Belastungen lassen sich durch höhere Urbanisierung, Verkehrsdichte, sowie Photochemie in sonnenreichen Regionen erklären – insbesondere bei den Ozonwerten in südeuropäischen und japanischen Städten.\n",
    "\n",
    "Die Trennung in zwei Cluster innerhalb der „sauberen Städte“ ist daher sachlich sinnvoll und differenzierend:\n",
    "Cluster 1 steht für „sehr saubere Luft in klimatisch und strukturell begünstigten Regionen“,\n",
    "Cluster 5 für „gute Luftqualität unter urbanen Rahmenbedingungen“."
   ]
  },
  {
   "cell_type": "code",
   "execution_count": null,
   "metadata": {},
   "outputs": [],
   "source": [
    "# Schadstoffmittelwerte der beiden Cluster extrahieren, damit man sieht, wo sich die Städte trotz Ähnlichkeit unterscheiden\n",
    "cluster_1 = cluster_profiles.loc[1]\n",
    "cluster_5 = cluster_profiles.loc[5]\n",
    "\n",
    "# Differenz berechnen\n",
    "diff = (cluster_5 - cluster_1).round(2)\n",
    "print(diff)"
   ]
  },
  {
   "cell_type": "code",
   "execution_count": null,
   "metadata": {},
   "outputs": [],
   "source": [
    "# Liste der Städte aus demselben Cluster speichern\n",
    "\n",
    "# Cluster 1-Städte\n",
    "cluster_1_staedte = X_cleaned_final[X_cleaned_final['Cluster'] == 1].index\n",
    "cluster_1_info = df[df['City'].isin(cluster_1_staedte)][['City', 'Country', 'Population']]\n",
    "cluster_1_info = cluster_1_info.drop_duplicates(subset='City').set_index('City')\n",
    "cluster_1_info.to_csv('data/cluster_1_staedte.csv')\n",
    "\n",
    "# Cluster 5-Städte\n",
    "cluster_5_staedte = X_cleaned_final[X_cleaned_final['Cluster'] == 5].index\n",
    "cluster_5_info = df[df['City'].isin(cluster_5_staedte)][['City', 'Country', 'Population']]\n",
    "cluster_5_info = cluster_5_info.drop_duplicates(subset='City').set_index('City')\n",
    "cluster_5_by_country.to_csv('data/cluster_5_staedte.csv')"
   ]
  },
  {
   "cell_type": "markdown",
   "metadata": {},
   "source": [
    "## Mittlere Schadstoffbelastung (Cluster 3 und 4)\n",
    "\n",
    "Cluster 3 und Cluster 4 umfassen Städte mit moderater Luftbelastung, unterscheiden sich jedoch in ihrer dominierenden Schadstoffzusammensetzung und regionalen Verteilung.\n",
    "\n",
    "Cluster 3 vereint Städte mit leicht erhöhter Feinstaubbelastung (PM2.5, PM10) sowie etwas höheren Werten bei CO und SO₂. Diese Belastungskonstellation weist auf gemischte Emissionsquellen wie Hausbrand, Industrie und Verkehr hin. Geografisch liegen die Städte überwiegend in Süd- und Südostasien, Lateinamerika, der Türkei und Südafrika – also Regionen mit teils unvollständiger Filtertechnik und wachsender Urbanisierung.\n",
    "\n",
    "Cluster 4 dagegen ist geprägt durch erhöhte Ozon- und NO₂-Werte, bei insgesamt geringerer Partikelbelastung. Diese Konstellation ist typisch für Städte mit starker Verkehrsdichte und intensiver Photochemie, etwa in sonnigen, urbanen Küstenregionen oder dicht besiedelten Stadtstaaten. Cluster 4 umfasst hauptsächlich Städte in Südkorea, Taiwan, China, Mexiko und Südeuropa.\n",
    "\n",
    "Die Trennung dieser beiden Cluster ist daher gut begründet: Cluster 3 steht für eine diffuse, partikelgetriebene Belastung, während Cluster 4 eher für verkehrsbedingte Ozonbildung und Stickstoffoxidbelastung steht – also unterschiedliche urbane Luftbelastungsmodelle mit verschiedenen Ursachen und Lösungsansätzen."
   ]
  },
  {
   "cell_type": "code",
   "execution_count": null,
   "metadata": {},
   "outputs": [],
   "source": [
    "# Schadstoffmittelwerte der beiden Cluster extrahieren, damit man sieht, wo sich die Städte trotz Ähnlichkeit unterscheiden\n",
    "diff_3_4 = (cluster_profiles.loc[3] - cluster_profiles.loc[4]).round(2)\n",
    "print(diff_3_4)"
   ]
  },
  {
   "cell_type": "code",
   "execution_count": null,
   "metadata": {},
   "outputs": [],
   "source": [
    "# Liste der Städte aus demselben Cluster speichern\n",
    "\n",
    "# Cluster 3-Städte\n",
    "cluster_3_staedte = X_cleaned_final[X_cleaned_final['Cluster'] == 3].index\n",
    "cluster_3_info = df[df['City'].isin(cluster_3_staedte)][['City', 'Country', 'Population']]\n",
    "cluster_3_info = cluster_3_info.drop_duplicates(subset='City').set_index('City')\n",
    "cluster_3_info.to_csv('data/cluster_3_staedte.csv')\n",
    "\n",
    "# Cluster 4-Städte\n",
    "cluster_4_staedte = X_cleaned_final[X_cleaned_final['Cluster'] == 4].index\n",
    "cluster_4_info = df[df['City'].isin(cluster_4_staedte)][['City', 'Country', 'Population']]\n",
    "cluster_4_info = cluster_4_info.drop_duplicates(subset='City').set_index('City')\n",
    "cluster_4_info.to_csv('data/cluster_4_staedte.csv')"
   ]
  },
  {
   "cell_type": "markdown",
   "metadata": {},
   "source": [
    "## Hohe Schadstoffbelastung (Cluster 0 und 2)\n",
    "\n",
    "Cluster 0 und Cluster 2 umfassen Städte mit insgesamt sehr hoher Luftverschmutzung, unterscheiden sich jedoch deutlich in der Art der dominierenden Schadstoffe.\n",
    "\n",
    "Cluster 0 ist geprägt von extrem hohen Feinstaubwerten (PM2.5 und PM10), während die Konzentrationen gasförmiger Schadstoffe wie Kohlenmonoxid (CO), Stickstoffdioxid (NO₂) und Schwefeldioxid (SO₂) vergleichsweise niedriger ausfallen. Diese Belastung ist typisch für viele schnell wachsende Megastädte, wie sie in China, Indien und angrenzenden Regionen zu finden sind. Häufige Ursachen sind Hausbrand, industrielle Emissionen, ungünstige Wetterlagen und hohe Bevölkerungsdichte.\n",
    "\n",
    "Cluster 2 hingegen weist sehr hohe Konzentrationen gasförmiger Luftschadstoffe auf – insbesondere CO und SO₂ –, während die Feinstaubwerte zwar erhöht, aber deutlich geringer sind als in Cluster 0. Die Städte in Cluster 2 liegen überwiegend im Iran und in der Türkei, mit vereinzelten Städten in Israel und Südostasien. Die Belastung in diesen Regionen dürfte vor allem auf verkehrs- und energiebedingte Emissionen, veraltete Infrastruktur und industrielle Verbrennungsprozesse zurückzuführen sein.\n",
    "\n",
    "Die Trennung dieser beiden Cluster ist daher inhaltlich gut nachvollziehbar: Cluster 0 steht für partikelgetriebene Belastung, Cluster 2 für eine gasförmige Emissionsdominanz. Beide stellen gesundheitlich bedenkliche Situationen dar, aber mit unterschiedlichen Quellenprofilen, die jeweils spezifische Gegenmaßnahmen erfordern würden."
   ]
  },
  {
   "cell_type": "code",
   "execution_count": null,
   "metadata": {},
   "outputs": [],
   "source": [
    "# Schadstoffmittelwerte der beiden Cluster extrahieren, damit man sieht, wo sich die Städte trotz Ähnlichkeit unterscheiden\n",
    "diff_0_2 = (cluster_profiles.loc[0] - cluster_profiles.loc[2]).round(2)\n",
    "print(diff_0_2)"
   ]
  },
  {
   "cell_type": "code",
   "execution_count": null,
   "metadata": {},
   "outputs": [],
   "source": [
    "# Liste der Städte aus demselben Cluster speichern\n",
    "\n",
    "# Cluster 0-Städte\n",
    "cluster_0_staedte = X_cleaned_final[X_cleaned_final['Cluster'] == 0].index\n",
    "cluster_0_info = df[df['City'].isin(cluster_0_staedte)][['City', 'Country', 'Population']]\n",
    "cluster_0_info = cluster_0_info.drop_duplicates(subset='City').set_index('City')\n",
    "cluster_0_info.to_csv('data/cluster_0_staedte.csv')\n",
    "\n",
    "# Cluster 2-Städte\n",
    "cluster_2_staedte = X_cleaned_final[X_cleaned_final['Cluster'] == 2].index\n",
    "cluster_2_info = df[df['City'].isin(cluster_2_staedte)][['City', 'Country', 'Population']]\n",
    "cluster_2_info = cluster_2_info.drop_duplicates(subset='City').set_index('City')\n",
    "cluster_2_info.to_csv('data/cluster_2_staedte.csv')"
   ]
  },
  {
   "cell_type": "markdown",
   "metadata": {},
   "source": [
    "### Übersichtstabelle\n",
    "\n",
    "Für eine Präsentation ist die Interpretation der Cluster hier noch einmal als Tabelle zusammengefasst:"
   ]
  },
  {
   "cell_type": "code",
   "execution_count": null,
   "metadata": {},
   "outputs": [],
   "source": [
    "# Übersichtstabelle erstellen\n",
    "data = {\n",
    "    \"Cluster\": [\"1\", \"5\", \"4\", \"3\", \"2\", \"0\"],\n",
    "    \"Belastungsprofil\": [\n",
    "        \"Sehr saubere Luft\",\n",
    "        \"Saubere Luft, urban geprägt\",\n",
    "        \"Ozon- & NO₂-betonte Belastung\",\n",
    "        \"Partikelbetonte Mischung\",\n",
    "        \"Gasdominierte Belastung\",\n",
    "        \"Extreme Feinstaubbelastung\"\n",
    "    ],\n",
    "    \"Hauptschadstoffe\": [\n",
    "        \"keine dominant\",\n",
    "        \"O₃, PM2.5\",\n",
    "        \"O₃, NO₂\",\n",
    "        \"PM2.5, CO, SO₂\",\n",
    "        \"CO, SO₂, NO₂\",\n",
    "        \"PM2.5, PM10\"\n",
    "    ],\n",
    "    \"Regionale Tendenz\": [\n",
    "        \"Australien, Neuseeland, Kanada\",\n",
    "        \"Europa, Japan, USA\",\n",
    "        \"Südkorea, Taiwan, Südeuropa\",\n",
    "        \"Südostasien, Südafrika, Mexiko\",\n",
    "        \"Iran, Türkei, Israel\",\n",
    "        \"China, Indien, VAE\"\n",
    "    ],\n",
    "    \"Mögliche Ursachen\": [\n",
    "        \"Geringe Emissionen, gute Durchlüftung\",\n",
    "        \"Verkehr, Photochemie, urbane Dichte\",\n",
    "        \"Verkehr, Sonne, hohe Bevölkerungsdichte\",\n",
    "        \"Hausbrand, lokale Industrie, gemischte Quellen\",\n",
    "        \"Verkehr, fossile Energie, Industrieabgase\",\n",
    "        \"Industrie, Hausbrand, Inversion, Urbanisierung\"\n",
    "    ]\n",
    "}\n",
    "\n",
    "df_overview = pd.DataFrame(data)\n",
    "\n",
    "df_overview"
   ]
  }
 ],
 "metadata": {
  "kernelspec": {
   "display_name": ".venv",
   "language": "python",
   "name": "python3"
  },
  "language_info": {
   "codemirror_mode": {
    "name": "ipython",
    "version": 3
   },
   "file_extension": ".py",
   "mimetype": "text/x-python",
   "name": "python",
   "nbconvert_exporter": "python",
   "pygments_lexer": "ipython3",
   "version": "3.11.4"
  }
 },
 "nbformat": 4,
 "nbformat_minor": 2
}
