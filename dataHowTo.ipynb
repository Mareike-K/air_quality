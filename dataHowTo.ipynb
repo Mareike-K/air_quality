{
 "cells": [
  {
   "cell_type": "markdown",
   "metadata": {},
   "source": [
    "## MAC\n",
    "- gehe ins Terminal\n",
    "- Wechsel ins Verzeichnis data\n",
    "- Kopiere den Inhalt der nachfolgenden Zelle in Deinen Terminal\n",
    "- Enter\n",
    "- Warten\n",
    "- fertig"
   ]
  },
  {
   "cell_type": "code",
   "execution_count": null,
   "metadata": {},
   "outputs": [],
   "source": [
    "curl --compressed -o waqi-covid-2025.csv   https://aqicn.org/data-platform/covid19/report/45108-d76dd600/2025\n",
    "curl --compressed -o waqi-covid-2015H1.csv https://aqicn.org/data-platform/covid19/report/45108-d76dd600/2015H1\n",
    "curl --compressed -o waqi-covid-2016H1.csv https://aqicn.org/data-platform/covid19/report/45108-d76dd600/2016H1\n",
    "curl --compressed -o waqi-covid-2017H1.csv https://aqicn.org/data-platform/covid19/report/45108-d76dd600/2017H1\n",
    "curl --compressed -o waqi-covid-2018H1.csv https://aqicn.org/data-platform/covid19/report/45108-d76dd600/2018H1\n",
    "curl --compressed -o waqi-covid-2019Q1.csv https://aqicn.org/data-platform/covid19/report/45108-d76dd600/2019Q1\n",
    "curl --compressed -o waqi-covid-2019Q2.csv https://aqicn.org/data-platform/covid19/report/45108-d76dd600/2019Q2\n",
    "curl --compressed -o waqi-covid-2019Q3.csv https://aqicn.org/data-platform/covid19/report/45108-d76dd600/2019Q3\n",
    "curl --compressed -o waqi-covid-2019Q4.csv https://aqicn.org/data-platform/covid19/report/45108-d76dd600/2019Q4\n",
    "curl --compressed -o waqi-covid-2020Q1.csv https://aqicn.org/data-platform/covid19/report/45108-d76dd600/2020Q1\n",
    "curl --compressed -o waqi-covid-2020Q2.csv https://aqicn.org/data-platform/covid19/report/45108-d76dd600/2020Q2\n",
    "curl --compressed -o waqi-covid-2020Q3.csv https://aqicn.org/data-platform/covid19/report/45108-d76dd600/2020Q3\n",
    "curl --compressed -o waqi-covid-2020Q4.csv https://aqicn.org/data-platform/covid19/report/45108-d76dd600/2020Q4\n",
    "curl --compressed -o waqi-covid-2021Q1.csv https://aqicn.org/data-platform/covid19/report/45108-d76dd600/2021Q1\n",
    "curl --compressed -o waqi-covid-2021Q2.csv https://aqicn.org/data-platform/covid19/report/45108-d76dd600/2021Q2\n",
    "curl --compressed -o waqi-covid-2021Q3.csv https://aqicn.org/data-platform/covid19/report/45108-d76dd600/2021Q3\n",
    "curl --compressed -o waqi-covid-2021Q4.csv https://aqicn.org/data-platform/covid19/report/45108-d76dd600/2021Q4\n",
    "curl --compressed -o waqi-covid-2022Q1.csv https://aqicn.org/data-platform/covid19/report/45108-d76dd600/2022Q1\n",
    "curl --compressed -o waqi-covid-2022Q2.csv https://aqicn.org/data-platform/covid19/report/45108-d76dd600/2022Q2\n",
    "curl --compressed -o waqi-covid-2022Q3.csv https://aqicn.org/data-platform/covid19/report/45108-d76dd600/2022Q3\n",
    "curl --compressed -o waqi-covid-2022Q4.csv https://aqicn.org/data-platform/covid19/report/45108-d76dd600/2022Q4\n",
    "curl --compressed -o waqi-covid-2023Q1.csv https://aqicn.org/data-platform/covid19/report/45108-d76dd600/2023Q1\n",
    "curl --compressed -o waqi-covid-2023Q2.csv https://aqicn.org/data-platform/covid19/report/45108-d76dd600/2023Q2\n",
    "curl --compressed -o waqi-covid-2023Q3.csv https://aqicn.org/data-platform/covid19/report/45108-d76dd600/2023Q3\n",
    "curl --compressed -o waqi-covid-2023Q4.csv https://aqicn.org/data-platform/covid19/report/45108-d76dd600/2023Q4\n"
   ]
  },
  {
   "cell_type": "markdown",
   "metadata": {},
   "source": [
    "Für Stationskoordinaten/ To download the list of stations with latitude, longitude and EPA feed:"
   ]
  },
  {
   "cell_type": "code",
   "execution_count": null,
   "metadata": {},
   "outputs": [],
   "source": [
    "curl --compressed -o airquality-covid19-cities.json https://aqicn.org/data-platform/covid19/airquality-covid19-cities.json"
   ]
  },
  {
   "cell_type": "markdown",
   "metadata": {},
   "source": [
    "## Windows\n",
    "- gehe ins Terminal (Windows Powershell)\n",
    "- Wechsel ins Verzeichnis data\n",
    "- Kopiere den Inhalt der nachfolgenden Zelle in Deinen Terminal\n",
    "- Enter\n",
    "- Warten\n",
    "- fertig"
   ]
  },
  {
   "cell_type": "code",
   "execution_count": 4,
   "metadata": {},
   "outputs": [
    {
     "ename": "SyntaxError",
     "evalue": "invalid decimal literal (2399544293.py, line 1)",
     "output_type": "error",
     "traceback": [
      "\u001b[1;36m  Cell \u001b[1;32mIn[4], line 1\u001b[1;36m\u001b[0m\n\u001b[1;33m    curl.exe --compressed -o waqi-covid-2025.csv   https://aqicn.org/data-platform/covid19/report/45108-d76dd600/2025\u001b[0m\n\u001b[1;37m                                            ^\u001b[0m\n\u001b[1;31mSyntaxError\u001b[0m\u001b[1;31m:\u001b[0m invalid decimal literal\n"
     ]
    }
   ],
   "source": [
    "curl.exe --compressed -o waqi-covid-2025.csv   https://aqicn.org/data-platform/covid19/report/45108-d76dd600/2025\n",
    "curl.exe --compressed -o waqi-covid-2015H1.csv https://aqicn.org/data-platform/covid19/report/45108-d76dd600/2015H1\n",
    "curl.exe --compressed -o waqi-covid-2016H1.csv https://aqicn.org/data-platform/covid19/report/45108-d76dd600/2016H1\n",
    "curl.exe --compressed -o waqi-covid-2017H1.csv https://aqicn.org/data-platform/covid19/report/45108-d76dd600/2017H1\n",
    "curl.exe --compressed -o waqi-covid-2018H1.csv https://aqicn.org/data-platform/covid19/report/45108-d76dd600/2018H1\n",
    "curl.exe --compressed -o waqi-covid-2019Q1.csv https://aqicn.org/data-platform/covid19/report/45108-d76dd600/2019Q1\n",
    "curl.exe --compressed -o waqi-covid-2019Q2.csv https://aqicn.org/data-platform/covid19/report/45108-d76dd600/2019Q2\n",
    "curl.exe --compressed -o waqi-covid-2019Q3.csv https://aqicn.org/data-platform/covid19/report/45108-d76dd600/2019Q3\n",
    "curl.exe --compressed -o waqi-covid-2019Q4.csv https://aqicn.org/data-platform/covid19/report/45108-d76dd600/2019Q4\n",
    "curl.exe --compressed -o waqi-covid-2020Q1.csv https://aqicn.org/data-platform/covid19/report/45108-d76dd600/2020Q1\n",
    "curl.exe --compressed -o waqi-covid-2020Q2.csv https://aqicn.org/data-platform/covid19/report/45108-d76dd600/2020Q2\n",
    "curl.exe --compressed -o waqi-covid-2020Q3.csv https://aqicn.org/data-platform/covid19/report/45108-d76dd600/2020Q3\n",
    "curl.exe --compressed -o waqi-covid-2020Q4.csv https://aqicn.org/data-platform/covid19/report/45108-d76dd600/2020Q4\n",
    "curl.exe --compressed -o waqi-covid-2021Q1.csv https://aqicn.org/data-platform/covid19/report/45108-d76dd600/2021Q1\n",
    "curl.exe --compressed -o waqi-covid-2021Q2.csv https://aqicn.org/data-platform/covid19/report/45108-d76dd600/2021Q2\n",
    "curl.exe --compressed -o waqi-covid-2021Q3.csv https://aqicn.org/data-platform/covid19/report/45108-d76dd600/2021Q3\n",
    "curl.exe --compressed -o waqi-covid-2021Q4.csv https://aqicn.org/data-platform/covid19/report/45108-d76dd600/2021Q4\n",
    "curl.exe --compressed -o waqi-covid-2022Q1.csv https://aqicn.org/data-platform/covid19/report/45108-d76dd600/2022Q1\n",
    "curl.exe --compressed -o waqi-covid-2022Q2.csv https://aqicn.org/data-platform/covid19/report/45108-d76dd600/2022Q2\n",
    "curl.exe --compressed -o waqi-covid-2022Q3.csv https://aqicn.org/data-platform/covid19/report/45108-d76dd600/2022Q3\n",
    "curl.exe --compressed -o waqi-covid-2022Q4.csv https://aqicn.org/data-platform/covid19/report/45108-d76dd600/2022Q4\n",
    "curl.exe --compressed -o waqi-covid-2023Q1.csv https://aqicn.org/data-platform/covid19/report/45108-d76dd600/2023Q1\n",
    "curl.exe --compressed -o waqi-covid-2023Q2.csv https://aqicn.org/data-platform/covid19/report/45108-d76dd600/2023Q2\n",
    "curl.exe --compressed -o waqi-covid-2023Q3.csv https://aqicn.org/data-platform/covid19/report/45108-d76dd600/2023Q3\n",
    "curl.exe --compressed -o waqi-covid-2023Q4.csv https://aqicn.org/data-platform/covid19/report/45108-d76dd600/2023Q4\n"
   ]
  },
  {
   "cell_type": "markdown",
   "metadata": {},
   "source": [
    "Für Stationskoordinaten/ To download the list of stations with latitude, longitude and EPA feed:"
   ]
  },
  {
   "cell_type": "code",
   "execution_count": null,
   "metadata": {},
   "outputs": [],
   "source": [
    "#To download the list of stations with latitude, longitude and EPA feed:\n",
    "curl.exe --compressed -o airquality-covid19-cities.json https://aqicn.org/data-platform/covid19/airquality-covid19-cities.json"
   ]
  },
  {
   "cell_type": "markdown",
   "metadata": {},
   "source": [
    "Einwohnerzahlen kommen hier her:"
   ]
  },
  {
   "cell_type": "markdown",
   "metadata": {},
   "source": [
    "https://datahub.io/core/population-city#unsd-citypopulation-year-both #Population of cities beide Geschlechter<br> \n",
    "https://datahub.io/core/population-city#unsd-citypopulation-year-fm #Population of cities nach Geschlechtern getrennt\n"
   ]
  },
  {
   "cell_type": "markdown",
   "metadata": {},
   "source": [
    "# Vorschlag von Nils, wie man ein Skript erstellen kann, um die Daten runterzuladen:\n",
    "\n",
    "Das kannst du mit requests  machen. Zum venv hinzufügen uv add requests  und dan sowas in der Art machen:"
   ]
  },
  {
   "cell_type": "code",
   "execution_count": null,
   "metadata": {},
   "outputs": [],
   "source": [
    "import requests\n",
    "\n",
    "# Der URL der CSV-Datei\n",
    "url = \"https://aqicn.org/data-platform/covid19/report/45108-d76dd600/2015H1\"\n",
    "\n",
    "# Der Name der Datei, unter der sie abgespeichert werden soll\n",
    "filename = \"daten.csv\"\n",
    "\n",
    "# Eine GET-Anfrage senden, um die Datei herunterzuladen\n",
    "response = requests.get(url)\n",
    "\n",
    "# Prüfen, ob die Anfrage erfolgreich war\n",
    "if response.status_code == 200:\n",
    "    # Die Datei in den angegebenen Dateinamen schreiben\n",
    "    with open(filename, 'wb') as f:\n",
    "        f.write(response.content)\n",
    "    print(f\"Datei {filename} erfolgreich heruntergeladen und gespeichert.\")\n",
    "else:\n",
    "    print(f\"Fehler beim Herunterladen der Datei: {response.status_code}\")"
   ]
  },
  {
   "cell_type": "markdown",
   "metadata": {},
   "source": [
    "Vielleicht noch eine Liste mit den urls und dann eine Schleife drum basteln. Das ganze als download_data.py  speichern und mit uv run download_data.py  ausführen."
   ]
  }
 ],
 "metadata": {
  "kernelspec": {
   "display_name": ".venv",
   "language": "python",
   "name": "python3"
  },
  "language_info": {
   "codemirror_mode": {
    "name": "ipython",
    "version": 3
   },
   "file_extension": ".py",
   "mimetype": "text/x-python",
   "name": "python",
   "nbconvert_exporter": "python",
   "pygments_lexer": "ipython3",
   "version": "3.11.11"
  }
 },
 "nbformat": 4,
 "nbformat_minor": 2
}
