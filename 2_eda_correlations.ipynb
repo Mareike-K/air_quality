{
 "cells": [
  {
   "cell_type": "markdown",
   "metadata": {},
   "source": [
    "# Korrelationsanalysen\n",
    "\n",
    "In diesem Notebook werden Korrelationen zwischen Variablen des im Notebook `1_eda_exploration.ipyb` weiter bereinigten Datensatzes ermittelt und ausgewertet.\n",
    "\n",
    "Verwendet werden:\n",
    "- Korrelationsmatrix (Pearson)\n",
    "- Pairplots\n",
    "- lineare Regressionlinien\n",
    "- LOWESS für nicht-lineare Trends\n",
    "\n",
    "📌 **Datenstand:** `cleaned_air_quality_data_2025-03-27.csv`  \n",
    "📁 **Importiert aus:** lokaler Datei (--> gitignore)\n",
    "\n"
   ]
  },
  {
   "cell_type": "markdown",
   "metadata": {},
   "source": [
    "## 📚 Inhaltsverzeichnis \n",
    "(Diese Art von Inhaltsverzeichnis mit Link funktioniert leider in Notebooks nicht, weil die as JSON gespeichert werden und nicht als HTML...)\n",
    "\n",
    "- [0. Datensatz laden](#0-datensatz-laden)\n",
    "- [1. Berechnung der Pearson-Korrelationsmatrix](#1-berechnung_der_pearson-korrelationsmatrix)\n",
    "- [2. Dokumentation der stärksten positiven/negativen Korrelationen & Empfehlung zur Variablenselektion](#2-dokumentation-der-staerksten-korrelationen)\n",
    "- [3. Visuelle Analyse ausgewählter Variablenpaare](#3-visuelle-analyse-ausgewaehlter-variablenpaare)\n",
    "  - [3.1. PM10 vs PM25 (r = 0.84)](#31-️-pm10-vs-pm25-r--084)\n",
    "  - [3.2. NO₂ vs PM25 (r = 0,49)](#32-no-vs-pm25-r--049)\n",
    "  - [3.3. NO₂ vs PM10 (r = 0,42)](#33-no-vs-pm25-r--049)\n",
    "  - [3.4. Humidity vs PM25 (r = 0,13)](#34-humidity-vs-pm25-r--013)\n",
    "  - [3.5. O₃ vs Tavg (r = 0,19)](#35-o-vs-tavg-r--019)\n",
    "  - [3.6. Tmin vs Dew (r = 0.87)](#36-tmin-vs-dew-r--087)\n",
    "  - [3.7 Pres vs Dew (r = -0,43)](#37-pres-vs-dew-r---043)\n",
    "  - [3.8. Pres vs Tmin (r = -0,42)](#38-pres-vs-tmin-r---042)\n",
    "- [4. Bewertung von Art und Stärke der Zusammenhänge](#4-bewertung-von-art-und-stärke-der-zusammenhänge)\n"
   ]
  },
  {
   "cell_type": "markdown",
   "metadata": {},
   "source": [
    "# 0. Datensatz laden"
   ]
  },
  {
   "cell_type": "code",
   "execution_count": null,
   "metadata": {},
   "outputs": [],
   "source": [
    "# imports\n",
    "import numpy as np\n",
    "import pandas as pd\n",
    "import matplotlib.pyplot as plt\n",
    "import seaborn as sns\n",
    "# from scipy.stats import skew\n",
    "%matplotlib inline"
   ]
  },
  {
   "cell_type": "code",
   "execution_count": null,
   "metadata": {},
   "outputs": [],
   "source": [
    "# Settings for displaying floats\n",
    "pd.set_option('display.float_format', '{:,.2f}'.format)"
   ]
  },
  {
   "cell_type": "code",
   "execution_count": null,
   "metadata": {},
   "outputs": [],
   "source": [
    "df = pd.read_csv(\"./data/cleaned_air_quality_data_2025-03-27.csv\")\n",
    "df.head()"
   ]
  },
  {
   "cell_type": "code",
   "execution_count": null,
   "metadata": {},
   "outputs": [],
   "source": [
    "df.shape"
   ]
  },
  {
   "cell_type": "markdown",
   "metadata": {},
   "source": [
    "# 1. Berechnung der Pearson-Korrelationsmatrix\n",
    "\n",
    "Die Korrelationsmatrix enthält alle numerischen Features aus dem Datensatz. Als Maßstab für die Stärke einer Korrelation werden folgende Werte angesetzt:\n",
    "\n",
    "\\> 0.8 = strong correlation\n",
    "\n",
    "0.4 - 0.8 = moderate correlation\n",
    "\n",
    "< 0.4 = weak correlation"
   ]
  },
  {
   "cell_type": "code",
   "execution_count": null,
   "metadata": {},
   "outputs": [],
   "source": [
    "# calculate correlation matrix (Pearson)\n",
    "corr_matrix = df.select_dtypes(include=['number']).corr()\n",
    "\n",
    "# Mask upper triangle\n",
    "mask = np.triu(np.ones_like(corr_matrix, dtype=bool))\n",
    "\n",
    "# Display heatmap\n",
    "plt.figure(figsize=(12, 8))\n",
    "sns.heatmap(corr_matrix, mask=mask, annot=True, fmt=\".2f\", cmap=\"coolwarm\", center=0, linewidths=0.5)\n",
    "plt.title(\"Feature Correlations (Pearson)\");"
   ]
  },
  {
   "cell_type": "code",
   "execution_count": null,
   "metadata": {},
   "outputs": [],
   "source": [
    "# Show only strong and moderate correlations (>|0.4|); leave out main diagonal (1.0)\n",
    "\n",
    "# Calculate matrix\n",
    "corr_matrix = df.select_dtypes(include=['number']).corr()\n",
    "\n",
    "# extract only strong and moderate correlations (>|0.4|); leave out main diagonal (1.0)\n",
    "strong_corrs = corr_matrix[(corr_matrix.abs() > 0.4) & (corr_matrix.abs() < 1.0)]\n",
    "\n",
    "# Convert df to long list (.stack) and reset index\n",
    "strong_corrs = strong_corrs.stack().reset_index()\n",
    "strong_corrs.columns = [\"Feature 1\", \"Feature 2\", \"Korrelation\"]\n",
    "\n",
    "# remove redundant rows (note: the \"<\"-sign here refers to alphabetic order of feature names, not to numbers of any kind!)\n",
    "strong_corrs = strong_corrs.loc[strong_corrs[\"Feature 1\"] < strong_corrs[\"Feature 2\"]]\n",
    "\n",
    "strong_corrs"
   ]
  },
  {
   "cell_type": "markdown",
   "metadata": {},
   "source": [
    "# 2. Dokumentation der stärksten positiven/negativen Korrelationen & Empfehlung zur Variablenselektion\n",
    "\n",
    "Die Korrelationsmatrix zeigt mehrere starke und inhaltlich gut erklärbare Zusammenhänge zwischen den numerischen Variablen. Besonders deutlich sind folgende Muster:\n",
    "\n",
    "**Feinstaub- und Stickstoffdioxidwerte hängen zusammen:**\n",
    "Es besteht eine starke Korrelation zwischen PM10 und PM2.5 (r = 0.84), was plausibel ist, da PM2.5 eine Teilmenge von PM10 ist. Zusätzlich korreliert NO₂ moderat mit beiden Feinstaubkomponenten (r ≈ 0.42–0.49), was auf gemeinsame Emissionsquellen wie Verkehr oder Industrie hindeutet.\n",
    "\n",
    "**Temperaturvariablen sind stark untereinander korreliert:**\n",
    "Die Tagesmitteltemperatur (Tavg) steht in sehr engem Zusammenhang mit Tmin und Tmax (r ≈ 0.97). Auch Tmin und Tmax selbst sind hoch korreliert (r = 0.90). Das ist mathematisch und physikalisch naheliegend und spricht dafür, nicht alle drei Variablen gleichzeitig zu verwenden, um Redundanz zu vermeiden.\n",
    "\n",
    "**Der Taupunkt (Dew) korreliert stark mit Temperatur:**\n",
    "Die stärkste Korrelation liegt zwischen Dew und Tmin (r = 0.87), gefolgt von Tavg (r = 0.82). Dies spiegelt wider, dass die Luftfeuchtigkeit – und damit der Taupunkt – eng mit der Umgebungstemperatur zusammenhängt.\n",
    "\n",
    "**Einige schwächer negative Korrelationen deuten auf atmosphärische Zusammenhänge hin:**\n",
    "Der Luftdruck (Pres) korreliert moderat negativ mit Dew (r = –0.43) und Tmin (r = –0.42), was mit typischen meteorologischen Prozessen in Zusammenhang stehen kann (z. B. feuchtwarme Luft in Tiefdruckgebieten).\n",
    "\n",
    "---\n",
    "\n",
    "Diese Ergebnisse helfen dabei, hoch korrelierte bzw. redundante Variablen zu erkennen und gezielt für weitere Analysen (z. B. Clusteranalyse oder Modellierung) geeignete Features auszuwählen.\n",
    "\n",
    "Für viele Verfahren, wie z. B. Clustering oder Regressionsmodelle, ist es ratsam, von stark korrelierten Variablen jeweils nur eine zu verwenden, um Verzerrungen oder sogenannte Multikollinearität zu vermeiden.\n",
    "\n",
    "Alternativ können Hauptkomponentenanalyse (PCA) oder andere dimensionalitätsreduzierende Verfahren genutzt werden, um mehrere stark korrelierte Variablen zu einer gemeinsamen Komponente zusammenzufassen, ohne wesentliche Information zu verlieren.\n"
   ]
  },
  {
   "cell_type": "markdown",
   "metadata": {},
   "source": [
    "# 3. Visuelle Analyse ausgewählter Variablenpaare\n",
    "\n",
    "Zur vertieften Analyse einzelner Zusammenhänge wurden im Folgenden ausgewählte Variablenpaare visuell untersucht. Die Auswahl dieser Paare basiert nicht ausschließlich auf den höchsten Pearson-Korrelationskoeffizienten, sondern folgt einer Kombination aus statistischer Auffälligkeit und inhaltlicher Relevanz. Berücksichtigt wurden sowohl stark korrelierte Variablen (z. B. PM10–PM25), als auch Paare mit moderater Korrelation, deren Beziehung aus umweltwissenschaftlicher Sicht besonders interessant erscheint (z. B. O₃–Tavg oder Humidity–PM25).\n",
    "\n",
    "Ziel dieser Analyse ist es, nicht nur die Stärke, sondern auch die Form der Zusammenhänge sichtbar zu machen – etwa durch lineare Regressionslinien und LOWESS-Kurven – und gegebenenfalls Hinweise auf nichtlineare oder stadtabhängige Strukturen zu erkennen.\n",
    "\n",
    "Die Pairplots werden auf einem repräsentativen Sample von 2000 Datenpunkten berechnet."
   ]
  },
  {
   "cell_type": "code",
   "execution_count": null,
   "metadata": {},
   "outputs": [],
   "source": [
    "features = [\"Pm25\", \"Pm10\", \"No2\", \"O3\", \"Co\", \"Tavg\", \"Humidity\", \"Dew\", \"Pres\"]\n",
    "sample_df = df[features].dropna().sample(n=2000, random_state=42)\n",
    "sns.pairplot(sample_df, diag_kind=\"kde\", plot_kws={\"alpha\": 0.4, \"s\": 15})"
   ]
  },
  {
   "cell_type": "markdown",
   "metadata": {},
   "source": [
    "Die Histogramme im Pairplot bestätigen noch einmal die im Notebook 1_eda_exploration berechnete Schiefe vieler Variablen:\n",
    "\n",
    "Schadstoffe wie Pm25, NO2 und O3 sind erwartungsgemäß rechtsschief verteilt, während Temperatur (Tavg), Luftfeuchtigkeit (Humidity) und Taupunkt (Dew) eine leichte Linksschiefe zeigen. Der Luftdruck (Pres) hebt sich durch seine nahezu normalverteilte Form ab."
   ]
  },
  {
   "cell_type": "markdown",
   "metadata": {},
   "source": [
    "#### Überprüfung auffälliger Korrelationen mit linearer Regressionlinie und/oder LOWESS (nichtlinearer Trend)\n",
    "\n",
    "Es werden einige Korrelationen herausgegriffen und näher untersucht. Dabei werden nicht Korrelationen in Betracht gezogen, die einen hohen Pearson-Koeffizienten haben (z.B. PM10 vs PM25), sondern auch solche, die möglicherweise keine rein lineare Beziehung haben und dadurch nicht durch einen hohen Pearson-Koeffizienten auffallen.\n",
    "\n",
    "Um die Art des Zusammenhangs (lienar oder nicht) zwischen zwei Features eindeutig zu identifizieren, werden sowohl lineare Regression als auch LOWESS (Local Weighted Scatterplot Smoothing) angewendet.\n",
    "\n",
    "Die Samplegröße beträgt jeweils 3000 Datenpunkte. Zur Replizierbarkeit wird ein Random State von 42 festgelegt. NaN-Werte werden für alle Berechnungen entfernt (weil Seaborn damit nicht umgehen kann)."
   ]
  },
  {
   "cell_type": "markdown",
   "metadata": {},
   "source": [
    "## 3.1. PM10 vs PM25 (r = 0.84)\n",
    "\n",
    "Pm25 ist eine Teilmenge von Pm10. Sind beide Features relevant für spätere Modellierungen oder ist eines davon redundant?"
   ]
  },
  {
   "cell_type": "code",
   "execution_count": null,
   "metadata": {},
   "outputs": [],
   "source": [
    "subset = df[[\"Pm10\", \"Pm25\"]].dropna().sample(n=3000, random_state=42)\n",
    "\n",
    "plt.figure(figsize=(8, 5))\n",
    "sns.regplot(data=subset, x=\"Pm10\", y=\"Pm25\", lowess=True,\n",
    "            scatter_kws={\"alpha\": 0.3, \"s\": 15},\n",
    "            line_kws={\"color\": \"crimson\"})\n",
    "\n",
    "plt.title(\"LOWESS-Regressionskurve: PM10 vs. PM2.5\")\n",
    "plt.xlabel(\"PM10-Konzentration (µg/m³)\")\n",
    "plt.ylabel(\"PM2.5-Konzentration (µg/m³)\")\n",
    "plt.grid(True);"
   ]
  },
  {
   "cell_type": "markdown",
   "metadata": {},
   "source": [
    "Die LOWESS-Analyse bestätigt den erwarteten sehr starken linearen Zusammenhang zwischen PM10 und PM2.5.\n",
    "\n",
    "Im zentralen Bereich steigt PM2.5 nahezu proportional zu PM10, mit nur einer leichten Abflachung bei höheren PM10-Werten.\n",
    "Diese minimale Abweichung könnte darauf hindeuten, dass bei sehr hoher Feinstaubbelastung der relative Anteil von groben Partikeln (PM10 ohne PM2.5) etwas zunimmt.\n",
    "\n",
    "Aufgrund der wenigen Datenpunkte in den extremen Bereichen kann für diesen keine Belastbare Aussage gemacht werden."
   ]
  },
  {
   "cell_type": "markdown",
   "metadata": {},
   "source": [
    "## 3.2. NO₂ vs PM25 (r = 0,49)"
   ]
  },
  {
   "cell_type": "code",
   "execution_count": null,
   "metadata": {},
   "outputs": [],
   "source": [
    "sample_df = df[[\"No2\", \"Pm25\"]].dropna().sample(n=3000, random_state=42)\n",
    "\n",
    "plt.figure(figsize=(8, 5))\n",
    "sns.regplot(data=sample_df, x=\"No2\", y=\"Pm25\",\n",
    "            scatter_kws={\"alpha\":0.3, \"s\":15},\n",
    "            line_kws={\"color\": \"darkred\"})\n",
    "\n",
    "plt.title(\"Zusammenhang zwischen NO₂ und PM2.5 (Stichprobe)\")\n",
    "plt.xlabel(\"NO₂-Konzentration (µg/m³)\")\n",
    "plt.ylabel(\"PM2.5-Konzentration (µg/m³)\")\n",
    "plt.grid(True)"
   ]
  },
  {
   "cell_type": "markdown",
   "metadata": {},
   "source": [
    "Der regplot zwischen NO₂ und PM2.5 zeigt eine positive lineare Tendenz, was plausibel erscheint, da beide Schadstoffe häufig durch Verkehr oder industrielle Prozesse freigesetzt werden.\n",
    "\n",
    "Aufgrund der breiten Streuung und fehlender Kontextvariablen ist die Regressionslinie jedoch nicht als kausales Modell, sondern lediglich als explorative Visualisierung einer Korrelation zu verstehen.\n",
    "\n",
    "Der Konfidenzbereich ist nur für den Bereich gut, in dem die meisten Messwerte liegen (Problem: Heteroskadastizität). Die folgende Darstellung zeigt nur diesen zentralen Wertebereich:"
   ]
  },
  {
   "cell_type": "code",
   "execution_count": null,
   "metadata": {},
   "outputs": [],
   "source": [
    "subset = df[(df[\"No2\"] < 40) & (df[\"Pm25\"] < 200)][[\"No2\", \"Pm25\"]].dropna().sample(n=3000, random_state=42)\n",
    "\n",
    "plt.figure(figsize=(8, 5))\n",
    "sns.regplot(data=subset, x=\"No2\", y=\"Pm25\",\n",
    "            scatter_kws={\"alpha\": 0.3, \"s\": 15},\n",
    "            line_kws={\"color\": \"darkblue\"})\n",
    "\n",
    "plt.title(\"Regression innerhalb des zentralen Wertebereichs (No2 < 40, Pm25 < 200)\")\n",
    "plt.xlabel(\"NO₂-Konzentration (µg/m³)\")\n",
    "plt.ylabel(\"PM2.5-Konzentration (µg/m³)\")\n",
    "plt.grid(True);"
   ]
  },
  {
   "cell_type": "markdown",
   "metadata": {},
   "source": [
    "Innerhalb des zentralen Wertebereichs ist eine lineare Verteilung deutlich sichtbar, und auch das Konfidenzintervall ist \"akzeptabel\"."
   ]
  },
  {
   "cell_type": "code",
   "execution_count": null,
   "metadata": {},
   "outputs": [],
   "source": [
    "subset = df[[\"No2\", \"Pm25\"]].dropna().sample(n=3000, random_state=42)\n",
    "\n",
    "plt.figure(figsize=(8, 5))\n",
    "sns.regplot(data=subset, x=\"No2\", y=\"Pm25\", lowess=True,\n",
    "            scatter_kws={\"alpha\": 0.3, \"s\": 15},\n",
    "            line_kws={\"color\": \"mediumvioletred\"})\n",
    "\n",
    "plt.title(\"LOWESS-Regressionskurve für NO₂ und PM2.5\")\n",
    "plt.xlabel(\"NO₂-Konzentration (µg/m³)\")\n",
    "plt.ylabel(\"PM2.5-Konzentration (µg/m³)\")\n",
    "plt.grid(True)"
   ]
  },
  {
   "cell_type": "markdown",
   "metadata": {},
   "source": [
    "Die Anwendung von LOWESS auf den gesamten Wertebereich von NO₂ und PM2.5 zeigt, dass der Zusammenhang nicht durchgängig linear ist.\n",
    "Besonders im oberen Wertebereich (ab ~70 µg/m³ NO₂) ist die Punktverteilung zu dünn und uneinheitlich, was zu starken Schwankungen in der Regressionskurve führt.\n",
    "\n",
    "Im zentralen Wertebereich (NO₂ < 40, PM2.5 < 200) zeigt sich hingegen ein stabiler, positiver Trend.\n",
    "\n",
    "Für lineare Analysen ist daher eine Einschränkung auf diesen Bereich sinnvoll."
   ]
  },
  {
   "cell_type": "markdown",
   "metadata": {},
   "source": [
    "## 3.3. NO₂ vs PM10 (r = 0,42)\n",
    "\n",
    "Der Zusammenhang sollte ähnlich sein wie der zwischen No2 und PM10."
   ]
  },
  {
   "cell_type": "code",
   "execution_count": null,
   "metadata": {},
   "outputs": [],
   "source": [
    "subset = df[[\"No2\", \"Pm10\"]].dropna().sample(n=3000, random_state=42)\n",
    "\n",
    "plt.figure(figsize=(8, 5))\n",
    "sns.regplot(data=subset, x=\"No2\", y=\"Pm10\", lowess=True,\n",
    "            scatter_kws={\"alpha\": 0.3, \"s\": 15},\n",
    "            line_kws={\"color\": \"darkorange\"})\n",
    "\n",
    "plt.title(\"LOWESS-Regressionskurve für NO₂ und PM10\")\n",
    "plt.xlabel(\"NO₂-Konzentration (µg/m³)\")\n",
    "plt.ylabel(\"PM10-Konzentration (µg/m³)\")\n",
    "plt.grid(True);"
   ]
  },
  {
   "cell_type": "markdown",
   "metadata": {},
   "source": [
    "Die LOWESS-Analyse des Zusammenhangs zwischen NO₂ und PM10 zeigt einen insgesamt positiven Trend, der im Bereich bis etwa 40 µg/m³ NO₂ weitgehend linear verläuft. Ab etwa 40 µg/m³ NO₂ wird der Zusammenhang flacher, was auf eine Sättigung oder zunehmende Streuung hinweisen könnte. In diesem Bereich sind jedoch nur wenige Datenpunkte vorhanden, sodass der Verlauf der Kurve dort nicht belastbar interpretiert werden sollte.\n",
    "\n",
    "Eine lineare Regression könnte im unteren Bereich sinnvoll sein, sollte aber auf den zentralen Wertebereich beschränkt werden.\n",
    "\n",
    "--> Der Zusammenhang ist also ähnlich wie der zwischen NO₂ und PM10."
   ]
  },
  {
   "cell_type": "markdown",
   "metadata": {},
   "source": [
    "## 3.4. Humidity vs PM25 (r = 0,13)"
   ]
  },
  {
   "cell_type": "code",
   "execution_count": null,
   "metadata": {},
   "outputs": [],
   "source": [
    "subset = df[[\"Humidity\", \"Pm25\"]].dropna().sample(n=3000, random_state=42)\n",
    "\n",
    "plt.figure(figsize=(8, 5))\n",
    "sns.regplot(data=subset, x=\"Humidity\", y=\"Pm25\", lowess=True,\n",
    "            scatter_kws={\"alpha\": 0.3, \"s\": 15},\n",
    "            line_kws={\"color\": \"teal\"})\n",
    "\n",
    "plt.title(\"LOWESS-Regressionskurve: Luftfeuchtigkeit vs. PM2.5\")\n",
    "plt.xlabel(\"Relative Luftfeuchtigkeit (%)\")\n",
    "plt.ylabel(\"PM2.5-Konzentration (µg/m³)\")\n",
    "plt.grid(True);"
   ]
  },
  {
   "cell_type": "markdown",
   "metadata": {},
   "source": [
    "Die LOWESS-Regression zwischen Luftfeuchtigkeit (Humidity) und PM2.5 zeigt, wie erwartet, einen klar negativen Zusammenhang.\n",
    "Bei niedriger Luftfeuchtigkeit (unter 20 %) liegen die PM2.5-Werte durchschnittlich bei etwa 70 µg/m³, während sie bei sehr hoher Luftfeuchtigkeit (über 90 %) auf unter 50 µg/m³ sinken.\n",
    "\n",
    "Dieser Verlauf ist nicht ganz linear, sondern flacht bei zunehmender Feuchtigkeit ab – ein Hinweis auf sättigende Effekte oder natürliche Begrenzungen.\n",
    "\n",
    "Eine lineare Regression wäre hier möglich, aber nicht unbedingt angemessen – LOWESS zeigt die tatsächliche Struktur des Zusammenhangs besser."
   ]
  },
  {
   "cell_type": "markdown",
   "metadata": {},
   "source": [
    "## 3.5. O₃ vs Tavg (r = 0,19)"
   ]
  },
  {
   "cell_type": "code",
   "execution_count": null,
   "metadata": {},
   "outputs": [],
   "source": [
    "subset = df[[\"O3\", \"Tavg\"]].dropna().sample(n=3000, random_state=42)\n",
    "plt.figure(figsize=(8, 5))\n",
    "sns.regplot(data=subset, x=\"Tavg\", y=\"O3\", lowess=True,\n",
    "            scatter_kws={\"alpha\": 0.3, \"s\": 15},\n",
    "            line_kws={\"color\": \"darkgreen\"})\n",
    "\n",
    "plt.title(\"Nichtlinearer Zusammenhang zwischen Temperatur (Tavg) und Ozon (O3)\")\n",
    "plt.xlabel(\"Durchschnittstemperatur (°C)\")\n",
    "plt.ylabel(\"Ozonkonzentration (µg/m³)\")\n",
    "plt.grid(True);"
   ]
  },
  {
   "cell_type": "markdown",
   "metadata": {},
   "source": [
    "Die Analyse des Zusammenhangs zwischen Temperatur (Tavg) und Ozonkonzentration (O3) mit Hilfe einer LOWESS-Regression zeigt einen klar nichtlinearen Verlauf:\n",
    "\n",
    "- Bei Temperaturen zwischen 0 und etwa 20 °C steigt die Ozonkonzentration tendenziell an – ein plausibler Effekt durch sonnengetriebene Bildung.\n",
    "- Ab ca. 20 °C sinkt die Konzentration jedoch wieder.\n",
    "\n",
    "Dieser geknickte Verlauf weist darauf hin, dass eine lineare Regressionsanalyse hier nicht geeignet ist, um den Zusammenhang korrekt zu modellieren.\n",
    "\n",
    "➡️ „Ozon-Peak-Temperatur-Phänomen“"
   ]
  },
  {
   "cell_type": "markdown",
   "metadata": {},
   "source": [
    "## 3.6. Tmin vs Dew (r = 0.87)\n",
    "\n",
    "Die Temperatur beeinflusst den Taupunkt. Der Taupunkt ist der Punkt, bei dem die Luft gesättigt ist und Wasserdampf kondensiert. Er ist immer kleiner oder gleich der aktuellen Lufttemperatur. Er nähert sich der Lufttemperatur vor allem nachts, wenn es abkühlt. Daher ist der Zusammenhang mit Tmin am stärksten und wird hier exemplarisch ausgewählt."
   ]
  },
  {
   "cell_type": "code",
   "execution_count": null,
   "metadata": {},
   "outputs": [],
   "source": [
    "subset = df[[\"Tmin\", \"Dew\"]].dropna().sample(n=3000, random_state=42)\n",
    "\n",
    "plt.figure(figsize=(8, 5))\n",
    "sns.regplot(data=subset, x=\"Tmin\", y=\"Dew\", lowess=True,\n",
    "            scatter_kws={\"alpha\": 0.3, \"s\": 15},\n",
    "            line_kws={\"color\": \"mediumseagreen\"})\n",
    "\n",
    "plt.title(\"LOWESS-Regressionskurve: Tmin vs. Taupunkt (Dew)\")\n",
    "plt.xlabel(\"Tiefsttemperatur (°C)\")\n",
    "plt.ylabel(\"Taupunkt (°C)\")\n",
    "plt.grid(True);"
   ]
  },
  {
   "cell_type": "markdown",
   "metadata": {},
   "source": [
    "Es zeigt sich ein deutlicher linearer Zusammenhang ohne nennenswerte Knicke.\n",
    "\n",
    "Vergleich von LOWESS und linearer Regressionlinie:"
   ]
  },
  {
   "cell_type": "code",
   "execution_count": null,
   "metadata": {},
   "outputs": [],
   "source": [
    "subset = df[[\"Tmin\", \"Dew\"]].dropna().sample(n=3000, random_state=42)\n",
    "\n",
    "plt.figure(figsize=(8, 5))\n",
    "\n",
    "# LOWESS\n",
    "sns.regplot(data=subset, x=\"Tmin\", y=\"Dew\", lowess=True,\n",
    "            scatter_kws={\"alpha\": 0.3, \"s\": 15},\n",
    "            line_kws={\"color\": \"mediumseagreen\", \"label\": \"LOWESS\"})\n",
    "\n",
    "# Lineare Regression\n",
    "sns.regplot(data=subset, x=\"Tmin\", y=\"Dew\", lowess=False,\n",
    "            scatter=False,\n",
    "            line_kws={\"color\": \"orangered\", \"linestyle\": \"--\", \"label\": \"Linear\"})\n",
    "\n",
    "plt.title(\"Tmin vs. Taupunkt (LOWESS & Lineare Regression)\")\n",
    "plt.xlabel(\"Tiefsttemperatur (°C)\")\n",
    "plt.ylabel(\"Taupunkt (°C)\")\n",
    "plt.legend()\n",
    "plt.grid(True);\n"
   ]
  },
  {
   "cell_type": "markdown",
   "metadata": {},
   "source": [
    "Tiefsttemperatur (Tmin) und Taupunkt (Dew) sind hoch korreliert (r = 0.87).\n",
    "\n",
    "Ein LOWESS-Plot offenbart einen weitgehend linearen Anstieg des Taupunkts mit zunehmender Temperatur, insbesondere im Bereich unter 0 °C. In höheren Temperaturbereichen wird die Steigung etwas flacher, was auf eine schwächer werdende Kopplung hinweisen könnte.\n",
    "\n",
    "Zum Vergleich wurde zusätzlich eine lineare Regressionslinie mit Konfidenzintervall geplottet. Sie verläuft insgesamt flacher als die LOWESS-Kurve. Das Konfidenzband ist sehr schmal, was auf eine geringe Streuung und hohe Vorhersagbarkeit hinweist.\n",
    "\n",
    "Der Vergleich zeigt, dass eine lineare Regression im zentralen Bereich zwar möglich, aber nicht ideal ist.\n",
    "LOWESS eignet sich, um die **leichte** Nichtlinearität sichtbar zu machen und kann für explorative Zwecke empfohlen werden."
   ]
  },
  {
   "cell_type": "markdown",
   "metadata": {},
   "source": [
    "## 3.7 Pres vs Dew (r = -0,43)"
   ]
  },
  {
   "cell_type": "code",
   "execution_count": null,
   "metadata": {},
   "outputs": [],
   "source": [
    "subset = df[[\"Pres\", \"Dew\"]].dropna().sample(n=3000, random_state=42)\n",
    "\n",
    "plt.figure(figsize=(8, 5))\n",
    "sns.regplot(data=subset, x=\"Pres\", y=\"Dew\", lowess=True,\n",
    "            scatter_kws={\"alpha\": 0.3, \"s\": 15},\n",
    "            line_kws={\"color\": \"darkorange\"})\n",
    "\n",
    "plt.title(\"LOWESS-Regressionskurve: Luftdruck vs. Taupunkt\")\n",
    "plt.xlabel(\"Luftdruck (hPa)\")\n",
    "plt.ylabel(\"Taupunkt (°C)\")\n",
    "plt.grid(True)"
   ]
  },
  {
   "cell_type": "markdown",
   "metadata": {},
   "source": [
    "Die LOWESS-Analyse zwischen Luftdruck (Pres) und Taupunkt (Dew) zeigt einen nichtlinearen, umgekehrt U-förmigen Zusammenhang.\n",
    "Bei niedrigen Druckwerten steigt der Taupunkt zunächst an, flacht im mittleren Bereich ab und fällt schließlich bei hohem Druck steil ab.\n",
    "\n",
    "Dies unterstützt die meteorologische Annahme, dass Tiefdruck mit feuchterer Luft (höherem Taupunkt) und Hochdruck mit trockenerer Luft (niedrigerem Taupunkt) einhergeht."
   ]
  },
  {
   "cell_type": "markdown",
   "metadata": {},
   "source": [
    "## 3.8. Pres vs Tmin (r = -0,42)"
   ]
  },
  {
   "cell_type": "code",
   "execution_count": null,
   "metadata": {},
   "outputs": [],
   "source": [
    "subset = df[[\"Pres\", \"Tmin\"]].dropna().sample(n=3000, random_state=42)\n",
    "\n",
    "plt.figure(figsize=(8, 5))\n",
    "sns.regplot(data=subset, x=\"Pres\", y=\"Tmin\", lowess=True,\n",
    "            scatter_kws={\"alpha\": 0.3, \"s\": 15},\n",
    "            line_kws={\"color\": \"darkorange\"})\n",
    "\n",
    "plt.title(\"LOWESS-Regressionskurve: Luftdruck vs. Tiefsttemperatur\")\n",
    "plt.xlabel(\"Luftdruck (hPa)\")\n",
    "plt.ylabel(\"Tiefsttemperatur (°C)\")\n",
    "plt.grid(True)"
   ]
  },
  {
   "cell_type": "markdown",
   "metadata": {},
   "source": [
    "Die LOWESS-Analyse zwischen Luftdruck (Pres) und Tiefsttemperatur (Tmin) zeigt einen symmetrisch gebogenen Zusammenhang, ähnlich wie bei Pres und Dew.\n",
    "\n",
    "- In Bereichen mit niedrigem Druck steigen die nächtlichen Tiefsttemperaturen zunächst leicht an, was auf eine isolierende Wirkung von Wolken und Wetteraktivität bei Tiefdruck hindeutet.\n",
    "- Ab einem Druck von etwa 1008 hPa kehrt sich der Effekt um: Bei hohem Druck sinken die Tiefsttemperaturen, vermutlich durch klare Nächte mit stärkerer Abkühlung.\n",
    "\n",
    "Die Kurve ist harmonisch geformt und belegt eine meteorologisch plausible, nichtlineare Beziehung."
   ]
  },
  {
   "cell_type": "markdown",
   "metadata": {},
   "source": [
    "\n",
    "# 4. Bewertung von Art und Stärke der Zusammenhänge\n",
    "\n",
    "Die ausführliche Analyse der Korrelationen – unterstützt durch klassische Korrelationsmatrizen, Regressionsplots und LOWESS-Kurven – hat gezeigt, dass die betrachteten Variablen sinnvolle, teils lineare, teils nichtlineare Zusammenhänge aufweisen, die physikalisch, meteorologisch oder umweltbezogen plausibel erklärbar sind.\n",
    "\n",
    "Dabei konnten sowohl bekannte Beziehungen (z. B. zwischen Feinstaub und Stickstoffdioxid oder zwischen Taupunkt und Temperatur) als auch weniger offensichtliche, aber nachvollziehbare Muster (z. B. der Einfluss des Luftdrucks auf Temperatur und Feuchtigkeit) sichtbar gemacht werden.\n",
    "\n",
    "Insgesamt deutet die Korrelationenanalyse darauf hin, dass es sich um natürliche, glaubwürdige und konsistente Umweltdaten handelt, die keine Anzeichen künstlicher Verzerrung oder unplausibler Artefakte zeigen.\n",
    "\n",
    "Damit ist der Datensatz in seiner bereinigten Form eine solide Grundlage für weiterführende Machine-Learning-Modelle. Die erkannten Strukturen können gezielt genutzt werden, um sinnvolle Features zu definieren, Zusammenhänge zu explorieren und vorhersagende Modelle zu entwickeln, die auf realweltlichen Mustern basieren."
   ]
  }
 ],
 "metadata": {
  "kernelspec": {
   "display_name": ".venv",
   "language": "python",
   "name": "python3"
  },
  "language_info": {
   "codemirror_mode": {
    "name": "ipython",
    "version": 3
   },
   "file_extension": ".py",
   "mimetype": "text/x-python",
   "name": "python",
   "nbconvert_exporter": "python",
   "pygments_lexer": "ipython3",
   "version": "3.11.4"
  }
 },
 "nbformat": 4,
 "nbformat_minor": 2
}
