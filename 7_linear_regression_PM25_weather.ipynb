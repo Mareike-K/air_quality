{
 "cells": [
  {
   "cell_type": "markdown",
   "metadata": {},
   "source": [
    "Zusammenhang zwischen PM25-Werten und Wetter\n",
    "\n",
    "erst mal NUR in Atlanta, dann in Hamburg\n",
    "\n"
   ]
  },
  {
   "cell_type": "code",
   "execution_count": null,
   "metadata": {},
   "outputs": [],
   "source": [
    "# imports\n",
    "import pandas as pd\n",
    "import os\n",
    "import numpy as np\n",
    "import matplotlib\n",
    "import matplotlib.pyplot as plt\n",
    "import seaborn as sns\n",
    "import datetime\n",
    "%matplotlib inline"
   ]
  },
  {
   "cell_type": "code",
   "execution_count": null,
   "metadata": {},
   "outputs": [],
   "source": [
    "df = pd.read_csv(\"data/cleaned_air_quality_data_2025-03-27.csv\")\n",
    "df.head()"
   ]
  },
  {
   "cell_type": "code",
   "execution_count": null,
   "metadata": {},
   "outputs": [],
   "source": [
    "df.columns"
   ]
  },
  {
   "cell_type": "code",
   "execution_count": null,
   "metadata": {},
   "outputs": [],
   "source": [
    "# Filtern des DataFrames für Hamburg und Atlanta\n",
    "df_atlanta = df[df['City'].isin(['Atlanta'])]\n",
    "\n",
    "# Überprüfung der ersten Zeilen des gefilterten DataFrames\n",
    "print(df_atlanta.head())"
   ]
  },
  {
   "cell_type": "markdown",
   "metadata": {},
   "source": [
    "Df erstellen mit Spalten für Zeit, Zielschadstoff (PM2.5) und ausgewählten Wettereigenschaften, die "
   ]
  },
  {
   "cell_type": "code",
   "execution_count": null,
   "metadata": {},
   "outputs": [],
   "source": [
    "# Auswahl der relevanten Spalten für die Analyse\n",
    "df_atlanta_pm25 = df_atlanta[['Year', 'Month', 'Day', 'Pm25', 'Tavg', 'Humidity', 'Prcp', 'Wspd', 'Pres']]\n",
    "\n",
    "# Überprüfung der ersten Zeilen des neuen DataFrames\n",
    "print(df_atlanta_pm25.head())\n"
   ]
  },
  {
   "cell_type": "code",
   "execution_count": null,
   "metadata": {},
   "outputs": [],
   "source": [
    "# Berechnung der Korrelationsmatrix\n",
    "correlation_matrix = df_atlanta_pm25[['Pm25', 'Tavg', 'Humidity', 'Prcp', 'Wspd', 'Pres']].corr()\n",
    "\n",
    "# Visualisierung der Korrelationsmatrix mit 'center=0'\n",
    "import seaborn as sns\n",
    "import matplotlib.pyplot as plt\n",
    "\n",
    "plt.figure(figsize=(8, 6))\n",
    "sns.heatmap(correlation_matrix, annot=True, cmap='coolwarm', fmt='.2f', center=0)\n",
    "plt.title('Korrelation zwischen PM2.5 und Wetterdaten in Atlanta')\n",
    "plt.show()\n"
   ]
  },
  {
   "cell_type": "markdown",
   "metadata": {},
   "source": [
    "Die negative Korrelation mit der Windgeschwindigkeit ist die stärkste. Das bedeutet, dass in Zeiten mit wenig Wind die PM2.5-Werte tendenziell höher sind, was darauf hindeutet, dass Wind eine wichtige Rolle bei der Verteilung und Dispersion von Feinstaub spielt. Dies ist zu erwarten, da Wind dazu beiträgt, Luftschadstoffe zu vertreiben, während ruhiges Wetter (wenig Wind) zu einer Ansammlung von Schadstoffen führen kann."
   ]
  },
  {
   "cell_type": "code",
   "execution_count": null,
   "metadata": {},
   "outputs": [],
   "source": [
    "# Erstelle Scatterplots für jede Wettervariable im Vergleich zu PM2.5\n",
    "variables = ['Tavg', 'Humidity', 'Prcp', 'Wspd', 'Pres']\n",
    "plt.figure(figsize=(12, 10))\n",
    "\n",
    "for i, var in enumerate(variables, 1):\n",
    "    plt.subplot(2, 3, i)  # 2 Zeilen, 3 Spalten\n",
    "    plt.scatter(df_atlanta_pm25[var], df_atlanta_pm25['Pm25'], alpha=0.6)\n",
    "    plt.title(f'Scatterplot: PM2.5 vs {var}')\n",
    "    plt.xlabel(var)\n",
    "    plt.ylabel('PM2.5 (µg/m³)')\n",
    "    plt.grid(True)\n",
    "\n",
    "plt.tight_layout();\n"
   ]
  },
  {
   "cell_type": "markdown",
   "metadata": {},
   "source": [
    "Sagt mir jetzt nicht so viel.\n",
    "\n",
    "Wir machen jetzt mal eine multiple lineare Regression (also mit mehreren Variablen) und schauen, was da rauskommt.\n",
    "\n",
    "Aber dazu müssen wir erst die NaN-Werte behandeln.\n",
    "\n",
    "Möglichkeiten:\n",
    "Wir haben Zeitreihen, also könnten wir vom Vortag aus imputieren.\n",
    "Wir können aber auch Mittelwerte nehmen. Und das halte ich hier für sinnvoll."
   ]
  },
  {
   "cell_type": "code",
   "execution_count": null,
   "metadata": {},
   "outputs": [],
   "source": [
    "# Inputiere NaN-Werte mit dem Median der jeweiligen Spalte\n",
    "df_atlanta_pm25.fillna(df_atlanta_pm25.median(), inplace=True)\n",
    "\n",
    "# Überprüfung, ob NaN-Werte noch vorhanden sind\n",
    "print(df_atlanta_pm25.isna().sum())\n"
   ]
  },
  {
   "cell_type": "code",
   "execution_count": null,
   "metadata": {},
   "outputs": [],
   "source": [
    "from sklearn.linear_model import LinearRegression\n",
    "\n",
    "# Definiere die unabhängigen Variablen (Wetterdaten)\n",
    "X = df_atlanta_pm25[['Tavg', 'Humidity', 'Prcp', 'Wspd', 'Pres']]\n",
    "\n",
    "# Definiere die abhängige Variable (PM2.5)\n",
    "y = df_atlanta_pm25['Pm25']\n",
    "\n",
    "# Lineares Regressionsmodell erstellen und trainieren\n",
    "model = LinearRegression()\n",
    "model.fit(X, y)\n",
    "\n",
    "# Ergebnisse anzeigen\n",
    "print('Koeffizienten:', model.coef_)\n",
    "print('Intercept:', model.intercept_)\n"
   ]
  },
  {
   "cell_type": "code",
   "execution_count": null,
   "metadata": {},
   "outputs": [],
   "source": [
    "# Berechnung des Bestimmtheitsmaßes (R²)\n",
    "r_squared = model.score(X, y)\n",
    "\n",
    "# Ausgabe des R²-Werts\n",
    "print(f'Bestimmtheitsmaß (R²): {r_squared:.4f}')\n"
   ]
  },
  {
   "cell_type": "markdown",
   "metadata": {},
   "source": [
    "Der R²-Wert ist recht niedrig. Das wundert mich nicht, da wir auch die Wettervariablen einbezogen haben, die kaum eine (lineare) Korrelation mit PM2.5 aufweisen. Wir wiederholen jeztt mal die Regressionsanalyse ohne die Variable \"Humidity\" und schauen, ob das den R²-Wert wverbessert. Wenn ja, würde das heißen, dass Humidity störendes Rauschen verursacht."
   ]
  },
  {
   "cell_type": "code",
   "execution_count": null,
   "metadata": {},
   "outputs": [],
   "source": [
    "# Entferne 'Humidity' aus den unabhängigen Variablen\n",
    "X_new = df_atlanta_pm25[['Tavg', 'Prcp', 'Wspd', 'Pres']]\n",
    "\n",
    "# Neues Modell ohne 'Humidity' trainieren\n",
    "model_new = LinearRegression()\n",
    "model_new.fit(X_new, y)\n",
    "\n",
    "# Berechnung des neuen Bestimmtheitsmaßes (R²)\n",
    "r_squared_new = model_new.score(X_new, y)\n",
    "\n",
    "# Ausgabe des neuen R²-Werts\n",
    "print(f'Neues Bestimmtheitsmaß (R²) ohne Luftfeuchtigkeit: {r_squared_new:.4f}')\n"
   ]
  }
 ],
 "metadata": {
  "kernelspec": {
   "display_name": ".venv",
   "language": "python",
   "name": "python3"
  },
  "language_info": {
   "codemirror_mode": {
    "name": "ipython",
    "version": 3
   },
   "file_extension": ".py",
   "mimetype": "text/x-python",
   "name": "python",
   "nbconvert_exporter": "python",
   "pygments_lexer": "ipython3",
   "version": "3.11.4"
  }
 },
 "nbformat": 4,
 "nbformat_minor": 2
}
