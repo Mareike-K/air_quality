{
 "cells": [
  {
   "cell_type": "markdown",
   "metadata": {},
   "source": [
    "# Zeitreihenanalyse\n",
    "\n",
    "In diesem Notebook werden einfache Zeitreihenanalysen und deren deskriptive statistische Modellierung mittels Zeitreihenzerlegung vorgestellt. Als Beispiel soll die Entwicklung der Feinstaubbelastung mit PM2.5 in Hamburg mit der In Atlanta analysiert werden.\n",
    "\n",
    "Hamburg und Atlanta sind beides wichtige, international ausgerichtete urbane Zentren, in unterschiedlichen Regionen. Hier einige Gemeinsamkeiten:\n",
    "\n",
    "- **Wirtschaft und Handel**:\n",
    "Hamburg ist einer der bedeutendsten Hafen- und Logistikstandorte Europas, während Atlanta als bedeutender Verkehrsknotenpunkt und Wirtschaftszentrum im Süden der USA gilt. Beide Städte spielen eine zentrale Rolle im regionalen und internationalen Handel.\n",
    "\n",
    "- **Urbanität und internationale Ausrichtung**:\n",
    "Sowohl Hamburg als auch Atlanta sind multikulturelle Metropolen, die als regionale Drehscheiben fungieren und internationale Unternehmen sowie vielfältige Bevölkerungsschichten anziehen.\n",
    "\n",
    "- **Saisonale Dynamik**:\n",
    "Beide liegen in der nördlichen Hemisphäre und erleben saisonale Veränderungen, auch wenn ihre Klimatypen unterschiedlich sind (maritimes Klima in Hamburg versus subtropisches Klima in Atlanta). Diese Saisonalität spielt in beiden Fällen eine Rolle bei der Entwicklung der Luftqualität.\n",
    "\n",
    "Diese Gemeinsamkeiten machen den Vergleich in Bezug auf die Entwicklung der Feinstaubbelastung spannend, da beide Städte trotz unterschiedlicher klimatischer Rahmenbedingungen und regionaler Besonderheiten ähnliche Herausforderungen im urbanen Umfeld haben.\n",
    "\n",
    "Verwendet werden:\n",
    "- matplotlib.pyplot für einfache Visualisierungen von Zeitreihen\n",
    "- statsmodels.tsa.seasonal zum Berechnen langfristiger Trends und saionaler Muster\n",
    "\n",
    "📌 **Datenstand:** `cleaned_air_quality_data_2025-03-27.csv`  \n",
    "📁 **Importiert aus:** lokaler Datei (--> gitignore)\n",
    "\n",
    "Anmerkung: Der aktuelle Datensatz enthält keine Datumsspalte mehr. Diese muss also aus Year, Menth, Day wieder erzeugt werden. Das sollte irgendwann noch korrigiert werden, so dass die Datummspalte beim Data-Celaning erhalten bleibt."
   ]
  },
  {
   "cell_type": "markdown",
   "metadata": {},
   "source": [
    "## 📚 Inhaltsverzeichnis \n",
    "(Diese Art von Inhaltsverzeichnis mit Link funktioniert leider in Notebooks nicht, weil die as JSON gespeichert werden und nicht als HTML...)\n",
    "\n",
    "- [0. Datensatz laden](#0-datensatz-laden)\n",
    "- [1. Dataframes vorbereiten](#1-dateframe-vorbereiten)\n",
    "- [2. Einfache Zeitreihen](#2-einfache-zeitreihen)\n",
    "- [3. Zeitreihenzerlegung: Hamburg](#3-zeitreihenzerlegung-hamburg)\n",
    "- [4. Zeitreihenzerlegung: Atlanta](#zeitreihenzerlegung-atlanta)\n",
    "- [5. Zusammenfassende Bewertung](#5-zusammenfassende-bewertung)"
   ]
  },
  {
   "cell_type": "markdown",
   "metadata": {},
   "source": [
    "# 0. Datensatz laden"
   ]
  },
  {
   "cell_type": "code",
   "execution_count": null,
   "metadata": {},
   "outputs": [],
   "source": [
    "# imports\n",
    "import pandas as pd\n",
    "import numpy as np\n",
    "import matplotlib.pyplot as plt\n",
    "from statsmodels.tsa.seasonal import seasonal_decompose\n",
    "%matplotlib inline"
   ]
  },
  {
   "cell_type": "code",
   "execution_count": null,
   "metadata": {},
   "outputs": [],
   "source": [
    "df = pd.read_csv(\"data/cleaned_air_quality_data_2025-03-27.csv\")\n",
    "df.head()"
   ]
  },
  {
   "cell_type": "markdown",
   "metadata": {},
   "source": [
    "# 1. Dataframes vorbereiten\n",
    "\n",
    "Wir wollen sicherstellen, dass wir zwei Städte vergleichen, die für den Zeitraum von 2015 bis 2024 auch tatsächlich durchgängig Messwerte für PM2.5 erhoben haben. Dazu bestimmen wir zuerst alle Städte, die diesem Kriterium entsprechen:"
   ]
  },
  {
   "cell_type": "code",
   "execution_count": null,
   "metadata": {},
   "outputs": [],
   "source": [
    "# Sicherstellen, dass PM25-Werte nicht NaN sind\n",
    "df_valid_pm25 = df[df['Pm25'].notna()]\n",
    "\n",
    "# Gruppiere nach Stadt und Jahr und zähle die einzigartigen Jahre mit gültigen PM25-Werten\n",
    "cities_years_with_pm25 = df_valid_pm25.groupby('City')['Year'].nunique()\n",
    "\n",
    "# Filtere Städte, die in allen Jahren von 2015 bis 2024 (10 Jahre) gültige PM25-Werte haben\n",
    "valid_cities_with_pm25 = cities_years_with_pm25[cities_years_with_pm25 == 12].index\n",
    "\n",
    "# Ausgabe der Städte mit gültigen PM25-Werten für alle Jahre von 2015 bis 2024\n",
    "print(\"Städte mit gültigen PM25-Werten für alle Jahre 2015 bis 2024:\", valid_cities_with_pm25)\n"
   ]
  },
  {
   "cell_type": "markdown",
   "metadata": {},
   "source": [
    "Dann überprüfen wir, ob die beiden Städte, die wir für unsere Analyse vergleichen wollen, im ermittelten Datensatz enthalten sind:"
   ]
  },
  {
   "cell_type": "code",
   "execution_count": null,
   "metadata": {},
   "outputs": [],
   "source": [
    "# Ist die Stadt \"Hamburg\" in der Liste der Städte mit gültigen PM25-Werten?\n",
    "is_hamburg_valid = \"Hamburg\" in valid_cities_with_pm25\n",
    "print(\"Ist Hamburg in der Liste der Städte mit gültigen PM25-Werten?\", is_hamburg_valid)"
   ]
  },
  {
   "cell_type": "code",
   "execution_count": null,
   "metadata": {},
   "outputs": [],
   "source": [
    "# Ist die Stadt \"Atlanta\" in der Liste der Städte mit gültigen PM25-Werten?\n",
    "is_atlanta_valid = \"Atlanta\" in valid_cities_with_pm25\n",
    "print(\"Ist Atlanta in der Liste der Städte mit gültigen PM25-Werten?\", is_atlanta_valid)"
   ]
  },
  {
   "cell_type": "markdown",
   "metadata": {},
   "source": [
    "Wir erstellen für jede der beiden Städte einen separaten Dataframe und überprüfen diesen mit `df.head()` und `df.shape`:"
   ]
  },
  {
   "cell_type": "code",
   "execution_count": null,
   "metadata": {},
   "outputs": [],
   "source": [
    "df_hamburg = df[df['City'] == 'Hamburg']\n",
    "df_atlanta = df[df['City'] == 'Atlanta']"
   ]
  },
  {
   "cell_type": "code",
   "execution_count": null,
   "metadata": {},
   "outputs": [],
   "source": [
    "df_hamburg.head()"
   ]
  },
  {
   "cell_type": "code",
   "execution_count": null,
   "metadata": {},
   "outputs": [],
   "source": [
    "df_hamburg.shape"
   ]
  },
  {
   "cell_type": "code",
   "execution_count": null,
   "metadata": {},
   "outputs": [],
   "source": [
    "df_atlanta.head()"
   ]
  },
  {
   "cell_type": "code",
   "execution_count": null,
   "metadata": {},
   "outputs": [],
   "source": [
    "df_atlanta.shape"
   ]
  },
  {
   "cell_type": "markdown",
   "metadata": {},
   "source": [
    "Die Dataframes enthalten annähernd gleich viele Zeilen.\n",
    "\n",
    "Nun erstellen wir aus den Spalten Year, Month und Day eine Datummspalete mit dem Namen \"Date\". Diese Spalte verwenden wir im Weiteren als Index, da wir an der zeitlichen Entwicklung interessiert sind."
   ]
  },
  {
   "cell_type": "code",
   "execution_count": null,
   "metadata": {},
   "outputs": [],
   "source": [
    "# Erstelle eine Kopie des DataFrames und bearbeite die Kopie\n",
    "df_hamburg = df_hamburg.copy()\n",
    "df_atlanta = df_atlanta.copy()\n",
    "\n",
    "# Erstelle eine Date-Spalte aus Year, Month und Day\n",
    "df_hamburg['Date'] = pd.to_datetime(df_hamburg[['Year', 'Month', 'Day']])\n",
    "df_atlanta['Date'] = pd.to_datetime(df_atlanta[['Year', 'Month', 'Day']])"
   ]
  },
  {
   "cell_type": "code",
   "execution_count": null,
   "metadata": {},
   "outputs": [],
   "source": [
    "# Setze die 'Date' Spalte als Index\n",
    "df_hamburg.set_index('Date', inplace=True)\n",
    "df_atlanta.set_index('Date', inplace=True)"
   ]
  },
  {
   "cell_type": "markdown",
   "metadata": {},
   "source": [
    "# 2. Einfache Zeitreihen \n",
    "\n",
    "Nun verschaffen wir uns einen Überblick darüber, wie die Datenpunkte und die Feinstaubwerte über den gesamten erfassten Zeitraum verteilt sind:"
   ]
  },
  {
   "cell_type": "code",
   "execution_count": null,
   "metadata": {},
   "outputs": [],
   "source": [
    "# Plot der Zeitreihe für Hamburg\n",
    "plt.figure(figsize=(10, 6))\n",
    "plt.plot(df_hamburg.index, df_hamburg['Pm25'], label='Hamburg')\n",
    "plt.title('PM2.5 Werte in Hamburg im Zeitverlauf')\n",
    "plt.xlabel('Jahr')\n",
    "plt.ylabel('PM2.5 (µg/m³)')\n",
    "plt.grid(True)\n",
    "plt.legend();\n",
    "\n",
    "# Plot der Zeitreihe für Atlanta\n",
    "plt.figure(figsize=(10, 6))\n",
    "plt.plot(df_atlanta.index, df_atlanta['Pm25'], label='Munich', color='orange')\n",
    "plt.title('PM2.5 Werte in Atlanta im Zeitverlauf')\n",
    "plt.xlabel('Jahr')\n",
    "plt.ylabel('PM2.5 (µg/m³)')\n",
    "plt.grid(True)\n",
    "plt.legend();\n"
   ]
  },
  {
   "cell_type": "markdown",
   "metadata": {},
   "source": [
    "Es fällt unmittelbar auf, dass beide Städte für dieselben Zeiträume Lücken aufweisen. Dies lässt systematische Lücken in den Inputdaten vermuten.\n",
    "\n",
    "Da die Messwerte stark schwanken, schauen wir uns zusätzlich den gleitenden Durchschnitt (moving average, rolling average) an, der helfen kann, kurzfristige Fluktuationen auszugleichen und dadurch langfristige Trends besser sichtbar zu machen."
   ]
  },
  {
   "cell_type": "code",
   "execution_count": null,
   "metadata": {},
   "outputs": [],
   "source": [
    "# Gleitender Durchschnitt (z. B. über 12 Monate)\n",
    "df_hamburg['PM25_MA'] = df_hamburg['Pm25'].rolling(window=12).mean()\n",
    "df_atlanta['PM25_MA'] = df_atlanta['Pm25'].rolling(window=12).mean()"
   ]
  },
  {
   "cell_type": "code",
   "execution_count": null,
   "metadata": {},
   "outputs": [],
   "source": [
    "import matplotlib.dates as mdates\n",
    "\n",
    "\n",
    "# Plot mit gleitendem Durchschnitt\n",
    "plt.figure(figsize=(10, 6))\n",
    "plt.plot(df_hamburg.index, df_hamburg['Pm25'], label='Hamburg PM25')\n",
    "plt.plot(df_hamburg.index, df_hamburg['PM25_MA'], label='Hamburg Gleitender Durchschnitt', linestyle='--')\n",
    "plt.title('PM25 Werte und gleitender Durchschnitt in Hamburg')\n",
    "plt.xlabel('Jahr')\n",
    "plt.ylabel('PM25 (µg/m³)')\n",
    "plt.legend()\n",
    "plt.grid(True)\n",
    "\n",
    "plt.figure(figsize=(10, 6))\n",
    "plt.plot(df_atlanta.index, df_atlanta['Pm25'], label='München PM25')\n",
    "plt.plot(df_atlanta.index, df_atlanta['PM25_MA'], label='München Gleitender Durchschnitt', linestyle='--')\n",
    "plt.title('PM25 Werte und gleitender Durchschnitt in Atlanta')\n",
    "plt.xlabel('Jahr')\n",
    "plt.ylabel('PM25 (µg/m³)')\n",
    "plt.legend()\n",
    "plt.grid(True)"
   ]
  },
  {
   "cell_type": "markdown",
   "metadata": {},
   "source": [
    "Insgesamt gesehen zeigen sich in beiden Städten kaum Veränderungen über die Zeit. Es kann aber trotzdem zum Beispiel saisonale Schawankungen geben, die mit der bisherigen Darstellungsweise nicht sichtbar werden.\n",
    "\n",
    "Wir grupperien also alle Messwerte nach Monaten und berechnen den Durchschnitt (mean):"
   ]
  },
  {
   "cell_type": "code",
   "execution_count": null,
   "metadata": {},
   "outputs": [],
   "source": [
    "# Gruppiere die Daten nach Monat und berechne den Durchschnitt\n",
    "df_hamburg_monthly = df_hamburg.groupby(df_hamburg.index.month)['Pm25'].mean()\n",
    "df_atlanta_monthly = df_atlanta.groupby(df_atlanta.index.month)['Pm25'].mean()\n",
    "\n",
    "# Plots für saisonale Schwankungen\n",
    "plt.figure(figsize=(10, 6))\n",
    "plt.plot(df_hamburg_monthly.index, df_hamburg_monthly, label='Hamburg', color='blue')\n",
    "plt.title('Saisonale Schwankungen der PM25-Werte in Hamburg')\n",
    "plt.xlabel('Monat')\n",
    "plt.ylabel('Durchschnittliche PM25 (µg/m³)')\n",
    "plt.grid(True)\n",
    "plt.xticks(range(1, 13), ['Jan', 'Feb', 'Mär', 'Apr', 'Mai', 'Jun', 'Jul', 'Aug', 'Sep', 'Okt', 'Nov', 'Dez']);\n",
    "\n",
    "plt.figure(figsize=(10, 6))\n",
    "plt.plot(df_atlanta_monthly.index, df_atlanta_monthly, label='Atlanta', color='orange')\n",
    "plt.title('Saisonale Schwankungen der PM25-Werte in Atlanta')\n",
    "plt.xlabel('Monat')\n",
    "plt.ylabel('Durchschnittliche PM25 (µg/m³)')\n",
    "plt.grid(True)\n",
    "plt.xticks(range(1, 13), ['Jan', 'Feb', 'Mär', 'Apr', 'Mai', 'Jun', 'Jul', 'Aug', 'Sep', 'Okt', 'Nov', 'Dez']);\n"
   ]
  },
  {
   "cell_type": "markdown",
   "metadata": {},
   "source": [
    "Hamburg und Atlanta zeigen gegenläufige saisonale Muster. Mögliche Begründung:\n",
    "\n",
    "- In Hamburg könnte die kühlere Luft und die stärkere Regen- und Windaktivität im Sommer für niedrigere PM2.5-Werte sorgen.\n",
    "\n",
    "- In Atlanta könnte das heiße, feuchte Klima im Sommer zusammen mit weniger Luftzirkulation und mehr Verkehr und Industrieaktivitäten die PM2.5-Werte ansteigen lassen.\n",
    "\n",
    "Diese und ansere Hypothesen können in einer zusätzlichen Analyse geprüft werden, in der die ebenfalls vorhandenen Wetterdaten genutzt werden.\n",
    "\n",
    "In eine Darstellung der saisonalen Veränderungen kann auch die Streuung der Werte mit einbezogen werden, um ein vollständigeres Gesamtbild zu erhalten. Diese kann entweder mit dem Mittelwert (mean) oder dem Interquartilsabstand (IQR) berechnet werden. Der hier gewählte IQR ist in der Berechnung aufwändiger, aber unempfindlicher gegenüber Ausreißern:"
   ]
  },
  {
   "cell_type": "code",
   "execution_count": null,
   "metadata": {},
   "outputs": [],
   "source": [
    "# Berechnung des monatlichen Mittelwerts und des Interquartilbereichs (IQR)\n",
    "df_hamburg_monthly_iqr = df_hamburg.groupby(df_hamburg.index.month)['Pm25'].agg(lambda x: x.quantile(0.75) - x.quantile(0.25))\n",
    "df_atlanta_monthly_iqr = df_atlanta.groupby(df_atlanta.index.month)['Pm25'].agg(lambda x: x.quantile(0.75) - x.quantile(0.25))\n",
    "\n",
    "# Berechnung des 25. und 75. Perzentils\n",
    "df_hamburg_monthly = df_hamburg.groupby(df_hamburg.index.month)['Pm25'].agg(['mean', lambda x: x.quantile(0.25), lambda x: x.quantile(0.75)])\n",
    "df_atlanta_monthly = df_atlanta.groupby(df_atlanta.index.month)['Pm25'].agg(['mean', lambda x: x.quantile(0.25), lambda x: x.quantile(0.75)])\n",
    "\n",
    "# Plot der monatlichen Mittelwerte und IQR als Fläche\n",
    "plt.figure(figsize=(10, 6))\n",
    "\n",
    "# Hamburg\n",
    "plt.plot(df_hamburg_monthly.index, df_hamburg_monthly['mean'], label='Hamburg', color='blue')\n",
    "plt.fill_between(df_hamburg_monthly.index, \n",
    "                 df_hamburg_monthly['<lambda_0>'], \n",
    "                 df_hamburg_monthly['<lambda_1>'], \n",
    "                 color='blue', alpha=0.2)\n",
    "\n",
    "# Atlanta\n",
    "plt.plot(df_atlanta_monthly.index, df_atlanta_monthly['mean'], label='Atlanta', color='orange')\n",
    "plt.fill_between(df_atlanta_monthly.index, \n",
    "                 df_atlanta_monthly['<lambda_0>'], \n",
    "                 df_atlanta_monthly['<lambda_1>'], \n",
    "                 color='orange', alpha=0.2)\n",
    "\n",
    "# Formatierung und Beschriftungen\n",
    "plt.title('Monatliche PM25-Werte und IQR in Hamburg und Atlanta')\n",
    "plt.xlabel('Monat')\n",
    "plt.ylabel('Durchschnittliche PM25 (µg/m³)')\n",
    "plt.xticks(range(1, 13), ['Jan', 'Feb', 'Mär', 'Apr', 'Mai', 'Jun', 'Jul', 'Aug', 'Sep', 'Okt', 'Nov', 'Dez'])\n",
    "plt.legend()\n",
    "plt.grid(True);\n"
   ]
  },
  {
   "cell_type": "markdown",
   "metadata": {},
   "source": [
    "An hohen Varianz der Werte sehen wir vor allem eines deutlich: Die PM2.5-Werte sind sehr volatil, was das Bestimmen von Trends mit den bisher gezeigten Mitteln schwer macht.\n",
    "\n",
    "Um die lnggfristigen Trends sichtbar zu machen, wird als nächstes eine Zeitreihenzerlegung durchgeführt. Dabei wird deine Zeitreihe in drei Komponenten aufgeteilt: den Trend (langfristige Entwicklung), die Saisonkomponente (regelmäßige Schwankungen, z. B. saisonal) und die Residuen (das Rauschen, was nach Entfernung von Trend und Saison übrigbleibt).\n",
    "\n",
    "Wir verwenden dazu eine gängige Methode aus dem Paket `statsmodels`, und zwar die Funktion `seasonal_decompose`."
   ]
  },
  {
   "cell_type": "markdown",
   "metadata": {},
   "source": [
    "# 3. Zeitreihenzerlegung: Hamburg\n",
    "\n",
    "Wir verwenden die Jahre 2015-2024. Die Daten davor und danach müssen also vorab entfernt werden.\n",
    "\n",
    "Da wir fehlende Daten haben, müssen wir entscheiden, wie wir mit ihnen umgehen. Im Folgenden werden zwei Möglichkeiten gezeigt:\n",
    "\n",
    "- `dropna()`: Alle NaN-Werte werden vorab entfernt.\n",
    "- `interploate()`: Die NaN-Werte werden durch benachbarte Datenpunkte ersetzt\n",
    "\n",
    "Bei der Modellierung verfolgen wir einen additiven Ansatz (`model='additive'`), da wir davon ausgehen, dass die saisonalen Schwankungen in den Daten relativ konstant sind und nicht mit einem Anstieg oder Abfall der Gesamtwerte skalieren.\n",
    "\n",
    "Da wir die Zeitreihe auf der Ebene von Monaten ansetzen, verwenden wir `period=12`. Damit berechnen wir für jeden Monat im Jahr einen Wert. `period=12` teilt also die Zeitreihe in 12 Abschnitte pro Zyklus. Für jeden dieser Abschnitte wird ein saisonaler Wert ermittelt, der dann als wiederkehrender Effekt in jedem Jahr erscheint."
   ]
  },
  {
   "cell_type": "code",
   "execution_count": null,
   "metadata": {},
   "outputs": [],
   "source": [
    "# Filtern: Nur Daten von 2015 bis 2024 behalten\n",
    "df_hamburg_filtered = df_hamburg[(df_hamburg.index.year >= 2015) & (df_hamburg.index.year <= 2024)]\n",
    "\n",
    "# Überprüfen, welche Jahre jetzt enthalten sind\n",
    "print(\"Enthaltene Jahre:\", sorted(df_hamburg_filtered.index.year.unique()))\n",
    "\n",
    "# Aggregiere die PM2.5-Daten auf monatlicher Basis (mittlere Werte)\n",
    "df_hamburg_monthly = df_hamburg_filtered['Pm25'].resample('M').mean().dropna()\n",
    "\n",
    "# Zeitreihenzerlegung (additives Modell mit period=12 für monatliche Daten\n",
    "result = seasonal_decompose(df_hamburg_monthly, model='additive', period=12)\n",
    "\n",
    "# Visualisierung der Zerlegung\n",
    "result.plot()\n",
    "\n",
    "plt.suptitle('Zeitreihenzerlegung der monatlichen PM2.5-Daten in Hamburg (2015-2024)', fontsize=16)\n",
    "plt.tight_layout();\n",
    "\n",
    "plt.savefig(\"./images/Zeitreihenzerlegung_Hamburg.png\", dpi=300, bbox_inches=\"tight\")"
   ]
  },
  {
   "cell_type": "markdown",
   "metadata": {},
   "source": [
    "Die vier Graphen der Zeitreihenzerlegung für Hamburg zeigen:\n",
    "\n",
    "1. starke Schwankungnen des PM2.5-Werts über die Jahre hinweg; stärker ausgeprägt vor 2019 (hier gibt es einige mehrmonatige Abschnitte ohne Daten!)\n",
    "2. einen langfristig eindeutig fallenden Trend\n",
    "3. deutliche saisonale Muster: höchste Belastung im Winter\n",
    "3. gleichmäßig um die Nulllinie verteilte Residuen, d.h. das Modell ist im Durchschnitt gut ausbalanciert ist und nimmt keine systematische Überschätzung oder Unterschätzung vor\n",
    "\n",
    "Wir sehen an allen Graphen, dass fehlende Werte, v.a. wenn sie Blockweise vorkommen, ein zeitreihenmodell erwartungsgemäß erheblich stören. Das Problem kann durch Interpolation abgemildert werden, aber Verzerrungen bleiben dennoch erhalten."
   ]
  },
  {
   "cell_type": "markdown",
   "metadata": {},
   "source": [
    "# Zeitreihenzerlegung: Atlanta\n",
    "\n",
    "Das für Hamburg erläuterte Vorgehen wird nun für Atlanta wiederholt."
   ]
  },
  {
   "cell_type": "code",
   "execution_count": null,
   "metadata": {},
   "outputs": [],
   "source": [
    "# Filtern: Nur Daten von 2015 bis 2024 behalten\n",
    "df_atlanta_filtered = df_atlanta[(df_atlanta.index.year >= 2015) & (df_atlanta.index.year <= 2024)]\n",
    "\n",
    "# Überprüfen, welche Jahre jetzt enthalten sind\n",
    "print(\"Enthaltene Jahre:\", sorted(df_atlanta_filtered.index.year.unique()))\n",
    "\n",
    "# Aggregiere die PM2.5-Daten auf monatlicher Basis (mittlere Werte)\n",
    "df_atlanta_monthly = df_atlanta_filtered['Pm25'].resample('M').mean().dropna()\n",
    "\n",
    "# Zeitreihenzerlegung (additives Modell mit period=12, da es monatliche Daten sind)\n",
    "result = seasonal_decompose(df_atlanta_monthly, model='additive', period=12)\n",
    "\n",
    "# Visualisierung der Zerlegung\n",
    "result.plot()\n",
    "\n",
    "plt.suptitle('Zeitreihenzerlegung der monatlichen PM2.5-Daten in Atlanta (2015-2024)', fontsize=16)\n",
    "plt.tight_layout();\n",
    "\n",
    "plt.savefig(\"./images/Zeitreihenzerlegung_Atlanta.png\", dpi=300, bbox_inches=\"tight\")"
   ]
  },
  {
   "cell_type": "markdown",
   "metadata": {},
   "source": [
    "Die vier Graphen der Zeitreihenzerlegung für Atlanta zeigen:\n",
    "\n",
    "1. deutliche Schwankungnen des PM2.5-Werts über die Jahre hinweg\n",
    "2. einen klar fallenden Trend für den Zeitraum 2016-2019, danach einen leichten Anstieg auf ein gleichbleibendes Niveau von 35-40 µg/m³. Deutlicher Abfall zum Ende des erfassten Zeitraums.\n",
    "3. deutliche saisonale Muster: höchste Belastung im Sommer\n",
    "3. gleichmäßig um die Nulllinie verteilte Residuen, d.h. das Modell ist im Durchschnitt gut ausbalanciert ist und nimmt keine systematische Überschätzung oder Unterschätzung vor."
   ]
  },
  {
   "cell_type": "markdown",
   "metadata": {},
   "source": [
    "# 5. Zusammenfassende Bewertung\n",
    "\n",
    "**Datenqualität**:\n",
    "Für eine realitätsnahe Zeitreihenanalyse ist eine durchgängige Datengrundlage unabdingbar. Während einzelne, kleine Datenlücken durch Interpolation ausgeglichen werden können, führen mehrmonatige Lücken zu erheblichen Verzerrungen, die kein Modell vollständig kompensieren kann.\n",
    "\n",
    "**Einfache Analysen und Visualisierungen**:\n",
    "Ansätze mit Pandas und Matplotlib liefern erste, wertvolle Hinweise auf Trends und saisonale Muster. Allerdings werden diese Methoden schnell unübersichtlich, wenn die Zielwerte stark volatil sind – die resultierenden Grafiken schwanken dann oft so stark, dass eindeutige Muster schwer erkennbar sind.\n",
    "\n",
    "**Zeitreihenzerlegung**:\n",
    "Die Anwendung einer Zeitreihenzerlegung (z. B. mittels STL oder seasonal_decompose) kann helfen, trotz hoher Volatilität langfristige Trends und wiederkehrende saisonale Muster sichtbar zu machen. Dennoch ist auch hier die Vollständigkeit und Zuverlässigkeit der Daten entscheidend für die Qualität und Aussagekraft der Ergebnisse.\n",
    "\n",
    "Insgesamt zeigt die Analyse, dass eine fundierte Zeitreihenanalyse nicht nur auf geeignete Methoden, sondern vor allem auf hochwertige und lückenfreie Daten angewiesen ist."
   ]
  }
 ],
 "metadata": {
  "kernelspec": {
   "display_name": ".venv",
   "language": "python",
   "name": "python3"
  },
  "language_info": {
   "codemirror_mode": {
    "name": "ipython",
    "version": 3
   },
   "file_extension": ".py",
   "mimetype": "text/x-python",
   "name": "python",
   "nbconvert_exporter": "python",
   "pygments_lexer": "ipython3",
   "version": "3.11.4"
  }
 },
 "nbformat": 4,
 "nbformat_minor": 2
}
