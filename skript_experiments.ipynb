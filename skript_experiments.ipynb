{
 "cells": [
  {
   "cell_type": "code",
   "execution_count": 5,
   "metadata": {},
   "outputs": [],
   "source": [
    "import os\n",
    "import pandas as pd\n",
    "import json\n",
    "import requests\n",
    "from meteostat import Daily, Stations\n",
    "from datetime import datetime\n",
    "\n",
    "def download_files(files, output_folder):\n",
    "    \"\"\"lädt die benötigten Dateien herunter und \n",
    "    speichert sie im angegebenen Verzeichnis\"\"\"\n",
    "    \n",
    "    if not os.path.exists(output_folder):\n",
    "        os.makedirs(output_folder)\n",
    "\n",
    "    for filename, url in files.items():\n",
    "        output_path = os.path.join(output_folder, filename)\n",
    "\n",
    "        try:\n",
    "            response = requests.get(url, headers={\"Accept-Encoding\": \"gzip\"})\n",
    "            if isinstance(response.status_code, int) and response.status_code == 200:\n",
    "                with open(output_path, 'wb') as file:\n",
    "                    file.write(response.content)\n",
    "                print(f\"Downloaded: {filename}\")\n",
    "            else:\n",
    "                print(f\"Failed to download {filename}: HTTP {response.status_code}\")\n",
    "        except Exception as e:\n",
    "            print(f\"Error downloading {filename}: {e}\")\n",
    "\n",
    "files = {\"population.csv\": \"https://datahub.io/core/population-city/r/unsd-citypopulation-year-both.csv\"}\n",
    "\n",
    "output_folder = \"data\"\n"
   ]
  },
  {
   "cell_type": "code",
   "execution_count": 6,
   "metadata": {},
   "outputs": [
    {
     "name": "stdout",
     "output_type": "stream",
     "text": [
      "Downloaded: population.csv\n"
     ]
    }
   ],
   "source": [
    "download_files(files, output_folder)"
   ]
  }
 ],
 "metadata": {
  "kernelspec": {
   "display_name": ".venv",
   "language": "python",
   "name": "python3"
  },
  "language_info": {
   "codemirror_mode": {
    "name": "ipython",
    "version": 3
   },
   "file_extension": ".py",
   "mimetype": "text/x-python",
   "name": "python",
   "nbconvert_exporter": "python",
   "pygments_lexer": "ipython3",
   "version": "3.11.4"
  }
 },
 "nbformat": 4,
 "nbformat_minor": 2
}
