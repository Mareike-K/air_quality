{
 "cells": [
  {
   "cell_type": "markdown",
   "metadata": {},
   "source": [
    "# Klassifikation\n",
    "\n",
    "In diesem Notebook werden verschiedene Klassifikationsmodelle trainiert. Ziel ist es, die Städte im Datensatz aufgrund ihrer Feinstaubbelastung in zwei Klassen einzuteilen. Als Zielvariable wird also die Belastung mit mittelgroßen Feinstaubpartikeln (PM2.5, gemessen in µg/m³) angesetzt. \n",
    "\n",
    "Als Schwellenwert werden zwei Ansätze getestet:\n",
    "1. WHO-Richtline von 5 µg/m³: fachlicher Standard\n",
    "2. Median: datengetriebene Größe\n",
    "\n",
    "Als Modelle werden verglichen:\n",
    "1. Logistische Regression\n",
    "2. Random Forest\n",
    "3. Gradient Boosting\n",
    "\n",
    "Verwendet werden verschiedene Module der Python Bibliothek **Scitkit-learn** für maschinelles Lernen\n",
    "\n",
    "📌 **Datenstand:** `cleaned_air_quality_data_2025-03-27.csv`  \n",
    "📁 **Importiert aus:** lokaler Datei (--> gitignore)"
   ]
  },
  {
   "cell_type": "markdown",
   "metadata": {},
   "source": [
    "## 📚 Inhaltsverzeichnis \n",
    "(Diese Art von Inhaltsverzeichnis mit Link funktioniert leider in Notebooks nicht, weil die as JSON gespeichert werden und nicht als HTML...)\n",
    "\n",
    "- [0. Datensatz laden](#0-datensatz-laden)\n",
    "- [1. Dataframe vorbereiten](#1-dateframe-vorbereiten)\n",
    "- [2. WHO-Richtlinie](#2-who-richtlinie)\n",
    "- [3. Median der Zielvariablen](#3-median-der-zielvariablen)\n",
    "- [4. Features, Target, Train-/Test-Split](#4-features-target-train-test-split)\n",
    "- [5. Logistic Regression](#5-logistic-regression)\n",
    "- [6. Random Forest](#6-random-forest)\n",
    "- [7. Gradient Boosting](#7-gradient-boosting)\n"
   ]
  },
  {
   "cell_type": "markdown",
   "metadata": {},
   "source": [
    "# 0. Datensatz laden"
   ]
  },
  {
   "cell_type": "code",
   "execution_count": null,
   "metadata": {},
   "outputs": [],
   "source": [
    "# imports\n",
    "import pandas as pd\n",
    "import numpy as np\n",
    "import matplotlib.pyplot as plt\n",
    "import seaborn as sns\n",
    "\n",
    "from sklearn.linear_model import LogisticRegression\n",
    "from sklearn.ensemble import RandomForestClassifier\n",
    "from sklearn.ensemble import GradientBoostingClassifier\n",
    "\n",
    "from sklearn.model_selection import train_test_split\n",
    "from sklearn.metrics import classification_report, confusion_matrix\n",
    "\n",
    "%matplotlib inline"
   ]
  },
  {
   "cell_type": "code",
   "execution_count": null,
   "metadata": {},
   "outputs": [],
   "source": [
    "df = pd.read_csv(\"data/cleaned_air_quality_data_2025-03-27.csv\")\n",
    "df.head()"
   ]
  },
  {
   "cell_type": "markdown",
   "metadata": {},
   "source": [
    "# 1. Dateframe vorbereiten\n",
    "\n",
    "Als Target benutzen wir mittelgroße Feinstaubpartikel (PM2.5), als Features alle anderen Schadstoffe im Datensatz: CO, NO₂, SO₂, O₃ und (im allerersten Modell) PM10.\n",
    "\n",
    "Weil das Imputieren von Werten für nicht vorhandenen Kategorien (Schadstoffen) für eine Stadt nicht mehr als \"Raten\" ist, werden nur Städte in die Analyse mit aufgenommen, für die Messwerte zu allen sechs Luftschadstoffen vorliegen. (--> Wiebke: Was ich meine, ist: Ich kann innerhalb einer Stadt Werte imputieren, aber es ist ziemlicher Quatsch, die Werte von einer Stadt auf die andere zu übertragen, also stadtübergreifend zu imputieren.)\n",
    "\n",
    "Die Luftqualität kann auch auf dem arithmetischen Mittel berechnet werden. Dies hat den Vorteil, dass die natürliche Varianz besser abgebildet wird und den Nachteil, dass Machine-Learning-Modelle sich bei der Klassifikation schlechter abschneiden. Beide Varianten wurden komplett durchgerechnet. Da hier das Verhalten unterschiedlicher Klassifikationsmodelle gezeigt werden soll, wurde für die finale Analyse der Median gewählt."
   ]
  },
  {
   "cell_type": "code",
   "execution_count": null,
   "metadata": {},
   "outputs": [],
   "source": [
    "# Liste relevanter Schadstoffe\n",
    "pollutants = ['Co', 'No2', 'O3', 'Pm10', 'Pm25', 'So2']"
   ]
  },
  {
   "cell_type": "code",
   "execution_count": null,
   "metadata": {},
   "outputs": [],
   "source": [
    "# Mittelwerte pro Stadt berechnen (Index = City)\n",
    "df_median = df.groupby('City')[pollutants].median()"
   ]
  },
  {
   "cell_type": "code",
   "execution_count": null,
   "metadata": {},
   "outputs": [],
   "source": [
    "# Für jede Stadt: Wie viele Mittelwerte sind vorhanden?\n",
    "df_median['Num_Valid_Pollutants'] = df_median[pollutants].notna().sum(axis=1)\n",
    "\n",
    "# Übersicht: Wie viele Städte haben wie viele gültige Schadstoffwerte?\n",
    "coverage_summary = df_median['Num_Valid_Pollutants'].value_counts().sort_index()\n",
    "\n",
    "# Ergebnis anzeigen\n",
    "coverage_summary"
   ]
  },
  {
   "cell_type": "code",
   "execution_count": null,
   "metadata": {},
   "outputs": [],
   "source": [
    "# Nur Städte mit allen 6 Schadstoff-Mittelwerten\n",
    "\n",
    "df_median_complete = df_median[df_median['Num_Valid_Pollutants'] == 6]\n",
    "\n",
    "len(df_median_complete)"
   ]
  },
  {
   "cell_type": "markdown",
   "metadata": {},
   "source": [
    "Der Dataframe enthält nun 406 Städte, für die jeweils Werte für jeden Schadstoff vorliegen."
   ]
  },
  {
   "cell_type": "markdown",
   "metadata": {},
   "source": [
    "# 2. WHO-Richtlinie\n",
    "\n",
    "Als erstes wird die Klasseneinteilung auf der Grundlage einen fachlichen Standards, nämlich des aktuellen WHO-Grenzwerts für PM2.5 von 5 µg/m³ vorgenommen:"
   ]
  },
  {
   "cell_type": "code",
   "execution_count": null,
   "metadata": {},
   "outputs": [],
   "source": [
    "# Anzahl Städte mit guter/schlechter Luft (nach WHO-Grenzwert)\n",
    "(df_median_complete['Pm25'] <= 5).value_counts()"
   ]
  },
  {
   "cell_type": "code",
   "execution_count": null,
   "metadata": {},
   "outputs": [],
   "source": [
    "# Städte mit PM2.5 ≤ 5 µg/m³ filtern\n",
    "clean_cities = df_median_complete[df_median_complete['Pm25'] <= 5]\n",
    "\n",
    "# Ergebnis anzeigen\n",
    "clean_cities"
   ]
  },
  {
   "cell_type": "code",
   "execution_count": null,
   "metadata": {},
   "outputs": [],
   "source": [
    "# Anzahl gültiger PM2.5-Werte pro Stadt\n",
    "pm25_counts = df.groupby('City')['Pm25'].count().sort_values()\n",
    "\n",
    "# Zeige nur die \"sauberen\" Städte\n",
    "pm25_counts.loc[['Plovdiv', 'Yazd']]"
   ]
  },
  {
   "cell_type": "markdown",
   "metadata": {},
   "source": [
    "Dem WHO-Grenzwert entsprechen in unserem Datensatz nur zwei von 406 Städten: Plovdiv (Bulgarien), Yazd (Iran). Bei genauerem Hinschauen fällt allerdings auf, dass es für Plovidiv nur einen einzigen Messwert gibt und für Yazd nur sehr wenige. Die Messwerte sind damit nicht aussagekräftig.\n",
    "\n",
    "Die WHO-Richtline kann also für das Training von Klassifikationsmodellen nicht als Schwellenwert verwendet werden - es hätte keine zweite Klasse, von der es lernen könnte.\n",
    "\n",
    "**OFFENE FRAGE**: Ist es gut, für die restliche Analyse alle Städte drinzulassen, auch wenn sie nur wenige Messwerte pro Schadstoff haben? Sollte man da noch was aussortieren? Oder einfach mal so lassen, weil in der Realität die Datenqualität auch nur selten optimal ist?"
   ]
  },
  {
   "cell_type": "markdown",
   "metadata": {},
   "source": [
    "# 3. Median der Zielvariablen\n",
    "\n",
    "Als Alternative wird der Median als datengetriebener Grenzwert gewählt. Die Einteilung in Städte mit guter und schlechter Luftqualität basiert also auf dem Medianwert der durchschnittlichen PM2.5-Konzentration aller Städte im Datensatz. \n",
    "\n",
    "Durch die Verwendung des Medians entsteht eine ausgewogene Verteilung zwischen den beiden Klassen, die ein stabiles Training und eine faire Bewertung des Modells ermöglicht.\n",
    "\n",
    "Um ein Klassifikationsmodell zur Vorhersage der Luftqualität von Städten zu erstellen, wird eine Zielvariable mit dem Namen **AirQualityLabel** eingeführt. Diese ordnet jeder Stadt eine von zwei Klassen zu:\n",
    "\n",
    "- 0 → Gute Luftqualität\n",
    "\n",
    "- 1 → Schlechte Luftqualität\n",
    "\n",
    "Die Luftqualität wird aus den Medianen der einzelnen Schadstoffe pro Stadt berechnet. Städte mit einem PM2.5-Mittelwert über dem Median werden als \"schlechte Luftqualität\" (1) klassifiziert, alle anderen als \"gute Luftqualität\" (0)."
   ]
  },
  {
   "cell_type": "code",
   "execution_count": null,
   "metadata": {},
   "outputs": [],
   "source": [
    "df_classification = df_median_complete.copy()\n",
    "\n",
    "# Median von PM2.5 berechnen\n",
    "pm25_median = df_classification['Pm25'].median()\n",
    "\n",
    "# Zielvariable hinzufügen\n",
    "df_classification['AirQualityLabel'] = (df_classification['Pm25'] > pm25_median).astype(int)"
   ]
  },
  {
   "cell_type": "code",
   "execution_count": null,
   "metadata": {},
   "outputs": [],
   "source": [
    "# Umgang mit NaN-Werten\n",
    "\n",
    "# Anzahl fehlender Werte pro Spalte\n",
    "df_classification[pollutants].isna().sum()"
   ]
  },
  {
   "cell_type": "code",
   "execution_count": null,
   "metadata": {},
   "outputs": [],
   "source": [
    "df_classification.sample(10)"
   ]
  },
  {
   "cell_type": "code",
   "execution_count": null,
   "metadata": {},
   "outputs": [],
   "source": [
    "df_classification.shape"
   ]
  },
  {
   "cell_type": "markdown",
   "metadata": {},
   "source": [
    "# 4. Features, Target, Train-/Test-Split\n",
    "\n",
    "Der Datensatz für die Klassifikation (df_classification) enthält 406 Städte mit Medianwerten für die Schadstoffe, die als Features verwendet werden: CO, NO₂, SO₂, O₃ und (im allerersten Modell) PM10.\n",
    "\n",
    "Als Target wird AirQualityLabel angesetzt, dessen Wert entsprechend dem Median von PM2.5 berechnet wurde (s. Abschnitt 3).\n",
    "\n",
    "Wir verwenden den Standard-Trainings-Test-Split von scikit-learn und nehmen 80% der Daten für das Training und 20% für den Test.\n"
   ]
  },
  {
   "cell_type": "code",
   "execution_count": null,
   "metadata": {},
   "outputs": [],
   "source": [
    "features_lr_pm10 = ['Co', 'No2', 'O3', 'Pm10', 'So2']\n",
    "X = df_classification[features_lr_pm10]\n",
    "y = df_classification['AirQualityLabel']"
   ]
  },
  {
   "cell_type": "code",
   "execution_count": null,
   "metadata": {},
   "outputs": [],
   "source": [
    "\n",
    "\n",
    "# Split in Trainings- und Testdaten\n",
    "X_train, X_test, y_train, y_test = train_test_split(X, y, test_size=0.2, random_state=42)\n"
   ]
  },
  {
   "cell_type": "markdown",
   "metadata": {},
   "source": [
    "# 5. Logistic Regression\n",
    "\n",
    "Als erstes Modell wird die logistische Regression verwendet. Die logistische Regression ist ein statistisches Modell zur Vorhersage binärer Ergebnisse, indem sie die Wahrscheinlichkeit eines Ereignisses anhand einer linearen Kombination von Variablen schätzt. Dabei wird die lineare Ausgabe über eine logistische Funktion in einen Wahrscheinlichkeitswert umgewandelt. Ein großer Vorteil ist die einfache Interpretierbarkeit und schnelle Berechnung, was sie zu einem guten Ausgangspunkt für Klassifikationsaufgaben macht. Allerdings eignet sie sich primär für lineare Zusammenhänge und stößt bei komplexeren Datenstrukturen schnell an ihre Grenzen.\n",
    "\n",
    "Im ersten Modell wird PM10 als zusätzliches Feature eingebunden, um experimentell zu untersuchen, wie sich dieses stark mit PM2.5 korrelierte Merkmal auf das Modell auswirkt. Da PM2.5 als Basis zur Berechnung von AirQualityLabel dient, könnte PM10 das Modell verzerren, indem es indirekt bereits bekannte Informationen liefert. In der zweiten Runde wird PM10 entfernt, um zu evaluieren, wie sich die Modellleistung ohne diesen „künstlichen“ Informationsvorsprung verändert."
   ]
  },
  {
   "cell_type": "code",
   "execution_count": null,
   "metadata": {},
   "outputs": [],
   "source": [
    "#  Modelltraining\n",
    "model_lr_pm10 = LogisticRegression(max_iter=1000)\n",
    "model_lr_pm10.fit(X_train, y_train)\n",
    "\n",
    "# Vorhersagen & Bewertung\n",
    "y_pred_lr_pm10 = model_lr_pm10.predict(X_test)\n",
    "print(classification_report(y_test, y_pred_lr_pm10))"
   ]
  },
  {
   "cell_type": "markdown",
   "metadata": {},
   "source": [
    "Mit PM10 als Feature liegt der F1-Score bei 90%."
   ]
  },
  {
   "cell_type": "code",
   "execution_count": null,
   "metadata": {},
   "outputs": [],
   "source": [
    "cm_lr_pm10 = confusion_matrix(y_test, y_pred_lr_pm10)\n",
    "\n",
    "cm_df = pd.DataFrame(cm_lr_pm10, \n",
    "                     index=[\"Tatsächlich Negativ\", \"Tatsächlich Positiv\"], \n",
    "                     columns=[\"Vorhergesagt Negativ\", \"Vorhergesagt Positiv\"])\n",
    "\n",
    "print(cm_df)"
   ]
  },
  {
   "cell_type": "markdown",
   "metadata": {},
   "source": [
    "\n",
    "Das folgende Modell ist eien Wiederholung des vorhergehenden, aber ohne PM10 als Feature."
   ]
  },
  {
   "cell_type": "code",
   "execution_count": null,
   "metadata": {},
   "outputs": [],
   "source": [
    "features_lr = ['Co', 'No2', 'O3', 'So2']\n",
    "X = df_classification[features_lr]\n",
    "y = df_classification['AirQualityLabel']"
   ]
  },
  {
   "cell_type": "code",
   "execution_count": null,
   "metadata": {},
   "outputs": [],
   "source": [
    "# Split in Trainings- und Testdaten\n",
    "X_train, X_test, y_train, y_test = train_test_split(X, y, test_size=0.2, random_state=42)\n",
    "\n",
    "# Modelltraining\n",
    "model = LogisticRegression(max_iter=1000)\n",
    "model.fit(X_train, y_train)\n",
    "\n",
    "# Vorhersagen & Bewertung\n",
    "y_pred_lr = model.predict(X_test)\n",
    "print(classification_report(y_test, y_pred_lr))\n"
   ]
  },
  {
   "cell_type": "markdown",
   "metadata": {},
   "source": [
    "Ohne PM10 als Feature wird nur noch ein F1-Score von 77% erreicht."
   ]
  },
  {
   "cell_type": "code",
   "execution_count": null,
   "metadata": {},
   "outputs": [],
   "source": [
    "cm_lr = confusion_matrix(y_test, y_pred_lr)\n",
    "\n",
    "cm_df = pd.DataFrame(cm_lr, \n",
    "                     index=[\"Tatsächlich Negativ\", \"Tatsächlich Positiv\"], \n",
    "                     columns=[\"Vorhergesagt Negativ\", \"Vorhergesagt Positiv\"])\n",
    "\n",
    "print(cm_df)"
   ]
  },
  {
   "cell_type": "markdown",
   "metadata": {},
   "source": [
    "\n",
    "Beide Modelle erscheinen ausgewogen - keine der beiden Klassen wird bevorzugt. Das Modell mit PM10 als Feature erreicht mit 90% einen deutlich höheren F1-Score als das Modell ohne PM10 (F1: 77%).\n",
    "\n",
    "Dennoch spricht einiges dafür, PM10 als Feature wegzulassen: Da PM10 hoch mit PM2.5 korreliert – aus dem ja das AirQualityLabel abgeleitet wird – besteht die Gefahr eines Informationslecks, bei dem das Modell indirekt schon „vorab“ Informationen über das Ziel erhält. Dies kann zu verzerrten Validierungsergebnissen und schlechterer Generalisierbarkeit führen, insbesondere wenn das Modell auf neuen, unbekannten Daten angewendet wird. Zudem erhöht die Einbeziehung hoch korrelierter Features das Risiko von Overfitting, wodurch das Modell zu sehr auf spezifische Trainingsdaten abgestimmt wird.\n",
    "\n",
    "Daher ist es sinnvoll, PM10 zu entfernen, um ein robusteres und interpretierbareres Klassifikationsmodell zu entwickeln. Die folgenden Modelle werden nur mit dem reduzierten Feature-Satz berechnet."
   ]
  },
  {
   "cell_type": "markdown",
   "metadata": {},
   "source": [
    "# 6. Random Forest\n",
    "\n",
    "Der Random Forest ist ein Ensemble-Verfahren, das viele Entscheidungsbäume (decision trees) kombiniert, um robustere und stabilere Vorhersagen zu erzielen. Jeder Baum wird auf einer zufälligen Teilmenge der Daten sowie einer zufälligen Auswahl von Merkmalen trainiert, wodurch das Modell insgesamt weniger anfällig für Überanpassung ist. Ein wesentlicher Vorteil ist seine hohe Genauigkeit und Robustheit gegenüber Ausreißern. Auf der anderen Seite leidet die Interpretierbarkeit, da es schwierig ist, den Einfluss einzelner Variablen im Ensemble nachzuvollziehen, und der Rechenaufwand kann bei großen Datensätzen erheblich sein."
   ]
  },
  {
   "cell_type": "code",
   "execution_count": null,
   "metadata": {},
   "outputs": [],
   "source": [
    "# Features and train test split repeated from previous model, just to make clear what is being used:\n",
    "\n",
    "features_rf = ['Co', 'No2', 'O3', 'So2']\n",
    "X = df_classification[features_rf]\n",
    "y = df_classification['AirQualityLabel']\n",
    "\n",
    "# Split in Trainings- und Testdaten\n",
    "X_train, X_test, y_train, y_test = train_test_split(X, y, test_size=0.2, random_state=42)\n"
   ]
  },
  {
   "cell_type": "code",
   "execution_count": null,
   "metadata": {},
   "outputs": [],
   "source": [
    "# Random Forest-Modell erstellen\n",
    "rf_model = RandomForestClassifier(n_estimators=100, random_state=42)\n",
    "\n",
    "# Modell trainieren\n",
    "rf_model.fit(X_train, y_train)\n",
    "\n",
    "y_pred_rf = rf_model.predict(X_test)\n"
   ]
  },
  {
   "cell_type": "code",
   "execution_count": null,
   "metadata": {},
   "outputs": [],
   "source": [
    "# Vorhersagen & Bewertung drucken\n",
    "print(classification_report(y_test, y_pred_rf))"
   ]
  },
  {
   "cell_type": "code",
   "execution_count": null,
   "metadata": {},
   "outputs": [],
   "source": [
    "cm_rf = confusion_matrix(y_test, y_pred_rf)\n",
    "\n",
    "cm_df = pd.DataFrame(cm_rf, \n",
    "                     index=[\"Tatsächlich Negativ\", \"Tatsächlich Positiv\"], \n",
    "                     columns=[\"Vorhergesagt Negativ\", \"Vorhergesagt Positiv\"])\n",
    "\n",
    "print(cm_df)"
   ]
  },
  {
   "cell_type": "markdown",
   "metadata": {},
   "source": [
    "Der Random Forest erreicht mit 82% einen leicht höheren F1-Score als die Logistische Regression. Auch diese Modell erscheint einigermaßen ausgewogen (6 false negatives zu 9 false positives).\n",
    "\n",
    "Ein Nachteil des random Forests gegenüber der Logistischen Regression ist, dass der Einfluss einzelner Features auf das Modell im Ensemble schwer nachzuvollziehen ist. Hilfreiche Anhaltspunkte kann hier die Berechnung der Feature Importances geben, die zeigen, wie stark einzelne Features zur Verringerung der Unreinheit in den Entscheidungsbäumen beitragen. Allerdings sollte man sich bewusst sein, dass die Feature Importances nicht alle komplexen Wechselwirkungen zwischen den Features vollständig abbilden."
   ]
  },
  {
   "cell_type": "code",
   "execution_count": null,
   "metadata": {},
   "outputs": [],
   "source": [
    "# Feature importance extrahieren\n",
    "importances = rf_model.feature_importances_"
   ]
  },
  {
   "cell_type": "code",
   "execution_count": null,
   "metadata": {},
   "outputs": [],
   "source": [
    "# Feature Importance in ein DataFrame umwandeln\n",
    "feature_importance_df = pd.DataFrame({\n",
    "    'Feature': features_rf,\n",
    "    'Importance': importances\n",
    "}).sort_values(by='Importance', ascending=False)\n",
    "\n",
    "# Feature Importance anzeigen mit \"Feature\" als Hue und deaktivierter Legende\n",
    "plt.figure(figsize=(8, 4))\n",
    "sns.barplot(x='Importance', y='Feature', data=feature_importance_df,\n",
    "            hue='Feature', palette='viridis', dodge=False)\n",
    "plt.legend([], [], frameon=False)\n",
    "plt.title('Feature Importance (Random Forest)')\n",
    "plt.xlabel('Importance')\n",
    "plt.ylabel('Feature')\n",
    "plt.tight_layout();\n",
    "\n",
    "plt.savefig(\"./images/Feature_Importance_Random_Forest.png\", dpi=300, bbox_inches=\"tight\")"
   ]
  },
  {
   "cell_type": "markdown",
   "metadata": {},
   "source": [
    "Am wichtigsten für die Klassifizierung ist das Feature \"CO\". Welche Städte wurden falsch klassifiziert?"
   ]
  },
  {
   "cell_type": "code",
   "execution_count": null,
   "metadata": {},
   "outputs": [],
   "source": [
    "# Falsch klassifizierte Städte finden\n",
    "incorrect_predictions = X_test.copy()\n",
    "incorrect_predictions['True Label'] = y_test\n",
    "incorrect_predictions['Predicted Label'] = y_pred_rf\n",
    "\n",
    "# Nur falsch klassifizierte Städte herausfiltern\n",
    "incorrect_predictions = incorrect_predictions[incorrect_predictions['True Label'] != incorrect_predictions['Predicted Label']]\n",
    "\n",
    "# CO-Werte der falsch klassifizierten Städte\n",
    "incorrect_predictions['CO'] = X_test.loc[incorrect_predictions.index, 'Co']\n",
    "\n",
    "# Ausgabe der Städte mit ihren CO-Werten\n",
    "# incorrect_predictions[['True Label', 'Predicted Label', 'CO', 'So2', 'O3', 'No2']].sort_values(by='CO', ascending=False)\n",
    "incorrect_predictions\n"
   ]
  },
  {
   "cell_type": "code",
   "execution_count": null,
   "metadata": {},
   "outputs": [],
   "source": [
    "incorrect_predictions.index"
   ]
  },
  {
   "cell_type": "markdown",
   "metadata": {},
   "source": [
    "Welche Messwerte (Median) haben die Städte im einzelnen?"
   ]
  },
  {
   "cell_type": "code",
   "execution_count": null,
   "metadata": {},
   "outputs": [],
   "source": [
    "df_classification.loc[['Budapest', 'Okayama', 'Prato', 'Lampang', 'Nara-shi', 'Tuzla',\n",
    "          'Abu dhabi', 'Worcester', 'Suncheon', 'San luis potosí', 'Zabrze',\n",
    "          'Concepción', 'Tainan', 'Douliu', 'Winnipeg']]"
   ]
  },
  {
   "cell_type": "code",
   "execution_count": null,
   "metadata": {},
   "outputs": [],
   "source": [
    "# CO-Werte der falsch klassifizierten Städte\n",
    "co_values = incorrect_predictions['CO']\n",
    "\n",
    "# Berechne die wichtigsten Statistiken (Durchschnitt, IQR)\n",
    "co_mean = co_values.mean()\n",
    "co_std = co_values.std()\n",
    "co_min = co_values.min()\n",
    "co_max = co_values.max()\n",
    "\n",
    "# Berechne Interquartilsabstand (IQR)\n",
    "Q1 = co_values.quantile(0.25)\n",
    "Q3 = co_values.quantile(0.75)\n",
    "IQR = Q3 - Q1\n",
    "\n",
    "# Anzeigen der CO-Statistiken\n",
    "print(f\"Durchschnittlicher CO-Wert: {co_mean:.2f}\")\n",
    "print(f\"Standardabweichung: {co_std:.2f}\")\n",
    "print(f\"Minimaler CO-Wert: {co_min:.2f}\")\n",
    "print(f\"Maximaler CO-Wert: {co_max:.2f}\")\n",
    "print(f\"Interquartilsabstand (IQR): {IQR:.2f}\")\n"
   ]
  },
  {
   "cell_type": "markdown",
   "metadata": {},
   "source": [
    "Man sieht, dass das Modell vor allem dann falsch klassifiziert, wenn das Feature mit der höchsten Feature Importance (CO) unerwartet niedrig ist.\n",
    "\n",
    "Ich glaube nicht, dass man da noch viel drehen kann. Das Modell ist eigentlich recht gut, wenn man bedenkt, dass die Messwerte zum Teil recht abenteuerlich sind."
   ]
  },
  {
   "cell_type": "markdown",
   "metadata": {},
   "source": [
    "# 7. Gradient Boosting\n",
    "\n",
    "Gradient Boosting ist ein sequentielles Ensemble-Verfahren, bei dem schwache Lernmodelle – meist kleine Entscheidungsbäume – iterativ trainiert werden, um die Fehler der vorherigen Modelle zu korrigieren. Das Modell optimiert dabei schrittweise eine Verlustfunktion mithilfe von Gradientenabstieg, was zu einer sehr präzisen Vorhersage führt.\n",
    "\n",
    "Zu den Vorteilen zählen eine hohe Leistungsfähigkeit und die Fähigkeit, komplexe Zusammenhänge zu erfassen. Allerdings kann Gradient Boosting bei unzureichender Abstimmung der Hyperparameter schnell überanpassen und ist in der Regel rechenintensiver als einfachere Modelle."
   ]
  },
  {
   "cell_type": "code",
   "execution_count": null,
   "metadata": {},
   "outputs": [],
   "source": [
    "# Gradient Boosting Modell erstellen\n",
    "gb_model = GradientBoostingClassifier(n_estimators=100, random_state=42)\n",
    "\n",
    "# Modell trainieren\n",
    "gb_model.fit(X_train, y_train)\n",
    "\n",
    "# Vorhersagen & Bewertung\n",
    "y_pred_gb = gb_model.predict(X_test)\n",
    "print(classification_report(y_test, y_pred_gb))\n",
    "# print(confusion_matrix(y_test, y_pred_gb))\n"
   ]
  },
  {
   "cell_type": "code",
   "execution_count": null,
   "metadata": {},
   "outputs": [],
   "source": [
    "cm_gb = confusion_matrix(y_test, y_pred_gb)\n",
    "\n",
    "cm_df = pd.DataFrame(cm_gb, \n",
    "                     index=[\"Tatsächlich Negativ\", \"Tatsächlich Positiv\"], \n",
    "                     columns=[\"Vorhergesagt Negativ\", \"Vorhergesagt Positiv\"])\n",
    "\n",
    "print(cm_df)"
   ]
  },
  {
   "cell_type": "markdown",
   "metadata": {},
   "source": [
    "Gradient Boosting erreicht mit 84% noch einmal einen leicht höheren F1-Score. Auch diese Modell erscheint einigermaßen ausgewogen (5 false negatives zu 8 false positives)."
   ]
  }
 ],
 "metadata": {
  "kernelspec": {
   "display_name": ".venv",
   "language": "python",
   "name": "python3"
  },
  "language_info": {
   "codemirror_mode": {
    "name": "ipython",
    "version": 3
   },
   "file_extension": ".py",
   "mimetype": "text/x-python",
   "name": "python",
   "nbconvert_exporter": "python",
   "pygments_lexer": "ipython3",
   "version": "3.11.4"
  }
 },
 "nbformat": 4,
 "nbformat_minor": 2
}
