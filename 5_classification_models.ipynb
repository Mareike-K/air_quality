{
 "cells": [
  {
   "cell_type": "markdown",
   "metadata": {},
   "source": [
    "# Klassifikation\n",
    "\n",
    "In diesem Notebook werden verschiedene Klassifikationsmodelle trainiert. Ziel ist es, die Städte im Datensatz aufgrund ihrer Feinstaubbelastung in zwei Klassen einzuteilen. Als Zielvariable wird also die Belastung mit mittelgroßen Feinstaubpartikeln (PM2.5, gemessen in µg/m³) angesetzt. \n",
    "\n",
    "Als Schwellenwert werden zwei Ansätze getestet:\n",
    "1. WHO-Richtline von 5 µg/m³: fachlicher Standard\n",
    "2. Median: datengetriebene Größe\n",
    "\n",
    "Als Modelle werden verglichen:\n",
    "1. Logistische Regression\n",
    "2. Random Forest\n",
    "3. Gradient Boosting\n",
    "\n",
    "Verwendet werden verschiedene Module der Python Bibliothek **Scitkit-learn** für maschinelles Lernen\n",
    "\n",
    "📌 **Datenstand:** `cleaned_air_quality_data_2025-03-27.csv`  \n",
    "📁 **Importiert aus:** lokaler Datei (--> gitignore)"
   ]
  },
  {
   "cell_type": "markdown",
   "metadata": {},
   "source": [
    "## 📚 Inhaltsverzeichnis \n",
    "(Diese Art von Inhaltsverzeichnis mit Link funktioniert leider in Notebooks nicht, weil die as JSON gespeichert werden und nicht als HTML...)\n",
    "\n",
    "- [0. Datensatz laden](#0-datensatz-laden)\n",
    "- [1. Dataframe vorbereiten](#1-dateframe-vorbereiten)\n",
    "- [2. WHO-Richtlinie](#2-who-richtlinie)\n",
    "- [3. Median der Zielvariablen](#3-median-der-zielvariablen)\n",
    "- [4. Features, Target, Train-/Test-Split](#4-features-target-train-test-split)\n",
    "- [5. Logistic Regression](#5-logistic-regression)\n",
    "- [6. Random Forest](#6-random-forest)\n",
    "- [7. Gradient Boosting](#7-gradient-boosting)\n"
   ]
  },
  {
   "cell_type": "markdown",
   "metadata": {},
   "source": [
    "# 0. Datensatz laden"
   ]
  },
  {
   "cell_type": "code",
   "execution_count": 1,
   "metadata": {},
   "outputs": [],
   "source": [
    "# imports\n",
    "import pandas as pd\n",
    "import numpy as np\n",
    "import matplotlib.pyplot as plt\n",
    "import seaborn as sns\n",
    "\n",
    "from sklearn.linear_model import LogisticRegression\n",
    "from sklearn.ensemble import RandomForestClassifier\n",
    "from sklearn.ensemble import GradientBoostingClassifier\n",
    "\n",
    "from sklearn.model_selection import train_test_split\n",
    "from sklearn.metrics import classification_report, confusion_matrix\n",
    "\n",
    "%matplotlib inline"
   ]
  },
  {
   "cell_type": "code",
   "execution_count": 2,
   "metadata": {},
   "outputs": [
    {
     "data": {
      "text/html": [
       "<div>\n",
       "<style scoped>\n",
       "    .dataframe tbody tr th:only-of-type {\n",
       "        vertical-align: middle;\n",
       "    }\n",
       "\n",
       "    .dataframe tbody tr th {\n",
       "        vertical-align: top;\n",
       "    }\n",
       "\n",
       "    .dataframe thead th {\n",
       "        text-align: right;\n",
       "    }\n",
       "</style>\n",
       "<table border=\"1\" class=\"dataframe\">\n",
       "  <thead>\n",
       "    <tr style=\"text-align: right;\">\n",
       "      <th></th>\n",
       "      <th>Year</th>\n",
       "      <th>Month</th>\n",
       "      <th>Day</th>\n",
       "      <th>Country</th>\n",
       "      <th>City</th>\n",
       "      <th>Latitude</th>\n",
       "      <th>Longitude</th>\n",
       "      <th>Population</th>\n",
       "      <th>Co</th>\n",
       "      <th>No2</th>\n",
       "      <th>...</th>\n",
       "      <th>So2</th>\n",
       "      <th>Dew</th>\n",
       "      <th>Humidity</th>\n",
       "      <th>Tavg</th>\n",
       "      <th>Tmin</th>\n",
       "      <th>Tmax</th>\n",
       "      <th>Prcp</th>\n",
       "      <th>Wdir</th>\n",
       "      <th>Wspd</th>\n",
       "      <th>Pres</th>\n",
       "    </tr>\n",
       "  </thead>\n",
       "  <tbody>\n",
       "    <tr>\n",
       "      <th>0</th>\n",
       "      <td>2019</td>\n",
       "      <td>2</td>\n",
       "      <td>28</td>\n",
       "      <td>SA</td>\n",
       "      <td>Abha</td>\n",
       "      <td>18.21639</td>\n",
       "      <td>42.50528</td>\n",
       "      <td>5616633.0</td>\n",
       "      <td>NaN</td>\n",
       "      <td>NaN</td>\n",
       "      <td>...</td>\n",
       "      <td>NaN</td>\n",
       "      <td>6.0</td>\n",
       "      <td>45.0</td>\n",
       "      <td>18.8</td>\n",
       "      <td>15.8</td>\n",
       "      <td>24.1</td>\n",
       "      <td>NaN</td>\n",
       "      <td>183.0</td>\n",
       "      <td>21.9</td>\n",
       "      <td>1022.3</td>\n",
       "    </tr>\n",
       "    <tr>\n",
       "      <th>1</th>\n",
       "      <td>2019</td>\n",
       "      <td>3</td>\n",
       "      <td>1</td>\n",
       "      <td>SA</td>\n",
       "      <td>Abha</td>\n",
       "      <td>18.21639</td>\n",
       "      <td>42.50528</td>\n",
       "      <td>5616633.0</td>\n",
       "      <td>NaN</td>\n",
       "      <td>NaN</td>\n",
       "      <td>...</td>\n",
       "      <td>NaN</td>\n",
       "      <td>12.0</td>\n",
       "      <td>64.0</td>\n",
       "      <td>17.0</td>\n",
       "      <td>13.5</td>\n",
       "      <td>23.0</td>\n",
       "      <td>NaN</td>\n",
       "      <td>185.0</td>\n",
       "      <td>21.2</td>\n",
       "      <td>1021.9</td>\n",
       "    </tr>\n",
       "    <tr>\n",
       "      <th>2</th>\n",
       "      <td>2019</td>\n",
       "      <td>3</td>\n",
       "      <td>2</td>\n",
       "      <td>SA</td>\n",
       "      <td>Abha</td>\n",
       "      <td>18.21639</td>\n",
       "      <td>42.50528</td>\n",
       "      <td>5616633.0</td>\n",
       "      <td>NaN</td>\n",
       "      <td>0.0</td>\n",
       "      <td>...</td>\n",
       "      <td>0.0</td>\n",
       "      <td>9.0</td>\n",
       "      <td>63.0</td>\n",
       "      <td>16.7</td>\n",
       "      <td>10.8</td>\n",
       "      <td>23.6</td>\n",
       "      <td>NaN</td>\n",
       "      <td>186.0</td>\n",
       "      <td>15.2</td>\n",
       "      <td>1022.3</td>\n",
       "    </tr>\n",
       "    <tr>\n",
       "      <th>3</th>\n",
       "      <td>2019</td>\n",
       "      <td>3</td>\n",
       "      <td>3</td>\n",
       "      <td>SA</td>\n",
       "      <td>Abha</td>\n",
       "      <td>18.21639</td>\n",
       "      <td>42.50528</td>\n",
       "      <td>5616633.0</td>\n",
       "      <td>NaN</td>\n",
       "      <td>0.0</td>\n",
       "      <td>...</td>\n",
       "      <td>0.0</td>\n",
       "      <td>6.0</td>\n",
       "      <td>55.0</td>\n",
       "      <td>15.9</td>\n",
       "      <td>10.8</td>\n",
       "      <td>22.0</td>\n",
       "      <td>NaN</td>\n",
       "      <td>196.0</td>\n",
       "      <td>16.5</td>\n",
       "      <td>1023.4</td>\n",
       "    </tr>\n",
       "    <tr>\n",
       "      <th>4</th>\n",
       "      <td>2019</td>\n",
       "      <td>3</td>\n",
       "      <td>4</td>\n",
       "      <td>SA</td>\n",
       "      <td>Abha</td>\n",
       "      <td>18.21639</td>\n",
       "      <td>42.50528</td>\n",
       "      <td>5616633.0</td>\n",
       "      <td>NaN</td>\n",
       "      <td>0.0</td>\n",
       "      <td>...</td>\n",
       "      <td>0.0</td>\n",
       "      <td>3.0</td>\n",
       "      <td>58.0</td>\n",
       "      <td>16.1</td>\n",
       "      <td>9.0</td>\n",
       "      <td>22.5</td>\n",
       "      <td>NaN</td>\n",
       "      <td>NaN</td>\n",
       "      <td>11.2</td>\n",
       "      <td>1023.8</td>\n",
       "    </tr>\n",
       "  </tbody>\n",
       "</table>\n",
       "<p>5 rows × 23 columns</p>\n",
       "</div>"
      ],
      "text/plain": [
       "   Year  Month  Day Country  City  Latitude  Longitude  Population  Co  No2  \\\n",
       "0  2019      2   28      SA  Abha  18.21639   42.50528   5616633.0 NaN  NaN   \n",
       "1  2019      3    1      SA  Abha  18.21639   42.50528   5616633.0 NaN  NaN   \n",
       "2  2019      3    2      SA  Abha  18.21639   42.50528   5616633.0 NaN  0.0   \n",
       "3  2019      3    3      SA  Abha  18.21639   42.50528   5616633.0 NaN  0.0   \n",
       "4  2019      3    4      SA  Abha  18.21639   42.50528   5616633.0 NaN  0.0   \n",
       "\n",
       "   ...  So2   Dew  Humidity  Tavg  Tmin  Tmax  Prcp   Wdir  Wspd    Pres  \n",
       "0  ...  NaN   6.0      45.0  18.8  15.8  24.1   NaN  183.0  21.9  1022.3  \n",
       "1  ...  NaN  12.0      64.0  17.0  13.5  23.0   NaN  185.0  21.2  1021.9  \n",
       "2  ...  0.0   9.0      63.0  16.7  10.8  23.6   NaN  186.0  15.2  1022.3  \n",
       "3  ...  0.0   6.0      55.0  15.9  10.8  22.0   NaN  196.0  16.5  1023.4  \n",
       "4  ...  0.0   3.0      58.0  16.1   9.0  22.5   NaN    NaN  11.2  1023.8  \n",
       "\n",
       "[5 rows x 23 columns]"
      ]
     },
     "execution_count": 2,
     "metadata": {},
     "output_type": "execute_result"
    }
   ],
   "source": [
    "df = pd.read_csv(\"data/cleaned_air_quality_data_2025-03-27.csv\")\n",
    "df.head()"
   ]
  },
  {
   "cell_type": "markdown",
   "metadata": {},
   "source": [
    "# 1. Dateframe vorbereiten\n",
    "\n",
    "Als Target benutzen wir mittelgroße Feinstaubpartikel (PM2.5), als Features alle anderen Schadstoffe im Datensatz: CO, NO₂, SO₂, O₃ und (im allerersten Modell) PM10.\n",
    "\n",
    "Weil das Imputieren von Werten für nicht vorhandenen Kategorien (Schadstoffen) für eine Stadt nicht mehr als \"Raten\" ist, werden nur Städte in die Analyse mit aufgenommen, für die Messwerte zu allen sechs Luftschadstoffen vorliegen. (--> Wiebke: Was ich meine, ist: Ich kann innerhalb einer Stadt Werte imputieren, aber es ist ziemlicher Quatsch, die Werte von einer Stadt auf die andere zu übertragen, also stadtübergreifend zu imputieren.)\n",
    "\n",
    "Die Luftqualität kann auch auf dem arithmetischen Mittel berechnet werden. Dies hat den Vorteil, dass die natürliche Varianz besser abgebildet wird und den Nachteil, dass Machine-Learning-Modelle sich bei der Klassifikation schlechter abschneiden. Beide Varianten wurden komplett durchgerechnet. Da hier das Verhalten unterschiedlicher Klassifikationsmodelle gezeigt werden soll, wurde für die finale Analyse der Median gewählt."
   ]
  },
  {
   "cell_type": "code",
   "execution_count": 3,
   "metadata": {},
   "outputs": [],
   "source": [
    "# Liste relevanter Schadstoffe\n",
    "pollutants = ['Co', 'No2', 'O3', 'Pm10', 'Pm25', 'So2']"
   ]
  },
  {
   "cell_type": "code",
   "execution_count": 4,
   "metadata": {},
   "outputs": [],
   "source": [
    "# Mittelwerte pro Stadt berechnen (Index = City)\n",
    "df_median = df.groupby('City')[pollutants].median()"
   ]
  },
  {
   "cell_type": "code",
   "execution_count": 5,
   "metadata": {},
   "outputs": [
    {
     "data": {
      "text/plain": [
       "Num_Valid_Pollutants\n",
       "0     13\n",
       "1     26\n",
       "2     21\n",
       "3     12\n",
       "4     40\n",
       "5     98\n",
       "6    406\n",
       "Name: count, dtype: int64"
      ]
     },
     "execution_count": 5,
     "metadata": {},
     "output_type": "execute_result"
    }
   ],
   "source": [
    "# Für jede Stadt: Wie viele Mittelwerte sind vorhanden?\n",
    "df_median['Num_Valid_Pollutants'] = df_median[pollutants].notna().sum(axis=1)\n",
    "\n",
    "# Übersicht: Wie viele Städte haben wie viele gültige Schadstoffwerte?\n",
    "coverage_summary = df_median['Num_Valid_Pollutants'].value_counts().sort_index()\n",
    "\n",
    "# Ergebnis anzeigen\n",
    "coverage_summary"
   ]
  },
  {
   "cell_type": "code",
   "execution_count": 6,
   "metadata": {},
   "outputs": [
    {
     "data": {
      "text/plain": [
       "406"
      ]
     },
     "execution_count": 6,
     "metadata": {},
     "output_type": "execute_result"
    }
   ],
   "source": [
    "# Nur Städte mit allen 6 Schadstoff-Mittelwerten\n",
    "\n",
    "df_median_complete = df_median[df_median['Num_Valid_Pollutants'] == 6]\n",
    "\n",
    "len(df_median_complete)"
   ]
  },
  {
   "cell_type": "markdown",
   "metadata": {},
   "source": [
    "Der Dataframe enthält nun 406 Städte, für die jeweils Werte für jeden Schadstoff vorliegen."
   ]
  },
  {
   "cell_type": "markdown",
   "metadata": {},
   "source": [
    "# 2. WHO-Richtlinie\n",
    "\n",
    "Als erstes wird die Klasseneinteilung auf der Grundlage einen fachlichen Standards, nämlich des aktuellen WHO-Grenzwerts für PM2.5 von 5 µg/m³ vorgenommen:"
   ]
  },
  {
   "cell_type": "code",
   "execution_count": 7,
   "metadata": {},
   "outputs": [
    {
     "data": {
      "text/plain": [
       "Pm25\n",
       "False    404\n",
       "True       2\n",
       "Name: count, dtype: int64"
      ]
     },
     "execution_count": 7,
     "metadata": {},
     "output_type": "execute_result"
    }
   ],
   "source": [
    "# Anzahl Städte mit guter/schlechter Luft (nach WHO-Grenzwert)\n",
    "(df_median_complete['Pm25'] <= 5).value_counts()"
   ]
  },
  {
   "cell_type": "code",
   "execution_count": 8,
   "metadata": {},
   "outputs": [
    {
     "data": {
      "text/html": [
       "<div>\n",
       "<style scoped>\n",
       "    .dataframe tbody tr th:only-of-type {\n",
       "        vertical-align: middle;\n",
       "    }\n",
       "\n",
       "    .dataframe tbody tr th {\n",
       "        vertical-align: top;\n",
       "    }\n",
       "\n",
       "    .dataframe thead th {\n",
       "        text-align: right;\n",
       "    }\n",
       "</style>\n",
       "<table border=\"1\" class=\"dataframe\">\n",
       "  <thead>\n",
       "    <tr style=\"text-align: right;\">\n",
       "      <th></th>\n",
       "      <th>Co</th>\n",
       "      <th>No2</th>\n",
       "      <th>O3</th>\n",
       "      <th>Pm10</th>\n",
       "      <th>Pm25</th>\n",
       "      <th>So2</th>\n",
       "      <th>Num_Valid_Pollutants</th>\n",
       "    </tr>\n",
       "    <tr>\n",
       "      <th>City</th>\n",
       "      <th></th>\n",
       "      <th></th>\n",
       "      <th></th>\n",
       "      <th></th>\n",
       "      <th></th>\n",
       "      <th></th>\n",
       "      <th></th>\n",
       "    </tr>\n",
       "  </thead>\n",
       "  <tbody>\n",
       "    <tr>\n",
       "      <th>Plovdiv</th>\n",
       "      <td>0.1</td>\n",
       "      <td>9.3</td>\n",
       "      <td>19.1</td>\n",
       "      <td>25.0</td>\n",
       "      <td>2.0</td>\n",
       "      <td>3.9</td>\n",
       "      <td>6</td>\n",
       "    </tr>\n",
       "    <tr>\n",
       "      <th>Yazd</th>\n",
       "      <td>22.0</td>\n",
       "      <td>35.0</td>\n",
       "      <td>0.0</td>\n",
       "      <td>61.0</td>\n",
       "      <td>0.0</td>\n",
       "      <td>22.0</td>\n",
       "      <td>6</td>\n",
       "    </tr>\n",
       "  </tbody>\n",
       "</table>\n",
       "</div>"
      ],
      "text/plain": [
       "           Co   No2    O3  Pm10  Pm25   So2  Num_Valid_Pollutants\n",
       "City                                                             \n",
       "Plovdiv   0.1   9.3  19.1  25.0   2.0   3.9                     6\n",
       "Yazd     22.0  35.0   0.0  61.0   0.0  22.0                     6"
      ]
     },
     "execution_count": 8,
     "metadata": {},
     "output_type": "execute_result"
    }
   ],
   "source": [
    "# Städte mit PM2.5 ≤ 5 µg/m³ filtern\n",
    "clean_cities = df_median_complete[df_median_complete['Pm25'] <= 5]\n",
    "\n",
    "# Ergebnis anzeigen\n",
    "clean_cities"
   ]
  },
  {
   "cell_type": "code",
   "execution_count": 9,
   "metadata": {},
   "outputs": [
    {
     "data": {
      "text/plain": [
       "City\n",
       "Plovdiv      1\n",
       "Yazd       114\n",
       "Name: Pm25, dtype: int64"
      ]
     },
     "execution_count": 9,
     "metadata": {},
     "output_type": "execute_result"
    }
   ],
   "source": [
    "# Anzahl gültiger PM2.5-Werte pro Stadt\n",
    "pm25_counts = df.groupby('City')['Pm25'].count().sort_values()\n",
    "\n",
    "# Zeige nur die \"sauberen\" Städte\n",
    "pm25_counts.loc[['Plovdiv', 'Yazd']]"
   ]
  },
  {
   "cell_type": "markdown",
   "metadata": {},
   "source": [
    "Dem WHO-Grenzwert entsprechen in unserem Datensatz nur zwei von 406 Städten: Plovdiv (Bulgarien), Yazd (Iran). Bei genauerem Hinschauen fällt allerdings auf, dass es für Plovidiv nur einen einzigen Messwert gibt und für Yazd nur sehr wenige. Die Messwerte sind damit nicht aussagekräftig.\n",
    "\n",
    "Die WHO-Richtline kann also für das Training von Klassifikationsmodellen nicht als Schwellenwert verwendet werden - es hätte keine zweite Klasse, von der es lernen könnte.\n",
    "\n",
    "**OFFENE FRAGE**: Ist es gut, für die restliche Analyse alle Städte drinzulassen, auch wenn sie nur wenige Messwerte pro Schadstoff haben? Sollte man da noch was aussortieren? Oder einfach mal so lassen, weil in der Realität die Datenqualität auch nur selten optimal ist?"
   ]
  },
  {
   "cell_type": "markdown",
   "metadata": {},
   "source": [
    "# 3. Median der Zielvariablen\n",
    "\n",
    "Als Alternative wird der Median als datengetriebener Grenzwert gewählt. Die Einteilung in Städte mit guter und schlechter Luftqualität basiert also auf dem Medianwert der durchschnittlichen PM2.5-Konzentration aller Städte im Datensatz. \n",
    "\n",
    "Durch die Verwendung des Medians entsteht eine ausgewogene Verteilung zwischen den beiden Klassen, die ein stabiles Training und eine faire Bewertung des Modells ermöglicht.\n",
    "\n",
    "Um ein Klassifikationsmodell zur Vorhersage der Luftqualität von Städten zu erstellen, wird eine Zielvariable mit dem Namen **AirQualityLabel** eingeführt. Diese ordnet jeder Stadt eine von zwei Klassen zu:\n",
    "\n",
    "- 0 → Gute Luftqualität\n",
    "\n",
    "- 1 → Schlechte Luftqualität\n",
    "\n",
    "Die Luftqualität wird aus den Medianen der einzelnen Schadstoffe pro Stadt berechnet. Städte mit einem PM2.5-Mittelwert über dem Median werden als \"schlechte Luftqualität\" (1) klassifiziert, alle anderen als \"gute Luftqualität\" (0)."
   ]
  },
  {
   "cell_type": "code",
   "execution_count": 10,
   "metadata": {},
   "outputs": [],
   "source": [
    "df_classification = df_median_complete.copy()\n",
    "\n",
    "# Median von PM2.5 berechnen\n",
    "pm25_median = df_classification['Pm25'].median()\n",
    "\n",
    "# Zielvariable hinzufügen\n",
    "df_classification['AirQualityLabel'] = (df_classification['Pm25'] > pm25_median).astype(int)"
   ]
  },
  {
   "cell_type": "code",
   "execution_count": 11,
   "metadata": {},
   "outputs": [
    {
     "data": {
      "text/plain": [
       "Co      0\n",
       "No2     0\n",
       "O3      0\n",
       "Pm10    0\n",
       "Pm25    0\n",
       "So2     0\n",
       "dtype: int64"
      ]
     },
     "execution_count": 11,
     "metadata": {},
     "output_type": "execute_result"
    }
   ],
   "source": [
    "# Umgang mit NaN-Werten\n",
    "\n",
    "# Anzahl fehlender Werte pro Spalte\n",
    "df_classification[pollutants].isna().sum()"
   ]
  },
  {
   "cell_type": "code",
   "execution_count": 14,
   "metadata": {},
   "outputs": [
    {
     "data": {
      "text/html": [
       "<div>\n",
       "<style scoped>\n",
       "    .dataframe tbody tr th:only-of-type {\n",
       "        vertical-align: middle;\n",
       "    }\n",
       "\n",
       "    .dataframe tbody tr th {\n",
       "        vertical-align: top;\n",
       "    }\n",
       "\n",
       "    .dataframe thead th {\n",
       "        text-align: right;\n",
       "    }\n",
       "</style>\n",
       "<table border=\"1\" class=\"dataframe\">\n",
       "  <thead>\n",
       "    <tr style=\"text-align: right;\">\n",
       "      <th></th>\n",
       "      <th>Co</th>\n",
       "      <th>No2</th>\n",
       "      <th>O3</th>\n",
       "      <th>Pm10</th>\n",
       "      <th>Pm25</th>\n",
       "      <th>So2</th>\n",
       "      <th>Num_Valid_Pollutants</th>\n",
       "      <th>AirQualityLabel</th>\n",
       "    </tr>\n",
       "    <tr>\n",
       "      <th>City</th>\n",
       "      <th></th>\n",
       "      <th></th>\n",
       "      <th></th>\n",
       "      <th></th>\n",
       "      <th></th>\n",
       "      <th></th>\n",
       "      <th></th>\n",
       "      <th></th>\n",
       "    </tr>\n",
       "  </thead>\n",
       "  <tbody>\n",
       "    <tr>\n",
       "      <th>Oklahoma city</th>\n",
       "      <td>4.5</td>\n",
       "      <td>6.5</td>\n",
       "      <td>28.1</td>\n",
       "      <td>18.0</td>\n",
       "      <td>33.0</td>\n",
       "      <td>1.5</td>\n",
       "      <td>6</td>\n",
       "      <td>0</td>\n",
       "    </tr>\n",
       "    <tr>\n",
       "      <th>Swansea</th>\n",
       "      <td>3.0</td>\n",
       "      <td>5.7</td>\n",
       "      <td>22.8</td>\n",
       "      <td>15.0</td>\n",
       "      <td>34.0</td>\n",
       "      <td>1.0</td>\n",
       "      <td>6</td>\n",
       "      <td>0</td>\n",
       "    </tr>\n",
       "    <tr>\n",
       "      <th>Hamburg</th>\n",
       "      <td>0.1</td>\n",
       "      <td>10.1</td>\n",
       "      <td>20.8</td>\n",
       "      <td>14.0</td>\n",
       "      <td>38.0</td>\n",
       "      <td>1.6</td>\n",
       "      <td>6</td>\n",
       "      <td>0</td>\n",
       "    </tr>\n",
       "    <tr>\n",
       "      <th>Sapporo</th>\n",
       "      <td>3.4</td>\n",
       "      <td>7.5</td>\n",
       "      <td>24.8</td>\n",
       "      <td>9.0</td>\n",
       "      <td>25.0</td>\n",
       "      <td>1.5</td>\n",
       "      <td>6</td>\n",
       "      <td>0</td>\n",
       "    </tr>\n",
       "    <tr>\n",
       "      <th>Liège</th>\n",
       "      <td>0.1</td>\n",
       "      <td>7.4</td>\n",
       "      <td>19.5</td>\n",
       "      <td>13.0</td>\n",
       "      <td>30.0</td>\n",
       "      <td>1.1</td>\n",
       "      <td>6</td>\n",
       "      <td>0</td>\n",
       "    </tr>\n",
       "    <tr>\n",
       "      <th>Lille</th>\n",
       "      <td>0.1</td>\n",
       "      <td>8.7</td>\n",
       "      <td>19.7</td>\n",
       "      <td>15.0</td>\n",
       "      <td>42.0</td>\n",
       "      <td>1.3</td>\n",
       "      <td>6</td>\n",
       "      <td>0</td>\n",
       "    </tr>\n",
       "    <tr>\n",
       "      <th>Dongguan</th>\n",
       "      <td>6.4</td>\n",
       "      <td>11.5</td>\n",
       "      <td>17.9</td>\n",
       "      <td>35.0</td>\n",
       "      <td>72.0</td>\n",
       "      <td>4.1</td>\n",
       "      <td>6</td>\n",
       "      <td>1</td>\n",
       "    </tr>\n",
       "    <tr>\n",
       "      <th>Valencia</th>\n",
       "      <td>0.1</td>\n",
       "      <td>6.0</td>\n",
       "      <td>23.6</td>\n",
       "      <td>12.0</td>\n",
       "      <td>34.0</td>\n",
       "      <td>2.1</td>\n",
       "      <td>6</td>\n",
       "      <td>0</td>\n",
       "    </tr>\n",
       "    <tr>\n",
       "      <th>Erzurum</th>\n",
       "      <td>6.7</td>\n",
       "      <td>12.8</td>\n",
       "      <td>24.0</td>\n",
       "      <td>31.0</td>\n",
       "      <td>70.0</td>\n",
       "      <td>2.8</td>\n",
       "      <td>6</td>\n",
       "      <td>1</td>\n",
       "    </tr>\n",
       "    <tr>\n",
       "      <th>Haifa</th>\n",
       "      <td>3.4</td>\n",
       "      <td>6.2</td>\n",
       "      <td>32.8</td>\n",
       "      <td>26.0</td>\n",
       "      <td>56.0</td>\n",
       "      <td>1.2</td>\n",
       "      <td>6</td>\n",
       "      <td>1</td>\n",
       "    </tr>\n",
       "  </tbody>\n",
       "</table>\n",
       "</div>"
      ],
      "text/plain": [
       "                Co   No2    O3  Pm10  Pm25  So2  Num_Valid_Pollutants  \\\n",
       "City                                                                    \n",
       "Oklahoma city  4.5   6.5  28.1  18.0  33.0  1.5                     6   \n",
       "Swansea        3.0   5.7  22.8  15.0  34.0  1.0                     6   \n",
       "Hamburg        0.1  10.1  20.8  14.0  38.0  1.6                     6   \n",
       "Sapporo        3.4   7.5  24.8   9.0  25.0  1.5                     6   \n",
       "Liège          0.1   7.4  19.5  13.0  30.0  1.1                     6   \n",
       "Lille          0.1   8.7  19.7  15.0  42.0  1.3                     6   \n",
       "Dongguan       6.4  11.5  17.9  35.0  72.0  4.1                     6   \n",
       "Valencia       0.1   6.0  23.6  12.0  34.0  2.1                     6   \n",
       "Erzurum        6.7  12.8  24.0  31.0  70.0  2.8                     6   \n",
       "Haifa          3.4   6.2  32.8  26.0  56.0  1.2                     6   \n",
       "\n",
       "               AirQualityLabel  \n",
       "City                            \n",
       "Oklahoma city                0  \n",
       "Swansea                      0  \n",
       "Hamburg                      0  \n",
       "Sapporo                      0  \n",
       "Liège                        0  \n",
       "Lille                        0  \n",
       "Dongguan                     1  \n",
       "Valencia                     0  \n",
       "Erzurum                      1  \n",
       "Haifa                        1  "
      ]
     },
     "execution_count": 14,
     "metadata": {},
     "output_type": "execute_result"
    }
   ],
   "source": [
    "df_classification.sample(10)"
   ]
  },
  {
   "cell_type": "code",
   "execution_count": 15,
   "metadata": {},
   "outputs": [
    {
     "data": {
      "text/plain": [
       "(406, 8)"
      ]
     },
     "execution_count": 15,
     "metadata": {},
     "output_type": "execute_result"
    }
   ],
   "source": [
    "df_classification.shape"
   ]
  },
  {
   "cell_type": "markdown",
   "metadata": {},
   "source": [
    "# 4. Features, Target, Train-/Test-Split\n",
    "\n",
    "Der Datensatz für die Klassifikation (df_classification) enthält 406 Städte mit Medianwerten für die Schadstoffe, die als Features verwendet werden: CO, NO₂, SO₂, O₃ und (im allerersten Modell) PM10.\n",
    "\n",
    "Als Target wird AirQualityLabel angesetzt, dessen Wert entsprechend dem Median von PM2.5 berechnet wurde (s. Abschnitt 3).\n",
    "\n",
    "Wir verwenden den Standard-Trainings-Test-Split von scikit-learn und nehmen 80% der Daten für das Training und 20% für den Test.\n"
   ]
  },
  {
   "cell_type": "code",
   "execution_count": null,
   "metadata": {},
   "outputs": [],
   "source": [
    "features_lr_pm10 = ['Co', 'No2', 'O3', 'Pm10', 'So2']\n",
    "X = df_classification[features_lr_pm10]\n",
    "y = df_classification['AirQualityLabel']"
   ]
  },
  {
   "cell_type": "code",
   "execution_count": 29,
   "metadata": {},
   "outputs": [],
   "source": [
    "\n",
    "\n",
    "# Split in Trainings- und Testdaten\n",
    "X_train, X_test, y_train, y_test = train_test_split(X, y, test_size=0.2, random_state=42)\n"
   ]
  },
  {
   "cell_type": "markdown",
   "metadata": {},
   "source": [
    "# 5. Logistic Regression\n",
    "\n",
    "Als erstes Modell wird die logistische Regression verwendet. Die logistische Regression ist ein statistisches Modell zur Vorhersage binärer Ergebnisse, indem sie die Wahrscheinlichkeit eines Ereignisses anhand einer linearen Kombination von Variablen schätzt. Dabei wird die lineare Ausgabe über eine logistische Funktion in einen Wahrscheinlichkeitswert umgewandelt. Ein großer Vorteil ist die einfache Interpretierbarkeit und schnelle Berechnung, was sie zu einem guten Ausgangspunkt für Klassifikationsaufgaben macht. Allerdings eignet sie sich primär für lineare Zusammenhänge und stößt bei komplexeren Datenstrukturen schnell an ihre Grenzen.\n",
    "\n",
    "Im ersten Modell wird PM10 als zusätzliches Feature eingebunden, um experimentell zu untersuchen, wie sich dieses stark mit PM2.5 korrelierte Merkmal auf das Modell auswirkt. Da PM2.5 als Basis zur Berechnung von AirQualityLabel dient, könnte PM10 das Modell verzerren, indem es indirekt bereits bekannte Informationen liefert. In der zweiten Runde wird PM10 entfernt, um zu evaluieren, wie sich die Modellleistung ohne diesen „künstlichen“ Informationsvorsprung verändert."
   ]
  },
  {
   "cell_type": "code",
   "execution_count": 31,
   "metadata": {},
   "outputs": [
    {
     "name": "stdout",
     "output_type": "stream",
     "text": [
      "              precision    recall  f1-score   support\n",
      "\n",
      "           0       0.88      0.93      0.90        40\n",
      "           1       0.93      0.88      0.90        42\n",
      "\n",
      "    accuracy                           0.90        82\n",
      "   macro avg       0.90      0.90      0.90        82\n",
      "weighted avg       0.90      0.90      0.90        82\n",
      "\n"
     ]
    }
   ],
   "source": [
    "#  Modelltraining\n",
    "model_lr_pm10 = LogisticRegression(max_iter=1000)\n",
    "model_lr_pm10.fit(X_train, y_train)\n",
    "\n",
    "# Vorhersagen & Bewertung\n",
    "y_pred_lr_pm10 = model_lr_pm10.predict(X_test)\n",
    "print(classification_report(y_test, y_pred_lr_pm10))"
   ]
  },
  {
   "cell_type": "markdown",
   "metadata": {},
   "source": [
    "Mit PM10 als Feature liegt der F1-Score bei 90%."
   ]
  },
  {
   "cell_type": "code",
   "execution_count": 33,
   "metadata": {},
   "outputs": [
    {
     "name": "stdout",
     "output_type": "stream",
     "text": [
      "                     Vorhergesagt Negativ  Vorhergesagt Positiv\n",
      "Tatsächlich Negativ                    37                     3\n",
      "Tatsächlich Positiv                     5                    37\n"
     ]
    }
   ],
   "source": [
    "cm_lr_pm10 = confusion_matrix(y_test, y_pred_lr_pm10)\n",
    "\n",
    "cm_df = pd.DataFrame(cm_lr_pm10, \n",
    "                     index=[\"Tatsächlich Negativ\", \"Tatsächlich Positiv\"], \n",
    "                     columns=[\"Vorhergesagt Negativ\", \"Vorhergesagt Positiv\"])\n",
    "\n",
    "print(cm_df)"
   ]
  },
  {
   "cell_type": "markdown",
   "metadata": {},
   "source": [
    "\n",
    "Das folgende Modell ist eien Wiederholung des vorhergehenden, aber ohne PM10 als Feature."
   ]
  },
  {
   "cell_type": "code",
   "execution_count": 35,
   "metadata": {},
   "outputs": [],
   "source": [
    "features_lr = ['Co', 'No2', 'O3', 'So2']\n",
    "X = df_classification[features_lr]\n",
    "y = df_classification['AirQualityLabel']"
   ]
  },
  {
   "cell_type": "code",
   "execution_count": 36,
   "metadata": {},
   "outputs": [
    {
     "name": "stdout",
     "output_type": "stream",
     "text": [
      "              precision    recall  f1-score   support\n",
      "\n",
      "           0       0.76      0.78      0.77        40\n",
      "           1       0.78      0.76      0.77        42\n",
      "\n",
      "    accuracy                           0.77        82\n",
      "   macro avg       0.77      0.77      0.77        82\n",
      "weighted avg       0.77      0.77      0.77        82\n",
      "\n"
     ]
    }
   ],
   "source": [
    "# Split in Trainings- und Testdaten\n",
    "X_train, X_test, y_train, y_test = train_test_split(X, y, test_size=0.2, random_state=42)\n",
    "\n",
    "# Modelltraining\n",
    "model = LogisticRegression(max_iter=1000)\n",
    "model.fit(X_train, y_train)\n",
    "\n",
    "# Vorhersagen & Bewertung\n",
    "y_pred_lr = model.predict(X_test)\n",
    "print(classification_report(y_test, y_pred_lr))\n"
   ]
  },
  {
   "cell_type": "markdown",
   "metadata": {},
   "source": [
    "Ohne PM10 als Feature wird nur noch ein F1-Score von 77% erreicht."
   ]
  },
  {
   "cell_type": "code",
   "execution_count": 39,
   "metadata": {},
   "outputs": [
    {
     "name": "stdout",
     "output_type": "stream",
     "text": [
      "                     Vorhergesagt Negativ  Vorhergesagt Positiv\n",
      "Tatsächlich Negativ                    31                     9\n",
      "Tatsächlich Positiv                    10                    32\n"
     ]
    }
   ],
   "source": [
    "cm_lr = confusion_matrix(y_test, y_pred_lr)\n",
    "\n",
    "cm_df = pd.DataFrame(cm_lr, \n",
    "                     index=[\"Tatsächlich Negativ\", \"Tatsächlich Positiv\"], \n",
    "                     columns=[\"Vorhergesagt Negativ\", \"Vorhergesagt Positiv\"])\n",
    "\n",
    "print(cm_df)"
   ]
  },
  {
   "cell_type": "markdown",
   "metadata": {},
   "source": [
    "\n",
    "Beide Modelle erscheinen ausgewogen - keine der beiden Klassen wird bevorzugt. Das Modell mit PM10 als Feature erreicht mit 90% einen deutlich höheren F1-Score als das Modell ohne PM10 (F1: 77%).\n",
    "\n",
    "Dennoch spricht einiges dafür, PM10 als Feature wegzulassen: Da PM10 hoch mit PM2.5 korreliert – aus dem ja das AirQualityLabel abgeleitet wird – besteht die Gefahr eines Informationslecks, bei dem das Modell indirekt schon „vorab“ Informationen über das Ziel erhält. Dies kann zu verzerrten Validierungsergebnissen und schlechterer Generalisierbarkeit führen, insbesondere wenn das Modell auf neuen, unbekannten Daten angewendet wird. Zudem erhöht die Einbeziehung hoch korrelierter Features das Risiko von Overfitting, wodurch das Modell zu sehr auf spezifische Trainingsdaten abgestimmt wird.\n",
    "\n",
    "Daher ist es sinnvoll, PM10 zu entfernen, um ein robusteres und interpretierbareres Klassifikationsmodell zu entwickeln. Die folgenden Modelle werden nur mit dem reduzierten Feature-Satz berechnet."
   ]
  },
  {
   "cell_type": "markdown",
   "metadata": {},
   "source": [
    "# 6. Random Forest\n",
    "\n",
    "Der Random Forest ist ein Ensemble-Verfahren, das viele Entscheidungsbäume (decision trees) kombiniert, um robustere und stabilere Vorhersagen zu erzielen. Jeder Baum wird auf einer zufälligen Teilmenge der Daten sowie einer zufälligen Auswahl von Merkmalen trainiert, wodurch das Modell insgesamt weniger anfällig für Überanpassung ist. Ein wesentlicher Vorteil ist seine hohe Genauigkeit und Robustheit gegenüber Ausreißern. Auf der anderen Seite leidet die Interpretierbarkeit, da es schwierig ist, den Einfluss einzelner Variablen im Ensemble nachzuvollziehen, und der Rechenaufwand kann bei großen Datensätzen erheblich sein."
   ]
  },
  {
   "cell_type": "code",
   "execution_count": 41,
   "metadata": {},
   "outputs": [],
   "source": [
    "# Features and train test split repeated from previous model, just to make clear what is being used:\n",
    "\n",
    "features_rf = ['Co', 'No2', 'O3', 'So2']\n",
    "X = df_classification[features_rf]\n",
    "y = df_classification['AirQualityLabel']\n",
    "\n",
    "# Split in Trainings- und Testdaten\n",
    "X_train, X_test, y_train, y_test = train_test_split(X, y, test_size=0.2, random_state=42)\n"
   ]
  },
  {
   "cell_type": "code",
   "execution_count": 42,
   "metadata": {},
   "outputs": [],
   "source": [
    "# Random Forest-Modell erstellen\n",
    "rf_model = RandomForestClassifier(n_estimators=100, random_state=42)\n",
    "\n",
    "# Modell trainieren\n",
    "rf_model.fit(X_train, y_train)\n",
    "\n",
    "y_pred_rf = rf_model.predict(X_test)\n"
   ]
  },
  {
   "cell_type": "code",
   "execution_count": 43,
   "metadata": {},
   "outputs": [
    {
     "name": "stdout",
     "output_type": "stream",
     "text": [
      "              precision    recall  f1-score   support\n",
      "\n",
      "           0       0.84      0.78      0.81        40\n",
      "           1       0.80      0.86      0.83        42\n",
      "\n",
      "    accuracy                           0.82        82\n",
      "   macro avg       0.82      0.82      0.82        82\n",
      "weighted avg       0.82      0.82      0.82        82\n",
      "\n"
     ]
    }
   ],
   "source": [
    "# Vorhersagen & Bewertung drucken\n",
    "print(classification_report(y_test, y_pred_rf))"
   ]
  },
  {
   "cell_type": "code",
   "execution_count": 44,
   "metadata": {},
   "outputs": [
    {
     "name": "stdout",
     "output_type": "stream",
     "text": [
      "                     Vorhergesagt Negativ  Vorhergesagt Positiv\n",
      "Tatsächlich Negativ                    31                     9\n",
      "Tatsächlich Positiv                     6                    36\n"
     ]
    }
   ],
   "source": [
    "cm_rf = confusion_matrix(y_test, y_pred_rf)\n",
    "\n",
    "cm_df = pd.DataFrame(cm_rf, \n",
    "                     index=[\"Tatsächlich Negativ\", \"Tatsächlich Positiv\"], \n",
    "                     columns=[\"Vorhergesagt Negativ\", \"Vorhergesagt Positiv\"])\n",
    "\n",
    "print(cm_df)"
   ]
  },
  {
   "cell_type": "markdown",
   "metadata": {},
   "source": [
    "Der Random Forest erreicht mit 82% einen leicht höheren F1-Score als die Logistische Regression. Auch diese Modell erscheint einigermaßen ausgewogen (6 false negatives zu 9 false positives).\n",
    "\n",
    "Ein Nachteil des random Forests gegenüber der Logistischen Regression ist, dass der Einfluss einzelner Features auf das Modell im Ensemble schwer nachzuvollziehen ist. Hilfreiche Anhaltspunkte kann hier die Berechnung der Feature Importances geben, die zeigen, wie stark einzelne Features zur Verringerung der Unreinheit in den Entscheidungsbäumen beitragen. Allerdings sollte man sich bewusst sein, dass die Feature Importances nicht alle komplexen Wechselwirkungen zwischen den Features vollständig abbilden."
   ]
  },
  {
   "cell_type": "code",
   "execution_count": 46,
   "metadata": {},
   "outputs": [],
   "source": [
    "# Feature importance extrahieren\n",
    "importances = rf_model.feature_importances_"
   ]
  },
  {
   "cell_type": "code",
   "execution_count": 49,
   "metadata": {},
   "outputs": [
    {
     "data": {
      "image/png": "[encoded data removed]",
      "text/plain": [
       "<Figure size 800x400 with 1 Axes>"
      ]
     },
     "metadata": {},
     "output_type": "display_data"
    }
   ],
   "source": [
    "# Feature Importance in ein DataFrame umwandeln\n",
    "feature_importance_df = pd.DataFrame({\n",
    "    'Feature': features_rf,\n",
    "    'Importance': importances\n",
    "}).sort_values(by='Importance', ascending=False)\n",
    "\n",
    "# Feature Importance anzeigen mit \"Feature\" als Hue und deaktivierter Legende\n",
    "plt.figure(figsize=(8, 4))\n",
    "sns.barplot(x='Importance', y='Feature', data=feature_importance_df,\n",
    "            hue='Feature', palette='viridis', dodge=False)\n",
    "plt.legend([], [], frameon=False)\n",
    "plt.title('Feature Importance (Random Forest)')\n",
    "plt.xlabel('Importance')\n",
    "plt.ylabel('Feature')\n",
    "plt.tight_layout();\n"
   ]
  },
  {
   "cell_type": "markdown",
   "metadata": {},
   "source": [
    "Am wichtigsten für die Klassifizierung ist das Feature \"CO\". Welche Städte wurden falsch klassifiziert?"
   ]
  },
  {
   "cell_type": "code",
   "execution_count": 62,
   "metadata": {},
   "outputs": [
    {
     "data": {
      "text/html": [
       "<div>\n",
       "<style scoped>\n",
       "    .dataframe tbody tr th:only-of-type {\n",
       "        vertical-align: middle;\n",
       "    }\n",
       "\n",
       "    .dataframe tbody tr th {\n",
       "        vertical-align: top;\n",
       "    }\n",
       "\n",
       "    .dataframe thead th {\n",
       "        text-align: right;\n",
       "    }\n",
       "</style>\n",
       "<table border=\"1\" class=\"dataframe\">\n",
       "  <thead>\n",
       "    <tr style=\"text-align: right;\">\n",
       "      <th></th>\n",
       "      <th>Co</th>\n",
       "      <th>No2</th>\n",
       "      <th>O3</th>\n",
       "      <th>So2</th>\n",
       "      <th>True Label</th>\n",
       "      <th>Predicted Label</th>\n",
       "      <th>CO</th>\n",
       "    </tr>\n",
       "    <tr>\n",
       "      <th>City</th>\n",
       "      <th></th>\n",
       "      <th></th>\n",
       "      <th></th>\n",
       "      <th></th>\n",
       "      <th></th>\n",
       "      <th></th>\n",
       "      <th></th>\n",
       "    </tr>\n",
       "  </thead>\n",
       "  <tbody>\n",
       "    <tr>\n",
       "      <th>Budapest</th>\n",
       "      <td>4.4</td>\n",
       "      <td>9.6</td>\n",
       "      <td>18.400</td>\n",
       "      <td>2.3</td>\n",
       "      <td>0</td>\n",
       "      <td>1</td>\n",
       "      <td>4.4</td>\n",
       "    </tr>\n",
       "    <tr>\n",
       "      <th>Okayama</th>\n",
       "      <td>3.4</td>\n",
       "      <td>8.4</td>\n",
       "      <td>24.100</td>\n",
       "      <td>5.8</td>\n",
       "      <td>0</td>\n",
       "      <td>1</td>\n",
       "      <td>3.4</td>\n",
       "    </tr>\n",
       "    <tr>\n",
       "      <th>Prato</th>\n",
       "      <td>0.1</td>\n",
       "      <td>18.3</td>\n",
       "      <td>35.000</td>\n",
       "      <td>1.6</td>\n",
       "      <td>0</td>\n",
       "      <td>1</td>\n",
       "      <td>0.1</td>\n",
       "    </tr>\n",
       "    <tr>\n",
       "      <th>Lampang</th>\n",
       "      <td>0.1</td>\n",
       "      <td>2.9</td>\n",
       "      <td>10.700</td>\n",
       "      <td>1.1</td>\n",
       "      <td>1</td>\n",
       "      <td>0</td>\n",
       "      <td>0.1</td>\n",
       "    </tr>\n",
       "    <tr>\n",
       "      <th>Nara-shi</th>\n",
       "      <td>3.4</td>\n",
       "      <td>4.7</td>\n",
       "      <td>24.800</td>\n",
       "      <td>4.3</td>\n",
       "      <td>0</td>\n",
       "      <td>1</td>\n",
       "      <td>3.4</td>\n",
       "    </tr>\n",
       "    <tr>\n",
       "      <th>Tuzla</th>\n",
       "      <td>0.1</td>\n",
       "      <td>9.0</td>\n",
       "      <td>10.400</td>\n",
       "      <td>18.1</td>\n",
       "      <td>1</td>\n",
       "      <td>0</td>\n",
       "      <td>0.1</td>\n",
       "    </tr>\n",
       "    <tr>\n",
       "      <th>Abu dhabi</th>\n",
       "      <td>0.1</td>\n",
       "      <td>10.8</td>\n",
       "      <td>27.300</td>\n",
       "      <td>5.1</td>\n",
       "      <td>1</td>\n",
       "      <td>0</td>\n",
       "      <td>0.1</td>\n",
       "    </tr>\n",
       "    <tr>\n",
       "      <th>Worcester</th>\n",
       "      <td>0.4</td>\n",
       "      <td>4.2</td>\n",
       "      <td>1.575</td>\n",
       "      <td>2.3</td>\n",
       "      <td>0</td>\n",
       "      <td>1</td>\n",
       "      <td>0.4</td>\n",
       "    </tr>\n",
       "    <tr>\n",
       "      <th>Suncheon</th>\n",
       "      <td>4.5</td>\n",
       "      <td>7.5</td>\n",
       "      <td>28.100</td>\n",
       "      <td>4.3</td>\n",
       "      <td>0</td>\n",
       "      <td>1</td>\n",
       "      <td>4.5</td>\n",
       "    </tr>\n",
       "    <tr>\n",
       "      <th>San luis potosí</th>\n",
       "      <td>4.6</td>\n",
       "      <td>10.0</td>\n",
       "      <td>14.700</td>\n",
       "      <td>2.2</td>\n",
       "      <td>0</td>\n",
       "      <td>1</td>\n",
       "      <td>4.6</td>\n",
       "    </tr>\n",
       "    <tr>\n",
       "      <th>Zabrze</th>\n",
       "      <td>1.5</td>\n",
       "      <td>7.2</td>\n",
       "      <td>18.800</td>\n",
       "      <td>3.5</td>\n",
       "      <td>1</td>\n",
       "      <td>0</td>\n",
       "      <td>1.5</td>\n",
       "    </tr>\n",
       "    <tr>\n",
       "      <th>Concepción</th>\n",
       "      <td>12.4</td>\n",
       "      <td>4.6</td>\n",
       "      <td>9.400</td>\n",
       "      <td>2.3</td>\n",
       "      <td>0</td>\n",
       "      <td>1</td>\n",
       "      <td>12.4</td>\n",
       "    </tr>\n",
       "    <tr>\n",
       "      <th>Tainan</th>\n",
       "      <td>3.5</td>\n",
       "      <td>8.8</td>\n",
       "      <td>22.400</td>\n",
       "      <td>2.9</td>\n",
       "      <td>1</td>\n",
       "      <td>0</td>\n",
       "      <td>3.5</td>\n",
       "    </tr>\n",
       "    <tr>\n",
       "      <th>Douliu</th>\n",
       "      <td>3.3</td>\n",
       "      <td>7.7</td>\n",
       "      <td>21.800</td>\n",
       "      <td>2.9</td>\n",
       "      <td>1</td>\n",
       "      <td>0</td>\n",
       "      <td>3.3</td>\n",
       "    </tr>\n",
       "    <tr>\n",
       "      <th>Winnipeg</th>\n",
       "      <td>1.1</td>\n",
       "      <td>2.3</td>\n",
       "      <td>6.500</td>\n",
       "      <td>3.6</td>\n",
       "      <td>0</td>\n",
       "      <td>1</td>\n",
       "      <td>1.1</td>\n",
       "    </tr>\n",
       "  </tbody>\n",
       "</table>\n",
       "</div>"
      ],
      "text/plain": [
       "                   Co   No2      O3   So2  True Label  Predicted Label    CO\n",
       "City                                                                        \n",
       "Budapest          4.4   9.6  18.400   2.3           0                1   4.4\n",
       "Okayama           3.4   8.4  24.100   5.8           0                1   3.4\n",
       "Prato             0.1  18.3  35.000   1.6           0                1   0.1\n",
       "Lampang           0.1   2.9  10.700   1.1           1                0   0.1\n",
       "Nara-shi          3.4   4.7  24.800   4.3           0                1   3.4\n",
       "Tuzla             0.1   9.0  10.400  18.1           1                0   0.1\n",
       "Abu dhabi         0.1  10.8  27.300   5.1           1                0   0.1\n",
       "Worcester         0.4   4.2   1.575   2.3           0                1   0.4\n",
       "Suncheon          4.5   7.5  28.100   4.3           0                1   4.5\n",
       "San luis potosí   4.6  10.0  14.700   2.2           0                1   4.6\n",
       "Zabrze            1.5   7.2  18.800   3.5           1                0   1.5\n",
       "Concepción       12.4   4.6   9.400   2.3           0                1  12.4\n",
       "Tainan            3.5   8.8  22.400   2.9           1                0   3.5\n",
       "Douliu            3.3   7.7  21.800   2.9           1                0   3.3\n",
       "Winnipeg          1.1   2.3   6.500   3.6           0                1   1.1"
      ]
     },
     "execution_count": 62,
     "metadata": {},
     "output_type": "execute_result"
    }
   ],
   "source": [
    "# Falsch klassifizierte Städte finden\n",
    "incorrect_predictions = X_test.copy()\n",
    "incorrect_predictions['True Label'] = y_test\n",
    "incorrect_predictions['Predicted Label'] = y_pred_rf\n",
    "\n",
    "# Nur falsch klassifizierte Städte herausfiltern\n",
    "incorrect_predictions = incorrect_predictions[incorrect_predictions['True Label'] != incorrect_predictions['Predicted Label']]\n",
    "\n",
    "# CO-Werte der falsch klassifizierten Städte\n",
    "incorrect_predictions['CO'] = X_test.loc[incorrect_predictions.index, 'Co']\n",
    "\n",
    "# Ausgabe der Städte mit ihren CO-Werten\n",
    "# incorrect_predictions[['True Label', 'Predicted Label', 'CO', 'So2', 'O3', 'No2']].sort_values(by='CO', ascending=False)\n",
    "incorrect_predictions\n"
   ]
  },
  {
   "cell_type": "code",
   "execution_count": 63,
   "metadata": {},
   "outputs": [
    {
     "data": {
      "text/plain": [
       "Index(['Budapest', 'Okayama', 'Prato', 'Lampang', 'Nara-shi', 'Tuzla',\n",
       "       'Abu dhabi', 'Worcester', 'Suncheon', 'San luis potosí', 'Zabrze',\n",
       "       'Concepción', 'Tainan', 'Douliu', 'Winnipeg'],\n",
       "      dtype='object', name='City')"
      ]
     },
     "execution_count": 63,
     "metadata": {},
     "output_type": "execute_result"
    }
   ],
   "source": [
    "incorrect_predictions.index"
   ]
  },
  {
   "cell_type": "markdown",
   "metadata": {},
   "source": [
    "Welche Messwerte (Median) haben die Städte im einzelnen?"
   ]
  },
  {
   "cell_type": "code",
   "execution_count": 61,
   "metadata": {},
   "outputs": [
    {
     "data": {
      "text/html": [
       "<div>\n",
       "<style scoped>\n",
       "    .dataframe tbody tr th:only-of-type {\n",
       "        vertical-align: middle;\n",
       "    }\n",
       "\n",
       "    .dataframe tbody tr th {\n",
       "        vertical-align: top;\n",
       "    }\n",
       "\n",
       "    .dataframe thead th {\n",
       "        text-align: right;\n",
       "    }\n",
       "</style>\n",
       "<table border=\"1\" class=\"dataframe\">\n",
       "  <thead>\n",
       "    <tr style=\"text-align: right;\">\n",
       "      <th></th>\n",
       "      <th>Co</th>\n",
       "      <th>No2</th>\n",
       "      <th>O3</th>\n",
       "      <th>Pm10</th>\n",
       "      <th>Pm25</th>\n",
       "      <th>So2</th>\n",
       "      <th>Num_Valid_Pollutants</th>\n",
       "      <th>AirQualityLabel</th>\n",
       "    </tr>\n",
       "    <tr>\n",
       "      <th>City</th>\n",
       "      <th></th>\n",
       "      <th></th>\n",
       "      <th></th>\n",
       "      <th></th>\n",
       "      <th></th>\n",
       "      <th></th>\n",
       "      <th></th>\n",
       "      <th></th>\n",
       "    </tr>\n",
       "  </thead>\n",
       "  <tbody>\n",
       "    <tr>\n",
       "      <th>Budapest</th>\n",
       "      <td>4.4</td>\n",
       "      <td>9.6</td>\n",
       "      <td>18.400</td>\n",
       "      <td>17.0</td>\n",
       "      <td>44.0</td>\n",
       "      <td>2.3</td>\n",
       "      <td>6</td>\n",
       "      <td>0</td>\n",
       "    </tr>\n",
       "    <tr>\n",
       "      <th>Okayama</th>\n",
       "      <td>3.4</td>\n",
       "      <td>8.4</td>\n",
       "      <td>24.100</td>\n",
       "      <td>14.0</td>\n",
       "      <td>46.0</td>\n",
       "      <td>5.8</td>\n",
       "      <td>6</td>\n",
       "      <td>0</td>\n",
       "    </tr>\n",
       "    <tr>\n",
       "      <th>Prato</th>\n",
       "      <td>0.1</td>\n",
       "      <td>18.3</td>\n",
       "      <td>35.000</td>\n",
       "      <td>17.0</td>\n",
       "      <td>46.0</td>\n",
       "      <td>1.6</td>\n",
       "      <td>6</td>\n",
       "      <td>0</td>\n",
       "    </tr>\n",
       "    <tr>\n",
       "      <th>Lampang</th>\n",
       "      <td>0.1</td>\n",
       "      <td>2.9</td>\n",
       "      <td>10.700</td>\n",
       "      <td>37.0</td>\n",
       "      <td>68.0</td>\n",
       "      <td>1.1</td>\n",
       "      <td>6</td>\n",
       "      <td>1</td>\n",
       "    </tr>\n",
       "    <tr>\n",
       "      <th>Nara-shi</th>\n",
       "      <td>3.4</td>\n",
       "      <td>4.7</td>\n",
       "      <td>24.800</td>\n",
       "      <td>12.0</td>\n",
       "      <td>38.0</td>\n",
       "      <td>4.3</td>\n",
       "      <td>6</td>\n",
       "      <td>0</td>\n",
       "    </tr>\n",
       "    <tr>\n",
       "      <th>Tuzla</th>\n",
       "      <td>0.1</td>\n",
       "      <td>9.0</td>\n",
       "      <td>10.400</td>\n",
       "      <td>25.0</td>\n",
       "      <td>67.0</td>\n",
       "      <td>18.1</td>\n",
       "      <td>6</td>\n",
       "      <td>1</td>\n",
       "    </tr>\n",
       "    <tr>\n",
       "      <th>Abu dhabi</th>\n",
       "      <td>0.1</td>\n",
       "      <td>10.8</td>\n",
       "      <td>27.300</td>\n",
       "      <td>71.0</td>\n",
       "      <td>93.0</td>\n",
       "      <td>5.1</td>\n",
       "      <td>6</td>\n",
       "      <td>1</td>\n",
       "    </tr>\n",
       "    <tr>\n",
       "      <th>Worcester</th>\n",
       "      <td>0.4</td>\n",
       "      <td>4.2</td>\n",
       "      <td>1.575</td>\n",
       "      <td>15.0</td>\n",
       "      <td>23.0</td>\n",
       "      <td>2.3</td>\n",
       "      <td>6</td>\n",
       "      <td>0</td>\n",
       "    </tr>\n",
       "    <tr>\n",
       "      <th>Suncheon</th>\n",
       "      <td>4.5</td>\n",
       "      <td>7.5</td>\n",
       "      <td>28.100</td>\n",
       "      <td>23.0</td>\n",
       "      <td>53.0</td>\n",
       "      <td>4.3</td>\n",
       "      <td>6</td>\n",
       "      <td>0</td>\n",
       "    </tr>\n",
       "    <tr>\n",
       "      <th>San luis potosí</th>\n",
       "      <td>4.6</td>\n",
       "      <td>10.0</td>\n",
       "      <td>14.700</td>\n",
       "      <td>36.0</td>\n",
       "      <td>52.5</td>\n",
       "      <td>2.2</td>\n",
       "      <td>6</td>\n",
       "      <td>0</td>\n",
       "    </tr>\n",
       "    <tr>\n",
       "      <th>Zabrze</th>\n",
       "      <td>1.5</td>\n",
       "      <td>7.2</td>\n",
       "      <td>18.800</td>\n",
       "      <td>23.0</td>\n",
       "      <td>65.0</td>\n",
       "      <td>3.5</td>\n",
       "      <td>6</td>\n",
       "      <td>1</td>\n",
       "    </tr>\n",
       "    <tr>\n",
       "      <th>Concepción</th>\n",
       "      <td>12.4</td>\n",
       "      <td>4.6</td>\n",
       "      <td>9.400</td>\n",
       "      <td>30.0</td>\n",
       "      <td>52.0</td>\n",
       "      <td>2.3</td>\n",
       "      <td>6</td>\n",
       "      <td>0</td>\n",
       "    </tr>\n",
       "    <tr>\n",
       "      <th>Tainan</th>\n",
       "      <td>3.5</td>\n",
       "      <td>8.8</td>\n",
       "      <td>22.400</td>\n",
       "      <td>39.0</td>\n",
       "      <td>65.0</td>\n",
       "      <td>2.9</td>\n",
       "      <td>6</td>\n",
       "      <td>1</td>\n",
       "    </tr>\n",
       "    <tr>\n",
       "      <th>Douliu</th>\n",
       "      <td>3.3</td>\n",
       "      <td>7.7</td>\n",
       "      <td>21.800</td>\n",
       "      <td>37.0</td>\n",
       "      <td>65.0</td>\n",
       "      <td>2.9</td>\n",
       "      <td>6</td>\n",
       "      <td>1</td>\n",
       "    </tr>\n",
       "    <tr>\n",
       "      <th>Winnipeg</th>\n",
       "      <td>1.1</td>\n",
       "      <td>2.3</td>\n",
       "      <td>6.500</td>\n",
       "      <td>5.0</td>\n",
       "      <td>20.0</td>\n",
       "      <td>3.6</td>\n",
       "      <td>6</td>\n",
       "      <td>0</td>\n",
       "    </tr>\n",
       "  </tbody>\n",
       "</table>\n",
       "</div>"
      ],
      "text/plain": [
       "                   Co   No2      O3  Pm10  Pm25   So2  Num_Valid_Pollutants  \\\n",
       "City                                                                          \n",
       "Budapest          4.4   9.6  18.400  17.0  44.0   2.3                     6   \n",
       "Okayama           3.4   8.4  24.100  14.0  46.0   5.8                     6   \n",
       "Prato             0.1  18.3  35.000  17.0  46.0   1.6                     6   \n",
       "Lampang           0.1   2.9  10.700  37.0  68.0   1.1                     6   \n",
       "Nara-shi          3.4   4.7  24.800  12.0  38.0   4.3                     6   \n",
       "Tuzla             0.1   9.0  10.400  25.0  67.0  18.1                     6   \n",
       "Abu dhabi         0.1  10.8  27.300  71.0  93.0   5.1                     6   \n",
       "Worcester         0.4   4.2   1.575  15.0  23.0   2.3                     6   \n",
       "Suncheon          4.5   7.5  28.100  23.0  53.0   4.3                     6   \n",
       "San luis potosí   4.6  10.0  14.700  36.0  52.5   2.2                     6   \n",
       "Zabrze            1.5   7.2  18.800  23.0  65.0   3.5                     6   \n",
       "Concepción       12.4   4.6   9.400  30.0  52.0   2.3                     6   \n",
       "Tainan            3.5   8.8  22.400  39.0  65.0   2.9                     6   \n",
       "Douliu            3.3   7.7  21.800  37.0  65.0   2.9                     6   \n",
       "Winnipeg          1.1   2.3   6.500   5.0  20.0   3.6                     6   \n",
       "\n",
       "                 AirQualityLabel  \n",
       "City                              \n",
       "Budapest                       0  \n",
       "Okayama                        0  \n",
       "Prato                          0  \n",
       "Lampang                        1  \n",
       "Nara-shi                       0  \n",
       "Tuzla                          1  \n",
       "Abu dhabi                      1  \n",
       "Worcester                      0  \n",
       "Suncheon                       0  \n",
       "San luis potosí                0  \n",
       "Zabrze                         1  \n",
       "Concepción                     0  \n",
       "Tainan                         1  \n",
       "Douliu                         1  \n",
       "Winnipeg                       0  "
      ]
     },
     "execution_count": 61,
     "metadata": {},
     "output_type": "execute_result"
    }
   ],
   "source": [
    "df_classification.loc[['Budapest', 'Okayama', 'Prato', 'Lampang', 'Nara-shi', 'Tuzla',\n",
    "          'Abu dhabi', 'Worcester', 'Suncheon', 'San luis potosí', 'Zabrze',\n",
    "          'Concepción', 'Tainan', 'Douliu', 'Winnipeg']]"
   ]
  },
  {
   "cell_type": "code",
   "execution_count": 51,
   "metadata": {},
   "outputs": [
    {
     "name": "stdout",
     "output_type": "stream",
     "text": [
      "Durchschnittlicher CO-Wert: 2.86\n",
      "Standardabweichung: 3.18\n",
      "Minimaler CO-Wert: 0.10\n",
      "Maximaler CO-Wert: 12.40\n",
      "Interquartilsabstand (IQR): 3.70\n"
     ]
    }
   ],
   "source": [
    "# CO-Werte der falsch klassifizierten Städte\n",
    "co_values = incorrect_predictions['CO']\n",
    "\n",
    "# Berechne die wichtigsten Statistiken (Durchschnitt, IQR)\n",
    "co_mean = co_values.mean()\n",
    "co_std = co_values.std()\n",
    "co_min = co_values.min()\n",
    "co_max = co_values.max()\n",
    "\n",
    "# Berechne Interquartilsabstand (IQR)\n",
    "Q1 = co_values.quantile(0.25)\n",
    "Q3 = co_values.quantile(0.75)\n",
    "IQR = Q3 - Q1\n",
    "\n",
    "# Anzeigen der CO-Statistiken\n",
    "print(f\"Durchschnittlicher CO-Wert: {co_mean:.2f}\")\n",
    "print(f\"Standardabweichung: {co_std:.2f}\")\n",
    "print(f\"Minimaler CO-Wert: {co_min:.2f}\")\n",
    "print(f\"Maximaler CO-Wert: {co_max:.2f}\")\n",
    "print(f\"Interquartilsabstand (IQR): {IQR:.2f}\")\n"
   ]
  },
  {
   "cell_type": "markdown",
   "metadata": {},
   "source": [
    "Man sieht, dass das Modell vor allem dann falsch klassifiziert, wenn das Feature mit der höchsten Feature Importance (CO) unerwartet niedrig ist.\n",
    "\n",
    "Ich glaube nicht, dass man da noch viel drehen kann. Das Modell ist eigentlich recht gut, wenn man bedenkt, dass die Messwerte zum Teil recht abenteuerlich sind."
   ]
  },
  {
   "cell_type": "markdown",
   "metadata": {},
   "source": [
    "# 7. Gradient Boosting\n",
    "\n",
    "Gradient Boosting ist ein sequentielles Ensemble-Verfahren, bei dem schwache Lernmodelle – meist kleine Entscheidungsbäume – iterativ trainiert werden, um die Fehler der vorherigen Modelle zu korrigieren. Das Modell optimiert dabei schrittweise eine Verlustfunktion mithilfe von Gradientenabstieg, was zu einer sehr präzisen Vorhersage führt.\n",
    "\n",
    "Zu den Vorteilen zählen eine hohe Leistungsfähigkeit und die Fähigkeit, komplexe Zusammenhänge zu erfassen. Allerdings kann Gradient Boosting bei unzureichender Abstimmung der Hyperparameter schnell überanpassen und ist in der Regel rechenintensiver als einfachere Modelle."
   ]
  },
  {
   "cell_type": "code",
   "execution_count": 64,
   "metadata": {},
   "outputs": [
    {
     "name": "stdout",
     "output_type": "stream",
     "text": [
      "              precision    recall  f1-score   support\n",
      "\n",
      "           0       0.86      0.80      0.83        40\n",
      "           1       0.82      0.88      0.85        42\n",
      "\n",
      "    accuracy                           0.84        82\n",
      "   macro avg       0.84      0.84      0.84        82\n",
      "weighted avg       0.84      0.84      0.84        82\n",
      "\n"
     ]
    }
   ],
   "source": [
    "# Gradient Boosting Modell erstellen\n",
    "gb_model = GradientBoostingClassifier(n_estimators=100, random_state=42)\n",
    "\n",
    "# Modell trainieren\n",
    "gb_model.fit(X_train, y_train)\n",
    "\n",
    "# Vorhersagen & Bewertung\n",
    "y_pred_gb = gb_model.predict(X_test)\n",
    "print(classification_report(y_test, y_pred_gb))\n",
    "# print(confusion_matrix(y_test, y_pred_gb))\n"
   ]
  },
  {
   "cell_type": "code",
   "execution_count": 65,
   "metadata": {},
   "outputs": [
    {
     "name": "stdout",
     "output_type": "stream",
     "text": [
      "                     Vorhergesagt Negativ  Vorhergesagt Positiv\n",
      "Tatsächlich Negativ                    32                     8\n",
      "Tatsächlich Positiv                     5                    37\n"
     ]
    }
   ],
   "source": [
    "cm_gb = confusion_matrix(y_test, y_pred_gb)\n",
    "\n",
    "cm_df = pd.DataFrame(cm_gb, \n",
    "                     index=[\"Tatsächlich Negativ\", \"Tatsächlich Positiv\"], \n",
    "                     columns=[\"Vorhergesagt Negativ\", \"Vorhergesagt Positiv\"])\n",
    "\n",
    "print(cm_df)"
   ]
  },
  {
   "cell_type": "markdown",
   "metadata": {},
   "source": [
    "Gradient Boosting erreicht mit 84% noch einmal einen leicht höheren F1-Score. Auch diese Modell erscheint einigermaßen ausgewogen (5 false negatives zu 8 false positives)."
   ]
  }
 ],
 "metadata": {
  "kernelspec": {
   "display_name": ".venv",
   "language": "python",
   "name": "python3"
  },
  "language_info": {
   "codemirror_mode": {
    "name": "ipython",
    "version": 3
   },
   "file_extension": ".py",
   "mimetype": "text/x-python",
   "name": "python",
   "nbconvert_exporter": "python",
   "pygments_lexer": "ipython3",
   "version": "3.11.4"
  }
 },
 "nbformat": 4,
 "nbformat_minor": 2
}
