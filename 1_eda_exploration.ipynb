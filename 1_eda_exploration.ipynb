{
 "cells": [
  {
   "cell_type": "markdown",
   "metadata": {},
   "source": [
    "# EDA – Exploratory Data Analysis\n",
    "\n",
    "In diesem Notebook wird die explorative Datenanalyse (EDA) durchgeführt. Ziel ist es, ein grundlegendes Verständnis für die Daten zu gewinnen, potenzielle Probleme wie Ausreißer oder fehlende Werte zu identifizieren.\n",
    "\n",
    "Die EDA basiert auf einer gereinigten Version des Datensatzes, die in einem separaten Notebook (`0_data_cleaning.ipynb`) erzeugt wurde.\n",
    "\n",
    "📌 **Datenstand:** `cleaned_data.csv`  \n",
    "📁 **Importiert aus:** lokaler Datei (--> gitignore)"
   ]
  },
  {
   "cell_type": "markdown",
   "metadata": {},
   "source": [
    "## 📚 Inhaltsverzeichnis \n",
    "(Diese Art von Inhaltsverzeichnis mit Link funktioniert leider in Notebooks nicht, weil die as JSON gespeichert werden und nicht als HTML...)\n",
    "\n",
    "- [0. Datensatz laden](#0-datensatz-laden)\n",
    "- [1. Überblick über den Datensatz](#1-überblick-über-den-datensatz)\n",
    "- [2. Schadstoffe – Deskriptive Statistik & Ausreißer](#2-deskriptive-statistik--ausreisser-handling-schadstoffe)\n",
    "  - [2.1 Mittelgroße Feinstaubpartikel (PM25)](#21-mittelgroße-feinstaubpartikel-pm25)\n",
    "  - [2.2 Große Feinstaubpartikel (PM10)](#22-große-feinstaubpartikel-pm10)\n",
    "  - [2.3 Kohlenmonoxid (CO)](#23-kohlenmonoxid-co)\n",
    "  - [2.4 Stickstoffdioxid (NO2)](#24-stickstoffdioxid-no2)\n",
    "  - [2.5 Schwefeldioxid (SO2)](#25-schwefeldioxid-so2)\n",
    "  - [2.6 Ozon (O3)](#26-ozon-o3)\n",
    "  - [2.7 Anzahl der entfernten Werte](#27-tabelle-zur-anzahl-der-entfernten-werte-pro-spalte)\n",
    "- [3. Wetter – Deskriptive Statistik & Ausreißer](#3-deskriptive-statistik--ausreisser-handling-wetter)\n",
    "- [4. Speichern des ausreißerbereinigten Datensatzes](#4-speichern-des-ausreisserbereinigten-datensatzes)\n"
   ]
  },
  {
   "cell_type": "markdown",
   "metadata": {},
   "source": [
    "# 0. Datensatz laden"
   ]
  },
  {
   "cell_type": "code",
   "execution_count": null,
   "metadata": {},
   "outputs": [],
   "source": [
    "# imports\n",
    "import os\n",
    "import numpy as np\n",
    "import pandas as pd\n",
    "import matplotlib.pyplot as plt\n",
    "import seaborn as sns\n",
    "from scipy.stats import skew\n",
    "from datetime import date\n",
    "%matplotlib inline"
   ]
  },
  {
   "cell_type": "code",
   "execution_count": 11,
   "metadata": {},
   "outputs": [],
   "source": [
    "# Settings for displaying floats\n",
    "pd.set_option('display.float_format', '{:,.2f}'.format)"
   ]
  },
  {
   "cell_type": "code",
   "execution_count": 12,
   "metadata": {},
   "outputs": [
    {
     "data": {
      "text/html": [
       "<div>\n",
       "<style scoped>\n",
       "    .dataframe tbody tr th:only-of-type {\n",
       "        vertical-align: middle;\n",
       "    }\n",
       "\n",
       "    .dataframe tbody tr th {\n",
       "        vertical-align: top;\n",
       "    }\n",
       "\n",
       "    .dataframe thead th {\n",
       "        text-align: right;\n",
       "    }\n",
       "</style>\n",
       "<table border=\"1\" class=\"dataframe\">\n",
       "  <thead>\n",
       "    <tr style=\"text-align: right;\">\n",
       "      <th></th>\n",
       "      <th>Year</th>\n",
       "      <th>Month</th>\n",
       "      <th>Day</th>\n",
       "      <th>Country</th>\n",
       "      <th>City</th>\n",
       "      <th>Latitude</th>\n",
       "      <th>Longitude</th>\n",
       "      <th>Population</th>\n",
       "      <th>Co</th>\n",
       "      <th>No2</th>\n",
       "      <th>...</th>\n",
       "      <th>So2</th>\n",
       "      <th>Dew</th>\n",
       "      <th>Humidity</th>\n",
       "      <th>Tavg</th>\n",
       "      <th>Tmin</th>\n",
       "      <th>Tmax</th>\n",
       "      <th>Prcp</th>\n",
       "      <th>Wdir</th>\n",
       "      <th>Wspd</th>\n",
       "      <th>Pres</th>\n",
       "    </tr>\n",
       "  </thead>\n",
       "  <tbody>\n",
       "    <tr>\n",
       "      <th>0</th>\n",
       "      <td>2019</td>\n",
       "      <td>2</td>\n",
       "      <td>28</td>\n",
       "      <td>SA</td>\n",
       "      <td>Abha</td>\n",
       "      <td>18.22</td>\n",
       "      <td>42.51</td>\n",
       "      <td>5,616,633.00</td>\n",
       "      <td>NaN</td>\n",
       "      <td>NaN</td>\n",
       "      <td>...</td>\n",
       "      <td>NaN</td>\n",
       "      <td>6.00</td>\n",
       "      <td>45.00</td>\n",
       "      <td>18.80</td>\n",
       "      <td>15.80</td>\n",
       "      <td>24.10</td>\n",
       "      <td>NaN</td>\n",
       "      <td>183.00</td>\n",
       "      <td>21.90</td>\n",
       "      <td>1,022.30</td>\n",
       "    </tr>\n",
       "    <tr>\n",
       "      <th>1</th>\n",
       "      <td>2019</td>\n",
       "      <td>3</td>\n",
       "      <td>1</td>\n",
       "      <td>SA</td>\n",
       "      <td>Abha</td>\n",
       "      <td>18.22</td>\n",
       "      <td>42.51</td>\n",
       "      <td>5,616,633.00</td>\n",
       "      <td>NaN</td>\n",
       "      <td>NaN</td>\n",
       "      <td>...</td>\n",
       "      <td>NaN</td>\n",
       "      <td>12.00</td>\n",
       "      <td>64.00</td>\n",
       "      <td>17.00</td>\n",
       "      <td>13.50</td>\n",
       "      <td>23.00</td>\n",
       "      <td>NaN</td>\n",
       "      <td>185.00</td>\n",
       "      <td>21.20</td>\n",
       "      <td>1,021.90</td>\n",
       "    </tr>\n",
       "    <tr>\n",
       "      <th>2</th>\n",
       "      <td>2019</td>\n",
       "      <td>3</td>\n",
       "      <td>2</td>\n",
       "      <td>SA</td>\n",
       "      <td>Abha</td>\n",
       "      <td>18.22</td>\n",
       "      <td>42.51</td>\n",
       "      <td>5,616,633.00</td>\n",
       "      <td>NaN</td>\n",
       "      <td>0.00</td>\n",
       "      <td>...</td>\n",
       "      <td>0.00</td>\n",
       "      <td>9.00</td>\n",
       "      <td>63.00</td>\n",
       "      <td>16.70</td>\n",
       "      <td>10.80</td>\n",
       "      <td>23.60</td>\n",
       "      <td>NaN</td>\n",
       "      <td>186.00</td>\n",
       "      <td>15.20</td>\n",
       "      <td>1,022.30</td>\n",
       "    </tr>\n",
       "    <tr>\n",
       "      <th>3</th>\n",
       "      <td>2019</td>\n",
       "      <td>3</td>\n",
       "      <td>3</td>\n",
       "      <td>SA</td>\n",
       "      <td>Abha</td>\n",
       "      <td>18.22</td>\n",
       "      <td>42.51</td>\n",
       "      <td>5,616,633.00</td>\n",
       "      <td>NaN</td>\n",
       "      <td>0.00</td>\n",
       "      <td>...</td>\n",
       "      <td>0.00</td>\n",
       "      <td>6.00</td>\n",
       "      <td>55.00</td>\n",
       "      <td>15.90</td>\n",
       "      <td>10.80</td>\n",
       "      <td>22.00</td>\n",
       "      <td>NaN</td>\n",
       "      <td>196.00</td>\n",
       "      <td>16.50</td>\n",
       "      <td>1,023.40</td>\n",
       "    </tr>\n",
       "    <tr>\n",
       "      <th>4</th>\n",
       "      <td>2019</td>\n",
       "      <td>3</td>\n",
       "      <td>4</td>\n",
       "      <td>SA</td>\n",
       "      <td>Abha</td>\n",
       "      <td>18.22</td>\n",
       "      <td>42.51</td>\n",
       "      <td>5,616,633.00</td>\n",
       "      <td>NaN</td>\n",
       "      <td>0.00</td>\n",
       "      <td>...</td>\n",
       "      <td>0.00</td>\n",
       "      <td>3.00</td>\n",
       "      <td>58.00</td>\n",
       "      <td>16.10</td>\n",
       "      <td>9.00</td>\n",
       "      <td>22.50</td>\n",
       "      <td>NaN</td>\n",
       "      <td>NaN</td>\n",
       "      <td>11.20</td>\n",
       "      <td>1,023.80</td>\n",
       "    </tr>\n",
       "  </tbody>\n",
       "</table>\n",
       "<p>5 rows × 23 columns</p>\n",
       "</div>"
      ],
      "text/plain": [
       "   Year  Month  Day Country  City  Latitude  Longitude   Population  Co  No2  \\\n",
       "0  2019      2   28      SA  Abha     18.22      42.51 5,616,633.00 NaN  NaN   \n",
       "1  2019      3    1      SA  Abha     18.22      42.51 5,616,633.00 NaN  NaN   \n",
       "2  2019      3    2      SA  Abha     18.22      42.51 5,616,633.00 NaN 0.00   \n",
       "3  2019      3    3      SA  Abha     18.22      42.51 5,616,633.00 NaN 0.00   \n",
       "4  2019      3    4      SA  Abha     18.22      42.51 5,616,633.00 NaN 0.00   \n",
       "\n",
       "   ...  So2   Dew  Humidity  Tavg  Tmin  Tmax  Prcp   Wdir  Wspd     Pres  \n",
       "0  ...  NaN  6.00     45.00 18.80 15.80 24.10   NaN 183.00 21.90 1,022.30  \n",
       "1  ...  NaN 12.00     64.00 17.00 13.50 23.00   NaN 185.00 21.20 1,021.90  \n",
       "2  ... 0.00  9.00     63.00 16.70 10.80 23.60   NaN 186.00 15.20 1,022.30  \n",
       "3  ... 0.00  6.00     55.00 15.90 10.80 22.00   NaN 196.00 16.50 1,023.40  \n",
       "4  ... 0.00  3.00     58.00 16.10  9.00 22.50   NaN    NaN 11.20 1,023.80  \n",
       "\n",
       "[5 rows x 23 columns]"
      ]
     },
     "execution_count": 12,
     "metadata": {},
     "output_type": "execute_result"
    }
   ],
   "source": [
    "df = pd.read_csv(\"./data/cleaned_data.csv\")\n",
    "df.head()"
   ]
  },
  {
   "cell_type": "code",
   "execution_count": 13,
   "metadata": {},
   "outputs": [
    {
     "name": "stdout",
     "output_type": "stream",
     "text": [
      "Anzahl Zeilen: 1,695,041\n",
      "Anzahl Spalten: 23\n"
     ]
    },
    {
     "data": {
      "text/html": [
       "<div>\n",
       "<style scoped>\n",
       "    .dataframe tbody tr th:only-of-type {\n",
       "        vertical-align: middle;\n",
       "    }\n",
       "\n",
       "    .dataframe tbody tr th {\n",
       "        vertical-align: top;\n",
       "    }\n",
       "\n",
       "    .dataframe thead th {\n",
       "        text-align: right;\n",
       "    }\n",
       "</style>\n",
       "<table border=\"1\" class=\"dataframe\">\n",
       "  <thead>\n",
       "    <tr style=\"text-align: right;\">\n",
       "      <th></th>\n",
       "      <th>Year</th>\n",
       "      <th>Month</th>\n",
       "      <th>Day</th>\n",
       "      <th>Country</th>\n",
       "      <th>City</th>\n",
       "      <th>Latitude</th>\n",
       "      <th>Longitude</th>\n",
       "      <th>Population</th>\n",
       "      <th>Co</th>\n",
       "      <th>No2</th>\n",
       "      <th>...</th>\n",
       "      <th>So2</th>\n",
       "      <th>Dew</th>\n",
       "      <th>Humidity</th>\n",
       "      <th>Tavg</th>\n",
       "      <th>Tmin</th>\n",
       "      <th>Tmax</th>\n",
       "      <th>Prcp</th>\n",
       "      <th>Wdir</th>\n",
       "      <th>Wspd</th>\n",
       "      <th>Pres</th>\n",
       "    </tr>\n",
       "  </thead>\n",
       "  <tbody>\n",
       "    <tr>\n",
       "      <th>0</th>\n",
       "      <td>2019</td>\n",
       "      <td>2</td>\n",
       "      <td>28</td>\n",
       "      <td>SA</td>\n",
       "      <td>Abha</td>\n",
       "      <td>18.22</td>\n",
       "      <td>42.51</td>\n",
       "      <td>5,616,633.00</td>\n",
       "      <td>NaN</td>\n",
       "      <td>NaN</td>\n",
       "      <td>...</td>\n",
       "      <td>NaN</td>\n",
       "      <td>6.00</td>\n",
       "      <td>45.00</td>\n",
       "      <td>18.80</td>\n",
       "      <td>15.80</td>\n",
       "      <td>24.10</td>\n",
       "      <td>NaN</td>\n",
       "      <td>183.00</td>\n",
       "      <td>21.90</td>\n",
       "      <td>1,022.30</td>\n",
       "    </tr>\n",
       "    <tr>\n",
       "      <th>1</th>\n",
       "      <td>2019</td>\n",
       "      <td>3</td>\n",
       "      <td>1</td>\n",
       "      <td>SA</td>\n",
       "      <td>Abha</td>\n",
       "      <td>18.22</td>\n",
       "      <td>42.51</td>\n",
       "      <td>5,616,633.00</td>\n",
       "      <td>NaN</td>\n",
       "      <td>NaN</td>\n",
       "      <td>...</td>\n",
       "      <td>NaN</td>\n",
       "      <td>12.00</td>\n",
       "      <td>64.00</td>\n",
       "      <td>17.00</td>\n",
       "      <td>13.50</td>\n",
       "      <td>23.00</td>\n",
       "      <td>NaN</td>\n",
       "      <td>185.00</td>\n",
       "      <td>21.20</td>\n",
       "      <td>1,021.90</td>\n",
       "    </tr>\n",
       "    <tr>\n",
       "      <th>2</th>\n",
       "      <td>2019</td>\n",
       "      <td>3</td>\n",
       "      <td>2</td>\n",
       "      <td>SA</td>\n",
       "      <td>Abha</td>\n",
       "      <td>18.22</td>\n",
       "      <td>42.51</td>\n",
       "      <td>5,616,633.00</td>\n",
       "      <td>NaN</td>\n",
       "      <td>0.00</td>\n",
       "      <td>...</td>\n",
       "      <td>0.00</td>\n",
       "      <td>9.00</td>\n",
       "      <td>63.00</td>\n",
       "      <td>16.70</td>\n",
       "      <td>10.80</td>\n",
       "      <td>23.60</td>\n",
       "      <td>NaN</td>\n",
       "      <td>186.00</td>\n",
       "      <td>15.20</td>\n",
       "      <td>1,022.30</td>\n",
       "    </tr>\n",
       "    <tr>\n",
       "      <th>3</th>\n",
       "      <td>2019</td>\n",
       "      <td>3</td>\n",
       "      <td>3</td>\n",
       "      <td>SA</td>\n",
       "      <td>Abha</td>\n",
       "      <td>18.22</td>\n",
       "      <td>42.51</td>\n",
       "      <td>5,616,633.00</td>\n",
       "      <td>NaN</td>\n",
       "      <td>0.00</td>\n",
       "      <td>...</td>\n",
       "      <td>0.00</td>\n",
       "      <td>6.00</td>\n",
       "      <td>55.00</td>\n",
       "      <td>15.90</td>\n",
       "      <td>10.80</td>\n",
       "      <td>22.00</td>\n",
       "      <td>NaN</td>\n",
       "      <td>196.00</td>\n",
       "      <td>16.50</td>\n",
       "      <td>1,023.40</td>\n",
       "    </tr>\n",
       "    <tr>\n",
       "      <th>4</th>\n",
       "      <td>2019</td>\n",
       "      <td>3</td>\n",
       "      <td>4</td>\n",
       "      <td>SA</td>\n",
       "      <td>Abha</td>\n",
       "      <td>18.22</td>\n",
       "      <td>42.51</td>\n",
       "      <td>5,616,633.00</td>\n",
       "      <td>NaN</td>\n",
       "      <td>0.00</td>\n",
       "      <td>...</td>\n",
       "      <td>0.00</td>\n",
       "      <td>3.00</td>\n",
       "      <td>58.00</td>\n",
       "      <td>16.10</td>\n",
       "      <td>9.00</td>\n",
       "      <td>22.50</td>\n",
       "      <td>NaN</td>\n",
       "      <td>NaN</td>\n",
       "      <td>11.20</td>\n",
       "      <td>1,023.80</td>\n",
       "    </tr>\n",
       "  </tbody>\n",
       "</table>\n",
       "<p>5 rows × 23 columns</p>\n",
       "</div>"
      ],
      "text/plain": [
       "   Year  Month  Day Country  City  Latitude  Longitude   Population  Co  No2  \\\n",
       "0  2019      2   28      SA  Abha     18.22      42.51 5,616,633.00 NaN  NaN   \n",
       "1  2019      3    1      SA  Abha     18.22      42.51 5,616,633.00 NaN  NaN   \n",
       "2  2019      3    2      SA  Abha     18.22      42.51 5,616,633.00 NaN 0.00   \n",
       "3  2019      3    3      SA  Abha     18.22      42.51 5,616,633.00 NaN 0.00   \n",
       "4  2019      3    4      SA  Abha     18.22      42.51 5,616,633.00 NaN 0.00   \n",
       "\n",
       "   ...  So2   Dew  Humidity  Tavg  Tmin  Tmax  Prcp   Wdir  Wspd     Pres  \n",
       "0  ...  NaN  6.00     45.00 18.80 15.80 24.10   NaN 183.00 21.90 1,022.30  \n",
       "1  ...  NaN 12.00     64.00 17.00 13.50 23.00   NaN 185.00 21.20 1,021.90  \n",
       "2  ... 0.00  9.00     63.00 16.70 10.80 23.60   NaN 186.00 15.20 1,022.30  \n",
       "3  ... 0.00  6.00     55.00 15.90 10.80 22.00   NaN 196.00 16.50 1,023.40  \n",
       "4  ... 0.00  3.00     58.00 16.10  9.00 22.50   NaN    NaN 11.20 1,023.80  \n",
       "\n",
       "[5 rows x 23 columns]"
      ]
     },
     "execution_count": 13,
     "metadata": {},
     "output_type": "execute_result"
    }
   ],
   "source": [
    "# Überblick\n",
    "print(f\"Anzahl Zeilen: {df.shape[0]:,}\")\n",
    "print(f\"Anzahl Spalten: {df.shape[1]}\")\n",
    "df.head()\n"
   ]
  },
  {
   "cell_type": "markdown",
   "metadata": {},
   "source": [
    "# 1. Überblick über den Datensatz\n",
    "\n",
    "- Überblicksfunktion .overview()\n",
    "- Fehlende Werte ausloten und, wenn vorhanden, Spalten mit < 50% Daten entfernen."
   ]
  },
  {
   "cell_type": "code",
   "execution_count": 14,
   "metadata": {},
   "outputs": [],
   "source": [
    "# Function to create overview for dtypes, missing values, unique values\n",
    "\n",
    "def overview(df):\n",
    "    '''\n",
    "    Erstelle einen Überblick über einige Eigenschaften der Spalten eines DataFrames.\n",
    "    VARs\n",
    "        df: Der zu betrachtende DataFrame\n",
    "    RETURNS:\n",
    "        None\n",
    "    '''\n",
    "    display(pd.DataFrame({'dtype': df.dtypes,\n",
    "                          'total': df.count(),\n",
    "                          'missing': df.isna().sum(),\n",
    "                          'missing%': df.isna().mean()*100,\n",
    "                          'n_uniques': df.nunique(),\n",
    "                          'uniques%': df.nunique()/df.shape[0]*100,\n",
    "                          'uniques': [df[col].unique() for col in df.columns]\n",
    "                         }))\n"
   ]
  },
  {
   "cell_type": "code",
   "execution_count": 15,
   "metadata": {},
   "outputs": [
    {
     "data": {
      "text/html": [
       "<div>\n",
       "<style scoped>\n",
       "    .dataframe tbody tr th:only-of-type {\n",
       "        vertical-align: middle;\n",
       "    }\n",
       "\n",
       "    .dataframe tbody tr th {\n",
       "        vertical-align: top;\n",
       "    }\n",
       "\n",
       "    .dataframe thead th {\n",
       "        text-align: right;\n",
       "    }\n",
       "</style>\n",
       "<table border=\"1\" class=\"dataframe\">\n",
       "  <thead>\n",
       "    <tr style=\"text-align: right;\">\n",
       "      <th></th>\n",
       "      <th>dtype</th>\n",
       "      <th>total</th>\n",
       "      <th>missing</th>\n",
       "      <th>missing%</th>\n",
       "      <th>n_uniques</th>\n",
       "      <th>uniques%</th>\n",
       "      <th>uniques</th>\n",
       "    </tr>\n",
       "  </thead>\n",
       "  <tbody>\n",
       "    <tr>\n",
       "      <th>Year</th>\n",
       "      <td>int64</td>\n",
       "      <td>1695041</td>\n",
       "      <td>0</td>\n",
       "      <td>0.00</td>\n",
       "      <td>12</td>\n",
       "      <td>0.00</td>\n",
       "      <td>[2019, 2020, 2021, 2022, 2023, 2024, 2025, 201...</td>\n",
       "    </tr>\n",
       "    <tr>\n",
       "      <th>Month</th>\n",
       "      <td>int64</td>\n",
       "      <td>1695041</td>\n",
       "      <td>0</td>\n",
       "      <td>0.00</td>\n",
       "      <td>12</td>\n",
       "      <td>0.00</td>\n",
       "      <td>[2, 3, 4, 5, 6, 7, 8, 9, 10, 11, 12, 1]</td>\n",
       "    </tr>\n",
       "    <tr>\n",
       "      <th>Day</th>\n",
       "      <td>int64</td>\n",
       "      <td>1695041</td>\n",
       "      <td>0</td>\n",
       "      <td>0.00</td>\n",
       "      <td>31</td>\n",
       "      <td>0.00</td>\n",
       "      <td>[28, 1, 2, 3, 4, 5, 6, 7, 8, 9, 10, 11, 12, 13...</td>\n",
       "    </tr>\n",
       "    <tr>\n",
       "      <th>Country</th>\n",
       "      <td>object</td>\n",
       "      <td>1695041</td>\n",
       "      <td>0</td>\n",
       "      <td>0.00</td>\n",
       "      <td>95</td>\n",
       "      <td>0.01</td>\n",
       "      <td>[SA, CI, AE, GH, TR, ET, AU, MX, JP, US, DZ, K...</td>\n",
       "    </tr>\n",
       "    <tr>\n",
       "      <th>City</th>\n",
       "      <td>object</td>\n",
       "      <td>1695041</td>\n",
       "      <td>0</td>\n",
       "      <td>0.00</td>\n",
       "      <td>616</td>\n",
       "      <td>0.04</td>\n",
       "      <td>[Abha, Abidjan, Abu dhabi, Accra, Adana, Adapa...</td>\n",
       "    </tr>\n",
       "    <tr>\n",
       "      <th>Latitude</th>\n",
       "      <td>float64</td>\n",
       "      <td>1692212</td>\n",
       "      <td>2829</td>\n",
       "      <td>0.17</td>\n",
       "      <td>617</td>\n",
       "      <td>0.04</td>\n",
       "      <td>[18.21639, 5.35444, 24.45118, 5.55602, 36.9861...</td>\n",
       "    </tr>\n",
       "    <tr>\n",
       "      <th>Longitude</th>\n",
       "      <td>float64</td>\n",
       "      <td>1692212</td>\n",
       "      <td>2829</td>\n",
       "      <td>0.17</td>\n",
       "      <td>616</td>\n",
       "      <td>0.04</td>\n",
       "      <td>[42.50528, -4.00167, 54.39696, -0.1969, 35.325...</td>\n",
       "    </tr>\n",
       "    <tr>\n",
       "      <th>Population</th>\n",
       "      <td>float64</td>\n",
       "      <td>1682144</td>\n",
       "      <td>12897</td>\n",
       "      <td>0.76</td>\n",
       "      <td>1289</td>\n",
       "      <td>0.08</td>\n",
       "      <td>[5616633.0, 2263373.0, 1276701.0, 1288681.0, 1...</td>\n",
       "    </tr>\n",
       "    <tr>\n",
       "      <th>Co</th>\n",
       "      <td>float64</td>\n",
       "      <td>1063231</td>\n",
       "      <td>631810</td>\n",
       "      <td>37.27</td>\n",
       "      <td>1009</td>\n",
       "      <td>0.06</td>\n",
       "      <td>[nan, 0.0, 15.0, 13.0, 10.0, 7.0, 9.0, 6.0, 5....</td>\n",
       "    </tr>\n",
       "    <tr>\n",
       "      <th>No2</th>\n",
       "      <td>float64</td>\n",
       "      <td>1408781</td>\n",
       "      <td>286260</td>\n",
       "      <td>16.89</td>\n",
       "      <td>1291</td>\n",
       "      <td>0.08</td>\n",
       "      <td>[nan, 0.0, 9.0, 6.0, 5.0, 7.0, 4.0, 2.0, 3.0, ...</td>\n",
       "    </tr>\n",
       "    <tr>\n",
       "      <th>O3</th>\n",
       "      <td>float64</td>\n",
       "      <td>1320893</td>\n",
       "      <td>374148</td>\n",
       "      <td>22.07</td>\n",
       "      <td>1512</td>\n",
       "      <td>0.09</td>\n",
       "      <td>[nan, 0.0, 38.0, 40.0, 35.0, 44.0, 49.0, 41.0,...</td>\n",
       "    </tr>\n",
       "    <tr>\n",
       "      <th>Pm10</th>\n",
       "      <td>float64</td>\n",
       "      <td>1353189</td>\n",
       "      <td>341852</td>\n",
       "      <td>20.17</td>\n",
       "      <td>1186</td>\n",
       "      <td>0.07</td>\n",
       "      <td>[nan, 0.0, 68.0, 57.0, 15.0, 26.0, 24.0, 22.0,...</td>\n",
       "    </tr>\n",
       "    <tr>\n",
       "      <th>Pm25</th>\n",
       "      <td>float64</td>\n",
       "      <td>1432252</td>\n",
       "      <td>262789</td>\n",
       "      <td>15.50</td>\n",
       "      <td>1046</td>\n",
       "      <td>0.06</td>\n",
       "      <td>[nan, 59.0, 70.0, 76.0, 72.0, 78.0, 65.0, 85.0...</td>\n",
       "    </tr>\n",
       "    <tr>\n",
       "      <th>So2</th>\n",
       "      <td>float64</td>\n",
       "      <td>1162066</td>\n",
       "      <td>532975</td>\n",
       "      <td>31.44</td>\n",
       "      <td>1177</td>\n",
       "      <td>0.07</td>\n",
       "      <td>[nan, 0.0, 1.0, 2.0, 4.0, 5.0, 3.0, 6.0, 2.8, ...</td>\n",
       "    </tr>\n",
       "    <tr>\n",
       "      <th>Dew</th>\n",
       "      <td>float64</td>\n",
       "      <td>1000165</td>\n",
       "      <td>694876</td>\n",
       "      <td>40.99</td>\n",
       "      <td>661</td>\n",
       "      <td>0.04</td>\n",
       "      <td>[6.0, 12.0, 9.0, 3.0, 1.0, 10.0, 11.0, 8.0, 7....</td>\n",
       "    </tr>\n",
       "    <tr>\n",
       "      <th>Humidity</th>\n",
       "      <td>float64</td>\n",
       "      <td>1306961</td>\n",
       "      <td>388080</td>\n",
       "      <td>22.90</td>\n",
       "      <td>1131</td>\n",
       "      <td>0.07</td>\n",
       "      <td>[45.0, 64.0, 63.0, 55.0, 58.0, 35.0, 76.0, 68....</td>\n",
       "    </tr>\n",
       "    <tr>\n",
       "      <th>Tavg</th>\n",
       "      <td>float64</td>\n",
       "      <td>1403687</td>\n",
       "      <td>291354</td>\n",
       "      <td>17.19</td>\n",
       "      <td>788</td>\n",
       "      <td>0.05</td>\n",
       "      <td>[18.8, 17.0, 16.7, 15.9, 16.1, 14.3, 15.3, 14....</td>\n",
       "    </tr>\n",
       "    <tr>\n",
       "      <th>Tmin</th>\n",
       "      <td>float64</td>\n",
       "      <td>1378595</td>\n",
       "      <td>316446</td>\n",
       "      <td>18.67</td>\n",
       "      <td>774</td>\n",
       "      <td>0.05</td>\n",
       "      <td>[15.8, 13.5, 10.8, 9.0, 14.0, 12.7, 11.4, 13.2...</td>\n",
       "    </tr>\n",
       "    <tr>\n",
       "      <th>Tmax</th>\n",
       "      <td>float64</td>\n",
       "      <td>1376836</td>\n",
       "      <td>318205</td>\n",
       "      <td>18.77</td>\n",
       "      <td>821</td>\n",
       "      <td>0.05</td>\n",
       "      <td>[24.1, 23.0, 23.6, 22.0, 22.5, 22.6, 19.8, 21....</td>\n",
       "    </tr>\n",
       "    <tr>\n",
       "      <th>Prcp</th>\n",
       "      <td>float64</td>\n",
       "      <td>1041250</td>\n",
       "      <td>653791</td>\n",
       "      <td>38.57</td>\n",
       "      <td>1381</td>\n",
       "      <td>0.08</td>\n",
       "      <td>[nan, 22.1, 11.9, 7.9, 5.6, 5.1, 1.0, 16.0, 17...</td>\n",
       "    </tr>\n",
       "    <tr>\n",
       "      <th>Wdir</th>\n",
       "      <td>float64</td>\n",
       "      <td>1170876</td>\n",
       "      <td>524165</td>\n",
       "      <td>30.92</td>\n",
       "      <td>361</td>\n",
       "      <td>0.02</td>\n",
       "      <td>[183.0, 185.0, 186.0, 196.0, nan, 184.0, 179.0...</td>\n",
       "    </tr>\n",
       "    <tr>\n",
       "      <th>Wspd</th>\n",
       "      <td>float64</td>\n",
       "      <td>1240293</td>\n",
       "      <td>454748</td>\n",
       "      <td>26.83</td>\n",
       "      <td>654</td>\n",
       "      <td>0.04</td>\n",
       "      <td>[21.9, 21.2, 15.2, 16.5, 11.2, 18.5, 19.4, 12....</td>\n",
       "    </tr>\n",
       "    <tr>\n",
       "      <th>Pres</th>\n",
       "      <td>float64</td>\n",
       "      <td>1204252</td>\n",
       "      <td>490789</td>\n",
       "      <td>28.95</td>\n",
       "      <td>913</td>\n",
       "      <td>0.05</td>\n",
       "      <td>[1022.3, 1021.9, 1023.4, 1023.8, 1023.5, 1024....</td>\n",
       "    </tr>\n",
       "  </tbody>\n",
       "</table>\n",
       "</div>"
      ],
      "text/plain": [
       "              dtype    total  missing  missing%  n_uniques  uniques%  \\\n",
       "Year          int64  1695041        0      0.00         12      0.00   \n",
       "Month         int64  1695041        0      0.00         12      0.00   \n",
       "Day           int64  1695041        0      0.00         31      0.00   \n",
       "Country      object  1695041        0      0.00         95      0.01   \n",
       "City         object  1695041        0      0.00        616      0.04   \n",
       "Latitude    float64  1692212     2829      0.17        617      0.04   \n",
       "Longitude   float64  1692212     2829      0.17        616      0.04   \n",
       "Population  float64  1682144    12897      0.76       1289      0.08   \n",
       "Co          float64  1063231   631810     37.27       1009      0.06   \n",
       "No2         float64  1408781   286260     16.89       1291      0.08   \n",
       "O3          float64  1320893   374148     22.07       1512      0.09   \n",
       "Pm10        float64  1353189   341852     20.17       1186      0.07   \n",
       "Pm25        float64  1432252   262789     15.50       1046      0.06   \n",
       "So2         float64  1162066   532975     31.44       1177      0.07   \n",
       "Dew         float64  1000165   694876     40.99        661      0.04   \n",
       "Humidity    float64  1306961   388080     22.90       1131      0.07   \n",
       "Tavg        float64  1403687   291354     17.19        788      0.05   \n",
       "Tmin        float64  1378595   316446     18.67        774      0.05   \n",
       "Tmax        float64  1376836   318205     18.77        821      0.05   \n",
       "Prcp        float64  1041250   653791     38.57       1381      0.08   \n",
       "Wdir        float64  1170876   524165     30.92        361      0.02   \n",
       "Wspd        float64  1240293   454748     26.83        654      0.04   \n",
       "Pres        float64  1204252   490789     28.95        913      0.05   \n",
       "\n",
       "                                                      uniques  \n",
       "Year        [2019, 2020, 2021, 2022, 2023, 2024, 2025, 201...  \n",
       "Month                 [2, 3, 4, 5, 6, 7, 8, 9, 10, 11, 12, 1]  \n",
       "Day         [28, 1, 2, 3, 4, 5, 6, 7, 8, 9, 10, 11, 12, 13...  \n",
       "Country     [SA, CI, AE, GH, TR, ET, AU, MX, JP, US, DZ, K...  \n",
       "City        [Abha, Abidjan, Abu dhabi, Accra, Adana, Adapa...  \n",
       "Latitude    [18.21639, 5.35444, 24.45118, 5.55602, 36.9861...  \n",
       "Longitude   [42.50528, -4.00167, 54.39696, -0.1969, 35.325...  \n",
       "Population  [5616633.0, 2263373.0, 1276701.0, 1288681.0, 1...  \n",
       "Co          [nan, 0.0, 15.0, 13.0, 10.0, 7.0, 9.0, 6.0, 5....  \n",
       "No2         [nan, 0.0, 9.0, 6.0, 5.0, 7.0, 4.0, 2.0, 3.0, ...  \n",
       "O3          [nan, 0.0, 38.0, 40.0, 35.0, 44.0, 49.0, 41.0,...  \n",
       "Pm10        [nan, 0.0, 68.0, 57.0, 15.0, 26.0, 24.0, 22.0,...  \n",
       "Pm25        [nan, 59.0, 70.0, 76.0, 72.0, 78.0, 65.0, 85.0...  \n",
       "So2         [nan, 0.0, 1.0, 2.0, 4.0, 5.0, 3.0, 6.0, 2.8, ...  \n",
       "Dew         [6.0, 12.0, 9.0, 3.0, 1.0, 10.0, 11.0, 8.0, 7....  \n",
       "Humidity    [45.0, 64.0, 63.0, 55.0, 58.0, 35.0, 76.0, 68....  \n",
       "Tavg        [18.8, 17.0, 16.7, 15.9, 16.1, 14.3, 15.3, 14....  \n",
       "Tmin        [15.8, 13.5, 10.8, 9.0, 14.0, 12.7, 11.4, 13.2...  \n",
       "Tmax        [24.1, 23.0, 23.6, 22.0, 22.5, 22.6, 19.8, 21....  \n",
       "Prcp        [nan, 22.1, 11.9, 7.9, 5.6, 5.1, 1.0, 16.0, 17...  \n",
       "Wdir        [183.0, 185.0, 186.0, 196.0, nan, 184.0, 179.0...  \n",
       "Wspd        [21.9, 21.2, 15.2, 16.5, 11.2, 18.5, 19.4, 12....  \n",
       "Pres        [1022.3, 1021.9, 1023.4, 1023.8, 1023.5, 1024....  "
      ]
     },
     "metadata": {},
     "output_type": "display_data"
    }
   ],
   "source": [
    "overview(df)"
   ]
  },
  {
   "cell_type": "code",
   "execution_count": 16,
   "metadata": {},
   "outputs": [
    {
     "name": "stdout",
     "output_type": "stream",
     "text": [
      "Dew          40.99\n",
      "Prcp         38.57\n",
      "Co           37.27\n",
      "So2          31.44\n",
      "Wdir         30.92\n",
      "Pres         28.95\n",
      "Wspd         26.83\n",
      "Humidity     22.90\n",
      "O3           22.07\n",
      "Pm10         20.17\n",
      "Tmax         18.77\n",
      "Tmin         18.67\n",
      "Tavg         17.19\n",
      "No2          16.89\n",
      "Pm25         15.50\n",
      "Population    0.76\n",
      "Longitude     0.17\n",
      "Latitude      0.17\n",
      "Month         0.00\n",
      "City          0.00\n",
      "Country       0.00\n",
      "Day           0.00\n",
      "Year          0.00\n",
      "dtype: float64\n"
     ]
    }
   ],
   "source": [
    "# Sort missing values (descending)\n",
    "\n",
    "missing_percent = df.isna().mean() * 100\n",
    "missing_percent_sorted = missing_percent.sort_values(ascending=False)\n",
    "\n",
    "print(missing_percent_sorted)"
   ]
  },
  {
   "cell_type": "code",
   "execution_count": null,
   "metadata": {},
   "outputs": [],
   "source": [
    "# Optional: Spalten mit >50% fehlenden Werten entfernen.\n",
    "# (Der aktuelle Datensatz ist vollständig genug – daher ist dieser Schritt derzeit nicht notwendig.)\n",
    "\n",
    "# # Remove all columns with more than 50% missing values\n",
    "\n",
    "# # Store number of columns before removing\n",
    "# original_columns = df.shape[1]\n",
    "\n",
    "# df = df.loc[:, missing_percent <= 50]\n",
    "\n",
    "# # Print what has changed\n",
    "# print(f\"Anzahl der entfernten Spalten: {original_columns - df.shape[1]}\")\n",
    "# removed = missing_percent[missing_percent > 50].index\n",
    "# print(\"Entfernte Spalten:\", list(removed))\n",
    "# print(\"Übrige Spalten:\", df.columns)\n",
    "\n",
    "# df.shape"
   ]
  },
  {
   "cell_type": "markdown",
   "metadata": {},
   "source": [
    "# 2. Deskriptive Statistik & Ausreißer-Handling: Schadstoffe\n",
    "\n",
    "Vor der systematischen Ausreißeranalyse ist es sinnvoll, kurz die Art der Daten zu reflektieren:\n",
    "Wetterdaten (wie Temperatur, Luftdruck oder Windgeschwindigkeit) werden seit Jahrzehnten weltweit standardisiert erfasst. Die verwendeten Messinstrumente sind technisch ausgereift, gut kalibriert und liefern in der Regel konsistente Ergebnisse. Aus diesem Grund ist hier nur mit wenigen Ausreißern oder Platzhalterwerten zu rechnen.\n",
    "\n",
    "Bei Schadstoffmessungen (wie PM₂.₅, NO₂ oder O₃) sieht die Situation anders aus. Diese Daten werden häufig mit komplexeren Sensoren erhoben, die empfindlicher auf Umwelteinflüsse oder Wartungsprobleme reagieren. Außerdem sind Schadstoffmessstationen nicht flächendeckend verfügbar, was zu uneinheitlicher Datenqualität führen kann. In der Praxis zeigt sich das häufig durch auffällige Ausreißerwerte oder symbolische Platzhalter wie 500 oder 999, die als Maximalwert oder Fehlwert dienen.\n",
    "\n",
    "Auf Basis dieser Überlegungen erwarten wir bei der folgenden Analyse:\n",
    "\n",
    "- Mehr auffällige Werte in den Schadstoffvariablen\n",
    "- Weniger (aber nicht zwingend keine) Ausreißer bei den Wetterdaten\n",
    "\n",
    "Diese Hypothese bestätigt sich auch in der Auswertung.\n",
    "\n",
    "Entsprechend dieser Erwartung wurde das methodische Vorgehen angepasst:\n",
    "\n",
    "- Die Schadstoffvariablen wurden einzeln analysiert – mit Stripplots, Schiefe-Werten und einer individuellen Beurteilung der Ausreißerstruktur.\n",
    "\n",
    "- Bei den Wettervariablen wurde – unter Berücksichtigung ihrer geringeren Anfälligkeit für Messfehler – eine automatisierte Analyse mittels Schleife durchgeführt, die Kennzahlen berechnet und visualisiert, um dennoch potenzielle Ausreißer strukturiert erkennen und ggf. entfernen zu können.\n",
    "\n",
    "Die Entscheidungen, wo jeweils der Schwellenwert für die Ausreißerentfernung gesetzt wird, sind nicht rein statistisch begründet (z.B. 99,99-Quantil als Cutoff), sondern werden für jedes Feature individuell getroffen. Ziel der Ausreißerentfernung ist es, sachlich unmögliche Werte zu entfernen, die natürliche Varianz zu erhalten und einen repräsentativen Datensatz für folgende Modellierungen zu schaffen.\n",
    "\n",
    "Methode zur Ausreißerentfernung: Zur Datenbereinigung wurden extreme Ausreißer in den Schadstoffwerten nicht durch das Entfernen ganzer Zeilen, sondern durch das gezielte Ersetzen der jeweiligen Zellen mit NaN behandelt. So bleiben andere valide Messwerte in der gleichen Zeile erhalten."
   ]
  },
  {
   "cell_type": "code",
   "execution_count": 17,
   "metadata": {},
   "outputs": [
    {
     "data": {
      "text/html": [
       "<div>\n",
       "<style scoped>\n",
       "    .dataframe tbody tr th:only-of-type {\n",
       "        vertical-align: middle;\n",
       "    }\n",
       "\n",
       "    .dataframe tbody tr th {\n",
       "        vertical-align: top;\n",
       "    }\n",
       "\n",
       "    .dataframe thead th {\n",
       "        text-align: right;\n",
       "    }\n",
       "</style>\n",
       "<table border=\"1\" class=\"dataframe\">\n",
       "  <thead>\n",
       "    <tr style=\"text-align: right;\">\n",
       "      <th></th>\n",
       "      <th>count</th>\n",
       "      <th>mean</th>\n",
       "      <th>std</th>\n",
       "      <th>min</th>\n",
       "      <th>25%</th>\n",
       "      <th>50%</th>\n",
       "      <th>75%</th>\n",
       "      <th>max</th>\n",
       "    </tr>\n",
       "  </thead>\n",
       "  <tbody>\n",
       "    <tr>\n",
       "      <th>Co</th>\n",
       "      <td>1,063,231.00</td>\n",
       "      <td>4.77</td>\n",
       "      <td>8.89</td>\n",
       "      <td>0.00</td>\n",
       "      <td>1.40</td>\n",
       "      <td>3.40</td>\n",
       "      <td>5.60</td>\n",
       "      <td>500.00</td>\n",
       "    </tr>\n",
       "    <tr>\n",
       "      <th>Pm25</th>\n",
       "      <td>1,432,252.00</td>\n",
       "      <td>53.25</td>\n",
       "      <td>41.04</td>\n",
       "      <td>0.00</td>\n",
       "      <td>25.00</td>\n",
       "      <td>42.00</td>\n",
       "      <td>67.00</td>\n",
       "      <td>999.00</td>\n",
       "    </tr>\n",
       "    <tr>\n",
       "      <th>Pm10</th>\n",
       "      <td>1,353,189.00</td>\n",
       "      <td>27.07</td>\n",
       "      <td>27.69</td>\n",
       "      <td>0.00</td>\n",
       "      <td>12.00</td>\n",
       "      <td>19.00</td>\n",
       "      <td>34.00</td>\n",
       "      <td>999.00</td>\n",
       "    </tr>\n",
       "    <tr>\n",
       "      <th>So2</th>\n",
       "      <td>1,162,066.00</td>\n",
       "      <td>3.98</td>\n",
       "      <td>8.82</td>\n",
       "      <td>0.00</td>\n",
       "      <td>1.20</td>\n",
       "      <td>2.50</td>\n",
       "      <td>4.30</td>\n",
       "      <td>500.00</td>\n",
       "    </tr>\n",
       "    <tr>\n",
       "      <th>No2</th>\n",
       "      <td>1,408,781.00</td>\n",
       "      <td>9.76</td>\n",
       "      <td>10.50</td>\n",
       "      <td>0.00</td>\n",
       "      <td>4.60</td>\n",
       "      <td>7.50</td>\n",
       "      <td>12.40</td>\n",
       "      <td>500.00</td>\n",
       "    </tr>\n",
       "    <tr>\n",
       "      <th>O3</th>\n",
       "      <td>1,320,893.00</td>\n",
       "      <td>20.46</td>\n",
       "      <td>15.39</td>\n",
       "      <td>0.00</td>\n",
       "      <td>11.80</td>\n",
       "      <td>19.90</td>\n",
       "      <td>27.20</td>\n",
       "      <td>500.00</td>\n",
       "    </tr>\n",
       "  </tbody>\n",
       "</table>\n",
       "</div>"
      ],
      "text/plain": [
       "            count  mean   std  min   25%   50%   75%    max\n",
       "Co   1,063,231.00  4.77  8.89 0.00  1.40  3.40  5.60 500.00\n",
       "Pm25 1,432,252.00 53.25 41.04 0.00 25.00 42.00 67.00 999.00\n",
       "Pm10 1,353,189.00 27.07 27.69 0.00 12.00 19.00 34.00 999.00\n",
       "So2  1,162,066.00  3.98  8.82 0.00  1.20  2.50  4.30 500.00\n",
       "No2  1,408,781.00  9.76 10.50 0.00  4.60  7.50 12.40 500.00\n",
       "O3   1,320,893.00 20.46 15.39 0.00 11.80 19.90 27.20 500.00"
      ]
     },
     "execution_count": 17,
     "metadata": {},
     "output_type": "execute_result"
    }
   ],
   "source": [
    "# Schadstoffe\n",
    "\n",
    "pollutant_cols = [\"Co\", \"Pm25\", \"Pm10\", \"So2\", \"No2\", \"O3\"]\n",
    "df[pollutant_cols].describe().T"
   ]
  },
  {
   "cell_type": "markdown",
   "metadata": {},
   "source": [
    "Die Messwerte, die als Maxima angegeben sind (Co = 500 oder Pm25 = 999) lassen Platzhalter für fehlende oder ungültige Daten vermuten. Solche Werte können die Verteilung erheblich verzerren und sollten im Folgenden genau in Augenschein genommen werden.\n",
    "\n",
    "Damit die Anzahl der entfernten Ausreißer berechnet werden kann, muss vor der Aureißerentfernung deren Anzahl ermittelt und gespeichert werden:"
   ]
  },
  {
   "cell_type": "code",
   "execution_count": 18,
   "metadata": {},
   "outputs": [],
   "source": [
    "# Vor der Bereinigung: fehlende Werte zählen\n",
    "missing_before = df.isna().sum()\n",
    "\n",
    "# Gesamtgröße des df speichern, um später den Prozentsatz an durch Ausreißerentfernung verlorenen Werten zu berechnen\n",
    "total_values_before = df.shape[0] * df.shape[1]"
   ]
  },
  {
   "cell_type": "markdown",
   "metadata": {},
   "source": [
    "## 2.1 Mittelgroße Feinstaubpartikel (PM25)\n",
    "\n",
    "\"Die als Feinstaub (PM2,5) bezeichnete Staubfraktion enthält 50% der Teilchen mit einem Durchmesser von 2,5 µm, einen höheren Anteil kleinerer Teilchen und einen niedrigeren Anteil größerer Teilchen.\" (https://www.umweltbundesamt.at/umweltthemen/luft/luftschadstoffe/staub/pm25)"
   ]
  },
  {
   "cell_type": "code",
   "execution_count": 19,
   "metadata": {},
   "outputs": [
    {
     "data": {
      "image/png": "[encoded data removed]",
      "text/plain": [
       "<Figure size 640x480 with 1 Axes>"
      ]
     },
     "metadata": {},
     "output_type": "display_data"
    }
   ],
   "source": [
    "sns.stripplot(x=df[\"Pm25\"], size=2, jitter=0.3)\n",
    "plt.title(\"PM2.5 Einzelwerte\")\n",
    "plt.xlabel(\"PM2.5-Konzentration (µg/m³)\")\n",
    "plt.grid(True);"
   ]
  },
  {
   "cell_type": "markdown",
   "metadata": {},
   "source": [
    "Es zeigen sich auffällige Punktelinien kurz über 800, die einen technischen Maximalwert bestimmter Messgeräte vermuten lassen.\n",
    "\n",
    "Wo genau liegen diese Linien?"
   ]
  },
  {
   "cell_type": "code",
   "execution_count": 20,
   "metadata": {},
   "outputs": [
    {
     "data": {
      "text/plain": [
       "Pm25\n",
       "999.00    18\n",
       "981.00     1\n",
       "834.00     7\n",
       "832.00     2\n",
       "831.00     1\n",
       "826.00     4\n",
       "825.00    58\n",
       "824.00     4\n",
       "818.00     1\n",
       "816.00     3\n",
       "Name: count, dtype: int64"
      ]
     },
     "execution_count": 20,
     "metadata": {},
     "output_type": "execute_result"
    }
   ],
   "source": [
    "df[\"Pm25\"].value_counts().sort_index(ascending=False).head(10)"
   ]
  },
  {
   "cell_type": "markdown",
   "metadata": {},
   "source": [
    "Bei der visuellen Analyse der PM2.5-Messwerte fällt eine ungewöhnliche Häufung im Bereich zwischen 814 und 834 µg/m³ auf, begleitet von vereinzelten extrem hohen Werten bei 981 und 999 µg/m³. Diese Werte liegen deutlich außerhalb des realistischen Messbereichs und deuten auf Messfehler, Platzhalterwerte oder systembedingte Übertragungsfehler hin. Um die Analyse nicht zu verzerren, werden daher alle PM2.5-Werte ab 814 µg/m³ ausgeschlossen:"
   ]
  },
  {
   "cell_type": "code",
   "execution_count": 21,
   "metadata": {},
   "outputs": [],
   "source": [
    "# PM2.5 >= 814\n",
    "df.loc[df[\"Pm25\"] >= 814, \"Pm25\"] = np.nan"
   ]
  },
  {
   "cell_type": "code",
   "execution_count": null,
   "metadata": {},
   "outputs": [],
   "source": [
    "# sns.histplot(df[\"Pm25\"], bins=50)"
   ]
  },
  {
   "cell_type": "code",
   "execution_count": 22,
   "metadata": {},
   "outputs": [
    {
     "name": "stdout",
     "output_type": "stream",
     "text": [
      "Mittelwert (mean): 53.16\n",
      "Median:            42.00\n",
      "Schiefe (Skewness): 2.02\n"
     ]
    }
   ],
   "source": [
    "mean_pm25 = df[\"Pm25\"].mean()\n",
    "median_pm25 = df[\"Pm25\"].median()\n",
    "skew_pm25 = skew(df[\"Pm25\"].dropna())\n",
    "\n",
    "print(f\"Mittelwert (mean): {mean_pm25:.2f}\")\n",
    "print(f\"Median:            {median_pm25:.2f}\")\n",
    "print(f\"Schiefe (Skewness): {skew_pm25:.2f}\")"
   ]
  },
  {
   "cell_type": "markdown",
   "metadata": {},
   "source": [
    "#### Verteilung der bereinigten PM2.5-Werte\n",
    "\n",
    "Die PM2.5-Werte zeigen eine deutlich rechtsschiefe Verteilung. Der Mittelwert liegt bei 53,19 µg/m³, während der Median nur 42,00 µg/m³ beträgt. Zusätzlich ergibt die Berechnung der Schiefe (Skewness) einen Wert von 2,26, was auf eine starke Asymmetrie hindeutet.\n",
    "Diese rechtsschiefe Verteilung bedeutet, dass der Großteil der Messwerte im unteren Bereich liegt, während einige wenige sehr hohe Werte den Mittelwert nach oben ziehen.\n",
    "\n",
    "Um die Analyse nicht durch technisch bedingte Ausreißer zu verzerren, wurden alle PM2.5-Werte ab 814 µg/m³ ausgeschlossen, da sie deutlich außerhalb des natürlichen Messbereichs liegen und teilweise systematisch auftraten (Platzhalterwerte)."
   ]
  },
  {
   "cell_type": "markdown",
   "metadata": {},
   "source": [
    "## 2.2 Große Feinstaubpartikel (PM10)\n",
    "\n",
    "\"Als Feinstaub (⁠PM10⁠) bezeichnet man Partikel mit einem aerodynamischen Durchmesser von weniger als 10 Mikrometer (µm). Der größte Teil der anthropogenen Feinstaubemissionen stammt aus Verbrennungsvorgängen (Kfz-Verkehr, Gebäudeheizung) und Produktionsprozessen inkl. Schüttgutumschlag. [...] Feinstaub wird nicht nur direkt emittiert (primäre Partikel) sondern bildet sich auch aus Vorläuferstoffen (unter anderem aus Schwefeldioxid, Stickstoffoxid und Ammoniak) in der Atmosphäre (sekundäre Partikel).\" (https://www.umweltbundesamt.de/daten/luft/luftschadstoff-emissionen-in-deutschland/emission-von-feinstaub-der-partikelgroesse-pm10#was-ist-feinstaub)"
   ]
  },
  {
   "cell_type": "code",
   "execution_count": 23,
   "metadata": {},
   "outputs": [
    {
     "data": {
      "image/png": "[encoded data removed]",
      "text/plain": [
       "<Figure size 640x480 with 1 Axes>"
      ]
     },
     "metadata": {},
     "output_type": "display_data"
    }
   ],
   "source": [
    "sns.stripplot(x=df[\"Pm10\"], size=2, jitter=0.3)\n",
    "plt.title(\"Pm10 Einzelwerte\")\n",
    "plt.xlabel(\"Pm10-Konzentration (µg/m³)\")\n",
    "plt.grid(True);"
   ]
  },
  {
   "cell_type": "code",
   "execution_count": 24,
   "metadata": {},
   "outputs": [
    {
     "name": "stdout",
     "output_type": "stream",
     "text": [
      "Mittelwert (mean): 27.07\n",
      "Median:            19.00\n",
      "Schiefe:           9.64\n"
     ]
    }
   ],
   "source": [
    "mean_pm10 = df[\"Pm10\"].mean()\n",
    "median_pm10 = df[\"Pm10\"].median()\n",
    "skew_pm10 = skew(df[\"Pm10\"].dropna())\n",
    "\n",
    "print(f\"Mittelwert (mean): {mean_pm10:.2f}\")\n",
    "print(f\"Median:            {median_pm10:.2f}\")\n",
    "print(f\"Schiefe:           {skew_pm10:.2f}\")"
   ]
  },
  {
   "cell_type": "code",
   "execution_count": 25,
   "metadata": {},
   "outputs": [
    {
     "data": {
      "text/plain": [
       "Pm10\n",
       "855.00     1\n",
       "861.00     1\n",
       "863.00     1\n",
       "865.00     1\n",
       "866.00     1\n",
       "867.00    59\n",
       "868.00    72\n",
       "869.00     1\n",
       "872.00     1\n",
       "878.00     1\n",
       "879.00     2\n",
       "880.00    20\n",
       "882.00    24\n",
       "884.00    13\n",
       "887.00     1\n",
       "890.00     1\n",
       "892.00     1\n",
       "893.00     1\n",
       "895.00     4\n",
       "896.00     4\n",
       "903.00     1\n",
       "935.00     1\n",
       "956.00     1\n",
       "970.00     1\n",
       "983.00     1\n",
       "999.00    45\n",
       "Name: count, dtype: int64"
      ]
     },
     "execution_count": 25,
     "metadata": {},
     "output_type": "execute_result"
    }
   ],
   "source": [
    "# Wo beginnt die Häufung bei der breiten Linie im Ausreißerbereich (ca. 820-840)?\n",
    "\n",
    "df[\"Pm10\"].value_counts().loc[lambda x: x.index > 850].sort_index()"
   ]
  },
  {
   "cell_type": "code",
   "execution_count": null,
   "metadata": {},
   "outputs": [],
   "source": [
    "# # \"Datenmauer\" plotten (Visualisierung der Häufung von Werten im Ausreißerbereich)\n",
    "\n",
    "# high_values = df[\"Pm10\"][df[\"Pm10\"] > 800]\n",
    "# sns.histplot(high_values, binwidth=1)\n",
    "# plt.title(\"Häufigkeit der PM10-Werte > 800\")\n",
    "# plt.xlabel(\"PM10-Wert (µg/m³)\")\n",
    "# plt.ylabel(\"Anzahl\")\n",
    "# plt.grid(True)\n",
    "# plt.show()"
   ]
  },
  {
   "cell_type": "code",
   "execution_count": 26,
   "metadata": {},
   "outputs": [],
   "source": [
    "# PM10 >= 867\n",
    "df.loc[df[\"Pm10\"] >= 867, \"Pm10\"] = np.nan"
   ]
  },
  {
   "cell_type": "markdown",
   "metadata": {},
   "source": [
    "#### Verteilung der bereinigten PM10-Werte\n",
    "Die PM10-Werte zeigen eine deutlich rechtsschiefe Verteilung mit einem Mittelwert von 32.43 µg/m³, einem Median von 24.00 µg/m³ und einer Schiefe von 7.17. Der größte Teil der Messwerte liegt unterhalb von 200 µg/m³, mit einer kontinuierlich abnehmenden Dichte bis in den Bereich von ca. 850 µg/m³.\n",
    "\n",
    "Eine detaillierte Analyse der Einzelwertverteilung ergab jedoch eine auffällige Häufung von Messwerten im Bereich 867–882 µg/m³, insbesondere 40 Messungen mit dem identischen Wert 867. Diese systematische Häufung spricht stark für einen technisch bedingten Fehler oder künstlich begrenzte Wertebereiche. Zusätzlich tritt 33 Mal der Platzhalterwert 999 auf.\n",
    "\n",
    "Um die Analyse nicht durch diese systematischen Verzerrungen zu beeinflussen, wurden alle PM10-Werte ab 867 µg/m³ aus dem Datensatz ausgeschlossen."
   ]
  },
  {
   "cell_type": "markdown",
   "metadata": {},
   "source": [
    "## 2.3 Kohlenmonoxid (CO)\n",
    "\n",
    "\"Kohlenmonoxid (CO) ist ein farb-, geruch- und geschmackloses Gas, das bei der unvollständigen Verbrennung von Brenn- und Treibstoffen entsteht. Es bildet sich, wenn bei Verbrennungsprozessen zu wenig Sauerstoff zur Verfügung steht. In höheren Konzentrationen wirkt CO als starkes Atemgift.\" (https://www.umweltbundesamt.de/themen/luft/luftschadstoffe-im-ueberblick/kohlenmonoxid)"
   ]
  },
  {
   "cell_type": "code",
   "execution_count": 27,
   "metadata": {},
   "outputs": [
    {
     "data": {
      "image/png": "[encoded data removed]",
      "text/plain": [
       "<Figure size 640x480 with 1 Axes>"
      ]
     },
     "metadata": {},
     "output_type": "display_data"
    }
   ],
   "source": [
    "sns.stripplot(x=df[\"Co\"], size=2, jitter=0.3)\n",
    "plt.title(\"CO Einzelwerte\")\n",
    "plt.xlabel(\"CO-Konzentration (µg/m³)\")\n",
    "plt.grid(True);"
   ]
  },
  {
   "cell_type": "code",
   "execution_count": 28,
   "metadata": {},
   "outputs": [
    {
     "name": "stdout",
     "output_type": "stream",
     "text": [
      "Mittelwert (mean): 4.77\n",
      "Median:            3.40\n",
      "Schiefe:           27.96\n"
     ]
    }
   ],
   "source": [
    "mean_co = df[\"Co\"].mean()\n",
    "median_co = df[\"Co\"].median()\n",
    "skew_co = skew(df[\"Co\"].dropna())\n",
    "\n",
    "print(f\"Mittelwert (mean): {mean_co:.2f}\")\n",
    "print(f\"Median:            {median_co:.2f}\")\n",
    "print(f\"Schiefe:           {skew_co:.2f}\")"
   ]
  },
  {
   "cell_type": "code",
   "execution_count": 29,
   "metadata": {},
   "outputs": [],
   "source": [
    "# CO > 300 oder CO == 500 → als NaN\n",
    "df.loc[df[\"Co\"] >= 300, \"Co\"] = np.nan"
   ]
  },
  {
   "cell_type": "markdown",
   "metadata": {},
   "source": [
    "#### Verteilung der bereinigten CO-Werte\n",
    "\n",
    "Die Verteilung der CO-Messwerte ist stark rechtsschief, mit einem Mittelwert von 4.74 µg/m³, einem Median von 3.40 µg/m³ und einer Schiefe von 29.64. Dies deutet auf extreme Ausreißer hin, die den Mittelwert erheblich verzerren. Zusätzlich tritt eine auffällige Häufung exakt bei 500 µg/m³ auf, was sehr wahrscheinlich ein technischer Platzhalterwert ist.\n",
    "\n",
    "Um die Aussagekraft der Analyse zu erhöhen, wurden daher alle Werte ab 300 µg/m³ ausgeschlossen. Dieser Grenzwert liegt deutlich oberhalb der Hauptverteilung und entfernt technische Ausreißer, aber auch extreme realistische Einzelwerte."
   ]
  },
  {
   "cell_type": "markdown",
   "metadata": {},
   "source": [
    "## 2.4 Stickstoffdioxid (NO₂)\n",
    "\n",
    "\"Stickstoffdioxid (NO₂) ist ein ätzendes Reizgas, es schädigt unmittelbar das Schleimhautgewebe im gesamten Atemtrakt und kann auch die Augen reizen. Stickstoffdioxid zeigt eine stärkere schädliche Wirkung als Stickstoffmonoxid (NO), weshalb Stickstoffdioxid im Zentrum der Bemühungen um saubere Luft steht. [...] Die mittelbare Wirkung des Stickstoffdioxids auf die menschliche Gesundheit besteht in seiner Eigenschaft als Vorläufersubstanz für die Bildung von Feinstaub.\" (https://www.umweltbundesamt.de/service/uba-fragen/wie-wirken-sich-stickstoffoxide-auf-die-menschliche)"
   ]
  },
  {
   "cell_type": "code",
   "execution_count": 30,
   "metadata": {},
   "outputs": [
    {
     "data": {
      "image/png": "[encoded data removed]",
      "text/plain": [
       "<Figure size 640x480 with 1 Axes>"
      ]
     },
     "metadata": {},
     "output_type": "display_data"
    }
   ],
   "source": [
    "sns.stripplot(x=df[\"No2\"], size=2, jitter=0.3)\n",
    "plt.title(\"NO₂ Einzelwerte\")\n",
    "plt.xlabel(\"NO₂-Konzentration (µg/m³)\")\n",
    "plt.grid(True);"
   ]
  },
  {
   "cell_type": "code",
   "execution_count": 31,
   "metadata": {},
   "outputs": [
    {
     "name": "stdout",
     "output_type": "stream",
     "text": [
      "Mittelwert (mean): 9.76\n",
      "Median:            7.50\n",
      "Schiefe:           19.34\n"
     ]
    }
   ],
   "source": [
    "mean_no2 = df[\"No2\"].mean()\n",
    "median_no2 = df[\"No2\"].median()\n",
    "skew_no2 = skew(df[\"No2\"].dropna())\n",
    "\n",
    "print(f\"Mittelwert (mean): {mean_no2:.2f}\")\n",
    "print(f\"Median:            {median_no2:.2f}\")\n",
    "print(f\"Schiefe:           {skew_no2:.2f}\")"
   ]
  },
  {
   "cell_type": "code",
   "execution_count": 32,
   "metadata": {},
   "outputs": [],
   "source": [
    "# NO2 >= 300 oder == 500\n",
    "df.loc[df[\"No2\"] >= 300, \"No2\"] = np.nan"
   ]
  },
  {
   "cell_type": "markdown",
   "metadata": {},
   "source": [
    "#### Verteilung der bereinigten NO₂-Werte\n",
    "Die NO₂-Werte zeigen eine stark rechtsschiefe Verteilung, mit einem Mittelwert von 10.55 µg/m³, einem Median von 8.40 µg/m³ und einer Schiefe von 10.08. Die große Mehrheit der Messwerte liegt unterhalb von 120 µg/m³, während einzelne Ausreißer bis 425 µg/m³ reichen. \n",
    "\n",
    "Zusätzlich tritt eine auffällige Häufung bei 500 µg/m³ auf, was sehr wahrscheinlich auf technische Platzhalterwerte zurückzuführen ist.\n",
    "\n",
    "Um die Analyse nicht durch extreme Einzelwerte zu verzerren, wurden alle NO₂-Werte ab 300 µg/m³ ausgeschlossen."
   ]
  },
  {
   "cell_type": "markdown",
   "metadata": {},
   "source": [
    "## 2.5 Schwefeldioxid (SO₂)\n",
    "\n",
    "\"Schwefeldioxid (SO2) ist ein farbloses, stechend riechendes, wasserlösliches Gas, das Mensch und Umwelt beeinträchtigt. In der Atmosphäre aus Schwefeldioxid entstehende Sulfatpartikel tragen zudem zur Belastung mit Feinstaub (PM10) bei.\" (https://www.umweltbundesamt.de/themen/luft/luftschadstoffe-im-ueberblick/schwefeldioxid)"
   ]
  },
  {
   "cell_type": "code",
   "execution_count": 33,
   "metadata": {},
   "outputs": [
    {
     "data": {
      "image/png": "[encoded data removed]",
      "text/plain": [
       "<Figure size 640x480 with 1 Axes>"
      ]
     },
     "metadata": {},
     "output_type": "display_data"
    }
   ],
   "source": [
    "sns.stripplot(x=df[\"So2\"], size=2, jitter=0.3)\n",
    "plt.title(\"SO₂ Einzelwerte\")\n",
    "plt.xlabel(\"SO₂-Konzentration (µg/m³)\")\n",
    "plt.grid(True);"
   ]
  },
  {
   "cell_type": "code",
   "execution_count": 34,
   "metadata": {},
   "outputs": [
    {
     "name": "stdout",
     "output_type": "stream",
     "text": [
      "Mittelwert (mean): 3.98\n",
      "Median:            2.50\n",
      "Schiefe:           25.75\n"
     ]
    }
   ],
   "source": [
    "mean_so2 = df[\"So2\"].mean()\n",
    "median_so2 = df[\"So2\"].median()\n",
    "skew_so2 = skew(df[\"So2\"].dropna())\n",
    "\n",
    "print(f\"Mittelwert (mean): {mean_so2:.2f}\")\n",
    "print(f\"Median:            {median_so2:.2f}\")\n",
    "print(f\"Schiefe:           {skew_so2:.2f}\")"
   ]
  },
  {
   "cell_type": "markdown",
   "metadata": {},
   "source": [
    "Es zeigt sich eine auffällige Punktelinie zwischen 300 und 400, die einen technischen Maximalwert bestimmter Messgeräte vermuten lässt.\n",
    "\n",
    "Wo genau liegt diese Linie?"
   ]
  },
  {
   "cell_type": "code",
   "execution_count": 35,
   "metadata": {},
   "outputs": [
    {
     "data": {
      "text/plain": [
       "So2\n",
       "500.00    125\n",
       "470.90      3\n",
       "435.20      3\n",
       "397.50      1\n",
       "368.80      1\n",
       "352.20     24\n",
       "326.80      1\n",
       "299.00      3\n",
       "285.00      3\n",
       "269.10      1\n",
       "Name: count, dtype: int64"
      ]
     },
     "execution_count": 35,
     "metadata": {},
     "output_type": "execute_result"
    }
   ],
   "source": [
    "df[\"So2\"].value_counts().sort_index(ascending=False).head(10)"
   ]
  },
  {
   "cell_type": "code",
   "execution_count": 36,
   "metadata": {},
   "outputs": [],
   "source": [
    "# SO2 >= 352 oder == 500\n",
    "df.loc[df[\"So2\"] >= 352, \"So2\"] = np.nan"
   ]
  },
  {
   "cell_type": "markdown",
   "metadata": {},
   "source": [
    "#### Verteilung der bereinigten SO₂-Werte\n",
    "Die Verteilung ist stark rechtsschief (Skewness = 25.75) mit einem Median von 2.5 µg/m³ und einem Mittelwert von 3.98 µg/m³.\n",
    "\n",
    "Der Großteil der Werte liegt im Bereich von 0 bis 70 µg/m³, wobei sich oberhalb dieses Bereichs eine kontinuierlich abnehmende Streuung zeigt.\n",
    "\n",
    "Ab etwa 220 µg/m³ tritt eine leichte Häufung auf, bei 352 µg/m³ eine weitere, und bei 500 µg/m³ zeigt sich eine deutliche Punktelinie – vermutlich ein technischer Maximalwert oder Platzhalter.\n",
    "\n",
    "Zur Verbesserung der Datenqualität und Modellierbarkeit wurde ein Cutoff bei 352 µg/m³ gesetzt.\n",
    "Alle Werte oberhalb dieses Grenzwerts wurden durch NaN ersetzt."
   ]
  },
  {
   "cell_type": "markdown",
   "metadata": {},
   "source": [
    "## 2.6 Ozon (O₃)\n",
    "\n",
    "\"Das farblose und giftige Gas Ozon ist eines der wichtigsten Spurengase in der Atmosphäre. [...] In Bodennähe auftretendes Ozon wird nicht direkt freigesetzt, sondern bei intensiver Sonneneinstrahlung durch komplexe photochemische Prozesse aus Vorläuferschadstoffen − überwiegend Stickstoffoxiden und flüchtigen organischen Verbindungen − gebildet. Ozon wird deshalb als sekundärer Schadstoff bezeichnet.\" (https://www.umweltbundesamt.de/themen/luft/luftschadstoffe-im-ueberblick/ozon)"
   ]
  },
  {
   "cell_type": "code",
   "execution_count": 37,
   "metadata": {},
   "outputs": [
    {
     "data": {
      "image/png": "[encoded data removed]",
      "text/plain": [
       "<Figure size 640x480 with 1 Axes>"
      ]
     },
     "metadata": {},
     "output_type": "display_data"
    }
   ],
   "source": [
    "sns.stripplot(x=df[\"O3\"], size=2, jitter=0.3)\n",
    "plt.title(\"O3 Einzelwerte\")\n",
    "plt.xlabel(\"O3-Konzentration (µg/m³)\")\n",
    "plt.grid(True);"
   ]
  },
  {
   "cell_type": "code",
   "execution_count": 38,
   "metadata": {},
   "outputs": [
    {
     "name": "stdout",
     "output_type": "stream",
     "text": [
      "Mittelwert (mean): 20.46\n",
      "Median:            19.90\n",
      "Schiefe:           13.71\n"
     ]
    }
   ],
   "source": [
    "mean_o3 = df[\"O3\"].mean()\n",
    "median_o3 = df[\"O3\"].median()\n",
    "skew_o3 = skew(df[\"O3\"].dropna())\n",
    "\n",
    "print(f\"Mittelwert (mean): {mean_o3:.2f}\")\n",
    "print(f\"Median:            {median_o3:.2f}\")\n",
    "print(f\"Schiefe:           {skew_o3:.2f}\")"
   ]
  },
  {
   "cell_type": "markdown",
   "metadata": {},
   "source": [
    "Es zeigt sich eine auffällige Punktelinie zwischen kurz unterhalb von 400, die einen technischen Maximalwert bestimmter Messgeräte vermuten lässt.\n",
    "\n",
    "Wo genau liegt diese Linie?"
   ]
  },
  {
   "cell_type": "code",
   "execution_count": 39,
   "metadata": {},
   "outputs": [
    {
     "data": {
      "text/plain": [
       "O3\n",
       "500.00    536\n",
       "495.00      1\n",
       "494.90      1\n",
       "487.10      1\n",
       "448.40      1\n",
       "429.60      1\n",
       "402.00      1\n",
       "397.80      1\n",
       "397.00      1\n",
       "396.40      8\n",
       "395.00     36\n",
       "393.70      9\n",
       "393.60      1\n",
       "392.30      2\n",
       "381.00      1\n",
       "323.50      2\n",
       "315.50      1\n",
       "309.90      1\n",
       "306.00      1\n",
       "302.50      1\n",
       "Name: count, dtype: int64"
      ]
     },
     "execution_count": 39,
     "metadata": {},
     "output_type": "execute_result"
    }
   ],
   "source": [
    "df[\"O3\"].value_counts().sort_index(ascending=False).head(20)"
   ]
  },
  {
   "cell_type": "code",
   "execution_count": 40,
   "metadata": {},
   "outputs": [],
   "source": [
    "# O3 >= 323.5 oder == 500\n",
    "df.loc[df[\"O3\"] >= 323.5, \"O3\"] = np.nan"
   ]
  },
  {
   "cell_type": "markdown",
   "metadata": {},
   "source": [
    "#### Verteilung der bereinigten Ozon-Werte (O₃)\n",
    "Die Ozonwerte (O3) zeigen eine stark rechtsschiefe Verteilung mit einer Skewness von 13.71. Der Median liegt bei 19.90 µg/m³, der Mittelwert bei 20.46 µg/m³ – was nahe beieinander liegt, aber durch einige hohe Ausreißer leicht verzerrt wird.\n",
    "\n",
    "Im oberen Bereich der Verteilung ist eine ausgeprägte Punktelinie bei 395 µg/m³ erkennbar, mit 36 identischen Messwerten. Zudem zeigt sich eine große Häufung bei 500 µg/m³ mit 536 Einträgen – ein starkes Indiz für technische Grenzwerte oder Platzhalterwerte.\n",
    "\n",
    "Zwischen 323.5 µg/m³ und 381 µg/m³ besteht eine auffällige Lücke, was darauf hinweist, dass oberhalb von 323.5 keine kontinuierliche natürliche Streuung mehr vorhanden ist.\n",
    "\n",
    "Es wurde ein Cutoff bei 323.5 µg/m³ gesetzt. Alle Werte oberhalb dieses Grenzwerts wurden durch NaN ersetzt."
   ]
  },
  {
   "cell_type": "markdown",
   "metadata": {},
   "source": [
    "## 2.7 Tabelle zur Anzahl der entfernten Werte pro Spalte"
   ]
  },
  {
   "cell_type": "code",
   "execution_count": 41,
   "metadata": {},
   "outputs": [
    {
     "data": {
      "text/html": [
       "<div>\n",
       "<style scoped>\n",
       "    .dataframe tbody tr th:only-of-type {\n",
       "        vertical-align: middle;\n",
       "    }\n",
       "\n",
       "    .dataframe tbody tr th {\n",
       "        vertical-align: top;\n",
       "    }\n",
       "\n",
       "    .dataframe thead th {\n",
       "        text-align: right;\n",
       "    }\n",
       "</style>\n",
       "<table border=\"1\" class=\"dataframe\">\n",
       "  <thead>\n",
       "    <tr style=\"text-align: right;\">\n",
       "      <th></th>\n",
       "      <th>Missing Before</th>\n",
       "      <th>Missing After</th>\n",
       "      <th>Outliers Replaced</th>\n",
       "    </tr>\n",
       "  </thead>\n",
       "  <tbody>\n",
       "    <tr>\n",
       "      <th>Co</th>\n",
       "      <td>631810</td>\n",
       "      <td>631968</td>\n",
       "      <td>158</td>\n",
       "    </tr>\n",
       "    <tr>\n",
       "      <th>No2</th>\n",
       "      <td>286260</td>\n",
       "      <td>286514</td>\n",
       "      <td>254</td>\n",
       "    </tr>\n",
       "    <tr>\n",
       "      <th>O3</th>\n",
       "      <td>374148</td>\n",
       "      <td>374751</td>\n",
       "      <td>603</td>\n",
       "    </tr>\n",
       "    <tr>\n",
       "      <th>Pm10</th>\n",
       "      <td>341852</td>\n",
       "      <td>342107</td>\n",
       "      <td>255</td>\n",
       "    </tr>\n",
       "    <tr>\n",
       "      <th>Pm25</th>\n",
       "      <td>262789</td>\n",
       "      <td>262950</td>\n",
       "      <td>161</td>\n",
       "    </tr>\n",
       "    <tr>\n",
       "      <th>So2</th>\n",
       "      <td>532975</td>\n",
       "      <td>533132</td>\n",
       "      <td>157</td>\n",
       "    </tr>\n",
       "  </tbody>\n",
       "</table>\n",
       "</div>"
      ],
      "text/plain": [
       "      Missing Before  Missing After  Outliers Replaced\n",
       "Co            631810         631968                158\n",
       "No2           286260         286514                254\n",
       "O3            374148         374751                603\n",
       "Pm10          341852         342107                255\n",
       "Pm25          262789         262950                161\n",
       "So2           532975         533132                157"
      ]
     },
     "execution_count": 41,
     "metadata": {},
     "output_type": "execute_result"
    }
   ],
   "source": [
    "missing_after = df.isna().sum()\n",
    "outliers_removed = missing_after - missing_before\n",
    "\n",
    "outlier_table = pd.DataFrame({\n",
    "    \"Missing Before\": missing_before,\n",
    "    \"Missing After\": missing_after,\n",
    "    \"Outliers Replaced\": missing_after - missing_before\n",
    "})\n",
    "\n",
    "# Nur Zeilen anzeigen, in denen tatsächlich Ausreißer ersetzt wurden - alos die Schadstoff-Spalten\n",
    "outlier_table_filtered = outlier_table[outlier_table[\"Outliers Replaced\"] != 0]\n",
    "\n",
    "outlier_table_filtered"
   ]
  },
  {
   "cell_type": "code",
   "execution_count": 42,
   "metadata": {},
   "outputs": [
    {
     "name": "stdout",
     "output_type": "stream",
     "text": [
      "Anzahl ersetzter Ausreißer: 1,588\n",
      "Prozentualer Anteil der ersetzten Ausreißer: 0.0041%\n"
     ]
    }
   ],
   "source": [
    "# Wieviele Daten (%) wurden durch Ausreißerentfernung verloren?\n",
    "missing_before_total = missing_before.sum()\n",
    "missing_after_total = missing_after.sum()\n",
    "outliers_total = missing_after_total - missing_before_total\n",
    "outlier_percent = outliers_total / total_values_before * 100\n",
    "\n",
    "print(f\"Anzahl ersetzter Ausreißer: {outliers_total:,}\")\n",
    "print(f\"Prozentualer Anteil der ersetzten Ausreißer: {outlier_percent:.4f}%\")"
   ]
  },
  {
   "cell_type": "markdown",
   "metadata": {},
   "source": [
    "Durch das Entfernen klar identifizierter Ausreißer **in den Schadstoffvariablen** wurden lediglich 0.0041 % der Datenpunkte ersetzt.\n",
    "Der Datensatz wurde dadurch kaum reduziert, ist aber nun robuster gegenüber Verzerrungen, was insbesondere für Machine-Learning-Modelle, aber auch für Visualisierungen von Vorteil ist."
   ]
  },
  {
   "cell_type": "markdown",
   "metadata": {},
   "source": [
    "# 3. Deskriptive Statistik & Ausreißer-Handling: Wetter\n",
    "\n",
    "Analog zum Vorgehen bei den Schadstoffen werden im Folgenden alle Wettervariablen untersucht und ggf. Platzhalterwerte und starke Ausreißer durch NaN ersetzt.\n",
    "\n",
    "Die Wettervariablen werden in einer Schleife am Stück abgehandelt. Da das Setzen der Grenzwerte und das Entfernen von Ausreißern für jede Variable individuell entscheiden werden sollte, um möglichst alle realistischen Werte zu erhalten, wird dieser Schritt nachgelagert."
   ]
  },
  {
   "cell_type": "code",
   "execution_count": 43,
   "metadata": {},
   "outputs": [],
   "source": [
    "# Save percentage of missing values AFTER manipulation pollutants and BEFORE manipulating weather data\n",
    "missing_before_weather = df.isna().sum()\n",
    "total_values_before_weather = df.shape[0] * df.shape[1]"
   ]
  },
  {
   "cell_type": "code",
   "execution_count": 44,
   "metadata": {},
   "outputs": [
    {
     "data": {
      "text/html": [
       "<div>\n",
       "<style scoped>\n",
       "    .dataframe tbody tr th:only-of-type {\n",
       "        vertical-align: middle;\n",
       "    }\n",
       "\n",
       "    .dataframe tbody tr th {\n",
       "        vertical-align: top;\n",
       "    }\n",
       "\n",
       "    .dataframe thead th {\n",
       "        text-align: right;\n",
       "    }\n",
       "</style>\n",
       "<table border=\"1\" class=\"dataframe\">\n",
       "  <thead>\n",
       "    <tr style=\"text-align: right;\">\n",
       "      <th></th>\n",
       "      <th>Tavg</th>\n",
       "      <th>Tmin</th>\n",
       "      <th>Tmax</th>\n",
       "      <th>Humidity</th>\n",
       "      <th>Wspd</th>\n",
       "      <th>Wdir</th>\n",
       "      <th>Pres</th>\n",
       "      <th>Prcp</th>\n",
       "      <th>Dew</th>\n",
       "    </tr>\n",
       "  </thead>\n",
       "  <tbody>\n",
       "    <tr>\n",
       "      <th>count</th>\n",
       "      <td>1,403,687.00</td>\n",
       "      <td>1,378,595.00</td>\n",
       "      <td>1,376,836.00</td>\n",
       "      <td>1,306,961.00</td>\n",
       "      <td>1,240,293.00</td>\n",
       "      <td>1,170,876.00</td>\n",
       "      <td>1,204,252.00</td>\n",
       "      <td>1,041,250.00</td>\n",
       "      <td>1,000,165.00</td>\n",
       "    </tr>\n",
       "    <tr>\n",
       "      <th>mean</th>\n",
       "      <td>15.38</td>\n",
       "      <td>10.82</td>\n",
       "      <td>20.39</td>\n",
       "      <td>68.66</td>\n",
       "      <td>11.34</td>\n",
       "      <td>183.56</td>\n",
       "      <td>1,015.15</td>\n",
       "      <td>2.98</td>\n",
       "      <td>9.69</td>\n",
       "    </tr>\n",
       "    <tr>\n",
       "      <th>std</th>\n",
       "      <td>9.53</td>\n",
       "      <td>9.38</td>\n",
       "      <td>10.20</td>\n",
       "      <td>23.91</td>\n",
       "      <td>6.24</td>\n",
       "      <td>106.94</td>\n",
       "      <td>8.12</td>\n",
       "      <td>9.00</td>\n",
       "      <td>9.59</td>\n",
       "    </tr>\n",
       "    <tr>\n",
       "      <th>min</th>\n",
       "      <td>-41.00</td>\n",
       "      <td>-46.00</td>\n",
       "      <td>-37.20</td>\n",
       "      <td>-2,671.10</td>\n",
       "      <td>0.00</td>\n",
       "      <td>0.00</td>\n",
       "      <td>925.20</td>\n",
       "      <td>0.00</td>\n",
       "      <td>-64.30</td>\n",
       "    </tr>\n",
       "    <tr>\n",
       "      <th>25%</th>\n",
       "      <td>8.70</td>\n",
       "      <td>4.30</td>\n",
       "      <td>13.10</td>\n",
       "      <td>58.30</td>\n",
       "      <td>7.00</td>\n",
       "      <td>86.00</td>\n",
       "      <td>1,010.00</td>\n",
       "      <td>0.00</td>\n",
       "      <td>3.00</td>\n",
       "    </tr>\n",
       "    <tr>\n",
       "      <th>50%</th>\n",
       "      <td>15.90</td>\n",
       "      <td>11.00</td>\n",
       "      <td>21.10</td>\n",
       "      <td>72.80</td>\n",
       "      <td>10.00</td>\n",
       "      <td>194.00</td>\n",
       "      <td>1,015.00</td>\n",
       "      <td>0.00</td>\n",
       "      <td>10.00</td>\n",
       "    </tr>\n",
       "    <tr>\n",
       "      <th>75%</th>\n",
       "      <td>22.70</td>\n",
       "      <td>17.70</td>\n",
       "      <td>28.30</td>\n",
       "      <td>83.00</td>\n",
       "      <td>14.20</td>\n",
       "      <td>275.00</td>\n",
       "      <td>1,020.30</td>\n",
       "      <td>1.70</td>\n",
       "      <td>16.60</td>\n",
       "    </tr>\n",
       "    <tr>\n",
       "      <th>max</th>\n",
       "      <td>44.80</td>\n",
       "      <td>39.00</td>\n",
       "      <td>87.00</td>\n",
       "      <td>999.90</td>\n",
       "      <td>176.30</td>\n",
       "      <td>360.00</td>\n",
       "      <td>1,392.10</td>\n",
       "      <td>462.00</td>\n",
       "      <td>32.00</td>\n",
       "    </tr>\n",
       "  </tbody>\n",
       "</table>\n",
       "</div>"
      ],
      "text/plain": [
       "              Tavg         Tmin         Tmax     Humidity         Wspd  \\\n",
       "count 1,403,687.00 1,378,595.00 1,376,836.00 1,306,961.00 1,240,293.00   \n",
       "mean         15.38        10.82        20.39        68.66        11.34   \n",
       "std           9.53         9.38        10.20        23.91         6.24   \n",
       "min         -41.00       -46.00       -37.20    -2,671.10         0.00   \n",
       "25%           8.70         4.30        13.10        58.30         7.00   \n",
       "50%          15.90        11.00        21.10        72.80        10.00   \n",
       "75%          22.70        17.70        28.30        83.00        14.20   \n",
       "max          44.80        39.00        87.00       999.90       176.30   \n",
       "\n",
       "              Wdir         Pres         Prcp          Dew  \n",
       "count 1,170,876.00 1,204,252.00 1,041,250.00 1,000,165.00  \n",
       "mean        183.56     1,015.15         2.98         9.69  \n",
       "std         106.94         8.12         9.00         9.59  \n",
       "min           0.00       925.20         0.00       -64.30  \n",
       "25%          86.00     1,010.00         0.00         3.00  \n",
       "50%         194.00     1,015.00         0.00        10.00  \n",
       "75%         275.00     1,020.30         1.70        16.60  \n",
       "max         360.00     1,392.10       462.00        32.00  "
      ]
     },
     "execution_count": 44,
     "metadata": {},
     "output_type": "execute_result"
    }
   ],
   "source": [
    "df[[\"Tavg\", \"Tmin\", \"Tmax\", \"Humidity\", \"Wspd\", \"Wdir\", \"Pres\", \"Prcp\", \"Dew\"]].describe()\n"
   ]
  },
  {
   "cell_type": "markdown",
   "metadata": {},
   "source": [
    "#### Tabellarische Auswertung von describe()\n",
    "\n",
    "| Spalte | Bedingung für NaN                     | Begründung |\n",
    "|:-------|:--------------------------------------|:-----------|\n",
    "|Tavg    |                                       |plausible Verteilung, visuell prüfen |\n",
    "|Tmin    |                                       |plausible Verteilung, visuell prüfen |\n",
    "|Tmax\t |Tmax > 60\t                             |gemessenes Maximum weit über weltweit beobachtete Temperaturen |\n",
    "|Humidity|Humidity < 0 oder > 100                |physikalisch unmöglich / Platzhalter |\n",
    "|Wspd\t |erst visuell prüfen, dann ggf. > 150   |Hurrikan-Grenze, höhere Werte für einzelen Böen möglich aber selten |\n",
    "|Wdir    |<0 oder >360                           |Windrichtung wird in Winkelgrad gemessen |\n",
    "|Pres\t |Pres > 1100\t                         |Maximum ungewöhnlich hoch, Messfehler möglich |\n",
    "|Prcp\t |                                       |plausible Verteilung, visuell prüfen |\n",
    "|Dew\t |ggf. ab –70 prüfen                     |tendenziell realistisch, vorsichtiger Umgang  |\n"
   ]
  },
  {
   "cell_type": "code",
   "execution_count": 45,
   "metadata": {},
   "outputs": [
    {
     "name": "stdout",
     "output_type": "stream",
     "text": [
      "\n",
      "📊 Analyse für: Tavg\n"
     ]
    },
    {
     "data": {
      "image/png": "[encoded data removed]",
      "text/plain": [
       "<Figure size 1000x200 with 1 Axes>"
      ]
     },
     "metadata": {},
     "output_type": "display_data"
    },
    {
     "name": "stdout",
     "output_type": "stream",
     "text": [
      "Mean:   15.38\n",
      "Median: 15.90\n",
      "Skew:   -0.38\n",
      "Min:    -41.00\n",
      "Max:    44.80\n",
      "99.9%-Quantil (statistical suggestion only!): 38.30\n",
      "\n",
      "📊 Analyse für: Tmin\n"
     ]
    },
    {
     "data": {
      "image/png": "[encoded data removed]",
      "text/plain": [
       "<Figure size 1000x200 with 1 Axes>"
      ]
     },
     "metadata": {},
     "output_type": "display_data"
    },
    {
     "name": "stdout",
     "output_type": "stream",
     "text": [
      "Mean:   10.82\n",
      "Median: 11.00\n",
      "Skew:   -0.32\n",
      "Min:    -46.00\n",
      "Max:    39.00\n",
      "99.9%-Quantil (statistical suggestion only!): 32.40\n",
      "\n",
      "📊 Analyse für: Tmax\n"
     ]
    },
    {
     "data": {
      "image/png": "[encoded data removed]",
      "text/plain": [
       "<Figure size 1000x200 with 1 Axes>"
      ]
     },
     "metadata": {},
     "output_type": "display_data"
    },
    {
     "name": "stdout",
     "output_type": "stream",
     "text": [
      "Mean:   20.39\n",
      "Median: 21.10\n",
      "Skew:   -0.37\n",
      "Min:    -37.20\n",
      "Max:    87.00\n",
      "99.9%-Quantil (statistical suggestion only!): 45.90\n",
      "\n",
      "📊 Analyse für: Humidity\n"
     ]
    },
    {
     "data": {
      "image/png": "[encoded data removed]",
      "text/plain": [
       "<Figure size 1000x200 with 1 Axes>"
      ]
     },
     "metadata": {},
     "output_type": "display_data"
    },
    {
     "name": "stdout",
     "output_type": "stream",
     "text": [
      "Mean:   68.66\n",
      "Median: 72.80\n",
      "Skew:   -27.84\n",
      "Min:    -2671.10\n",
      "Max:    999.90\n",
      "99.9%-Quantil (statistical suggestion only!): 100.00\n",
      "\n",
      "📊 Analyse für: Wspd\n"
     ]
    },
    {
     "data": {
      "image/png": "[encoded data removed]",
      "text/plain": [
       "<Figure size 1000x200 with 1 Axes>"
      ]
     },
     "metadata": {},
     "output_type": "display_data"
    },
    {
     "name": "stdout",
     "output_type": "stream",
     "text": [
      "Mean:   11.34\n",
      "Median: 10.00\n",
      "Skew:   1.51\n",
      "Min:    0.00\n",
      "Max:    176.30\n",
      "99.9%-Quantil (statistical suggestion only!): 44.70\n",
      "\n",
      "📊 Analyse für: Wdir\n"
     ]
    },
    {
     "data": {
      "image/png": "[encoded data removed]",
      "text/plain": [
       "<Figure size 1000x200 with 1 Axes>"
      ]
     },
     "metadata": {},
     "output_type": "display_data"
    },
    {
     "name": "stdout",
     "output_type": "stream",
     "text": [
      "Mean:   183.56\n",
      "Median: 194.00\n",
      "Skew:   -0.11\n",
      "Min:    0.00\n",
      "Max:    360.00\n",
      "99.9%-Quantil (statistical suggestion only!): 359.00\n",
      "\n",
      "📊 Analyse für: Pres\n"
     ]
    },
    {
     "data": {
      "image/png": "[encoded data removed]",
      "text/plain": [
       "<Figure size 1000x200 with 1 Axes>"
      ]
     },
     "metadata": {},
     "output_type": "display_data"
    },
    {
     "name": "stdout",
     "output_type": "stream",
     "text": [
      "Mean:   1015.15\n",
      "Median: 1015.00\n",
      "Skew:   -0.04\n",
      "Min:    925.20\n",
      "Max:    1392.10\n",
      "99.9%-Quantil (statistical suggestion only!): 1041.70\n",
      "\n",
      "📊 Analyse für: Prcp\n"
     ]
    },
    {
     "data": {
      "image/png": "[encoded data removed]",
      "text/plain": [
       "<Figure size 1000x200 with 1 Axes>"
      ]
     },
     "metadata": {},
     "output_type": "display_data"
    },
    {
     "name": "stdout",
     "output_type": "stream",
     "text": [
      "Mean:   2.98\n",
      "Median: 0.00\n",
      "Skew:   8.19\n",
      "Min:    0.00\n",
      "Max:    462.00\n",
      "99.9%-Quantil (statistical suggestion only!): 101.10\n",
      "\n",
      "📊 Analyse für: Dew\n"
     ]
    },
    {
     "data": {
      "image/png": "[encoded data removed]",
      "text/plain": [
       "<Figure size 1000x200 with 1 Axes>"
      ]
     },
     "metadata": {},
     "output_type": "display_data"
    },
    {
     "name": "stdout",
     "output_type": "stream",
     "text": [
      "Mean:   9.69\n",
      "Median: 10.00\n",
      "Skew:   -0.37\n",
      "Min:    -64.30\n",
      "Max:    32.00\n",
      "99.9%-Quantil (statistical suggestion only!): 28.00\n"
     ]
    }
   ],
   "source": [
    "# Schleife für Wettervariablen\n",
    "\n",
    "weather_columns = [\"Tavg\", \"Tmin\", \"Tmax\", \"Humidity\", \"Wspd\", \"Wdir\", \"Pres\", \"Prcp\", \"Dew\"]\n",
    "\n",
    "for col in weather_columns:\n",
    "    print(f\"\\n📊 Analyse für: {col}\")\n",
    "    \n",
    "    # Stripplot\n",
    "    plt.figure(figsize=(10, 2))\n",
    "    sns.stripplot(x=df[col], size=2, jitter=0.3)\n",
    "    plt.title(f\"{col} – Einzelwerte\")\n",
    "    plt.grid(True)\n",
    "    plt.xlabel(f\"{col}-Wert\")\n",
    "    plt.show()\n",
    "    \n",
    "    # Statistische Kennzahlen\n",
    "    mean_val = df[col].mean()\n",
    "    median_val = df[col].median()\n",
    "    skew_val = df[col].skew()\n",
    "    min_val = df[col].min()\n",
    "    max_val = df[col].max()\n",
    "    \n",
    "    print(f\"Mean:   {mean_val:.2f}\")\n",
    "    print(f\"Median: {median_val:.2f}\")\n",
    "    print(f\"Skew:   {skew_val:.2f}\")\n",
    "    print(f\"Min:    {min_val:.2f}\")\n",
    "    print(f\"Max:    {max_val:.2f}\")\n",
    "    \n",
    "    # Cutoff-Vorschlag (nur zur Orientierung)\n",
    "    cutoff = df[col].quantile(0.999)\n",
    "    print(f\"99.9%-Quantil (statistical suggestion only!): {cutoff:.2f}\")\n"
   ]
  },
  {
   "cell_type": "markdown",
   "metadata": {},
   "source": [
    "### Cutoffbestimmung und Ausreißerentfernung für Wettervariablen\n",
    "\n",
    "Für die beiden Variablen, bei denen der Stripplot keine eindeutige Auskunft gibt (Tmax und Dew), wird der Cutoff-Wert durch einen Blick auf die betreffenden Messwerte bestimmt:"
   ]
  },
  {
   "cell_type": "code",
   "execution_count": 46,
   "metadata": {},
   "outputs": [
    {
     "data": {
      "text/plain": [
       "Tmax\n",
       "87.00    1\n",
       "76.00    1\n",
       "60.00    1\n",
       "57.00    1\n",
       "56.00    1\n",
       "52.20    1\n",
       "52.10    2\n",
       "52.00    3\n",
       "51.70    1\n",
       "51.50    2\n",
       "Name: count, dtype: int64"
      ]
     },
     "execution_count": 46,
     "metadata": {},
     "output_type": "execute_result"
    }
   ],
   "source": [
    "# Cutoff für Tmax genauer bestimmen; oberste 10 Messwerte anschauen:\n",
    "\n",
    "df[\"Tmax\"].value_counts().sort_index(ascending=False).head(10)\n",
    "\n",
    "# --> Cutoff bei 60 Grad"
   ]
  },
  {
   "cell_type": "code",
   "execution_count": 47,
   "metadata": {},
   "outputs": [
    {
     "data": {
      "text/plain": [
       "Dew\n",
       "True     642772\n",
       "False    357393\n",
       "Name: count, dtype: int64"
      ]
     },
     "execution_count": 47,
     "metadata": {},
     "output_type": "execute_result"
    }
   ],
   "source": [
    "# Wie entsteht der \"gestrichelte\" Eindruck im Stripplot für den Taupunkt? Gibt es mehrhheitlich ganzzahlige Messwerte?\n",
    "df[\"Dew\"].dropna().apply(lambda x: x.is_integer()).value_counts()\n",
    "\n",
    "# --> Vermutlich geben die meisten Messgeräte nur ganzzahlige Werte aus"
   ]
  },
  {
   "cell_type": "code",
   "execution_count": 48,
   "metadata": {},
   "outputs": [],
   "source": [
    "# Ausreißerentfernung für alle Wettervariablen, bei denen die Stripplots Ausreißer zeigen\n",
    "\n",
    "# Tmax: realistische Obergrenze bei 60°C\n",
    "df.loc[df[\"Tmax\"] > 60, \"Tmax\"] = np.nan\n",
    "\n",
    "# Humidity: alles < 0 oder > 100 ist physikalisch nicht (bzw. über 100% nur SEHR kurzzeitig) möglich\n",
    "df.loc[(df[\"Humidity\"] < 0) | (df[\"Humidity\"] > 100), \"Humidity\"] = np.nan\n",
    "\n",
    "# Wspd: Werte > 150 km/h (Orkangrenze) sind extrem selten\n",
    "df.loc[df[\"Wspd\"] > 150, \"Wspd\"] = np.nan\n",
    "\n",
    "# Pres: zwei Ausreißer über 1100 hPa, vermutlich technisches Problem\n",
    "df.loc[df[\"Pres\"] > 1100, \"Pres\"] = np.nan\n",
    "\n",
    "# Prcp: 2 extreme Ausreißer, im Prinzip möglich, aber für Modelle ungünstig und für den Gesamtdatensatz nicht repräsentativ\n",
    "df.loc[df[\"Prcp\"] > 400, \"Prcp\"] = np.nan\n",
    "\n",
    "# Dew: Werte von -40 bis 32 sind zu erwarten; mit diesen Schwellenwerten werden nur wenige Extremwerte entfernt\n",
    "df.loc[(df[\"Dew\"] < -40) | (df[\"Dew\"] > 32), \"Dew\"] = np.nan"
   ]
  },
  {
   "cell_type": "markdown",
   "metadata": {},
   "source": [
    "### Verteilungen in den bereinigten Wettervariablen\n",
    "\n",
    "🌡️ Tavg – Durchschnittstemperatur\n",
    "\n",
    "Die Variable Tavg beschreibt die durchschnittliche tägliche Temperatur. Die Verteilung ist leicht linksschief mit einem Skewness-Wert von –0.38. Der Mittelwert beträgt 15.38 °C, der Median liegt bei 15.90 °C, was auf eine weitgehend symmetrische Verteilung mit leichtem Übergewicht kälterer Temperaturen hinweist.\n",
    "\n",
    "Ein Blick auf den Stripplot zeigt, dass sich alle Werte im realistisch meteorologischen Bereich befinden:\n",
    "\n",
    "- Das Minimum liegt bei ca. –42 °C, was in sehr kalten Regionen (z. B. in Sibirien oder Teilen Kanadas) durchaus auftreten kann.\n",
    "- Das Maximum liegt bei ca. 50 °C, was mit bekannten Hitzerekorden weltweit vereinbar ist.\n",
    "\n",
    "Das 99.9%-Quantil liegt bei 38.30 °C. Dennoch wurde bewusst kein Grenzwert (Cutoff) gesetzt, da keine eindeutig unrealistischen Ausreißer erkennbar sind.\n",
    "\n",
    "→ Es wurden keine Werte entfernt oder als Ausreißer markiert.\n",
    "\n",
    "---\n",
    "\n",
    "🌡️ Tmin – Tagestiefsttemperatur\n",
    "\n",
    "Die Variable Tmin beschreibt die tägliche Tiefsttemperatur. Die Verteilung zeigt mit einer Schiefe von –0.32 eine leichte Linksschiefe, was auf ein geringfügiges Übergewicht sehr kalter Tage hinweist.\n",
    "Der Mittelwert beträgt 10.82 °C, der Median 11.00 °C, was auf eine insgesamt symmetrische Verteilung ohne nennenswerte Verzerrungen schließen lässt.\n",
    "\n",
    "Der Stripplot zeigt eine natürliche, kontinuierliche Verteilung der Messwerte.\n",
    "\n",
    "- Das Minimum liegt bei –46 °C, was in kalten Klimazonen realistisch ist.\n",
    "- Das Maximum bei 39 °C ist ungewöhnlich hoch für eine Tiefsttemperatur, aber unter besonderen Bedingungen (z. B. Hitzewellen) möglich.\n",
    "- Das 99.9%-Quantil liegt bei 32.4 °C, wodurch nur sehr wenige extrem hohe Werte überhaupt betroffen wären.\n",
    "\n",
    "Insgesamt zeigen sich keine auffälligen Ausreißer oder technische Artefakte.\n",
    "\n",
    "→ Es wurden keine Werte entfernt oder ersetzt.\n",
    "\n",
    "---\n",
    "\n",
    "🌡️ Tmax – Tageshöchsttemperatur\n",
    "\n",
    "Die Variable Tmax beschreibt die tägliche Höchsttemperatur.\n",
    "Die Verteilung ist mit einem Skewness-Wert von –0.37 leicht linksschief.\n",
    "Der Mittelwert beträgt 20.38 °C, der Median liegt bei 21.10 °C – die Verteilung ist insgesamt gut balanciert.\n",
    "\n",
    "Der Stripplot zeigt einen realistischen Verlauf im Bereich zwischen ca. –37 °C und 50 °C, wobei sich oberhalb von 50 °C vereinzelte Werte häufen. Eine genauere Prüfung der 20 höchsten Werte ergab jedoch drei offensichtliche Ausreißer:\n",
    "→ 60 °C, 76 °C und 87 °C – allesamt deutlich über bekannten meteorologischen Rekorden.\n",
    "\n",
    "→ Als Grenzwert wurde daher ein Cutoff bei 60 °C gesetzt. Drei Werte oberhalb dieses Grenzwerts wurden durch NaN ersetzt.\n",
    "\n",
    "---\n",
    "\n",
    "💧 Humidity – Relative Luftfeuchtigkeit\n",
    "\n",
    "Die Variable Humidity beschreibt die relative Luftfeuchtigkeit in Prozent.\n",
    "Die Verteilung ist extrem linksschief mit einer Skewness von –27.84, was auf starke Ausreißer im negativen und sehr hohen Bereich hindeutet.\n",
    "\n",
    "Die realistischen Messwerte liegen zwischen 0 % und 100 %.\n",
    "Der Stripplot zeigt jedoch vereinzelte, stark auffällige Werte:\n",
    "\n",
    "- Das Minimum beträgt –2671.1 %, was physikalisch unmöglich ist\n",
    "- Das Maximum liegt bei 999.9 %, höchstwahrscheinlich ein Platzhalterwert\n",
    "\n",
    "→ Es wurde daher ein Grenzbereich von 0 % bis 100 % definiert. Alle Werte außerhalb dieses Intervalls wurden durch NaN ersetzt.\n",
    "\n",
    "---\n",
    "\n",
    "💨 Wspd – Windgeschwindigkeit\n",
    "\n",
    "Die Variable Wspd beschreibt die tägliche durchschnittliche Windgeschwindigkeit in km/h.\n",
    "Die Verteilung zeigt eine leichte Rechtsschiefe mit einem Skewness-Wert von 1.51.\n",
    "Der Mittelwert liegt bei 11.34 km/h, der Median bei 10.00 km/h, was auf einen leicht asymmetrischen, aber plausiblen Verlauf hindeutet.\n",
    "\n",
    "Der Stripplot zeigt, dass die meisten Messwerte zwischen 0 und 45 km/h liegen, mit ausdünnender Streuung nach oben – was meteorologisch zu erwarten ist.\n",
    "Drei auffällige Extremwerte oberhalb von 150 km/h wurden identifiziert, der Maximalwert liegt bei 176.3 km/h. Solche Werte sind theoretisch möglich (z. B. bei Orkanen), aber im Kontext dieser Analyse nicht repräsentativ.\n",
    "\n",
    "→ Es wurde ein Cutoff bei 150 km/h gesetzt. Drei Werte oberhalb dieses Grenzwerts wurden durch NaN ersetzt.\n",
    "\n",
    "---\n",
    "\n",
    "🌬️ Pres – Luftdruck\n",
    "\n",
    "Die Variable Pres beschreibt den täglichen Luftdruck in hPa. Die Verteilung ist mit einer Skewness von –0.04 nahezu symmetrisch, was auf eine ausgewogene, realistische Verteilung hinweist.\n",
    "Der Mittelwert liegt bei 1015.15 hPa, was nahe am physikalischen Normaldruck (1013 hPa) liegt.\n",
    "\n",
    "Ein Blick auf die Extremwerte zeigt:\n",
    "\n",
    "- Minimum: 925.2 hPa – plausibel, z. B. bei Tiefdrucklagen\n",
    "- Maximum: 1392.1 hPa – stark unrealistisch, deutlich über bekannten Rekorden\n",
    "\n",
    "→ Es wurde ein Cutoff bei 1100 hPa gesetzt. Zwei klare Ausreißer oberhalb dieses Grenzwerts wurden durch NaN ersetzt.\n",
    "\n",
    "---\n",
    "\n",
    "🌧️ Prcp – Niederschlag\n",
    "\n",
    "Die Variable Prcp beschreibt die tägliche Niederschlagsmenge in mm. Die Verteilung ist mit einer Skewness von 8.21 stark rechtsschief:\n",
    "\n",
    "- An über der Hälfte aller Tage wurde kein Niederschlag gemessen (Median: 0.0 mm).\n",
    "- Einzelne Starkregenereignisse führen zu hohen Maximalwerten (bis zu 462 mm), die jedoch extrem selten sind.\n",
    "\n",
    "→ Zur Vermeidung einer übermäßigen Verzerrung der Analyse wurde ein Cutoff bei 400 mm gesetzt. Zwei ungewöhnlich hohe Werte oberhalb dieses Grenzwerts wurden durch NaN ersetzt.\n",
    "\n",
    "---\n",
    "\n",
    "💧 Dew – Taupunkt\n",
    "\n",
    "Die Variable Dew beschreibt den täglichen Taupunkt in °C – also die Temperatur, bei der die Luft mit Wasserdampf gesättigt ist.\n",
    "Die Werte zeigen eine leicht linksschiefe Verteilung mit einer Skewness von –0.37.\n",
    "Mittelwert und Median liegen nahe beieinander (9.69 °C bzw. 10.00 °C), was auf eine insgesamt ausgewogene Verteilung hindeutet.\n",
    "\n",
    "Der Stripplot vermittelt einen „gestückelten“ Eindruck, da etwa zwei Drittel der Werte ganzzahlig sind – vermutlich durch vorverarbeitete oder gerundete Messdaten. Ein gutes Drittel liegt jedoch im nicht-ganzzahligen Bereich, was unterschiedliche Genauigkeitsstufen in den Datenquellen vermuten lässt.\n",
    "\n",
    "Zur Erkennung potenzieller Ausreißer wurden die physikalisch plausiblen Grenzwerte des Taupunkts berücksichtigt:\n",
    "\n",
    "- Oberhalb von 32 °C (tropisch-feucht) und\n",
    "- Unterhalb von –40 °C (polar-trocken) sind reale Messwerte zwar nicht unmöglich, aber extrem selten.\n",
    "\n",
    "→ Es wurde ein Cutoff bei –40 °C und +32 °C gesetzt. Werte außerhalb dieses Bereichs wurden durch NaN ersetzt.\n"
   ]
  },
  {
   "cell_type": "markdown",
   "metadata": {},
   "source": [
    "### Tabelle zur Anzahl der entfernten Werte pro Spalte (Wetter)"
   ]
  },
  {
   "cell_type": "code",
   "execution_count": 49,
   "metadata": {},
   "outputs": [
    {
     "data": {
      "text/html": [
       "<div>\n",
       "<style scoped>\n",
       "    .dataframe tbody tr th:only-of-type {\n",
       "        vertical-align: middle;\n",
       "    }\n",
       "\n",
       "    .dataframe tbody tr th {\n",
       "        vertical-align: top;\n",
       "    }\n",
       "\n",
       "    .dataframe thead th {\n",
       "        text-align: right;\n",
       "    }\n",
       "</style>\n",
       "<table border=\"1\" class=\"dataframe\">\n",
       "  <thead>\n",
       "    <tr style=\"text-align: right;\">\n",
       "      <th></th>\n",
       "      <th>Missing Before</th>\n",
       "      <th>Missing After</th>\n",
       "      <th>Outliers Replaced</th>\n",
       "    </tr>\n",
       "  </thead>\n",
       "  <tbody>\n",
       "    <tr>\n",
       "      <th>Dew</th>\n",
       "      <td>694876</td>\n",
       "      <td>694891</td>\n",
       "      <td>15</td>\n",
       "    </tr>\n",
       "    <tr>\n",
       "      <th>Humidity</th>\n",
       "      <td>388080</td>\n",
       "      <td>388414</td>\n",
       "      <td>334</td>\n",
       "    </tr>\n",
       "    <tr>\n",
       "      <th>Tmax</th>\n",
       "      <td>318205</td>\n",
       "      <td>318207</td>\n",
       "      <td>2</td>\n",
       "    </tr>\n",
       "    <tr>\n",
       "      <th>Prcp</th>\n",
       "      <td>653791</td>\n",
       "      <td>653793</td>\n",
       "      <td>2</td>\n",
       "    </tr>\n",
       "    <tr>\n",
       "      <th>Wspd</th>\n",
       "      <td>454748</td>\n",
       "      <td>454751</td>\n",
       "      <td>3</td>\n",
       "    </tr>\n",
       "    <tr>\n",
       "      <th>Pres</th>\n",
       "      <td>490789</td>\n",
       "      <td>490791</td>\n",
       "      <td>2</td>\n",
       "    </tr>\n",
       "  </tbody>\n",
       "</table>\n",
       "</div>"
      ],
      "text/plain": [
       "          Missing Before  Missing After  Outliers Replaced\n",
       "Dew               694876         694891                 15\n",
       "Humidity          388080         388414                334\n",
       "Tmax              318205         318207                  2\n",
       "Prcp              653791         653793                  2\n",
       "Wspd              454748         454751                  3\n",
       "Pres              490789         490791                  2"
      ]
     },
     "execution_count": 49,
     "metadata": {},
     "output_type": "execute_result"
    }
   ],
   "source": [
    "missing_after_weather = df.isna().sum()\n",
    "outliers_weather = missing_after_weather - missing_before_weather\n",
    "\n",
    "outlier_weather_table = pd.DataFrame({\n",
    "    \"Missing Before\": missing_before_weather,\n",
    "    \"Missing After\": missing_after_weather,\n",
    "    \"Outliers Replaced\": outliers_weather\n",
    "})\n",
    "\n",
    "# Nur Zeilen anzeigen, in denen tatsächlich Ausreißer ersetzt wurden - alos die Schadstoff-Spalten\n",
    "outlier_weather_table_filtered = outlier_weather_table[outlier_weather_table[\"Outliers Replaced\"] != 0]\n",
    "\n",
    "outlier_weather_table_filtered"
   ]
  },
  {
   "cell_type": "code",
   "execution_count": 50,
   "metadata": {},
   "outputs": [
    {
     "name": "stdout",
     "output_type": "stream",
     "text": [
      "Anzahl ersetzter Ausreißer (Wetterdaten): 358\n",
      "Prozentualer Anteil der ersetzten Ausreißer: 0.0009%\n"
     ]
    }
   ],
   "source": [
    "missing_before_total_weather = missing_before_weather.sum()\n",
    "missing_after_total_weather = missing_after_weather.sum()\n",
    "outliers_total_weather = missing_after_total_weather - missing_before_total_weather\n",
    "outlier_percent_weather = outliers_total_weather / total_values_before_weather * 100\n",
    "\n",
    "print(f\"Anzahl ersetzter Ausreißer (Wetterdaten): {outliers_total_weather:,}\")\n",
    "print(f\"Prozentualer Anteil der ersetzten Ausreißer: {outlier_percent_weather:.4f}%\")\n"
   ]
  },
  {
   "cell_type": "markdown",
   "metadata": {},
   "source": [
    "Durch das Entfernen klar identifizierter Ausreißer **in den Wettervariablen** wurden lediglich 0.0009 % der Datenpunkte ersetzt. Der Datensatz wurde dadurch kaum reduziert, ist aber nun robuster gegenüber Verzerrungen, was insbesondere für Machine-Learning-Modelle von Vorteil ist.\n",
    "\n",
    "Da die Ausreißer nur aus den betreffenden **Zellen** gelöscht wurden, hat sich der Gesamtumfang des Datensatzes durch die Ausreißerentfernung noch nicht verändert.\n",
    "\n",
    "Der Umgang mit NaN-Werten (Entfernung, Imputation) ist nicht mehr Teil dieses Notebooks, weil die Entscheidung. wie mit den NaN-Werten verfahren wird, von der Art der angestrebten Analyse abhängt und daher erst dort getroffen werden sollte."
   ]
  },
  {
   "cell_type": "markdown",
   "metadata": {},
   "source": [
    "# 4. Speichern des um Ausreißer bereinigten Datensatzes"
   ]
  },
  {
   "cell_type": "code",
   "execution_count": null,
   "metadata": {},
   "outputs": [
    {
     "name": "stdout",
     "output_type": "stream",
     "text": [
      "CSV-Datei wurde in '../air_quality/data/cleaned_air_quality_data_2025-04-24.csv' gespeichert.\n"
     ]
    }
   ],
   "source": [
    "# define today's date\n",
    "datum = date.today().isoformat()\n",
    "\n",
    "# Ordnerpfad (z. B. \"C:/Daten\" unter Windows oder \"/home/user/Daten\" unter Linux/Mac)\n",
    "ordner = \"../air_quality/data\"\n",
    " \n",
    "# Vollständiger Dateipfad\n",
    "dateipfad = os.path.join(ordner, f\"cleaned_air_quality_data_{datum}.csv\")\n",
    " \n",
    "# DataFrame als CSV speichern\n",
    "df.to_csv(dateipfad, index=False, encoding=\"utf-8\")\n",
    "print(f\"CSV-Datei wurde in '{dateipfad}' gespeichert.\")\n",
    " "
   ]
  }
 ],
 "metadata": {
  "kernelspec": {
   "display_name": ".venv",
   "language": "python",
   "name": "python3"
  },
  "language_info": {
   "codemirror_mode": {
    "name": "ipython",
    "version": 3
   },
   "file_extension": ".py",
   "mimetype": "text/x-python",
   "name": "python",
   "nbconvert_exporter": "python",
   "pygments_lexer": "ipython3",
   "version": "3.11.4"
  }
 },
 "nbformat": 4,
 "nbformat_minor": 2
}
