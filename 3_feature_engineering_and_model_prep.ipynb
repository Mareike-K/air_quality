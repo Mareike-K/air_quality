{
 "cells": [
  {
   "cell_type": "markdown",
   "metadata": {},
   "source": [
    "# Feature Engineering\n",
    "\n",
    "In diesem Notebook wird der Prozess der Feature Engineerings vorgestellt. Als Beispiel wird die Vorbereitung von Daten für einen Lineare Regressionsanalyse benutzt, und zwar der Daten zu Luftqualität und Wetterdaten für die Stadt **Hamburg**. Anhand der Wettervariablen soll die Belastung mit Feinstaub vorhergesagt werden.\n",
    "\n",
    "Die **lineare Regression** ist ein statistisches Verfahren, mit dem der Zusammenhang zwischen einer abhängigen Variable (Zielvariable) und einer oder mehreren unabhängigen Variablen (Features) modelliert wird. Ziel ist es, eine **lineare Gleichung** zu finden, mit der man den Wert der Zielvariable aus den Werten der Features vorhersagen kann.\n",
    "\n",
    "Die allgemeine Form einer einfachen linearen Regression (mit nur einem Feature) lautet:\n",
    "\n",
    "$$\n",
    "y = \\beta_0 + \\beta_1 x + \\varepsilon\n",
    "$$\n",
    "\n",
    "- y: Zielvariable (z. B. Feinstaubkonzentration)  \n",
    "- x: unabhängige Variable (z. B. Temperatur)  \n",
    "- $\\beta_0$: Achsenabschnitt (Intercept)  \n",
    "- $\\beta_1$: Steigung (Einfluss des Features auf das Ziel)   -->\n",
    "- $\\varepsilon$: Fehlerterm (Differenz zwischen Vorhersage und Realität)\n",
    "\n",
    "Bei **multipler linearer Regression** werden mehrere Features gleichzeitig berücksichtigt:\n",
    "\n",
    "$$\n",
    "y = \\beta_0 + \\beta_1 x_1 + \\beta_2 x_2 + \\dots + \\beta_n x_n + \\varepsilon\n",
    "$$\n",
    "\n",
    "Die lineare Regression geht davon aus, dass der Zusammenhang zwischen den Variablen **linear** ist – also, dass sich Änderungen in den Features proportional auf die Zielvariable auswirken.\n",
    "\n",
    "**Typische Anwendungsfälle:**\n",
    "\n",
    "- Vorhersage von Luftschadstoffkonzentrationen auf Basis von Wetterdaten  \n",
    "- Erklärung, welche Faktoren welchen Einfluss auf die Zielgröße haben\n",
    "\n",
    "Die folgenden Analysen werden zeigen, dass der Einfluss der Variablen nicht immer linear ist. Beispielsweise ändert sich der... (Fortsetzung folgt)\n",
    "\n",
    "Diese Beobachtung motiviert den Einsatz von Feature Engineering mit dem Ziel, die vorhandenen Daten möglichst gut vorzubereiten, um sie für ein Machine-Learning-Modell benutzen zu können.\n",
    "\n",
    "Verwendet werden verschiedene Module der Python Bibliothek **Scitkit-learn** für maschinelles Lernen, so wie **statsmodels**.\n",
    "\n",
    "📌 **Datenstand:** `cleaned_air_quality_data_2025-03-27.csv`  \n",
    "📁 **Importiert aus:** lokaler Datei (--> gitignore)\n"
   ]
  },
  {
   "cell_type": "markdown",
   "metadata": {},
   "source": [
    "## 📚 Inhaltsverzeichnis \n",
    "(Diese Art von Inhaltsverzeichnis mit Link funktioniert leider in Notebooks nicht, weil die as JSON gespeichert werden und nicht als HTML...)\n",
    "\n",
    "- [0. Datensatz laden](#0-datensatz-laden)\n",
    "- [1. Mini-EDA Hamburg](#1-mini-eda-hamburg)\n",
    "- [2. Baseline-Modell: Lineare Regression](#2-baseline-modell-lineare-regression)\n",
    "- [3. Feature Engineering](#3-feature-engineering)\n",
    "    - [3.1. Feature Reduction](#31-feature-reduction)\n",
    "    - [3.2. Feature Transformation](#32-feature-transformation)\n",
    "    - [3.3. Interaktionsterme](#33-interaktionsterme)\n",
    "    - [3.4. Zeitvariablen](#34-zeitvariablen)\n",
    "- [4. Fazit: Wirkung von Feature Engineering auf das Regressionsmodell](#4-fazit-wirkung-von-feature-engineering-auf-das-regressionsmodell)\n",
    "- [5. Bonus: Weitere Luftschadstoffe als erklärende Variablen](#5-bonus-weitere-luftschadstoffe-als-erklärende-variablen)\n",
    "- [6. Finales Modell: Visualisierung der Ergebnisse](#6-finales-modell-visualisierung-der-ergebnisse)\n",
    "- [7. Modellvergleich](#7-modellvergleich)\n",
    "    "
   ]
  },
  {
   "cell_type": "markdown",
   "metadata": {
    "vscode": {
     "languageId": "plaintext"
    }
   },
   "source": [
    "# 0. Datensatz laden"
   ]
  },
  {
   "cell_type": "code",
   "execution_count": null,
   "metadata": {},
   "outputs": [],
   "source": [
    "# imports\n",
    "import pandas as pd\n",
    "import numpy as np\n",
    "import matplotlib.pyplot as plt\n",
    "import seaborn as sns\n",
    "from sklearn.linear_model import LinearRegression\n",
    "import statsmodels.api as sm\n",
    "from statsmodels.nonparametric.smoothers_lowess import lowess\n",
    "%matplotlib inline"
   ]
  },
  {
   "cell_type": "code",
   "execution_count": null,
   "metadata": {},
   "outputs": [],
   "source": [
    "# Settings for displaying floats\n",
    "pd.set_option('display.float_format', '{:,.2f}'.format)"
   ]
  },
  {
   "cell_type": "code",
   "execution_count": null,
   "metadata": {},
   "outputs": [],
   "source": [
    "df = pd.read_csv(\"data/cleaned_air_quality_data_2025-03-27.csv\")\n",
    "df.head()"
   ]
  },
  {
   "cell_type": "markdown",
   "metadata": {},
   "source": [
    "# 1. Mini-EDA: Hamburg"
   ]
  },
  {
   "cell_type": "code",
   "execution_count": null,
   "metadata": {},
   "outputs": [],
   "source": [
    "# Erstellen eines DataFrames für Hamburg\n",
    "df_hamburg = df[df['City'].isin(['Hamburg'])]\n",
    "\n",
    "# Überprüfung der ersten Zeilen des gefilterten DataFrames\n",
    "print(df_hamburg.shape)\n",
    "df_hamburg.head()"
   ]
  },
  {
   "cell_type": "code",
   "execution_count": null,
   "metadata": {},
   "outputs": [],
   "source": [
    "df_hamburg.columns"
   ]
  },
  {
   "cell_type": "code",
   "execution_count": null,
   "metadata": {},
   "outputs": [],
   "source": [
    "df_hamburg.describe().T"
   ]
  },
  {
   "cell_type": "code",
   "execution_count": null,
   "metadata": {},
   "outputs": [],
   "source": [
    "df_hamburg['Co'].unique()"
   ]
  },
  {
   "cell_type": "markdown",
   "metadata": {},
   "source": [
    "Die Werte für CO sind auffällig niedrig. Messfehler? Fehlende Messwerte?\n",
    "\n",
    "Als Target für die Regressionsanalyse wird die Feinstaubbelastung (PM2.5) gewählt.\n",
    "\n",
    "Als Features werden die Wettervariablen Durchschnittstemperatur (Tavg), Luftfeuchtigkeit (Humidity), Niederschalg (Prcp), Windgeschwindigkeit (Wspd) und Luftdruck (Pres) ausgewählt."
   ]
  },
  {
   "cell_type": "code",
   "execution_count": null,
   "metadata": {},
   "outputs": [],
   "source": [
    "# Auswahl der relevanten Spalten für die Analyse\n",
    "df_hamburg_pm25 = df_hamburg[['Year', 'Month', 'Day', 'Pm25', 'Tavg', 'Humidity', 'Prcp', 'Wspd', 'Pres']]\n",
    "\n",
    "# Überprüfung der ersten Zeilen des neuen DataFrames\n",
    "df_hamburg_pm25.head()"
   ]
  },
  {
   "cell_type": "code",
   "execution_count": null,
   "metadata": {},
   "outputs": [],
   "source": [
    "# Fehlende Werte in den relevanten Spalten zählen\n",
    "missing_values = df_hamburg_pm25.isnull().sum()\n",
    "missing_values = missing_values[missing_values > 0]\n",
    "print(\"Missing values in relevant columns:\")    \n",
    "missing_values"
   ]
  },
  {
   "cell_type": "markdown",
   "metadata": {},
   "source": [
    "Es ist zu vermuten, dass für Wettervariablen 'Tavg', 'Prcp', 'Wspd' und 'Pres' für 67 Tage nicht übermittelt wurden."
   ]
  },
  {
   "cell_type": "code",
   "execution_count": null,
   "metadata": {},
   "outputs": [],
   "source": [
    "missing_weather_rows = df_hamburg_pm25[\n",
    "    df_hamburg_pm25[['Tavg', 'Prcp', 'Wspd', 'Pres']].isna().all(axis=1)\n",
    "]\n",
    "\n",
    "len(missing_weather_rows)"
   ]
  },
  {
   "cell_type": "markdown",
   "metadata": {},
   "source": [
    "Über den Umgang mit NaN-Werten werden wir uns später gedanken machen, Zunächst ermitteln wir die Korrelationen zwischen den Variablen:"
   ]
  },
  {
   "cell_type": "code",
   "execution_count": null,
   "metadata": {},
   "outputs": [],
   "source": [
    "# Berechnung der Korrelationsmatrix\n",
    "correlation_matrix = df_hamburg_pm25[['Pm25', 'Tavg', 'Humidity', 'Prcp', 'Wspd', 'Pres']].corr()\n",
    "\n",
    "# Visualisierung der Korrelationsmatrix mit 'center=0'\n",
    "\n",
    "plt.figure(figsize=(8, 6))\n",
    "sns.heatmap(correlation_matrix, annot=True, cmap='coolwarm', fmt='.2f', center=0)\n",
    "plt.title('Korrelation zwischen PM2.5 und Wetterdaten in Hamburg')"
   ]
  },
  {
   "cell_type": "markdown",
   "metadata": {},
   "source": [
    "Eine starke Korrelation zwischen dem Feinstaubwert und einer Wettervariablen ist nicht unmittelbar offensichtlich. Am stärksten ist mit -0,19 die Korrelation mit der Windgeschwindigkeit. Das bedeutet, dass in Zeiten mit wenig Wind die PM2.5-Werte tendenziell höher sind. Dies ist zu erwarten, da Wind dazu beiträgt, Luftschadstoffe zu vertreiben, während ruhiges Wetter (wenig Wind) zu einer Ansammlung von Schadstoffen führen kann.\n",
    "\n",
    "Die Pearson-Korrelationsmatrix nimmt eine lineare Korrelation zwischen den Variablenpaaren an. Diese ist aber nicht zwingend gegeben (s. 2_eda_correlations.ipynb). Um zu sehen, wie die Korrelationen aussehen, erstellen wir Scatterplots:"
   ]
  },
  {
   "cell_type": "code",
   "execution_count": null,
   "metadata": {},
   "outputs": [],
   "source": [
    "# Erstelle Scatterplots für jede Wettervariable im Vergleich zu PM2.5\n",
    "variables = ['Tavg', 'Humidity', 'Prcp', 'Wspd', 'Pres']\n",
    "plt.figure(figsize=(12, 10))\n",
    "\n",
    "for i, var in enumerate(variables, 1):\n",
    "    plt.subplot(2, 3, i)  # 2 Zeilen, 3 Spalten\n",
    "    plt.scatter(df_hamburg_pm25[var], df_hamburg_pm25['Pm25'], alpha=0.6)\n",
    "    plt.title(f'Scatterplot: PM2.5 vs {var}')\n",
    "    plt.xlabel(var)\n",
    "    plt.ylabel('PM2.5 (µg/m³)')\n",
    "    plt.grid(True)\n",
    "\n",
    "plt.tight_layout();"
   ]
  },
  {
   "cell_type": "markdown",
   "metadata": {},
   "source": [
    "Nicht sicher, ob ich diesen Zweig hier weiterverfolgen möchte. Das Prinzip wird im Notebook zu Korrelationen ausführlich genug dargestellt."
   ]
  },
  {
   "cell_type": "markdown",
   "metadata": {},
   "source": [
    "# 2. Baseline-Modell: Lineare Regression\n",
    "\n",
    "Bevor wir ein Modell für lineare Regression verwenden können, müssen wir die NaN-Werte behandeln. Da wir Datumsangaben haben, könnten wir die Werte des Vortrags, bzw. der vorhergehenden Messung imputieren. Da der Datensatz aber mehrere längere Lücken aufweist, entscheiden wir uns für eine Imputation über den Median."
   ]
  },
  {
   "cell_type": "code",
   "execution_count": null,
   "metadata": {},
   "outputs": [],
   "source": [
    "# Inputiere NaN-Werte mit dem Median der jeweiligen Spalte\n",
    "df_hamburg_pm25.fillna(df_hamburg_pm25.median(), inplace=True)\n",
    "\n",
    "# Überprüfung, ob NaN-Werte noch vorhanden sind\n",
    "print(df_hamburg_pm25.isna().sum())"
   ]
  },
  {
   "cell_type": "markdown",
   "metadata": {},
   "source": [
    "Der Dataframe enthält nun keine NaN_Werte mehr und kann für die Modellierung verwendet werden.\n",
    "\n",
    "### Lineare Regression mit Scikit-Learn und Statsmodels\n",
    "\n",
    "Es soll ein lineares Regressionsmodell erstellt werden, um den Zusammenhang zwischen der Feinstaubbelastung (PM2.5) und verschiedenen Wetterfaktoren zu untersuchen.\n",
    "\n",
    "Dabei werden zwei Bibliotheken kombiniert:\n",
    "\n",
    "- **Scikit-Learn**: zum Trainieren des Modells und zur Berechnung des Bestimmtheitsmaßes $r^2$\n",
    "- **Statsmodels**: zur detaillierten Analyse des Modells (Koeffizienten, Standardfehler, p-Werte, Konfidenzintervalle, usw.)\n",
    "\n",
    "Die verwendeten unabhängigen Variablen (Features) sind:\n",
    "\n",
    "- Durchschnittstemperatur (`Tavg`)\n",
    "- Luftfeuchtigkeit (`Humidity`)\n",
    "- Niederschlag (`Prcp`)\n",
    "- Windgeschwindigkeit (`Wspd`)\n",
    "- Luftdruck (`Pres`)\n",
    "\n",
    "Die abhängige Variable ist die Feinstaubkonzentration (`Pm25`).\n"
   ]
  },
  {
   "cell_type": "code",
   "execution_count": null,
   "metadata": {},
   "outputs": [],
   "source": [
    "# Feature-Auswahl & Zielvariable definieren\n",
    "features = ['Tavg', 'Humidity', 'Prcp', 'Wspd', 'Pres']\n",
    "X = df_hamburg_pm25[features]\n",
    "y = df_hamburg_pm25['Pm25']"
   ]
  },
  {
   "cell_type": "code",
   "execution_count": null,
   "metadata": {},
   "outputs": [],
   "source": [
    "# Modelltraining\n",
    "lr_model = LinearRegression()\n",
    "lr_model.fit(X, y)\n",
    "\n",
    "# Modellparameter anzeigen\n",
    "print(\"Intercept (β₀):\", lr_model.intercept_)\n",
    "print(\"Koeffizienten (β₁...βₙ):\", lr_model.coef_)\n",
    "print(\"R² (Bestimmtheitsmaß):\", lr_model.score(X, y))"
   ]
  },
  {
   "cell_type": "code",
   "execution_count": null,
   "metadata": {},
   "outputs": [],
   "source": [
    "# Statsmodels: Regressionsanalyse mit Zusammenfassung\n",
    "X_sm = sm.add_constant(X)  # Intercept hinzufügen\n",
    "ols_model = sm.OLS(y, X_sm).fit()\n",
    "print(ols_model.summary())"
   ]
  },
  {
   "cell_type": "markdown",
   "metadata": {},
   "source": [
    "### 📊 Interpretation der Regressionsanalyse\n",
    "\n",
    "Die lineare Regressionsanalyse wurde durchgeführt, um den Einfluss verschiedener Wetterfaktoren auf die PM2.5-Konzentration in Hamburg zu untersuchen. Die Ergebnisse zeigen Folgendes:\n",
    "\n",
    "#### 🔹 Modellgüte\n",
    "\n",
    "- **r^2 = 0,072**: Nur etwa **7,2 %** der Varianz der PM2.5-Werte kann durch die gewählten Wettervariablen erklärt werden. Das Modell hat also eine geringe Vorhersagekraft.\n",
    "- **Adj. r^2 = 0,070**: Auch die bereinigte Variante (angepasst an die Anzahl der Prädiktoren) bestätigt die geringe Erklärungskraft.\n",
    "- **F-Statistik = 43.76**, **p < 0.001**: Das Modell als Ganzes ist dennoch **statistisch signifikant**, d. h. mindestens einer der Prädiktoren trägt systematisch zur Erklärung von PM2.5 bei.\n",
    "\n",
    "#### 🔹 Koeffizienten und Signifikanz\n",
    "\n",
    "| Variable   | Einflussrichtung | p-Wert  | Interpretation |\n",
    "|------------|------------------|---------|----------------|\n",
    "| **Tavg**   | negativ          | 0.000   | Höhere Temperaturen gehen mit niedrigeren PM2.5-Werten einher. |\n",
    "| **Humidity** | positiv        | 0.000   | Höhere Luftfeuchtigkeit ist mit leicht erhöhten PM2.5-Werten assoziiert. |\n",
    "| **Prcp**   | negativ          | 0.000   | Niederschlag reduziert die PM2.5-Konzentration – vermutlich durch Auswaschungseffekte. |\n",
    "| **Wspd**   | negativ          | 0.000   | Höhere Windgeschwindigkeit führt zu einer Verdünnung von Feinstaub. |\n",
    "| **Pres**   | kein signifikanter Effekt | 0.378 | Luftdruck scheint keinen nennenswerten Einfluss auf PM2.5 zu haben. |\n",
    "\n",
    "Alle Wettervariablen außer dem Luftdruck zeigen einen **statistisch signifikanten Einfluss** auf die Feinstaubbelastung (p < 0.05).\n",
    "\n",
    "#### 🧭 Fazit\n",
    "\n",
    "Auch wenn das Modell nur einen kleinen Teil der Variation erklären kann, lassen sich einige **systematische Zusammenhänge** zwischen Wetterbedingungen und PM2.5-Konzentration erkennen. Diese Ergebnisse könnten ein nützlicher Ausgangspunkt für eine weiterführende Modellierung (z. B. mit nichtlinearen oder multivariaten Ansätzen) sein.\n"
   ]
  },
  {
   "cell_type": "markdown",
   "metadata": {},
   "source": [
    "# 3. Feature Engineering\n",
    "\n",
    "Im Folgenden werden die im Modell verwendeten Features nacheinander bearbeitet mit dem Ziel, die Modellgüte zu verbessern. Da das Modell insgesamt sehr schwach ist, wird keine nennenswerte Verbesserung durch das Feature Engineering erwartet. Es soll aber gezeigt werden, welche Mothoden prinzipiell zur Verfügung stehen.\n"
   ]
  },
  {
   "cell_type": "markdown",
   "metadata": {},
   "source": [
    "## 3.1. Feature Reduction\n",
    "\n",
    "Basierend auf der vorherigen Regressionsanalyse wurde der Luftdruck (`Pres`) als **nicht signifikant** identifiziert (p = 0.378). In diesem Schritt wird `Pres` aus dem Feature-Set entfernt, um zu überprüfen, ob sich die Modellgüte dadurch verbessert oder konstant bleibt."
   ]
  },
  {
   "cell_type": "code",
   "execution_count": null,
   "metadata": {},
   "outputs": [],
   "source": [
    "# Neues Feature-Set ohne 'Pres'\n",
    "X_reduced = df_hamburg_pm25[['Tavg', 'Humidity', 'Prcp', 'Wspd']]\n",
    "y = df_hamburg_pm25['Pm25']\n",
    "\n",
    "# Mit Statsmodels analysieren\n",
    "X_reduced = sm.add_constant(X_reduced)\n",
    "model_reduced = sm.OLS(y, X_reduced).fit()\n",
    "print(model_reduced.summary())"
   ]
  },
  {
   "cell_type": "markdown",
   "metadata": {},
   "source": [
    "#### Ergebnis:\n",
    "\n",
    "- Das neue Modell enthält nur noch vier Wettervariablen: `Tavg`, `Humidity`, `Prcp` und `Wspd`.\n",
    "- Das Bestimmtheitsmaß $R^2$ bleibt mit **0.072** unverändert.\n",
    "- Auch das bereinigte $R^2$ sowie die AIC- und BIC-Werte bleiben nahezu gleich.\n",
    "- Damit zeigt sich, dass der Luftdruck keinen relevanten Beitrag zur Modellgüte leistet und ohne Informationsverlust entfernt werden kann.\n",
    "\n",
    "👉 Dies ist ein typisches Beispiel für **Feature-Selektion als Teil des Feature Engineerings**, bei dem überflüssige oder irrelevante Variablen identifiziert und entfernt werden, um Modelle robuster und interpretierbarer zu machen."
   ]
  },
  {
   "cell_type": "markdown",
   "metadata": {},
   "source": [
    "## 3.2. Feature Transformation\n",
    "\n",
    "#### Logarithmierung der Niederschlagswerte\n",
    "\n",
    "Da Niederschlagswerte oft viele Nullen und eine schiefe Verteilung aufweisen, wurde in diesem Schritt eine **logarithmische Transformation** durchgeführt:\n",
    "\n",
    "$$\\text{Log\\_Prcp} = \\log(\\text{Prcp} + 1)$$\n"
   ]
  },
  {
   "cell_type": "code",
   "execution_count": null,
   "metadata": {},
   "outputs": [],
   "source": [
    "\n",
    "# Neue Spalte mit logarithmierter Niederschlagsmenge\n",
    "df_hamburg_pm25['Log_Prcp'] = np.log(df_hamburg_pm25['Prcp'] + 1)\n",
    "\n",
    "# Neues Feature-Set (Log_Prcp statt Prcp)\n",
    "X_log = df_hamburg_pm25[['Tavg', 'Humidity', 'Log_Prcp', 'Wspd']]\n",
    "y = df_hamburg_pm25['Pm25']\n",
    "\n",
    "# Modell fitten\n",
    "X_log = sm.add_constant(X_log)\n",
    "model_log = sm.OLS(y, X_log).fit()\n",
    "print(model_log.summary())"
   ]
  },
  {
   "cell_type": "markdown",
   "metadata": {},
   "source": [
    "#### Ergebnis:\n",
    "\n",
    "- Die lineare Variable `Prcp` wurde durch `Log_Prcp` ersetzt.\n",
    "- Das neue Modell zeigt ein leicht verbessertes Bestimmtheitsmaß:\n",
    "  - $R^2$: von **0.072** → **0.078**\n",
    "  - Adj. $R^2$: von **0.070** → **0.076**\n",
    "- Auch AIC und BIC sind etwas gesunken → das neue Modell ist **effizienter**.\n",
    "- Der Koeffizient von `Log_Prcp` ist mit **-3.13** stark negativ und hoch signifikant (p < 0.001), was auf eine deutliche Reduktion von PM2.5 bei zunehmendem Regen hinweist (nach log-Skalierung).\n",
    "\n",
    "➡️ Diese Transformation ist ein klassisches Beispiel dafür, wie **Feature Engineering** helfen kann, nichtlineare Zusammenhänge **besser erfassbar zu machen** und das Modell zu verbessern.\n"
   ]
  },
  {
   "cell_type": "markdown",
   "metadata": {},
   "source": [
    "#### Quadratischer Term für Temperaturwerte\n",
    "\n",
    "Um zu prüfen, ob der Zusammenhang zwischen Temperatur (`Tavg`) und Feinstaubkonzentration (`Pm25`) nichtlinear ist, wurde in diesem Schritt ein **quadratischer Term** (`Tavg_squared`) ergänzt:\n",
    "\n",
    "- Sowohl der lineare als auch der quadratische Term wurden in das Modell aufgenommen.\n",
    "- Die neue Modellform erlaubt es, auch U- oder umgekehrt U-förmige Zusammenhänge abzubilden.\n"
   ]
  },
  {
   "cell_type": "code",
   "execution_count": null,
   "metadata": {},
   "outputs": [],
   "source": [
    "# Quadratischer Term für Temperatur\n",
    "df_hamburg_pm25['Tavg_squared'] = df_hamburg_pm25['Tavg'] ** 2\n",
    "\n",
    "# Neues Feature-Set inkl. Tavg² und Log_Prcp\n",
    "X_quad = df_hamburg_pm25[['Tavg', 'Tavg_squared', 'Humidity', 'Log_Prcp', 'Wspd']]\n",
    "y = df_hamburg_pm25['Pm25']\n",
    "\n",
    "# Modell mit quadratischer Temperaturkomponente\n",
    "X_quad = sm.add_constant(X_quad)\n",
    "model_quad = sm.OLS(y, X_quad).fit()\n",
    "print(model_quad.summary())"
   ]
  },
  {
   "cell_type": "markdown",
   "metadata": {},
   "source": [
    "\n",
    "#### Ergebnis:\n",
    "\n",
    "- Das Modell zeigt eine deutliche Verbesserung:\n",
    "  - $R^2$: von **0.078** → **0.122**\n",
    "  - Adj. $R^2$: von **0.076** → **0.120**\n",
    "  - AIC/BIC ebenfalls gesunken → effizienteres Modell\n",
    "- Beide Temperatur-Terme (`Tavg` und `Tavg_squared`) sind **hoch signifikant** (p < 0.001)\n",
    "- Der negative Koeffizient von `Tavg` und der positive von `Tavg_squared` deuten auf einen **U-förmigen Zusammenhang** hin:  \n",
    "  Sehr niedrige und sehr hohe Temperaturen gehen mit **erhöhter Feinstaubbelastung** einher, während mittlere Temperaturen tendenziell niedrigere Werte zeigen.\n",
    "\n",
    "➡️ Diese Erweiterung zeigt, wie sich mit gezielten Transformationen **wichtige Muster sichtbar machen** lassen, die in einem rein linearen Modell verborgen geblieben wären."
   ]
  },
  {
   "cell_type": "markdown",
   "metadata": {},
   "source": [
    "## 3.3. Interaktionsterme\n",
    "\n",
    "In einem explorativen Schritt wird geprüft, ob eine **Interaktion zwischen Temperatur und Luftfeuchtigkeit** (`Tavg * Humidity`) einen zusätzlichen Einfluss auf die Feinstaubbelastung hat. Idee dahinter:\n",
    "\n",
    "- Temperatur und Luftfeuchtigkeit beeinflussen gemeinsam viele chemische Reaktionen in der Atmosphäre\n",
    "- Bei hoher Luftfeuchtigkeit kann z. B. Feinstaub stärker „gebunden“ oder verteilt werden – das hängt aber vom Temperaturverlauf ab\n"
   ]
  },
  {
   "cell_type": "code",
   "execution_count": null,
   "metadata": {},
   "outputs": [],
   "source": [
    "# Interaktionsterm: Temperatur * Luftfeuchtigkeit\n",
    "df_hamburg_pm25['Tavg_Humidity'] = df_hamburg_pm25['Tavg'] * df_hamburg_pm25['Humidity']\n",
    "\n",
    "# Neues Feature-Set\n",
    "X_inter = df_hamburg_pm25[['Tavg', 'Tavg_squared', 'Humidity', 'Log_Prcp', 'Wspd', 'Tavg_Humidity']]\n",
    "y = df_hamburg_pm25['Pm25']\n",
    "\n",
    "# Modell mit Interaktionsterm\n",
    "X_inter = sm.add_constant(X_inter)\n",
    "model_inter = sm.OLS(y, X_inter).fit()\n",
    "print(model_inter.summary())"
   ]
  },
  {
   "cell_type": "markdown",
   "metadata": {},
   "source": [
    "#### Ergebnis:\n",
    "\n",
    "- Der Interaktionsterm `Tavg_Humidity` wurde dem Modell hinzugefügt.\n",
    "- Der zugehörige **p-Wert liegt bei 0.76**, d. h. die Variable ist **nicht signifikant**.\n",
    "- Auch die Modellgüte bleibt unverändert:\n",
    "  - $R^2$ = 0.122 (wie im Modell ohne Interaktion)\n",
    "  - AIC und BIC sind minimal **gestiegen**\n",
    "- Fazit: Diese Interaktion liefert **keinen Mehrwert** für das Modell und kann wieder entfernt werden.\n",
    "\n",
    "➡️ Dieser Schritt zeigt, wie einen Kombination von Features prinzipiell funktioniert, aber auch, dass nicht jede theoretisch plausible Kombination von Features ein Modell auch wirklich verbessert.\n"
   ]
  },
  {
   "cell_type": "markdown",
   "metadata": {},
   "source": [
    "## 3.4. Zeitvariablen\n",
    "\n",
    "Neben numerischen Transformationen und Interaktionstermen ist auch die **zeitliche Einordnung von Daten** ein wichtiger Bestandteil des Feature Engineerings. In diesem Schritt wird die ursprüngliche Monatsinformation (`Month`) genutzt, um daraus eine neue kategoriale Variable `Season` (Jahreszeit) zu erzeugen.\n",
    "\n",
    "Hintergrund: Die Feinstaubbelastung unterliegt typischerweise **saisonalen Schwankungen**, etwa durch Heizemissionen im Winter, Inversionswetterlagen oder erhöhte Luftumwälzung im Sommer. Durch die Einbindung dieser Information als Modellfeature lassen sich solche Effekte gezielt abbilden.\n",
    "\n",
    "Dazu wird `Season` in **Dummy-Variablen** umgewandelt, die in das Regressionsmodell einfließen. Auf diese Weise kann untersucht werden, ob sich die PM2.5-Konzentration **systematisch zwischen den Jahreszeiten unterscheidet** – und ob diese Zeitinformation zur Verbesserung der Modellgüte beiträgt.\n",
    "\n",
    "Zur Einbindung der Zeitvariable `Season` in das Regressionsmodell wird die kategoriale Variable mithilfe von **One-Hot-Encoding** in **Dummy-Variablen** umgewandelt. Dabei gilt:\n",
    "\n",
    "Jede Ausprägung einer kategorialen Variable wird zu einer eigenen Spalte, die nur den Wert `1` trägt, wenn die Zeile zu dieser Kategorie gehört – sonst `0`.\n",
    "\n",
    "Beispiel für 4 Jahreszeiten:\n",
    "\n",
    "| Season   | Winter | Frühling | Sommer | Herbst |\n",
    "|----------|--------|----------|--------|--------|\n",
    "| Sommer   | 0      | 0        | 1      | 0      |\n",
    "| Herbst   | 0      | 0        | 0      | 1      |\n",
    "| Winter   | 1      | 0        | 0      | 0      |\n",
    "| Frühling | 0      | 1        | 0      | 0      |\n",
    "\n",
    "Allerdings sollte in Regressionsmodellen **eine Kategorie ausgelassen** werden (hier: **Frühling**). Sie dient als **Referenzkategorie**. Dadurch vermeidet man **Multikollinearität**, also mathematische Redundanz im Modell. Das bedeutet:\n",
    "\n",
    "- Die Effekte aller anderen Kategorien (Herbst, Sommer, Winter) werden im **Vergleich zum Frühling** berechnet.\n",
    "- Beispiel: Ein Koeffizient von `-8.94` für Herbst bedeutet, dass die PM2.5-Konzentration im Herbst im Durchschnitt **8.94 µg/m³ niedriger ist als im Frühling**, wenn alle anderen Einflussfaktoren konstant gehalten werden."
   ]
  },
  {
   "cell_type": "code",
   "execution_count": null,
   "metadata": {},
   "outputs": [],
   "source": [
    "def get_season(month):\n",
    "    if month in [12, 1, 2]:\n",
    "        return 'Winter'\n",
    "    elif month in [3, 4, 5]:\n",
    "        return 'Frühling'\n",
    "    elif month in [6, 7, 8]:\n",
    "        return 'Sommer'\n",
    "    else:\n",
    "        return 'Herbst'\n",
    "\n",
    "df_hamburg_pm25.loc[:, 'Season'] = df_hamburg_pm25['Month'].apply(get_season)\n",
    "\n",
    "df_hamburg_pm25.head()"
   ]
  },
  {
   "cell_type": "code",
   "execution_count": null,
   "metadata": {},
   "outputs": [],
   "source": [
    "# Saison in Dummy-Variablen umwandeln (Frühling als Referenzkategorie)\n",
    "season_dummies = pd.get_dummies(df_hamburg_pm25['Season'], drop_first=True, dtype=int)"
   ]
  },
  {
   "cell_type": "code",
   "execution_count": null,
   "metadata": {},
   "outputs": [],
   "source": [
    "# Basis-Features\n",
    "features_base = df_hamburg_pm25[['Tavg', 'Tavg_squared', 'Humidity', 'Log_Prcp', 'Wspd']]\n",
    "\n",
    "# Kombinieren mit Saison-Dummies\n",
    "X_season = pd.concat([features_base, season_dummies], axis=1)\n",
    "y = df_hamburg_pm25['Pm25']\n",
    "\n",
    "# Modell aufbauen und ausgeben\n",
    "X_season = sm.add_constant(X_season)\n",
    "model_season = sm.OLS(y, X_season).fit()\n",
    "print(model_season.summary())\n"
   ]
  },
  {
   "cell_type": "markdown",
   "metadata": {},
   "source": [
    "# 4. Fazit: Wirkung von Feature Engineering auf das Regressionsmodell\n",
    "\n",
    "In diesem Notebook wurde schrittweise untersucht, wie sich gezielte Maßnahmen des **Feature Engineerings** auf die Vorhersagekraft eines linearen Regressionsmodells zur Feinstaubbelastung (PM2.5) auswirken. Ausgangspunkt war ein einfaches Modell mit fünf Wettervariablen, das lediglich **7,2 % der Varianz** erklären konnte.\n",
    "\n",
    "Durch systematische Erweiterung und Optimierung der Features wurde das Modell deutlich verbessert:\n",
    "\n",
    "| Maßnahme                          | Verbesserung                                   |\n",
    "|----------------------------------|------------------------------------------------|\n",
    "| Entfernen nicht signifikanter Variablen (`Pres`) | Kein Informationsverlust, schlankeres Modell |\n",
    "| Log-Transformation (`log(Prcp + 1)`)            | Bessere Modellanpassung durch Stabilisierung der Skala |\n",
    "| Quadratischer Term (`Tavg²`)     | Erfassung nichtlinearer Effekte, spürbare Steigerung von $R^2$ |\n",
    "| Zeitvariable (`Season` als Dummy) | Deutlicher Leistungszuwachs, klare saisonale Muster |\n",
    "| $R^2$ gesamt                 | von **0.072** → **0.176** (+145 %)             |\n",
    "\n",
    "Zusätzlich wurde gezeigt, dass **nicht jede Feature-Kombination sinnvoll ist**: Ein getesteter Interaktionsterm (`Tavg * Humidity`) hatte keinen signifikanten Einfluss und wurde wieder entfernt.\n",
    "\n",
    "➡️ Insgesamt zeigt dieses Notebook, wie **datengetriebenes Feature Engineering** schrittweise zu einem leistungsfähigeren und interpretierbareren Modell führen kann – eine Kernkompetenz in der datenanalytischen Praxis.\n"
   ]
  },
  {
   "cell_type": "markdown",
   "metadata": {},
   "source": [
    "#### Ergebnis:\n",
    "\n",
    "- Das Modell verbessert sich deutlich:\n",
    "  - $R^2$: von **0.122** → **0.176**\n",
    "  - Adj. $R^2$: von **0.120** → **0.174**\n",
    "  - AIC und BIC sinken ebenfalls deutlich\n",
    "- Alle Jahreszeiten sind **signifikant unterschiedlich** zum Frühling (Referenzkategorie):\n",
    "  - **Sommer**: starke Reduktion der PM2.5-Werte (-16.68 µg/m³)\n",
    "  - **Herbst**: ebenfalls reduzierte Werte (-8.94 µg/m³)\n",
    "  - **Winter**: leicht erhöhte Werte (+3.17 µg/m³)\n",
    "\n",
    "➡️ Diese Ergebnisse bestätigen, dass **saisonale Faktoren einen substantiellen Einfluss auf die Luftqualität** haben und im Modell berücksichtigt werden sollten."
   ]
  },
  {
   "cell_type": "markdown",
   "metadata": {},
   "source": [
    "## Notiz für Mareike\n",
    "Für Hamburg doch nochmal LOWESS für alle Wettervariablen anschauen, vielleicht wurde noch was übersehen:"
   ]
  },
  {
   "cell_type": "code",
   "execution_count": null,
   "metadata": {},
   "outputs": [],
   "source": [
    "# Liste der Variablen für die Analyse\n",
    "variables = ['Tavg', 'Humidity', 'Prcp', 'Wspd', 'Pres']\n",
    "\n",
    "# Erstelle Scatterplots mit LOWESS-Glättung\n",
    "plt.figure(figsize=(12, 10))\n",
    "\n",
    "for i, var in enumerate(variables, 1):\n",
    "    plt.subplot(2, 3, i)  # 2 Zeilen, 3 Spalten\n",
    "    sns.scatterplot(x=df_hamburg_pm25[var], y=df_hamburg_pm25['Pm25'], alpha=0.6)\n",
    "    \n",
    "    # LOWESS-Glättung anwenden\n",
    "    lowess_result = lowess(df_hamburg_pm25['Pm25'], df_hamburg_pm25[var], frac=0.3)\n",
    "    plt.plot(lowess_result[:, 0], lowess_result[:, 1], color='red', label='LOWESS')\n",
    "    \n",
    "    plt.title(f'LOWESS: PM2.5 vs {var}')\n",
    "    plt.xlabel(var)\n",
    "    plt.ylabel('PM2.5 (µg/m³)')\n",
    "    plt.grid(True)\n",
    "    plt.legend()\n",
    "\n",
    "plt.tight_layout();"
   ]
  },
  {
   "cell_type": "markdown",
   "metadata": {},
   "source": [
    "# 5. Bonus: Weitere Luftschadstoffe als erklärende Variablen\n",
    "\n",
    "Im bisherigen Verlauf des Notebooks lag der Fokus auf der Frage, wie sich Wetterbedingungen und saisonale Effekte auf die Feinstaubbelastung (PM2.5) auswirken. Ein weiterer sinnvoller Analyseansatz besteht darin, zu prüfen, ob auch **andere Luftschadstoffe** (z. B. NO₂, SO₂, CO, O₃) dabei helfen können, PM2.5-Konzentrationen besser vorherzusagen.\n",
    "\n",
    "Hintergrund: Viele Luftschadstoffe stehen miteinander in Zusammenhang – sie entstehen gemeinsam (z. B. durch Verkehr oder Industrie) oder beeinflussen sich chemisch gegenseitig. Durch die Einbindung dieser Variablen lässt sich testen, ob ein **Mehrkomponentenmodell** die Modellgüte weiter verbessern kann.\n",
    "\n",
    "In diesem Abschnitt wird daher das bestehende Regressionsmodell um weitere Schadstoffvariablen erweitert ()`No2`, `O3`, `So2`). Diese Schadstoffe stehen in der Realität oft in engem Zusammenhang mit PM2.5, da sie aus ähnlichen Quellen stammen oder in gemeinsamen atmosphärischen Prozessen auftreten. Ziel ist es, den Erklärungswert des Modells zu steigern und gleichzeitig mögliche Wechselwirkungen zwischen den Schadstoffen sichtbar zu machen.\n"
   ]
  },
  {
   "cell_type": "markdown",
   "metadata": {},
   "source": [
    "#### 🚫 Hinweis zur Datenqualität: CO-Konzentration\n",
    "\n",
    "Bei der explorativen Untersuchung der Beziehung zwischen PM2.5 und Kohlenmonoxid (CO) fiel auf, dass in den vorliegenden Daten **ausschließlich der konstante Wert 0.10** für CO eingetragen ist. Dies ist physikalisch unrealistisch und spricht dafür, dass es sich um:\n",
    "\n",
    "- eine Füllkonstante\n",
    "- oder eine fehlerhafte Messreihe\n",
    "\n",
    "handelt. Aufgrund der fehlenden Varianz ist CO **für die Regressionsanalyse nicht sinnvoll nutzbar**. Die ursprünglich im Modell enthaltene hohe Koeffizienz von CO (über 400) ist damit wahrscheinlich **ein Artefakt** der schlechten Datenqualität.\n",
    "\n",
    "➡️ Die Variable CO wird im erweiterten Modell ausgeschlossen."
   ]
  },
  {
   "cell_type": "code",
   "execution_count": null,
   "metadata": {},
   "outputs": [],
   "source": [
    "# Relevante Spalten aus df_hamburg holen\n",
    "pollutants = df_hamburg[['No2', 'O3', 'So2']]\n",
    "\n",
    "# Schadstoffe in df_hamburg_pm25 hinzufügen\n",
    "df_hamburg_pm25_extended = df_hamburg_pm25.copy()\n",
    "df_hamburg_pm25_extended[['No2', 'O3', 'So2']] = pollutants"
   ]
  },
  {
   "cell_type": "code",
   "execution_count": null,
   "metadata": {},
   "outputs": [],
   "source": [
    "df_hamburg_pm25_extended.head()"
   ]
  },
  {
   "cell_type": "code",
   "execution_count": null,
   "metadata": {},
   "outputs": [],
   "source": [
    "df_hamburg_pm25_extended.isna().sum()"
   ]
  },
  {
   "cell_type": "code",
   "execution_count": null,
   "metadata": {},
   "outputs": [],
   "source": [
    "season_dummies = pd.get_dummies(df_hamburg_pm25_extended['Season'], drop_first=True, dtype=int)\n"
   ]
  },
  {
   "cell_type": "code",
   "execution_count": null,
   "metadata": {},
   "outputs": [],
   "source": [
    "# Kombiniertes DataFrame mit allen Features und Ziel\n",
    "df_model = pd.concat([\n",
    "    df_hamburg_pm25_extended[['Tavg', 'Tavg_squared', 'Humidity', 'Log_Prcp', 'Wspd', 'No2', 'O3', 'So2', 'Pm25']],\n",
    "    season_dummies\n",
    "], axis=1)\n",
    "\n",
    "# Nur vollständige Zeilen behalten\n",
    "df_model = df_model.dropna()\n"
   ]
  },
  {
   "cell_type": "code",
   "execution_count": null,
   "metadata": {},
   "outputs": [],
   "source": [
    "X_final = df_model.drop(columns='Pm25')\n",
    "y_final = df_model['Pm25']\n",
    "\n",
    "# Konstanten-Term hinzufügen\n",
    "X_final = sm.add_constant(X_final)\n",
    "\n",
    "# Modell trainieren\n",
    "model_final = sm.OLS(y_final, X_final).fit()\n",
    "print(model_final.summary())\n",
    "\n"
   ]
  },
  {
   "cell_type": "markdown",
   "metadata": {},
   "source": [
    "#### Ergebnis:\n",
    "\n",
    "- Das erweiterte Modell zeigt eine deutliche Leistungssteigerung:\n",
    "  - \\( R^2 \\): von **0.176** → **0.283**\n",
    "  - Adj. \\( R^2 \\): von **0.174** → **0.280**\n",
    "  - AIC und BIC sinken deutlich\n",
    "- Alle hinzugefügten Schadstoffe sind **statistisch signifikant**, mit plausiblen Wirkungsrichtungen:\n",
    "  - **NO₂, SO₂**: positiv korreliert mit PM2.5\n",
    "  - **O₃**: negativer Zusammenhang\n",
    "- Die Windgeschwindigkeit (`Wspd`) verliert im erweiterten Modell an Signifikanz – möglicherweise, weil ihre Wirkung durch die Schadstoffkonzentrationen überlagert wird\n",
    "\n",
    "➡️ Die Einbindung weiterer Luftschadstoffe als erklärende Variablen erhöht die **Modellgüte substanziell** und bietet zusätzliche Einsichten in komplexe Zusammenhänge zwischen Umweltfaktoren und Feinstaubbelastung.\n"
   ]
  },
  {
   "cell_type": "markdown",
   "metadata": {},
   "source": [
    "Da die Zusammenhänge zwischen Feinstaubbelastung und den anderen Schadstoffen nicht notwenigerweise linear sind, soll diese Annahme mit LOWESS-Regression überprüft werden."
   ]
  },
  {
   "cell_type": "code",
   "execution_count": null,
   "metadata": {},
   "outputs": [],
   "source": [
    "# Liste der Variablen für die Analyse\n",
    "variables = ['So2', 'No2', 'O3']\n",
    "\n",
    "# Erstelle Scatterplots mit LOWESS-Glättung\n",
    "plt.figure(figsize=(12, 10))\n",
    "\n",
    "for i, var in enumerate(variables, 1):\n",
    "    plt.subplot(2, 3, i)  # 2 Zeilen, 3 Spalten\n",
    "    sns.scatterplot(x=df_hamburg_pm25_extended[var], y=df_hamburg_pm25_extended['Pm25'], alpha=0.6)\n",
    "    \n",
    "    # LOWESS-Glättung anwenden\n",
    "    lowess_result = lowess(df_hamburg_pm25_extended['Pm25'], df_hamburg_pm25_extended[var], frac=0.3)\n",
    "    plt.plot(lowess_result[:, 0], lowess_result[:, 1], color='red', label='LOWESS')\n",
    "    \n",
    "    plt.title(f'LOWESS: PM2.5 vs {var}')\n",
    "    plt.xlabel(var)\n",
    "    plt.ylabel('PM2.5 (µg/m³)')\n",
    "    plt.grid(True)\n",
    "    plt.legend()\n",
    "\n",
    "# plt.ylim(0, df_hamburg_pm25_extended['Pm25'].max() * 1.1)\n",
    "\n",
    "plt.tight_layout();"
   ]
  },
  {
   "cell_type": "markdown",
   "metadata": {},
   "source": [
    "#### 🔁 Feature-Engineering für Ozon: Quadratischer Zusammenhang\n",
    "\n",
    "Die visuelle Analyse der Beziehung zwischen PM2.5 und Ozon (`O3`) mithilfe von LOWESS zeigt eine deutliche **U-förmige Struktur**:  \n",
    "- Bei **niedrigen und hohen Ozonwerten** ist die Feinstaubbelastung erhöht  \n",
    "- Bei **mittleren Werten** hingegen am geringsten  \n",
    "- Die Form wader Kurve ist rundlich, nicht spitz – also kein V, sondern ein **sanfter quadratischer Verlauf**\n",
    "\n",
    "Um diesen nichtlinearen Zusammenhang im Regressionsmodell abzubilden, wird ein **quadratischer Term** `O3_squared` eingeführt."
   ]
  },
  {
   "cell_type": "code",
   "execution_count": null,
   "metadata": {},
   "outputs": [],
   "source": [
    "# Quadratischen Term für Ozon erstellen\n",
    "df_model['O3_squared'] = df_model['O3'] ** 2\n"
   ]
  },
  {
   "cell_type": "code",
   "execution_count": null,
   "metadata": {},
   "outputs": [],
   "source": [
    "X_quad_o3 = df_model.drop(columns=['Pm25']) # Features\n",
    "y_quad_o3 = df_model['Pm25']\n",
    "\n",
    "# Konstanten-Term hinzufügen\n",
    "X_quad_o3 = sm.add_constant(X_quad_o3)\n",
    "\n",
    "# Modell trainieren\n",
    "model_quad_o3 = sm.OLS(y_quad_o3, X_quad_o3).fit()\n",
    "print(model_quad_o3.summary())\n",
    "\n"
   ]
  },
  {
   "cell_type": "markdown",
   "metadata": {},
   "source": [
    "#### ✅ Ergebnis: Quadratische Transformation von Ozon verbessert das Modell\n",
    "\n",
    "Die zuvor mit LOWESS beobachtete **U-förmige Beziehung zwischen PM2.5 und O₃** konnte durch die Einführung eines quadratischen Terms (`O3_squared`) erfolgreich im Regressionsmodell abgebildet werden.\n",
    "\n",
    "Das erweiterte Modell zeigt eine weitere Leistungssteigerung:\n",
    "\n",
    "- $R^2$: von **0.283** → **0.313**\n",
    "- Adj. $R^2$: von **0.280** → **0.310**\n",
    "\n",
    "Beide Ozon-Terme (`O3`, `O3_squared`) sind **hoch signifikant** (p < 0.001). Die Koeffizienten deuten auf einen **nichtlinearen Zusammenhang** hin, bei dem die Feinstaubbelastung bei mittleren O₃-Werten am geringsten ist – und sowohl bei sehr niedrigen als auch sehr hohen Ozonwerten wieder ansteigt.\n",
    "\n",
    "➡️ Diese Transformation verdeutlicht, wie wichtig es ist, **visuelle Datenanalyse** mit **gezieltem Feature Engineering** zu kombinieren, um komplexe Umweltzusammenhänge zu modellieren.\n"
   ]
  },
  {
   "cell_type": "markdown",
   "metadata": {},
   "source": [
    "# 6. Finales Modell: Visualisierung der Ergebnisse"
   ]
  },
  {
   "cell_type": "code",
   "execution_count": null,
   "metadata": {},
   "outputs": [],
   "source": [
    "# Vorhersagen erzeugen\n",
    "y_pred = model_quad_o3.predict(X_quad_o3)\n",
    "\n",
    "# Scatterplot\n",
    "plt.figure(figsize=(8, 6))\n",
    "sns.scatterplot(x=y_quad_o3, y=y_pred, alpha=0.5)\n",
    "plt.plot([y_quad_o3.min(), y_quad_o3.max()],\n",
    "         [y_quad_o3.min(), y_quad_o3.max()],\n",
    "         color='red', linestyle='--', label='Ideal')\n",
    "plt.xlabel('Tatsächliche PM2.5-Werte (µg/m³)')\n",
    "plt.ylabel('Vorhergesagte PM2.5-Werte (µg/m³)')\n",
    "plt.title('Vorhersage vs. tatsächliche Werte')\n",
    "plt.legend()\n",
    "plt.grid(True)\n",
    "plt.tight_layout();\n"
   ]
  },
  {
   "cell_type": "markdown",
   "metadata": {},
   "source": [
    "#### 📈 Vorhersage vs. tatsächliche Werte\n",
    "\n",
    "Der Scatterplot zeigt die vom Modell vorhergesagten PM2.5-Werte im Vergleich zu den tatsächlich gemessenen Werten. Die rote Linie markiert den idealen Fall, in dem Vorhersage und Realität exakt übereinstimmen würden.\n",
    "\n",
    "Beobachtungen:\n",
    "\n",
    "- Im zentralen Bereich (ca. 20–80 µg/m³), wo die meisten Datenpunkte liegen, liegt ein Großteil der Punkte **unterhalb der Diagonalen** → das Modell **überschätzt die PM2.5-Werte** leicht.\n",
    "- Ab etwa 80 µg/m³ Vorhersagewert steigt die Modellvorhersage weiter an – **obwohl die tatsächlichen Werte eine Obergrenze bei ca. 80 erreichen**.\n",
    "- Daraus ergibt sich eine **systematische Überschätzung im oberen Wertebereich**, was darauf hindeutet, dass das Modell **keine natürliche Sättigung erkennt**.\n",
    "\n",
    "➡️ Insgesamt liefert das Modell brauchbare Vorhersagen im Hauptbereich der Daten, tendiert jedoch dazu, **sehr hohe PM2.5-Werte zu überschätzen**, was bei linearen Modellen ohne Schranken ein bekanntes Phänomen ist.\n"
   ]
  },
  {
   "cell_type": "code",
   "execution_count": null,
   "metadata": {},
   "outputs": [],
   "source": [
    "# Residuen berechnen\n",
    "residuals = y_quad_o3 - y_pred\n",
    "\n",
    "# Plot\n",
    "plt.figure(figsize=(8, 6))\n",
    "sns.scatterplot(x=y_pred, y=residuals, alpha=0.5)\n",
    "plt.axhline(0, color='red', linestyle='--')\n",
    "plt.xlabel('Vorhergesagte PM2.5-Werte (µg/m³)')\n",
    "plt.ylabel('Residuen')\n",
    "plt.title('Residuen vs. Vorhersagen')\n",
    "plt.grid(True)\n",
    "plt.tight_layout();\n"
   ]
  },
  {
   "cell_type": "markdown",
   "metadata": {},
   "source": [
    "#### 📉 Residuen vs. Vorhersagen\n",
    "\n",
    "Der Residuenplot zeigt die Differenz zwischen tatsächlichem und vorhergesagtem PM2.5-Wert in Abhängigkeit vom Vorhersagewert. Idealerweise sollten sich die Punkte zufällig um die Null-Linie gruppieren – ohne erkennbares Muster.\n",
    "\n",
    "- Die Punkte streuen relativ gleichmäßig um die Null-Linie → **kein systematischer Fehler** sichtbar.\n",
    "- Kein klarer Trend in den Residuen → das Modell verzerrt die Vorhersagen nicht systematisch bei hohen oder niedrigen PM2.5-Werten.\n",
    "- Die Varianz der Residuen scheint über den Wertebereich hinweg relativ konstant, das Kriterium der **Homoskedastizität** ist also weitgehend erfüllt.\n",
    "\n",
    "➡️ Der Residuenplot unterstützt die Annahme, dass das Modell nicht nur gut angepasst ist, sondern auch robust und stabil im Fehlerverhalten.\n",
    "\n",
    "#### 🔎 Auffälligkeit im Residuenplot: diagonale Streifen\n",
    "\n",
    "Beim Residuenplot zeigen sich insbesondere im negativen Bereich der Residuen **schräg verlaufende Streifenmuster**. Diese diagonalen Anordnungen entstehen häufig, wenn:\n",
    "\n",
    "- Eingabevariablen (z. B. Ozon oder NO₂) nur wenige diskrete Werte annehmen\n",
    "- das Modell daraus kontinuierliche Vorhersagen erzeugt\n",
    "- die tatsächlichen PM2.5-Werte wiederum gerundet vorliegen\n",
    "\n",
    "➡️ Das Streifenmuster ist in diesem Fall kein Hinweis auf Modellfehler, sondern eher auf die **Granularität und Struktur der Eingangsdaten** zurückzuführen.\n",
    "\n",
    "\n"
   ]
  },
  {
   "cell_type": "markdown",
   "metadata": {},
   "source": [
    "# 7. Modellvergleich\n",
    "\n",
    "| Modell | Enthaltene Features | $R^2$ | Adj. $R^2$ | AIC | BIC | Bemerkung |\n",
    "|--------|----------------------|----------|----------------|-----|-----|-----------|\n",
    "| **1** | Wetter (linear) | 0.072 | 0.070 | ~25280 | ~25310 | Ausgangsmodell |\n",
    "| **2** | Wetter (ohne Luftdruck) | 0.072 | 0.070 | ~25280 | ~25310 | `Pres` entfernt – kein Informationsverlust |\n",
    "| **3** | + `log(Prcp + 1)` | 0.078 | 0.076 | ~25260 | ~25290 | Nichtlineare Transformation |\n",
    "| **4** | + `Tavg²` | 0.122 | 0.120 | ~25120 | ~25160 | Quadratische Temperatur |\n",
    "| **5** | + `Season` (Dummy) | 0.176 | 0.174 | ~24950 | ~25000 | Zeitstruktur eingebunden |\n",
    "| **6** | + Schadstoffe (ohne `Pm10`, mit `Co`) | 0.283 | 0.280 | ~22870 | ~22940 | Stark verbesserte Modellgüte |\n",
    "| **7** | Schadstoffe ohne `Co`, + `O3²` | **0.313** | **0.310** | ~24020* | ~24100* | Bestes Modell, plausibler Zusammenhang |\n",
    "\n",
    "> \\* Die AIC/BIC-Werte in Modell 7 sind durch mehr Beobachtungen nicht direkt vergleichbar mit Modell 6 (siehe Hinweis im Text).\n",
    "\n",
    "➡️ Der Modellvergleich zeigt, wie systematisches Feature Engineering die Vorhersagegüte deutlich steigern kann:  \n",
    "\n",
    "Durch die Kombination aus Transformationen, nichtlinearen Erweiterungen und der Einbindung zeitlicher sowie inhaltlich verwandter Einflussfaktoren konnte das Regressionsmodell von einem ursprünglichen $R^2§ von **0.072** auf **0.313** verbessert werden – eine Steigerung um über **330 %**.\n",
    "\n"
   ]
  },
  {
   "cell_type": "code",
   "execution_count": null,
   "metadata": {},
   "outputs": [],
   "source": []
  }
 ],
 "metadata": {
  "kernelspec": {
   "display_name": ".venv",
   "language": "python",
   "name": "python3"
  },
  "language_info": {
   "codemirror_mode": {
    "name": "ipython",
    "version": 3
   },
   "file_extension": ".py",
   "mimetype": "text/x-python",
   "name": "python",
   "nbconvert_exporter": "python",
   "pygments_lexer": "ipython3",
   "version": "3.11.4"
  }
 },
 "nbformat": 4,
 "nbformat_minor": 2
}
