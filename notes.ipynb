{
 "cells": [
  {
   "cell_type": "markdown",
   "metadata": {},
   "source": [
    "TODO's:\n",
    "- Rausfinden, wie die Varianz definiert ist (mail an aqi-Seite, Mareike)\n",
    "- Datenwörterbuch schön machen (Wiebke)\n",
    "\n",
    "- Datensatz teilen (Spalte Specie)\n",
    "- Länder/ Städte definieren\n",
    "- EDA vorbereiten\n",
    "- Zielvariable definieren (Luftqualität)\n",
    "- Scipt für automatische Projektstruktur-Erstellung finden\n",
    "- Arbeitsteilung definieren\n",
    "\n",
    "\n",
    "-ggf README anpassen\n",
    "\n",
    "\n",
    "später\n",
    "\n",
    "- ggf. Ausprägungen zu Gruppen zusammenfassen\n",
    "- Script für automatischtes Laden der Daten (Daten: Entweder einen Link zu Kaggle o.ä. in die readme, oder ein Skript (Download_kagglehub.py) anlegen. Dann muss man das Skript mit „uv run Download_kagglehub.py ausführen“.) \n",
    "\n",
    "\n",
    "\n",
    "ERLEDIGT\n",
    "- Sind die Grenzwerte in den Ländern unterschiedlich?\n",
    "- Datenwörterbuch anlegen\n",
    "- Länderkürzel vervollständigen (Mareike)\n"
   ]
  },
  {
   "cell_type": "code",
   "execution_count": null,
   "metadata": {},
   "outputs": [],
   "source": [
    "Die Grenzwerte für Feinstaubbelastungen (PM10 und PM2,5) sind in der EU und Deutschland durch verschiedene Richtlinien und Verordnungen geregelt. Hier sind die aktuellen Grenzwerte:\n",
    "\n",
    "PM10 (Partikel mit einem Durchmesser von ≤ 10 µm)\n",
    "Tagesmittelwert: 50 µg/m³ (darf höchstens 35 Mal im Jahr überschritten werden)\n",
    "Jahresmittelwert: 40 µg/m³\n",
    "PM2,5 (Partikel mit einem Durchmesser von ≤ 2,5 µm)\n",
    "Jahresmittelwert: 20 µg/m³ (seit 2020 in der EU)\n",
    "Neue WHO-Empfehlungen (2021)\n",
    "Die Weltgesundheitsorganisation (WHO) hat 2021 strengere Richtwerte vorgeschlagen:\n",
    "\n",
    "PM10: 15 µg/m³ (Jahresmittel), 45 µg/m³ (Tagesmittel)\n",
    "PM2,5: 5 µg/m³ (Jahresmittel), 15 µg/m³ (Tagesmittel)\n",
    "Diese WHO-Werte sind jedoch nicht rechtlich bindend, sondern dienen als Empfehlung für bessere Luftqualität."
   ]
  },
  {
   "cell_type": "markdown",
   "metadata": {},
   "source": [
    "Der Begriff \"NEPH\" steht im Zusammenhang mit der Luftqualität für Nephelometer-Messungen. Ein Nephelometer ist ein Gerät, das die Lichtstreuung an Aerosolpartikeln misst und damit Rückschlüsse auf die Trübung der Luft sowie die Feinstaubbelastung ermöglicht.\n",
    "\n",
    "Bedeutung in der Luftqualitätsmessung:\n",
    "NEPH-Werte werden oft in 1/Mm (pro Megameter) angegeben und beschreiben die Lichtstreuung durch Partikel in der Luft.\n",
    "Hohe NEPH-Werte deuten auf eine stärkere Lufttrübung hin, was meist mit einer höheren Feinstaubkonzentration korreliert.\n",
    "Nephelometer werden häufig für PM2.5- und PM10-Messungen sowie für Analysen zur Sichtweite und zur Überwachung von Luftverschmutzung eingesetzt."
   ]
  }
 ],
 "metadata": {
  "kernelspec": {
   "display_name": ".venv",
   "language": "python",
   "name": "python3"
  },
  "language_info": {
   "name": "python",
   "version": "3.11.11"
  }
 },
 "nbformat": 4,
 "nbformat_minor": 2
}
