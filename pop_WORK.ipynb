{
 "cells": [
  {
   "cell_type": "code",
   "execution_count": null,
   "metadata": {},
   "outputs": [],
   "source": []
  },
  {
   "cell_type": "code",
   "execution_count": 1,
   "metadata": {},
   "outputs": [],
   "source": [
    "import os\n",
    "import pandas as pd\n",
    "import json\n",
    "import requests\n",
    "from meteostat import Daily, Stations\n",
    "from datetime import datetime"
   ]
  },
  {
   "cell_type": "code",
   "execution_count": null,
   "metadata": {},
   "outputs": [],
   "source": [
    "def population_data(df):\n",
    "    '''\n",
    "    Fügt jeder Stadt Einwohner hinzu\n",
    "    Merge über Kalenderjahr\n",
    "    '''\n",
    "    df = df.copy()\n",
    "    \n",
    "    df_population = pd.read_csv(\n",
    "                    './data/population.csv',\n",
    "                    sep=',', \n",
    "                    header=0,\n",
    "                    engine='python',  # Hilft oft bei Parsing-Problemen\n",
    "                    on_bad_lines='skip',  # Methode zum Überspringen von fehlerhaften Zeilen\n",
    "                    encoding='utf-8')  # Falls Sonderzeichen vorhanden sind\n",
    "\n",
    "\n",
    "    df_population = df_population[['City', 'Value', 'Year']]\n",
    "    df_population.rename(columns={'Value': 'Population'}, inplace=True)\n",
    "    df_population.dropna(inplace=True)\n",
    "    df_population['Population'] = df_population['Population'].astype(int)\n",
    "\n",
    "    # Sicherstellen, dass die Spaltennamen übereinstimmen\n",
    "    df.columns = df.columns.str.capitalize()\n",
    "    df['Year'] = df['Year'].astype(int)\n",
    "    df_population['Year'] = df_population['Year'].astype(int)\n",
    "\n",
    "    # Sortieren für merge_asof (wichtig!)\n",
    "    df = df.sort_values(by=['City', 'Year'])\n",
    "    df_population = df_population.sort_values(by=['City', 'Year'])\n",
    "\n",
    "    # Merge mit nächstgelegenem Jahr\n",
    "    df = pd.merge_asof(df, df_population, on='Year', by='City', direction='nearest')\n",
    "\n",
    "    # Datei speichern\n",
    "    output_path = './data/population_data.csv'\n",
    "    os.makedirs(os.path.dirname(output_path), exist_ok=True)\n",
    "    df.to_csv(output_path, index=False)\n",
    "    print(f\"✅ Datei wurde gespeichert: {output_path}\")\n",
    "\n",
    "    return df"
   ]
  }
 ],
 "metadata": {
  "kernelspec": {
   "display_name": ".venv",
   "language": "python",
   "name": "python3"
  },
  "language_info": {
   "codemirror_mode": {
    "name": "ipython",
    "version": 3
   },
   "file_extension": ".py",
   "mimetype": "text/x-python",
   "name": "python",
   "nbconvert_exporter": "python",
   "pygments_lexer": "ipython3",
   "version": "3.11.11"
  }
 },
 "nbformat": 4,
 "nbformat_minor": 2
}
