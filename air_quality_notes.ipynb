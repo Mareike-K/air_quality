{
 "cells": [
  {
   "cell_type": "markdown",
   "metadata": {},
   "source": [
    "TODO's:\n",
    "\n",
    "- Datenwörterbuch anlegen\n",
    "- Datensatz teilen (Spalte Specie)\n",
    "- Länder/ Städte definieren\n",
    "- Sind die Grenzwerte in den Ländern unterschiedlich?\n",
    "- Zielvariable definieren (Luftqualität)\n",
    "- Scipt für automatische Projektstruktur-Erstellung finden\n",
    "- Arbeitsteilung definieren\n",
    "\n",
    "\n",
    "-ggf README anpassen\n",
    "\n",
    "\n",
    "später\n",
    "\n",
    "- ggf. Ausprägungen zu Gruppen zusammenfassen\n",
    "\n",
    "\n",
    "\n",
    "\n",
    "\n"
   ]
  }
 ],
 "metadata": {
  "kernelspec": {
   "display_name": ".venv",
   "language": "python",
   "name": "python3"
  },
  "language_info": {
   "name": "python",
   "version": "3.11.11"
  }
 },
 "nbformat": 4,
 "nbformat_minor": 2
}
