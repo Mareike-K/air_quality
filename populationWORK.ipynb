{
 "cells": [
  {
   "cell_type": "code",
   "execution_count": null,
   "metadata": {},
   "outputs": [],
   "source": [
    "als nächste: die jahre berücktrichten!!!!!"
   ]
  },
  {
   "cell_type": "code",
   "execution_count": 11,
   "metadata": {},
   "outputs": [],
   "source": [
    "import os\n",
    "import pandas as pd\n",
    "import json\n",
    "import requests\n",
    "from meteostat import Daily, Stations\n",
    "from datetime import datetime\n",
    "from data_preparation import download_files, files, output_folder\n",
    "from data_preparation import data_import, data_cleaning, weather_data, geo_data\n"
   ]
  },
  {
   "cell_type": "code",
   "execution_count": 19,
   "metadata": {},
   "outputs": [
    {
     "name": "stdout",
     "output_type": "stream",
     "text": [
      "Downloaded: waqi-covid-2025.csv\n",
      "Downloaded: waqi-covid-2015H1.csv\n",
      "Downloaded: waqi-covid-2016H1.csv\n",
      "Downloaded: waqi-covid-2017H1.csv\n",
      "Downloaded: waqi-covid-2018H1.csv\n",
      "Downloaded: waqi-covid-2019Q1.csv\n",
      "Downloaded: waqi-covid-2019Q2.csv\n",
      "Downloaded: waqi-covid-2019Q3.csv\n",
      "Downloaded: waqi-covid-2019Q4.csv\n",
      "Downloaded: waqi-covid-2020Q1.csv\n",
      "Downloaded: waqi-covid-2020Q2.csv\n",
      "Downloaded: waqi-covid-2020Q3.csv\n",
      "Downloaded: waqi-covid-2020Q4.csv\n",
      "Downloaded: waqi-covid-2021Q1.csv\n",
      "Downloaded: waqi-covid-2021Q2.csv\n",
      "Downloaded: waqi-covid-2021Q3.csv\n",
      "Downloaded: waqi-covid-2021Q4.csv\n",
      "Downloaded: waqi-covid-2022Q1.csv\n",
      "Downloaded: waqi-covid-2022Q2.csv\n",
      "Downloaded: waqi-covid-2022Q3.csv\n",
      "Downloaded: waqi-covid-2022Q4.csv\n",
      "Downloaded: waqi-covid-2023Q1.csv\n",
      "Downloaded: waqi-covid-2023Q2.csv\n",
      "Downloaded: waqi-covid-2023Q3.csv\n",
      "Downloaded: waqi-covid-2023Q4.csv\n",
      "Downloaded: airquality-covid19-cities.json\n",
      "Downloaded: unsd-citypopulation-year-both.csv\n"
     ]
    }
   ],
   "source": [
    "download_files(files, output_folder)"
   ]
  },
  {
   "cell_type": "code",
   "execution_count": 12,
   "metadata": {},
   "outputs": [
    {
     "name": "stdout",
     "output_type": "stream",
     "text": [
      "Spalte 'Specie' fehlt in airquality-covid19-cities.json\n",
      "waqi-covid-2022Q1.csv enthält nach Duplikat-Entfernung keine Daten mehr.\n"
     ]
    },
    {
     "data": {
      "text/html": [
       "<div>\n",
       "<style scoped>\n",
       "    .dataframe tbody tr th:only-of-type {\n",
       "        vertical-align: middle;\n",
       "    }\n",
       "\n",
       "    .dataframe tbody tr th {\n",
       "        vertical-align: top;\n",
       "    }\n",
       "\n",
       "    .dataframe thead th {\n",
       "        text-align: right;\n",
       "    }\n",
       "</style>\n",
       "<table border=\"1\" class=\"dataframe\">\n",
       "  <thead>\n",
       "    <tr style=\"text-align: right;\">\n",
       "      <th></th>\n",
       "      <th>Date</th>\n",
       "      <th>Country</th>\n",
       "      <th>City</th>\n",
       "      <th>Specie</th>\n",
       "      <th>count</th>\n",
       "      <th>min</th>\n",
       "      <th>max</th>\n",
       "      <th>median</th>\n",
       "      <th>variance</th>\n",
       "    </tr>\n",
       "  </thead>\n",
       "  <tbody>\n",
       "    <tr>\n",
       "      <th>0</th>\n",
       "      <td>2015-01-06</td>\n",
       "      <td>KR</td>\n",
       "      <td>Jeonju</td>\n",
       "      <td>co</td>\n",
       "      <td>124</td>\n",
       "      <td>0.1</td>\n",
       "      <td>12.3</td>\n",
       "      <td>4.5</td>\n",
       "      <td>55.74</td>\n",
       "    </tr>\n",
       "    <tr>\n",
       "      <th>1</th>\n",
       "      <td>2015-01-22</td>\n",
       "      <td>KR</td>\n",
       "      <td>Jeonju</td>\n",
       "      <td>co</td>\n",
       "      <td>116</td>\n",
       "      <td>4.5</td>\n",
       "      <td>10.0</td>\n",
       "      <td>6.7</td>\n",
       "      <td>16.09</td>\n",
       "    </tr>\n",
       "    <tr>\n",
       "      <th>2</th>\n",
       "      <td>2015-03-30</td>\n",
       "      <td>KR</td>\n",
       "      <td>Jeonju</td>\n",
       "      <td>co</td>\n",
       "      <td>118</td>\n",
       "      <td>1.2</td>\n",
       "      <td>11.2</td>\n",
       "      <td>5.6</td>\n",
       "      <td>35.98</td>\n",
       "    </tr>\n",
       "    <tr>\n",
       "      <th>3</th>\n",
       "      <td>2015-05-27</td>\n",
       "      <td>KR</td>\n",
       "      <td>Jeonju</td>\n",
       "      <td>co</td>\n",
       "      <td>93</td>\n",
       "      <td>2.3</td>\n",
       "      <td>5.6</td>\n",
       "      <td>3.4</td>\n",
       "      <td>6.54</td>\n",
       "    </tr>\n",
       "    <tr>\n",
       "      <th>4</th>\n",
       "      <td>2015-02-03</td>\n",
       "      <td>KR</td>\n",
       "      <td>Jeonju</td>\n",
       "      <td>co</td>\n",
       "      <td>133</td>\n",
       "      <td>4.5</td>\n",
       "      <td>13.4</td>\n",
       "      <td>7.8</td>\n",
       "      <td>39.24</td>\n",
       "    </tr>\n",
       "    <tr>\n",
       "      <th>...</th>\n",
       "      <td>...</td>\n",
       "      <td>...</td>\n",
       "      <td>...</td>\n",
       "      <td>...</td>\n",
       "      <td>...</td>\n",
       "      <td>...</td>\n",
       "      <td>...</td>\n",
       "      <td>...</td>\n",
       "      <td>...</td>\n",
       "    </tr>\n",
       "    <tr>\n",
       "      <th>14257913</th>\n",
       "      <td>2024-10-05</td>\n",
       "      <td>MN</td>\n",
       "      <td>Ulan Bator</td>\n",
       "      <td>pressure</td>\n",
       "      <td>46</td>\n",
       "      <td>1027.0</td>\n",
       "      <td>1031.0</td>\n",
       "      <td>1029.0</td>\n",
       "      <td>15.54</td>\n",
       "    </tr>\n",
       "    <tr>\n",
       "      <th>14257914</th>\n",
       "      <td>2025-02-17</td>\n",
       "      <td>MN</td>\n",
       "      <td>Ulan Bator</td>\n",
       "      <td>pressure</td>\n",
       "      <td>264</td>\n",
       "      <td>1025.0</td>\n",
       "      <td>1027.0</td>\n",
       "      <td>1026.0</td>\n",
       "      <td>6.06</td>\n",
       "    </tr>\n",
       "    <tr>\n",
       "      <th>14257915</th>\n",
       "      <td>2025-02-26</td>\n",
       "      <td>MN</td>\n",
       "      <td>Ulan Bator</td>\n",
       "      <td>pressure</td>\n",
       "      <td>264</td>\n",
       "      <td>1002.0</td>\n",
       "      <td>1016.0</td>\n",
       "      <td>1009.0</td>\n",
       "      <td>213.15</td>\n",
       "    </tr>\n",
       "    <tr>\n",
       "      <th>14257916</th>\n",
       "      <td>2024-04-04</td>\n",
       "      <td>MN</td>\n",
       "      <td>Ulan Bator</td>\n",
       "      <td>pressure</td>\n",
       "      <td>240</td>\n",
       "      <td>1016.0</td>\n",
       "      <td>1019.0</td>\n",
       "      <td>1018.0</td>\n",
       "      <td>6.68</td>\n",
       "    </tr>\n",
       "    <tr>\n",
       "      <th>14257917</th>\n",
       "      <td>2024-05-15</td>\n",
       "      <td>MN</td>\n",
       "      <td>Ulan Bator</td>\n",
       "      <td>pressure</td>\n",
       "      <td>240</td>\n",
       "      <td>1011.0</td>\n",
       "      <td>1026.0</td>\n",
       "      <td>1018.0</td>\n",
       "      <td>283.89</td>\n",
       "    </tr>\n",
       "  </tbody>\n",
       "</table>\n",
       "<p>14257918 rows × 9 columns</p>\n",
       "</div>"
      ],
      "text/plain": [
       "                Date Country        City  ...     max  median  variance\n",
       "0         2015-01-06      KR      Jeonju  ...    12.3     4.5     55.74\n",
       "1         2015-01-22      KR      Jeonju  ...    10.0     6.7     16.09\n",
       "2         2015-03-30      KR      Jeonju  ...    11.2     5.6     35.98\n",
       "3         2015-05-27      KR      Jeonju  ...     5.6     3.4      6.54\n",
       "4         2015-02-03      KR      Jeonju  ...    13.4     7.8     39.24\n",
       "...              ...     ...         ...  ...     ...     ...       ...\n",
       "14257913  2024-10-05      MN  Ulan Bator  ...  1031.0  1029.0     15.54\n",
       "14257914  2025-02-17      MN  Ulan Bator  ...  1027.0  1026.0      6.06\n",
       "14257915  2025-02-26      MN  Ulan Bator  ...  1016.0  1009.0    213.15\n",
       "14257916  2024-04-04      MN  Ulan Bator  ...  1019.0  1018.0      6.68\n",
       "14257917  2024-05-15      MN  Ulan Bator  ...  1026.0  1018.0    283.89\n",
       "\n",
       "[14257918 rows x 9 columns]"
      ]
     },
     "execution_count": 12,
     "metadata": {},
     "output_type": "execute_result"
    }
   ],
   "source": [
    "data_import()   "
   ]
  },
  {
   "cell_type": "code",
   "execution_count": null,
   "metadata": {},
   "outputs": [],
   "source": [
    "df_population = pd.read_csv(\n",
    "    '/Users/whypk/01Projekte/air_quality/data/flat-ui__data-Tue Mar 04 2025.csv',\n",
    "    sep=',', \n",
    "    header=0,\n",
    "    engine='python',  # Hilft oft bei Parsing-Problemen\n",
    "    on_bad_lines='skip',  # Methode zum Überspringen von fehlerhaften Zeilen\n",
    "    encoding='utf-8'  # Falls Sonderzeichen vorhanden sind\n",
    ")"
   ]
  },
  {
   "cell_type": "code",
   "execution_count": 23,
   "metadata": {},
   "outputs": [
    {
     "name": "stdout",
     "output_type": "stream",
     "text": [
      "                                   6228  ...                    6535\n",
      "Country or Area              Costa Rica  ...                    Cuba\n",
      "Year                               2019  ...                    2011\n",
      "Area                              Total  ...                   Total\n",
      "Sex                          Both Sexes  ...              Both Sexes\n",
      "City                       Desamparados  ...              Guantánamo\n",
      "City type                   City proper  ...             City proper\n",
      "Record Type          Estimate - de jure  ...      Estimate - de jure\n",
      "Reliability      Final figure, complete  ...  Final figure, complete\n",
      "Source Year                      2019.0  ...                  2013.0\n",
      "Value                          242983.0  ...           207739.236485\n",
      "Value Footnotes                      74  ...                     NaN\n",
      "\n",
      "[11 rows x 5 columns]\n",
      "Index(['Country or Area', 'Year', 'Area', 'Sex', 'City', 'City type',\n",
      "       'Record Type', 'Reliability', 'Source Year', 'Value',\n",
      "       'Value Footnotes'],\n",
      "      dtype='object')\n",
      "Country or Area     object\n",
      "Year                object\n",
      "Area                object\n",
      "Sex                 object\n",
      "City                object\n",
      "City type           object\n",
      "Record Type         object\n",
      "Reliability         object\n",
      "Source Year        float64\n",
      "Value              float64\n",
      "Value Footnotes     object\n",
      "dtype: object\n",
      "(30111, 11)\n"
     ]
    }
   ],
   "source": [
    "print(df_population.sample(5).T)\n",
    "print(df_population.columns)\n",
    "print(df_population.dtypes)\n",
    "print(df_population.shape)"
   ]
  },
  {
   "cell_type": "code",
   "execution_count": null,
   "metadata": {},
   "outputs": [],
   "source": [
    "df_population.columns = ['City', 'population']\n",
    "df_population.dropna(inplace=True)\n",
    "df_population['population'] = df_population['population'].astype(int)\n",
    "df_population[\"City\"] = df_population[\"City\"].str.lower().str.strip()"
   ]
  },
  {
   "cell_type": "code",
   "execution_count": null,
   "metadata": {},
   "outputs": [],
   "source": [
    "def population(df):\n",
    "    '''\n",
    "    Fügt dem jeder Stadt Einwohener hinzu\n",
    "    '''\n",
    "    df = df_copy()\n",
    "    \n",
    "    df_population = pd.read_csv(\n",
    "                    './data/flat-ui__data-Tue Mar 04 2025.csv',\n",
    "                    sep=',', \n",
    "                    header=0,\n",
    "                    engine='python',  # Hilft oft bei Parsing-Problemen\n",
    "                    on_bad_lines='skip',  # Methode zum Überspringen von fehlerhaften Zeilen\n",
    "                    encoding='utf-8')  # Falls Sonderzeichen vorhanden sind\n",
    "\n",
    "    df_population = df_population[['City', 'Value']]\n",
    "\n",
    "    output_path = './data/population_data.csv'\n",
    "    os.makedirs(os.path.dirname(output_path), exist_ok=True)\n",
    "    df_population.to_csv(output_path, index=False)\n",
    "    print(f\"✅ Datei wurde gespeichert: {output_path}\")\n",
    "\n",
    "    # Merge der beiden DataFrames basierend auf der \"City\"-Spalte\n",
    "    df = pd.merge(df, df_population, on='City', how='left')\n",
    "\n",
    "    return(df)"
   ]
  },
  {
   "cell_type": "code",
   "execution_count": null,
   "metadata": {},
   "outputs": [
    {
     "name": "stdout",
     "output_type": "stream",
     "text": [
      "✅ Datei wurde gespeichert: ./data/population_data.csv\n"
     ]
    }
   ],
   "source": [
    "output_path = './data/population_data.csv'\n",
    "os.makedirs(os.path.dirname(output_path), exist_ok=True)\n",
    "df_population.to_csv(output_path, index=False)\n",
    "print(f\"✅ Datei wurde gespeichert: {output_path}\")"
   ]
  },
  {
   "cell_type": "code",
   "execution_count": 41,
   "metadata": {},
   "outputs": [
    {
     "ename": "NameError",
     "evalue": "name 'df' is not defined",
     "output_type": "error",
     "traceback": [
      "\u001b[1;31m---------------------------------------------------------------------------\u001b[0m",
      "\u001b[1;31mNameError\u001b[0m                                 Traceback (most recent call last)",
      "Cell \u001b[1;32mIn[41], line 2\u001b[0m\n\u001b[0;32m      1\u001b[0m \u001b[38;5;66;03m# Merge der beiden DataFrames basierend auf der \"City\"-Spalte\u001b[39;00m\n\u001b[1;32m----> 2\u001b[0m df_merged \u001b[38;5;241m=\u001b[39m pd\u001b[38;5;241m.\u001b[39mmerge(\u001b[43mdf\u001b[49m, df_population, on\u001b[38;5;241m=\u001b[39m\u001b[38;5;124m'\u001b[39m\u001b[38;5;124mCity\u001b[39m\u001b[38;5;124m'\u001b[39m, how\u001b[38;5;241m=\u001b[39m\u001b[38;5;124m'\u001b[39m\u001b[38;5;124mleft\u001b[39m\u001b[38;5;124m'\u001b[39m)\n",
      "\u001b[1;31mNameError\u001b[0m: name 'df' is not defined"
     ]
    }
   ],
   "source": [
    "# Merge der beiden DataFrames basierend auf der \"City\"-Spalte\n",
    "df_merged = pd.merge(df, df_population, on='City', how='left')"
   ]
  },
  {
   "cell_type": "code",
   "execution_count": 33,
   "metadata": {},
   "outputs": [
    {
     "data": {
      "text/html": [
       "<div>\n",
       "<style scoped>\n",
       "    .dataframe tbody tr th:only-of-type {\n",
       "        vertical-align: middle;\n",
       "    }\n",
       "\n",
       "    .dataframe tbody tr th {\n",
       "        vertical-align: top;\n",
       "    }\n",
       "\n",
       "    .dataframe thead th {\n",
       "        text-align: right;\n",
       "    }\n",
       "</style>\n",
       "<table border=\"1\" class=\"dataframe\">\n",
       "  <thead>\n",
       "    <tr style=\"text-align: right;\">\n",
       "      <th></th>\n",
       "      <th>dtype</th>\n",
       "      <th>total</th>\n",
       "      <th>missing</th>\n",
       "      <th>missing%</th>\n",
       "      <th>n_uniques</th>\n",
       "      <th>uniques%</th>\n",
       "      <th>uniques</th>\n",
       "    </tr>\n",
       "  </thead>\n",
       "  <tbody>\n",
       "    <tr>\n",
       "      <th>City</th>\n",
       "      <td>object</td>\n",
       "      <td>29857</td>\n",
       "      <td>254</td>\n",
       "      <td>0.843546</td>\n",
       "      <td>5156</td>\n",
       "      <td>17.123310</td>\n",
       "      <td>[Durrës, TIRANA, Adrar, Ain Defla, Ain Temouch...</td>\n",
       "    </tr>\n",
       "    <tr>\n",
       "      <th>population</th>\n",
       "      <td>float64</td>\n",
       "      <td>29857</td>\n",
       "      <td>254</td>\n",
       "      <td>0.843546</td>\n",
       "      <td>27999</td>\n",
       "      <td>92.985952</td>\n",
       "      <td>[113249.0, 418495.0, 392863.0, 200834.0, 45028...</td>\n",
       "    </tr>\n",
       "  </tbody>\n",
       "</table>\n",
       "</div>"
      ],
      "text/plain": [
       "              dtype  ...                                            uniques\n",
       "City         object  ...  [Durrës, TIRANA, Adrar, Ain Defla, Ain Temouch...\n",
       "population  float64  ...  [113249.0, 418495.0, 392863.0, 200834.0, 45028...\n",
       "\n",
       "[2 rows x 7 columns]"
      ]
     },
     "metadata": {},
     "output_type": "display_data"
    }
   ],
   "source": [
    "# Funktion für Übersicht über dtypes, missing values, unique values etc.\n",
    "def overview(df):\n",
    "    '''\n",
    "    Erstelle einen Überblick über einige Eigenschaften der Spalten eines DataFrames.\n",
    "    VARs\n",
    "        df: Der zu betrachtende DataFrame\n",
    "    RETURNS:\n",
    "        None\n",
    "    '''\n",
    "    display(pd.DataFrame({'dtype': df.dtypes,\n",
    "                          'total': df.count(),\n",
    "                          'missing': df.isna().sum(),\n",
    "                          'missing%': df.isna().mean()*100,\n",
    "                          'n_uniques': df.nunique(),\n",
    "                          'uniques%': df.nunique()/df.shape[0]*100,\n",
    "                          'uniques': [df[col].unique() for col in df.columns]\n",
    "                         }))\n",
    "overview(df_population)"
   ]
  },
  {
   "cell_type": "code",
   "execution_count": 25,
   "metadata": {},
   "outputs": [
    {
     "ename": "NameError",
     "evalue": "name 'df' is not defined",
     "output_type": "error",
     "traceback": [
      "\u001b[1;31m---------------------------------------------------------------------------\u001b[0m",
      "\u001b[1;31mNameError\u001b[0m                                 Traceback (most recent call last)",
      "Cell \u001b[1;32mIn[25], line 1\u001b[0m\n\u001b[1;32m----> 1\u001b[0m df_filtered_population \u001b[38;5;241m=\u001b[39m df_population[df_population[\u001b[38;5;124m'\u001b[39m\u001b[38;5;124mCity\u001b[39m\u001b[38;5;124m'\u001b[39m]\u001b[38;5;241m.\u001b[39misin(\u001b[43mdf\u001b[49m[\u001b[38;5;124m'\u001b[39m\u001b[38;5;124mCity\u001b[39m\u001b[38;5;124m'\u001b[39m])][[\u001b[38;5;124m'\u001b[39m\u001b[38;5;124mCountry or Area\u001b[39m\u001b[38;5;124m'\u001b[39m,\u001b[38;5;124m'\u001b[39m\u001b[38;5;124mCity\u001b[39m\u001b[38;5;124m'\u001b[39m, \u001b[38;5;124m'\u001b[39m\u001b[38;5;124mYear\u001b[39m\u001b[38;5;124m'\u001b[39m, \u001b[38;5;124m'\u001b[39m\u001b[38;5;124mCity type\u001b[39m\u001b[38;5;124m'\u001b[39m, \u001b[38;5;124m'\u001b[39m\u001b[38;5;124mValue\u001b[39m\u001b[38;5;124m'\u001b[39m]]\n\u001b[0;32m      2\u001b[0m df_filtered_population[\u001b[38;5;124m'\u001b[39m\u001b[38;5;124mValue\u001b[39m\u001b[38;5;124m'\u001b[39m] \u001b[38;5;241m=\u001b[39m df_filtered_population[\u001b[38;5;124m'\u001b[39m\u001b[38;5;124mValue\u001b[39m\u001b[38;5;124m'\u001b[39m]\u001b[38;5;241m.\u001b[39mastype(\u001b[38;5;28mint\u001b[39m)\n\u001b[0;32m      3\u001b[0m df_filtered_population\u001b[38;5;241m.\u001b[39mhead()\n",
      "\u001b[1;31mNameError\u001b[0m: name 'df' is not defined"
     ]
    }
   ],
   "source": [
    "df_filtered_population = df_population[df_population['City'].isin(df['City'])][['Country or Area','City', 'Year', 'City type', 'Value']]\n",
    "df_filtered_population['Value'] = df_filtered_population['Value'].astype(int)\n",
    "df_filtered_population.head()"
   ]
  }
 ],
 "metadata": {
  "kernelspec": {
   "display_name": ".venv",
   "language": "python",
   "name": "python3"
  },
  "language_info": {
   "codemirror_mode": {
    "name": "ipython",
    "version": 3
   },
   "file_extension": ".py",
   "mimetype": "text/x-python",
   "name": "python",
   "nbconvert_exporter": "python",
   "pygments_lexer": "ipython3",
   "version": "3.11.11"
  }
 },
 "nbformat": 4,
 "nbformat_minor": 2
}
