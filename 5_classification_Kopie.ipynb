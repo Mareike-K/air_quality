{
 "cells": [
  {
   "cell_type": "markdown",
   "metadata": {},
   "source": [
    "# Klassifikation - Kopie, Berechnungen mit Median anstelle von Mean!!!\n",
    "\n",
    "In diesem Notebook werden verschiedene Klassifikationsmodelle trainiert. Ziel ist es, die Städte im Datensatz aufgrund ihrer Feinstaubbelastung in zwei Klassen einzuteilen. Als Zielvariable wird also die Belastung mit mittelgroßen Feinstaubpartikeln (PM2.5, gemessen in µg/m³) angesetzt. \n",
    "\n",
    "Als Schwellenwert werden zwei Ansätze getestet:\n",
    "1. WHO-Richtline von 5 µg/m³: fachlicher Standard\n",
    "2. Median: datengetriebene Größe\n",
    "\n",
    "Als Modelle werden verglichen:\n",
    "1. Logistische Regression\n",
    "2. Random Forest\n",
    "3. Gradient Boosting\n",
    "\n",
    "Verwendet werden verschiedene Module der Python Bibliothek **Scitkit-learn** für maschinelles Lernen\n",
    "\n",
    "📌 **Datenstand:** `cleaned_air_quality_data_2025-03-27.csv`  \n",
    "📁 **Importiert aus:** lokaler Datei (--> gitignore)\n",
    "\n",
    "Frage an wer auch immer sich angesprochen fühlt:\n",
    "Was ist sinnvoller: als Mittelwert für die Schadstoffbelastung einer Stadt den Mean oder den Median nehmen? Hat beides Vor- und Nachteile. Hier wurde der Mean genommen. Aber man sollte vielleicht alles nochmal mit dem Median rechnen und schauen, ob sich die Genauigkeit der Klassifikationsmodelle dadurch verändert."
   ]
  },
  {
   "cell_type": "markdown",
   "metadata": {},
   "source": [
    "## 📚 Inhaltsverzeichnis \n",
    "(Diese Art von Inhaltsverzeichnis mit Link funktioniert leider in Notebooks nicht, weil die as JSON gespeichert werden und nicht als HTML...)\n",
    "\n",
    "- [0. Datensatz laden](#0-datensatz-laden)\n",
    "- [1. Vollständige Schadstoffmessungen und geographische Verteilung](#1-vollständige-schadstoffmessungen-und-geographische-verteilung)\n",
    "- [2. Clusterberechnung - mehrstufig](#2-clusterberechnung-mehrstufig)\n",
    "- [3. Clusterbeschreibung mit PCA](#3-clusterbeschreibung-mit-pca)\n",
    "- [4. Geographische Verteilung der Schadstoffcluster](#4-geographische-verteilung-der-schadstoffcluster)\n",
    "- [5. Inhaltliche Interpretation](#5-inhaltliche-interpretation)\n"
   ]
  },
  {
   "cell_type": "markdown",
   "metadata": {},
   "source": [
    "# 0. Datensatz laden"
   ]
  },
  {
   "cell_type": "code",
   "execution_count": 1,
   "metadata": {},
   "outputs": [],
   "source": [
    "# imports\n",
    "import pandas as pd\n",
    "import numpy as np\n",
    "import matplotlib.pyplot as plt\n",
    "import seaborn as sns\n",
    "\n",
    "from sklearn.linear_model import LogisticRegression\n",
    "from sklearn.ensemble import RandomForestClassifier\n",
    "from sklearn.ensemble import GradientBoostingClassifier\n",
    "\n",
    "from sklearn.model_selection import train_test_split\n",
    "from sklearn.metrics import classification_report, confusion_matrix\n",
    "\n",
    "%matplotlib inline"
   ]
  },
  {
   "cell_type": "code",
   "execution_count": 2,
   "metadata": {},
   "outputs": [
    {
     "data": {
      "text/html": [
       "<div>\n",
       "<style scoped>\n",
       "    .dataframe tbody tr th:only-of-type {\n",
       "        vertical-align: middle;\n",
       "    }\n",
       "\n",
       "    .dataframe tbody tr th {\n",
       "        vertical-align: top;\n",
       "    }\n",
       "\n",
       "    .dataframe thead th {\n",
       "        text-align: right;\n",
       "    }\n",
       "</style>\n",
       "<table border=\"1\" class=\"dataframe\">\n",
       "  <thead>\n",
       "    <tr style=\"text-align: right;\">\n",
       "      <th></th>\n",
       "      <th>Year</th>\n",
       "      <th>Month</th>\n",
       "      <th>Day</th>\n",
       "      <th>Country</th>\n",
       "      <th>City</th>\n",
       "      <th>Latitude</th>\n",
       "      <th>Longitude</th>\n",
       "      <th>Population</th>\n",
       "      <th>Co</th>\n",
       "      <th>No2</th>\n",
       "      <th>...</th>\n",
       "      <th>So2</th>\n",
       "      <th>Dew</th>\n",
       "      <th>Humidity</th>\n",
       "      <th>Tavg</th>\n",
       "      <th>Tmin</th>\n",
       "      <th>Tmax</th>\n",
       "      <th>Prcp</th>\n",
       "      <th>Wdir</th>\n",
       "      <th>Wspd</th>\n",
       "      <th>Pres</th>\n",
       "    </tr>\n",
       "  </thead>\n",
       "  <tbody>\n",
       "    <tr>\n",
       "      <th>0</th>\n",
       "      <td>2019</td>\n",
       "      <td>2</td>\n",
       "      <td>28</td>\n",
       "      <td>SA</td>\n",
       "      <td>Abha</td>\n",
       "      <td>18.21639</td>\n",
       "      <td>42.50528</td>\n",
       "      <td>5616633.0</td>\n",
       "      <td>NaN</td>\n",
       "      <td>NaN</td>\n",
       "      <td>...</td>\n",
       "      <td>NaN</td>\n",
       "      <td>6.0</td>\n",
       "      <td>45.0</td>\n",
       "      <td>18.8</td>\n",
       "      <td>15.8</td>\n",
       "      <td>24.1</td>\n",
       "      <td>NaN</td>\n",
       "      <td>183.0</td>\n",
       "      <td>21.9</td>\n",
       "      <td>1022.3</td>\n",
       "    </tr>\n",
       "    <tr>\n",
       "      <th>1</th>\n",
       "      <td>2019</td>\n",
       "      <td>3</td>\n",
       "      <td>1</td>\n",
       "      <td>SA</td>\n",
       "      <td>Abha</td>\n",
       "      <td>18.21639</td>\n",
       "      <td>42.50528</td>\n",
       "      <td>5616633.0</td>\n",
       "      <td>NaN</td>\n",
       "      <td>NaN</td>\n",
       "      <td>...</td>\n",
       "      <td>NaN</td>\n",
       "      <td>12.0</td>\n",
       "      <td>64.0</td>\n",
       "      <td>17.0</td>\n",
       "      <td>13.5</td>\n",
       "      <td>23.0</td>\n",
       "      <td>NaN</td>\n",
       "      <td>185.0</td>\n",
       "      <td>21.2</td>\n",
       "      <td>1021.9</td>\n",
       "    </tr>\n",
       "    <tr>\n",
       "      <th>2</th>\n",
       "      <td>2019</td>\n",
       "      <td>3</td>\n",
       "      <td>2</td>\n",
       "      <td>SA</td>\n",
       "      <td>Abha</td>\n",
       "      <td>18.21639</td>\n",
       "      <td>42.50528</td>\n",
       "      <td>5616633.0</td>\n",
       "      <td>NaN</td>\n",
       "      <td>0.0</td>\n",
       "      <td>...</td>\n",
       "      <td>0.0</td>\n",
       "      <td>9.0</td>\n",
       "      <td>63.0</td>\n",
       "      <td>16.7</td>\n",
       "      <td>10.8</td>\n",
       "      <td>23.6</td>\n",
       "      <td>NaN</td>\n",
       "      <td>186.0</td>\n",
       "      <td>15.2</td>\n",
       "      <td>1022.3</td>\n",
       "    </tr>\n",
       "    <tr>\n",
       "      <th>3</th>\n",
       "      <td>2019</td>\n",
       "      <td>3</td>\n",
       "      <td>3</td>\n",
       "      <td>SA</td>\n",
       "      <td>Abha</td>\n",
       "      <td>18.21639</td>\n",
       "      <td>42.50528</td>\n",
       "      <td>5616633.0</td>\n",
       "      <td>NaN</td>\n",
       "      <td>0.0</td>\n",
       "      <td>...</td>\n",
       "      <td>0.0</td>\n",
       "      <td>6.0</td>\n",
       "      <td>55.0</td>\n",
       "      <td>15.9</td>\n",
       "      <td>10.8</td>\n",
       "      <td>22.0</td>\n",
       "      <td>NaN</td>\n",
       "      <td>196.0</td>\n",
       "      <td>16.5</td>\n",
       "      <td>1023.4</td>\n",
       "    </tr>\n",
       "    <tr>\n",
       "      <th>4</th>\n",
       "      <td>2019</td>\n",
       "      <td>3</td>\n",
       "      <td>4</td>\n",
       "      <td>SA</td>\n",
       "      <td>Abha</td>\n",
       "      <td>18.21639</td>\n",
       "      <td>42.50528</td>\n",
       "      <td>5616633.0</td>\n",
       "      <td>NaN</td>\n",
       "      <td>0.0</td>\n",
       "      <td>...</td>\n",
       "      <td>0.0</td>\n",
       "      <td>3.0</td>\n",
       "      <td>58.0</td>\n",
       "      <td>16.1</td>\n",
       "      <td>9.0</td>\n",
       "      <td>22.5</td>\n",
       "      <td>NaN</td>\n",
       "      <td>NaN</td>\n",
       "      <td>11.2</td>\n",
       "      <td>1023.8</td>\n",
       "    </tr>\n",
       "  </tbody>\n",
       "</table>\n",
       "<p>5 rows × 23 columns</p>\n",
       "</div>"
      ],
      "text/plain": [
       "   Year  Month  Day Country  City  Latitude  Longitude  Population  Co  No2  \\\n",
       "0  2019      2   28      SA  Abha  18.21639   42.50528   5616633.0 NaN  NaN   \n",
       "1  2019      3    1      SA  Abha  18.21639   42.50528   5616633.0 NaN  NaN   \n",
       "2  2019      3    2      SA  Abha  18.21639   42.50528   5616633.0 NaN  0.0   \n",
       "3  2019      3    3      SA  Abha  18.21639   42.50528   5616633.0 NaN  0.0   \n",
       "4  2019      3    4      SA  Abha  18.21639   42.50528   5616633.0 NaN  0.0   \n",
       "\n",
       "   ...  So2   Dew  Humidity  Tavg  Tmin  Tmax  Prcp   Wdir  Wspd    Pres  \n",
       "0  ...  NaN   6.0      45.0  18.8  15.8  24.1   NaN  183.0  21.9  1022.3  \n",
       "1  ...  NaN  12.0      64.0  17.0  13.5  23.0   NaN  185.0  21.2  1021.9  \n",
       "2  ...  0.0   9.0      63.0  16.7  10.8  23.6   NaN  186.0  15.2  1022.3  \n",
       "3  ...  0.0   6.0      55.0  15.9  10.8  22.0   NaN  196.0  16.5  1023.4  \n",
       "4  ...  0.0   3.0      58.0  16.1   9.0  22.5   NaN    NaN  11.2  1023.8  \n",
       "\n",
       "[5 rows x 23 columns]"
      ]
     },
     "execution_count": 2,
     "metadata": {},
     "output_type": "execute_result"
    }
   ],
   "source": [
    "df = pd.read_csv(\"data/cleaned_air_quality_data_2025-03-27.csv\")\n",
    "df.head()"
   ]
  },
  {
   "cell_type": "code",
   "execution_count": 3,
   "metadata": {},
   "outputs": [],
   "source": [
    "# Liste relevanter Schadstoffe\n",
    "pollutants = ['Co', 'No2', 'O3', 'Pm10', 'Pm25', 'So2']\n",
    "\n",
    "# Mittelwerte pro Stadt berechnen (Index = City)\n",
    "df_median = df.groupby('City')[pollutants].median()\n"
   ]
  },
  {
   "cell_type": "code",
   "execution_count": 4,
   "metadata": {},
   "outputs": [
    {
     "data": {
      "text/html": [
       "<div>\n",
       "<style scoped>\n",
       "    .dataframe tbody tr th:only-of-type {\n",
       "        vertical-align: middle;\n",
       "    }\n",
       "\n",
       "    .dataframe tbody tr th {\n",
       "        vertical-align: top;\n",
       "    }\n",
       "\n",
       "    .dataframe thead th {\n",
       "        text-align: right;\n",
       "    }\n",
       "</style>\n",
       "<table border=\"1\" class=\"dataframe\">\n",
       "  <thead>\n",
       "    <tr style=\"text-align: right;\">\n",
       "      <th></th>\n",
       "      <th>Co</th>\n",
       "      <th>No2</th>\n",
       "      <th>O3</th>\n",
       "      <th>Pm10</th>\n",
       "      <th>Pm25</th>\n",
       "      <th>So2</th>\n",
       "    </tr>\n",
       "    <tr>\n",
       "      <th>City</th>\n",
       "      <th></th>\n",
       "      <th></th>\n",
       "      <th></th>\n",
       "      <th></th>\n",
       "      <th></th>\n",
       "      <th></th>\n",
       "    </tr>\n",
       "  </thead>\n",
       "  <tbody>\n",
       "    <tr>\n",
       "      <th>Abha</th>\n",
       "      <td>6.0</td>\n",
       "      <td>1.0</td>\n",
       "      <td>29.0</td>\n",
       "      <td>10.0</td>\n",
       "      <td>NaN</td>\n",
       "      <td>2.0</td>\n",
       "    </tr>\n",
       "    <tr>\n",
       "      <th>Abidjan</th>\n",
       "      <td>NaN</td>\n",
       "      <td>NaN</td>\n",
       "      <td>NaN</td>\n",
       "      <td>NaN</td>\n",
       "      <td>65.0</td>\n",
       "      <td>NaN</td>\n",
       "    </tr>\n",
       "    <tr>\n",
       "      <th>Abu dhabi</th>\n",
       "      <td>0.1</td>\n",
       "      <td>10.8</td>\n",
       "      <td>27.3</td>\n",
       "      <td>71.0</td>\n",
       "      <td>93.0</td>\n",
       "      <td>5.1</td>\n",
       "    </tr>\n",
       "    <tr>\n",
       "      <th>Accra</th>\n",
       "      <td>NaN</td>\n",
       "      <td>NaN</td>\n",
       "      <td>NaN</td>\n",
       "      <td>NaN</td>\n",
       "      <td>61.0</td>\n",
       "      <td>NaN</td>\n",
       "    </tr>\n",
       "    <tr>\n",
       "      <th>Adana</th>\n",
       "      <td>3.3</td>\n",
       "      <td>9.0</td>\n",
       "      <td>14.9</td>\n",
       "      <td>30.0</td>\n",
       "      <td>68.0</td>\n",
       "      <td>3.7</td>\n",
       "    </tr>\n",
       "  </tbody>\n",
       "</table>\n",
       "</div>"
      ],
      "text/plain": [
       "            Co   No2    O3  Pm10  Pm25  So2\n",
       "City                                       \n",
       "Abha       6.0   1.0  29.0  10.0   NaN  2.0\n",
       "Abidjan    NaN   NaN   NaN   NaN  65.0  NaN\n",
       "Abu dhabi  0.1  10.8  27.3  71.0  93.0  5.1\n",
       "Accra      NaN   NaN   NaN   NaN  61.0  NaN\n",
       "Adana      3.3   9.0  14.9  30.0  68.0  3.7"
      ]
     },
     "execution_count": 4,
     "metadata": {},
     "output_type": "execute_result"
    }
   ],
   "source": [
    "df_median.head()"
   ]
  },
  {
   "cell_type": "markdown",
   "metadata": {},
   "source": [
    "## 🧾 Definition der Zielvariable AirQualityLabel\n",
    "\n",
    "Um ein Klassifikationsmodell zur Vorhersage der Luftqualität von Städten zu erstellen, wurde eine zielvariable AirQualityLabel eingeführt. Diese ordnet jeder Stadt eine von zwei Klassen zu:\n",
    "\n",
    "- 0 → Gute Luftqualität\n",
    "\n",
    "- 1 → Schlechte Luftqualität\n",
    "\n",
    "Die Einteilung basiert auf dem Medianwert der durchschnittlichen PM2.5-Konzentration aller Städte im Datensatz. Der Median wurde als datengetriebener Grenzwert gewählt, da sich der offiziell empfohlene WHO-Grenzwert von 5 µg/m³ in der Praxis als zu streng erwiesen hat: Nur drei Städte hätten diesen erfüllt, was zu einem extremen Klassenungleichgewicht und damit zu einem ungeeigneten Klassifikationsproblem geführt hätte.\n",
    "\n",
    "Durch die Verwendung des Medians entsteht eine ausgewogene Verteilung zwischen den beiden Klassen, die ein stabiles Training und eine faire Bewertung des Modells ermöglicht.\n",
    "\n",
    "Die Berechnung erfolgte folgendermaßen:\n",
    "\n",
    "    pm25_median = df_median['Pm25'].median()\n",
    "    df_median['AirQualityLabel'] = (df_median['Pm25'] > pm25_median).astype(int)\n",
    "\n",
    " Städte mit einem PM2.5-Mittelwert über dem Median wurden als \"schlechte Luftqualität\" (1) klassifiziert, alle anderen als \"gute Luftqualität\" (0).\n",
    "\n"
   ]
  },
  {
   "cell_type": "code",
   "execution_count": 5,
   "metadata": {},
   "outputs": [],
   "source": [
    "# Median von PM2.5 berechnen\n",
    "pm25_median = df_median['Pm25'].median()\n",
    "\n",
    "# Zielvariable hinzufügen\n",
    "df_median['AirQualityLabel'] = (df_median['Pm25'] > pm25_median).astype(int)"
   ]
  },
  {
   "cell_type": "code",
   "execution_count": 6,
   "metadata": {},
   "outputs": [
    {
     "data": {
      "text/html": [
       "<div>\n",
       "<style scoped>\n",
       "    .dataframe tbody tr th:only-of-type {\n",
       "        vertical-align: middle;\n",
       "    }\n",
       "\n",
       "    .dataframe tbody tr th {\n",
       "        vertical-align: top;\n",
       "    }\n",
       "\n",
       "    .dataframe thead th {\n",
       "        text-align: right;\n",
       "    }\n",
       "</style>\n",
       "<table border=\"1\" class=\"dataframe\">\n",
       "  <thead>\n",
       "    <tr style=\"text-align: right;\">\n",
       "      <th></th>\n",
       "      <th>Co</th>\n",
       "      <th>No2</th>\n",
       "      <th>O3</th>\n",
       "      <th>Pm10</th>\n",
       "      <th>Pm25</th>\n",
       "      <th>So2</th>\n",
       "      <th>AirQualityLabel</th>\n",
       "    </tr>\n",
       "    <tr>\n",
       "      <th>City</th>\n",
       "      <th></th>\n",
       "      <th></th>\n",
       "      <th></th>\n",
       "      <th></th>\n",
       "      <th></th>\n",
       "      <th></th>\n",
       "      <th></th>\n",
       "    </tr>\n",
       "  </thead>\n",
       "  <tbody>\n",
       "    <tr>\n",
       "      <th>Abha</th>\n",
       "      <td>6.0</td>\n",
       "      <td>1.0</td>\n",
       "      <td>29.0</td>\n",
       "      <td>10.0</td>\n",
       "      <td>NaN</td>\n",
       "      <td>2.0</td>\n",
       "      <td>0</td>\n",
       "    </tr>\n",
       "    <tr>\n",
       "      <th>Abidjan</th>\n",
       "      <td>NaN</td>\n",
       "      <td>NaN</td>\n",
       "      <td>NaN</td>\n",
       "      <td>NaN</td>\n",
       "      <td>65.0</td>\n",
       "      <td>NaN</td>\n",
       "      <td>1</td>\n",
       "    </tr>\n",
       "    <tr>\n",
       "      <th>Abu dhabi</th>\n",
       "      <td>0.1</td>\n",
       "      <td>10.8</td>\n",
       "      <td>27.3</td>\n",
       "      <td>71.0</td>\n",
       "      <td>93.0</td>\n",
       "      <td>5.1</td>\n",
       "      <td>1</td>\n",
       "    </tr>\n",
       "    <tr>\n",
       "      <th>Accra</th>\n",
       "      <td>NaN</td>\n",
       "      <td>NaN</td>\n",
       "      <td>NaN</td>\n",
       "      <td>NaN</td>\n",
       "      <td>61.0</td>\n",
       "      <td>NaN</td>\n",
       "      <td>1</td>\n",
       "    </tr>\n",
       "    <tr>\n",
       "      <th>Adana</th>\n",
       "      <td>3.3</td>\n",
       "      <td>9.0</td>\n",
       "      <td>14.9</td>\n",
       "      <td>30.0</td>\n",
       "      <td>68.0</td>\n",
       "      <td>3.7</td>\n",
       "      <td>1</td>\n",
       "    </tr>\n",
       "  </tbody>\n",
       "</table>\n",
       "</div>"
      ],
      "text/plain": [
       "            Co   No2    O3  Pm10  Pm25  So2  AirQualityLabel\n",
       "City                                                        \n",
       "Abha       6.0   1.0  29.0  10.0   NaN  2.0                0\n",
       "Abidjan    NaN   NaN   NaN   NaN  65.0  NaN                1\n",
       "Abu dhabi  0.1  10.8  27.3  71.0  93.0  5.1                1\n",
       "Accra      NaN   NaN   NaN   NaN  61.0  NaN                1\n",
       "Adana      3.3   9.0  14.9  30.0  68.0  3.7                1"
      ]
     },
     "execution_count": 6,
     "metadata": {},
     "output_type": "execute_result"
    }
   ],
   "source": [
    "df_median.head()"
   ]
  },
  {
   "cell_type": "code",
   "execution_count": 8,
   "metadata": {},
   "outputs": [
    {
     "data": {
      "text/plain": [
       "Pm25\n",
       "False    613\n",
       "True       3\n",
       "Name: count, dtype: int64"
      ]
     },
     "execution_count": 8,
     "metadata": {},
     "output_type": "execute_result"
    }
   ],
   "source": [
    "# Anzahl Städte mit guter/schlechter Luft (nach WHO-Grenzwert)\n",
    "(df_median['Pm25'] <= 5).value_counts()"
   ]
  },
  {
   "cell_type": "code",
   "execution_count": 9,
   "metadata": {},
   "outputs": [
    {
     "data": {
      "text/html": [
       "<div>\n",
       "<style scoped>\n",
       "    .dataframe tbody tr th:only-of-type {\n",
       "        vertical-align: middle;\n",
       "    }\n",
       "\n",
       "    .dataframe tbody tr th {\n",
       "        vertical-align: top;\n",
       "    }\n",
       "\n",
       "    .dataframe thead th {\n",
       "        text-align: right;\n",
       "    }\n",
       "</style>\n",
       "<table border=\"1\" class=\"dataframe\">\n",
       "  <thead>\n",
       "    <tr style=\"text-align: right;\">\n",
       "      <th></th>\n",
       "      <th>Co</th>\n",
       "      <th>No2</th>\n",
       "      <th>O3</th>\n",
       "      <th>Pm10</th>\n",
       "      <th>Pm25</th>\n",
       "      <th>So2</th>\n",
       "      <th>AirQualityLabel</th>\n",
       "    </tr>\n",
       "    <tr>\n",
       "      <th>City</th>\n",
       "      <th></th>\n",
       "      <th></th>\n",
       "      <th></th>\n",
       "      <th></th>\n",
       "      <th></th>\n",
       "      <th></th>\n",
       "      <th></th>\n",
       "    </tr>\n",
       "  </thead>\n",
       "  <tbody>\n",
       "    <tr>\n",
       "      <th>Plovdiv</th>\n",
       "      <td>0.1</td>\n",
       "      <td>9.3</td>\n",
       "      <td>19.1</td>\n",
       "      <td>25.0</td>\n",
       "      <td>2.0</td>\n",
       "      <td>3.9</td>\n",
       "      <td>0</td>\n",
       "    </tr>\n",
       "    <tr>\n",
       "      <th>Yazd</th>\n",
       "      <td>22.0</td>\n",
       "      <td>35.0</td>\n",
       "      <td>0.0</td>\n",
       "      <td>61.0</td>\n",
       "      <td>0.0</td>\n",
       "      <td>22.0</td>\n",
       "      <td>0</td>\n",
       "    </tr>\n",
       "    <tr>\n",
       "      <th>Zürich</th>\n",
       "      <td>NaN</td>\n",
       "      <td>7.8</td>\n",
       "      <td>20.5</td>\n",
       "      <td>11.0</td>\n",
       "      <td>2.0</td>\n",
       "      <td>0.4</td>\n",
       "      <td>0</td>\n",
       "    </tr>\n",
       "  </tbody>\n",
       "</table>\n",
       "</div>"
      ],
      "text/plain": [
       "           Co   No2    O3  Pm10  Pm25   So2  AirQualityLabel\n",
       "City                                                        \n",
       "Plovdiv   0.1   9.3  19.1  25.0   2.0   3.9                0\n",
       "Yazd     22.0  35.0   0.0  61.0   0.0  22.0                0\n",
       "Zürich    NaN   7.8  20.5  11.0   2.0   0.4                0"
      ]
     },
     "execution_count": 9,
     "metadata": {},
     "output_type": "execute_result"
    }
   ],
   "source": [
    "# Städte mit PM2.5 ≤ 5 µg/m³ filtern\n",
    "clean_cities = df_median[df_median['Pm25'] <= 5]\n",
    "\n",
    "# Ergebnis anzeigen\n",
    "clean_cities"
   ]
  },
  {
   "cell_type": "code",
   "execution_count": 10,
   "metadata": {},
   "outputs": [
    {
     "data": {
      "text/plain": [
       "City\n",
       "Plovdiv       1\n",
       "Yazd        114\n",
       "Zürich     4275\n",
       "Name: Pm25, dtype: int64"
      ]
     },
     "execution_count": 10,
     "metadata": {},
     "output_type": "execute_result"
    }
   ],
   "source": [
    "# Anzahl gültiger PM2.5-Werte pro Stadt\n",
    "pm25_counts = df.groupby('City')['Pm25'].count().sort_values()\n",
    "\n",
    "# Zeige nur die \"sauberen\" Städte\n",
    "pm25_counts.loc[['Plovdiv', 'Yazd', 'Zürich']]"
   ]
  },
  {
   "cell_type": "code",
   "execution_count": 11,
   "metadata": {},
   "outputs": [
    {
     "data": {
      "image/png": "[encoded data removed]",
      "text/plain": [
       "<Figure size 800x400 with 1 Axes>"
      ]
     },
     "metadata": {},
     "output_type": "display_data"
    }
   ],
   "source": [
    "# Nur gültige PM2.5-Werte für Yazd\n",
    "yazd_pm25 = df[(df['City'] == 'Yazd') & (df['Pm25'].notna())]\n",
    "\n",
    "# Histogramm der Jahresverteilung\n",
    "plt.figure(figsize=(8, 4))\n",
    "yazd_pm25['Month'].value_counts().sort_index().plot(kind='bar', color='steelblue')\n",
    "\n",
    "plt.title(\"Anzahl gültiger PM2.5-Messwerte pro Jahr für Yazd\")\n",
    "plt.xlabel(\"Jahr\")\n",
    "plt.ylabel(\"Anzahl gültiger Messwerte\")\n",
    "plt.xticks(rotation=45)\n",
    "plt.tight_layout()\n",
    "plt.show()\n",
    "\n"
   ]
  },
  {
   "cell_type": "code",
   "execution_count": 12,
   "metadata": {},
   "outputs": [],
   "source": [
    "# Liste problematischer Städte\n",
    "rauswerfen = ['Plovdiv', 'Yazd']\n",
    "\n",
    "# Entferne sie aus df und ggf. df_median\n",
    "df = df[~df['City'].isin(rauswerfen)]\n",
    "\n",
    "# Und aus dem aggregierten Mittelwert-Datensatz\n",
    "df_median = df_median[~df_median.index.isin(rauswerfen)]"
   ]
  },
  {
   "cell_type": "markdown",
   "metadata": {},
   "source": [
    "Sehr schnelles Zwischenergebnis:\n",
    "\n",
    "Es gibt nur 3 Städte, die den aktuellen WHO-Anspruch von weniger als 5 µg/m³ erfüllen: Zürich (Schweiz), Plovdiv (Bulgarien), Yazd (Iran). Bei genauerem Hinschauen fällt zusätzlich auf, dass es für Plovidiv nur enen einzigen Messwert gibt, und für Yazd nur sehr wenige. \n",
    "Die WHO-Richtline kann also nicht verwendet werden, weil ein Modell damit nicht trainierbar ist - es hat keine zweite Klasse.\n",
    "\n",
    "Wir nehmen also direkt den Median, gehen also datengetrieben vor."
   ]
  },
  {
   "cell_type": "code",
   "execution_count": 13,
   "metadata": {},
   "outputs": [
    {
     "data": {
      "text/plain": [
       "City         0\n",
       "Co      630218\n",
       "No2     285899\n",
       "O3      372793\n",
       "Pm10    341808\n",
       "Pm25    258373\n",
       "So2     531545\n",
       "dtype: int64"
      ]
     },
     "execution_count": 13,
     "metadata": {},
     "output_type": "execute_result"
    }
   ],
   "source": [
    "# Umgang mit NaN-Werten\n",
    "\n",
    "# Anzahl fehlender Werte pro Spalte\n",
    "df[[\"City\"] + pollutants].isna().sum()"
   ]
  },
  {
   "cell_type": "code",
   "execution_count": 14,
   "metadata": {},
   "outputs": [
    {
     "data": {
      "text/html": [
       "<div>\n",
       "<style scoped>\n",
       "    .dataframe tbody tr th:only-of-type {\n",
       "        vertical-align: middle;\n",
       "    }\n",
       "\n",
       "    .dataframe tbody tr th {\n",
       "        vertical-align: top;\n",
       "    }\n",
       "\n",
       "    .dataframe thead th {\n",
       "        text-align: right;\n",
       "    }\n",
       "</style>\n",
       "<table border=\"1\" class=\"dataframe\">\n",
       "  <thead>\n",
       "    <tr style=\"text-align: right;\">\n",
       "      <th></th>\n",
       "      <th>Co</th>\n",
       "      <th>No2</th>\n",
       "      <th>O3</th>\n",
       "      <th>Pm10</th>\n",
       "      <th>Pm25</th>\n",
       "      <th>So2</th>\n",
       "    </tr>\n",
       "    <tr>\n",
       "      <th>City</th>\n",
       "      <th></th>\n",
       "      <th></th>\n",
       "      <th></th>\n",
       "      <th></th>\n",
       "      <th></th>\n",
       "      <th></th>\n",
       "    </tr>\n",
       "  </thead>\n",
       "  <tbody>\n",
       "    <tr>\n",
       "      <th>Abha</th>\n",
       "      <td>575</td>\n",
       "      <td>390</td>\n",
       "      <td>656</td>\n",
       "      <td>585</td>\n",
       "      <td>0</td>\n",
       "      <td>663</td>\n",
       "    </tr>\n",
       "    <tr>\n",
       "      <th>Ipoh</th>\n",
       "      <td>0</td>\n",
       "      <td>0</td>\n",
       "      <td>0</td>\n",
       "      <td>0</td>\n",
       "      <td>0</td>\n",
       "      <td>0</td>\n",
       "    </tr>\n",
       "    <tr>\n",
       "      <th>Oradea</th>\n",
       "      <td>0</td>\n",
       "      <td>2350</td>\n",
       "      <td>1970</td>\n",
       "      <td>1968</td>\n",
       "      <td>0</td>\n",
       "      <td>2033</td>\n",
       "    </tr>\n",
       "    <tr>\n",
       "      <th>Malacca</th>\n",
       "      <td>0</td>\n",
       "      <td>0</td>\n",
       "      <td>0</td>\n",
       "      <td>0</td>\n",
       "      <td>0</td>\n",
       "      <td>0</td>\n",
       "    </tr>\n",
       "    <tr>\n",
       "      <th>Iaşi</th>\n",
       "      <td>0</td>\n",
       "      <td>2124</td>\n",
       "      <td>771</td>\n",
       "      <td>2076</td>\n",
       "      <td>0</td>\n",
       "      <td>2768</td>\n",
       "    </tr>\n",
       "    <tr>\n",
       "      <th>...</th>\n",
       "      <td>...</td>\n",
       "      <td>...</td>\n",
       "      <td>...</td>\n",
       "      <td>...</td>\n",
       "      <td>...</td>\n",
       "      <td>...</td>\n",
       "    </tr>\n",
       "    <tr>\n",
       "      <th>Toronto</th>\n",
       "      <td>5903</td>\n",
       "      <td>5939</td>\n",
       "      <td>5939</td>\n",
       "      <td>0</td>\n",
       "      <td>5939</td>\n",
       "      <td>4909</td>\n",
       "    </tr>\n",
       "    <tr>\n",
       "      <th>Québec</th>\n",
       "      <td>5928</td>\n",
       "      <td>5021</td>\n",
       "      <td>5956</td>\n",
       "      <td>0</td>\n",
       "      <td>5956</td>\n",
       "      <td>2330</td>\n",
       "    </tr>\n",
       "    <tr>\n",
       "      <th>Montréal</th>\n",
       "      <td>5965</td>\n",
       "      <td>5962</td>\n",
       "      <td>5968</td>\n",
       "      <td>0</td>\n",
       "      <td>5968</td>\n",
       "      <td>5759</td>\n",
       "    </tr>\n",
       "    <tr>\n",
       "      <th>Hamilton</th>\n",
       "      <td>18876</td>\n",
       "      <td>21300</td>\n",
       "      <td>20252</td>\n",
       "      <td>12982</td>\n",
       "      <td>22520</td>\n",
       "      <td>19986</td>\n",
       "    </tr>\n",
       "    <tr>\n",
       "      <th>London</th>\n",
       "      <td>19912</td>\n",
       "      <td>40242</td>\n",
       "      <td>40240</td>\n",
       "      <td>19982</td>\n",
       "      <td>40240</td>\n",
       "      <td>19976</td>\n",
       "    </tr>\n",
       "  </tbody>\n",
       "</table>\n",
       "<p>614 rows × 6 columns</p>\n",
       "</div>"
      ],
      "text/plain": [
       "             Co    No2     O3   Pm10   Pm25    So2\n",
       "City                                              \n",
       "Abha        575    390    656    585      0    663\n",
       "Ipoh          0      0      0      0      0      0\n",
       "Oradea        0   2350   1970   1968      0   2033\n",
       "Malacca       0      0      0      0      0      0\n",
       "Iaşi          0   2124    771   2076      0   2768\n",
       "...         ...    ...    ...    ...    ...    ...\n",
       "Toronto    5903   5939   5939      0   5939   4909\n",
       "Québec     5928   5021   5956      0   5956   2330\n",
       "Montréal   5965   5962   5968      0   5968   5759\n",
       "Hamilton  18876  21300  20252  12982  22520  19986\n",
       "London    19912  40242  40240  19982  40240  19976\n",
       "\n",
       "[614 rows x 6 columns]"
      ]
     },
     "execution_count": 14,
     "metadata": {},
     "output_type": "execute_result"
    }
   ],
   "source": [
    "# Anzahl gültiger Werte pro Stadt und Schadstoff\n",
    "df.groupby('City')[pollutants].count().sort_values(by='Pm25')\n"
   ]
  },
  {
   "cell_type": "code",
   "execution_count": 15,
   "metadata": {},
   "outputs": [
    {
     "data": {
      "text/plain": [
       "['Alor setar',\n",
       " 'George town',\n",
       " 'Ipoh',\n",
       " 'Johor bahru',\n",
       " 'Klang',\n",
       " 'Kota bharu',\n",
       " 'Kuala lumpur',\n",
       " 'Kuantan',\n",
       " 'Kuching',\n",
       " 'Malacca',\n",
       " 'Miri',\n",
       " 'Seremban',\n",
       " 'Taiping']"
      ]
     },
     "execution_count": 15,
     "metadata": {},
     "output_type": "execute_result"
    }
   ],
   "source": [
    "# Welche Städte enthalten überhaupt keine Schadstoffwerte?\n",
    "\n",
    "# Alle Schadstoffspalten\n",
    "pollutants = ['Co', 'No2', 'O3', 'Pm10', 'Pm25', 'So2']\n",
    "\n",
    "# Für jede Stadt zählen, wie viele gültige Werte es insgesamt gibt\n",
    "valid_counts = df.groupby('City')[pollutants].count()\n",
    "\n",
    "# Zeige nur Städte mit 0 gültigen Werten in *allen* Schadstoffspalten\n",
    "no_data_cities = valid_counts[(valid_counts == 0).all(axis=1)]\n",
    "\n",
    "# Ausgabe\n",
    "no_data_cities.index.tolist()"
   ]
  },
  {
   "cell_type": "code",
   "execution_count": 16,
   "metadata": {},
   "outputs": [],
   "source": [
    "no_data_cities = [\n",
    "    'Alor setar', 'George town', 'Ipoh', 'Johor bahru', 'Klang', 'Kota bharu',\n",
    "    'Kuala lumpur', 'Kuantan', 'Kuching', 'Malacca', 'Miri', 'Seremban', 'Taiping'\n",
    "]\n",
    "# Entferne sie aus df und ggf. df_median\n",
    "\n",
    "# Aus dem Haupt-DataFrame\n",
    "df = df[~df['City'].isin(no_data_cities)]\n",
    "\n",
    "# Auch aus df_median entfernen (falls schon berechnet)\n",
    "df_median = df_median[~df_median.index.isin(no_data_cities)]"
   ]
  },
  {
   "cell_type": "code",
   "execution_count": 17,
   "metadata": {},
   "outputs": [
    {
     "data": {
      "text/plain": [
       "(601, 7)"
      ]
     },
     "execution_count": 17,
     "metadata": {},
     "output_type": "execute_result"
    }
   ],
   "source": [
    "df_median.shape"
   ]
  },
  {
   "cell_type": "code",
   "execution_count": 18,
   "metadata": {},
   "outputs": [
    {
     "data": {
      "text/html": [
       "<div>\n",
       "<style scoped>\n",
       "    .dataframe tbody tr th:only-of-type {\n",
       "        vertical-align: middle;\n",
       "    }\n",
       "\n",
       "    .dataframe tbody tr th {\n",
       "        vertical-align: top;\n",
       "    }\n",
       "\n",
       "    .dataframe thead th {\n",
       "        text-align: right;\n",
       "    }\n",
       "</style>\n",
       "<table border=\"1\" class=\"dataframe\">\n",
       "  <thead>\n",
       "    <tr style=\"text-align: right;\">\n",
       "      <th></th>\n",
       "      <th>Co</th>\n",
       "      <th>No2</th>\n",
       "      <th>O3</th>\n",
       "      <th>Pm10</th>\n",
       "      <th>Pm25</th>\n",
       "      <th>So2</th>\n",
       "      <th>AirQualityLabel</th>\n",
       "    </tr>\n",
       "    <tr>\n",
       "      <th>City</th>\n",
       "      <th></th>\n",
       "      <th></th>\n",
       "      <th></th>\n",
       "      <th></th>\n",
       "      <th></th>\n",
       "      <th></th>\n",
       "      <th></th>\n",
       "    </tr>\n",
       "  </thead>\n",
       "  <tbody>\n",
       "    <tr>\n",
       "      <th>Abha</th>\n",
       "      <td>6.0</td>\n",
       "      <td>1.0</td>\n",
       "      <td>29.0</td>\n",
       "      <td>10.0</td>\n",
       "      <td>NaN</td>\n",
       "      <td>2.0</td>\n",
       "      <td>0</td>\n",
       "    </tr>\n",
       "    <tr>\n",
       "      <th>Abidjan</th>\n",
       "      <td>NaN</td>\n",
       "      <td>NaN</td>\n",
       "      <td>NaN</td>\n",
       "      <td>NaN</td>\n",
       "      <td>65.0</td>\n",
       "      <td>NaN</td>\n",
       "      <td>1</td>\n",
       "    </tr>\n",
       "    <tr>\n",
       "      <th>Abu dhabi</th>\n",
       "      <td>0.1</td>\n",
       "      <td>10.8</td>\n",
       "      <td>27.3</td>\n",
       "      <td>71.0</td>\n",
       "      <td>93.0</td>\n",
       "      <td>5.1</td>\n",
       "      <td>1</td>\n",
       "    </tr>\n",
       "    <tr>\n",
       "      <th>Accra</th>\n",
       "      <td>NaN</td>\n",
       "      <td>NaN</td>\n",
       "      <td>NaN</td>\n",
       "      <td>NaN</td>\n",
       "      <td>61.0</td>\n",
       "      <td>NaN</td>\n",
       "      <td>1</td>\n",
       "    </tr>\n",
       "    <tr>\n",
       "      <th>Adana</th>\n",
       "      <td>3.3</td>\n",
       "      <td>9.0</td>\n",
       "      <td>14.9</td>\n",
       "      <td>30.0</td>\n",
       "      <td>68.0</td>\n",
       "      <td>3.7</td>\n",
       "      <td>1</td>\n",
       "    </tr>\n",
       "  </tbody>\n",
       "</table>\n",
       "</div>"
      ],
      "text/plain": [
       "            Co   No2    O3  Pm10  Pm25  So2  AirQualityLabel\n",
       "City                                                        \n",
       "Abha       6.0   1.0  29.0  10.0   NaN  2.0                0\n",
       "Abidjan    NaN   NaN   NaN   NaN  65.0  NaN                1\n",
       "Abu dhabi  0.1  10.8  27.3  71.0  93.0  5.1                1\n",
       "Accra      NaN   NaN   NaN   NaN  61.0  NaN                1\n",
       "Adana      3.3   9.0  14.9  30.0  68.0  3.7                1"
      ]
     },
     "execution_count": 18,
     "metadata": {},
     "output_type": "execute_result"
    }
   ],
   "source": [
    "df_median.head()"
   ]
  },
  {
   "cell_type": "code",
   "execution_count": 19,
   "metadata": {},
   "outputs": [
    {
     "data": {
      "text/plain": [
       "Num_Valid_Pollutants\n",
       "1     26\n",
       "2     21\n",
       "3     12\n",
       "4     40\n",
       "5     98\n",
       "6    404\n",
       "Name: count, dtype: int64"
      ]
     },
     "execution_count": 19,
     "metadata": {},
     "output_type": "execute_result"
    }
   ],
   "source": [
    "# Relevante Spalten\n",
    "pollutants = ['Co', 'No2', 'O3', 'Pm10', 'Pm25', 'So2']\n",
    "\n",
    "# Für jede Stadt: Wie viele Mittelwerte sind vorhanden?\n",
    "df_median['Num_Valid_Pollutants'] = df_median[pollutants].notna().sum(axis=1)\n",
    "\n",
    "# Übersicht: Wie viele Städte haben wie viele gültige Schadstoffwerte?\n",
    "coverage_summary = df_median['Num_Valid_Pollutants'].value_counts().sort_index()\n",
    "\n",
    "# Ergebnis anzeigen\n",
    "coverage_summary\n"
   ]
  },
  {
   "cell_type": "markdown",
   "metadata": {},
   "source": [
    "Weil das Imputieren von überhaupt nicht vorhandenen Kategorien (Schadstoffen) für eine Stadt eigentlich nicht mehr als \"Raten\" ist, machen wir das hier nicht und reduzieren die Trainingsdaten auf die 404 Städte, die für alle Schadstoffe Werte gemeldet haben."
   ]
  },
  {
   "cell_type": "code",
   "execution_count": 20,
   "metadata": {},
   "outputs": [],
   "source": [
    "# Nur Städte mit allen 6 Schadstoff-Mittelwerten\n",
    "df_median_complete = df_median[df_median['Num_Valid_Pollutants'] == 6]"
   ]
  },
  {
   "cell_type": "code",
   "execution_count": 21,
   "metadata": {},
   "outputs": [
    {
     "data": {
      "text/html": [
       "<div>\n",
       "<style scoped>\n",
       "    .dataframe tbody tr th:only-of-type {\n",
       "        vertical-align: middle;\n",
       "    }\n",
       "\n",
       "    .dataframe tbody tr th {\n",
       "        vertical-align: top;\n",
       "    }\n",
       "\n",
       "    .dataframe thead th {\n",
       "        text-align: right;\n",
       "    }\n",
       "</style>\n",
       "<table border=\"1\" class=\"dataframe\">\n",
       "  <thead>\n",
       "    <tr style=\"text-align: right;\">\n",
       "      <th></th>\n",
       "      <th>Co</th>\n",
       "      <th>No2</th>\n",
       "      <th>O3</th>\n",
       "      <th>Pm10</th>\n",
       "      <th>Pm25</th>\n",
       "      <th>So2</th>\n",
       "      <th>AirQualityLabel</th>\n",
       "      <th>Num_Valid_Pollutants</th>\n",
       "    </tr>\n",
       "    <tr>\n",
       "      <th>City</th>\n",
       "      <th></th>\n",
       "      <th></th>\n",
       "      <th></th>\n",
       "      <th></th>\n",
       "      <th></th>\n",
       "      <th></th>\n",
       "      <th></th>\n",
       "      <th></th>\n",
       "    </tr>\n",
       "  </thead>\n",
       "  <tbody>\n",
       "    <tr>\n",
       "      <th>Abu dhabi</th>\n",
       "      <td>0.1</td>\n",
       "      <td>10.8</td>\n",
       "      <td>27.3</td>\n",
       "      <td>71.0</td>\n",
       "      <td>93.0</td>\n",
       "      <td>5.1</td>\n",
       "      <td>1</td>\n",
       "      <td>6</td>\n",
       "    </tr>\n",
       "    <tr>\n",
       "      <th>Adana</th>\n",
       "      <td>3.3</td>\n",
       "      <td>9.0</td>\n",
       "      <td>14.9</td>\n",
       "      <td>30.0</td>\n",
       "      <td>68.0</td>\n",
       "      <td>3.7</td>\n",
       "      <td>1</td>\n",
       "      <td>6</td>\n",
       "    </tr>\n",
       "    <tr>\n",
       "      <th>Adapazarı</th>\n",
       "      <td>15.7</td>\n",
       "      <td>12.0</td>\n",
       "      <td>14.3</td>\n",
       "      <td>34.0</td>\n",
       "      <td>63.0</td>\n",
       "      <td>14.6</td>\n",
       "      <td>1</td>\n",
       "      <td>6</td>\n",
       "    </tr>\n",
       "    <tr>\n",
       "      <th>Adelaide</th>\n",
       "      <td>1.5</td>\n",
       "      <td>1.4</td>\n",
       "      <td>6.5</td>\n",
       "      <td>12.0</td>\n",
       "      <td>17.0</td>\n",
       "      <td>0.6</td>\n",
       "      <td>0</td>\n",
       "      <td>6</td>\n",
       "    </tr>\n",
       "    <tr>\n",
       "      <th>Aguascalientes</th>\n",
       "      <td>5.9</td>\n",
       "      <td>7.5</td>\n",
       "      <td>9.6</td>\n",
       "      <td>32.0</td>\n",
       "      <td>52.0</td>\n",
       "      <td>2.0</td>\n",
       "      <td>1</td>\n",
       "      <td>6</td>\n",
       "    </tr>\n",
       "  </tbody>\n",
       "</table>\n",
       "</div>"
      ],
      "text/plain": [
       "                  Co   No2    O3  Pm10  Pm25   So2  AirQualityLabel  \\\n",
       "City                                                                  \n",
       "Abu dhabi        0.1  10.8  27.3  71.0  93.0   5.1                1   \n",
       "Adana            3.3   9.0  14.9  30.0  68.0   3.7                1   \n",
       "Adapazarı       15.7  12.0  14.3  34.0  63.0  14.6                1   \n",
       "Adelaide         1.5   1.4   6.5  12.0  17.0   0.6                0   \n",
       "Aguascalientes   5.9   7.5   9.6  32.0  52.0   2.0                1   \n",
       "\n",
       "                Num_Valid_Pollutants  \n",
       "City                                  \n",
       "Abu dhabi                          6  \n",
       "Adana                              6  \n",
       "Adapazarı                          6  \n",
       "Adelaide                           6  \n",
       "Aguascalientes                     6  "
      ]
     },
     "execution_count": 21,
     "metadata": {},
     "output_type": "execute_result"
    }
   ],
   "source": [
    "df_median_complete.head()"
   ]
  },
  {
   "cell_type": "code",
   "execution_count": 22,
   "metadata": {},
   "outputs": [
    {
     "data": {
      "text/plain": [
       "(404, 8)"
      ]
     },
     "execution_count": 22,
     "metadata": {},
     "output_type": "execute_result"
    }
   ],
   "source": [
    "df_median_complete.shape"
   ]
  },
  {
   "cell_type": "code",
   "execution_count": 23,
   "metadata": {},
   "outputs": [],
   "source": [
    "features = ['Co', 'No2', 'O3', 'Pm10', 'So2']\n",
    "X = df_median_complete[features]\n",
    "y = df_median_complete['AirQualityLabel']"
   ]
  },
  {
   "cell_type": "code",
   "execution_count": 24,
   "metadata": {},
   "outputs": [],
   "source": [
    "# Wir haben  aktuell 404 Städte in df_median_complete. Davon nehmen wir 80% für das Training und 20% für den Test.\n",
    "# Wir verwenden den Standard-Trainings-Test-Split von scikit-learn.\n",
    "\n",
    "# Split in Trainings- und Testdaten\n",
    "X_train, X_test, y_train, y_test = train_test_split(X, y, test_size=0.2, random_state=42)\n"
   ]
  },
  {
   "cell_type": "markdown",
   "metadata": {},
   "source": [
    "## Modell 1: Logistic Regression"
   ]
  },
  {
   "cell_type": "code",
   "execution_count": 25,
   "metadata": {},
   "outputs": [
    {
     "name": "stdout",
     "output_type": "stream",
     "text": [
      "              precision    recall  f1-score   support\n",
      "\n",
      "           0       0.87      0.97      0.92        35\n",
      "           1       0.98      0.89      0.93        46\n",
      "\n",
      "    accuracy                           0.93        81\n",
      "   macro avg       0.92      0.93      0.93        81\n",
      "weighted avg       0.93      0.93      0.93        81\n",
      "\n",
      "[[34  1]\n",
      " [ 5 41]]\n"
     ]
    }
   ],
   "source": [
    "#  Modelltraining\n",
    "model = LogisticRegression(max_iter=1000)\n",
    "model.fit(X_train, y_train)\n",
    "\n",
    "# Vorhersagen & Bewertung\n",
    "y_pred = model.predict(X_test)\n",
    "print(classification_report(y_test, y_pred))\n",
    "print(confusion_matrix(y_test, y_pred))"
   ]
  },
  {
   "cell_type": "markdown",
   "metadata": {},
   "source": [
    "Wenn wir PM10 als Feature drinlassen, klassifiziert das Modell prima - und das ist auch zu erwarten, weil PM2.5 eine Teilmenge von PM10 ist. Also lassen wir PM10 jetzt mal raus und schauen, was dann passiert:"
   ]
  },
  {
   "cell_type": "code",
   "execution_count": 27,
   "metadata": {},
   "outputs": [],
   "source": [
    "features_no_PM10 = ['Co', 'No2', 'O3', 'So2']\n",
    "X = df_median_complete[features_no_PM10]\n",
    "y = df_median_complete['AirQualityLabel']"
   ]
  },
  {
   "cell_type": "code",
   "execution_count": 28,
   "metadata": {},
   "outputs": [
    {
     "name": "stdout",
     "output_type": "stream",
     "text": [
      "              precision    recall  f1-score   support\n",
      "\n",
      "           0       0.71      0.86      0.78        35\n",
      "           1       0.87      0.74      0.80        46\n",
      "\n",
      "    accuracy                           0.79        81\n",
      "   macro avg       0.79      0.80      0.79        81\n",
      "weighted avg       0.80      0.79      0.79        81\n",
      "\n",
      "[[30  5]\n",
      " [12 34]]\n"
     ]
    }
   ],
   "source": [
    "# Split in Trainings- und Testdaten\n",
    "X_train, X_test, y_train, y_test = train_test_split(X, y, test_size=0.2, random_state=42)\n",
    "\n",
    "# Modelltraining\n",
    "model = LogisticRegression(max_iter=1000)\n",
    "model.fit(X_train, y_train)\n",
    "\n",
    "# Vorhersagen & Bewertung\n",
    "y_pred = model.predict(X_test)\n",
    "print(classification_report(y_test, y_pred))\n",
    "print(confusion_matrix(y_test, y_pred))\n"
   ]
  },
  {
   "cell_type": "code",
   "execution_count": 29,
   "metadata": {},
   "outputs": [
    {
     "name": "stdout",
     "output_type": "stream",
     "text": [
      "                     Vorhergesagt Negativ  Vorhergesagt Positiv\n",
      "Tatsächlich Negativ                    30                     5\n",
      "Tatsächlich Positiv                    12                    34\n"
     ]
    }
   ],
   "source": [
    "cm = confusion_matrix(y_test, y_pred)\n",
    "\n",
    "cm_df = pd.DataFrame(cm, \n",
    "                     index=[\"Tatsächlich Negativ\", \"Tatsächlich Positiv\"], \n",
    "                     columns=[\"Vorhergesagt Negativ\", \"Vorhergesagt Positiv\"])\n",
    "\n",
    "print(cm_df)"
   ]
  },
  {
   "cell_type": "code",
   "execution_count": 30,
   "metadata": {},
   "outputs": [
    {
     "data": {
      "image/png": "[encoded data removed]",
      "text/plain": [
       "<Figure size 640x480 with 2 Axes>"
      ]
     },
     "metadata": {},
     "output_type": "display_data"
    }
   ],
   "source": [
    "sns.heatmap(cm_df, annot=True, fmt=\"d\", cmap=\"Blues\")\n",
    "plt.ylabel(\"Tatsächliche Werte\")\n",
    "plt.xlabel(\"Vorhergesagte Werte\");"
   ]
  },
  {
   "cell_type": "markdown",
   "metadata": {},
   "source": [
    "## 🧾 Entscheidung zur Feature-Auswahl: PM10 aus den Features entfernen\n",
    "\n",
    "Um die Luftqualität in Städten zu klassifizieren, wurden zunächst alle Schadstoffe (CO, NO₂, O₃, PM10, PM2.5, SO₂) als Features in das Modell aufgenommen, obwohl PM10 und PM2.5 naturgemäß eine hohe Korrelation aufweisen (über 97%).\n",
    "\n",
    "🔹 Test mit PM10 als Feature:\n",
    "\n",
    "Das Modell erzielte eine hohe Genauigkeit von 91% und einen sehr hohen F1-Score von 0.92 für die Vorhersage von schlechter Luft (Klasse 1).\n",
    "\n",
    "Präzision und Recall bei der Klassifikation von „schlechter Luft“ waren sehr hoch (nahe 1.0), was das Modell besonders präzise bei der Vorhersage von schlechter Luft machte.\n",
    "\n",
    "Allerdings zeigte sich auch, dass das Modell zwischen den Klassen kaum differenzierte, was die klassenspezifische Leistung bei guter Luft (Klasse 0) beeinträchtigte.\n",
    "\n",
    "🔹 Test ohne PM10 als Feature:\n",
    "\n",
    "Nachdem PM10 entfernt wurde, ging die Genauigkeit leicht zurück auf 80% und der F1-Score für schlechte Luft sank von 0.92 auf 0.83.\n",
    "\n",
    "Das Modell zeigt nun jedoch eine ausgewogenere Klassifikation (bevorzogt nicht mehr das Label \"schlechte Luft\") und ist weniger von redundanten Informationen beeinflusst.\n",
    "\n",
    "🧠 Ergebnis:\n",
    "\n",
    "Die Tests haben gezeigt, dass das Modell besser differenziert, wenn PM10 aus den Features entfernt wird. Auch wenn die Gesamtgenauigkeit etwas zurückgeht, ist das Modell nun besser in der Lage, zwischen guter und schlechter Luft zu unterscheiden.\n",
    "Die Entscheidung, PM10 aus den Features zu entfernen, basiert auf der starken Korrelation mit PM2.5, die zu einer Redundanz führte und das Modell verzerrte.\n",
    "\n"
   ]
  },
  {
   "cell_type": "markdown",
   "metadata": {},
   "source": [
    "## Modell 2: Random Forest"
   ]
  },
  {
   "cell_type": "code",
   "execution_count": 31,
   "metadata": {},
   "outputs": [],
   "source": [
    "# Features and train test split repeated from previous model, just to make clear what is being used:\n",
    "\n",
    "features_no_PM10 = ['Co', 'No2', 'O3', 'So2']\n",
    "X = df_median_complete[features_no_PM10]\n",
    "y = df_median_complete['AirQualityLabel']\n",
    "\n",
    "# Split in Trainings- und Testdaten\n",
    "X_train, X_test, y_train, y_test = train_test_split(X, y, test_size=0.2, random_state=42)\n"
   ]
  },
  {
   "cell_type": "code",
   "execution_count": 32,
   "metadata": {},
   "outputs": [],
   "source": [
    "# Random Forest-Modell erstellen\n",
    "rf_model = RandomForestClassifier(n_estimators=100, random_state=42)\n",
    "\n",
    "# Modell trainieren\n",
    "rf_model.fit(X_train, y_train)\n",
    "\n",
    "y_pred_rf = rf_model.predict(X_test)\n"
   ]
  },
  {
   "cell_type": "code",
   "execution_count": 35,
   "metadata": {},
   "outputs": [
    {
     "name": "stdout",
     "output_type": "stream",
     "text": [
      "              precision    recall  f1-score   support\n",
      "\n",
      "           0       0.83      0.86      0.85        35\n",
      "           1       0.89      0.87      0.88        46\n",
      "\n",
      "    accuracy                           0.86        81\n",
      "   macro avg       0.86      0.86      0.86        81\n",
      "weighted avg       0.86      0.86      0.86        81\n",
      "\n"
     ]
    }
   ],
   "source": [
    "# Vorhersagen & Bewertung drucken\n",
    "print(classification_report(y_test, y_pred_rf))\n",
    "# print(confusion_matrix(y_test, y_pred_rf))"
   ]
  },
  {
   "cell_type": "code",
   "execution_count": 33,
   "metadata": {},
   "outputs": [
    {
     "name": "stdout",
     "output_type": "stream",
     "text": [
      "                     Vorhergesagt Negativ  Vorhergesagt Positiv\n",
      "Tatsächlich Negativ                    30                     5\n",
      "Tatsächlich Positiv                     6                    40\n"
     ]
    }
   ],
   "source": [
    "cm = confusion_matrix(y_test, y_pred_rf)\n",
    "\n",
    "cm_df = pd.DataFrame(cm, \n",
    "                     index=[\"Tatsächlich Negativ\", \"Tatsächlich Positiv\"], \n",
    "                     columns=[\"Vorhergesagt Negativ\", \"Vorhergesagt Positiv\"])\n",
    "\n",
    "print(cm_df)"
   ]
  },
  {
   "cell_type": "code",
   "execution_count": 34,
   "metadata": {},
   "outputs": [
    {
     "data": {
      "image/png": "[encoded data removed]",
      "text/plain": [
       "<Figure size 640x480 with 2 Axes>"
      ]
     },
     "metadata": {},
     "output_type": "display_data"
    }
   ],
   "source": [
    "sns.heatmap(cm_df, annot=True, fmt=\"d\", cmap=\"Blues\")\n",
    "plt.ylabel(\"Tatsächliche Werte\")\n",
    "plt.xlabel(\"Vorhergesagte Werte\");"
   ]
  },
  {
   "cell_type": "code",
   "execution_count": 36,
   "metadata": {},
   "outputs": [],
   "source": [
    "# Feature importance extrahieren\n",
    "importances = rf_model.feature_importances_"
   ]
  },
  {
   "cell_type": "code",
   "execution_count": 37,
   "metadata": {},
   "outputs": [
    {
     "name": "stderr",
     "output_type": "stream",
     "text": [
      "/var/folders/9l/_gqvrbsd14zb0w_nlgtngd_w0000gn/T/ipykernel_92539/1345115114.py:9: FutureWarning: \n",
      "\n",
      "Passing `palette` without assigning `hue` is deprecated and will be removed in v0.14.0. Assign the `y` variable to `hue` and set `legend=False` for the same effect.\n",
      "\n",
      "  sns.barplot(x='Importance', y='Feature', data=feature_importance_df, palette='viridis')\n"
     ]
    },
    {
     "data": {
      "image/png": "[encoded data removed]",
      "text/plain": [
       "<Figure size 800x400 with 1 Axes>"
      ]
     },
     "metadata": {},
     "output_type": "display_data"
    }
   ],
   "source": [
    "# Feature-Importanz in ein DataFrame umwandeln\n",
    "feature_importance_df = pd.DataFrame({\n",
    "    'Feature': features_no_PM10,\n",
    "    'Importance': importances\n",
    "}).sort_values(by='Importance', ascending=False)\n",
    "\n",
    "# Feature-Importanz anzeigen\n",
    "plt.figure(figsize=(8, 4))\n",
    "sns.barplot(x='Importance', y='Feature', data=feature_importance_df, palette='viridis')\n",
    "plt.title('Feature Importance (Random Forest)')\n",
    "plt.xlabel('Importance')\n",
    "plt.ylabel('Feature')\n",
    "plt.tight_layout()\n",
    "plt.show()\n",
    "\n"
   ]
  },
  {
   "cell_type": "markdown",
   "metadata": {},
   "source": [
    "Am wichtigsten für die Klassifizierung ist das Feature \"CO\". Kann es sein, dass die falsch klassifizierten Städte auffällige CO-Werte haben?"
   ]
  },
  {
   "cell_type": "code",
   "execution_count": 38,
   "metadata": {},
   "outputs": [
    {
     "data": {
      "text/html": [
       "<div>\n",
       "<style scoped>\n",
       "    .dataframe tbody tr th:only-of-type {\n",
       "        vertical-align: middle;\n",
       "    }\n",
       "\n",
       "    .dataframe tbody tr th {\n",
       "        vertical-align: top;\n",
       "    }\n",
       "\n",
       "    .dataframe thead th {\n",
       "        text-align: right;\n",
       "    }\n",
       "</style>\n",
       "<table border=\"1\" class=\"dataframe\">\n",
       "  <thead>\n",
       "    <tr style=\"text-align: right;\">\n",
       "      <th></th>\n",
       "      <th>True Label</th>\n",
       "      <th>Predicted Label</th>\n",
       "      <th>CO</th>\n",
       "    </tr>\n",
       "    <tr>\n",
       "      <th>City</th>\n",
       "      <th></th>\n",
       "      <th></th>\n",
       "      <th></th>\n",
       "    </tr>\n",
       "  </thead>\n",
       "  <tbody>\n",
       "    <tr>\n",
       "      <th>Málaga</th>\n",
       "      <td>0</td>\n",
       "      <td>1</td>\n",
       "      <td>1.8</td>\n",
       "    </tr>\n",
       "    <tr>\n",
       "      <th>Budapest</th>\n",
       "      <td>0</td>\n",
       "      <td>1</td>\n",
       "      <td>4.4</td>\n",
       "    </tr>\n",
       "    <tr>\n",
       "      <th>Szeged</th>\n",
       "      <td>1</td>\n",
       "      <td>0</td>\n",
       "      <td>2.3</td>\n",
       "    </tr>\n",
       "    <tr>\n",
       "      <th>Prato</th>\n",
       "      <td>0</td>\n",
       "      <td>1</td>\n",
       "      <td>0.1</td>\n",
       "    </tr>\n",
       "    <tr>\n",
       "      <th>Lampang</th>\n",
       "      <td>1</td>\n",
       "      <td>0</td>\n",
       "      <td>0.1</td>\n",
       "    </tr>\n",
       "    <tr>\n",
       "      <th>Nashik</th>\n",
       "      <td>1</td>\n",
       "      <td>0</td>\n",
       "      <td>4.2</td>\n",
       "    </tr>\n",
       "    <tr>\n",
       "      <th>Strasbourg</th>\n",
       "      <td>1</td>\n",
       "      <td>0</td>\n",
       "      <td>0.1</td>\n",
       "    </tr>\n",
       "    <tr>\n",
       "      <th>Valladolid</th>\n",
       "      <td>0</td>\n",
       "      <td>1</td>\n",
       "      <td>0.1</td>\n",
       "    </tr>\n",
       "    <tr>\n",
       "      <th>Kumamoto</th>\n",
       "      <td>1</td>\n",
       "      <td>0</td>\n",
       "      <td>2.3</td>\n",
       "    </tr>\n",
       "    <tr>\n",
       "      <th>Nizhniy novgorod</th>\n",
       "      <td>0</td>\n",
       "      <td>1</td>\n",
       "      <td>2.7</td>\n",
       "    </tr>\n",
       "    <tr>\n",
       "      <th>Córdoba</th>\n",
       "      <td>1</td>\n",
       "      <td>0</td>\n",
       "      <td>2.4</td>\n",
       "    </tr>\n",
       "  </tbody>\n",
       "</table>\n",
       "</div>"
      ],
      "text/plain": [
       "                  True Label  Predicted Label   CO\n",
       "City                                              \n",
       "Málaga                     0                1  1.8\n",
       "Budapest                   0                1  4.4\n",
       "Szeged                     1                0  2.3\n",
       "Prato                      0                1  0.1\n",
       "Lampang                    1                0  0.1\n",
       "Nashik                     1                0  4.2\n",
       "Strasbourg                 1                0  0.1\n",
       "Valladolid                 0                1  0.1\n",
       "Kumamoto                   1                0  2.3\n",
       "Nizhniy novgorod           0                1  2.7\n",
       "Córdoba                    1                0  2.4"
      ]
     },
     "execution_count": 38,
     "metadata": {},
     "output_type": "execute_result"
    }
   ],
   "source": [
    "# Falsch klassifizierte Städte finden\n",
    "incorrect_predictions = X_test.copy()\n",
    "incorrect_predictions['True Label'] = y_test\n",
    "incorrect_predictions['Predicted Label'] = y_pred_rf\n",
    "\n",
    "# Nur falsch klassifizierte Städte herausfiltern\n",
    "incorrect_predictions = incorrect_predictions[incorrect_predictions['True Label'] != incorrect_predictions['Predicted Label']]\n",
    "\n",
    "# CO-Werte der falsch klassifizierten Städte\n",
    "incorrect_predictions['CO'] = X_test.loc[incorrect_predictions.index, 'Co']\n",
    "\n",
    "# Ausgabe der Städte mit ihren CO-Werten\n",
    "incorrect_predictions[['True Label', 'Predicted Label', 'CO']]\n"
   ]
  },
  {
   "cell_type": "code",
   "execution_count": 39,
   "metadata": {},
   "outputs": [
    {
     "name": "stdout",
     "output_type": "stream",
     "text": [
      "Durchschnittlicher CO-Wert: 1.86\n",
      "Standardabweichung: 1.60\n",
      "Minimaler CO-Wert: 0.10\n",
      "Maximaler CO-Wert: 4.40\n",
      "Interquartilsabstand (IQR): 2.45\n"
     ]
    }
   ],
   "source": [
    "# CO-Werte der falsch klassifizierten Städte\n",
    "co_values = incorrect_predictions['CO']\n",
    "\n",
    "# Berechne die wichtigsten Statistiken (Durchschnitt, IQR)\n",
    "co_mean = co_values.mean()\n",
    "co_std = co_values.std()\n",
    "co_min = co_values.min()\n",
    "co_max = co_values.max()\n",
    "\n",
    "# Berechne Interquartilsabstand (IQR)\n",
    "Q1 = co_values.quantile(0.25)\n",
    "Q3 = co_values.quantile(0.75)\n",
    "IQR = Q3 - Q1\n",
    "\n",
    "# Anzeigen der CO-Statistiken\n",
    "print(f\"Durchschnittlicher CO-Wert: {co_mean:.2f}\")\n",
    "print(f\"Standardabweichung: {co_std:.2f}\")\n",
    "print(f\"Minimaler CO-Wert: {co_min:.2f}\")\n",
    "print(f\"Maximaler CO-Wert: {co_max:.2f}\")\n",
    "print(f\"Interquartilsabstand (IQR): {IQR:.2f}\")\n"
   ]
  },
  {
   "cell_type": "markdown",
   "metadata": {},
   "source": [
    "Hier muss man noch nachdenken, wie man das Modell verbessern kann. Man sollte die falsch zugeordneten Städte überprüfen, ob da mit den Daten was nicht stimmt. Und dann noch die Hyperparameter besser einstellen und so. Nicht mehr heute."
   ]
  },
  {
   "cell_type": "markdown",
   "metadata": {},
   "source": [
    "## Modell 3: Gradient Boosting"
   ]
  },
  {
   "cell_type": "code",
   "execution_count": 40,
   "metadata": {},
   "outputs": [
    {
     "name": "stdout",
     "output_type": "stream",
     "text": [
      "              precision    recall  f1-score   support\n",
      "\n",
      "           0       0.79      0.89      0.84        35\n",
      "           1       0.90      0.83      0.86        46\n",
      "\n",
      "    accuracy                           0.85        81\n",
      "   macro avg       0.85      0.86      0.85        81\n",
      "weighted avg       0.86      0.85      0.85        81\n",
      "\n",
      "[[31  4]\n",
      " [ 8 38]]\n"
     ]
    }
   ],
   "source": [
    "# Gradient Boosting Modell erstellen\n",
    "gb_model = GradientBoostingClassifier(n_estimators=100, random_state=42)\n",
    "\n",
    "# Modell trainieren\n",
    "gb_model.fit(X_train, y_train)\n",
    "\n",
    "# Vorhersagen & Bewertung\n",
    "y_pred_gb = gb_model.predict(X_test)\n",
    "print(classification_report(y_test, y_pred_gb))\n",
    "# print(confusion_matrix(y_test, y_pred_gb))\n"
   ]
  },
  {
   "cell_type": "code",
   "execution_count": 41,
   "metadata": {},
   "outputs": [
    {
     "name": "stdout",
     "output_type": "stream",
     "text": [
      "                     Vorhergesagt Negativ  Vorhergesagt Positiv\n",
      "Tatsächlich Negativ                    31                     4\n",
      "Tatsächlich Positiv                     8                    38\n"
     ]
    }
   ],
   "source": [
    "cm = confusion_matrix(y_test, y_pred_gb)\n",
    "\n",
    "cm_df = pd.DataFrame(cm, \n",
    "                     index=[\"Tatsächlich Negativ\", \"Tatsächlich Positiv\"], \n",
    "                     columns=[\"Vorhergesagt Negativ\", \"Vorhergesagt Positiv\"])\n",
    "\n",
    "print(cm_df)"
   ]
  },
  {
   "cell_type": "code",
   "execution_count": 42,
   "metadata": {},
   "outputs": [
    {
     "data": {
      "image/png": "[encoded data removed]",
      "text/plain": [
       "<Figure size 640x480 with 2 Axes>"
      ]
     },
     "metadata": {},
     "output_type": "display_data"
    }
   ],
   "source": [
    "sns.heatmap(cm_df, annot=True, fmt=\"d\", cmap=\"Blues\")\n",
    "plt.ylabel(\"Tatsächliche Werte\")\n",
    "plt.xlabel(\"Vorhergesagte Werte\");"
   ]
  }
 ],
 "metadata": {
  "kernelspec": {
   "display_name": ".venv",
   "language": "python",
   "name": "python3"
  },
  "language_info": {
   "codemirror_mode": {
    "name": "ipython",
    "version": 3
   },
   "file_extension": ".py",
   "mimetype": "text/x-python",
   "name": "python",
   "nbconvert_exporter": "python",
   "pygments_lexer": "ipython3",
   "version": "3.11.4"
  }
 },
 "nbformat": 4,
 "nbformat_minor": 2
}
