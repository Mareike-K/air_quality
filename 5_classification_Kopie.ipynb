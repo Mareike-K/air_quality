{
 "cells": [
  {
   "cell_type": "markdown",
   "metadata": {},
   "source": [
    "# Klassifikation\n",
    "\n",
    "In diesem Notebook werden verschiedene Klassifikationsmodelle trainiert. Ziel ist es, die Städte im Datensatz aufgrund ihrer Feinstaubbelastung in zwei Klassen einzuteilen. Als Zielvariable wird also die Belastung mit mittelgroßen Feinstaubpartikeln (PM2.5, gemessen in µg/m³) angesetzt. \n",
    "\n",
    "Als Schwellenwert werden zwei Ansätze getestet:\n",
    "1. WHO-Richtline von 5 µg/m³: fachlicher Standard\n",
    "2. Median: datengetriebene Größe\n",
    "\n",
    "Als Modelle werden verglichen:\n",
    "1. Logistische Regression\n",
    "2. Random Forest\n",
    "3. Gradient Boosting\n",
    "\n",
    "Verwendet werden verschiedene Module der Python Bibliothek **Scitkit-learn** für maschinelles Lernen\n",
    "\n",
    "📌 **Datenstand:** `cleaned_air_quality_data_2025-03-27.csv`  \n",
    "📁 **Importiert aus:** lokaler Datei (--> gitignore)"
   ]
  },
  {
   "cell_type": "markdown",
   "metadata": {},
   "source": [
    "## 📚 Inhaltsverzeichnis \n",
    "(Diese Art von Inhaltsverzeichnis mit Link funktioniert leider in Notebooks nicht, weil die as JSON gespeichert werden und nicht als HTML...)\n",
    "\n",
    "- [0. Datensatz laden](#0-datensatz-laden)\n",
    "- [1. Vollständige Schadstoffmessungen und geographische Verteilung](#1-vollständige-schadstoffmessungen-und-geographische-verteilung)\n",
    "- [2. Clusterberechnung - mehrstufig](#2-clusterberechnung-mehrstufig)\n",
    "- [3. Clusterbeschreibung mit PCA](#3-clusterbeschreibung-mit-pca)\n",
    "- [4. Geographische Verteilung der Schadstoffcluster](#4-geographische-verteilung-der-schadstoffcluster)\n",
    "- [5. Inhaltliche Interpretation](#5-inhaltliche-interpretation)\n"
   ]
  },
  {
   "cell_type": "markdown",
   "metadata": {},
   "source": [
    "# 0. Datensatz laden"
   ]
  },
  {
   "cell_type": "code",
   "execution_count": 1,
   "metadata": {},
   "outputs": [],
   "source": [
    "# imports\n",
    "import pandas as pd\n",
    "import numpy as np\n",
    "import matplotlib.pyplot as plt\n",
    "import seaborn as sns\n",
    "\n",
    "from sklearn.linear_model import LogisticRegression\n",
    "from sklearn.ensemble import RandomForestClassifier\n",
    "from sklearn.ensemble import GradientBoostingClassifier\n",
    "\n",
    "from sklearn.model_selection import train_test_split\n",
    "from sklearn.metrics import classification_report, confusion_matrix\n",
    "\n",
    "%matplotlib inline"
   ]
  },
  {
   "cell_type": "code",
   "execution_count": null,
   "metadata": {},
   "outputs": [],
   "source": [
    "df = pd.read_csv(\"data/cleaned_air_quality_data_2025-03-27.csv\")\n",
    "df.head()"
   ]
  },
  {
   "cell_type": "markdown",
   "metadata": {},
   "source": [
    "# 1. Dateframe vorbereiten\n",
    "\n",
    "Als Target benutzen wir mittelgroße Feinstaubpartikel (PM2.5), als Features alle anderen Schadstoffe im Datensatz: CO, NO₂, SO₂, O₃ und (im allerersten Modell) PM10.\n",
    "\n",
    "Weil das Imputieren von Werten für nicht vorhandenen Kategorien (Schadstoffen) für eine Stadt nicht mehr als \"Raten\" ist, werden nur Städte in die Analyse mit aufgenommen, für die Messwerte zu allen sechs Luftschadstoffen vorliegen. (--> Wiebke: Was ich meine, ist: Ich kann innerhalb einer Stadt Werte imputieren, aber es ist ziemlicher Quatsch, die Werte von einer Stadt auf die andere zu übertragen, also stadtübergreifend zu imputieren.)\n",
    "\n",
    "Die Luftqualität kann auch auf dem arithmetischen Mittel berechnet werden. Dies hat den Vorteil, dass die natürliche Varianz besser abgebildet wird und den Nachteil, dass Machine-Learning-Modelle sich bei der Klassifikation schlechter abschneiden. Beide Varianten wurden komplett durchgerechnet. Da hier das Verhalten unterschiedlicher Klassifikationsmodelle gezeigt werden soll, wurde für die finale Analyse der Median gewählt.\n",
    "\n",
    "Um ein Klassifikationsmodell zur Vorhersage der Luftqualität von Städten zu erstellen, wird eine Zielvariable mit dem Namen **AirQualityLabel** eingeführt. Diese ordnet jeder Stadt eine von zwei Klassen zu:\n",
    "\n",
    "- 0 → Gute Luftqualität\n",
    "\n",
    "- 1 → Schlechte Luftqualität\n",
    "\n",
    "Die Luftqualität wird aus den Medianen der einzelnen Schadstoffe pro Stadt berechnet.\n"
   ]
  },
  {
   "cell_type": "code",
   "execution_count": null,
   "metadata": {},
   "outputs": [],
   "source": [
    "# Liste relevanter Schadstoffe\n",
    "pollutants = ['Co', 'No2', 'O3', 'Pm10', 'Pm25', 'So2']"
   ]
  },
  {
   "cell_type": "code",
   "execution_count": null,
   "metadata": {},
   "outputs": [],
   "source": [
    "# Mittelwerte pro Stadt berechnen (Index = City)\n",
    "df_median = df.groupby('City')[pollutants].median()"
   ]
  },
  {
   "cell_type": "code",
   "execution_count": null,
   "metadata": {},
   "outputs": [],
   "source": [
    "# Für jede Stadt: Wie viele Mittelwerte sind vorhanden?\n",
    "df_median['Num_Valid_Pollutants'] = df_median[pollutants].notna().sum(axis=1)\n",
    "\n",
    "# Übersicht: Wie viele Städte haben wie viele gültige Schadstoffwerte?\n",
    "coverage_summary = df_median['Num_Valid_Pollutants'].value_counts().sort_index()\n",
    "\n",
    "# Ergebnis anzeigen\n",
    "coverage_summary"
   ]
  },
  {
   "cell_type": "code",
   "execution_count": null,
   "metadata": {},
   "outputs": [],
   "source": [
    "# Nur Städte mit allen 6 Schadstoff-Mittelwerten\n",
    "\n",
    "df_median_complete = df_median[df_median['Num_Valid_Pollutants'] == 6]\n",
    "\n",
    "len(df_median_complete)"
   ]
  },
  {
   "cell_type": "markdown",
   "metadata": {},
   "source": [
    "Der Dataframe enthält nun noch 406 Städte, für die jeweils Wertte für jeden Schadstoff vorliegen."
   ]
  },
  {
   "cell_type": "markdown",
   "metadata": {},
   "source": [
    "# 2. WHO-Richtlinie\n",
    "\n",
    "Als erstes wird die Klasseneinteilung auf der Grundlage einen fachlichen Standards, nämlich des aktuellen WHO-Grenzwerts für PM2.5 von 5 µg/m³ vorgenommen:"
   ]
  },
  {
   "cell_type": "code",
   "execution_count": null,
   "metadata": {},
   "outputs": [],
   "source": [
    "# Anzahl Städte mit guter/schlechter Luft (nach WHO-Grenzwert)\n",
    "(df_median_complete['Pm25'] <= 5).value_counts()"
   ]
  },
  {
   "cell_type": "code",
   "execution_count": null,
   "metadata": {},
   "outputs": [],
   "source": [
    "# Städte mit PM2.5 ≤ 5 µg/m³ filtern\n",
    "clean_cities = df_median_complete[df_median_complete['Pm25'] <= 5]\n",
    "\n",
    "# Ergebnis anzeigen\n",
    "clean_cities"
   ]
  },
  {
   "cell_type": "code",
   "execution_count": null,
   "metadata": {},
   "outputs": [],
   "source": [
    "# Anzahl gültiger PM2.5-Werte pro Stadt\n",
    "pm25_counts = df.groupby('City')['Pm25'].count().sort_values()\n",
    "\n",
    "# Zeige nur die \"sauberen\" Städte\n",
    "pm25_counts.loc[['Plovdiv', 'Yazd']]"
   ]
  },
  {
   "cell_type": "markdown",
   "metadata": {},
   "source": [
    "Dem WHO-Grenzwert entsprechen in unserem Datensatz nur zwei von 406 Städten: Plovdiv (Bulgarien), Yazd (Iran). Bei genauerem Hinschauen fällt allerdings auf, dass es für Plovidiv nur einen einzigen Messwert gibt und für Yazd nur sehr wenige. Die Messwerte sind damit nicht aussagekräftig.\n",
    "\n",
    "Die WHO-Richtline kann also für das Training von Klassifikationsmodellen nicht als Schwellenwert verwendet werden - es hätte keine zweite Klasse, von der es lernen könnte.\n",
    "\n",
    "**OFFENE FRAGE**: Ist es gut, für die restliche Analyse alle Städte drinzulassen, auch wenn sie nur wenige Messwerte pro Schadstoff haben? Sollte man da noch was aussortieren? Oder einfach mal so lassen, weil in der Realität die Datenqualität auch nur selten optimal ist?"
   ]
  },
  {
   "cell_type": "markdown",
   "metadata": {},
   "source": [
    "# 3. Median der Zielvariablen\n",
    "\n",
    "Als Alternative wird der Median als datengetriebener Grenzwert gewählt. Die Einteilung in Städte mit guter und schlechter Luftqualität basiert also auf dem Medianwert der durchschnittlichen PM2.5-Konzentration aller Städte im Datensatz. \n",
    "\n",
    "Durch die Verwendung des Medians entsteht eine ausgewogene Verteilung zwischen den beiden Klassen, die ein stabiles Training und eine faire Bewertung des Modells ermöglicht.\n",
    "\n",
    "Die Berechnung erfolgte folgendermaßen:\n",
    "\n",
    "    pm25_median = df_median['Pm25'].median()\n",
    "    df_median['AirQualityLabel'] = (df_median['Pm25'] > pm25_median).astype(int)\n",
    "\n",
    " Städte mit einem PM2.5-Mittelwert über dem Median werden als \"schlechte Luftqualität\" (1) klassifiziert, alle anderen als \"gute Luftqualität\" (0).\n",
    "\n"
   ]
  },
  {
   "cell_type": "code",
   "execution_count": null,
   "metadata": {},
   "outputs": [],
   "source": [
    "# Median von PM2.5 berechnen\n",
    "pm25_median = df_median['Pm25'].median()\n",
    "\n",
    "# Zielvariable hinzufügen\n",
    "df_median['AirQualityLabel'] = (df_median['Pm25'] > pm25_median).astype(int)"
   ]
  },
  {
   "cell_type": "code",
   "execution_count": null,
   "metadata": {},
   "outputs": [],
   "source": [
    "# Umgang mit NaN-Werten\n",
    "\n",
    "# Anzahl fehlender Werte pro Spalte\n",
    "df[[\"City\"] + pollutants].isna().sum()"
   ]
  },
  {
   "cell_type": "code",
   "execution_count": null,
   "metadata": {},
   "outputs": [],
   "source": [
    "# Anzahl gültiger Werte pro Stadt und Schadstoff\n",
    "df.groupby('City')[pollutants].count().sort_values(by='Pm25')\n"
   ]
  },
  {
   "cell_type": "code",
   "execution_count": null,
   "metadata": {},
   "outputs": [],
   "source": [
    "\n"
   ]
  },
  {
   "cell_type": "markdown",
   "metadata": {},
   "source": [
    "Weil das Imputieren von überhaupt nicht vorhandenen Kategorien (Schadstoffen) für eine Stadt eigentlich nicht mehr als \"Raten\" ist, machen wir das hier nicht und reduzieren die Trainingsdaten auf die 404 Städte, die für alle Schadstoffe Werte gemeldet haben."
   ]
  },
  {
   "cell_type": "code",
   "execution_count": null,
   "metadata": {},
   "outputs": [],
   "source": []
  },
  {
   "cell_type": "code",
   "execution_count": null,
   "metadata": {},
   "outputs": [],
   "source": [
    "df_median_complete.head()"
   ]
  },
  {
   "cell_type": "code",
   "execution_count": null,
   "metadata": {},
   "outputs": [],
   "source": [
    "df_median_complete.shape"
   ]
  },
  {
   "cell_type": "code",
   "execution_count": null,
   "metadata": {},
   "outputs": [],
   "source": [
    "features = ['Co', 'No2', 'O3', 'Pm10', 'So2']\n",
    "X = df_median_complete[features]\n",
    "y = df_median_complete['AirQualityLabel']"
   ]
  },
  {
   "cell_type": "code",
   "execution_count": null,
   "metadata": {},
   "outputs": [],
   "source": [
    "# Wir haben  aktuell 404 Städte in df_median_complete. Davon nehmen wir 80% für das Training und 20% für den Test.\n",
    "# Wir verwenden den Standard-Trainings-Test-Split von scikit-learn.\n",
    "\n",
    "# Split in Trainings- und Testdaten\n",
    "X_train, X_test, y_train, y_test = train_test_split(X, y, test_size=0.2, random_state=42)\n"
   ]
  },
  {
   "cell_type": "markdown",
   "metadata": {},
   "source": [
    "## Modell 1: Logistic Regression"
   ]
  },
  {
   "cell_type": "code",
   "execution_count": null,
   "metadata": {},
   "outputs": [],
   "source": [
    "#  Modelltraining\n",
    "model = LogisticRegression(max_iter=1000)\n",
    "model.fit(X_train, y_train)\n",
    "\n",
    "# Vorhersagen & Bewertung\n",
    "y_pred = model.predict(X_test)\n",
    "print(classification_report(y_test, y_pred))\n",
    "print(confusion_matrix(y_test, y_pred))"
   ]
  },
  {
   "cell_type": "markdown",
   "metadata": {},
   "source": [
    "Wenn wir PM10 als Feature drinlassen, klassifiziert das Modell prima - und das ist auch zu erwarten, weil PM2.5 eine Teilmenge von PM10 ist. Also lassen wir PM10 jetzt mal raus und schauen, was dann passiert:"
   ]
  },
  {
   "cell_type": "code",
   "execution_count": null,
   "metadata": {},
   "outputs": [],
   "source": [
    "features_no_PM10 = ['Co', 'No2', 'O3', 'So2']\n",
    "X = df_median_complete[features_no_PM10]\n",
    "y = df_median_complete['AirQualityLabel']"
   ]
  },
  {
   "cell_type": "code",
   "execution_count": null,
   "metadata": {},
   "outputs": [],
   "source": [
    "# Split in Trainings- und Testdaten\n",
    "X_train, X_test, y_train, y_test = train_test_split(X, y, test_size=0.2, random_state=42)\n",
    "\n",
    "# Modelltraining\n",
    "model = LogisticRegression(max_iter=1000)\n",
    "model.fit(X_train, y_train)\n",
    "\n",
    "# Vorhersagen & Bewertung\n",
    "y_pred = model.predict(X_test)\n",
    "print(classification_report(y_test, y_pred))\n",
    "print(confusion_matrix(y_test, y_pred))\n"
   ]
  },
  {
   "cell_type": "code",
   "execution_count": null,
   "metadata": {},
   "outputs": [],
   "source": [
    "cm = confusion_matrix(y_test, y_pred)\n",
    "\n",
    "cm_df = pd.DataFrame(cm, \n",
    "                     index=[\"Tatsächlich Negativ\", \"Tatsächlich Positiv\"], \n",
    "                     columns=[\"Vorhergesagt Negativ\", \"Vorhergesagt Positiv\"])\n",
    "\n",
    "print(cm_df)"
   ]
  },
  {
   "cell_type": "code",
   "execution_count": null,
   "metadata": {},
   "outputs": [],
   "source": [
    "sns.heatmap(cm_df, annot=True, fmt=\"d\", cmap=\"Blues\")\n",
    "plt.ylabel(\"Tatsächliche Werte\")\n",
    "plt.xlabel(\"Vorhergesagte Werte\");"
   ]
  },
  {
   "cell_type": "markdown",
   "metadata": {},
   "source": [
    "## 🧾 Entscheidung zur Feature-Auswahl: PM10 aus den Features entfernen\n",
    "\n",
    "Um die Luftqualität in Städten zu klassifizieren, wurden zunächst alle Schadstoffe (CO, NO₂, O₃, PM10, PM2.5, SO₂) als Features in das Modell aufgenommen, obwohl PM10 und PM2.5 naturgemäß eine hohe Korrelation aufweisen (über 97%).\n",
    "\n",
    "🔹 Test mit PM10 als Feature:\n",
    "\n",
    "Das Modell erzielte eine hohe Genauigkeit von 91% und einen sehr hohen F1-Score von 0.92 für die Vorhersage von schlechter Luft (Klasse 1).\n",
    "\n",
    "Präzision und Recall bei der Klassifikation von „schlechter Luft“ waren sehr hoch (nahe 1.0), was das Modell besonders präzise bei der Vorhersage von schlechter Luft machte.\n",
    "\n",
    "Allerdings zeigte sich auch, dass das Modell zwischen den Klassen kaum differenzierte, was die klassenspezifische Leistung bei guter Luft (Klasse 0) beeinträchtigte.\n",
    "\n",
    "🔹 Test ohne PM10 als Feature:\n",
    "\n",
    "Nachdem PM10 entfernt wurde, ging die Genauigkeit leicht zurück auf 80% und der F1-Score für schlechte Luft sank von 0.92 auf 0.83.\n",
    "\n",
    "Das Modell zeigt nun jedoch eine ausgewogenere Klassifikation (bevorzogt nicht mehr das Label \"schlechte Luft\") und ist weniger von redundanten Informationen beeinflusst.\n",
    "\n",
    "🧠 Ergebnis:\n",
    "\n",
    "Die Tests haben gezeigt, dass das Modell besser differenziert, wenn PM10 aus den Features entfernt wird. Auch wenn die Gesamtgenauigkeit etwas zurückgeht, ist das Modell nun besser in der Lage, zwischen guter und schlechter Luft zu unterscheiden.\n",
    "Die Entscheidung, PM10 aus den Features zu entfernen, basiert auf der starken Korrelation mit PM2.5, die zu einer Redundanz führte und das Modell verzerrte.\n",
    "\n"
   ]
  },
  {
   "cell_type": "markdown",
   "metadata": {},
   "source": [
    "## Modell 2: Random Forest"
   ]
  },
  {
   "cell_type": "code",
   "execution_count": null,
   "metadata": {},
   "outputs": [],
   "source": [
    "# Features and train test split repeated from previous model, just to make clear what is being used:\n",
    "\n",
    "features_no_PM10 = ['Co', 'No2', 'O3', 'So2']\n",
    "X = df_median_complete[features_no_PM10]\n",
    "y = df_median_complete['AirQualityLabel']\n",
    "\n",
    "# Split in Trainings- und Testdaten\n",
    "X_train, X_test, y_train, y_test = train_test_split(X, y, test_size=0.2, random_state=42)\n"
   ]
  },
  {
   "cell_type": "code",
   "execution_count": null,
   "metadata": {},
   "outputs": [],
   "source": [
    "# Random Forest-Modell erstellen\n",
    "rf_model = RandomForestClassifier(n_estimators=100, random_state=42)\n",
    "\n",
    "# Modell trainieren\n",
    "rf_model.fit(X_train, y_train)\n",
    "\n",
    "y_pred_rf = rf_model.predict(X_test)\n"
   ]
  },
  {
   "cell_type": "code",
   "execution_count": null,
   "metadata": {},
   "outputs": [],
   "source": [
    "# Vorhersagen & Bewertung drucken\n",
    "print(classification_report(y_test, y_pred_rf))\n",
    "# print(confusion_matrix(y_test, y_pred_rf))"
   ]
  },
  {
   "cell_type": "code",
   "execution_count": null,
   "metadata": {},
   "outputs": [],
   "source": [
    "cm = confusion_matrix(y_test, y_pred_rf)\n",
    "\n",
    "cm_df = pd.DataFrame(cm, \n",
    "                     index=[\"Tatsächlich Negativ\", \"Tatsächlich Positiv\"], \n",
    "                     columns=[\"Vorhergesagt Negativ\", \"Vorhergesagt Positiv\"])\n",
    "\n",
    "print(cm_df)"
   ]
  },
  {
   "cell_type": "code",
   "execution_count": null,
   "metadata": {},
   "outputs": [],
   "source": [
    "sns.heatmap(cm_df, annot=True, fmt=\"d\", cmap=\"Blues\")\n",
    "plt.ylabel(\"Tatsächliche Werte\")\n",
    "plt.xlabel(\"Vorhergesagte Werte\");"
   ]
  },
  {
   "cell_type": "code",
   "execution_count": null,
   "metadata": {},
   "outputs": [],
   "source": [
    "# Feature importance extrahieren\n",
    "importances = rf_model.feature_importances_"
   ]
  },
  {
   "cell_type": "code",
   "execution_count": null,
   "metadata": {},
   "outputs": [],
   "source": [
    "# Feature-Importanz in ein DataFrame umwandeln\n",
    "feature_importance_df = pd.DataFrame({\n",
    "    'Feature': features_no_PM10,\n",
    "    'Importance': importances\n",
    "}).sort_values(by='Importance', ascending=False)\n",
    "\n",
    "# Feature-Importanz anzeigen\n",
    "plt.figure(figsize=(8, 4))\n",
    "sns.barplot(x='Importance', y='Feature', data=feature_importance_df, palette='viridis')\n",
    "plt.title('Feature Importance (Random Forest)')\n",
    "plt.xlabel('Importance')\n",
    "plt.ylabel('Feature')\n",
    "plt.tight_layout()\n",
    "plt.show()\n",
    "\n"
   ]
  },
  {
   "cell_type": "markdown",
   "metadata": {},
   "source": [
    "Am wichtigsten für die Klassifizierung ist das Feature \"CO\". Kann es sein, dass die falsch klassifizierten Städte auffällige CO-Werte haben?"
   ]
  },
  {
   "cell_type": "code",
   "execution_count": null,
   "metadata": {},
   "outputs": [],
   "source": [
    "# Falsch klassifizierte Städte finden\n",
    "incorrect_predictions = X_test.copy()\n",
    "incorrect_predictions['True Label'] = y_test\n",
    "incorrect_predictions['Predicted Label'] = y_pred_rf\n",
    "\n",
    "# Nur falsch klassifizierte Städte herausfiltern\n",
    "incorrect_predictions = incorrect_predictions[incorrect_predictions['True Label'] != incorrect_predictions['Predicted Label']]\n",
    "\n",
    "# CO-Werte der falsch klassifizierten Städte\n",
    "incorrect_predictions['CO'] = X_test.loc[incorrect_predictions.index, 'Co']\n",
    "\n",
    "# Ausgabe der Städte mit ihren CO-Werten\n",
    "incorrect_predictions[['True Label', 'Predicted Label', 'CO']]\n"
   ]
  },
  {
   "cell_type": "code",
   "execution_count": null,
   "metadata": {},
   "outputs": [],
   "source": [
    "# CO-Werte der falsch klassifizierten Städte\n",
    "co_values = incorrect_predictions['CO']\n",
    "\n",
    "# Berechne die wichtigsten Statistiken (Durchschnitt, IQR)\n",
    "co_mean = co_values.mean()\n",
    "co_std = co_values.std()\n",
    "co_min = co_values.min()\n",
    "co_max = co_values.max()\n",
    "\n",
    "# Berechne Interquartilsabstand (IQR)\n",
    "Q1 = co_values.quantile(0.25)\n",
    "Q3 = co_values.quantile(0.75)\n",
    "IQR = Q3 - Q1\n",
    "\n",
    "# Anzeigen der CO-Statistiken\n",
    "print(f\"Durchschnittlicher CO-Wert: {co_mean:.2f}\")\n",
    "print(f\"Standardabweichung: {co_std:.2f}\")\n",
    "print(f\"Minimaler CO-Wert: {co_min:.2f}\")\n",
    "print(f\"Maximaler CO-Wert: {co_max:.2f}\")\n",
    "print(f\"Interquartilsabstand (IQR): {IQR:.2f}\")\n"
   ]
  },
  {
   "cell_type": "markdown",
   "metadata": {},
   "source": [
    "Hier muss man noch nachdenken, wie man das Modell verbessern kann. Man sollte die falsch zugeordneten Städte überprüfen, ob da mit den Daten was nicht stimmt. Und dann noch die Hyperparameter besser einstellen und so. Nicht mehr heute."
   ]
  },
  {
   "cell_type": "markdown",
   "metadata": {},
   "source": [
    "## Modell 3: Gradient Boosting"
   ]
  },
  {
   "cell_type": "code",
   "execution_count": null,
   "metadata": {},
   "outputs": [],
   "source": [
    "# Gradient Boosting Modell erstellen\n",
    "gb_model = GradientBoostingClassifier(n_estimators=100, random_state=42)\n",
    "\n",
    "# Modell trainieren\n",
    "gb_model.fit(X_train, y_train)\n",
    "\n",
    "# Vorhersagen & Bewertung\n",
    "y_pred_gb = gb_model.predict(X_test)\n",
    "print(classification_report(y_test, y_pred_gb))\n",
    "# print(confusion_matrix(y_test, y_pred_gb))\n"
   ]
  },
  {
   "cell_type": "code",
   "execution_count": null,
   "metadata": {},
   "outputs": [],
   "source": [
    "cm = confusion_matrix(y_test, y_pred_gb)\n",
    "\n",
    "cm_df = pd.DataFrame(cm, \n",
    "                     index=[\"Tatsächlich Negativ\", \"Tatsächlich Positiv\"], \n",
    "                     columns=[\"Vorhergesagt Negativ\", \"Vorhergesagt Positiv\"])\n",
    "\n",
    "print(cm_df)"
   ]
  },
  {
   "cell_type": "code",
   "execution_count": null,
   "metadata": {},
   "outputs": [],
   "source": [
    "sns.heatmap(cm_df, annot=True, fmt=\"d\", cmap=\"Blues\")\n",
    "plt.ylabel(\"Tatsächliche Werte\")\n",
    "plt.xlabel(\"Vorhergesagte Werte\");"
   ]
  }
 ],
 "metadata": {
  "kernelspec": {
   "display_name": ".venv",
   "language": "python",
   "name": "python3"
  },
  "language_info": {
   "codemirror_mode": {
    "name": "ipython",
    "version": 3
   },
   "file_extension": ".py",
   "mimetype": "text/x-python",
   "name": "python",
   "nbconvert_exporter": "python",
   "pygments_lexer": "ipython3",
   "version": "3.11.4"
  }
 },
 "nbformat": 4,
 "nbformat_minor": 2
}
