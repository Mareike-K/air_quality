{
 "cells": [
  {
   "cell_type": "markdown",
   "metadata": {},
   "source": [
    "# Notebook 0: Datenimport & -bereinigung\n",
    "\n",
    "Dieses Notebook dient als zentrale Schnittstelle zwischen der Rohdatenbeschaffung und der Datenanalyse. Es enthält alle Schritte zum Laden, Kombinieren, Bereinigen und Speichern des Datensatzes in einer für die Analyse geeigneten Form.\n",
    "\n",
    "Benutzt wird das Skript `data_preparation.py`. Dieses enthält die Funktionen `download_files()`,  `data_import()` und `data_cleaning()`. die nacheinander aufgerufen werden müssen. \n",
    "\n",
    "#### `download_files()`\n",
    "Diese Funktion muss nur bei der ersten Verwendung aufgerufen werden, um die Dateien mit Wetter- und Schadstoffmessungen, Geodaten und Populationsgrößen und Zensusergebnissen und herunterzuladen und lokal zu speichern\n",
    "\n",
    "#### `data_import()`\n",
    "Import der Daten aus allen Dateien, die mit 'waqi-covid-' anfangen.\n",
    "Entfernen von Kommentaren, Duplikaten und Umbenennung bestimmter Spaltenwerte.\n",
    "Zusammenführung der DataFrames.\n",
    "\n",
    "#### `data_cleaning()`\n",
    "Diese Funktion übernimmt die erste grobe Bereinigung der Daten und enhält folgende Schritte:\n",
    "- nicht benötigte Spalten löschen\n",
    "- Daten nach Datum, Land, Stadt und Species zusammenfassen, so dass nur ein Messwert je Species (Median) pro Tag/ Stadt verbleibt. Die Spalte Species enthält zunächst noch alle relevanten Messdaten zu Schadstoffen und Wettervariablen.\n",
    "- Spalte Species aufteilen, so dass jede Variable eine eigene Spalte erhält\n",
    "- Städtenamen vereinheitlichen\n",
    "- Datummspalte korrekt formatieren (datetime)\n",
    "\n",
    "Danach werden verschiedene Unterfunktionen aufgerufen:\n",
    "\n",
    "`geo_data()`\n",
    "- fügt aus der Datei airquality-covid19-cities.json Längen- und Breitengrade zu jeder Stadt hinzu\n",
    "- gibt aus, für welceh Städte keine Geodaten gefunden wurden\n",
    "\n",
    "`weather_data()`\n",
    "- ruft mit dem Modul `meteostats` zusätzliche Wetterdaten ab (nächstgelegende Wetterststion auf der Grundlage der Geodaten)\n",
    "- entfernt alle Wettervariablen (Spalten), bei denen mehr als 80% der Daten fehlen\n",
    "\n",
    "`population_data()`\n",
    "- ergänzt aus der Datei `population.csv` zu jeder Stadt die Einwohnerzahl (Merge über Kalenderjahr)\n",
    "- speichert den ergänzten  unter `population_data.csv` --> Wiebke fragen: Wozu?\n",
    "\n",
    "`convert_date()`\n",
    "- generiert aus der Datumsspalte (Date) die drei zusätzlichen Spalten Year, Month, Day --> Wiebke: Die Datummspalte wird weiter entfernt. Warum?\n",
    "\n",
    "Die Funktion `data_cleaning()` wird dann fortgesetzt:\n",
    "- Spaltennamen festlegen\n",
    "- redundante Spalten löschen --> Wiebke: uv ist nicht redundant. Warum muss das noch gelöscht werden? Ist das nicht beim Löschen der Spalten mit weniger als 20% Daten schon rausgeflogen? Und sind 'Precipitation', 'Pressure', 'Uvi', 'Wd' nicht durch die Zeile darüber, wo die Spaltennamen festgelegt werden, nicht ehr schon alle rausgeflogen?\n",
    "- Spalten mit mehr als 90% NaN-Werten löschen --> Wiebke: Können da also wieder neue Spalten entstanden sein?\n",
    "- Bereinigten df als `cleaned_data.csv` speichern\n"
   ]
  },
  {
   "cell_type": "code",
   "execution_count": null,
   "metadata": {},
   "outputs": [],
   "source": [
    "from data_preparation import download_files, data_import, data_cleaning"
   ]
  },
  {
   "cell_type": "code",
   "execution_count": null,
   "metadata": {},
   "outputs": [],
   "source": [
    "# Use only on the first run\n",
    "# download_files"
   ]
  },
  {
   "cell_type": "code",
   "execution_count": null,
   "metadata": {},
   "outputs": [],
   "source": [
    "df = data_import()"
   ]
  },
  {
   "cell_type": "code",
   "execution_count": null,
   "metadata": {},
   "outputs": [],
   "source": [
    "df = data_cleaning(df)"
   ]
  }
 ],
 "metadata": {
  "kernelspec": {
   "display_name": ".venv",
   "language": "python",
   "name": "python3"
  },
  "language_info": {
   "codemirror_mode": {
    "name": "ipython",
    "version": 3
   },
   "file_extension": ".py",
   "mimetype": "text/x-python",
   "name": "python",
   "nbconvert_exporter": "python",
   "pygments_lexer": "ipython3",
   "version": "3.11.4"
  }
 },
 "nbformat": 4,
 "nbformat_minor": 2
}
