{
 "cells": [
  {
   "cell_type": "markdown",
   "metadata": {},
   "source": [
    "# Notebook 0: Datenimport & -bereinigung\n",
    "\n",
    "## Zweck\n",
    "Dieses Notebook dient als zentrale Schnittstelle zwischen der Rohdatenbeschaffung und der Datenanalyse. Es enthält alle Schritte zum Laden, Kombinieren, Bereinigen und Speichern des Datensatzes in einer für die Analyse geeigneten Form.\n",
    "\n",
    "## Struktur (an das anpassen, was wir wirklich machen!!!)\n",
    "1. Datenquellen & Import\n",
    "2. Zusammenführen der Datensätze\n",
    "3. Grobe Bereinigung\n",
    "   - Datentypen anpassen\n",
    "   - Dubletten entfernen\n",
    "   - Inkonsistente Werte behandeln\n",
    "5. Export als `cleaned_data.csv` (bzw. Pickle/Parquet)"
   ]
  },
  {
   "cell_type": "code",
   "execution_count": null,
   "metadata": {},
   "outputs": [],
   "source": [
    "from data_preparation import data_import, data_cleaning"
   ]
  },
  {
   "cell_type": "code",
   "execution_count": null,
   "metadata": {},
   "outputs": [],
   "source": [
    "df = data_import()"
   ]
  },
  {
   "cell_type": "code",
   "execution_count": null,
   "metadata": {},
   "outputs": [],
   "source": [
    "df = data_cleaning(df)"
   ]
  }
 ],
 "metadata": {
  "kernelspec": {
   "display_name": ".venv",
   "language": "python",
   "name": "python3"
  },
  "language_info": {
   "codemirror_mode": {
    "name": "ipython",
    "version": 3
   },
   "file_extension": ".py",
   "mimetype": "text/x-python",
   "name": "python",
   "nbconvert_exporter": "python",
   "pygments_lexer": "ipython3",
   "version": "3.11.4"
  }
 },
 "nbformat": 4,
 "nbformat_minor": 2
}
