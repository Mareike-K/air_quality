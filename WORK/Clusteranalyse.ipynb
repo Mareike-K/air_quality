{
 "cells": [
  {
   "cell_type": "code",
   "execution_count": null,
   "metadata": {},
   "outputs": [],
   "source": [
    "# imports\n",
    "import pandas as pd\n",
    "import os\n",
    "import numpy as np\n",
    "import matplotlib\n",
    "import matplotlib.pyplot as plt\n",
    "import seaborn as sns\n",
    "import datetime\n",
    "%matplotlib inline"
   ]
  },
  {
   "cell_type": "code",
   "execution_count": null,
   "metadata": {},
   "outputs": [],
   "source": [
    "# Settings for displaying floats\n",
    "pd.set_option('display.float_format', '{:,.2f}'.format)"
   ]
  },
  {
   "cell_type": "code",
   "execution_count": null,
   "metadata": {},
   "outputs": [],
   "source": [
    "df = pd.read_csv(\"/Users/mareikekeller/air_quality/data/cleaned_data.csv\")\n",
    "df.head()"
   ]
  },
  {
   "cell_type": "code",
   "execution_count": null,
   "metadata": {},
   "outputs": [],
   "source": [
    "df[\"City\"].nunique()"
   ]
  },
  {
   "cell_type": "code",
   "execution_count": null,
   "metadata": {},
   "outputs": [],
   "source": [
    "# Convert 'Date' column to datetime\n",
    "df['Date'] = pd.to_datetime(df['Date'])\n",
    "\n",
    "# Split 'Date' column into 'year', 'month' and 'day'\n",
    "df['year'] = df['Date'].dt.year\n",
    "df['month'] = df['Date'].dt.month\n",
    "df['day'] = df['Date'].dt.day\n",
    "\n",
    "# Remove 'Date' column\n",
    "if 'Date' in df.columns:\n",
    "    df.drop(columns=['Date'], inplace=True)"
   ]
  },
  {
   "cell_type": "code",
   "execution_count": null,
   "metadata": {},
   "outputs": [],
   "source": [
    "# Daten für 2014 & 2025 entfernen, weil zu wenige Datenpunkte\n",
    "df = df[(df[\"year\"] > 2014) & (df[\"year\"] < 2025)]"
   ]
  },
  {
   "cell_type": "code",
   "execution_count": null,
   "metadata": {},
   "outputs": [],
   "source": [
    "# Display the first 5 rows of the dataframe\n",
    "df.head()"
   ]
  },
  {
   "cell_type": "code",
   "execution_count": null,
   "metadata": {},
   "outputs": [],
   "source": [
    "df.shape"
   ]
  },
  {
   "cell_type": "code",
   "execution_count": null,
   "metadata": {},
   "outputs": [],
   "source": [
    "# Berechnen, wie viele Prozent der Werte pro Spalte fehlen\n",
    "missing_percent = df.isna().mean() * 100  \n",
    "\n",
    "# Spalten auswählen, die weniger als 50% fehlende Werte haben\n",
    "df_cleaned = df.loc[:, missing_percent <= 53]\n",
    "\n",
    "# Ergebnis ausgeben\n",
    "print(f\"Anzahl der entfernten Spalten: {df.shape[1] - df_cleaned.shape[1]}\")\n",
    "print(\"Übrige Spalten:\", df_cleaned.columns)\n"
   ]
  },
  {
   "cell_type": "code",
   "execution_count": null,
   "metadata": {},
   "outputs": [],
   "source": [
    "df_cleaned[\"City\"].nunique()"
   ]
  },
  {
   "cell_type": "code",
   "execution_count": null,
   "metadata": {},
   "outputs": [],
   "source": [
    "# Liste der Schadstoff-Features für das Clustering\n",
    "pollutants = [\"co\", \"no2\", \"o3\", \"so2\", \"pm10\", \"pm25\"]"
   ]
  },
  {
   "cell_type": "code",
   "execution_count": null,
   "metadata": {},
   "outputs": [],
   "source": [
    "# Mit Heatmap herausfinden, welche Städte für welche Schadstoffe fehlende Werte haben\n",
    "\n",
    "# DataFrame mit den Schadstoffen pro Stadt erstellen\n",
    "df_missing = df_cleaned.groupby(\"City\")[pollutants].mean()\n",
    "\n",
    "# Boolean-Maske für fehlende Werte erstellen (True = fehlend, False = vorhanden)\n",
    "missing_data = df_missing.isna()\n",
    "\n",
    "# Größe der Grafik anpassen\n",
    "plt.figure(figsize=(8, 20))\n",
    "\n",
    "# Heatmap zeichnen (dunklere Farben = mehr fehlende Werte)\n",
    "sns.heatmap(missing_data, cmap=\"coolwarm\", cbar=False, linewidths=0.5)\n",
    "\n",
    "# Achsentitel setzen\n",
    "plt.xlabel(\"Schadstoffe\")\n",
    "plt.ylabel(\"Städte\")\n",
    "plt.title(\"Heatmap der fehlenden Werte pro Stadt und Schadstoff\")\n"
   ]
  },
  {
   "cell_type": "code",
   "execution_count": null,
   "metadata": {},
   "outputs": [],
   "source": [
    "missing_per_city = df_missing.isna().sum(axis=1)\n",
    "missing_per_city_sorted = missing_per_city.sort_values(ascending=False)\n",
    "print(missing_per_city_sorted.to_string())\n"
   ]
  },
  {
   "cell_type": "code",
   "execution_count": null,
   "metadata": {},
   "outputs": [],
   "source": [
    "# Clusteranalyse zur Schadstoffbelastung\n",
    "\n",
    "from sklearn.preprocessing import StandardScaler\n",
    "from sklearn.cluster import KMeans\n",
    "\n",
    "# Liste der Schadstoff-Features für das Clustering\n",
    "pollutants = [\"co\", \"no2\", \"o3\", \"so2\", \"pm10\", \"pm25\"]\n",
    "\n",
    "# Durchschnittliche Schadstoffwerte pro Stadt berechnen\n",
    "df_cluster = df_cleaned.groupby(\"City\")[pollutants].mean().dropna()\n",
    "\n"
   ]
  },
  {
   "cell_type": "code",
   "execution_count": null,
   "metadata": {},
   "outputs": [],
   "source": [
    "df_cluster.head()"
   ]
  },
  {
   "cell_type": "code",
   "execution_count": null,
   "metadata": {},
   "outputs": [],
   "source": [
    "df_cluster.shape"
   ]
  },
  {
   "cell_type": "code",
   "execution_count": null,
   "metadata": {},
   "outputs": [],
   "source": [
    "# Daten skalieren (K-Means ist empfindlich gegenüber unterschiedlichen Skalen)\n",
    "scaler = StandardScaler()\n",
    "df_scaled = scaler.fit_transform(df_cluster)\n",
    "\n",
    "# Ergebnis als DataFrame zurückgeben\n",
    "df_cluster_scaled = pd.DataFrame(df_scaled, index=df_cluster.index, columns=pollutants)\n",
    "\n",
    "# Überprüfen, ob die Daten korrekt vorbereitet sind\n",
    "df_cluster_scaled.head()"
   ]
  },
  {
   "cell_type": "code",
   "execution_count": null,
   "metadata": {},
   "outputs": [],
   "source": [
    "# Teste verschiedene Clusterzahlen (k = 1 bis 10)\n",
    "inertia = []\n",
    "k_values = range(1, 31)\n",
    "\n",
    "for k in k_values:\n",
    "    kmeans = KMeans(n_clusters=k, random_state=42, n_init=10)\n",
    "    kmeans.fit(df_cluster_scaled)\n",
    "    inertia.append(kmeans.inertia_)  # Speichert den Fehler (Inertia)\n",
    "\n",
    "# Elbow-Plot erstellen\n",
    "plt.figure(figsize=(8, 5))\n",
    "plt.plot(k_values, inertia, marker='o', linestyle='-')\n",
    "plt.xlabel(\"Anzahl der Cluster (k)\")\n",
    "plt.ylabel(\"Inertia (Fehler)\")\n",
    "plt.title(\"Elbow-Methode zur Bestimmung der optimalen Clusterzahl\")\n",
    "plt.grid(True);"
   ]
  },
  {
   "cell_type": "code",
   "execution_count": null,
   "metadata": {},
   "outputs": [],
   "source": [
    "# K-Means-Clustering\n",
    "kmeans = KMeans(n_clusters=5, random_state=42, n_init=10)\n",
    "df_cluster_scaled[\"Cluster\"] = kmeans.fit_predict(df_cluster_scaled)\n",
    "\n",
    "# Neue Cluster-Zuordnung der Städte anzeigen\n",
    "df_clusters_no_outliers = df_cluster_scaled[[\"Cluster\"]].sort_values(by=\"Cluster\")\n",
    "df_clusters_no_outliers"
   ]
  },
  {
   "cell_type": "code",
   "execution_count": null,
   "metadata": {},
   "outputs": [],
   "source": [
    "df_clusters_no_outliers.shape"
   ]
  },
  {
   "cell_type": "markdown",
   "metadata": {},
   "source": [
    "Entscheidung: 5 Cluster sind gut - aber Teheran it so dreckig, dass es allein sein eigens Cluster bildet. Also nehmen wir es erst mal raus, damit es die anderen Cluster nicht verzerrt. Dadurch nehmen wir für die Clusteranalyse aber nur noch 4 Cluster."
   ]
  },
  {
   "cell_type": "code",
   "execution_count": null,
   "metadata": {},
   "outputs": [],
   "source": [
    "# Teheran aus dem DataFrame entfernen\n",
    "df_cluster_no_tehran = df_cluster_scaled.drop(index=\"Tehran\")\n",
    "\n",
    "# K-Means erneut ausführen mit 4 Clustern (oder einer anderen optimalen Zahl)\n",
    "kmeans = KMeans(n_clusters=4, random_state=42, n_init=10)\n",
    "df_cluster_no_tehran[\"Cluster\"] = kmeans.fit_predict(df_cluster_no_tehran)\n",
    "\n",
    "# Neue Cluster-Zugehörigkeit der Städte anzeigen\n",
    "df_clusters_no_tehran = df_cluster_no_tehran[[\"Cluster\"]]\n",
    "df_clusters_no_tehran_sorted = df_clusters_no_tehran.sort_values(by=\"Cluster\")  # Sortiert nach Cluster\n",
    "df_clusters_no_tehran_sorted"
   ]
  },
  {
   "cell_type": "code",
   "execution_count": null,
   "metadata": {},
   "outputs": [],
   "source": [
    "df_clusters_no_tehran_sorted.shape"
   ]
  },
  {
   "cell_type": "code",
   "execution_count": null,
   "metadata": {},
   "outputs": [],
   "source": [
    "type(df_clusters_no_tehran_sorted)"
   ]
  },
  {
   "cell_type": "code",
   "execution_count": null,
   "metadata": {},
   "outputs": [],
   "source": [
    "# Cluster-Labels zu df_cluster hinzufügen\n",
    "df_clusters_no_tehran_sorted[\"Cluster\"] = kmeans.labels_\n",
    "\n",
    "# Merge mit ursprünglichem DataFrame\n",
    "df = df.merge(df_clusters_no_tehran_sorted[[\"Cluster\"]], left_on=\"City\", right_index=True, how=\"left\")\n",
    "\n",
    "# Überprüfen, ob die Cluster-Zuordnung funktioniert hat\n",
    "df.head(20)\n"
   ]
  }
 ],
 "metadata": {
  "kernelspec": {
   "display_name": ".venv",
   "language": "python",
   "name": "python3"
  },
  "language_info": {
   "codemirror_mode": {
    "name": "ipython",
    "version": 3
   },
   "file_extension": ".py",
   "mimetype": "text/x-python",
   "name": "python",
   "nbconvert_exporter": "python",
   "pygments_lexer": "ipython3",
   "version": "3.11.4"
  }
 },
 "nbformat": 4,
 "nbformat_minor": 2
}
