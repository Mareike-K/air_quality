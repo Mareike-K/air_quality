{
 "cells": [
  {
   "cell_type": "code",
   "execution_count": null,
   "metadata": {},
   "outputs": [],
   "source": [
    "# imports\n",
    "import pandas as pd\n",
    "import os\n",
    "import numpy as np\n",
    "import matplotlib\n",
    "import matplotlib.pyplot as plt\n",
    "import seaborn as sns\n",
    "import datetime\n",
    "%matplotlib inline"
   ]
  },
  {
   "cell_type": "code",
   "execution_count": null,
   "metadata": {},
   "outputs": [],
   "source": [
    "# Settings for displaying floats\n",
    "pd.set_option('display.float_format', '{:,.2f}'.format)"
   ]
  },
  {
   "cell_type": "code",
   "execution_count": null,
   "metadata": {},
   "outputs": [],
   "source": [
    "df = pd.read_csv(\"/Users/mareikekeller/air_quality/data/cleaned_data.csv\")\n",
    "df.head()"
   ]
  },
  {
   "cell_type": "code",
   "execution_count": null,
   "metadata": {},
   "outputs": [],
   "source": [
    "# Data preparation: Manipulating the 'Date' column\n",
    "\n",
    "# Convert 'Date' column to datetime\n",
    "df['Date'] = pd.to_datetime(df['Date'])\n",
    "\n",
    "# Split 'Date' column into 'year', 'month' and 'day'\n",
    "df['year'] = df['Date'].dt.year\n",
    "df['month'] = df['Date'].dt.month\n",
    "df['day'] = df['Date'].dt.day\n",
    "\n",
    "# Remove 'Date' column\n",
    "if 'Date' in df.columns:\n",
    "    df.drop(columns=['Date'], inplace=True)"
   ]
  },
  {
   "cell_type": "code",
   "execution_count": null,
   "metadata": {},
   "outputs": [],
   "source": [
    "# Daten für 2014 & 2025 entfernen, weil zu wenige Datenpunkte\n",
    "\n",
    "df = df[(df[\"year\"] > 2014) & (df[\"year\"] < 2025)]"
   ]
  },
  {
   "cell_type": "code",
   "execution_count": null,
   "metadata": {},
   "outputs": [],
   "source": [
    "# Tehran komplett entfernen, weil die Schadstoffwerte zu sehr von allen übrigen Städten abweichen\n",
    "df = df[df[\"City\"] != \"Tehran\"]"
   ]
  },
  {
   "cell_type": "code",
   "execution_count": null,
   "metadata": {},
   "outputs": [],
   "source": [
    "# Display the first 5 rows of the dataframe\n",
    "df.head()"
   ]
  },
  {
   "cell_type": "code",
   "execution_count": null,
   "metadata": {},
   "outputs": [],
   "source": [
    "# Spalten mit zu vielen fehlenden Werten entfernen\n",
    "\n",
    "# Berechnen, wie viele Prozent der Werte pro Spalte fehlen\n",
    "missing_percent = df.isna().mean() * 100  \n",
    "\n",
    "# Spalten auswählen, die weniger als 50% fehlende Werte haben\n",
    "df_cleaned = df.loc[:, missing_percent <= 53]\n",
    "\n",
    "# Ergebnis ausgeben\n",
    "print(f\"Anzahl der entfernten Spalten: {df.shape[1] - df_cleaned.shape[1]}\")\n",
    "print(\"Übrige Spalten:\", df_cleaned.columns)"
   ]
  },
  {
   "cell_type": "code",
   "execution_count": null,
   "metadata": {},
   "outputs": [],
   "source": [
    "weather_vars = [\"dew\", \"humidity\", \"pressure\", \"temperature\", \"wind-speed\"]\n",
    "\n",
    "df_weather = df.groupby(\"City\")[weather_vars].mean()\n",
    "df_weather.head()"
   ]
  },
  {
   "cell_type": "code",
   "execution_count": null,
   "metadata": {},
   "outputs": [],
   "source": [
    "# Fehlende Werte interpolieren: lineare Interpolation; die ist möglich, weil wir Daten aus mehreren Jahren haben, d.h. wir schätzen die fehlenden Werte anhand der Werte, die vor und nach dem fehlenden Wert liegen\n",
    "\n",
    "df_weather.interpolate(method=\"linear\", inplace=True)"
   ]
  },
  {
   "cell_type": "code",
   "execution_count": null,
   "metadata": {},
   "outputs": [],
   "source": [
    "from sklearn.preprocessing import StandardScaler\n",
    "from sklearn.cluster import KMeans\n",
    "\n",
    "# Wetterdaten skalieren (K-Means ist empfindlich gegenüber Skalen)\n",
    "scaler = StandardScaler()\n",
    "df_weather_scaled = scaler.fit_transform(df_weather)\n",
    "\n",
    "# Optimale Clusteranzahl bestimmen (Elbow-Methode)\n",
    "wcss = []\n",
    "for k in range(1, 31):\n",
    "    kmeans = KMeans(n_clusters=k, random_state=42, n_init=10)\n",
    "    kmeans.fit(df_weather_scaled)\n",
    "    wcss.append(kmeans.inertia_)\n",
    "\n",
    "# Elbow-Plot anzeigen\n",
    "import matplotlib.pyplot as plt\n",
    "\n",
    "plt.figure(figsize=(8, 5))\n",
    "plt.plot(range(1, 31), wcss, marker=\"o\", linestyle=\"--\")\n",
    "plt.xlabel(\"Anzahl der Cluster (k)\")\n",
    "plt.ylabel(\"WCSS (Within-Cluster Sum of Squares)\")\n",
    "plt.title(\"Elbow-Methode zur Bestimmung der optimalen Clusteranzahl\")\n",
    "plt.show()\n"
   ]
  },
  {
   "cell_type": "code",
   "execution_count": null,
   "metadata": {},
   "outputs": [],
   "source": [
    "# K-Means mit k=5 durchführen\n",
    "kmeans = KMeans(n_clusters=5, random_state=42, n_init=10)\n",
    "df_weather[\"Weather_Cluster\"] = kmeans.fit_predict(df_weather_scaled)"
   ]
  },
  {
   "cell_type": "code",
   "execution_count": null,
   "metadata": {},
   "outputs": [],
   "source": [
    "# Neue Cluster-Zuordnung der Städte anzeigen\n",
    "df_weather_numbers = df_weather[[\"Weather_Cluster\"]].sort_values(by=\"Weather_Cluster\")\n",
    "df_weather_numbers"
   ]
  },
  {
   "cell_type": "code",
   "execution_count": null,
   "metadata": {},
   "outputs": [],
   "source": [
    "df_cluster = pd.read_csv(\"df_cluster.csv\", index_col=0)  # Index wiederherstellen\n",
    "df_cluster.head()  # Überprüfen, ob die Daten korrekt geladen wurden\n"
   ]
  },
  {
   "cell_type": "code",
   "execution_count": null,
   "metadata": {},
   "outputs": [],
   "source": [
    "df_combined = df_weather.merge(df_cluster, left_index=True, right_index=True)\n",
    "\n"
   ]
  },
  {
   "cell_type": "code",
   "execution_count": null,
   "metadata": {},
   "outputs": [],
   "source": [
    "df_combined.head()"
   ]
  },
  {
   "cell_type": "code",
   "execution_count": null,
   "metadata": {},
   "outputs": [],
   "source": [
    "len(df_combined)"
   ]
  },
  {
   "cell_type": "code",
   "execution_count": null,
   "metadata": {},
   "outputs": [],
   "source": [
    "import seaborn as sns\n",
    "import matplotlib.pyplot as plt\n",
    "\n",
    "plt.figure(figsize=(10, 6))\n",
    "sns.boxplot(x=\"Weather_Cluster\", y=\"pm25\", data=df_combined)\n",
    "plt.xlabel(\"Wetter-Cluster\")\n",
    "plt.ylabel(\"PM2.5-Wert\")\n",
    "plt.title(\"Luftverschmutzung pro Wetter-Cluster\")\n",
    "plt.show()\n"
   ]
  },
  {
   "cell_type": "code",
   "execution_count": null,
   "metadata": {},
   "outputs": [],
   "source": [
    "# Abweichung vom Cluster-Durchschnitt berechnen\n",
    "df_combined[\"pm25_deviation\"] = df_combined.groupby(\"Weather_Cluster\")[\"pm25\"].transform(lambda x: x - x.mean())\n",
    "\n",
    "# Städte mit deutlich höherer PM2.5-Belastung als ihr Cluster-Durchschnitt\n",
    "outliers = df_combined[df_combined[\"pm25_deviation\"] > df_combined[\"pm25_deviation\"].std() * 1.5]\n",
    "\n",
    "outliers\n"
   ]
  },
  {
   "cell_type": "code",
   "execution_count": null,
   "metadata": {},
   "outputs": [],
   "source": [
    "# Sicherstellen, dass \"City\" eine normale Spalte ist\n",
    "df_combined = df_combined.reset_index()\n",
    "\n",
    "# Scatterplot erstellen\n",
    "plt.figure(figsize=(10, 6))\n",
    "scatter = sns.scatterplot(\n",
    "    x=df_combined[\"temperature\"], \n",
    "    y=df_combined[\"pm25\"], \n",
    "    hue=df_combined[\"Weather_Cluster\"], \n",
    "    palette=\"Set1\", \n",
    "    alpha=0.7\n",
    ")\n",
    "\n",
    "# Städtenamen als Labels hinzufügen\n",
    "for i, row in df_combined.iterrows():\n",
    "    plt.text(row[\"temperature\"], row[\"pm25\"], row[\"City\"], fontsize=9, ha=\"right\", alpha=0.7)\n",
    "\n",
    "# Achsen & Titel\n",
    "plt.xlabel(\"Temperatur (°C)\")\n",
    "plt.ylabel(\"PM2.5-Wert\")\n",
    "plt.title(\"Zusammenhang zwischen Temperatur und Luftverschmutzung\")\n",
    "plt.legend(title=\"Wetter-Cluster\")\n",
    "\n",
    "plt.show()\n"
   ]
  },
  {
   "cell_type": "markdown",
   "metadata": {},
   "source": [
    "Abu Dhabi 🇦🇪\tWüstenstaub (natürliche PM2.5), Öl-Industrie, wenig Wind\n",
    "\n",
    "Delhi 🇮🇳\tVerkehr, Industrie, Kohlekraftwerke, Wetter-Inversionen\n",
    "\n",
    "Shijiazhuang 🇨🇳\tStarke Industrialisierung (Stahlproduktion), Kohlekraftwerke\n",
    "\n",
    "Ulan Bator 🇲🇳\tKohleheizungen im Winter, extreme Kälte, Luftstagnation"
   ]
  },
  {
   "cell_type": "markdown",
   "metadata": {},
   "source": [
    "## Analyse zum Einfluss der Jahreszeit"
   ]
  },
  {
   "cell_type": "code",
   "execution_count": null,
   "metadata": {},
   "outputs": [],
   "source": [
    "df_city_avg = df.groupby(\"City\")[[\"year\", \"month\", \"pm25\"]].mean().reset_index()\n",
    "df_city_avg.head()"
   ]
  },
  {
   "cell_type": "code",
   "execution_count": null,
   "metadata": {},
   "outputs": [],
   "source": [
    "len(df_city_avg)"
   ]
  },
  {
   "cell_type": "code",
   "execution_count": null,
   "metadata": {},
   "outputs": [],
   "source": [
    "df_combined.head()"
   ]
  },
  {
   "cell_type": "code",
   "execution_count": null,
   "metadata": {},
   "outputs": [],
   "source": [
    "len(df_combined)"
   ]
  },
  {
   "cell_type": "code",
   "execution_count": null,
   "metadata": {},
   "outputs": [],
   "source": [
    "# Nur die relevanten Spalten behalten\n",
    "df_monthly = df[[\"City\", \"year\", \"month\", \"pm25\"]].copy()\n",
    "\n",
    "# Sicherstellen, dass \"City\" ein String ist\n",
    "df_monthly[\"City\"] = df_monthly[\"City\"].astype(str)\n",
    "df_combined[\"City\"] = df_combined[\"City\"].astype(str)\n",
    "\n",
    "# Merge mit den Wetter-Clustern aus df_combined\n",
    "df_with_month = df_monthly.merge(df_combined[[\"City\", \"Weather_Cluster\", \"Cluster\"]], on=\"City\", how=\"left\")\n",
    "\n",
    "# Überprüfen, ob der Merge funktioniert hat\n",
    "print(df_with_month.head())\n",
    "print(df_with_month.isna().sum())  # Prüfen, ob Werte fehlen\n",
    "\n"
   ]
  },
  {
   "cell_type": "code",
   "execution_count": null,
   "metadata": {},
   "outputs": [],
   "source": [
    "import seaborn as sns\n",
    "import matplotlib.pyplot as plt\n",
    "\n",
    "plt.figure(figsize=(10, 6))\n",
    "sns.lineplot(data=df_with_month, x=\"month\", y=\"pm25\", hue=\"City\", marker=\"o\")\n",
    "plt.xlabel(\"Monat\")\n",
    "plt.ylabel(\"PM2.5-Wert\")\n",
    "plt.title(\"Luftverschmutzung (PM2.5) in verschiedenen Monaten\")\n",
    "plt.xticks(range(1, 13), [\"Jan\", \"Feb\", \"Mär\", \"Apr\", \"Mai\", \"Jun\", \"Jul\", \"Aug\", \"Sep\", \"Okt\", \"Nov\", \"Dez\"])\n",
    "plt.legend(title=\"Stadt\")\n",
    "plt.show()\n"
   ]
  },
  {
   "cell_type": "code",
   "execution_count": null,
   "metadata": {},
   "outputs": [],
   "source": [
    "# Nur die drei relevanten Städte auswählen\n",
    "selected_cities = [\"Delhi\", \"Shijiazhuang\", \"Ulan Bator\", \"Abu Dhabi\"]\n",
    "df_winter = df_with_month[df_with_month[\"City\"].isin(selected_cities)]\n"
   ]
  },
  {
   "cell_type": "code",
   "execution_count": null,
   "metadata": {},
   "outputs": [],
   "source": [
    "import seaborn as sns\n",
    "import matplotlib.pyplot as plt\n",
    "\n",
    "plt.figure(figsize=(10, 6))\n",
    "sns.lineplot(data=df_winter, x=\"month\", y=\"pm25\", hue=\"City\", marker=\"o\", palette=\"Set1\")\n",
    "plt.xlabel(\"Monat\")\n",
    "plt.ylabel(\"PM2.5-Wert\")\n",
    "plt.title(\"Luftverschmutzung (PM2.5) über das Jahr – Vergleich für Delhi, Shijiazhuang & Ulan Bator\")\n",
    "plt.xticks(range(1, 13), [\"Jan\", \"Feb\", \"Mär\", \"Apr\", \"Mai\", \"Jun\", \"Jul\", \"Aug\", \"Sep\", \"Okt\", \"Nov\", \"Dez\"])\n",
    "plt.legend(title=\"Stadt\")\n",
    "\n",
    "# plt.savefig(\"../Images/pm25_per_month_top_4.png\", dpi=300, bbox_inches=\"tight\")\n",
    "\n",
    "plt.show()\n"
   ]
  }
 ],
 "metadata": {
  "kernelspec": {
   "display_name": ".venv",
   "language": "python",
   "name": "python3"
  },
  "language_info": {
   "codemirror_mode": {
    "name": "ipython",
    "version": 3
   },
   "file_extension": ".py",
   "mimetype": "text/x-python",
   "name": "python",
   "nbconvert_exporter": "python",
   "pygments_lexer": "ipython3",
   "version": "3.11.4"
  }
 },
 "nbformat": 4,
 "nbformat_minor": 2
}
