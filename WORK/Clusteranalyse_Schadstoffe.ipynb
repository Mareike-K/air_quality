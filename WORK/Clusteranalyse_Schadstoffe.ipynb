{
 "cells": [
  {
   "cell_type": "markdown",
   "metadata": {},
   "source": [
    "# Clusteranalyse\n",
    "\n",
    "Schritte zur Vorbereitung, später evtl. schon im Preprossessing erledigt:\n",
    "\n",
    "Format\n",
    "- Datumsspalte in Jahr, Monat, Tag trennen\n",
    "\n",
    "Daten entfernen\n",
    "- **Zeilen** aus 2014 und 2025 entfernen, weil zu wenige Datenpunkte\n",
    "- **Spalten** mit zu vielen fehlenden Werten entfernen (cut-off: 53% missing values)\n",
    "- Alle Einträge für **Tehran** entfernen, weil die Stadt durch ihre extrem hohen Schadstoffwerte die Clusteranalyse verzerrt\n",
    "\n",
    "Aktuell auch noch relevant, aber im großen Datensatz vielleicht nicht mehr\n",
    "- Bestimmen, in welchen der 95 Städte für **alle Schadstoffe** Messwerte vorliegen --> 54 Städte\n",
    "\n",
    "Clusteranalyse\n",
    "- StandardScaler und KMeans importieren\n",
    "- Liste der Schadstoffe definieren (pollutants)\n",
    "- gruppierten (\"City\") und reduzierten (\"dropna\") mit Mittelwerten (\"mean\") df nach Städten und Schadstoffen für als Datengrundlage der Clusteranalyse erstellen (**df_cluster**). df-cluster hat 53 Zeilen (Städte) und 6 Spalten (Schadstoffe)\n",
    "- Daten skalieren (**df_cluster_scaled**)\n",
    "- mit Ellbow-Methode optimale Clusteranzahl bestimmen --> 5 Cluster (Silhouette wurde auch getestet, brachte keinen Mehrwert)\n",
    "- mit Kmeans Clusterzuordnung durchführen (**df_cluster_numbers**)\n",
    "\n",
    "Output\n"
   ]
  },
  {
   "cell_type": "code",
   "execution_count": 3,
   "metadata": {},
   "outputs": [],
   "source": [
    "# imports\n",
    "import pandas as pd\n",
    "import numpy as np\n",
    "import matplotlib.pyplot as plt\n",
    "import seaborn as sns\n",
    "import datetime\n",
    "%matplotlib inline"
   ]
  },
  {
   "cell_type": "code",
   "execution_count": 4,
   "metadata": {},
   "outputs": [],
   "source": [
    "# Settings for displaying floats\n",
    "pd.set_option('display.float_format', '{:,.2f}'.format)"
   ]
  },
  {
   "cell_type": "code",
   "execution_count": 5,
   "metadata": {},
   "outputs": [
    {
     "data": {
      "text/html": [
       "<div>\n",
       "<style scoped>\n",
       "    .dataframe tbody tr th:only-of-type {\n",
       "        vertical-align: middle;\n",
       "    }\n",
       "\n",
       "    .dataframe tbody tr th {\n",
       "        vertical-align: top;\n",
       "    }\n",
       "\n",
       "    .dataframe thead th {\n",
       "        text-align: right;\n",
       "    }\n",
       "</style>\n",
       "<table border=\"1\" class=\"dataframe\">\n",
       "  <thead>\n",
       "    <tr style=\"text-align: right;\">\n",
       "      <th></th>\n",
       "      <th>Year</th>\n",
       "      <th>Month</th>\n",
       "      <th>Day</th>\n",
       "      <th>Country</th>\n",
       "      <th>City</th>\n",
       "      <th>Latitude</th>\n",
       "      <th>Longitude</th>\n",
       "      <th>Population</th>\n",
       "      <th>Co</th>\n",
       "      <th>No2</th>\n",
       "      <th>...</th>\n",
       "      <th>Wind-speed</th>\n",
       "      <th>Dew</th>\n",
       "      <th>Humidity</th>\n",
       "      <th>Tavg</th>\n",
       "      <th>Tmin</th>\n",
       "      <th>Tmax</th>\n",
       "      <th>Prcp</th>\n",
       "      <th>Wdir</th>\n",
       "      <th>Wspd</th>\n",
       "      <th>Pres</th>\n",
       "    </tr>\n",
       "  </thead>\n",
       "  <tbody>\n",
       "    <tr>\n",
       "      <th>0</th>\n",
       "      <td>2014</td>\n",
       "      <td>12</td>\n",
       "      <td>29</td>\n",
       "      <td>AT</td>\n",
       "      <td>Graz</td>\n",
       "      <td>47.07</td>\n",
       "      <td>15.45</td>\n",
       "      <td>269,997.00</td>\n",
       "      <td>0.10</td>\n",
       "      <td>9.00</td>\n",
       "      <td>...</td>\n",
       "      <td>NaN</td>\n",
       "      <td>NaN</td>\n",
       "      <td>NaN</td>\n",
       "      <td>NaN</td>\n",
       "      <td>NaN</td>\n",
       "      <td>NaN</td>\n",
       "      <td>NaN</td>\n",
       "      <td>NaN</td>\n",
       "      <td>NaN</td>\n",
       "      <td>NaN</td>\n",
       "    </tr>\n",
       "    <tr>\n",
       "      <th>1</th>\n",
       "      <td>2014</td>\n",
       "      <td>12</td>\n",
       "      <td>29</td>\n",
       "      <td>AT</td>\n",
       "      <td>Innsbruck</td>\n",
       "      <td>47.26</td>\n",
       "      <td>11.39</td>\n",
       "      <td>124,579.00</td>\n",
       "      <td>0.10</td>\n",
       "      <td>25.60</td>\n",
       "      <td>...</td>\n",
       "      <td>NaN</td>\n",
       "      <td>NaN</td>\n",
       "      <td>NaN</td>\n",
       "      <td>NaN</td>\n",
       "      <td>NaN</td>\n",
       "      <td>NaN</td>\n",
       "      <td>NaN</td>\n",
       "      <td>NaN</td>\n",
       "      <td>NaN</td>\n",
       "      <td>NaN</td>\n",
       "    </tr>\n",
       "    <tr>\n",
       "      <th>2</th>\n",
       "      <td>2014</td>\n",
       "      <td>12</td>\n",
       "      <td>29</td>\n",
       "      <td>AT</td>\n",
       "      <td>Linz</td>\n",
       "      <td>48.31</td>\n",
       "      <td>14.29</td>\n",
       "      <td>193,814.00</td>\n",
       "      <td>0.10</td>\n",
       "      <td>14.20</td>\n",
       "      <td>...</td>\n",
       "      <td>NaN</td>\n",
       "      <td>NaN</td>\n",
       "      <td>NaN</td>\n",
       "      <td>NaN</td>\n",
       "      <td>NaN</td>\n",
       "      <td>NaN</td>\n",
       "      <td>NaN</td>\n",
       "      <td>NaN</td>\n",
       "      <td>NaN</td>\n",
       "      <td>NaN</td>\n",
       "    </tr>\n",
       "    <tr>\n",
       "      <th>3</th>\n",
       "      <td>2014</td>\n",
       "      <td>12</td>\n",
       "      <td>29</td>\n",
       "      <td>AT</td>\n",
       "      <td>Salzburg</td>\n",
       "      <td>47.80</td>\n",
       "      <td>13.04</td>\n",
       "      <td>146,631.00</td>\n",
       "      <td>0.10</td>\n",
       "      <td>21.10</td>\n",
       "      <td>...</td>\n",
       "      <td>NaN</td>\n",
       "      <td>NaN</td>\n",
       "      <td>NaN</td>\n",
       "      <td>NaN</td>\n",
       "      <td>NaN</td>\n",
       "      <td>NaN</td>\n",
       "      <td>NaN</td>\n",
       "      <td>NaN</td>\n",
       "      <td>NaN</td>\n",
       "      <td>NaN</td>\n",
       "    </tr>\n",
       "    <tr>\n",
       "      <th>4</th>\n",
       "      <td>2014</td>\n",
       "      <td>12</td>\n",
       "      <td>29</td>\n",
       "      <td>AT</td>\n",
       "      <td>Vienna</td>\n",
       "      <td>48.21</td>\n",
       "      <td>16.37</td>\n",
       "      <td>NaN</td>\n",
       "      <td>0.10</td>\n",
       "      <td>9.00</td>\n",
       "      <td>...</td>\n",
       "      <td>NaN</td>\n",
       "      <td>NaN</td>\n",
       "      <td>NaN</td>\n",
       "      <td>NaN</td>\n",
       "      <td>NaN</td>\n",
       "      <td>NaN</td>\n",
       "      <td>NaN</td>\n",
       "      <td>NaN</td>\n",
       "      <td>NaN</td>\n",
       "      <td>NaN</td>\n",
       "    </tr>\n",
       "  </tbody>\n",
       "</table>\n",
       "<p>5 rows × 27 columns</p>\n",
       "</div>"
      ],
      "text/plain": [
       "   Year  Month  Day Country       City  Latitude  Longitude  Population   Co  \\\n",
       "0  2014     12   29      AT       Graz     47.07      15.45  269,997.00 0.10   \n",
       "1  2014     12   29      AT  Innsbruck     47.26      11.39  124,579.00 0.10   \n",
       "2  2014     12   29      AT       Linz     48.31      14.29  193,814.00 0.10   \n",
       "3  2014     12   29      AT   Salzburg     47.80      13.04  146,631.00 0.10   \n",
       "4  2014     12   29      AT     Vienna     48.21      16.37         NaN 0.10   \n",
       "\n",
       "    No2  ...  Wind-speed  Dew  Humidity  Tavg  Tmin  Tmax  Prcp  Wdir  Wspd  \\\n",
       "0  9.00  ...         NaN  NaN       NaN   NaN   NaN   NaN   NaN   NaN   NaN   \n",
       "1 25.60  ...         NaN  NaN       NaN   NaN   NaN   NaN   NaN   NaN   NaN   \n",
       "2 14.20  ...         NaN  NaN       NaN   NaN   NaN   NaN   NaN   NaN   NaN   \n",
       "3 21.10  ...         NaN  NaN       NaN   NaN   NaN   NaN   NaN   NaN   NaN   \n",
       "4  9.00  ...         NaN  NaN       NaN   NaN   NaN   NaN   NaN   NaN   NaN   \n",
       "\n",
       "   Pres  \n",
       "0   NaN  \n",
       "1   NaN  \n",
       "2   NaN  \n",
       "3   NaN  \n",
       "4   NaN  \n",
       "\n",
       "[5 rows x 27 columns]"
      ]
     },
     "execution_count": 5,
     "metadata": {},
     "output_type": "execute_result"
    }
   ],
   "source": [
    "df = pd.read_csv(\"../data/cleaned_data.csv\")\n",
    "df.head()"
   ]
  },
  {
   "cell_type": "code",
   "execution_count": 6,
   "metadata": {},
   "outputs": [
    {
     "data": {
      "text/plain": [
       "Year                 0\n",
       "Month                0\n",
       "Day                  0\n",
       "Country              0\n",
       "City                 0\n",
       "Latitude          2827\n",
       "Longitude         2827\n",
       "Population     1330384\n",
       "Co              631350\n",
       "No2             286040\n",
       "O3              373831\n",
       "Pm10            341643\n",
       "Pm25            262612\n",
       "Pressure        392601\n",
       "So2             532580\n",
       "Temperature     386303\n",
       "Wind-gust       918398\n",
       "Wind-speed      412176\n",
       "Dew             694692\n",
       "Humidity        388057\n",
       "Tavg            290171\n",
       "Tmin            315263\n",
       "Tmax            317022\n",
       "Prcp            652617\n",
       "Wdir            522982\n",
       "Wspd            453565\n",
       "Pres            489606\n",
       "dtype: int64"
      ]
     },
     "execution_count": 6,
     "metadata": {},
     "output_type": "execute_result"
    }
   ],
   "source": [
    "df.isna().sum()"
   ]
  },
  {
   "cell_type": "code",
   "execution_count": 8,
   "metadata": {},
   "outputs": [],
   "source": [
    "# # Data preparation: Manipulating the 'Date' column\n",
    "\n",
    "# # Convert 'Date' column to datetime\n",
    "# df['Date'] = pd.to_datetime(df['Date'])\n",
    "\n",
    "# # Split 'Date' column into 'year', 'month' and 'day'\n",
    "# df['year'] = df['Date'].dt.year\n",
    "# df['month'] = df['Date'].dt.month\n",
    "# df['day'] = df['Date'].dt.day\n",
    "\n",
    "# # Remove 'Date' column\n",
    "# if 'Date' in df.columns:\n",
    "#     df.drop(columns=['Date'], inplace=True)"
   ]
  },
  {
   "cell_type": "code",
   "execution_count": 9,
   "metadata": {},
   "outputs": [
    {
     "data": {
      "text/html": [
       "<div>\n",
       "<style scoped>\n",
       "    .dataframe tbody tr th:only-of-type {\n",
       "        vertical-align: middle;\n",
       "    }\n",
       "\n",
       "    .dataframe tbody tr th {\n",
       "        vertical-align: top;\n",
       "    }\n",
       "\n",
       "    .dataframe thead th {\n",
       "        text-align: right;\n",
       "    }\n",
       "</style>\n",
       "<table border=\"1\" class=\"dataframe\">\n",
       "  <thead>\n",
       "    <tr style=\"text-align: right;\">\n",
       "      <th></th>\n",
       "      <th>Year</th>\n",
       "      <th>Month</th>\n",
       "      <th>Day</th>\n",
       "      <th>Country</th>\n",
       "      <th>City</th>\n",
       "      <th>Latitude</th>\n",
       "      <th>Longitude</th>\n",
       "      <th>Population</th>\n",
       "      <th>Co</th>\n",
       "      <th>No2</th>\n",
       "      <th>...</th>\n",
       "      <th>Wind-speed</th>\n",
       "      <th>Dew</th>\n",
       "      <th>Humidity</th>\n",
       "      <th>Tavg</th>\n",
       "      <th>Tmin</th>\n",
       "      <th>Tmax</th>\n",
       "      <th>Prcp</th>\n",
       "      <th>Wdir</th>\n",
       "      <th>Wspd</th>\n",
       "      <th>Pres</th>\n",
       "    </tr>\n",
       "  </thead>\n",
       "  <tbody>\n",
       "    <tr>\n",
       "      <th>0</th>\n",
       "      <td>2014</td>\n",
       "      <td>12</td>\n",
       "      <td>29</td>\n",
       "      <td>AT</td>\n",
       "      <td>Graz</td>\n",
       "      <td>47.07</td>\n",
       "      <td>15.45</td>\n",
       "      <td>269,997.00</td>\n",
       "      <td>0.10</td>\n",
       "      <td>9.00</td>\n",
       "      <td>...</td>\n",
       "      <td>NaN</td>\n",
       "      <td>NaN</td>\n",
       "      <td>NaN</td>\n",
       "      <td>NaN</td>\n",
       "      <td>NaN</td>\n",
       "      <td>NaN</td>\n",
       "      <td>NaN</td>\n",
       "      <td>NaN</td>\n",
       "      <td>NaN</td>\n",
       "      <td>NaN</td>\n",
       "    </tr>\n",
       "    <tr>\n",
       "      <th>1</th>\n",
       "      <td>2014</td>\n",
       "      <td>12</td>\n",
       "      <td>29</td>\n",
       "      <td>AT</td>\n",
       "      <td>Innsbruck</td>\n",
       "      <td>47.26</td>\n",
       "      <td>11.39</td>\n",
       "      <td>124,579.00</td>\n",
       "      <td>0.10</td>\n",
       "      <td>25.60</td>\n",
       "      <td>...</td>\n",
       "      <td>NaN</td>\n",
       "      <td>NaN</td>\n",
       "      <td>NaN</td>\n",
       "      <td>NaN</td>\n",
       "      <td>NaN</td>\n",
       "      <td>NaN</td>\n",
       "      <td>NaN</td>\n",
       "      <td>NaN</td>\n",
       "      <td>NaN</td>\n",
       "      <td>NaN</td>\n",
       "    </tr>\n",
       "    <tr>\n",
       "      <th>2</th>\n",
       "      <td>2014</td>\n",
       "      <td>12</td>\n",
       "      <td>29</td>\n",
       "      <td>AT</td>\n",
       "      <td>Linz</td>\n",
       "      <td>48.31</td>\n",
       "      <td>14.29</td>\n",
       "      <td>193,814.00</td>\n",
       "      <td>0.10</td>\n",
       "      <td>14.20</td>\n",
       "      <td>...</td>\n",
       "      <td>NaN</td>\n",
       "      <td>NaN</td>\n",
       "      <td>NaN</td>\n",
       "      <td>NaN</td>\n",
       "      <td>NaN</td>\n",
       "      <td>NaN</td>\n",
       "      <td>NaN</td>\n",
       "      <td>NaN</td>\n",
       "      <td>NaN</td>\n",
       "      <td>NaN</td>\n",
       "    </tr>\n",
       "    <tr>\n",
       "      <th>3</th>\n",
       "      <td>2014</td>\n",
       "      <td>12</td>\n",
       "      <td>29</td>\n",
       "      <td>AT</td>\n",
       "      <td>Salzburg</td>\n",
       "      <td>47.80</td>\n",
       "      <td>13.04</td>\n",
       "      <td>146,631.00</td>\n",
       "      <td>0.10</td>\n",
       "      <td>21.10</td>\n",
       "      <td>...</td>\n",
       "      <td>NaN</td>\n",
       "      <td>NaN</td>\n",
       "      <td>NaN</td>\n",
       "      <td>NaN</td>\n",
       "      <td>NaN</td>\n",
       "      <td>NaN</td>\n",
       "      <td>NaN</td>\n",
       "      <td>NaN</td>\n",
       "      <td>NaN</td>\n",
       "      <td>NaN</td>\n",
       "    </tr>\n",
       "    <tr>\n",
       "      <th>4</th>\n",
       "      <td>2014</td>\n",
       "      <td>12</td>\n",
       "      <td>29</td>\n",
       "      <td>AT</td>\n",
       "      <td>Vienna</td>\n",
       "      <td>48.21</td>\n",
       "      <td>16.37</td>\n",
       "      <td>NaN</td>\n",
       "      <td>0.10</td>\n",
       "      <td>9.00</td>\n",
       "      <td>...</td>\n",
       "      <td>NaN</td>\n",
       "      <td>NaN</td>\n",
       "      <td>NaN</td>\n",
       "      <td>NaN</td>\n",
       "      <td>NaN</td>\n",
       "      <td>NaN</td>\n",
       "      <td>NaN</td>\n",
       "      <td>NaN</td>\n",
       "      <td>NaN</td>\n",
       "      <td>NaN</td>\n",
       "    </tr>\n",
       "  </tbody>\n",
       "</table>\n",
       "<p>5 rows × 27 columns</p>\n",
       "</div>"
      ],
      "text/plain": [
       "   Year  Month  Day Country       City  Latitude  Longitude  Population   Co  \\\n",
       "0  2014     12   29      AT       Graz     47.07      15.45  269,997.00 0.10   \n",
       "1  2014     12   29      AT  Innsbruck     47.26      11.39  124,579.00 0.10   \n",
       "2  2014     12   29      AT       Linz     48.31      14.29  193,814.00 0.10   \n",
       "3  2014     12   29      AT   Salzburg     47.80      13.04  146,631.00 0.10   \n",
       "4  2014     12   29      AT     Vienna     48.21      16.37         NaN 0.10   \n",
       "\n",
       "    No2  ...  Wind-speed  Dew  Humidity  Tavg  Tmin  Tmax  Prcp  Wdir  Wspd  \\\n",
       "0  9.00  ...         NaN  NaN       NaN   NaN   NaN   NaN   NaN   NaN   NaN   \n",
       "1 25.60  ...         NaN  NaN       NaN   NaN   NaN   NaN   NaN   NaN   NaN   \n",
       "2 14.20  ...         NaN  NaN       NaN   NaN   NaN   NaN   NaN   NaN   NaN   \n",
       "3 21.10  ...         NaN  NaN       NaN   NaN   NaN   NaN   NaN   NaN   NaN   \n",
       "4  9.00  ...         NaN  NaN       NaN   NaN   NaN   NaN   NaN   NaN   NaN   \n",
       "\n",
       "   Pres  \n",
       "0   NaN  \n",
       "1   NaN  \n",
       "2   NaN  \n",
       "3   NaN  \n",
       "4   NaN  \n",
       "\n",
       "[5 rows x 27 columns]"
      ]
     },
     "execution_count": 9,
     "metadata": {},
     "output_type": "execute_result"
    }
   ],
   "source": [
    "df.head()"
   ]
  },
  {
   "cell_type": "code",
   "execution_count": 11,
   "metadata": {},
   "outputs": [],
   "source": [
    "# Tehran komplett entfernen, weil die Schadstoffwerte zu sehr von allen übrigen Städten abweichen\n",
    "df = df[df[\"City\"] != \"Tehran\"]"
   ]
  },
  {
   "cell_type": "code",
   "execution_count": 12,
   "metadata": {},
   "outputs": [
    {
     "name": "stdout",
     "output_type": "stream",
     "text": [
      "Tehran noch im DataFrame? False\n"
     ]
    }
   ],
   "source": [
    "print(\"Tehran noch im DataFrame?\", \"Tehran\" in df[\"City\"].values)"
   ]
  },
  {
   "cell_type": "code",
   "execution_count": 13,
   "metadata": {},
   "outputs": [
    {
     "data": {
      "text/plain": [
       "615"
      ]
     },
     "execution_count": 13,
     "metadata": {},
     "output_type": "execute_result"
    }
   ],
   "source": [
    "df['City'].nunique()"
   ]
  },
  {
   "cell_type": "code",
   "execution_count": 14,
   "metadata": {},
   "outputs": [
    {
     "data": {
      "text/html": [
       "<div>\n",
       "<style scoped>\n",
       "    .dataframe tbody tr th:only-of-type {\n",
       "        vertical-align: middle;\n",
       "    }\n",
       "\n",
       "    .dataframe tbody tr th {\n",
       "        vertical-align: top;\n",
       "    }\n",
       "\n",
       "    .dataframe thead th {\n",
       "        text-align: right;\n",
       "    }\n",
       "</style>\n",
       "<table border=\"1\" class=\"dataframe\">\n",
       "  <thead>\n",
       "    <tr style=\"text-align: right;\">\n",
       "      <th></th>\n",
       "      <th>Year</th>\n",
       "      <th>Month</th>\n",
       "      <th>Day</th>\n",
       "      <th>Country</th>\n",
       "      <th>City</th>\n",
       "      <th>Latitude</th>\n",
       "      <th>Longitude</th>\n",
       "      <th>Population</th>\n",
       "      <th>Co</th>\n",
       "      <th>No2</th>\n",
       "      <th>...</th>\n",
       "      <th>Wind-speed</th>\n",
       "      <th>Dew</th>\n",
       "      <th>Humidity</th>\n",
       "      <th>Tavg</th>\n",
       "      <th>Tmin</th>\n",
       "      <th>Tmax</th>\n",
       "      <th>Prcp</th>\n",
       "      <th>Wdir</th>\n",
       "      <th>Wspd</th>\n",
       "      <th>Pres</th>\n",
       "    </tr>\n",
       "  </thead>\n",
       "  <tbody>\n",
       "    <tr>\n",
       "      <th>0</th>\n",
       "      <td>2014</td>\n",
       "      <td>12</td>\n",
       "      <td>29</td>\n",
       "      <td>AT</td>\n",
       "      <td>Graz</td>\n",
       "      <td>47.07</td>\n",
       "      <td>15.45</td>\n",
       "      <td>269,997.00</td>\n",
       "      <td>0.10</td>\n",
       "      <td>9.00</td>\n",
       "      <td>...</td>\n",
       "      <td>NaN</td>\n",
       "      <td>NaN</td>\n",
       "      <td>NaN</td>\n",
       "      <td>NaN</td>\n",
       "      <td>NaN</td>\n",
       "      <td>NaN</td>\n",
       "      <td>NaN</td>\n",
       "      <td>NaN</td>\n",
       "      <td>NaN</td>\n",
       "      <td>NaN</td>\n",
       "    </tr>\n",
       "    <tr>\n",
       "      <th>1</th>\n",
       "      <td>2014</td>\n",
       "      <td>12</td>\n",
       "      <td>29</td>\n",
       "      <td>AT</td>\n",
       "      <td>Innsbruck</td>\n",
       "      <td>47.26</td>\n",
       "      <td>11.39</td>\n",
       "      <td>124,579.00</td>\n",
       "      <td>0.10</td>\n",
       "      <td>25.60</td>\n",
       "      <td>...</td>\n",
       "      <td>NaN</td>\n",
       "      <td>NaN</td>\n",
       "      <td>NaN</td>\n",
       "      <td>NaN</td>\n",
       "      <td>NaN</td>\n",
       "      <td>NaN</td>\n",
       "      <td>NaN</td>\n",
       "      <td>NaN</td>\n",
       "      <td>NaN</td>\n",
       "      <td>NaN</td>\n",
       "    </tr>\n",
       "    <tr>\n",
       "      <th>2</th>\n",
       "      <td>2014</td>\n",
       "      <td>12</td>\n",
       "      <td>29</td>\n",
       "      <td>AT</td>\n",
       "      <td>Linz</td>\n",
       "      <td>48.31</td>\n",
       "      <td>14.29</td>\n",
       "      <td>193,814.00</td>\n",
       "      <td>0.10</td>\n",
       "      <td>14.20</td>\n",
       "      <td>...</td>\n",
       "      <td>NaN</td>\n",
       "      <td>NaN</td>\n",
       "      <td>NaN</td>\n",
       "      <td>NaN</td>\n",
       "      <td>NaN</td>\n",
       "      <td>NaN</td>\n",
       "      <td>NaN</td>\n",
       "      <td>NaN</td>\n",
       "      <td>NaN</td>\n",
       "      <td>NaN</td>\n",
       "    </tr>\n",
       "    <tr>\n",
       "      <th>3</th>\n",
       "      <td>2014</td>\n",
       "      <td>12</td>\n",
       "      <td>29</td>\n",
       "      <td>AT</td>\n",
       "      <td>Salzburg</td>\n",
       "      <td>47.80</td>\n",
       "      <td>13.04</td>\n",
       "      <td>146,631.00</td>\n",
       "      <td>0.10</td>\n",
       "      <td>21.10</td>\n",
       "      <td>...</td>\n",
       "      <td>NaN</td>\n",
       "      <td>NaN</td>\n",
       "      <td>NaN</td>\n",
       "      <td>NaN</td>\n",
       "      <td>NaN</td>\n",
       "      <td>NaN</td>\n",
       "      <td>NaN</td>\n",
       "      <td>NaN</td>\n",
       "      <td>NaN</td>\n",
       "      <td>NaN</td>\n",
       "    </tr>\n",
       "    <tr>\n",
       "      <th>4</th>\n",
       "      <td>2014</td>\n",
       "      <td>12</td>\n",
       "      <td>29</td>\n",
       "      <td>AT</td>\n",
       "      <td>Vienna</td>\n",
       "      <td>48.21</td>\n",
       "      <td>16.37</td>\n",
       "      <td>NaN</td>\n",
       "      <td>0.10</td>\n",
       "      <td>9.00</td>\n",
       "      <td>...</td>\n",
       "      <td>NaN</td>\n",
       "      <td>NaN</td>\n",
       "      <td>NaN</td>\n",
       "      <td>NaN</td>\n",
       "      <td>NaN</td>\n",
       "      <td>NaN</td>\n",
       "      <td>NaN</td>\n",
       "      <td>NaN</td>\n",
       "      <td>NaN</td>\n",
       "      <td>NaN</td>\n",
       "    </tr>\n",
       "  </tbody>\n",
       "</table>\n",
       "<p>5 rows × 27 columns</p>\n",
       "</div>"
      ],
      "text/plain": [
       "   Year  Month  Day Country       City  Latitude  Longitude  Population   Co  \\\n",
       "0  2014     12   29      AT       Graz     47.07      15.45  269,997.00 0.10   \n",
       "1  2014     12   29      AT  Innsbruck     47.26      11.39  124,579.00 0.10   \n",
       "2  2014     12   29      AT       Linz     48.31      14.29  193,814.00 0.10   \n",
       "3  2014     12   29      AT   Salzburg     47.80      13.04  146,631.00 0.10   \n",
       "4  2014     12   29      AT     Vienna     48.21      16.37         NaN 0.10   \n",
       "\n",
       "    No2  ...  Wind-speed  Dew  Humidity  Tavg  Tmin  Tmax  Prcp  Wdir  Wspd  \\\n",
       "0  9.00  ...         NaN  NaN       NaN   NaN   NaN   NaN   NaN   NaN   NaN   \n",
       "1 25.60  ...         NaN  NaN       NaN   NaN   NaN   NaN   NaN   NaN   NaN   \n",
       "2 14.20  ...         NaN  NaN       NaN   NaN   NaN   NaN   NaN   NaN   NaN   \n",
       "3 21.10  ...         NaN  NaN       NaN   NaN   NaN   NaN   NaN   NaN   NaN   \n",
       "4  9.00  ...         NaN  NaN       NaN   NaN   NaN   NaN   NaN   NaN   NaN   \n",
       "\n",
       "   Pres  \n",
       "0   NaN  \n",
       "1   NaN  \n",
       "2   NaN  \n",
       "3   NaN  \n",
       "4   NaN  \n",
       "\n",
       "[5 rows x 27 columns]"
      ]
     },
     "execution_count": 14,
     "metadata": {},
     "output_type": "execute_result"
    }
   ],
   "source": [
    "# Display the first 5 rows of the dataframe\n",
    "df.head()"
   ]
  },
  {
   "cell_type": "code",
   "execution_count": 15,
   "metadata": {},
   "outputs": [
    {
     "data": {
      "text/plain": [
       "(1691224, 27)"
      ]
     },
     "execution_count": 15,
     "metadata": {},
     "output_type": "execute_result"
    }
   ],
   "source": [
    "df.shape"
   ]
  },
  {
   "cell_type": "code",
   "execution_count": 16,
   "metadata": {},
   "outputs": [
    {
     "name": "stdout",
     "output_type": "stream",
     "text": [
      "Anzahl der entfernten Spalten: 2\n",
      "Übrige Spalten: Index(['Year', 'Month', 'Day', 'Country', 'City', 'Latitude', 'Longitude',\n",
      "       'Co', 'No2', 'O3', 'Pm10', 'Pm25', 'Pressure', 'So2', 'Temperature',\n",
      "       'Wind-speed', 'Dew', 'Humidity', 'Tavg', 'Tmin', 'Tmax', 'Prcp', 'Wdir',\n",
      "       'Wspd', 'Pres'],\n",
      "      dtype='object')\n"
     ]
    }
   ],
   "source": [
    "# Spalten mit zu vielen fehlenden Werten entfernen\n",
    "\n",
    "# Berechnen, wie viele Prozent der Werte pro Spalte fehlen\n",
    "missing_percent = df.isna().mean() * 100  \n",
    "\n",
    "# Spalten auswählen, die weniger als 50% fehlende Werte haben\n",
    "df_cleaned = df.loc[:, missing_percent <= 53]\n",
    "\n",
    "# Ergebnis ausgeben\n",
    "print(f\"Anzahl der entfernten Spalten: {df.shape[1] - df_cleaned.shape[1]}\")\n",
    "print(\"Übrige Spalten:\", df_cleaned.columns)\n"
   ]
  },
  {
   "cell_type": "code",
   "execution_count": 17,
   "metadata": {},
   "outputs": [
    {
     "data": {
      "text/plain": [
       "615"
      ]
     },
     "execution_count": 17,
     "metadata": {},
     "output_type": "execute_result"
    }
   ],
   "source": [
    "df_cleaned[\"City\"].nunique()"
   ]
  },
  {
   "cell_type": "code",
   "execution_count": null,
   "metadata": {},
   "outputs": [],
   "source": [
    "# # Mit Heatmap herausfinden, welche Städte für welche Schadstoffe fehlende Werte haben\n",
    "\n",
    "# # Liste der Schadstoff-Features für das Clustering\n",
    "# pollutants = [\"co\", \"no2\", \"o3\", \"so2\", \"pm10\", \"pm25\"]\n",
    "\n",
    "# # DataFrame mit den Schadstoffen pro Stadt erstellen\n",
    "# df_missing = df_cleaned.groupby(\"City\")[pollutants].mean()\n",
    "\n",
    "# # Boolean-Maske für fehlende Werte erstellen (True = fehlend, False = vorhanden)\n",
    "# missing_data = df_missing.isna()\n",
    "\n",
    "# # Größe der Grafik anpassen\n",
    "# plt.figure(figsize=(8, 20))\n",
    "\n",
    "# # Heatmap zeichnen (dunklere Farben = mehr fehlende Werte)\n",
    "# sns.heatmap(missing_data, cmap=\"coolwarm\", cbar=False, linewidths=0.5)\n",
    "\n",
    "# # Achsentitel setzen\n",
    "# plt.xlabel(\"Schadstoffe\")\n",
    "# plt.ylabel(\"Städte\")\n",
    "# plt.title(\"Heatmap der fehlenden Werte pro Stadt und Schadstoff\")\n"
   ]
  },
  {
   "cell_type": "code",
   "execution_count": null,
   "metadata": {},
   "outputs": [],
   "source": [
    "# missing_per_city = df_missing.isna().sum(axis=1)\n",
    "# missing_per_city_sorted = missing_per_city.sort_values(ascending=False)\n",
    "# print(missing_per_city_sorted.to_string())\n"
   ]
  },
  {
   "cell_type": "markdown",
   "metadata": {},
   "source": [
    "## Code für Clusteranalyse (K-Means) zur Schadstoffbelastung\n",
    "\n",
    "Input: df_cleaned\n",
    "\n",
    "Output:"
   ]
  },
  {
   "cell_type": "code",
   "execution_count": 20,
   "metadata": {},
   "outputs": [],
   "source": [
    "# Liste der Schadstoff-Features für das Clustering\n",
    "pollutants = [\"Co\", \"No2\", \"O3\", \"So2\", \"Pm10\", \"Pm25\"]"
   ]
  },
  {
   "cell_type": "code",
   "execution_count": 21,
   "metadata": {},
   "outputs": [],
   "source": [
    "# Clusteranalyse zur Schadstoffbelastung\n",
    "\n",
    "from sklearn.preprocessing import StandardScaler\n",
    "from sklearn.cluster import KMeans\n",
    "\n",
    "# Durchschnittliche Schadstoffwerte pro Stadt berechnen\n",
    "df_pollutants = df_cleaned.groupby(\"City\")[pollutants].mean().dropna()"
   ]
  },
  {
   "cell_type": "code",
   "execution_count": 22,
   "metadata": {},
   "outputs": [
    {
     "data": {
      "text/html": [
       "<div>\n",
       "<style scoped>\n",
       "    .dataframe tbody tr th:only-of-type {\n",
       "        vertical-align: middle;\n",
       "    }\n",
       "\n",
       "    .dataframe tbody tr th {\n",
       "        vertical-align: top;\n",
       "    }\n",
       "\n",
       "    .dataframe thead th {\n",
       "        text-align: right;\n",
       "    }\n",
       "</style>\n",
       "<table border=\"1\" class=\"dataframe\">\n",
       "  <thead>\n",
       "    <tr style=\"text-align: right;\">\n",
       "      <th></th>\n",
       "      <th>Co</th>\n",
       "      <th>No2</th>\n",
       "      <th>O3</th>\n",
       "      <th>So2</th>\n",
       "      <th>Pm10</th>\n",
       "      <th>Pm25</th>\n",
       "    </tr>\n",
       "    <tr>\n",
       "      <th>City</th>\n",
       "      <th></th>\n",
       "      <th></th>\n",
       "      <th></th>\n",
       "      <th></th>\n",
       "      <th></th>\n",
       "      <th></th>\n",
       "    </tr>\n",
       "  </thead>\n",
       "  <tbody>\n",
       "    <tr>\n",
       "      <th>Abu dhabi</th>\n",
       "      <td>0.10</td>\n",
       "      <td>12.20</td>\n",
       "      <td>27.72</td>\n",
       "      <td>4.99</td>\n",
       "      <td>79.44</td>\n",
       "      <td>97.85</td>\n",
       "    </tr>\n",
       "    <tr>\n",
       "      <th>Adana</th>\n",
       "      <td>4.05</td>\n",
       "      <td>11.25</td>\n",
       "      <td>16.47</td>\n",
       "      <td>4.18</td>\n",
       "      <td>31.49</td>\n",
       "      <td>68.21</td>\n",
       "    </tr>\n",
       "    <tr>\n",
       "      <th>Adapazarı</th>\n",
       "      <td>18.37</td>\n",
       "      <td>12.70</td>\n",
       "      <td>16.36</td>\n",
       "      <td>19.66</td>\n",
       "      <td>38.06</td>\n",
       "      <td>72.09</td>\n",
       "    </tr>\n",
       "    <tr>\n",
       "      <th>Adelaide</th>\n",
       "      <td>2.45</td>\n",
       "      <td>20.03</td>\n",
       "      <td>23.99</td>\n",
       "      <td>8.58</td>\n",
       "      <td>13.29</td>\n",
       "      <td>16.64</td>\n",
       "    </tr>\n",
       "    <tr>\n",
       "      <th>Aguascalientes</th>\n",
       "      <td>7.19</td>\n",
       "      <td>16.04</td>\n",
       "      <td>44.53</td>\n",
       "      <td>4.89</td>\n",
       "      <td>70.22</td>\n",
       "      <td>106.46</td>\n",
       "    </tr>\n",
       "  </tbody>\n",
       "</table>\n",
       "</div>"
      ],
      "text/plain": [
       "                  Co   No2    O3   So2  Pm10   Pm25\n",
       "City                                               \n",
       "Abu dhabi       0.10 12.20 27.72  4.99 79.44  97.85\n",
       "Adana           4.05 11.25 16.47  4.18 31.49  68.21\n",
       "Adapazarı      18.37 12.70 16.36 19.66 38.06  72.09\n",
       "Adelaide        2.45 20.03 23.99  8.58 13.29  16.64\n",
       "Aguascalientes  7.19 16.04 44.53  4.89 70.22 106.46"
      ]
     },
     "execution_count": 22,
     "metadata": {},
     "output_type": "execute_result"
    }
   ],
   "source": [
    "df_pollutants.head()"
   ]
  },
  {
   "cell_type": "code",
   "execution_count": 23,
   "metadata": {},
   "outputs": [
    {
     "data": {
      "text/plain": [
       "(405, 6)"
      ]
     },
     "execution_count": 23,
     "metadata": {},
     "output_type": "execute_result"
    }
   ],
   "source": [
    "df_pollutants.shape"
   ]
  },
  {
   "cell_type": "code",
   "execution_count": 24,
   "metadata": {},
   "outputs": [
    {
     "data": {
      "text/html": [
       "<div>\n",
       "<style scoped>\n",
       "    .dataframe tbody tr th:only-of-type {\n",
       "        vertical-align: middle;\n",
       "    }\n",
       "\n",
       "    .dataframe tbody tr th {\n",
       "        vertical-align: top;\n",
       "    }\n",
       "\n",
       "    .dataframe thead th {\n",
       "        text-align: right;\n",
       "    }\n",
       "</style>\n",
       "<table border=\"1\" class=\"dataframe\">\n",
       "  <thead>\n",
       "    <tr style=\"text-align: right;\">\n",
       "      <th></th>\n",
       "      <th>Co</th>\n",
       "      <th>No2</th>\n",
       "      <th>O3</th>\n",
       "      <th>So2</th>\n",
       "      <th>Pm10</th>\n",
       "      <th>Pm25</th>\n",
       "    </tr>\n",
       "    <tr>\n",
       "      <th>City</th>\n",
       "      <th></th>\n",
       "      <th></th>\n",
       "      <th></th>\n",
       "      <th></th>\n",
       "      <th></th>\n",
       "      <th></th>\n",
       "    </tr>\n",
       "  </thead>\n",
       "  <tbody>\n",
       "    <tr>\n",
       "      <th>Abu dhabi</th>\n",
       "      <td>-0.63</td>\n",
       "      <td>0.28</td>\n",
       "      <td>0.83</td>\n",
       "      <td>0.02</td>\n",
       "      <td>2.47</td>\n",
       "      <td>1.41</td>\n",
       "    </tr>\n",
       "    <tr>\n",
       "      <th>Adana</th>\n",
       "      <td>-0.18</td>\n",
       "      <td>0.11</td>\n",
       "      <td>-0.43</td>\n",
       "      <td>-0.09</td>\n",
       "      <td>0.02</td>\n",
       "      <td>0.34</td>\n",
       "    </tr>\n",
       "    <tr>\n",
       "      <th>Adapazarı</th>\n",
       "      <td>1.44</td>\n",
       "      <td>0.36</td>\n",
       "      <td>-0.45</td>\n",
       "      <td>1.95</td>\n",
       "      <td>0.36</td>\n",
       "      <td>0.48</td>\n",
       "    </tr>\n",
       "    <tr>\n",
       "      <th>Adelaide</th>\n",
       "      <td>-0.36</td>\n",
       "      <td>1.63</td>\n",
       "      <td>0.41</td>\n",
       "      <td>0.49</td>\n",
       "      <td>-0.91</td>\n",
       "      <td>-1.52</td>\n",
       "    </tr>\n",
       "    <tr>\n",
       "      <th>Aguascalientes</th>\n",
       "      <td>0.18</td>\n",
       "      <td>0.94</td>\n",
       "      <td>2.72</td>\n",
       "      <td>0.00</td>\n",
       "      <td>2.00</td>\n",
       "      <td>1.72</td>\n",
       "    </tr>\n",
       "  </tbody>\n",
       "</table>\n",
       "</div>"
      ],
      "text/plain": [
       "                  Co  No2    O3   So2  Pm10  Pm25\n",
       "City                                             \n",
       "Abu dhabi      -0.63 0.28  0.83  0.02  2.47  1.41\n",
       "Adana          -0.18 0.11 -0.43 -0.09  0.02  0.34\n",
       "Adapazarı       1.44 0.36 -0.45  1.95  0.36  0.48\n",
       "Adelaide       -0.36 1.63  0.41  0.49 -0.91 -1.52\n",
       "Aguascalientes  0.18 0.94  2.72  0.00  2.00  1.72"
      ]
     },
     "execution_count": 24,
     "metadata": {},
     "output_type": "execute_result"
    }
   ],
   "source": [
    "# Daten skalieren (K-Means ist empfindlich gegenüber unterschiedlichen Skalen)\n",
    "scaler = StandardScaler()\n",
    "df_scaled = scaler.fit_transform(df_pollutants)\n",
    "\n",
    "# Ergebnis als DataFrame zurückgeben\n",
    "df_pollutants_scaled = pd.DataFrame(df_scaled, index=df_pollutants.index, columns=pollutants)\n",
    "\n",
    "# Überprüfen, ob die Daten korrekt vorbereitet sind\n",
    "df_pollutants_scaled.head()"
   ]
  },
  {
   "cell_type": "code",
   "execution_count": 25,
   "metadata": {},
   "outputs": [
    {
     "data": {
      "image/png": "[encoded data removed]",
      "text/plain": [
       "<Figure size 800x500 with 1 Axes>"
      ]
     },
     "metadata": {},
     "output_type": "display_data"
    }
   ],
   "source": [
    "# Teste verschiedene Clusterzahlen (k = 1 bis 10)\n",
    "inertia = []\n",
    "k_values = range(1, 31)\n",
    "\n",
    "for k in k_values:\n",
    "    kmeans = KMeans(n_clusters=k, random_state=42, n_init=10)\n",
    "    kmeans.fit(df_pollutants_scaled)\n",
    "    inertia.append(kmeans.inertia_)  # Speichert den Fehler (Inertia)\n",
    "\n",
    "# Elbow-Plot erstellen\n",
    "plt.figure(figsize=(8, 5))\n",
    "plt.plot(k_values, inertia, marker='o', linestyle='-')\n",
    "plt.xlabel(\"Anzahl der Cluster (k)\")\n",
    "plt.ylabel(\"Inertia (Fehler)\")\n",
    "plt.title(\"Elbow-Methode zur Bestimmung der optimalen Clusterzahl\")\n",
    "plt.grid(True);"
   ]
  },
  {
   "cell_type": "code",
   "execution_count": 26,
   "metadata": {},
   "outputs": [
    {
     "data": {
      "text/html": [
       "<div>\n",
       "<style scoped>\n",
       "    .dataframe tbody tr th:only-of-type {\n",
       "        vertical-align: middle;\n",
       "    }\n",
       "\n",
       "    .dataframe tbody tr th {\n",
       "        vertical-align: top;\n",
       "    }\n",
       "\n",
       "    .dataframe thead th {\n",
       "        text-align: right;\n",
       "    }\n",
       "</style>\n",
       "<table border=\"1\" class=\"dataframe\">\n",
       "  <thead>\n",
       "    <tr style=\"text-align: right;\">\n",
       "      <th></th>\n",
       "      <th>Co</th>\n",
       "      <th>No2</th>\n",
       "      <th>O3</th>\n",
       "      <th>So2</th>\n",
       "      <th>Pm10</th>\n",
       "      <th>Pm25</th>\n",
       "      <th>Cluster</th>\n",
       "    </tr>\n",
       "    <tr>\n",
       "      <th>City</th>\n",
       "      <th></th>\n",
       "      <th></th>\n",
       "      <th></th>\n",
       "      <th></th>\n",
       "      <th></th>\n",
       "      <th></th>\n",
       "      <th></th>\n",
       "    </tr>\n",
       "  </thead>\n",
       "  <tbody>\n",
       "    <tr>\n",
       "      <th>Abu dhabi</th>\n",
       "      <td>-0.63</td>\n",
       "      <td>0.28</td>\n",
       "      <td>0.83</td>\n",
       "      <td>0.02</td>\n",
       "      <td>2.47</td>\n",
       "      <td>1.41</td>\n",
       "      <td>1</td>\n",
       "    </tr>\n",
       "    <tr>\n",
       "      <th>Adana</th>\n",
       "      <td>-0.18</td>\n",
       "      <td>0.11</td>\n",
       "      <td>-0.43</td>\n",
       "      <td>-0.09</td>\n",
       "      <td>0.02</td>\n",
       "      <td>0.34</td>\n",
       "      <td>3</td>\n",
       "    </tr>\n",
       "    <tr>\n",
       "      <th>Adapazarı</th>\n",
       "      <td>1.44</td>\n",
       "      <td>0.36</td>\n",
       "      <td>-0.45</td>\n",
       "      <td>1.95</td>\n",
       "      <td>0.36</td>\n",
       "      <td>0.48</td>\n",
       "      <td>2</td>\n",
       "    </tr>\n",
       "    <tr>\n",
       "      <th>Adelaide</th>\n",
       "      <td>-0.36</td>\n",
       "      <td>1.63</td>\n",
       "      <td>0.41</td>\n",
       "      <td>0.49</td>\n",
       "      <td>-0.91</td>\n",
       "      <td>-1.52</td>\n",
       "      <td>0</td>\n",
       "    </tr>\n",
       "    <tr>\n",
       "      <th>Aguascalientes</th>\n",
       "      <td>0.18</td>\n",
       "      <td>0.94</td>\n",
       "      <td>2.72</td>\n",
       "      <td>0.00</td>\n",
       "      <td>2.00</td>\n",
       "      <td>1.72</td>\n",
       "      <td>1</td>\n",
       "    </tr>\n",
       "  </tbody>\n",
       "</table>\n",
       "</div>"
      ],
      "text/plain": [
       "                  Co  No2    O3   So2  Pm10  Pm25  Cluster\n",
       "City                                                      \n",
       "Abu dhabi      -0.63 0.28  0.83  0.02  2.47  1.41        1\n",
       "Adana          -0.18 0.11 -0.43 -0.09  0.02  0.34        3\n",
       "Adapazarı       1.44 0.36 -0.45  1.95  0.36  0.48        2\n",
       "Adelaide       -0.36 1.63  0.41  0.49 -0.91 -1.52        0\n",
       "Aguascalientes  0.18 0.94  2.72  0.00  2.00  1.72        1"
      ]
     },
     "execution_count": 26,
     "metadata": {},
     "output_type": "execute_result"
    }
   ],
   "source": [
    "# K-Means-Clustering\n",
    "kmeans = KMeans(n_clusters=5, random_state=42, n_init=10)\n",
    "df_pollutants_scaled[\"Cluster\"] = kmeans.fit_predict(df_pollutants_scaled)\n",
    "df_pollutants_scaled.head()"
   ]
  },
  {
   "cell_type": "code",
   "execution_count": 27,
   "metadata": {},
   "outputs": [
    {
     "data": {
      "text/html": [
       "<div>\n",
       "<style scoped>\n",
       "    .dataframe tbody tr th:only-of-type {\n",
       "        vertical-align: middle;\n",
       "    }\n",
       "\n",
       "    .dataframe tbody tr th {\n",
       "        vertical-align: top;\n",
       "    }\n",
       "\n",
       "    .dataframe thead th {\n",
       "        text-align: right;\n",
       "    }\n",
       "</style>\n",
       "<table border=\"1\" class=\"dataframe\">\n",
       "  <thead>\n",
       "    <tr style=\"text-align: right;\">\n",
       "      <th></th>\n",
       "      <th>Cluster</th>\n",
       "    </tr>\n",
       "    <tr>\n",
       "      <th>City</th>\n",
       "      <th></th>\n",
       "    </tr>\n",
       "  </thead>\n",
       "  <tbody>\n",
       "    <tr>\n",
       "      <th>Granada</th>\n",
       "      <td>0</td>\n",
       "    </tr>\n",
       "    <tr>\n",
       "      <th>Indianapolis</th>\n",
       "      <td>0</td>\n",
       "    </tr>\n",
       "    <tr>\n",
       "      <th>Rome</th>\n",
       "      <td>0</td>\n",
       "    </tr>\n",
       "    <tr>\n",
       "      <th>Rijeka</th>\n",
       "      <td>0</td>\n",
       "    </tr>\n",
       "    <tr>\n",
       "      <th>Richmond</th>\n",
       "      <td>0</td>\n",
       "    </tr>\n",
       "    <tr>\n",
       "      <th>...</th>\n",
       "      <td>...</td>\n",
       "    </tr>\n",
       "    <tr>\n",
       "      <th>Gwangju</th>\n",
       "      <td>3</td>\n",
       "    </tr>\n",
       "    <tr>\n",
       "      <th>Guiyang</th>\n",
       "      <td>3</td>\n",
       "    </tr>\n",
       "    <tr>\n",
       "      <th>Hong kong</th>\n",
       "      <td>3</td>\n",
       "    </tr>\n",
       "    <tr>\n",
       "      <th>Mexico city</th>\n",
       "      <td>3</td>\n",
       "    </tr>\n",
       "    <tr>\n",
       "      <th>Ashkelon</th>\n",
       "      <td>4</td>\n",
       "    </tr>\n",
       "  </tbody>\n",
       "</table>\n",
       "<p>405 rows × 1 columns</p>\n",
       "</div>"
      ],
      "text/plain": [
       "              Cluster\n",
       "City                 \n",
       "Granada             0\n",
       "Indianapolis        0\n",
       "Rome                0\n",
       "Rijeka              0\n",
       "Richmond            0\n",
       "...               ...\n",
       "Gwangju             3\n",
       "Guiyang             3\n",
       "Hong kong           3\n",
       "Mexico city         3\n",
       "Ashkelon            4\n",
       "\n",
       "[405 rows x 1 columns]"
      ]
     },
     "execution_count": 27,
     "metadata": {},
     "output_type": "execute_result"
    }
   ],
   "source": [
    "# Neue Cluster-Zuordnung der Städte anzeigen\n",
    "pollutants_cluster_numbers = df_pollutants_scaled[[\"Cluster\"]].sort_values(by=\"Cluster\")\n",
    "pollutants_cluster_numbers"
   ]
  },
  {
   "cell_type": "code",
   "execution_count": 28,
   "metadata": {},
   "outputs": [
    {
     "data": {
      "text/plain": [
       "Cluster\n",
       "0    194\n",
       "1     61\n",
       "2     19\n",
       "3    130\n",
       "4      1\n",
       "Name: count, dtype: int64"
      ]
     },
     "execution_count": 28,
     "metadata": {},
     "output_type": "execute_result"
    }
   ],
   "source": [
    "cluster_counts = pollutants_cluster_numbers[\"Cluster\"].value_counts().sort_index()\n",
    "cluster_counts\n"
   ]
  },
  {
   "cell_type": "code",
   "execution_count": 29,
   "metadata": {},
   "outputs": [],
   "source": [
    "cluster_1_cities = pollutants_cluster_numbers[pollutants_cluster_numbers[\"Cluster\"] == 1]\n"
   ]
  },
  {
   "cell_type": "code",
   "execution_count": 30,
   "metadata": {},
   "outputs": [
    {
     "data": {
      "text/html": [
       "<div>\n",
       "<style scoped>\n",
       "    .dataframe tbody tr th:only-of-type {\n",
       "        vertical-align: middle;\n",
       "    }\n",
       "\n",
       "    .dataframe tbody tr th {\n",
       "        vertical-align: top;\n",
       "    }\n",
       "\n",
       "    .dataframe thead th {\n",
       "        text-align: right;\n",
       "    }\n",
       "</style>\n",
       "<table border=\"1\" class=\"dataframe\">\n",
       "  <thead>\n",
       "    <tr style=\"text-align: right;\">\n",
       "      <th></th>\n",
       "      <th>Cluster</th>\n",
       "    </tr>\n",
       "    <tr>\n",
       "      <th>City</th>\n",
       "      <th></th>\n",
       "    </tr>\n",
       "  </thead>\n",
       "  <tbody>\n",
       "    <tr>\n",
       "      <th>Zhengzhou</th>\n",
       "      <td>1</td>\n",
       "    </tr>\n",
       "    <tr>\n",
       "      <th>Nanchang</th>\n",
       "      <td>1</td>\n",
       "    </tr>\n",
       "    <tr>\n",
       "      <th>Nanjing</th>\n",
       "      <td>1</td>\n",
       "    </tr>\n",
       "    <tr>\n",
       "      <th>Santiago</th>\n",
       "      <td>1</td>\n",
       "    </tr>\n",
       "    <tr>\n",
       "      <th>Zhuzhou</th>\n",
       "      <td>1</td>\n",
       "    </tr>\n",
       "    <tr>\n",
       "      <th>...</th>\n",
       "      <td>...</td>\n",
       "    </tr>\n",
       "    <tr>\n",
       "      <th>Chongqing</th>\n",
       "      <td>1</td>\n",
       "    </tr>\n",
       "    <tr>\n",
       "      <th>Changsha</th>\n",
       "      <td>1</td>\n",
       "    </tr>\n",
       "    <tr>\n",
       "      <th>Hangzhou</th>\n",
       "      <td>1</td>\n",
       "    </tr>\n",
       "    <tr>\n",
       "      <th>Changchun</th>\n",
       "      <td>1</td>\n",
       "    </tr>\n",
       "    <tr>\n",
       "      <th>Hāpur</th>\n",
       "      <td>1</td>\n",
       "    </tr>\n",
       "  </tbody>\n",
       "</table>\n",
       "<p>61 rows × 1 columns</p>\n",
       "</div>"
      ],
      "text/plain": [
       "           Cluster\n",
       "City              \n",
       "Zhengzhou        1\n",
       "Nanchang         1\n",
       "Nanjing          1\n",
       "Santiago         1\n",
       "Zhuzhou          1\n",
       "...            ...\n",
       "Chongqing        1\n",
       "Changsha         1\n",
       "Hangzhou         1\n",
       "Changchun        1\n",
       "Hāpur            1\n",
       "\n",
       "[61 rows x 1 columns]"
      ]
     },
     "execution_count": 30,
     "metadata": {},
     "output_type": "execute_result"
    }
   ],
   "source": [
    "cluster_1_cities"
   ]
  },
  {
   "cell_type": "code",
   "execution_count": 31,
   "metadata": {},
   "outputs": [
    {
     "data": {
      "text/html": [
       "<div>\n",
       "<style scoped>\n",
       "    .dataframe tbody tr th:only-of-type {\n",
       "        vertical-align: middle;\n",
       "    }\n",
       "\n",
       "    .dataframe tbody tr th {\n",
       "        vertical-align: top;\n",
       "    }\n",
       "\n",
       "    .dataframe thead th {\n",
       "        text-align: right;\n",
       "    }\n",
       "</style>\n",
       "<table border=\"1\" class=\"dataframe\">\n",
       "  <thead>\n",
       "    <tr style=\"text-align: right;\">\n",
       "      <th></th>\n",
       "      <th>Co</th>\n",
       "      <th>No2</th>\n",
       "      <th>O3</th>\n",
       "      <th>So2</th>\n",
       "      <th>Pm10</th>\n",
       "      <th>Pm25</th>\n",
       "      <th>Cluster</th>\n",
       "    </tr>\n",
       "    <tr>\n",
       "      <th>City</th>\n",
       "      <th></th>\n",
       "      <th></th>\n",
       "      <th></th>\n",
       "      <th></th>\n",
       "      <th></th>\n",
       "      <th></th>\n",
       "      <th></th>\n",
       "    </tr>\n",
       "  </thead>\n",
       "  <tbody>\n",
       "    <tr>\n",
       "      <th>Abu dhabi</th>\n",
       "      <td>0.10</td>\n",
       "      <td>12.20</td>\n",
       "      <td>27.72</td>\n",
       "      <td>4.99</td>\n",
       "      <td>79.44</td>\n",
       "      <td>97.85</td>\n",
       "      <td>1</td>\n",
       "    </tr>\n",
       "    <tr>\n",
       "      <th>Adana</th>\n",
       "      <td>4.05</td>\n",
       "      <td>11.25</td>\n",
       "      <td>16.47</td>\n",
       "      <td>4.18</td>\n",
       "      <td>31.49</td>\n",
       "      <td>68.21</td>\n",
       "      <td>3</td>\n",
       "    </tr>\n",
       "    <tr>\n",
       "      <th>Adapazarı</th>\n",
       "      <td>18.37</td>\n",
       "      <td>12.70</td>\n",
       "      <td>16.36</td>\n",
       "      <td>19.66</td>\n",
       "      <td>38.06</td>\n",
       "      <td>72.09</td>\n",
       "      <td>2</td>\n",
       "    </tr>\n",
       "    <tr>\n",
       "      <th>Adelaide</th>\n",
       "      <td>2.45</td>\n",
       "      <td>20.03</td>\n",
       "      <td>23.99</td>\n",
       "      <td>8.58</td>\n",
       "      <td>13.29</td>\n",
       "      <td>16.64</td>\n",
       "      <td>0</td>\n",
       "    </tr>\n",
       "    <tr>\n",
       "      <th>Aguascalientes</th>\n",
       "      <td>7.19</td>\n",
       "      <td>16.04</td>\n",
       "      <td>44.53</td>\n",
       "      <td>4.89</td>\n",
       "      <td>70.22</td>\n",
       "      <td>106.46</td>\n",
       "      <td>1</td>\n",
       "    </tr>\n",
       "  </tbody>\n",
       "</table>\n",
       "</div>"
      ],
      "text/plain": [
       "                  Co   No2    O3   So2  Pm10   Pm25  Cluster\n",
       "City                                                        \n",
       "Abu dhabi       0.10 12.20 27.72  4.99 79.44  97.85        1\n",
       "Adana           4.05 11.25 16.47  4.18 31.49  68.21        3\n",
       "Adapazarı      18.37 12.70 16.36 19.66 38.06  72.09        2\n",
       "Adelaide        2.45 20.03 23.99  8.58 13.29  16.64        0\n",
       "Aguascalientes  7.19 16.04 44.53  4.89 70.22 106.46        1"
      ]
     },
     "execution_count": 31,
     "metadata": {},
     "output_type": "execute_result"
    }
   ],
   "source": [
    "df_pollutants_with_cluster_numbers = pd.concat([df_pollutants, pollutants_cluster_numbers], axis=1)\n",
    "df_pollutants_with_cluster_numbers.head()"
   ]
  },
  {
   "cell_type": "code",
   "execution_count": 32,
   "metadata": {},
   "outputs": [],
   "source": [
    "df_pollutants_with_cluster_numbers.to_csv(\"df_pollutants.csv\", index=True)  # Index speichern, damit die Städtenamen erhalten bleiben\n"
   ]
  },
  {
   "cell_type": "code",
   "execution_count": null,
   "metadata": {},
   "outputs": [],
   "source": [
    "# # Delhi wird bei 5 und 6 Clustern von KMeans als eigenes Cluster isoliert.\n",
    "# # Test, ob DBSCAN eine andere Clusterbildung erzielt\n",
    "\n",
    "# from sklearn.cluster import DBSCAN\n",
    "\n",
    "# dbscan = DBSCAN(eps=3.5, min_samples=4)  # Parameter ggf. anpassen\n",
    "# df_cluster[\"Cluster_DBSCAN\"] = dbscan.fit_predict(df_scaled)"
   ]
  },
  {
   "cell_type": "code",
   "execution_count": null,
   "metadata": {},
   "outputs": [],
   "source": [
    "# df_cluster[\"Cluster_DBSCAN\"].value_counts()\n"
   ]
  },
  {
   "cell_type": "code",
   "execution_count": null,
   "metadata": {},
   "outputs": [],
   "source": [
    "# df_cluster[df_cluster.index == \"Delhi\"]"
   ]
  },
  {
   "cell_type": "markdown",
   "metadata": {},
   "source": [
    "Entscheidung: Tehran war schon rausgenommen, weil es ein eigenes Cluster bildet. Ohne Tehran bildet Delhi ein eigenes Cluster. Das lassen wir jetzt erst mal so."
   ]
  },
  {
   "cell_type": "markdown",
   "metadata": {},
   "source": [
    "## Zusammenführung Geodaten und Clusternummern"
   ]
  },
  {
   "cell_type": "code",
   "execution_count": 33,
   "metadata": {},
   "outputs": [],
   "source": [
    "df_coords = df.set_index(\"City\")[[\"Longitude\", \"Latitude\"]]\n"
   ]
  },
  {
   "cell_type": "code",
   "execution_count": 34,
   "metadata": {},
   "outputs": [
    {
     "data": {
      "text/html": [
       "<div>\n",
       "<style scoped>\n",
       "    .dataframe tbody tr th:only-of-type {\n",
       "        vertical-align: middle;\n",
       "    }\n",
       "\n",
       "    .dataframe tbody tr th {\n",
       "        vertical-align: top;\n",
       "    }\n",
       "\n",
       "    .dataframe thead th {\n",
       "        text-align: right;\n",
       "    }\n",
       "</style>\n",
       "<table border=\"1\" class=\"dataframe\">\n",
       "  <thead>\n",
       "    <tr style=\"text-align: right;\">\n",
       "      <th></th>\n",
       "      <th>Longitude</th>\n",
       "      <th>Latitude</th>\n",
       "    </tr>\n",
       "    <tr>\n",
       "      <th>City</th>\n",
       "      <th></th>\n",
       "      <th></th>\n",
       "    </tr>\n",
       "  </thead>\n",
       "  <tbody>\n",
       "    <tr>\n",
       "      <th>Graz</th>\n",
       "      <td>15.45</td>\n",
       "      <td>47.07</td>\n",
       "    </tr>\n",
       "    <tr>\n",
       "      <th>Innsbruck</th>\n",
       "      <td>11.39</td>\n",
       "      <td>47.26</td>\n",
       "    </tr>\n",
       "    <tr>\n",
       "      <th>Linz</th>\n",
       "      <td>14.29</td>\n",
       "      <td>48.31</td>\n",
       "    </tr>\n",
       "    <tr>\n",
       "      <th>Salzburg</th>\n",
       "      <td>13.04</td>\n",
       "      <td>47.80</td>\n",
       "    </tr>\n",
       "    <tr>\n",
       "      <th>Vienna</th>\n",
       "      <td>16.37</td>\n",
       "      <td>48.21</td>\n",
       "    </tr>\n",
       "  </tbody>\n",
       "</table>\n",
       "</div>"
      ],
      "text/plain": [
       "           Longitude  Latitude\n",
       "City                          \n",
       "Graz           15.45     47.07\n",
       "Innsbruck      11.39     47.26\n",
       "Linz           14.29     48.31\n",
       "Salzburg       13.04     47.80\n",
       "Vienna         16.37     48.21"
      ]
     },
     "execution_count": 34,
     "metadata": {},
     "output_type": "execute_result"
    }
   ],
   "source": [
    "df_coords.head()"
   ]
  },
  {
   "cell_type": "code",
   "execution_count": 35,
   "metadata": {},
   "outputs": [
    {
     "data": {
      "text/plain": [
       "615"
      ]
     },
     "execution_count": 35,
     "metadata": {},
     "output_type": "execute_result"
    }
   ],
   "source": [
    "df_coords = df.groupby(\"City\")[[\"Longitude\", \"Latitude\"]].mean()\n",
    "len(df_coords)"
   ]
  },
  {
   "cell_type": "code",
   "execution_count": 36,
   "metadata": {},
   "outputs": [
    {
     "data": {
      "text/html": [
       "<div>\n",
       "<style scoped>\n",
       "    .dataframe tbody tr th:only-of-type {\n",
       "        vertical-align: middle;\n",
       "    }\n",
       "\n",
       "    .dataframe tbody tr th {\n",
       "        vertical-align: top;\n",
       "    }\n",
       "\n",
       "    .dataframe thead th {\n",
       "        text-align: right;\n",
       "    }\n",
       "</style>\n",
       "<table border=\"1\" class=\"dataframe\">\n",
       "  <thead>\n",
       "    <tr style=\"text-align: right;\">\n",
       "      <th></th>\n",
       "      <th>Co</th>\n",
       "      <th>No2</th>\n",
       "      <th>O3</th>\n",
       "      <th>So2</th>\n",
       "      <th>Pm10</th>\n",
       "      <th>Pm25</th>\n",
       "      <th>Cluster</th>\n",
       "      <th>Longitude</th>\n",
       "      <th>Latitude</th>\n",
       "    </tr>\n",
       "    <tr>\n",
       "      <th>City</th>\n",
       "      <th></th>\n",
       "      <th></th>\n",
       "      <th></th>\n",
       "      <th></th>\n",
       "      <th></th>\n",
       "      <th></th>\n",
       "      <th></th>\n",
       "      <th></th>\n",
       "      <th></th>\n",
       "    </tr>\n",
       "  </thead>\n",
       "  <tbody>\n",
       "    <tr>\n",
       "      <th>Abu dhabi</th>\n",
       "      <td>0.10</td>\n",
       "      <td>12.20</td>\n",
       "      <td>27.72</td>\n",
       "      <td>4.99</td>\n",
       "      <td>79.44</td>\n",
       "      <td>97.85</td>\n",
       "      <td>1</td>\n",
       "      <td>54.40</td>\n",
       "      <td>24.45</td>\n",
       "    </tr>\n",
       "    <tr>\n",
       "      <th>Adana</th>\n",
       "      <td>4.05</td>\n",
       "      <td>11.25</td>\n",
       "      <td>16.47</td>\n",
       "      <td>4.18</td>\n",
       "      <td>31.49</td>\n",
       "      <td>68.21</td>\n",
       "      <td>3</td>\n",
       "      <td>35.33</td>\n",
       "      <td>36.99</td>\n",
       "    </tr>\n",
       "    <tr>\n",
       "      <th>Adapazarı</th>\n",
       "      <td>18.37</td>\n",
       "      <td>12.70</td>\n",
       "      <td>16.36</td>\n",
       "      <td>19.66</td>\n",
       "      <td>38.06</td>\n",
       "      <td>72.09</td>\n",
       "      <td>2</td>\n",
       "      <td>30.40</td>\n",
       "      <td>40.78</td>\n",
       "    </tr>\n",
       "    <tr>\n",
       "      <th>Adelaide</th>\n",
       "      <td>2.45</td>\n",
       "      <td>20.03</td>\n",
       "      <td>23.99</td>\n",
       "      <td>8.58</td>\n",
       "      <td>13.29</td>\n",
       "      <td>16.64</td>\n",
       "      <td>0</td>\n",
       "      <td>138.60</td>\n",
       "      <td>-34.93</td>\n",
       "    </tr>\n",
       "    <tr>\n",
       "      <th>Aguascalientes</th>\n",
       "      <td>7.19</td>\n",
       "      <td>16.04</td>\n",
       "      <td>44.53</td>\n",
       "      <td>4.89</td>\n",
       "      <td>70.22</td>\n",
       "      <td>106.46</td>\n",
       "      <td>1</td>\n",
       "      <td>-102.28</td>\n",
       "      <td>21.88</td>\n",
       "    </tr>\n",
       "  </tbody>\n",
       "</table>\n",
       "</div>"
      ],
      "text/plain": [
       "                  Co   No2    O3   So2  Pm10   Pm25  Cluster  Longitude  \\\n",
       "City                                                                      \n",
       "Abu dhabi       0.10 12.20 27.72  4.99 79.44  97.85        1      54.40   \n",
       "Adana           4.05 11.25 16.47  4.18 31.49  68.21        3      35.33   \n",
       "Adapazarı      18.37 12.70 16.36 19.66 38.06  72.09        2      30.40   \n",
       "Adelaide        2.45 20.03 23.99  8.58 13.29  16.64        0     138.60   \n",
       "Aguascalientes  7.19 16.04 44.53  4.89 70.22 106.46        1    -102.28   \n",
       "\n",
       "                Latitude  \n",
       "City                      \n",
       "Abu dhabi          24.45  \n",
       "Adana              36.99  \n",
       "Adapazarı          40.78  \n",
       "Adelaide          -34.93  \n",
       "Aguascalientes     21.88  "
      ]
     },
     "execution_count": 36,
     "metadata": {},
     "output_type": "execute_result"
    }
   ],
   "source": [
    "df_pollutants_with_clustern_numbers_and_geodata = df_pollutants_with_cluster_numbers.join(df_coords, how=\"left\")\n",
    "df_pollutants_with_clustern_numbers_and_geodata.head()"
   ]
  },
  {
   "cell_type": "code",
   "execution_count": 37,
   "metadata": {},
   "outputs": [],
   "source": [
    "df_pollutants_with_clustern_numbers_and_geodata = df_pollutants_with_clustern_numbers_and_geodata.dropna(subset=[\"Longitude\", \"Latitude\"])\n"
   ]
  },
  {
   "cell_type": "code",
   "execution_count": 38,
   "metadata": {},
   "outputs": [
    {
     "data": {
      "text/plain": [
       "404"
      ]
     },
     "execution_count": 38,
     "metadata": {},
     "output_type": "execute_result"
    }
   ],
   "source": [
    "len(df_pollutants_with_clustern_numbers_and_geodata)"
   ]
  },
  {
   "cell_type": "markdown",
   "metadata": {},
   "source": [
    "## Cluster farbig plotten"
   ]
  },
  {
   "cell_type": "code",
   "execution_count": 39,
   "metadata": {},
   "outputs": [],
   "source": [
    "\n",
    "\n",
    "import geopandas as gpd\n",
    "import geodatasets\n",
    "import matplotlib.pyplot as plt\n",
    "\n",
    "# Weltkarte laden\n",
    "world = gpd.read_file(geodatasets.get_path(\"naturalearth.land\"))\n",
    "\n",
    "# Städte aus df_geodata in einen GeoDataFrame umwandeln\n",
    "gdf_cities = gpd.GeoDataFrame(df_pollutants_with_clustern_numbers_and_geodata, \n",
    "                              geometry=gpd.points_from_xy(df_pollutants_with_clustern_numbers_and_geodata[\"Longitude\"], df_pollutants_with_clustern_numbers_and_geodata[\"Latitude\"]))\n"
   ]
  },
  {
   "cell_type": "code",
   "execution_count": 40,
   "metadata": {},
   "outputs": [],
   "source": [
    "import matplotlib.colors as mcolors\n",
    "\n",
    "# Eigene 5-Farben-Palette aus 'tab10' extrahieren\n",
    "custom_cmap = mcolors.ListedColormap(plt.get_cmap(\"tab10\").colors[:5])"
   ]
  },
  {
   "cell_type": "code",
   "execution_count": 41,
   "metadata": {},
   "outputs": [
    {
     "data": {
      "image/png": "[encoded data removed]",
      "text/html": [
       "<div style=\"vertical-align: middle;\"><strong>from_list</strong> </div><div class=\"cmap\"><img alt=\"from_list colormap\" title=\"from_list\" style=\"border: 1px solid #555;\" src=\"data:image/png;base64,iVBORw0KGgoAAAANSUhEUgAAAgAAAABACAYAAABsv8+/AAAAGHRFWHRUaXRsZQBmcm9tX2xpc3QgY29sb3JtYXBDL89FAAAAHnRFWHREZXNjcmlwdGlvbgBmcm9tX2xpc3QgY29sb3JtYXABtCnOAAAAMXRFWHRBdXRob3IATWF0cGxvdGxpYiB2My4xMC4wLCBodHRwczovL21hdHBsb3RsaWIub3Jns5fOBgAAADN0RVh0U29mdHdhcmUATWF0cGxvdGxpYiB2My4xMC4wLCBodHRwczovL21hdHBsb3RsaWIub3JnFrPd8gAAAVNJREFUeJzt1rERQVEARFFEqmAUoAd1aEQJKtCEWKwWhZihgffjZ9xz0k02vOv95fFZ8ZNe2/PsCwwcD7vZFxi4X9+zLzDwPN1mX2DBZmkAAP6XAACAIAEAAEECAACCBAAABAkAAAgSAAAQJAAAIEgAAECQAACAIAEAAEECAACCBAAABAkAAAgSAAAQJAAAIEgAAECQAACAIAEAAEECAACCBAAABAkAAAgSAAAQJAAAIEgAAECQAACAIAEAAEECAACCBAAABAkAAAgSAAAQJAAAIEgAAECQAACAIAEAAEECAACCBAAABAkAAAgSAAAQJAAAIEgAAECQAACAIAEAAEECAACCBAAABAkAAAgSAAAQJAAAIEgAAECQAACAIAEAAEECAACCBAAABAkAAAgSAAAQJAAAIEgAAECQAACAIAEAAEECAACCBAAABAkAAAgSAAAQ9AX6wQg3GDPnlQAAAABJRU5ErkJggg==\"></div><div style=\"vertical-align: middle; max-width: 514px; display: flex; justify-content: space-between;\"><div style=\"float: left;\"><div title=\"#1f77b4ff\" style=\"display: inline-block; width: 1em; height: 1em; margin: 0; vertical-align: middle; border: 1px solid #555; background-color: #1f77b4ff;\"></div> under</div><div style=\"margin: 0 auto; display: inline-block;\">bad <div title=\"#00000000\" style=\"display: inline-block; width: 1em; height: 1em; margin: 0; vertical-align: middle; border: 1px solid #555; background-color: #00000000;\"></div></div><div style=\"float: right;\">over <div title=\"#9467bdff\" style=\"display: inline-block; width: 1em; height: 1em; margin: 0; vertical-align: middle; border: 1px solid #555; background-color: #9467bdff;\"></div></div></div>"
      ],
      "text/plain": [
       "<matplotlib.colors.ListedColormap at 0x166047c10>"
      ]
     },
     "execution_count": 41,
     "metadata": {},
     "output_type": "execute_result"
    }
   ],
   "source": [
    "custom_cmap"
   ]
  },
  {
   "cell_type": "code",
   "execution_count": 42,
   "metadata": {},
   "outputs": [
    {
     "data": {
      "image/png": "[encoded data removed]",
      "text/plain": [
       "<Figure size 1500x1200 with 2 Axes>"
      ]
     },
     "metadata": {},
     "output_type": "display_data"
    }
   ],
   "source": [
    "# Plot erstellen\n",
    "fig, ax = plt.subplots(figsize=(15, 12))\n",
    "\n",
    "# Umrisse der Weltkarte plotten\n",
    "world.plot(ax=ax, color='white', edgecolor='black')\n",
    "\n",
    "# Städte als farbige Punkte nach Cluster einfärben\n",
    "scatter = gdf_cities.plot(column=\"Cluster\", cmap=custom_cmap, ax=ax, markersize=10, legend=True, alpha=1.0)\n",
    "\n",
    "# Titel & Achsen\n",
    "plt.title(\"Clusteranalyse der Städte basierend auf Luftverschmutzung\")\n",
    "plt.xlabel(\"Längengrad\")\n",
    "plt.ylabel(\"Breitengrad\")\n",
    "\n",
    "plt.savefig(\"../Images/cluster_plot.png\", dpi=300, bbox_inches=\"tight\")\n",
    "\n",
    "plt.show()\n",
    "\n"
   ]
  },
  {
   "cell_type": "markdown",
   "metadata": {},
   "source": [
    "## Interpretation der Cluster\n",
    "\n"
   ]
  },
  {
   "cell_type": "code",
   "execution_count": 43,
   "metadata": {},
   "outputs": [
    {
     "data": {
      "text/html": [
       "<div>\n",
       "<style scoped>\n",
       "    .dataframe tbody tr th:only-of-type {\n",
       "        vertical-align: middle;\n",
       "    }\n",
       "\n",
       "    .dataframe tbody tr th {\n",
       "        vertical-align: top;\n",
       "    }\n",
       "\n",
       "    .dataframe thead th {\n",
       "        text-align: right;\n",
       "    }\n",
       "</style>\n",
       "<table border=\"1\" class=\"dataframe\">\n",
       "  <thead>\n",
       "    <tr style=\"text-align: right;\">\n",
       "      <th></th>\n",
       "      <th>Co</th>\n",
       "      <th>No2</th>\n",
       "      <th>O3</th>\n",
       "      <th>So2</th>\n",
       "      <th>Pm10</th>\n",
       "      <th>Pm25</th>\n",
       "    </tr>\n",
       "    <tr>\n",
       "      <th>Cluster</th>\n",
       "      <th></th>\n",
       "      <th></th>\n",
       "      <th></th>\n",
       "      <th></th>\n",
       "      <th></th>\n",
       "      <th></th>\n",
       "    </tr>\n",
       "  </thead>\n",
       "  <tbody>\n",
       "    <tr>\n",
       "      <th>0</th>\n",
       "      <td>2.45</td>\n",
       "      <td>7.84</td>\n",
       "      <td>21.40</td>\n",
       "      <td>2.31</td>\n",
       "      <td>16.74</td>\n",
       "      <td>37.15</td>\n",
       "    </tr>\n",
       "    <tr>\n",
       "      <th>1</th>\n",
       "      <td>7.79</td>\n",
       "      <td>15.25</td>\n",
       "      <td>22.54</td>\n",
       "      <td>6.48</td>\n",
       "      <td>66.22</td>\n",
       "      <td>107.36</td>\n",
       "    </tr>\n",
       "    <tr>\n",
       "      <th>2</th>\n",
       "      <td>21.20</td>\n",
       "      <td>19.72</td>\n",
       "      <td>15.91</td>\n",
       "      <td>28.45</td>\n",
       "      <td>42.75</td>\n",
       "      <td>60.76</td>\n",
       "    </tr>\n",
       "    <tr>\n",
       "      <th>3</th>\n",
       "      <td>6.06</td>\n",
       "      <td>11.24</td>\n",
       "      <td>18.18</td>\n",
       "      <td>4.53</td>\n",
       "      <td>34.25</td>\n",
       "      <td>67.64</td>\n",
       "    </tr>\n",
       "    <tr>\n",
       "      <th>4</th>\n",
       "      <td>138.73</td>\n",
       "      <td>4.88</td>\n",
       "      <td>38.37</td>\n",
       "      <td>1.11</td>\n",
       "      <td>35.15</td>\n",
       "      <td>58.36</td>\n",
       "    </tr>\n",
       "  </tbody>\n",
       "</table>\n",
       "</div>"
      ],
      "text/plain": [
       "            Co   No2    O3   So2  Pm10   Pm25\n",
       "Cluster                                      \n",
       "0         2.45  7.84 21.40  2.31 16.74  37.15\n",
       "1         7.79 15.25 22.54  6.48 66.22 107.36\n",
       "2        21.20 19.72 15.91 28.45 42.75  60.76\n",
       "3         6.06 11.24 18.18  4.53 34.25  67.64\n",
       "4       138.73  4.88 38.37  1.11 35.15  58.36"
      ]
     },
     "execution_count": 43,
     "metadata": {},
     "output_type": "execute_result"
    }
   ],
   "source": [
    "cluster_summary = df_pollutants_with_cluster_numbers.groupby(\"Cluster\").mean()\n",
    "cluster_summary\n"
   ]
  },
  {
   "cell_type": "code",
   "execution_count": null,
   "metadata": {},
   "outputs": [
    {
     "name": "stdout",
     "output_type": "stream",
     "text": [
      "['Adelaide', 'Akita', 'Albuquerque', 'Amiens', 'Amsterdam', 'Antwerpen', 'Athens', 'Atlanta', 'Augsburg', 'Baltimore', 'Barcelona', 'Belfast', 'Berlin', 'Bilbao', 'Boise', 'Bordeaux', 'Boston', 'Brisbane', 'Bristol', 'Brussels', 'Budapest', 'Buenos aires', 'Burgos', 'Bydgoszcz', 'Calama', 'Cardiff', 'Castelló de la plana', 'Charleroi', 'Charlotte', 'Chiba', 'Chicago', 'Christchurch', 'Clermont-ferrand', 'Copenhagen', 'Córdoba', 'Dallas', 'Darmstadt', 'Darwin', 'Debrecen', 'Denver', 'Detroit', 'Donostia / san sebastián', 'East london', 'Edinburgh', 'Edmonton', 'El paso', 'Florence', 'Fresno', 'Fukuoka', 'Gasteiz / vitoria', 'Gdańsk', 'Gent', 'Gifu-shi', 'Granada', 'Győr', 'Haarlem', 'Haifa', 'Haikou', 'Haiphong', 'Hamburg', 'Hamilton', 'Hartford', 'Hiroshima', 'Houston', 'Hsinchu', 'Huelva', 'Huế', 'Indianapolis', 'Jackson', 'Jacksonville', 'Jeju city', 'Jerusalem', 'Kagoshima', 'Kanazawa', 'Karlsruhe', 'Kassel', 'Kecskemét', 'Keelung', 'Kobe', 'Kochi', 'Kumamoto', 'Kyoto', 'Las palmas de gran canaria', 'Las vegas', 'Leeds', 'Lhasa', 'Lille', 'Limassol', 'Limoges', 'Livorno', 'Liège', 'London', 'Lyon', 'Madrid', 'Mainz', 'Manila', 'Marseille', 'Matsuyama', 'Melbourne', 'Metz', 'Miami', 'Milwaukee', 'Miyazaki', 'Moscow', 'Munich', 'Murcia', 'Málaga', 'Nagano', 'Nagasaki', 'Nagoya', 'Naha', 'Nancy', 'Nantes', 'Nara-shi', 'Newcastle', 'Newport', 'Niigata', 'Nizhniy novgorod', 'Oakland', 'Okayama', 'Oklahoma city', 'Osaka', 'Oslo', 'Oulu', 'Oviedo', 'Pachuca de soto', 'Palma', 'Paris', 'Perth', 'Philadelphia', 'Phoenix', 'Plovdiv', 'Port elizabeth', 'Portland', 'Potsdam', 'Poznań', 'Prato', 'Pécs', 'Płock', 'Raleigh', 'Reykjavík', 'Richmond', 'Rijeka', 'Rome', 'Rotterdam', 'Sacramento', 'Saint paul', 'Saint petersburg', 'Saint-denis', 'Saint-étienne', 'Saitama', 'Salamanca', 'San diego', 'San francisco', 'San jose', 'Santa cruz de tenerife', 'Sapporo', 'Seattle', 'Sendai', 'Sevilla', 'Sheffield', 'Shizuoka', 'Southend-on-sea', 'Strasbourg', 'Suncheon', 'Surrey', 'Swansea', 'Sydney', 'Szczecin', 'Szeged', 'São josé dos campos', 'Taitung city', 'Takamatsu', 'Tarnów', 'Thessaloníki', 'Tokyo', 'Toulouse', 'Toyama', 'Tucson', 'Utrecht', 'Utsunomiya', 'Valencia', 'Valladolid', 'Vancouver', 'Vitória', 'Wakayama', 'Washington d.c.', 'Wiesbaden', 'Winnipeg', 'Wollongong', 'Worcester', 'Yokohama', 'Zaragoza', 'Ōita']\n"
     ]
    }
   ],
   "source": [
    "# Städte in Cluster 0 anzeigen (Industrienationen mit Emissionsregulationen und wenig Schwerindustrie IN den Städten)\n",
    "df_cluster_0 = df_pollutants_with_cluster_numbers[df_pollutants_with_cluster_numbers[\"Cluster\"] == 0]\n",
    "\n",
    "print(df_cluster_0.index.tolist())"
   ]
  },
  {
   "cell_type": "code",
   "execution_count": 52,
   "metadata": {},
   "outputs": [
    {
     "data": {
      "text/plain": [
       "<Axes: xlabel='Cluster', ylabel='Pm25'>"
      ]
     },
     "execution_count": 52,
     "metadata": {},
     "output_type": "execute_result"
    },
    {
     "data": {
      "image/png": "[encoded data removed]",
      "text/plain": [
       "<Figure size 1200x600 with 1 Axes>"
      ]
     },
     "metadata": {},
     "output_type": "display_data"
    }
   ],
   "source": [
    "plt.figure(figsize=(12, 6))\n",
    "sns.boxplot(x=\"Cluster\", y=\"Pm25\", data=df_pollutants_with_cluster_numbers)"
   ]
  },
  {
   "cell_type": "code",
   "execution_count": null,
   "metadata": {},
   "outputs": [
    {
     "name": "stdout",
     "output_type": "stream",
     "text": [
      "['Abu dhabi', 'Aguascalientes', 'Anyang', 'Beijing', 'Bhopal', 'Bursa', 'Chandigarh', 'Changchun', 'Changsha', 'Changzhou', 'Chengdu', 'Chongqing', 'Delhi', 'Denizli', 'Dubai', 'Fushun', 'Gandhinagar', 'Ghāziābād', 'Hangzhou', 'Harbin', 'Hefei', 'Hyderabad', 'Hāpur', 'Jaipur', 'Jinan', 'Khorramshahr', 'Kolkata', 'Konya', 'Lanzhou', 'Lucknow', 'Mumbai', 'Muzaffarnagar', 'Nagpur', 'Nanchang', 'Nanjing', 'Patna', 'Petaẖ tiqwa', 'Qingdao', 'Qinhuangdao', 'San luis potosí', 'Santiago', 'Shanghai', 'Shenyang', 'Shijiazhuang', 'Shiyan', 'Suzhou', 'Taiyuan', 'Tianjin', 'Ulan bator', 'Visakhapatnam', 'Wuhan', 'Wuxi', 'Xining', 'Xinxiang', 'Xi’an', 'Xuchang', 'Yinchuan', 'Zhengzhou', 'Zhuzhou', 'Ürümqi', 'Ḩawallī']\n"
     ]
    }
   ],
   "source": [
    "# Städte in Cluster 1 anzeigen (höchste Luftverschmutzung)\n",
    "df_cluster_1 = df_pollutants_with_cluster_numbers[df_pollutants_with_cluster_numbers[\"Cluster\"] == 1]\n",
    "\n",
    "print(df_cluster_1.index.tolist())"
   ]
  },
  {
   "cell_type": "code",
   "execution_count": null,
   "metadata": {},
   "outputs": [
    {
     "name": "stdout",
     "output_type": "stream",
     "text": [
      "['Adapazarı', 'Arāk', 'Ashdod', 'Balıkesir', 'Bandar abbas', 'Hạ long', 'Isfahan', 'Karaj', 'Kerman', 'Kermanshah', 'Khorramabad', 'Oaxaca', 'Qom', 'Shiraz', 'Tabriz', 'Temuco', 'Yazd', 'Zanjān', 'Zenica']\n"
     ]
    }
   ],
   "source": [
    "# Städte in Cluster 2 anzeigen (Schwefeldioxid-Cluster; industrielle Emissionen, aber auch Vulkanaktivität)\n",
    "df_cluster_2 = df_pollutants_with_cluster_numbers[df_pollutants_with_cluster_numbers[\"Cluster\"] == 2]\n",
    "\n",
    "print(df_cluster_2.index.tolist())"
   ]
  },
  {
   "cell_type": "code",
   "execution_count": 56,
   "metadata": {},
   "outputs": [
    {
     "data": {
      "image/png": "[encoded data removed]",
      "text/plain": [
       "<Figure size 1200x600 with 1 Axes>"
      ]
     },
     "metadata": {},
     "output_type": "display_data"
    }
   ],
   "source": [
    "plt.figure(figsize=(12, 6))\n",
    "sns.boxplot(x=\"Cluster\", y=\"So2\", data=df_pollutants_with_cluster_numbers)\n",
    "plt.title(\"SO₂-Konzentration pro Cluster\")\n",
    "plt.show()"
   ]
  },
  {
   "cell_type": "code",
   "execution_count": null,
   "metadata": {},
   "outputs": [
    {
     "name": "stdout",
     "output_type": "stream",
     "text": [
      "['Adana', 'Amman', 'Andong', 'Ankara', 'Antakya', 'Baguio', 'Bangkok', 'Belgrade', 'Bengaluru', 'Bogotá', 'Brescia', 'Busan', 'Butuan', 'Calgary', 'Changwon', 'Chennai', 'Cheongju-si', 'Chiang mai', 'Chihuahua', 'Chillán', 'Chon buri', 'Chuncheon', 'Concepción', 'Cuernavaca', 'Daegu', 'Daejeon', 'Dammam', 'Dongguan', 'Douliu', 'Erzurum', 'Eskişehir', 'Foshan', 'Fuzhou', 'Guadalajara', 'Guangzhou', 'Guiyang', 'Gwangju', 'Hanoi', 'Hegang', 'Hong kong', 'Incheon', 'Irbid', 'Istanbul', 'İzmir', 'İzmit', 'Jeonju', 'Jieyang', 'Johannesburg', 'Kaohsiung', 'Katowice', 'Kayseri', 'Kielce', 'Kraków', 'Kunming', 'Kütahya', 'Lampang', 'Lima', 'Los angeles', 'Los ángeles', 'Macau', 'Mexico city', 'Middelburg', 'Milan', 'Miskolc', 'Mokpo', 'Monterrey', 'Morelia', 'Mysore', 'Nakhon pathom', 'Nanning', 'Naples', 'Nashik', 'Netanya', 'Nicosia', 'Ningbo', 'Niš', 'Novi sad', 'Novosibirsk', 'Parma', 'Pohang', 'Pretoria', 'Pristina', 'Puebla', 'Qiqihar', 'Quilpué', 'Quito', 'Rancagua', 'Rayong', 'Samsun', 'Samut prakan', 'Sanandaj', 'Sarajevo', 'Sejong', 'Seongnam-si', 'Seoul', 'Shantou', 'Shenzhen', 'Shillong', 'Singapore', 'Skopje', 'Sofia', 'Suwon', 'São paulo', 'Taichung', 'Tainan', 'Taipei', 'Talca', 'Taoyuan city', 'Tashkent', 'Tbilisi', 'Tel aviv', 'Tepic', 'Thiruvananthapuram', 'Thrissur', 'Toluca', 'Trabzon', 'Turin', 'Tuzla', 'Ulsan', 'Valparaíso', 'Vereeniging', 'Warsaw', 'Wrocław', 'Xiamen', 'Yeosu', 'Yunfu', 'Zabrze', 'Zagreb', 'Zamboanga', 'Łódź']\n"
     ]
    }
   ],
   "source": [
    "# Städte in Cluster 3 anzeigen (mittlere Luftverschmutzung mit Ausreißern)\n",
    "df_cluster_3 = df_pollutants_with_cluster_numbers[df_pollutants_with_cluster_numbers[\"Cluster\"] == 3]\n",
    "\n",
    "print(df_cluster_3.index.tolist())"
   ]
  },
  {
   "cell_type": "code",
   "execution_count": 49,
   "metadata": {},
   "outputs": [
    {
     "data": {
      "image/png": "[encoded data removed]",
      "text/plain": [
       "<Figure size 1200x600 with 1 Axes>"
      ]
     },
     "metadata": {},
     "output_type": "display_data"
    }
   ],
   "source": [
    "import seaborn as sns\n",
    "import matplotlib.pyplot as plt\n",
    "\n",
    "plt.figure(figsize=(12, 6))\n",
    "sns.boxplot(x=\"Cluster\", y=\"No2\", data=df_pollutants_with_cluster_numbers)\n",
    "plt.title(\"PM2.5-Konzentration pro Cluster\")\n",
    "plt.show()"
   ]
  },
  {
   "cell_type": "code",
   "execution_count": null,
   "metadata": {},
   "outputs": [
    {
     "name": "stdout",
     "output_type": "stream",
     "text": [
      "['Ashkelon']\n"
     ]
    }
   ],
   "source": [
    "# Städte in Cluster 4 anzeigen (Ashkelon, ungewöhnlich hoher CO-Wert)\n",
    "df_cluster_4 = df_pollutants_with_cluster_numbers[df_pollutants_with_cluster_numbers[\"Cluster\"] == 4]\n",
    "\n",
    "print(df_cluster_4.index.tolist())"
   ]
  },
  {
   "cell_type": "code",
   "execution_count": 60,
   "metadata": {},
   "outputs": [
    {
     "data": {
      "text/plain": [
       "Co        138.73\n",
       "No2         4.88\n",
       "O3         38.37\n",
       "So2         1.11\n",
       "Pm10       35.15\n",
       "Pm25       58.36\n",
       "Cluster     4.00\n",
       "Name: Ashkelon, dtype: float64"
      ]
     },
     "execution_count": 60,
     "metadata": {},
     "output_type": "execute_result"
    }
   ],
   "source": [
    "ashkelon_values = df_pollutants_with_cluster_numbers.loc[\"Ashkelon\"]\n",
    "ashkelon_values"
   ]
  },
  {
   "cell_type": "code",
   "execution_count": 61,
   "metadata": {},
   "outputs": [
    {
     "data": {
      "image/png": "[encoded data removed]",
      "text/plain": [
       "<Figure size 1200x600 with 1 Axes>"
      ]
     },
     "metadata": {},
     "output_type": "display_data"
    }
   ],
   "source": [
    "plt.figure(figsize=(12, 6))\n",
    "sns.boxplot(x=\"Cluster\", y=\"Co\", data=df_pollutants_with_cluster_numbers)\n",
    "plt.title(\"CO-Konzentration pro Cluster\")\n",
    "plt.show()"
   ]
  }
 ],
 "metadata": {
  "kernelspec": {
   "display_name": ".venv",
   "language": "python",
   "name": "python3"
  },
  "language_info": {
   "codemirror_mode": {
    "name": "ipython",
    "version": 3
   },
   "file_extension": ".py",
   "mimetype": "text/x-python",
   "name": "python",
   "nbconvert_exporter": "python",
   "pygments_lexer": "ipython3",
   "version": "3.11.4"
  }
 },
 "nbformat": 4,
 "nbformat_minor": 2
}
