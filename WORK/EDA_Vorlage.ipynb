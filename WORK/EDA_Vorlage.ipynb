{
 "cells": [
  {
   "cell_type": "markdown",
   "id": "d3635998-e014-45e0-b5c9-141d77b071de",
   "metadata": {
    "tags": []
   },
   "source": [
    "# Agnostische EDA auf die Zielvariable\n",
    "## Eine gezielte Untersuchung der Daten auf mögliche Prädiktoren ohne die Scheuklappen des Vorwissens"
   ]
  },
  {
   "cell_type": "markdown",
   "id": "9a77a2ba-4e6a-4c1a-bd6b-1402efe1d889",
   "metadata": {},
   "source": [
    "<div style=\"border: 1px solid black; padding: 10px; background-color: lightblue;\">\n",
    "    <b>Das Szenario</b><br>\n",
    "    In dieses Projekt schauen wir ohne Domänenwissen über die Daten: Wir sollen einen Datensatz als Vorbereitung\n",
    "    für ein späteres Modelltraining so unvoreingenommen wie möglich auf gute Kandidaten zur Vorhersage einer\n",
    "    gegebenen Zielvariable untersuchen. Dazu wurden sowohl die Spalten des Originaldatensatzes umbenannt und \n",
    "    so in einen völlig anderen, fiktiven Kontext gesetzt, als auch insbesondere Kategorienklassen diesem \n",
    "    fiktiven Kontext angepasst.<br>\n",
    "    Unser Wissen über die Daten beschränkt sich auf das Folgende:<br>\n",
    "    <li>Die Daten liegen in einer .csv-Datei namens \"eda_data.csv\"</li>\n",
    "    <li>Die erste Spalte \"ID\" ist eine numerische, lückenlos aufsteigende Indexspalte ohne Dopplungen</li>\n",
    "    <li>Die Zielvariable für das spätere Modelltraining heißt \"Infected\"</li>\n",
    "    <br>\n",
    "    <b>Das Ziel dieser EDA</b><br>\n",
    "    In diesem Notebook gehen wir exemplarisch durch, wie wir in der EDA\n",
    "    <li>den Blick für mögliche wichtige Spalten offen halten, auch und gerade wenn unser Domänenwissen \n",
    "    und/oder \"der gesunde Menschenverstand\" bestimmte Features als wichtig nahelegen und andere verfrüht \n",
    "    als vernachlässigbar erscheinen lassen, und</li>\n",
    "    <li>eine vielversprechende Featureselektion und ggf. sogar ein vielversprechendes erstes Feature Engineering\n",
    "    für ein einfaches Basismodell vorbereiten können, das dennoch bereits gute Ergebnisse liefert.</li><br>\n",
    "    <br>\n",
    "    <b>Die Daten</b><br>\n",
    "    Tatsächlich handelt es sich hier um einen Auszug aus einem authentischen Datensatz rund um die Passgiere \n",
    "    der HMS Titanic, der aber wie oben beschrieben vorverarbeitet und durch einige fiktive Daten ergänzt wurde. \n",
    "    Findest Du heraus, welche Spalten ursprünglich welchen Inhalt hatten, ohne in die Auflösung zu schauen? \n",
    "    (ganz unten im grünen Kasten)\n",
    "</div>"
   ]
  },
  {
   "cell_type": "markdown",
   "id": "7fd7612f-cf01-4621-8728-82f20927e8f6",
   "metadata": {},
   "source": [
    "## Vorbereitung"
   ]
  },
  {
   "cell_type": "code",
   "execution_count": null,
   "id": "05b86687-574e-4085-83a6-8ec84e6a5ef5",
   "metadata": {},
   "outputs": [],
   "source": [
    "# Importiere alle benötigten Module\n",
    "import pandas as pd\n",
    "import numpy as np\n",
    "import matplotlib.pyplot as plt\n",
    "import seaborn as sns"
   ]
  },
  {
   "cell_type": "code",
   "execution_count": null,
   "id": "e8ee1212-4689-45dd-a9d8-279d40ca244c",
   "metadata": {},
   "outputs": [],
   "source": [
    "# Lege Darstellungsoptionen, Warnungsunterdrückungen etc. fest\n",
    "pd.set_option('display.float_format', '{:,.2f}'.format)"
   ]
  },
  {
   "cell_type": "code",
   "execution_count": null,
   "id": "3fb8aab4-b78c-47b5-b0d6-f6ae9e79160a",
   "metadata": {},
   "outputs": [],
   "source": [
    "# Lade die Daten\n",
    "df = pd.read_csv('eda_data.csv')"
   ]
  },
  {
   "cell_type": "markdown",
   "id": "3625c63d-7a9c-405c-a32b-454a8f7aebc4",
   "metadata": {},
   "source": [
    "<div style=\"border: 1px solid black; padding: 10px; background-color: lightblue;\">\n",
    "    <b>In der EDA nehmen wir diverse Datenmanipulationen vor.</b><br>\n",
    "    Um sicherzugehen, dass wir hier nichts an den Daten ändern, die wir später im Training verwenden, arbeiten wir daher in der EDA <b>ausschließlich mit einer Kopie der Daten.</b><br>\n",
    "    Eine Alternative wäre, die Daten nach der EDA neu einzulesen - gerade bei großen Datensätzen wird dadurch weniger lokaler Speicherplatz belegt, aber dafür u.a. die Ladezeiten erhöht.\n",
    "</div>"
   ]
  },
  {
   "cell_type": "code",
   "execution_count": null,
   "id": "a2f66b63-7dc9-4a30-8926-99287c77c5ba",
   "metadata": {},
   "outputs": [],
   "source": [
    "# Erstelle eine Kopie der Rohdaten für die EDA\n",
    "df_eda = df.copy()"
   ]
  },
  {
   "cell_type": "markdown",
   "id": "06be13b4-402a-43fc-8af5-009f7ab3f488",
   "metadata": {},
   "source": [
    "#### Ein erster Blick auf die Daten"
   ]
  },
  {
   "cell_type": "code",
   "execution_count": null,
   "id": "78f13c7f-516d-4f47-9219-3b7ffd4f9606",
   "metadata": {},
   "outputs": [],
   "source": [
    "# Betrachte die Daten\n",
    "df_eda.head()"
   ]
  },
  {
   "cell_type": "code",
   "execution_count": null,
   "id": "a49f3489-897f-484c-996e-bf8b59d05c17",
   "metadata": {},
   "outputs": [],
   "source": [
    "# Zeige eine Übersicht\n",
    "def overview(df):\n",
    "    '''\n",
    "    Erstelle einen Überblick über einige Eigenschaften der Spalten eines DataFrames.\n",
    "    VARs\n",
    "        df: Der zu betrachtende DataFrame\n",
    "    RETURNS:\n",
    "        None\n",
    "    '''\n",
    "    display(pd.DataFrame({'dtype': df.dtypes,\n",
    "                          'total': df.count(),\n",
    "                          'missing': df.isna().sum(),\n",
    "                          'missing%': df.isna().mean()*100,\n",
    "                          'n_uniques': df.nunique(),\n",
    "                          'uniques%': df.nunique()/df.shape[0]*100,\n",
    "                          'uniques': [df[col].unique() for col in df.columns]\n",
    "                         }))\n",
    "overview(df_eda)"
   ]
  },
  {
   "cell_type": "code",
   "execution_count": null,
   "id": "c5d4ac2f",
   "metadata": {},
   "outputs": [],
   "source": [
    "Nan-Werte\n",
    "Nans bei Vienna für o3 checken\n",
    "Buenos Aires"
   ]
  },
  {
   "cell_type": "markdown",
   "id": "bc19a202",
   "metadata": {},
   "source": [
    "[Link](https://docs.python.org/2/tutorial/datastructures.html#list-comprehensions) zur Dokumentation zu list comprehensions"
   ]
  },
  {
   "cell_type": "markdown",
   "id": "471ff2fd-b48e-4b5c-8565-f0f75671be19",
   "metadata": {},
   "source": [
    "<div style=\"border: 1px solid black; padding: 10px; background-color: lightblue;\">\n",
    "    <b>Machen wir uns ein paar Notizen.</b><br>\n",
    "</div>"
   ]
  },
  {
   "cell_type": "markdown",
   "id": "14323b31-e696-4bd9-aad5-972d461b3f1d",
   "metadata": {},
   "source": [
    "<div style=\"border: 1px solid black; padding: 10px; background-color: lightyellow;\">\n",
    "    <b>Zielvariable</b><br>\n",
    "        #Infected: cat, binär -> binäres Klassifikationsproblem.<br>\n",
    "    <b>Weitere Variablen:</b><br>\n",
    "        <li>#Setup: cat, 3 Klassen (ordinal?)</li>\n",
    "        <li>#Type: cat, binär</li>\n",
    "        <li>#Level: float16, 20% missing</li>\n",
    "        <li>#Local_Pool: Int8, 9 unique. (kategorisch?)</li>\n",
    "        <li>#M_Label: cat, 3 Klassen, <1% nans</li>\n",
    "        <li>#Building: cat, 8 Klassen (ordinal?), 77% missing</li>\n",
    "        <li>#Licence: cat, 76% uniques (reduzierbar?)</li>\n",
    "        <li>#M_Number: Int16</li>\n",
    "        <li>#P_Number: float16, 48% missing</li>\n",
    "        <li>#Last_User: cat, 100% unique</li>\n",
    "</div>"
   ]
  },
  {
   "cell_type": "code",
   "execution_count": null,
   "id": "7f910c6a-81b3-4ef1-b2ad-bcc973e40d6b",
   "metadata": {},
   "outputs": [],
   "source": [
    "# Nahbetrachtungen\n",
    "print(f'Duplikate: {df_eda.duplicated().sum()}')\n",
    "print(f'Uniques in \"Version\": {df_eda[\"Level\"].unique()}')\n",
    "display(df_eda.describe())\n",
    "\n",
    "# Gruppierung\n",
    "cats = ['Setup', 'Type', 'Local_Pool', 'M_Label', 'Building']\n",
    "print(cats)\n",
    "nums = list(df_eda.select_dtypes(exclude=\"object\").columns)\n",
    "print(nums)"
   ]
  },
  {
   "cell_type": "markdown",
   "id": "e7eb8c33-0014-465c-a3a8-643f528ddc7b",
   "metadata": {},
   "source": [
    "[Link](https://pandas.pydata.org/docs/reference/api/pandas.DataFrame.select_dtypes.html) zur Dokumentation von `select_dtypes()`\n",
    "\n",
    "\n",
    "Eine andere Möglichkeit für Notizen:"
   ]
  },
  {
   "cell_type": "code",
   "execution_count": null,
   "id": "575ff462-fc13-4300-bf59-a5cc2d2fcf31",
   "metadata": {},
   "outputs": [],
   "source": [
    "''' NOTIZEN\n",
    "\n",
    "#Infected (Target): cat, binär -> binäres Klassifikationsproblem\n",
    "\n",
    "#Setup: cat, 3 Klassen (ordinal?)\n",
    "#Type: cat, binär\n",
    "#Level: float16, 177 nan\n",
    "#Local_Pool: Int8, 9 unique (kategorisch?)\n",
    "#M_Label: cat, 3 Klassen, 2 nan\n",
    "#Building: cat, 8 Klassen (ordinal?), 687 nan -> nur 204 given (!)\n",
    "#Licence: cat, 681 uniques (reduzierbar?)\n",
    "#M_Number: Int16\n",
    "#P_Number: float16\n",
    "#Last_User: cat, alle unique (reduzierbar?)\n",
    "'''"
   ]
  },
  {
   "cell_type": "markdown",
   "id": "d6dd535f-4fa5-45dc-887d-df9b8bc55676",
   "metadata": {},
   "source": [
    "<div style=\"border: 1px solid black; padding: 10px; background-color: lightblue;\">\n",
    "    <b>Kategorische Features mit sehr vielen einzigartigen Werten müssen oft erst sehr aufwändig \n",
    "    analysiert und aufbereitet werden,</b> um ihnen für das Modelltraining wertvolle Informationen \n",
    "    zu entlocken, ohne die Dimensionalität bis zur Unbrauchbarkeit zu expandieren - <b>falls sie \n",
    "    überhaupt wertvolle Informationen für das Modelltraining enthalten.</b> In diesem Beispiel \n",
    "    bietet die Spalte 'Licence' viel Raum zum Experimentieren. Man könnte sie zum Beispiel auf \n",
    "    Fragen untersuchen wie \"sind die Zahlenteile der Werte als numerische Features ein wertvoller \n",
    "    Prädiktor? Oder umgekehrt die alphanumerischen Anteile?\" etc.pp. Im Rahmen sowohl der Live \n",
    "    Session als auch einer EDA würde dies aber zu weit führen, und auch in der Praxis lautet \n",
    "    unsere Empfehlung im Umgang mit dieser Art von Features:<br>\n",
    "    <b>Solange es keinen zwingenden Grund gibt, diese Features bereits im Basismodell zu \n",
    "    berücksichtigen, lasse sie zumindest zunächst außen vor und komme erst in späteren \n",
    "    Iterationen der Modelloptimierung ggf. gezielt auf sie zurück. \n",
    "    Die mögliche Verbesserung der Modellperformance und der dafür notwendige Aufwand stehen hier \n",
    "    oft in einem eher fragwürdigen Verhältnis zueinander.</b>\n",
    "</div>"
   ]
  },
  {
   "cell_type": "markdown",
   "id": "12fed92c-dad4-4f9d-9183-73c4a502bd8b",
   "metadata": {},
   "source": [
    "#### Vorbereitung der Daten"
   ]
  },
  {
   "cell_type": "markdown",
   "id": "b48dfea5-d5ef-40ff-b6cb-951aadf85177",
   "metadata": {},
   "source": [
    "<div style=\"border: 1px solid black; padding: 10px; background-color: lightblue;\">\n",
    "    Die Zielvariable ist <b>binär kategorisch</b>,<br>\n",
    "    und um sie möglichst flexibel auswerten zu können, kodieren wir sie ensprechend.\n",
    "</div>"
   ]
  },
  {
   "cell_type": "code",
   "execution_count": null,
   "id": "f2a6720d-a131-4e08-aa3a-3ceac0098da2",
   "metadata": {},
   "outputs": [],
   "source": [
    "# Zielvariable binär kodieren\n",
    "df_eda['Infected'] = df_eda['Infected'].replace({'no': 0, 'yes': 1})\n",
    "df_eda.head()"
   ]
  },
  {
   "cell_type": "markdown",
   "id": "5903f3ae-2dcf-4fed-aa21-c864d9fd6058",
   "metadata": {},
   "source": [
    "<div style=\"border: 1px solid black; padding: 10px; background-color: lightblue;\">\n",
    "    <b>Nicht selten ist der bloße Umstand an sich, dass Werte fehlen, eine wertvolle Information</b> \n",
    "    auch und gerade für die Vorhersage der Zielvariablen. Daher lohnt es sich oft, in der EDA zunächst \n",
    "    \"auf Verdacht\" davon auszugehen, dass dem so ist, und machen diese Information auswertbar:\n",
    "    <li>In kategorischen Spalten ersetzen wir fehlende Werte durch einen eigenen einzigartigen <b>Platzhalter-Wert</b>, \n",
    "    z.B. \"Unknown\", \"missing\", \"keine_Angabe\" o.ä.: <code>df['Feature]' = df['Feature'].fillna(\"Unknown\")</li>\n",
    "    <li>In numerischen Spalten können wir fehlende Werte nicht einfach durch einen Platzhalter wie 0 ersetzen, \n",
    "    da dies einerseits die Werteverteilung verzerren würde und andererseits die Information, dass \n",
    "    der Wert fehlte, verloren ginge. Stattdessen erstellen wir ein neues binäres, sogenanntes \n",
    "    <b>Missingness</b>-Feature: <code>df['Feature_missing'] = df['Feature'].isna()</li>\n",
    "</div>"
   ]
  },
  {
   "cell_type": "code",
   "execution_count": null,
   "id": "542f99b5-f03b-4ab6-8278-4fbb03f95555",
   "metadata": {},
   "outputs": [],
   "source": [
    "# Nochmal eine Übersicht zu fehlenden Werten ziehen\n",
    "df_eda.isna().sum()"
   ]
  },
  {
   "cell_type": "markdown",
   "id": "27fed9ce-e555-4a9c-b9be-aedbbc0697ec",
   "metadata": {},
   "source": [
    "<div style=\"border: 1px solid black; padding: 10px; background-color: lightyellow;\">\n",
    "    Interessante Spalten: Level, Building, P_Number\n",
    "</div>"
   ]
  },
  {
   "cell_type": "code",
   "execution_count": null,
   "id": "2985301a-26bb-4dab-8648-382caa500631",
   "metadata": {},
   "outputs": [],
   "source": [
    "df_eda['P_Number'].isna().values.any()"
   ]
  },
  {
   "cell_type": "code",
   "execution_count": null,
   "id": "e3c0dbfa-a44a-483b-ad06-8a2199d514bf",
   "metadata": {},
   "outputs": [],
   "source": [
    "# Für numerische Features mit signifikant vielen fehlenden Werten: \"Missingness\"-Feature\n",
    "nums = list(df_eda.select_dtypes(exclude = 'object').columns)\n",
    "print(nums)\n",
    "\n",
    "for entry in nums:\n",
    "    if df_eda[entry].isna().values.any():\n",
    "        name = entry + '_missing'\n",
    "        df_eda[name] = df_eda[entry].isna().astype('uint8')\n",
    "\n",
    "df_eda.head()"
   ]
  },
  {
   "cell_type": "code",
   "execution_count": null,
   "id": "694d4f9c-49d7-434d-a9f9-69746a7523c5",
   "metadata": {},
   "outputs": [],
   "source": [
    "df_eda.columns"
   ]
  },
  {
   "cell_type": "code",
   "execution_count": null,
   "id": "a0667051-f9d6-4423-9cea-90f73e78f63d",
   "metadata": {},
   "outputs": [],
   "source": [
    "# Nicht vergessen: Neue kategorische Spalten in die cats-Liste aufnehmen\n",
    "cats = list(df_eda.select_dtypes(include=['object']).columns)\n",
    "cats = cats + ['Level_missing', 'P_Number_missing']\n",
    "cats\n",
    "\n",
    "# Bei kategorischen Features: Eigene Klasse 'Unknown'\n",
    "for entry in cats:\n",
    "    df_eda[entry] = df_eda[entry].fillna('Unknown')"
   ]
  },
  {
   "cell_type": "code",
   "execution_count": null,
   "id": "123fed71-d90e-4e5c-b624-7dde75547680",
   "metadata": {},
   "outputs": [],
   "source": [
    "# Noch einmal den Überblick, um zu prüfen, ob alles geklappt hat\n",
    "overview(df_eda)"
   ]
  },
  {
   "cell_type": "markdown",
   "id": "040b1842-8ebe-4311-ae57-ecf398c32e05",
   "metadata": {},
   "source": [
    "## Und jetzt: Plotten, plotten und plotten\n",
    "und dabei Notizen machen"
   ]
  },
  {
   "cell_type": "markdown",
   "id": "8a2da8f4-7e35-4c03-8871-646e7d4a468d",
   "metadata": {},
   "source": [
    "<div style=\"border: 1px solid black; padding: 10px; background-color: lightblue;\">\n",
    "    Beim Plotten von Verteilungen, Strukturen etc. bringt es einen erheblichen Mehrwert für die \n",
    "    Auswertung zum Zweck eines besseren Modelltrainings, wenn wir insbesondere die ggf. \n",
    "    unterschiedlichen <b>Verteilungen der Zielklassen in den Features darstellen.</b><br>\n",
    "    Dafür gibt es verschiedene Möglichkeiten:\n",
    "    <li> Mit Kreuztabellen (<code>pd.crosstab(index=df['Feature'], columns=df['Target'])</code>)</li>\n",
    "    <li> Mittels Gruppierung (<code>df.groupby('Target')['Feature']</code>)</li>\n",
    "    <li> In vielen Seaborn-Plots mit dem Parameter <code>hue='Target'</code></li>\n",
    "</div>"
   ]
  },
  {
   "cell_type": "markdown",
   "id": "263debcf-bdda-4a61-929b-e80f937426b1",
   "metadata": {},
   "source": [
    "#### Zuerst: Die Zielvariable"
   ]
  },
  {
   "cell_type": "code",
   "execution_count": null,
   "id": "980b0952-131e-4454-b3e8-ff973c35b4d4",
   "metadata": {},
   "outputs": [],
   "source": [
    "# Was ist das Verhältnis zwischen den Zielklassen ganz allgemein?\n",
    "pd.crosstab(index = df['Infected'], columns = 'count', normalize = True)\n",
    "\n"
   ]
  },
  {
   "cell_type": "markdown",
   "id": "800eaf25-e64f-4891-a406-e2631b8725ea",
   "metadata": {},
   "source": [
    "<div style=\"border: 1px solid black; padding: 10px; background-color: lightyellow;\">\n",
    "    Die Zielklassen sind mit einem Verhältnis von 3:2 nicht ganz ausbalanciert, aber für das Basismodell \n",
    "    wahrscheinlich ausreichend. Resampling ist also voraussichtlich erst in der Phase der iterativen \n",
    "    Modelloptimierung notwendig.\n",
    "</div>"
   ]
  },
  {
   "cell_type": "markdown",
   "id": "62912c20-a886-431e-91f0-ad0b159f32cd",
   "metadata": {
    "tags": []
   },
   "source": [
    "#### Beginnen wir mit den numerischen Features"
   ]
  },
  {
   "cell_type": "code",
   "execution_count": null,
   "id": "0db42958-edbe-4dde-ab4d-e0065a2f6704",
   "metadata": {},
   "outputs": [],
   "source": [
    "# Korrelogramm aller numerischen Spalten inklusive den numerisch kodierten Kategorien\n",
    "fig, ax = plt.subplots(figsize = [10,8])\n",
    "sns.heatmap(data = df_eda.corr(), annot = True, ax = ax)\n"
   ]
  },
  {
   "cell_type": "markdown",
   "id": "faaeaf69-792a-40dd-a17e-2d3f61220cc9",
   "metadata": {},
   "source": [
    "<div style=\"border: 1px solid black; padding: 10px; background-color: lightyellow;\">\n",
    "    <b>Korrelationen ~ Infected</b>\n",
    "    <li>M_Number: 0,6</li>\n",
    "    <li>P_Number: 0,41</li>\n",
    "    <li>P_Number_missings: 0,39</li>\n",
    "    <b>Korrelationen untereinander</b>\n",
    "    <li>M_Number ~ P_Number: 0,86</li>\n",
    "    <li>Level ~ P_Number: 0,4</li>\n",
    "    <li>Level ~ M_Number: 0,38</li>\n",
    "    <li>Level ~ Local_Pool: -0,3</li>\n",
    "    <li>Local_Pool ~ P_Number: -0,21</li>\n",
    "</div>"
   ]
  },
  {
   "cell_type": "markdown",
   "id": "a41cf379-e4ac-496d-8358-7784d33496b0",
   "metadata": {},
   "source": [
    "<div style=\"border: 1px solid black; padding: 10px; background-color: lightblue;\">\n",
    "    In erster Linie sind für uns natürlich die unmittelbaren Korrelationen mit der Zielvariablen \n",
    "    von Bedeutung. Weitere Korrelationen können uns aber gute Hinweise für die Feature Selection \n",
    "    und das Feature Engineering geben, z.B. (als Orientierungsleitlinie zu verstehen, nicht als \n",
    "    feste Werte):\n",
    "    <li>Absolute Korrelation = 1: Die Spalten sind redundant, und es sollte nur eine von ihnen \n",
    "    für das Modelltraining verwendet werden.\n",
    "    <li>0,8 < Absolute Korrelation < 1: Kolinearität. Der Einfluss auf die Zielvariable ist \n",
    "    bestenfalls schwer den einzelnen Spalten zuzuordnen; Zusammenfassungsmethoden wie PCA erwägen</li>\n",
    "    <li>usw.</li>\n",
    "</div>"
   ]
  },
  {
   "cell_type": "code",
   "execution_count": null,
   "id": "19fcbf2b-c1a2-4cb4-9e51-38ad4c3fa8a9",
   "metadata": {},
   "outputs": [],
   "source": [
    "# Baue eine Funktion zum Plotten der numerischen Features\n",
    "def numplots(col, data=df_eda, key='Infected'):\n",
    "    '''Plot a grouped histogram and boxplot\n",
    "    ARGS\n",
    "        col: Column to plot\n",
    "        data: DataFrame (default: eda)\n",
    "        key: Column to group by (default: 'Infected')\n",
    "    RETURN: Nne\n",
    "    '''\n",
    "    fig, ax = plt.subplots(ncols=3, figsize=(16,3))\n",
    "    sns.boxplot(data=data, y=col, x=key, ax=ax[0])\n",
    "    data.groupby(key)[col].plot(kind='hist', bins=20, ax=ax[1], alpha=0.5)\n",
    "    data.groupby(key)[col].plot(kind='kde', ax=ax[2])"
   ]
  },
  {
   "cell_type": "code",
   "execution_count": null,
   "id": "15e73f81-c5f5-414a-8357-223eb91d169e",
   "metadata": {},
   "outputs": [],
   "source": [
    "# Vorbereitung\n",
    "nums\n",
    "\n",
    "nums = [\n",
    " 'Level',\n",
    " 'Local_Pool',\n",
    " 'M_Number',\n",
    " 'P_Number',\n",
    " 'Level_missing',\n",
    " 'P_Number_missing']"
   ]
  },
  {
   "cell_type": "code",
   "execution_count": null,
   "id": "22b02159-b910-4aa7-b14c-575c78236b93",
   "metadata": {},
   "outputs": [],
   "source": [
    "# Erstelle die Plots für die numerischen Features\n",
    "for i in nums:\n",
    "    numplots(i, df_eda)\n"
   ]
  },
  {
   "cell_type": "markdown",
   "id": "5da44116-a342-48cc-a083-7336b4be9ef9",
   "metadata": {},
   "source": [
    "<div style=\"border: 1px solid black; padding: 10px; background-color: lightyellow;\">\n",
    "    <li>M-Number und P_Number scheinen wichtig</li>\n",
    "    <li>Level und Local_Pool eher weniger</li>\n",
    "    <li>P_Number: Ausreißer?</li>\n",
    "</div>"
   ]
  },
  {
   "cell_type": "code",
   "execution_count": null,
   "id": "a2d656d2-3822-4d7b-9227-57ddbadce706",
   "metadata": {},
   "outputs": [],
   "source": [
    "# Scattermatrix / Pairplot gruppiert nach Zielvariable\n",
    "sns.pairplot(data = df_eda, hue = 'Infected')"
   ]
  },
  {
   "cell_type": "markdown",
   "id": "9d28953d-3af0-4dd9-ae34-edbade8feacf",
   "metadata": {},
   "source": [
    "<div style=\"border: 1px solid black; padding: 10px; background-color: lightblue;\">\n",
    "    <b>Tipp:</b> Mit einem Alpha-Kanal (über den Parameter <code>plot_kws={'alpha': 0.2}</code>) wirkt der Plot unscharf, aber es kann dazu beitragen, Muster visuell intuitiver zu erkennen.\n",
    "</div>"
   ]
  },
  {
   "cell_type": "markdown",
   "id": "701123dc-522c-45fa-92a5-086a019a7554",
   "metadata": {},
   "source": [
    "<div style=\"border: 1px solid black; padding: 10px; background-color: lightyellow;\">\n",
    "    <li>Ausreißer-Erkennung nach Level ~ M_Number? (DBSCAN/RANSAC/KNN?)</li>\n",
    "    <li>Polynomials über P_Number vor der PCA mit M_Number?</li>\n",
    "    <li> ...</li>\n",
    "</div>"
   ]
  },
  {
   "cell_type": "markdown",
   "id": "02e2ab79-7396-444f-ac59-f05586c858c0",
   "metadata": {},
   "source": [
    "#### Und nun zu den Kategorien"
   ]
  },
  {
   "cell_type": "code",
   "execution_count": null,
   "id": "1a746073-fa9b-49dd-a3ce-8aff1a5611e4",
   "metadata": {},
   "outputs": [],
   "source": [
    "# Bauen wir uns eine Funktion zum Plotten der Kategorien\n",
    "def catplot(x, y=df_eda['Infected']):\n",
    "    '''Display a barplot of a normalized crosstab between x and y and an absolute crosstab for a sanity check.\n",
    "    ARGS:\n",
    "        x: Crosstab 'index' column\n",
    "        y: Crosstab 'columns' column (default: eda['Infected'])\n",
    "    RETURNS: None\n",
    "    '''\n",
    "    # Create two crosstabs: One for absolute and one for relative distributions\n",
    "    crosstab_abs = pd.crosstab(index=df_eda[x], columns=y)\n",
    "    crosstab_rel = pd.crosstab(index=df_eda[x], columns=y, normalize='index')\n",
    "    \n",
    "    # Plot them side by side\n",
    "    fig, ax = plt.subplots(figsize=(16,3), ncols=2)\n",
    "    crosstab_abs.plot(kind='bar', ax=ax[0])\n",
    "    ax[0].set_title('Absolut')\n",
    "    crosstab_rel.plot(kind='bar', ax=ax[1])\n",
    "    ax[1].set_title('Normalisiert')"
   ]
  },
  {
   "cell_type": "code",
   "execution_count": null,
   "id": "456b09c0-866f-42c9-b88c-6ebbb3def85d",
   "metadata": {},
   "outputs": [],
   "source": [
    "# Plotte die Kategorien in cats\n",
    "for entry in cats:\n",
    "    catplot(entry)\n"
   ]
  },
  {
   "cell_type": "markdown",
   "id": "22e19170-978d-4100-a821-7499396860fa",
   "metadata": {},
   "source": [
    "<div style=\"border: 1px solid black; padding: 10px; background-color: lightyellow;\">\n",
    "    <li>Setup: Anscheinend ordinal -> ggf. ordinal kodieren* oder numerisch transformieren statt OHE</li>\n",
    "    <li>Type: Wichtiger Prädiktor</li>\n",
    "    <li>Local_Pool: Binäres Feature \"LocalPoolIn123\" testen</li>\n",
    "    <li>M_Label: Evtl. ordinale Kodierung testen</li>\n",
    "    <li>Building: Binäres Feature \"BuildingKnown\" testen</li>\n",
    "    <li>Level_missing: Unterschied erkennbar, aber vergleichsweise schwach</li>\n",
    "    <li>P_Number_missing: Wichtiger Prädiktor</li>\n",
    "</div>"
   ]
  },
  {
   "cell_type": "markdown",
   "id": "e1db4ccf-125b-4426-949b-211607159876",
   "metadata": {},
   "source": [
    "*[Link](https://scikit-learn.org/dev/modules/generated/sklearn.preprocessing.OrdinalEncoder.html) zur Dokumentation zum `OrdinalEncoder()`"
   ]
  },
  {
   "cell_type": "code",
   "execution_count": null,
   "id": "ef682aad-f1e0-49d0-825c-5e1c5fec2bd7",
   "metadata": {},
   "outputs": [],
   "source": [
    "df_eda['Setup'].unique()"
   ]
  },
  {
   "cell_type": "code",
   "execution_count": null,
   "id": "c736afef-a847-4004-8c95-17da442a28a9",
   "metadata": {},
   "outputs": [],
   "source": [
    "# Engineered Features\n",
    "df_eda['Setup'] = df_eda['Setup'].replace({'3rd': 3, '2nd': 2, '1st': 1})"
   ]
  },
  {
   "cell_type": "code",
   "execution_count": null,
   "id": "5cf08587-0426-4133-a9ea-0d9ed0c22b2a",
   "metadata": {},
   "outputs": [],
   "source": [
    "# neues numerisches Feature -> neue Korrelationsmatrix\n",
    "fig, ax = plt.subplots(figsize = [10,8])\n",
    "sns.heatmap(data = df_eda.corr(), annot = True, ax = ax)"
   ]
  },
  {
   "cell_type": "markdown",
   "id": "45dcc900-1c71-402f-9a1d-aabfaaae60d1",
   "metadata": {},
   "source": [
    "#### Zusammenfassung"
   ]
  },
  {
   "cell_type": "markdown",
   "id": "39d80fce-4e04-4e3c-9073-54f6f2bf7582",
   "metadata": {},
   "source": [
    "<div style=\"border: 1px solid black; padding: 10px; background-color: lightyellow;\">\n",
    "    <b>Features für das Basismodell</b>\n",
    "        <li>#Type (Im Cleaning in boolean oder [0,1] transformieren)</li>\n",
    "        <li>#Setup</li>\n",
    "        <li>#M_Number</li>\n",
    "        <li>#P_Number</li>\n",
    "        <li>#P_Number_missing</li>\n",
    "        <li>#LocalPoolIn123</li>\n",
    "        <li>#BuildingKnown</li>\n",
    "    -> Nur numerische oder binäre Features im Basismodell<br>\n",
    "    <b>In iterativer Modelloptimierung testen</b>\n",
    "        <li>Resampling</li>\n",
    "        <li>#M_Label (ordinal oder OHE)</li>\n",
    "        <li>#Level_Missing</li>\n",
    "        <li>PCA (#M_Number, #P_Number)</li>\n",
    "        <li>Polynomial (#P_Number)</li>\n",
    "        <li>Ausreißererkennung (#Level ~ #M_Number)</li>\n",
    "        <li>#Licence aufbohren</li>\n",
    "</div>"
   ]
  },
  {
   "cell_type": "markdown",
   "id": "5c88b7af-8040-4b11-a1b4-560aa00bcf6c",
   "metadata": {},
   "source": [
    "<div style=\"border: 1px solid black; padding: 10px; background-color: lightgreen;\">\n",
    "    <b>Auflösung:</b>\n",
    "    <li>'Infected' ['yes','no']: 'Survived'; ob ein Passagier den Untergang der Titanic überlebt hat oder nicht</li>\n",
    "    <li>'Setup' ['1st','2nd','3rd']: 'Pclass'; die Kabinenklasse</li>\n",
    "    <li>'Type' ['PC','Mac']: 'Sex' ['m','f']; das Geschlecht des Passagiers</li>\n",
    "    <li>'Level': 'Age'; Alter des Passagiers</li>\n",
    "    <li>'Local_Pool': 'Family'; Wie viele Familienangehörige mit an Bord waren</li>\n",
    "    <li>'M_Label' ['S','C','Q']: 'Embarked'; Einstiegshafen (Southhampton, Cherbourg oder Queenstown)</li>\n",
    "    <li>'Building' ['A','B','C','D','E','F','G','T']: 'Deck'; Kabinendeck</li>\n",
    "    <li>'Licence': 'Ticket'; Registriernummer des Tickets</li>\n",
    "    <li>'M_Number' & 'P_Number': Künstlich erzeugte, fiktive Variablen ohne inhaltliche Bedeutung</li>\n",
    "    <li>'Last_User': 'Name'; Name des Passagiers</li>\n",
    "</div>"
   ]
  },
  {
   "cell_type": "code",
   "execution_count": null,
   "id": "293aaddc-76c9-4a9c-8f62-3d3c313d4bab",
   "metadata": {},
   "outputs": [],
   "source": []
  }
 ],
 "metadata": {
  "kernelspec": {
   "display_name": ".venv",
   "language": "python",
   "name": "python3"
  },
  "language_info": {
   "codemirror_mode": {
    "name": "ipython",
    "version": 3
   },
   "file_extension": ".py",
   "mimetype": "text/x-python",
   "name": "python",
   "nbconvert_exporter": "python",
   "pygments_lexer": "ipython3",
   "version": "3.11.11"
  }
 },
 "nbformat": 4,
 "nbformat_minor": 5
}
