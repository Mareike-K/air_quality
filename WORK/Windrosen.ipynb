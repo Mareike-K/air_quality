{
 "cells": [
  {
   "cell_type": "code",
   "execution_count": null,
   "metadata": {},
   "outputs": [],
   "source": [
    "# Hier muss erst der der df angegeben werden!!! Und die Importe, das Übliche eben."
   ]
  },
  {
   "cell_type": "code",
   "execution_count": null,
   "metadata": {},
   "outputs": [],
   "source": [
    "# # Kurzer Neugierigkeitsexkurs zur Verteilung der Windrichtungen:\n",
    "# from windrose import WindroseAxes\n",
    "\n",
    "# # Entferne NaN-Werte aus Wdir\n",
    "# wind_dir = df[\"Wdir\"].dropna()\n",
    "\n",
    "# # Dummy-Windgeschwindigkeit von 1 m/s für alle Einträge (nur zur Visualisierung notwendig)\n",
    "# wind_speed_dummy = np.ones_like(wind_dir)\n",
    "\n",
    "# # Erzeuge Windrose\n",
    "# ax = WindroseAxes.from_ax()\n",
    "# ax.bar(wind_dir, wind_speed_dummy, normed=True, opening=0.8, edgecolor='white')\n",
    "\n",
    "# # Formatierung\n",
    "# ax.set_legend(False)\n",
    "# plt.title(\"Windrose: Häufigkeit der Windrichtungen\")\n",
    "# plt.show()\n"
   ]
  },
  {
   "cell_type": "code",
   "execution_count": null,
   "metadata": {},
   "outputs": [],
   "source": [
    "# # Windrose für Wspd und Wdir zusammen:\n",
    "\n",
    "# wdir = df[\"Wdir\"].dropna()\n",
    "# wspd = df[\"Wspd\"].dropna()\n",
    "\n",
    "# wind_df = df[[\"Wdir\", \"Wspd\"]].dropna()\n",
    "\n",
    "# ax = WindroseAxes.from_ax()\n",
    "# ax.bar(wind_df[\"Wdir\"], wind_df[\"Wspd\"], normed=True, opening=0.8, edgecolor='white')\n",
    "\n",
    "# # Legende und Titel\n",
    "# ax.set_legend(title=\"Windgeschwindigkeit (km/h)\")\n",
    "# plt.title(\"Windrose: Windrichtung & Windgeschwindigkeit\")\n",
    "# plt.show()\n"
   ]
  },
  {
   "cell_type": "code",
   "execution_count": null,
   "metadata": {},
   "outputs": [],
   "source": [
    "# sns.histplot(df[\"Wspd\"].dropna(), bins=30)\n",
    "# plt.xlabel(\"Windgeschwindigkeit (km/h)\")\n",
    "# plt.title(\"Verteilung der Windgeschwindigkeiten\")\n",
    "# plt.grid(True)\n",
    "# plt.show()\n"
   ]
  },
  {
   "cell_type": "code",
   "execution_count": null,
   "metadata": {},
   "outputs": [],
   "source": [
    "# # Sicherstellen, dass keine NaNs enthalten sind\n",
    "# wind_df = df[[\"Wdir\", \"Wspd\"]].dropna()\n",
    "\n",
    "# # Benutzerdefinierte Bins im realistischen Bereich\n",
    "# custom_bins = [0, 5, 10, 15, 20, 25]\n",
    "\n",
    "# # Windrose plotten\n",
    "# ax = WindroseAxes.from_ax()\n",
    "# ax.bar(\n",
    "#     wind_df[\"Wdir\"],\n",
    "#     wind_df[\"Wspd\"],\n",
    "#     bins=custom_bins,\n",
    "#     normed=True,\n",
    "#     opening=0.8,\n",
    "#     edgecolor=\"white\"\n",
    "# )\n",
    "\n",
    "# # Legende und Formatierung\n",
    "# ax.set_legend(title=\"Windgeschwindigkeit (km/h)\")\n",
    "# plt.title(\"Windrose: Häufigkeit und Stärke der Windrichtungen\")\n",
    "# plt.show()"
   ]
  },
  {
   "cell_type": "code",
   "execution_count": null,
   "metadata": {},
   "outputs": [],
   "source": []
  }
 ],
 "metadata": {
  "language_info": {
   "name": "python"
  }
 },
 "nbformat": 4,
 "nbformat_minor": 2
}
