{
 "cells": [
  {
   "cell_type": "code",
   "execution_count": null,
   "metadata": {},
   "outputs": [],
   "source": [
    "# imports\n",
    "import pandas as pd\n",
    "import os\n",
    "import numpy as np\n",
    "import matplotlib\n",
    "import matplotlib.pyplot as plt\n",
    "import seaborn as sns\n",
    "import datetime\n",
    "%matplotlib inline"
   ]
  },
  {
   "cell_type": "code",
   "execution_count": null,
   "metadata": {},
   "outputs": [],
   "source": [
    "# Settings for displaying floats\n",
    "pd.set_option('display.float_format', '{:,.2f}'.format)"
   ]
  },
  {
   "cell_type": "code",
   "execution_count": null,
   "metadata": {},
   "outputs": [],
   "source": [
    "df = pd.read_csv(\"./data/cleaned_data.csv\")\n",
    "df.head()"
   ]
  },
  {
   "cell_type": "code",
   "execution_count": null,
   "metadata": {},
   "outputs": [],
   "source": [
    "# Convert 'Date' column to datetime\n",
    "df['Date'] = pd.to_datetime(df['Date'])\n",
    "\n",
    "# Split 'Date' column into 'year', 'month' and 'day'\n",
    "df['year'] = df['Date'].dt.year\n",
    "df['month'] = df['Date'].dt.month\n",
    "df['day'] = df['Date'].dt.day\n",
    "\n",
    "# Remove 'Date' column\n",
    "if 'Date' in df.columns:\n",
    "    df.drop(columns=['Date'], inplace=True)\n"
   ]
  },
  {
   "cell_type": "code",
   "execution_count": null,
   "metadata": {},
   "outputs": [],
   "source": [
    "# Display the first 5 rows of the dataframe\n",
    "df.head()"
   ]
  },
  {
   "cell_type": "code",
   "execution_count": null,
   "metadata": {},
   "outputs": [],
   "source": [
    "# Funktion für Übersicht über dtypes, missing values, unique values etc.\n",
    "def overview(df):\n",
    "    '''\n",
    "    Erstelle einen Überblick über einige Eigenschaften der Spalten eines DataFrames.\n",
    "    VARs\n",
    "        df: Der zu betrachtende DataFrame\n",
    "    RETURNS:\n",
    "        None\n",
    "    '''\n",
    "    display(pd.DataFrame({'dtype': df.dtypes,\n",
    "                          'total': df.count(),\n",
    "                          'missing': df.isna().sum(),\n",
    "                          'missing%': df.isna().mean()*100,\n",
    "                          'n_uniques': df.nunique(),\n",
    "                          'uniques%': df.nunique()/df.shape[0]*100,\n",
    "                          'uniques': [df[col].unique() for col in df.columns]\n",
    "                         }))\n"
   ]
  },
  {
   "cell_type": "code",
   "execution_count": null,
   "metadata": {},
   "outputs": [],
   "source": [
    "overview(df)"
   ]
  },
  {
   "cell_type": "code",
   "execution_count": null,
   "metadata": {},
   "outputs": [],
   "source": [
    "missing_values = df.isna().mean() * 100  # Prozent der fehlenden Werte berechnen\n",
    "missing_values_sorted = missing_values.sort_values(ascending=False)  # Nach aufsteigender Reihenfolge sortieren\n",
    "\n",
    "print(missing_values_sorted)\n"
   ]
  },
  {
   "cell_type": "code",
   "execution_count": null,
   "metadata": {},
   "outputs": [],
   "source": [
    "# Berechnen, wie viele Prozent der Werte pro Spalte fehlen\n",
    "missing_percent = df.isna().mean() * 100  \n",
    "\n",
    "# Spalten auswählen, die weniger als 50% fehlende Werte haben\n",
    "df_cleaned = df.loc[:, missing_percent <= 53]\n",
    "\n",
    "# Ergebnis ausgeben\n",
    "print(f\"Anzahl der entfernten Spalten: {df.shape[1] - df_cleaned.shape[1]}\")\n",
    "print(\"Übrige Spalten:\", df_cleaned.columns)\n",
    "\n",
    "df_cleaned.head()"
   ]
  },
  {
   "cell_type": "code",
   "execution_count": null,
   "metadata": {},
   "outputs": [],
   "source": [
    "df_cleaned.shape"
   ]
  },
  {
   "cell_type": "code",
   "execution_count": null,
   "metadata": {},
   "outputs": [],
   "source": [
    "missing_values_df_cleaned = df_cleaned.isna().mean() * 100  # Prozent der fehlenden Werte berechnen\n",
    "missing_values_df_cleaned_sorted = missing_values_df_cleaned.sort_values(ascending=False)  # Nach aufsteigender Reihenfolge sortieren\n",
    "\n",
    "print(missing_values_df_cleaned_sorted)"
   ]
  },
  {
   "cell_type": "code",
   "execution_count": null,
   "metadata": {},
   "outputs": [],
   "source": [
    "df = df_cleaned\n",
    "df.describe()"
   ]
  },
  {
   "cell_type": "code",
   "execution_count": null,
   "metadata": {},
   "outputs": [],
   "source": [
    "df.sample(20)"
   ]
  },
  {
   "cell_type": "code",
   "execution_count": null,
   "metadata": {},
   "outputs": [],
   "source": [
    "df.shape"
   ]
  },
  {
   "cell_type": "code",
   "execution_count": null,
   "metadata": {},
   "outputs": [],
   "source": [
    "# Missing values by city, mit Heatmap\n",
    "\n",
    "missing_by_city = df.groupby('City').apply(lambda x: x.isnull().sum())\n",
    "missing_by_city_percent = missing_by_city / len(df) * 100  # Prozentsatz der fehlenden Werte\n",
    "\n",
    "missing_by_city_percent\n",
    "\n",
    "plt.figure(figsize=(12, 30))\n",
    "sns.heatmap(missing_by_city, cmap=\"Reds\", annot=True, fmt=\".0f\", linewidths=0.5)\n",
    "plt.title(\"Fehlende Werte pro Stadt und Messwert\")\n",
    "plt.xlabel(\"Messwerte\")\n",
    "plt.ylabel(\"Stadt\")\n",
    "plt.xticks(rotation=90)\n",
    "plt.show()\n"
   ]
  },
  {
   "cell_type": "markdown",
   "metadata": {},
   "source": [
    "Idee: Vielleicht erst schauen, in welchen Städten es die meisten fehlenden Werte gibt und dann entscheiden, ob die Städte überhaupt mit in die Analyse einbezogen werden sollen. Vielleicht können wir viel mehr Zeilen erhalten, wenn wir einzelen Städte rauswerfen, die sehr wenig messen? Dann hätten wir weniger Städte, aber mehr Trainingsdaten für die Stäadte, die wir untersuchen wollen? Eigentlich mussten wir das ja schon gemacht haben, als wir nur die Städte mit den meisten Messwerte genommen haben. Aber vielleicht ist die Stadt mit den meisten Messwerten in einem bestimmten Land trotzdem eine Stadt mit wenigen Messwerten im Vergleich zu anderen Ländern?"
   ]
  },
  {
   "cell_type": "code",
   "execution_count": null,
   "metadata": {},
   "outputs": [],
   "source": [
    "# Gibt es Korrelationen zwischen den Features (Collinearity)\n",
    "\n",
    "# Heatmap: Wert über 0.8 = starke Korrelation\n",
    "# Wert zwischen 0.5 und 0.8 = moderate Korrelation\n",
    "# Wert unter 0.5 = schwache Korrelation\n",
    "\n",
    "# Korrelationsmatrix berechnen\n",
    "corr_matrix = df.select_dtypes(include=['number']).corr()\n",
    "\n",
    "# Heatmap der Korrelationen\n",
    "plt.figure(figsize=(12, 8))\n",
    "sns.heatmap(corr_matrix, annot=True, fmt=\".2f\", cmap=\"coolwarm\", center=0, linewidths=0.5)\n",
    "plt.title(\"Korrelation zwischen Features\");\n"
   ]
  },
  {
   "cell_type": "code",
   "execution_count": null,
   "metadata": {},
   "outputs": [],
   "source": [
    "# Nur starke und moderate Korrelationen (>|0.5|) extrahieren, aber ohne die Hauptdiagonale (1.0)\n",
    "\n",
    "# Korrelationsmatrix berechnen\n",
    "corr_matrix = df.corr(numeric_only=True)\n",
    "\n",
    "# Nur moderate und starke Korrelationen (>|0.5|) extrahieren, aber ohne die Hauptdiagonale (1.0)\n",
    "strong_corrs = corr_matrix[(corr_matrix.abs() > 0.5) & (corr_matrix.abs() < 1.0)]\n",
    "\n",
    "# DataFrame umwandeln, damit nur die relevanten Paare angezeigt werden\n",
    "strong_corrs = strong_corrs.stack().reset_index()\n",
    "strong_corrs.columns = [\"Feature 1\", \"Feature 2\", \"Korrelation\"]\n",
    "\n",
    "# Doppelte Kombinationen entfernen (weil Korrelationen symmetrisch sind)\n",
    "strong_corrs = strong_corrs.loc[strong_corrs[\"Feature 1\"] < strong_corrs[\"Feature 2\"]]\n",
    "\n",
    "strong_corrs"
   ]
  },
  {
   "cell_type": "code",
   "execution_count": null,
   "metadata": {},
   "outputs": [],
   "source": [
    "\n",
    "sns.scatterplot(data=df, x=\"temperature\", y=\"dew\", hue=\"City\")\n",
    "plt.title(\"Zusammenhang zwischen Temperatur und Taupunkt\")\n"
   ]
  },
  {
   "cell_type": "code",
   "execution_count": null,
   "metadata": {},
   "outputs": [],
   "source": [
    "#Analyse CO-Werte pro Monat\n",
    "\n",
    "# Konvertiere relevante Spalten in numerische Werte\n",
    "numeric_columns = [\"co\", \"dew\", \"humidity\", \"no2\", \"o3\", \"pm10\", \"pm25\",\n",
    "                   \"pressure\", \"so2\", \"temperature\", \"wind-gust\", \"wind-speed\"]\n",
    "\n",
    "for col in numeric_columns:\n",
    "    df[col] = pd.to_numeric(df[col], errors='coerce')\n",
    "\n",
    "# Berechnung des mittleren CO-Werts pro Monat\n",
    "monthly_co = df.groupby(\"month\")[\"co\"].mean()\n",
    "\n",
    "# Plot erstellen\n",
    "plt.figure(figsize=(10, 5))\n",
    "plt.plot(monthly_co.index, monthly_co.values, marker='o', linestyle='-')\n",
    "plt.xlabel(\"Monat\")\n",
    "plt.ylabel(\"Mittlere CO-Konzentration\")\n",
    "plt.title(\"Durchschnittliche CO-Konzentration pro Monat\")\n",
    "plt.xticks(range(1, 13))  # Monatsskala 1-12\n",
    "plt.grid(True);\n"
   ]
  },
  {
   "cell_type": "code",
   "execution_count": null,
   "metadata": {},
   "outputs": [],
   "source": [
    "# Trennung der Daten in Nord- und Südhalbkugel\n",
    "\n",
    "# Definieren, welche Länder zur Nord- und Südhalbkugel gehören\n",
    "northern_hemisphere_countries = {\n",
    "    \"US\", \"CA\", \"MX\", \"DE\", \"FR\", \"GB\", \"RU\", \"CN\", \"JP\", \"IN\", \"IT\", \"ES\", \"PL\", \"TR\", \"IR\", \"KR\", \"UA\", \"NL\", \"BE\",\n",
    "    \"CH\", \"SE\", \"AT\", \"NO\", \"FI\", \"DK\", \"GR\", \"CZ\", \"HU\", \"RO\", \"BG\", \"PT\", \"IE\", \"SK\", \"HR\", \"LT\", \"SI\", \"LV\", \"EE\"\n",
    "}\n",
    "southern_hemisphere_countries = {\n",
    "    \"AU\", \"NZ\", \"AR\", \"BR\", \"ZA\", \"CL\", \"ID\", \"PE\", \"BO\", \"EC\", \"PY\", \"UY\", \"MG\"\n",
    "}\n",
    "\n",
    "# Daten für Nord- und Südhalbkugel filtern\n",
    "df_north = df[df[\"Country\"].isin(northern_hemisphere_countries)]\n",
    "df_south = df[df[\"Country\"].isin(southern_hemisphere_countries)]\n",
    "\n",
    "# Mittlere CO-Konzentration pro Monat berechnen\n",
    "monthly_co_north = df_north.groupby(\"month\")[\"co\"].mean()\n",
    "monthly_co_south = df_south.groupby(\"month\")[\"co\"].mean()\n",
    "\n",
    "# Plot erstellen\n",
    "plt.figure(figsize=(10, 5))\n",
    "plt.plot(monthly_co_north.index, monthly_co_north.values, marker='o', linestyle='-', label=\"Nordhalbkugel\", color='b')\n",
    "plt.plot(monthly_co_south.index, monthly_co_south.values, marker='o', linestyle='-', label=\"Südhalbkugel\", color='r')\n",
    "\n",
    "plt.xlabel(\"Monat\")\n",
    "plt.ylabel(\"Mittlere CO-Konzentration\")\n",
    "plt.title(\"Vergleich der CO-Konzentration auf Nord- und Südhalbkugel\")\n",
    "plt.xticks(range(1, 13))  # Monatsskala 1-12\n",
    "plt.legend()\n",
    "plt.grid(True);"
   ]
  },
  {
   "cell_type": "code",
   "execution_count": null,
   "metadata": {},
   "outputs": [],
   "source": [
    "# Mittlere CO-Konzentration pro Land berechnen\n",
    "country_co_avg = df.groupby(\"Country\")[\"co\"].mean().sort_values(ascending=False)\n",
    "\n",
    "# Barplot erstellen\n",
    "plt.figure(figsize=(12, 6))\n",
    "country_co_avg.plot(kind='bar', color='b', alpha=0.7)\n",
    "plt.xlabel(\"Land\")\n",
    "plt.ylabel(\"Mittlere CO-Konzentration\")\n",
    "plt.title(\"Durchschnittliche CO-Konzentration pro Land\")\n",
    "plt.xticks(rotation=90)  # Länderbeschriftung drehen für bessere Lesbarkeit\n",
    "plt.grid(axis='y', linestyle='--', alpha=0.7);\n"
   ]
  },
  {
   "cell_type": "code",
   "execution_count": null,
   "metadata": {},
   "outputs": [],
   "source": [
    "# Mittlere CO-Konzentration pro Land berechnen\n",
    "\n",
    "# Mindestanzahl an CO-Messwerten pro Land, um in die Analyse aufgenommen zu werden\n",
    "min_measurements = 100  # Falls nötig, anpassen\n",
    "\n",
    "# Anzahl der CO-Messwerte pro Land berechnen\n",
    "country_co_counts = df.groupby(\"Country\")[\"co\"].count()\n",
    "\n",
    "# Nur Länder behalten, die mindestens `min_measurements` Messwerte haben\n",
    "valid_countries = country_co_counts[country_co_counts >= min_measurements].index\n",
    "\n",
    "# Gefilterten DataFrame mit diesen Ländern erstellen\n",
    "df_valid_countries = df[df[\"Country\"].isin(valid_countries)]\n",
    "\n",
    "# Mittlere CO-Konzentration für diese Länder berechnen\n",
    "country_co_avg_filtered = df_valid_countries.groupby(\"Country\")[\"co\"].mean().sort_values(ascending=False)\n",
    "\n",
    "# Falls nach der Filterung noch Daten vorhanden sind, Plot erstellen\n",
    "if not country_co_avg_filtered.empty:\n",
    "    plt.figure(figsize=(12, 6))\n",
    "    country_co_avg_filtered.plot(kind='bar', color='b', alpha=0.7)\n",
    "    plt.xlabel(\"Land\")\n",
    "    plt.ylabel(\"Mittlere CO-Konzentration\")\n",
    "    plt.title(\"Durchschnittliche CO-Konzentration pro Land (nur Länder mit ausreichenden Messwerten)\")\n",
    "    plt.xticks(rotation=90)  # Länderbeschriftung drehen für bessere Lesbarkeit\n",
    "    plt.grid(axis='y', linestyle='--', alpha=0.7)\n",
    "else:\n",
    "    print(\"Keine ausreichenden Daten für CO-Werte in den Ländern verfügbar.\")\n"
   ]
  },
  {
   "cell_type": "code",
   "execution_count": null,
   "metadata": {},
   "outputs": [],
   "source": [
    "country_co_avg_filtered.head(20).plot(kind='bar')\n"
   ]
  },
  {
   "cell_type": "code",
   "execution_count": null,
   "metadata": {},
   "outputs": [],
   "source": [
    "# Vergleich von Schadstoffen in verschiedenen Städten\n",
    "\n",
    "# Liste der relevanten Schadstoff-Spalten (falls sie in den Daten vorhanden sind)\n",
    "pollutants = [\"co\", \"no2\", \"o3\", \"so2\", \"pm10\", \"pm25\"]\n",
    "\n",
    "# DataFrame mit nur den relevanten Spalten (fehlende Werte entfernen)\n",
    "df_pollutants = df[pollutants].dropna()\n",
    "\n",
    "# Korrelationsmatrix berechnen\n",
    "corr_matrix = df_pollutants.corr()\n",
    "\n",
    "# Heatmap der Korrelationen erstellen\n",
    "plt.figure(figsize=(8, 6))\n",
    "sns.heatmap(corr_matrix, annot=True, fmt=\".2f\", cmap=\"coolwarm\", center=0, linewidths=0.5)\n",
    "plt.title(\"Korrelation zwischen CO und anderen Schadstoffen\");\n"
   ]
  },
  {
   "cell_type": "code",
   "execution_count": null,
   "metadata": {},
   "outputs": [],
   "source": [
    "df[[\"co\", \"no2\"]].corr()"
   ]
  },
  {
   "cell_type": "code",
   "execution_count": null,
   "metadata": {},
   "outputs": [],
   "source": [
    "# Korrelation Schadstoffe und Wettervariablen\n",
    "\n",
    "# Liste der Schadstoffe und Wettervariablen\n",
    "pollutants = [\"co\", \"no2\", \"o3\", \"so2\", \"pm10\", \"pm25\"]\n",
    "weather_vars = [\"temperature\", \"pressure\", \"humidity\", \"dew\", \"wind-speed\", \"wind-gust\"]\n",
    "\n",
    "# DataFrame mit nur den relevanten Spalten (fehlende Werte entfernen)\n",
    "df_pollutants_weather = df[pollutants + weather_vars].dropna()\n",
    "\n",
    "# Korrelationsmatrix berechnen\n",
    "corr_matrix_weather = df_pollutants_weather.corr()\n",
    "\n",
    "# Heatmap der Korrelationen zwischen Schadstoffen & Wettervariablen\n",
    "plt.figure(figsize=(10, 6))\n",
    "sns.heatmap(corr_matrix_weather, annot=True, fmt=\".2f\", cmap=\"coolwarm\", center=0, linewidths=0.5)\n",
    "plt.title(\"Korrelation zwischen Schadstoffen und Wetterfaktoren\");"
   ]
  },
  {
   "cell_type": "code",
   "execution_count": null,
   "metadata": {},
   "outputs": [],
   "source": [
    "df[[\"co\", \"temperature\"]].corr()"
   ]
  },
  {
   "cell_type": "code",
   "execution_count": null,
   "metadata": {},
   "outputs": [],
   "source": [
    "# Schadstoffbelastung über die Zeit in verschiedenen Städten\n",
    "\n",
    "# Durchschnittliche Schadstoffwerte pro Jahr berechnen\n",
    "pollutants = [\"co\", \"no2\", \"o3\", \"so2\", \"pm10\", \"pm25\"]\n",
    "yearly_trends = df.groupby(\"year\")[pollutants].mean()\n",
    "\n",
    "# Liniendiagramm für langfristige Trends erstellen\n",
    "plt.figure(figsize=(12, 6))\n",
    "for pollutant in pollutants:\n",
    "    plt.plot(yearly_trends.index, yearly_trends[pollutant], marker='o', linestyle='-', label=pollutant)\n",
    "\n",
    "plt.xlabel(\"Jahr\")\n",
    "plt.ylabel(\"Mittlere Konzentration\")\n",
    "plt.title(\"Langfristige Entwicklung der Schadstoffwerte\")\n",
    "plt.legend()\n",
    "plt.grid(True);\n"
   ]
  },
  {
   "cell_type": "code",
   "execution_count": null,
   "metadata": {},
   "outputs": [],
   "source": [
    "# Ohne 2014 und 2025, weil zu wenige Daten\n",
    "\n",
    "# Schadstoffe, die analysiert werden sollen\n",
    "pollutants = [\"co\", \"no2\", \"o3\", \"so2\", \"pm10\", \"pm25\"]\n",
    "\n",
    "# Falls \"year\" als String gespeichert ist, in numerischen Wert umwandeln\n",
    "df[\"year\"] = pd.to_numeric(df[\"year\"], errors=\"coerce\")\n",
    "\n",
    "# Durchschnittliche Schadstoffwerte pro Jahr berechnen, aber 2014 & 2025 ausschließen\n",
    "yearly_trends = df.groupby(\"year\")[pollutants].mean()\n",
    "yearly_trends = yearly_trends.loc[(yearly_trends.index > 2014) & (yearly_trends.index < 2025)]\n",
    "\n",
    "# Liniendiagramm für langfristige Trends erstellen\n",
    "plt.figure(figsize=(12, 6))\n",
    "for pollutant in pollutants:\n",
    "    plt.plot(yearly_trends.index, yearly_trends[pollutant], marker='o', linestyle='-', label=pollutant)\n",
    "\n",
    "plt.xlabel(\"Jahr\")\n",
    "plt.ylabel(\"Mittlere Konzentration\")\n",
    "plt.title(\"Langfristige Entwicklung der Schadstoffwerte (ohne 2014 & 2025)\")\n",
    "plt.legend()\n",
    "plt.grid(True);\n"
   ]
  },
  {
   "cell_type": "code",
   "execution_count": null,
   "metadata": {},
   "outputs": [],
   "source": [
    "import matplotlib.pyplot as plt\n",
    "\n",
    "# Schadstoffe, die analysiert werden sollen\n",
    "pollutants = [\"co\", \"no2\", \"o3\", \"so2\", \"pm10\", \"pm25\"]\n",
    "\n",
    "# Länder nach Regionen gruppieren\n",
    "regions = {\n",
    "    \"Europe\": {\"DE\", \"FR\", \"GB\", \"IT\", \"ES\", \"PL\", \"NL\", \"SE\", \"AT\", \"CH\", \"BE\"},\n",
    "    \"North America\": {\"US\", \"CA\", \"MX\"},\n",
    "    \"South America\": {\"BR\", \"AR\", \"CO\", \"CL\", \"PE\"},\n",
    "    \"Asia\": {\"CN\", \"IN\", \"JP\", \"KR\", \"IR\"},\n",
    "    \"Africa\": {\"ZA\", \"EG\", \"NG\"},\n",
    "    \"Oceania\": {\"AU\", \"NZ\"}\n",
    "}\n",
    "\n",
    "# Falls \"year\" als String gespeichert ist, in numerischen Wert umwandeln\n",
    "df[\"year\"] = pd.to_numeric(df[\"year\"], errors=\"coerce\")\n",
    "\n",
    "# Regionen durchgehen & Diagramme erstellen\n",
    "fig, axes = plt.subplots(2, 3, figsize=(15, 8), sharex=True, sharey=True)  # Einheitliche Achsen für bessere Vergleichbarkeit\n",
    "axes = axes.flatten()  # 2D-Array in 1D-Array umwandeln\n",
    "\n",
    "# Speichert alle Linien für die gemeinsame Legende\n",
    "handles, labels = [], []\n",
    "\n",
    "for i, (region, countries) in enumerate(regions.items()):\n",
    "    df_region = df[df[\"Country\"].isin(countries)]\n",
    "    yearly_trends_region = df_region.groupby(\"year\")[pollutants].mean()\n",
    "    yearly_trends_region = yearly_trends_region.loc[(yearly_trends_region.index > 2014) & (yearly_trends_region.index < 2025)]\n",
    "    \n",
    "    ax = axes[i]\n",
    "    for pollutant in pollutants:\n",
    "        line, = ax.plot(yearly_trends_region.index, yearly_trends_region[pollutant], marker='o', linestyle='-', label=pollutant)\n",
    "        \n",
    "        # Speichert eine Linie pro Schadstoff für die gemeinsame Legende\n",
    "        if i == 0:  \n",
    "            handles.append(line)\n",
    "            labels.append(pollutant)\n",
    "\n",
    "    ax.set_title(region)\n",
    "    ax.set_xlabel(\"Jahr\")\n",
    "    ax.set_ylabel(\"Mittelwert\")\n",
    "    ax.grid(True)\n",
    "\n",
    "# Gemeinsame Legende unterhalb der Subplots platzieren\n",
    "fig.legend(handles, labels, loc='lower center', bbox_to_anchor=(0.5, -0.05), ncol=len(pollutants))\n",
    "\n",
    "# Layout optimieren\n",
    "plt.tight_layout();"
   ]
  },
  {
   "cell_type": "code",
   "execution_count": null,
   "metadata": {},
   "outputs": [],
   "source": [
    "# Sechs Top-Länder in Europa\n",
    "\n",
    "import matplotlib.pyplot as plt\n",
    "\n",
    "# Schadstoffe, die analysiert werden sollen\n",
    "pollutants = [\"co\", \"no2\", \"o3\", \"so2\", \"pm10\", \"pm25\"]\n",
    "\n",
    "# Europäische Länder definieren\n",
    "european_countries = {\"DE\", \"FR\", \"GB\", \"IT\", \"ES\", \"PL\", \"NL\", \"SE\", \"AT\", \"CH\", \"BE\"}\n",
    "\n",
    "# Falls \"year\" als String gespeichert ist, in numerischen Wert umwandeln\n",
    "df[\"year\"] = pd.to_numeric(df[\"year\"], errors=\"coerce\")\n",
    "\n",
    "# Nur europäische Länder auswählen\n",
    "df_europe = df[df[\"Country\"].isin(european_countries)]\n",
    "\n",
    "# Länder mit den meisten Messwerten identifizieren\n",
    "top_countries = df_europe[\"Country\"].value_counts().nlargest(6).index  # Falls nur 6 Länder visualisiert werden sollen\n",
    "\n",
    "# Subplots für die gewählten Länder erstellen\n",
    "fig, axes = plt.subplots(2, 3, figsize=(15, 8), sharex=True, sharey=True)  # 2 Reihen, 3 Spalten\n",
    "axes = axes.flatten()\n",
    "\n",
    "for i, country in enumerate(top_countries):\n",
    "    df_country = df_europe[df_europe[\"Country\"] == country]\n",
    "    yearly_trends_country = df_country.groupby(\"year\")[pollutants].mean()\n",
    "    yearly_trends_country = yearly_trends_country.loc[(yearly_trends_country.index > 2014) & (yearly_trends_country.index < 2025)]\n",
    "    \n",
    "    ax = axes[i]\n",
    "    for pollutant in pollutants:\n",
    "        ax.plot(yearly_trends_country.index, yearly_trends_country[pollutant], marker='o', linestyle='-', label=pollutant)\n",
    "    \n",
    "    ax.set_title(country)\n",
    "    ax.set_xlabel(\"Jahr\")\n",
    "    ax.set_ylabel(\"Mittelwert\")\n",
    "    ax.grid(True)\n",
    "\n",
    "# Gemeinsame Legende unterhalb der Subplots platzieren\n",
    "fig.legend(pollutants, loc='lower center', bbox_to_anchor=(0.5, -0.05), ncol=len(pollutants))\n",
    "\n",
    "# Layout optimieren\n",
    "plt.tight_layout();"
   ]
  },
  {
   "cell_type": "code",
   "execution_count": null,
   "metadata": {},
   "outputs": [],
   "source": [
    "# Korrekation zwischen Ozon und anderen Faktoren\n",
    "\n",
    "# Relevante Spalten auswählen\n",
    "pollutants = [\"co\", \"no2\", \"so2\", \"pm10\", \"pm25\", \"o3\"]\n",
    "weather_vars = [\"temperature\", \"pressure\", \"humidity\", \"dew\", \"wind-speed\", \"wind-gust\"]\n",
    "\n",
    "# DataFrame mit nur den relevanten Spalten (fehlende Werte entfernen)\n",
    "df_ozone_corr = df[pollutants + weather_vars].dropna()\n",
    "\n",
    "# Korrelationsmatrix berechnen\n",
    "corr_matrix_ozone = df_ozone_corr.corr()\n",
    "\n",
    "# Heatmap der Korrelationen zwischen Ozon und anderen Faktoren\n",
    "plt.figure(figsize=(8, 6))\n",
    "sns.heatmap(corr_matrix_ozone, annot=True, fmt=\".2f\", cmap=\"coolwarm\", center=0, linewidths=0.5)\n",
    "plt.title(\"Korrelation zwischen Ozon (O₃) und anderen Faktoren\");\n"
   ]
  },
  {
   "cell_type": "code",
   "execution_count": null,
   "metadata": {},
   "outputs": [],
   "source": [
    "# Durchschnittliche Ozonwerte pro Monat berechnen\n",
    "monthly_o3 = df.groupby(\"month\")[\"o3\"].mean()\n",
    "\n",
    "# Liniendiagramm für die saisonale Entwicklung von Ozon erstellen\n",
    "plt.figure(figsize=(10, 5))\n",
    "plt.plot(monthly_o3.index, monthly_o3.values, marker='o', linestyle='-', color='b')\n",
    "plt.xlabel(\"Monat\")\n",
    "plt.ylabel(\"Mittlere O₃-Konzentration\")\n",
    "plt.title(\"Saisonale Entwicklung der Ozonwerte (O₃)\")\n",
    "plt.xticks(range(1, 13), [\"Jan\", \"Feb\", \"Mär\", \"Apr\", \"Mai\", \"Jun\", \"Jul\", \"Aug\", \"Sep\", \"Okt\", \"Nov\", \"Dez\"])\n",
    "plt.grid(True);"
   ]
  },
  {
   "cell_type": "code",
   "execution_count": null,
   "metadata": {},
   "outputs": [],
   "source": [
    "# Länder nach Hemisphäre aufteilen\n",
    "northern_hemisphere_countries = {\n",
    "    \"US\", \"CA\", \"MX\", \"DE\", \"FR\", \"GB\", \"IT\", \"ES\", \"PL\", \"NL\", \"SE\", \"AT\", \"CH\", \"BE\", \"RU\", \"CN\", \"JP\", \"IN\", \"KR\"\n",
    "}\n",
    "southern_hemisphere_countries = {\n",
    "    \"AU\", \"NZ\", \"AR\", \"BR\", \"ZA\", \"CL\", \"ID\", \"PE\", \"BO\", \"EC\", \"PY\", \"UY\", \"MG\"\n",
    "}\n",
    "\n",
    "# Daten für Nord- und Südhalbkugel filtern\n",
    "df_north = df[df[\"Country\"].isin(northern_hemisphere_countries)]\n",
    "df_south = df[df[\"Country\"].isin(southern_hemisphere_countries)]\n",
    "\n",
    "# Durchschnittliche Ozonwerte pro Monat für beide Hemisphären berechnen\n",
    "monthly_o3_north = df_north.groupby(\"month\")[\"o3\"].mean()\n",
    "monthly_o3_south = df_south.groupby(\"month\")[\"o3\"].mean()\n",
    "\n",
    "# Plot erstellen\n",
    "plt.figure(figsize=(10, 5))\n",
    "plt.plot(monthly_o3_north.index, monthly_o3_north.values, marker='o', linestyle='-', label=\"Nordhalbkugel\", color='b')\n",
    "plt.plot(monthly_o3_south.index, monthly_o3_south.values, marker='o', linestyle='-', label=\"Südhalbkugel\", color='r')\n",
    "\n",
    "plt.xlabel(\"Monat\")\n",
    "plt.ylabel(\"Mittlere O₃-Konzentration\")\n",
    "plt.title(\"Vergleich der Ozonwerte (O₃) zwischen Nord- und Südhalbkugel\")\n",
    "plt.xticks(range(1, 13), [\"Jan\", \"Feb\", \"Mär\", \"Apr\", \"Mai\", \"Jun\", \"Jul\", \"Aug\", \"Sep\", \"Okt\", \"Nov\", \"Dez\"])\n",
    "plt.legend()\n",
    "plt.grid(True);\n",
    "\n"
   ]
  },
  {
   "cell_type": "code",
   "execution_count": null,
   "metadata": {},
   "outputs": [],
   "source": [
    "import matplotlib.pyplot as plt\n",
    "\n",
    "# Europäische Länder definieren\n",
    "european_countries = {\"DE\", \"FR\", \"GB\", \"IT\", \"ES\", \"PL\", \"NL\", \"SE\", \"AT\", \"CH\", \"BE\"}\n",
    "\n",
    "# Falls \"year\" als String gespeichert ist, in numerischen Wert umwandeln\n",
    "df[\"year\"] = pd.to_numeric(df[\"year\"], errors=\"coerce\")\n",
    "\n",
    "# Nur europäische Länder auswählen\n",
    "df_europe = df[df[\"Country\"].isin(european_countries)]\n",
    "\n",
    "# Jahre 2014 & 2025 aus der Analyse entfernen\n",
    "df_europe = df_europe[(df_europe[\"year\"] > 2014) & (df_europe[\"year\"] < 2025)]\n",
    "\n",
    "# Nur Länder behalten, die tatsächlich O₃-Werte haben\n",
    "countries_with_o3 = df_europe.groupby(\"Country\")[\"o3\"].count()\n",
    "valid_countries = countries_with_o3[countries_with_o3 > 0].index  # Länder mit vorhandenen O₃-Werten\n",
    "\n",
    "# DataFrame auf diese Länder filtern\n",
    "df_europe = df_europe[df_europe[\"Country\"].isin(valid_countries)]\n",
    "\n",
    "# Standardabweichung (Schwankungsstärke) von O₃ pro Jahr & Land berechnen\n",
    "ozone_volatility = df_europe.groupby([\"year\", \"Country\"])[\"o3\"].std().unstack()\n",
    "\n",
    "# Diagramm erstellen\n",
    "fig, ax = plt.subplots(figsize=(12, 6))\n",
    "handles = []  # Zum Speichern der Linien für die Legende\n",
    "labels = []   # Zum Speichern der Ländernamen\n",
    "\n",
    "for country in ozone_volatility.columns:\n",
    "    line, = ax.plot(ozone_volatility.index, ozone_volatility[country], marker='o', linestyle='-', label=country)\n",
    "    handles.append(line)\n",
    "    labels.append(country)\n",
    "\n",
    "ax.set_xlabel(\"Jahr\")\n",
    "ax.set_ylabel(\"Standardabweichung von O₃ (Schwankungsstärke)\")\n",
    "ax.set_title(\"Jährliche Schwankungsstärke der Ozonwerte in europäischen Ländern (nur Länder mit Daten)\")\n",
    "ax.grid(True)\n",
    "\n",
    "# Legende unterhalb des Plots platzieren\n",
    "fig.legend(handles, labels, loc='lower center', bbox_to_anchor=(0.5, -0.15), ncol=len(valid_countries))\n",
    "\n",
    "# Layout optimieren\n",
    "plt.tight_layout();"
   ]
  },
  {
   "cell_type": "code",
   "execution_count": null,
   "metadata": {},
   "outputs": [],
   "source": [
    "# Clusteranalyse zur Schadstoffbelastung\n",
    "\n",
    "from sklearn.preprocessing import StandardScaler\n",
    "\n",
    "# Liste der Schadstoff-Features für das Clustering\n",
    "pollutants = [\"co\", \"no2\", \"o3\", \"so2\", \"pm10\", \"pm25\"]\n",
    "\n",
    "# Durchschnittliche Schadstoffwerte pro Land berechnen\n",
    "df_cluster = df.groupby(\"Country\")[pollutants].mean().dropna()\n",
    "\n",
    "# Daten skalieren (K-Means ist empfindlich gegenüber unterschiedlichen Skalen)\n",
    "scaler = StandardScaler()\n",
    "df_scaled = scaler.fit_transform(df_cluster)\n",
    "\n",
    "# Ergebnis als DataFrame zurückgeben\n",
    "df_cluster_scaled = pd.DataFrame(df_scaled, index=df_cluster.index, columns=pollutants)\n",
    "\n",
    "# Überprüfen, ob die Daten korrekt vorbereitet sind\n",
    "df_cluster_scaled.head()\n"
   ]
  },
  {
   "cell_type": "code",
   "execution_count": null,
   "metadata": {},
   "outputs": [],
   "source": [
    "from sklearn.cluster import KMeans\n",
    "\n",
    "# Teste verschiedene Clusterzahlen (k = 1 bis 10)\n",
    "inertia = []\n",
    "k_values = range(1, 31)\n",
    "\n",
    "for k in k_values:\n",
    "    kmeans = KMeans(n_clusters=k, random_state=42, n_init=10)\n",
    "    kmeans.fit(df_cluster_scaled)\n",
    "    inertia.append(kmeans.inertia_)  # Speichert den Fehler (Inertia)\n",
    "\n",
    "# Elbow-Plot erstellen\n",
    "plt.figure(figsize=(8, 5))\n",
    "plt.plot(k_values, inertia, marker='o', linestyle='-')\n",
    "plt.xlabel(\"Anzahl der Cluster (k)\")\n",
    "plt.ylabel(\"Inertia (Fehler)\")\n",
    "plt.title(\"Elbow-Methode zur Bestimmung der optimalen Clusterzahl\")\n",
    "plt.grid(True);\n"
   ]
  },
  {
   "cell_type": "code",
   "execution_count": null,
   "metadata": {},
   "outputs": [],
   "source": [
    "from sklearn.metrics import silhouette_score\n",
    "\n",
    "# Teste verschiedene Clusterzahlen (k = 2 bis 10, weil k=1 keine Silhouettenwertung hat)\n",
    "silhouette_scores = []\n",
    "\n",
    "for k in range(2, 11):\n",
    "    kmeans = KMeans(n_clusters=k, random_state=42, n_init=10)\n",
    "    labels = kmeans.fit_predict(df_cluster_scaled)\n",
    "    score = silhouette_score(df_cluster_scaled, labels)\n",
    "    silhouette_scores.append(score)\n",
    "\n",
    "# Silhouetten-Plot erstellen\n",
    "plt.figure(figsize=(8, 5))\n",
    "plt.plot(range(2, 11), silhouette_scores, marker='o', linestyle='-')\n",
    "plt.xlabel(\"Anzahl der Cluster (k)\")\n",
    "plt.ylabel(\"Silhouetten-Koeffizient\")\n",
    "plt.title(\"Silhouetten-Analyse zur Bestimmung der optimalen Clusterzahl\")\n",
    "plt.grid(True);\n"
   ]
  },
  {
   "cell_type": "markdown",
   "metadata": {},
   "source": [
    "Entscheidung: 5 Cluster nehmen"
   ]
  },
  {
   "cell_type": "code",
   "execution_count": null,
   "metadata": {},
   "outputs": [],
   "source": [
    "# K-Means Clustering mit k=5\n",
    "kmeans = KMeans(n_clusters=5, random_state=42, n_init=10)\n",
    "df_cluster_scaled[\"Cluster\"] = kmeans.fit_predict(df_cluster_scaled)\n",
    "\n",
    "# Cluster-Zugehörigkeit pro Land anzeigen\n",
    "df_clusters = df_cluster_scaled[[\"Cluster\"]]\n",
    "df_clusters.head()\n"
   ]
  },
  {
   "cell_type": "code",
   "execution_count": null,
   "metadata": {},
   "outputs": [],
   "source": [
    "df_clusters[\"Cluster\"].value_counts()\n"
   ]
  },
  {
   "cell_type": "code",
   "execution_count": null,
   "metadata": {},
   "outputs": [],
   "source": [
    "df_cluster_scaled.groupby(\"Cluster\").mean()"
   ]
  },
  {
   "cell_type": "code",
   "execution_count": null,
   "metadata": {},
   "outputs": [],
   "source": [
    "import seaborn as sns\n",
    "import matplotlib.pyplot as plt\n",
    "\n",
    "plt.figure(figsize=(12, 6))\n",
    "sns.boxplot(x=df_cluster_scaled[\"Cluster\"], y=df_cluster_scaled[\"pm25\"])\n",
    "plt.xlabel(\"Cluster\")\n",
    "plt.ylabel(\"PM2.5-Werte (standardisiert)\")\n",
    "plt.title(\"Vergleich der PM2.5-Werte in den Clustern\")\n",
    "plt.grid(True);"
   ]
  },
  {
   "cell_type": "code",
   "execution_count": null,
   "metadata": {},
   "outputs": [],
   "source": [
    "# Länder und ihre Cluster-Zugehörigkeit anzeigen\n",
    "df_clusters_sorted = df_clusters.sort_values(by=\"Cluster\")  # Nach Cluster sortieren\n",
    "df_clusters_sorted\n"
   ]
  },
  {
   "cell_type": "code",
   "execution_count": null,
   "metadata": {},
   "outputs": [],
   "source": [
    "# Test mit 4 oder 6 Clustern\n",
    "\n",
    "# K-Means mit 4 und 6 Clustern testen\n",
    "for k in [4, 6]:\n",
    "    kmeans = KMeans(n_clusters=k, random_state=42, n_init=10)\n",
    "    df_cluster_scaled[f\"Cluster_{k}\"] = kmeans.fit_predict(df_cluster_scaled)\n",
    "\n",
    "# Ergebnisse anzeigen\n",
    "df_clusters_test = df_cluster_scaled[[\"Cluster_4\", \"Cluster_6\"]]\n",
    "df_clusters_test\n"
   ]
  },
  {
   "cell_type": "code",
   "execution_count": null,
   "metadata": {},
   "outputs": [],
   "source": [
    "df_cluster_scaled.groupby(\"Cluster\").mean()\n"
   ]
  },
  {
   "cell_type": "code",
   "execution_count": null,
   "metadata": {},
   "outputs": [],
   "source": [
    "# K-Means nochmal ausführen, mit Stadt statt Land\n",
    "\n",
    "from sklearn.preprocessing import StandardScaler\n",
    "\n",
    "# Liste der Schadstoff-Features für das Clustering\n",
    "pollutants = [\"co\", \"no2\", \"o3\", \"so2\", \"pm10\", \"pm25\"]\n",
    "\n",
    "# Durchschnittliche Schadstoffwerte pro Stadt berechnen\n",
    "df_cluster = df.groupby(\"City\")[pollutants].mean().dropna()\n",
    "\n",
    "# Daten skalieren (K-Means ist empfindlich gegenüber unterschiedlichen Skalen)\n",
    "scaler = StandardScaler()\n",
    "df_scaled = scaler.fit_transform(df_cluster)\n",
    "\n",
    "# Ergebnis als DataFrame zurückgeben\n",
    "df_cluster_scaled = pd.DataFrame(df_scaled, index=df_cluster.index, columns=pollutants)\n",
    "\n",
    "# Überprüfen, ob die Daten korrekt vorbereitet sind\n",
    "df_cluster_scaled.head()\n"
   ]
  },
  {
   "cell_type": "code",
   "execution_count": null,
   "metadata": {},
   "outputs": [],
   "source": [
    "\n",
    "# Teheran rausschmeißen\n",
    "\n",
    "\n",
    "from sklearn.cluster import KMeans\n",
    "\n",
    "# Teste verschiedene Clusterzahlen (k = 1 bis 30) ohne Teheran\n",
    "inertia_no_tehran = []\n",
    "k_values = range(1, 31)\n",
    "\n",
    "for k in k_values:\n",
    "    kmeans = KMeans(n_clusters=k, random_state=42, n_init=10)\n",
    "    kmeans.fit(df_cluster_no_tehran.drop(columns=[\"Cluster\"]))  # Clustering ohne vorherige Cluster-Spalte\n",
    "    inertia_no_tehran.append(kmeans.inertia_)\n",
    "\n",
    "# Elbow-Plot erstellen\n",
    "plt.figure(figsize=(8, 5))\n",
    "plt.plot(k_values, inertia_no_tehran, marker='o', linestyle='-')\n",
    "plt.xlabel(\"Anzahl der Cluster (k)\")\n",
    "plt.ylabel(\"Inertia (Fehler)\")\n",
    "plt.title(\"Elbow-Methode ohne Teheran\")\n",
    "plt.grid(True);\n",
    "\n"
   ]
  },
  {
   "cell_type": "code",
   "execution_count": null,
   "metadata": {},
   "outputs": [],
   "source": [
    "# K-Means Clustering mit 4 Clustern (oder einer anderen optimalen Zahl)\n",
    "kmeans = KMeans(n_clusters=4, random_state=42, n_init=10)\n",
    "df_cluster_scaled[\"Cluster\"] = kmeans.fit_predict(df_cluster_scaled)\n",
    "\n",
    "# Cluster-Zugehörigkeit pro Stadt anzeigen\n",
    "df_clusters = df_cluster_scaled[[\"Cluster\"]]\n",
    "df_clusters_sorted = df_clusters.sort_values(by=\"Cluster\")  # Sortiert nach Cluster\n",
    "df_clusters_sorted\n"
   ]
  },
  {
   "cell_type": "code",
   "execution_count": null,
   "metadata": {},
   "outputs": [],
   "source": [
    "# Teheran aus dem DataFrame entfernen\n",
    "df_cluster_no_tehran = df_cluster_scaled.drop(index=\"Tehran\")\n",
    "\n",
    "# K-Means erneut ausführen mit 5 Clustern (oder einer anderen optimalen Zahl)\n",
    "kmeans = KMeans(n_clusters=5, random_state=42, n_init=10)\n",
    "df_cluster_no_tehran[\"Cluster\"] = kmeans.fit_predict(df_cluster_no_tehran)\n",
    "\n",
    "# Neue Cluster-Zugehörigkeit der Städte anzeigen\n",
    "df_clusters_no_tehran = df_cluster_no_tehran[[\"Cluster\"]]\n",
    "df_clusters_no_tehran_sorted = df_clusters_no_tehran.sort_values(by=\"Cluster\")  # Sortiert nach Cluster\n",
    "df_clusters_no_tehran_sorted\n"
   ]
  }
 ],
 "metadata": {
  "kernelspec": {
   "display_name": ".venv",
   "language": "python",
   "name": "python3"
  },
  "language_info": {
   "codemirror_mode": {
    "name": "ipython",
    "version": 3
   },
   "file_extension": ".py",
   "mimetype": "text/x-python",
   "name": "python",
   "nbconvert_exporter": "python",
   "pygments_lexer": "ipython3",
   "version": "3.11.4"
  }
 },
 "nbformat": 4,
 "nbformat_minor": 2
}
