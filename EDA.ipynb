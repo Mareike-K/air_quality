{
 "cells": [
  {
   "cell_type": "markdown",
   "metadata": {},
   "source": [
    "# Inhaltsübersicht EDA\n",
    "TD = To Do, TBD = To Be Determined)\n",
    "\n",
    "### 1. Überblick über den Datensatz\n",
    "- Spaltenbeschreibung/Datentypen: Funktion overview()\n",
    "- Fehlende Werte (NaN-Anteile berechnet, diskutiert)\n",
    "\n",
    "- TD: evtl. kurze Beschreibung der Daten (Ursprung, Umfang) --> ins Datenwörterbuch oder DataHowTo\n",
    "\n",
    "### 2. Datenbereinigung\n",
    "- Entfernen unrealistischer Ausreißer (Schadstoffe, Wetterdaten) --> Städte auch noch überprüfen?\n",
    "- Zellenweise Ersetzung durch NaN (statt Zeilenlöschung)\n",
    "- Dokumentaton der Schwellenwerte und Filterlogik\n",
    "\n",
    "- TD: evtl. Tabelle oder Text mit Anzahl der entfernten/extremen Werte\n",
    "\n",
    "### 3. Deskriptive Statistik (Grundanalyse) mit Visualisierungen\n",
    "- describe()-Tabellen für Schadstoffe und Wetterdaten\n",
    "- Vergleich von Mean und Median zu Einschätzung der Schiefe\n",
    "- Berechnung der Schiefe (skew)\n",
    "- Stripplots zur Ausreißererkennung für alle numerischen Spalten\n",
    "- Histogramme für ausgewählte Variablen, zur Visualisierung der Schiefe hauptsächlich, aber auch für Platzhalterwerte\n",
    "- Korrelationsmatrix (Pearson) --> Dreieck\n",
    "\n",
    "- TD: Lineplots mit Mittelwert und Streuung (für einzelnen Schadstoffe, noch ausbaufähig)\n",
    "- TD: Weitere Diagramme nach Gruppen (Stadt, Jahr, Kontinent, etc.)\n",
    "\n",
    "### 4. Korrelationsanalyse\n",
    "- Korrelationen berechnet und interpretiert\n",
    "- Stärkste Korrelationen identifiziert und dokumentiert\n",
    "- Empfehlung zur Variablenselektion (evtl. PCA) gegeben\n",
    "\n",
    "### 5. Prüfung auffälliger Größen/Städte (Feedback-Loop aus der Clusteranalyse; weiter oben bei Ausreißerbestimmung einbauen?)\n",
    "- Geprüft wurden: Ashkelon, Ashdod, Netanya\n",
    "\n",
    "- TD: Weitere Städte prüfen (z.B. Tehran noch mal genau berechnen)\n",
    "\n",
    "### 6. Vorbereitung für Clustering und andere Modellierungen\n",
    "- Welche Features sollen verwendet werden?\n",
    "- Standardisierung / Skalierung wie?\n",
    "- Ziel der Clusteranalyse formulieren\n",
    "\n",
    "Allgemein: Dokumentation & Kommunikation\n",
    "- Kommentare und Begründungen im Code, aber mit Markdown\n",
    "- Einführung und Fazit zur EDA?\n",
    "- Strukturierung der finalen NB-Version für GitHub\n",
    "- TD: Einzelergebnisse abspeichern als csv\n",
    "\n"
   ]
  },
  {
   "cell_type": "markdown",
   "metadata": {},
   "source": [
    "# 0. Datensatz laden\n",
    "\n",
    "- Spaltennamen überprüfen\n",
    "- redundante Spalten entfernen"
   ]
  },
  {
   "cell_type": "code",
   "execution_count": 1,
   "metadata": {},
   "outputs": [],
   "source": [
    "# imports\n",
    "import numpy as np\n",
    "import pandas as pd\n",
    "import matplotlib.pyplot as plt\n",
    "import seaborn as sns\n",
    "%matplotlib inline\n",
    "\n",
    "# import os\n",
    "# import matplotlib\n",
    "# import datetime"
   ]
  },
  {
   "cell_type": "code",
   "execution_count": 2,
   "metadata": {},
   "outputs": [],
   "source": [
    "# Settings for displaying floats\n",
    "pd.set_option('display.float_format', '{:,.2f}'.format)"
   ]
  },
  {
   "cell_type": "code",
   "execution_count": 3,
   "metadata": {},
   "outputs": [
    {
     "data": {
      "text/html": [
       "<div>\n",
       "<style scoped>\n",
       "    .dataframe tbody tr th:only-of-type {\n",
       "        vertical-align: middle;\n",
       "    }\n",
       "\n",
       "    .dataframe tbody tr th {\n",
       "        vertical-align: top;\n",
       "    }\n",
       "\n",
       "    .dataframe thead th {\n",
       "        text-align: right;\n",
       "    }\n",
       "</style>\n",
       "<table border=\"1\" class=\"dataframe\">\n",
       "  <thead>\n",
       "    <tr style=\"text-align: right;\">\n",
       "      <th></th>\n",
       "      <th>Year</th>\n",
       "      <th>Month</th>\n",
       "      <th>Day</th>\n",
       "      <th>Country</th>\n",
       "      <th>City</th>\n",
       "      <th>Latitude</th>\n",
       "      <th>Longitude</th>\n",
       "      <th>Population</th>\n",
       "      <th>Co</th>\n",
       "      <th>No2</th>\n",
       "      <th>...</th>\n",
       "      <th>Wind-speed</th>\n",
       "      <th>Dew</th>\n",
       "      <th>Humidity</th>\n",
       "      <th>Tavg</th>\n",
       "      <th>Tmin</th>\n",
       "      <th>Tmax</th>\n",
       "      <th>Prcp</th>\n",
       "      <th>Wdir</th>\n",
       "      <th>Wspd</th>\n",
       "      <th>Pres</th>\n",
       "    </tr>\n",
       "  </thead>\n",
       "  <tbody>\n",
       "    <tr>\n",
       "      <th>0</th>\n",
       "      <td>2014</td>\n",
       "      <td>12</td>\n",
       "      <td>29</td>\n",
       "      <td>AT</td>\n",
       "      <td>Graz</td>\n",
       "      <td>47.07</td>\n",
       "      <td>15.45</td>\n",
       "      <td>269,997.00</td>\n",
       "      <td>0.10</td>\n",
       "      <td>9.00</td>\n",
       "      <td>...</td>\n",
       "      <td>NaN</td>\n",
       "      <td>NaN</td>\n",
       "      <td>NaN</td>\n",
       "      <td>NaN</td>\n",
       "      <td>NaN</td>\n",
       "      <td>NaN</td>\n",
       "      <td>NaN</td>\n",
       "      <td>NaN</td>\n",
       "      <td>NaN</td>\n",
       "      <td>NaN</td>\n",
       "    </tr>\n",
       "    <tr>\n",
       "      <th>1</th>\n",
       "      <td>2014</td>\n",
       "      <td>12</td>\n",
       "      <td>29</td>\n",
       "      <td>AT</td>\n",
       "      <td>Innsbruck</td>\n",
       "      <td>47.26</td>\n",
       "      <td>11.39</td>\n",
       "      <td>124,579.00</td>\n",
       "      <td>0.10</td>\n",
       "      <td>25.60</td>\n",
       "      <td>...</td>\n",
       "      <td>NaN</td>\n",
       "      <td>NaN</td>\n",
       "      <td>NaN</td>\n",
       "      <td>NaN</td>\n",
       "      <td>NaN</td>\n",
       "      <td>NaN</td>\n",
       "      <td>NaN</td>\n",
       "      <td>NaN</td>\n",
       "      <td>NaN</td>\n",
       "      <td>NaN</td>\n",
       "    </tr>\n",
       "    <tr>\n",
       "      <th>2</th>\n",
       "      <td>2014</td>\n",
       "      <td>12</td>\n",
       "      <td>29</td>\n",
       "      <td>AT</td>\n",
       "      <td>Linz</td>\n",
       "      <td>48.31</td>\n",
       "      <td>14.29</td>\n",
       "      <td>193,814.00</td>\n",
       "      <td>0.10</td>\n",
       "      <td>14.20</td>\n",
       "      <td>...</td>\n",
       "      <td>NaN</td>\n",
       "      <td>NaN</td>\n",
       "      <td>NaN</td>\n",
       "      <td>NaN</td>\n",
       "      <td>NaN</td>\n",
       "      <td>NaN</td>\n",
       "      <td>NaN</td>\n",
       "      <td>NaN</td>\n",
       "      <td>NaN</td>\n",
       "      <td>NaN</td>\n",
       "    </tr>\n",
       "    <tr>\n",
       "      <th>3</th>\n",
       "      <td>2014</td>\n",
       "      <td>12</td>\n",
       "      <td>29</td>\n",
       "      <td>AT</td>\n",
       "      <td>Salzburg</td>\n",
       "      <td>47.80</td>\n",
       "      <td>13.04</td>\n",
       "      <td>146,631.00</td>\n",
       "      <td>0.10</td>\n",
       "      <td>21.10</td>\n",
       "      <td>...</td>\n",
       "      <td>NaN</td>\n",
       "      <td>NaN</td>\n",
       "      <td>NaN</td>\n",
       "      <td>NaN</td>\n",
       "      <td>NaN</td>\n",
       "      <td>NaN</td>\n",
       "      <td>NaN</td>\n",
       "      <td>NaN</td>\n",
       "      <td>NaN</td>\n",
       "      <td>NaN</td>\n",
       "    </tr>\n",
       "    <tr>\n",
       "      <th>4</th>\n",
       "      <td>2014</td>\n",
       "      <td>12</td>\n",
       "      <td>29</td>\n",
       "      <td>AT</td>\n",
       "      <td>Vienna</td>\n",
       "      <td>48.21</td>\n",
       "      <td>16.37</td>\n",
       "      <td>NaN</td>\n",
       "      <td>0.10</td>\n",
       "      <td>9.00</td>\n",
       "      <td>...</td>\n",
       "      <td>NaN</td>\n",
       "      <td>NaN</td>\n",
       "      <td>NaN</td>\n",
       "      <td>NaN</td>\n",
       "      <td>NaN</td>\n",
       "      <td>NaN</td>\n",
       "      <td>NaN</td>\n",
       "      <td>NaN</td>\n",
       "      <td>NaN</td>\n",
       "      <td>NaN</td>\n",
       "    </tr>\n",
       "  </tbody>\n",
       "</table>\n",
       "<p>5 rows × 27 columns</p>\n",
       "</div>"
      ],
      "text/plain": [
       "   Year  Month  Day Country       City  Latitude  Longitude  Population   Co  \\\n",
       "0  2014     12   29      AT       Graz     47.07      15.45  269,997.00 0.10   \n",
       "1  2014     12   29      AT  Innsbruck     47.26      11.39  124,579.00 0.10   \n",
       "2  2014     12   29      AT       Linz     48.31      14.29  193,814.00 0.10   \n",
       "3  2014     12   29      AT   Salzburg     47.80      13.04  146,631.00 0.10   \n",
       "4  2014     12   29      AT     Vienna     48.21      16.37         NaN 0.10   \n",
       "\n",
       "    No2  ...  Wind-speed  Dew  Humidity  Tavg  Tmin  Tmax  Prcp  Wdir  Wspd  \\\n",
       "0  9.00  ...         NaN  NaN       NaN   NaN   NaN   NaN   NaN   NaN   NaN   \n",
       "1 25.60  ...         NaN  NaN       NaN   NaN   NaN   NaN   NaN   NaN   NaN   \n",
       "2 14.20  ...         NaN  NaN       NaN   NaN   NaN   NaN   NaN   NaN   NaN   \n",
       "3 21.10  ...         NaN  NaN       NaN   NaN   NaN   NaN   NaN   NaN   NaN   \n",
       "4  9.00  ...         NaN  NaN       NaN   NaN   NaN   NaN   NaN   NaN   NaN   \n",
       "\n",
       "   Pres  \n",
       "0   NaN  \n",
       "1   NaN  \n",
       "2   NaN  \n",
       "3   NaN  \n",
       "4   NaN  \n",
       "\n",
       "[5 rows x 27 columns]"
      ]
     },
     "execution_count": 3,
     "metadata": {},
     "output_type": "execute_result"
    }
   ],
   "source": [
    "df = pd.read_csv(\"./data/cleaned_data.csv\")\n",
    "df.head()"
   ]
  },
  {
   "cell_type": "code",
   "execution_count": 4,
   "metadata": {},
   "outputs": [
    {
     "data": {
      "text/plain": [
       "Index(['Year', 'Month', 'Day', 'Country', 'City', 'Latitude', 'Longitude',\n",
       "       'Population', 'Co', 'No2', 'O3', 'Pm10', 'Pm25', 'Pressure', 'So2',\n",
       "       'Temperature', 'Wind-gust', 'Wind-speed', 'Dew', 'Humidity', 'Tavg',\n",
       "       'Tmin', 'Tmax', 'Prcp', 'Wdir', 'Wspd', 'Pres'],\n",
       "      dtype='object')"
      ]
     },
     "execution_count": 4,
     "metadata": {},
     "output_type": "execute_result"
    }
   ],
   "source": [
    "df.columns\n",
    "\n",
    "# Some redundant columns still need to be removed from df manually: Temperature, Pressure, Wind-speed"
   ]
  },
  {
   "cell_type": "code",
   "execution_count": 5,
   "metadata": {},
   "outputs": [
    {
     "data": {
      "text/plain": [
       "Index(['Year', 'Month', 'Day', 'Country', 'City', 'Latitude', 'Longitude',\n",
       "       'Population', 'Co', 'No2', 'O3', 'Pm10', 'Pm25', 'So2', 'Wind-gust',\n",
       "       'Dew', 'Humidity', 'Tavg', 'Tmin', 'Tmax', 'Prcp', 'Wdir', 'Wspd',\n",
       "       'Pres'],\n",
       "      dtype='object')"
      ]
     },
     "execution_count": 5,
     "metadata": {},
     "output_type": "execute_result"
    }
   ],
   "source": [
    "# Drop redundant columns (--> könnte man auch in der cleaning pipeline machen)\n",
    "\n",
    "df = df.drop(columns=['Temperature', 'Wind-speed', 'Pressure'])\n",
    "df.columns"
   ]
  },
  {
   "cell_type": "markdown",
   "metadata": {},
   "source": [
    "# 1. Überblick über den Datensatz verschaffen\n",
    "\n",
    "- Überblicksfunktion .overview()\n",
    "- Fehlende Werte ausloten und Spalten mit < 50% Daten entfernen --> Das müssen wir noch besprechen (Population)"
   ]
  },
  {
   "cell_type": "code",
   "execution_count": 6,
   "metadata": {},
   "outputs": [],
   "source": [
    "# Function to create overview for dtypes, missing values, unique values\n",
    "\n",
    "def overview(df):\n",
    "    '''\n",
    "    Erstelle einen Überblick über einige Eigenschaften der Spalten eines DataFrames.\n",
    "    VARs\n",
    "        df: Der zu betrachtende DataFrame\n",
    "    RETURNS:\n",
    "        None\n",
    "    '''\n",
    "    display(pd.DataFrame({'dtype': df.dtypes,\n",
    "                          'total': df.count(),\n",
    "                          'missing': df.isna().sum(),\n",
    "                          'missing%': df.isna().mean()*100,\n",
    "                          'n_uniques': df.nunique(),\n",
    "                          'uniques%': df.nunique()/df.shape[0]*100,\n",
    "                          'uniques': [df[col].unique() for col in df.columns]\n",
    "                         }))\n"
   ]
  },
  {
   "cell_type": "code",
   "execution_count": 7,
   "metadata": {},
   "outputs": [
    {
     "data": {
      "text/html": [
       "<div>\n",
       "<style scoped>\n",
       "    .dataframe tbody tr th:only-of-type {\n",
       "        vertical-align: middle;\n",
       "    }\n",
       "\n",
       "    .dataframe tbody tr th {\n",
       "        vertical-align: top;\n",
       "    }\n",
       "\n",
       "    .dataframe thead th {\n",
       "        text-align: right;\n",
       "    }\n",
       "</style>\n",
       "<table border=\"1\" class=\"dataframe\">\n",
       "  <thead>\n",
       "    <tr style=\"text-align: right;\">\n",
       "      <th></th>\n",
       "      <th>dtype</th>\n",
       "      <th>total</th>\n",
       "      <th>missing</th>\n",
       "      <th>missing%</th>\n",
       "      <th>n_uniques</th>\n",
       "      <th>uniques%</th>\n",
       "      <th>uniques</th>\n",
       "    </tr>\n",
       "  </thead>\n",
       "  <tbody>\n",
       "    <tr>\n",
       "      <th>Year</th>\n",
       "      <td>int64</td>\n",
       "      <td>1695041</td>\n",
       "      <td>0</td>\n",
       "      <td>0.00</td>\n",
       "      <td>12</td>\n",
       "      <td>0.00</td>\n",
       "      <td>[2014, 2015, 2016, 2017, 2018, 2019, 2020, 202...</td>\n",
       "    </tr>\n",
       "    <tr>\n",
       "      <th>Month</th>\n",
       "      <td>int64</td>\n",
       "      <td>1695041</td>\n",
       "      <td>0</td>\n",
       "      <td>0.00</td>\n",
       "      <td>12</td>\n",
       "      <td>0.00</td>\n",
       "      <td>[12, 1, 2, 3, 4, 5, 6, 7, 8, 9, 10, 11]</td>\n",
       "    </tr>\n",
       "    <tr>\n",
       "      <th>Day</th>\n",
       "      <td>int64</td>\n",
       "      <td>1695041</td>\n",
       "      <td>0</td>\n",
       "      <td>0.00</td>\n",
       "      <td>31</td>\n",
       "      <td>0.00</td>\n",
       "      <td>[29, 30, 31, 1, 2, 3, 4, 5, 6, 7, 8, 9, 10, 11...</td>\n",
       "    </tr>\n",
       "    <tr>\n",
       "      <th>Country</th>\n",
       "      <td>object</td>\n",
       "      <td>1695041</td>\n",
       "      <td>0</td>\n",
       "      <td>0.00</td>\n",
       "      <td>95</td>\n",
       "      <td>0.01</td>\n",
       "      <td>[AT, AU, BE, BO, BR, CA, CH, CL, CN, CO, CY, C...</td>\n",
       "    </tr>\n",
       "    <tr>\n",
       "      <th>City</th>\n",
       "      <td>object</td>\n",
       "      <td>1695041</td>\n",
       "      <td>0</td>\n",
       "      <td>0.00</td>\n",
       "      <td>616</td>\n",
       "      <td>0.04</td>\n",
       "      <td>[Graz, Innsbruck, Linz, Salzburg, Vienna, Bris...</td>\n",
       "    </tr>\n",
       "    <tr>\n",
       "      <th>Latitude</th>\n",
       "      <td>float64</td>\n",
       "      <td>1692212</td>\n",
       "      <td>2829</td>\n",
       "      <td>0.17</td>\n",
       "      <td>617</td>\n",
       "      <td>0.04</td>\n",
       "      <td>[47.06667, 47.26266, 48.30639, 47.79941, 48.20...</td>\n",
       "    </tr>\n",
       "    <tr>\n",
       "      <th>Longitude</th>\n",
       "      <td>float64</td>\n",
       "      <td>1692212</td>\n",
       "      <td>2829</td>\n",
       "      <td>0.17</td>\n",
       "      <td>616</td>\n",
       "      <td>0.04</td>\n",
       "      <td>[15.45, 11.39454, 14.28611, 13.04399, 16.37208...</td>\n",
       "    </tr>\n",
       "    <tr>\n",
       "      <th>Population</th>\n",
       "      <td>float64</td>\n",
       "      <td>363474</td>\n",
       "      <td>1331567</td>\n",
       "      <td>78.56</td>\n",
       "      <td>1289</td>\n",
       "      <td>0.08</td>\n",
       "      <td>[269997.0, 124579.0, 193814.0, 146631.0, nan, ...</td>\n",
       "    </tr>\n",
       "    <tr>\n",
       "      <th>Co</th>\n",
       "      <td>float64</td>\n",
       "      <td>1063231</td>\n",
       "      <td>631810</td>\n",
       "      <td>37.27</td>\n",
       "      <td>1009</td>\n",
       "      <td>0.06</td>\n",
       "      <td>[0.1, 1.9, 2.1, nan, 2.3, 2.0, 3.4, 5.5, 3.8, ...</td>\n",
       "    </tr>\n",
       "    <tr>\n",
       "      <th>No2</th>\n",
       "      <td>float64</td>\n",
       "      <td>1408781</td>\n",
       "      <td>286260</td>\n",
       "      <td>16.89</td>\n",
       "      <td>1291</td>\n",
       "      <td>0.08</td>\n",
       "      <td>[9.0, 25.6, 14.2, 21.1, 4.6, 0.7, nan, 6.5, 4....</td>\n",
       "    </tr>\n",
       "    <tr>\n",
       "      <th>O3</th>\n",
       "      <td>float64</td>\n",
       "      <td>1320893</td>\n",
       "      <td>374148</td>\n",
       "      <td>22.07</td>\n",
       "      <td>1512</td>\n",
       "      <td>0.09</td>\n",
       "      <td>[nan, 3.7, 4.3, 12.8, 15.2, 21.0, 17.6, 6.1, 2...</td>\n",
       "    </tr>\n",
       "    <tr>\n",
       "      <th>Pm10</th>\n",
       "      <td>float64</td>\n",
       "      <td>1353189</td>\n",
       "      <td>341852</td>\n",
       "      <td>20.17</td>\n",
       "      <td>1186</td>\n",
       "      <td>0.07</td>\n",
       "      <td>[13.0, 25.0, 21.0, 20.0, 11.0, 9.0, 16.0, 14.0...</td>\n",
       "    </tr>\n",
       "    <tr>\n",
       "      <th>Pm25</th>\n",
       "      <td>float64</td>\n",
       "      <td>1432252</td>\n",
       "      <td>262789</td>\n",
       "      <td>15.50</td>\n",
       "      <td>1046</td>\n",
       "      <td>0.06</td>\n",
       "      <td>[nan, 74.0, 65.0, 20.0, 19.0, 13.0, 9.0, 27.0,...</td>\n",
       "    </tr>\n",
       "    <tr>\n",
       "      <th>So2</th>\n",
       "      <td>float64</td>\n",
       "      <td>1162066</td>\n",
       "      <td>532975</td>\n",
       "      <td>31.44</td>\n",
       "      <td>1177</td>\n",
       "      <td>0.07</td>\n",
       "      <td>[1.6, 2.1, 2.6, 1.1, nan, 4.3, 2.9, 5.8, 1.5, ...</td>\n",
       "    </tr>\n",
       "    <tr>\n",
       "      <th>Wind-gust</th>\n",
       "      <td>float64</td>\n",
       "      <td>776096</td>\n",
       "      <td>918945</td>\n",
       "      <td>54.21</td>\n",
       "      <td>597</td>\n",
       "      <td>0.04</td>\n",
       "      <td>[nan, 1.5, 8.8, 1.7, 6.5, 0.9, 15.4, 18.3, 3.4...</td>\n",
       "    </tr>\n",
       "    <tr>\n",
       "      <th>Dew</th>\n",
       "      <td>float64</td>\n",
       "      <td>1000165</td>\n",
       "      <td>694876</td>\n",
       "      <td>40.99</td>\n",
       "      <td>661</td>\n",
       "      <td>0.04</td>\n",
       "      <td>[nan, 16.0, 14.0, 0.5, 2.5, 1.0, 11.0, 18.0, 2...</td>\n",
       "    </tr>\n",
       "    <tr>\n",
       "      <th>Humidity</th>\n",
       "      <td>float64</td>\n",
       "      <td>1306961</td>\n",
       "      <td>388080</td>\n",
       "      <td>22.90</td>\n",
       "      <td>1131</td>\n",
       "      <td>0.07</td>\n",
       "      <td>[nan, 0.0, 100.0, 99.0, 94.0, 84.0, 82.0, 66.0...</td>\n",
       "    </tr>\n",
       "    <tr>\n",
       "      <th>Tavg</th>\n",
       "      <td>float64</td>\n",
       "      <td>1400959</td>\n",
       "      <td>294082</td>\n",
       "      <td>17.35</td>\n",
       "      <td>788</td>\n",
       "      <td>0.05</td>\n",
       "      <td>[nan, -4.0, 25.4, 2.8, 2.2, 1.3, 2.6, 20.9, -2...</td>\n",
       "    </tr>\n",
       "    <tr>\n",
       "      <th>Tmin</th>\n",
       "      <td>float64</td>\n",
       "      <td>1376504</td>\n",
       "      <td>318537</td>\n",
       "      <td>18.79</td>\n",
       "      <td>774</td>\n",
       "      <td>0.05</td>\n",
       "      <td>[nan, -6.4, 15.1, 25.2, 23.7, 13.6, 12.8, 11.2...</td>\n",
       "    </tr>\n",
       "    <tr>\n",
       "      <th>Tmax</th>\n",
       "      <td>float64</td>\n",
       "      <td>1374164</td>\n",
       "      <td>320877</td>\n",
       "      <td>18.93</td>\n",
       "      <td>821</td>\n",
       "      <td>0.05</td>\n",
       "      <td>[nan, 0.4, 37.0, 31.3, 26.9, 22.4, 24.6, 27.9,...</td>\n",
       "    </tr>\n",
       "    <tr>\n",
       "      <th>Prcp</th>\n",
       "      <td>float64</td>\n",
       "      <td>1038543</td>\n",
       "      <td>656498</td>\n",
       "      <td>38.73</td>\n",
       "      <td>1379</td>\n",
       "      <td>0.08</td>\n",
       "      <td>[nan, 0.0, 12.2, 129.4, 6.6, 0.5, 2.8, 3.9, 4....</td>\n",
       "    </tr>\n",
       "    <tr>\n",
       "      <th>Wdir</th>\n",
       "      <td>float64</td>\n",
       "      <td>1169606</td>\n",
       "      <td>525435</td>\n",
       "      <td>31.00</td>\n",
       "      <td>361</td>\n",
       "      <td>0.02</td>\n",
       "      <td>[nan, 18.0, 209.0, 210.0, 205.0, 188.0, 316.0,...</td>\n",
       "    </tr>\n",
       "    <tr>\n",
       "      <th>Wspd</th>\n",
       "      <td>float64</td>\n",
       "      <td>1239023</td>\n",
       "      <td>456018</td>\n",
       "      <td>26.90</td>\n",
       "      <td>654</td>\n",
       "      <td>0.04</td>\n",
       "      <td>[nan, 3.5, 11.5, 17.4, 17.7, 19.5, 18.6, 19.1,...</td>\n",
       "    </tr>\n",
       "    <tr>\n",
       "      <th>Pres</th>\n",
       "      <td>float64</td>\n",
       "      <td>1202982</td>\n",
       "      <td>492059</td>\n",
       "      <td>29.03</td>\n",
       "      <td>914</td>\n",
       "      <td>0.05</td>\n",
       "      <td>[nan, 1033.4, 1034.2, 1035.3, 1034.0, 1016.0, ...</td>\n",
       "    </tr>\n",
       "  </tbody>\n",
       "</table>\n",
       "</div>"
      ],
      "text/plain": [
       "              dtype    total  missing  missing%  n_uniques  uniques%  \\\n",
       "Year          int64  1695041        0      0.00         12      0.00   \n",
       "Month         int64  1695041        0      0.00         12      0.00   \n",
       "Day           int64  1695041        0      0.00         31      0.00   \n",
       "Country      object  1695041        0      0.00         95      0.01   \n",
       "City         object  1695041        0      0.00        616      0.04   \n",
       "Latitude    float64  1692212     2829      0.17        617      0.04   \n",
       "Longitude   float64  1692212     2829      0.17        616      0.04   \n",
       "Population  float64   363474  1331567     78.56       1289      0.08   \n",
       "Co          float64  1063231   631810     37.27       1009      0.06   \n",
       "No2         float64  1408781   286260     16.89       1291      0.08   \n",
       "O3          float64  1320893   374148     22.07       1512      0.09   \n",
       "Pm10        float64  1353189   341852     20.17       1186      0.07   \n",
       "Pm25        float64  1432252   262789     15.50       1046      0.06   \n",
       "So2         float64  1162066   532975     31.44       1177      0.07   \n",
       "Wind-gust   float64   776096   918945     54.21        597      0.04   \n",
       "Dew         float64  1000165   694876     40.99        661      0.04   \n",
       "Humidity    float64  1306961   388080     22.90       1131      0.07   \n",
       "Tavg        float64  1400959   294082     17.35        788      0.05   \n",
       "Tmin        float64  1376504   318537     18.79        774      0.05   \n",
       "Tmax        float64  1374164   320877     18.93        821      0.05   \n",
       "Prcp        float64  1038543   656498     38.73       1379      0.08   \n",
       "Wdir        float64  1169606   525435     31.00        361      0.02   \n",
       "Wspd        float64  1239023   456018     26.90        654      0.04   \n",
       "Pres        float64  1202982   492059     29.03        914      0.05   \n",
       "\n",
       "                                                      uniques  \n",
       "Year        [2014, 2015, 2016, 2017, 2018, 2019, 2020, 202...  \n",
       "Month                 [12, 1, 2, 3, 4, 5, 6, 7, 8, 9, 10, 11]  \n",
       "Day         [29, 30, 31, 1, 2, 3, 4, 5, 6, 7, 8, 9, 10, 11...  \n",
       "Country     [AT, AU, BE, BO, BR, CA, CH, CL, CN, CO, CY, C...  \n",
       "City        [Graz, Innsbruck, Linz, Salzburg, Vienna, Bris...  \n",
       "Latitude    [47.06667, 47.26266, 48.30639, 47.79941, 48.20...  \n",
       "Longitude   [15.45, 11.39454, 14.28611, 13.04399, 16.37208...  \n",
       "Population  [269997.0, 124579.0, 193814.0, 146631.0, nan, ...  \n",
       "Co          [0.1, 1.9, 2.1, nan, 2.3, 2.0, 3.4, 5.5, 3.8, ...  \n",
       "No2         [9.0, 25.6, 14.2, 21.1, 4.6, 0.7, nan, 6.5, 4....  \n",
       "O3          [nan, 3.7, 4.3, 12.8, 15.2, 21.0, 17.6, 6.1, 2...  \n",
       "Pm10        [13.0, 25.0, 21.0, 20.0, 11.0, 9.0, 16.0, 14.0...  \n",
       "Pm25        [nan, 74.0, 65.0, 20.0, 19.0, 13.0, 9.0, 27.0,...  \n",
       "So2         [1.6, 2.1, 2.6, 1.1, nan, 4.3, 2.9, 5.8, 1.5, ...  \n",
       "Wind-gust   [nan, 1.5, 8.8, 1.7, 6.5, 0.9, 15.4, 18.3, 3.4...  \n",
       "Dew         [nan, 16.0, 14.0, 0.5, 2.5, 1.0, 11.0, 18.0, 2...  \n",
       "Humidity    [nan, 0.0, 100.0, 99.0, 94.0, 84.0, 82.0, 66.0...  \n",
       "Tavg        [nan, -4.0, 25.4, 2.8, 2.2, 1.3, 2.6, 20.9, -2...  \n",
       "Tmin        [nan, -6.4, 15.1, 25.2, 23.7, 13.6, 12.8, 11.2...  \n",
       "Tmax        [nan, 0.4, 37.0, 31.3, 26.9, 22.4, 24.6, 27.9,...  \n",
       "Prcp        [nan, 0.0, 12.2, 129.4, 6.6, 0.5, 2.8, 3.9, 4....  \n",
       "Wdir        [nan, 18.0, 209.0, 210.0, 205.0, 188.0, 316.0,...  \n",
       "Wspd        [nan, 3.5, 11.5, 17.4, 17.7, 19.5, 18.6, 19.1,...  \n",
       "Pres        [nan, 1033.4, 1034.2, 1035.3, 1034.0, 1016.0, ...  "
      ]
     },
     "metadata": {},
     "output_type": "display_data"
    }
   ],
   "source": [
    "overview(df)"
   ]
  },
  {
   "cell_type": "code",
   "execution_count": 8,
   "metadata": {},
   "outputs": [
    {
     "name": "stdout",
     "output_type": "stream",
     "text": [
      "Population   78.56\n",
      "Wind-gust    54.21\n",
      "Dew          40.99\n",
      "Prcp         38.73\n",
      "Co           37.27\n",
      "So2          31.44\n",
      "Wdir         31.00\n",
      "Pres         29.03\n",
      "Wspd         26.90\n",
      "Humidity     22.90\n",
      "O3           22.07\n",
      "Pm10         20.17\n",
      "Tmax         18.93\n",
      "Tmin         18.79\n",
      "Tavg         17.35\n",
      "No2          16.89\n",
      "Pm25         15.50\n",
      "Longitude     0.17\n",
      "Latitude      0.17\n",
      "Month         0.00\n",
      "City          0.00\n",
      "Country       0.00\n",
      "Day           0.00\n",
      "Year          0.00\n",
      "dtype: float64\n"
     ]
    }
   ],
   "source": [
    "# Focus on missing values: Sort missing values (descending)\n",
    "\n",
    "missing_percent = df.isna().mean() * 100\n",
    "missing_percent_sorted = missing_percent.sort_values(ascending=False)\n",
    "\n",
    "print(missing_percent_sorted)\n"
   ]
  },
  {
   "cell_type": "code",
   "execution_count": 9,
   "metadata": {},
   "outputs": [
    {
     "name": "stdout",
     "output_type": "stream",
     "text": [
      "Anzahl der entfernten Spalten: 2\n",
      "Entfernte Spalten: ['Population', 'Wind-gust']\n",
      "Übrige Spalten: Index(['Year', 'Month', 'Day', 'Country', 'City', 'Latitude', 'Longitude',\n",
      "       'Co', 'No2', 'O3', 'Pm10', 'Pm25', 'So2', 'Dew', 'Humidity', 'Tavg',\n",
      "       'Tmin', 'Tmax', 'Prcp', 'Wdir', 'Wspd', 'Pres'],\n",
      "      dtype='object')\n"
     ]
    },
    {
     "data": {
      "text/html": [
       "<div>\n",
       "<style scoped>\n",
       "    .dataframe tbody tr th:only-of-type {\n",
       "        vertical-align: middle;\n",
       "    }\n",
       "\n",
       "    .dataframe tbody tr th {\n",
       "        vertical-align: top;\n",
       "    }\n",
       "\n",
       "    .dataframe thead th {\n",
       "        text-align: right;\n",
       "    }\n",
       "</style>\n",
       "<table border=\"1\" class=\"dataframe\">\n",
       "  <thead>\n",
       "    <tr style=\"text-align: right;\">\n",
       "      <th></th>\n",
       "      <th>Year</th>\n",
       "      <th>Month</th>\n",
       "      <th>Day</th>\n",
       "      <th>Country</th>\n",
       "      <th>City</th>\n",
       "      <th>Latitude</th>\n",
       "      <th>Longitude</th>\n",
       "      <th>Co</th>\n",
       "      <th>No2</th>\n",
       "      <th>O3</th>\n",
       "      <th>...</th>\n",
       "      <th>So2</th>\n",
       "      <th>Dew</th>\n",
       "      <th>Humidity</th>\n",
       "      <th>Tavg</th>\n",
       "      <th>Tmin</th>\n",
       "      <th>Tmax</th>\n",
       "      <th>Prcp</th>\n",
       "      <th>Wdir</th>\n",
       "      <th>Wspd</th>\n",
       "      <th>Pres</th>\n",
       "    </tr>\n",
       "  </thead>\n",
       "  <tbody>\n",
       "    <tr>\n",
       "      <th>0</th>\n",
       "      <td>2014</td>\n",
       "      <td>12</td>\n",
       "      <td>29</td>\n",
       "      <td>AT</td>\n",
       "      <td>Graz</td>\n",
       "      <td>47.07</td>\n",
       "      <td>15.45</td>\n",
       "      <td>0.10</td>\n",
       "      <td>9.00</td>\n",
       "      <td>NaN</td>\n",
       "      <td>...</td>\n",
       "      <td>1.60</td>\n",
       "      <td>NaN</td>\n",
       "      <td>NaN</td>\n",
       "      <td>NaN</td>\n",
       "      <td>NaN</td>\n",
       "      <td>NaN</td>\n",
       "      <td>NaN</td>\n",
       "      <td>NaN</td>\n",
       "      <td>NaN</td>\n",
       "      <td>NaN</td>\n",
       "    </tr>\n",
       "    <tr>\n",
       "      <th>1</th>\n",
       "      <td>2014</td>\n",
       "      <td>12</td>\n",
       "      <td>29</td>\n",
       "      <td>AT</td>\n",
       "      <td>Innsbruck</td>\n",
       "      <td>47.26</td>\n",
       "      <td>11.39</td>\n",
       "      <td>0.10</td>\n",
       "      <td>25.60</td>\n",
       "      <td>NaN</td>\n",
       "      <td>...</td>\n",
       "      <td>1.60</td>\n",
       "      <td>NaN</td>\n",
       "      <td>NaN</td>\n",
       "      <td>NaN</td>\n",
       "      <td>NaN</td>\n",
       "      <td>NaN</td>\n",
       "      <td>NaN</td>\n",
       "      <td>NaN</td>\n",
       "      <td>NaN</td>\n",
       "      <td>NaN</td>\n",
       "    </tr>\n",
       "    <tr>\n",
       "      <th>2</th>\n",
       "      <td>2014</td>\n",
       "      <td>12</td>\n",
       "      <td>29</td>\n",
       "      <td>AT</td>\n",
       "      <td>Linz</td>\n",
       "      <td>48.31</td>\n",
       "      <td>14.29</td>\n",
       "      <td>0.10</td>\n",
       "      <td>14.20</td>\n",
       "      <td>NaN</td>\n",
       "      <td>...</td>\n",
       "      <td>2.10</td>\n",
       "      <td>NaN</td>\n",
       "      <td>NaN</td>\n",
       "      <td>NaN</td>\n",
       "      <td>NaN</td>\n",
       "      <td>NaN</td>\n",
       "      <td>NaN</td>\n",
       "      <td>NaN</td>\n",
       "      <td>NaN</td>\n",
       "      <td>NaN</td>\n",
       "    </tr>\n",
       "    <tr>\n",
       "      <th>3</th>\n",
       "      <td>2014</td>\n",
       "      <td>12</td>\n",
       "      <td>29</td>\n",
       "      <td>AT</td>\n",
       "      <td>Salzburg</td>\n",
       "      <td>47.80</td>\n",
       "      <td>13.04</td>\n",
       "      <td>0.10</td>\n",
       "      <td>21.10</td>\n",
       "      <td>NaN</td>\n",
       "      <td>...</td>\n",
       "      <td>2.10</td>\n",
       "      <td>NaN</td>\n",
       "      <td>NaN</td>\n",
       "      <td>NaN</td>\n",
       "      <td>NaN</td>\n",
       "      <td>NaN</td>\n",
       "      <td>NaN</td>\n",
       "      <td>NaN</td>\n",
       "      <td>NaN</td>\n",
       "      <td>NaN</td>\n",
       "    </tr>\n",
       "    <tr>\n",
       "      <th>4</th>\n",
       "      <td>2014</td>\n",
       "      <td>12</td>\n",
       "      <td>29</td>\n",
       "      <td>AT</td>\n",
       "      <td>Vienna</td>\n",
       "      <td>48.21</td>\n",
       "      <td>16.37</td>\n",
       "      <td>0.10</td>\n",
       "      <td>9.00</td>\n",
       "      <td>NaN</td>\n",
       "      <td>...</td>\n",
       "      <td>2.60</td>\n",
       "      <td>NaN</td>\n",
       "      <td>NaN</td>\n",
       "      <td>NaN</td>\n",
       "      <td>NaN</td>\n",
       "      <td>NaN</td>\n",
       "      <td>NaN</td>\n",
       "      <td>NaN</td>\n",
       "      <td>NaN</td>\n",
       "      <td>NaN</td>\n",
       "    </tr>\n",
       "  </tbody>\n",
       "</table>\n",
       "<p>5 rows × 22 columns</p>\n",
       "</div>"
      ],
      "text/plain": [
       "   Year  Month  Day Country       City  Latitude  Longitude   Co   No2  O3  \\\n",
       "0  2014     12   29      AT       Graz     47.07      15.45 0.10  9.00 NaN   \n",
       "1  2014     12   29      AT  Innsbruck     47.26      11.39 0.10 25.60 NaN   \n",
       "2  2014     12   29      AT       Linz     48.31      14.29 0.10 14.20 NaN   \n",
       "3  2014     12   29      AT   Salzburg     47.80      13.04 0.10 21.10 NaN   \n",
       "4  2014     12   29      AT     Vienna     48.21      16.37 0.10  9.00 NaN   \n",
       "\n",
       "   ...  So2  Dew  Humidity  Tavg  Tmin  Tmax  Prcp  Wdir  Wspd  Pres  \n",
       "0  ... 1.60  NaN       NaN   NaN   NaN   NaN   NaN   NaN   NaN   NaN  \n",
       "1  ... 1.60  NaN       NaN   NaN   NaN   NaN   NaN   NaN   NaN   NaN  \n",
       "2  ... 2.10  NaN       NaN   NaN   NaN   NaN   NaN   NaN   NaN   NaN  \n",
       "3  ... 2.10  NaN       NaN   NaN   NaN   NaN   NaN   NaN   NaN   NaN  \n",
       "4  ... 2.60  NaN       NaN   NaN   NaN   NaN   NaN   NaN   NaN   NaN  \n",
       "\n",
       "[5 rows x 22 columns]"
      ]
     },
     "execution_count": 9,
     "metadata": {},
     "output_type": "execute_result"
    }
   ],
   "source": [
    "# Remove all columns with more than 50% missing values\n",
    "# Note: This removes population data entirely!\n",
    "\n",
    "# Anzahl der Spalten vor dem Entfernen merken\n",
    "original_columns = df.shape[1]\n",
    "\n",
    "df = df.loc[:, missing_percent <= 50]\n",
    "\n",
    "# Print what has changed\n",
    "print(f\"Anzahl der entfernten Spalten: {original_columns - df.shape[1]}\")\n",
    "removed = missing_percent[missing_percent > 50].index\n",
    "print(\"Entfernte Spalten:\", list(removed))\n",
    "print(\"Übrige Spalten:\", df.columns)\n",
    "\n",
    "df.head()"
   ]
  },
  {
   "cell_type": "code",
   "execution_count": 10,
   "metadata": {},
   "outputs": [
    {
     "data": {
      "text/plain": [
       "(1695041, 22)"
      ]
     },
     "execution_count": 10,
     "metadata": {},
     "output_type": "execute_result"
    }
   ],
   "source": [
    "df.shape"
   ]
  },
  {
   "cell_type": "markdown",
   "metadata": {},
   "source": [
    "# Deskriptive Statistik"
   ]
  },
  {
   "cell_type": "markdown",
   "metadata": {},
   "source": [
    "# Analyse der Schadstoffdaten"
   ]
  },
  {
   "cell_type": "code",
   "execution_count": 11,
   "metadata": {},
   "outputs": [
    {
     "data": {
      "text/html": [
       "<div>\n",
       "<style scoped>\n",
       "    .dataframe tbody tr th:only-of-type {\n",
       "        vertical-align: middle;\n",
       "    }\n",
       "\n",
       "    .dataframe tbody tr th {\n",
       "        vertical-align: top;\n",
       "    }\n",
       "\n",
       "    .dataframe thead th {\n",
       "        text-align: right;\n",
       "    }\n",
       "</style>\n",
       "<table border=\"1\" class=\"dataframe\">\n",
       "  <thead>\n",
       "    <tr style=\"text-align: right;\">\n",
       "      <th></th>\n",
       "      <th>count</th>\n",
       "      <th>mean</th>\n",
       "      <th>std</th>\n",
       "      <th>min</th>\n",
       "      <th>25%</th>\n",
       "      <th>50%</th>\n",
       "      <th>75%</th>\n",
       "      <th>max</th>\n",
       "    </tr>\n",
       "  </thead>\n",
       "  <tbody>\n",
       "    <tr>\n",
       "      <th>Co</th>\n",
       "      <td>1,063,231.00</td>\n",
       "      <td>4.77</td>\n",
       "      <td>8.89</td>\n",
       "      <td>0.00</td>\n",
       "      <td>1.40</td>\n",
       "      <td>3.40</td>\n",
       "      <td>5.60</td>\n",
       "      <td>500.00</td>\n",
       "    </tr>\n",
       "    <tr>\n",
       "      <th>Pm25</th>\n",
       "      <td>1,432,252.00</td>\n",
       "      <td>53.25</td>\n",
       "      <td>41.04</td>\n",
       "      <td>0.00</td>\n",
       "      <td>25.00</td>\n",
       "      <td>42.00</td>\n",
       "      <td>67.00</td>\n",
       "      <td>999.00</td>\n",
       "    </tr>\n",
       "    <tr>\n",
       "      <th>Pm10</th>\n",
       "      <td>1,353,189.00</td>\n",
       "      <td>27.07</td>\n",
       "      <td>27.69</td>\n",
       "      <td>0.00</td>\n",
       "      <td>12.00</td>\n",
       "      <td>19.00</td>\n",
       "      <td>34.00</td>\n",
       "      <td>999.00</td>\n",
       "    </tr>\n",
       "    <tr>\n",
       "      <th>So2</th>\n",
       "      <td>1,162,066.00</td>\n",
       "      <td>3.98</td>\n",
       "      <td>8.82</td>\n",
       "      <td>0.00</td>\n",
       "      <td>1.20</td>\n",
       "      <td>2.50</td>\n",
       "      <td>4.30</td>\n",
       "      <td>500.00</td>\n",
       "    </tr>\n",
       "    <tr>\n",
       "      <th>No2</th>\n",
       "      <td>1,408,781.00</td>\n",
       "      <td>9.76</td>\n",
       "      <td>10.50</td>\n",
       "      <td>0.00</td>\n",
       "      <td>4.60</td>\n",
       "      <td>7.50</td>\n",
       "      <td>12.40</td>\n",
       "      <td>500.00</td>\n",
       "    </tr>\n",
       "    <tr>\n",
       "      <th>O3</th>\n",
       "      <td>1,320,893.00</td>\n",
       "      <td>20.46</td>\n",
       "      <td>15.39</td>\n",
       "      <td>0.00</td>\n",
       "      <td>11.80</td>\n",
       "      <td>19.90</td>\n",
       "      <td>27.20</td>\n",
       "      <td>500.00</td>\n",
       "    </tr>\n",
       "  </tbody>\n",
       "</table>\n",
       "</div>"
      ],
      "text/plain": [
       "            count  mean   std  min   25%   50%   75%    max\n",
       "Co   1,063,231.00  4.77  8.89 0.00  1.40  3.40  5.60 500.00\n",
       "Pm25 1,432,252.00 53.25 41.04 0.00 25.00 42.00 67.00 999.00\n",
       "Pm10 1,353,189.00 27.07 27.69 0.00 12.00 19.00 34.00 999.00\n",
       "So2  1,162,066.00  3.98  8.82 0.00  1.20  2.50  4.30 500.00\n",
       "No2  1,408,781.00  9.76 10.50 0.00  4.60  7.50 12.40 500.00\n",
       "O3   1,320,893.00 20.46 15.39 0.00 11.80 19.90 27.20 500.00"
      ]
     },
     "execution_count": 11,
     "metadata": {},
     "output_type": "execute_result"
    }
   ],
   "source": [
    "# Pollutants\n",
    "\n",
    "pollutant_cols = [\"Co\", \"Pm25\", \"Pm10\", \"So2\", \"No2\", \"O3\"]\n",
    "df[pollutant_cols].describe().T\n"
   ]
  },
  {
   "cell_type": "markdown",
   "metadata": {},
   "source": [
    "Einige Messwerte wie Co = 500 oder Pm25 = 999 deuten auf Platzhalter für fehlende oder ungültige Daten hin und verzerren die Verteilung erheblich. Diese Werte könnten fehlerhaft sein und sollten aus der Analyse ausgeschlossen werden."
   ]
  },
  {
   "cell_type": "markdown",
   "metadata": {},
   "source": [
    "## Analyse und Bereinigung der Pm25-Werte"
   ]
  },
  {
   "cell_type": "code",
   "execution_count": 12,
   "metadata": {},
   "outputs": [
    {
     "data": {
      "text/plain": [
       "array([999., 981., 834., 832., 831., 826., 825., 824., 818., 816.])"
      ]
     },
     "execution_count": 12,
     "metadata": {},
     "output_type": "execute_result"
    }
   ],
   "source": [
    "df[\"Pm25\"].sort_values(ascending=False).unique() [:10]"
   ]
  },
  {
   "cell_type": "code",
   "execution_count": 13,
   "metadata": {},
   "outputs": [
    {
     "data": {
      "image/png": "[encoded data removed]",
      "text/plain": [
       "<Figure size 640x480 with 1 Axes>"
      ]
     },
     "metadata": {},
     "output_type": "display_data"
    }
   ],
   "source": [
    "sns.stripplot(x=df[\"Pm25\"], size=2, jitter=0.3)\n",
    "plt.title(\"PM2.5 Einzelwerte\")\n",
    "plt.xlabel(\"PM2.5-Konzentration (µg/m³)\")\n",
    "plt.grid(True);"
   ]
  },
  {
   "cell_type": "markdown",
   "metadata": {},
   "source": [
    "### Interpretation der Pm25-Werte VOR Bereinigung des Datensatzes\n",
    "Bei der visuellen Analyse der PM2.5-Messwerte fällt eine ungewöhnliche Häufung im Bereich zwischen 816 und 834 µg/m³ auf, begleitet von vereinzelten extrem hohen Werten bei 981 und 999 µg/m³. Diese Werte liegen deutlich außerhalb des realistischen Messbereichs und deuten auf Messfehler, Platzhalterwerte oder systembedingte Übertragungsfehler hin. Um die Analyse nicht zu verzerren, werden daher alle PM2.5-Werte ab 816 µg/m³ ausgeschlossen."
   ]
  },
  {
   "cell_type": "code",
   "execution_count": 14,
   "metadata": {},
   "outputs": [],
   "source": [
    "# PM2.5 >= 816\n",
    "df.loc[df[\"Pm25\"] >= 816, \"Pm25\"] = np.nan"
   ]
  },
  {
   "cell_type": "code",
   "execution_count": 15,
   "metadata": {},
   "outputs": [
    {
     "data": {
      "text/plain": [
       "<Axes: xlabel='Pm25', ylabel='Count'>"
      ]
     },
     "execution_count": 15,
     "metadata": {},
     "output_type": "execute_result"
    },
    {
     "data": {
      "image/png": "[encoded data removed]",
      "text/plain": [
       "<Figure size 640x480 with 1 Axes>"
      ]
     },
     "metadata": {},
     "output_type": "display_data"
    }
   ],
   "source": [
    "sns.histplot(df[\"Pm25\"], bins=100)"
   ]
  },
  {
   "cell_type": "markdown",
   "metadata": {},
   "source": [
    "Die Verteilung der Messwerte wirkt nach dem Entfernen der unrealistischen Werte rechtsschief. Überprüfung mit Vergleich Mean/Median."
   ]
  },
  {
   "cell_type": "code",
   "execution_count": 16,
   "metadata": {},
   "outputs": [
    {
     "name": "stdout",
     "output_type": "stream",
     "text": [
      "Mittelwert (mean): 53.19\n",
      "Median:            42.00\n"
     ]
    }
   ],
   "source": [
    "mean_pm25 = df[\"Pm25\"].mean()\n",
    "median_pm25 = df[\"Pm25\"].median()\n",
    "\n",
    "print(f\"Mittelwert (mean): {mean_pm25:.2f}\")\n",
    "print(f\"Median:            {median_pm25:.2f}\")"
   ]
  },
  {
   "cell_type": "code",
   "execution_count": 17,
   "metadata": {},
   "outputs": [
    {
     "name": "stdout",
     "output_type": "stream",
     "text": [
      "Schiefe (Skewness): 2.26\n"
     ]
    }
   ],
   "source": [
    "from scipy.stats import skew\n",
    "\n",
    "skew_pm25 = skew(df[\"Pm25\"].dropna())\n",
    "print(f\"Schiefe (Skewness): {skew_pm25:.2f}\")\n",
    "\n",
    "# Skewness > 0 --> rechtsschiefe Verteilung."
   ]
  },
  {
   "cell_type": "markdown",
   "metadata": {},
   "source": [
    "### Verteilung der bereinigten PM2.5-Werte (Fazit)\n",
    "\n",
    "Die PM2.5-Werte zeigen eine deutlich rechtsschiefe Verteilung. Der Mittelwert liegt bei 53,19 µg/m³, während der Median nur 42,00 µg/m³ beträgt. Zusätzlich ergibt die Berechnung der Schiefe (Skewness) einen Wert von 2,26, was auf eine starke Asymmetrie hindeutet.\n",
    "Diese rechtsschiefe Verteilung bedeutet, dass der Großteil der Messwerte im unteren Bereich liegt, während einige wenige sehr hohe Werte den Mittelwert nach oben ziehen.\n",
    "\n",
    "Um die Analyse nicht durch technisch bedingte Ausreißer zu verzerren, wurden alle PM2.5-Werte ab 816 µg/m³ ausgeschlossen, da sie deutlich außerhalb des natürlichen Messbereichs liegen und teilweise systematisch auftraten."
   ]
  },
  {
   "cell_type": "markdown",
   "metadata": {},
   "source": [
    "## Analyse und Bereinigung der CO-Werte"
   ]
  },
  {
   "cell_type": "code",
   "execution_count": 18,
   "metadata": {},
   "outputs": [
    {
     "data": {
      "text/plain": [
       "array([500. , 496. , 495.3, 495. , 489.2, 485.5, 478.1, 426.4, 425.3,\n",
       "       420.4, 416. , 397.6, 380.8, 374.5, 357.3, 341. , 333.4, 324.4,\n",
       "       315.9, 315.5, 308.6, 288. , 281.3, 277.5, 277.1, 271.8, 270.3,\n",
       "       267.4, 266.4, 266. ])"
      ]
     },
     "execution_count": 18,
     "metadata": {},
     "output_type": "execute_result"
    }
   ],
   "source": [
    "df[\"Co\"].sort_values(ascending=False).unique()[:30]"
   ]
  },
  {
   "cell_type": "code",
   "execution_count": 19,
   "metadata": {},
   "outputs": [
    {
     "data": {
      "image/png": "[encoded data removed]",
      "text/plain": [
       "<Figure size 640x480 with 1 Axes>"
      ]
     },
     "metadata": {},
     "output_type": "display_data"
    }
   ],
   "source": [
    "sns.stripplot(x=df[\"Co\"], size=2, jitter=0.3)\n",
    "plt.title(\"CO Einzelwerte\")\n",
    "plt.xlabel(\"CO-Konzentration (µg/m³)\")\n",
    "plt.grid(True);"
   ]
  },
  {
   "cell_type": "markdown",
   "metadata": {},
   "source": [
    "### Interpretation der Pm25-Werte VOR Bereinigung des Datensatzes\n",
    "Es gibt zwar einen eindeutigen Platzhalterwert, aber alle anderen Messwerte könnten theoretisch realistisch sein. Überprüfung der Verteilung mit Mean/Median, um den Cutoff festzulegen."
   ]
  },
  {
   "cell_type": "code",
   "execution_count": 20,
   "metadata": {},
   "outputs": [
    {
     "name": "stdout",
     "output_type": "stream",
     "text": [
      "Mittelwert (mean): 4.77\n",
      "Median:            3.40\n",
      "Schiefe:           27.96\n"
     ]
    }
   ],
   "source": [
    "mean_co = df[\"Co\"].mean()\n",
    "median_co = df[\"Co\"].median()\n",
    "skew_co = skew(df[\"Co\"].dropna())\n",
    "\n",
    "print(f\"Mittelwert (mean): {mean_co:.2f}\")\n",
    "print(f\"Median:            {median_co:.2f}\")\n",
    "print(f\"Schiefe:           {skew_co:.2f}\")"
   ]
  },
  {
   "cell_type": "markdown",
   "metadata": {},
   "source": [
    "### Bereinigte CO-Werte (Begründung)\n",
    "\n",
    "Die Verteilung der CO-Messwerte ist stark rechtsschief, mit einem Mittelwert von 4.74 µg/m³, einem Median von 3.40 µg/m³ und einer Schiefe von 29.64. Dies deutet auf extreme Ausreißer hin, die den Mittelwert erheblich verzerren. Zusätzlich tritt eine auffällige Häufung exakt bei 500 µg/m³ auf, was sehr wahrscheinlich ein technischer Platzhalterwert ist.\n",
    "\n",
    "Um die Aussagekraft der Analyse zu erhöhen, wurden daher alle Werte ab 300 µg/m³ ausgeschlossen. Dieser Grenzwert liegt deutlich oberhalb der Hauptverteilung und entfernt sowohl technische Ausreißer als auch extreme Einzelwerte."
   ]
  },
  {
   "cell_type": "code",
   "execution_count": 21,
   "metadata": {},
   "outputs": [],
   "source": [
    "# CO > 300 oder CO == 500 → als NaN\n",
    "df.loc[df[\"Co\"] >= 300, \"Co\"] = np.nan"
   ]
  },
  {
   "cell_type": "markdown",
   "metadata": {},
   "source": [
    "## Analyse und Bereinigung der No2-Werte"
   ]
  },
  {
   "cell_type": "code",
   "execution_count": 22,
   "metadata": {},
   "outputs": [
    {
     "data": {
      "image/png": "[encoded data removed]",
      "text/plain": [
       "<Figure size 640x480 with 1 Axes>"
      ]
     },
     "metadata": {},
     "output_type": "display_data"
    }
   ],
   "source": [
    "sns.stripplot(x=df[\"No2\"], size=2, jitter=0.3)\n",
    "plt.title(\"NO₂ Einzelwerte\")\n",
    "plt.xlabel(\"NO₂-Konzentration (µg/m³)\")\n",
    "plt.grid(True);"
   ]
  },
  {
   "cell_type": "code",
   "execution_count": 23,
   "metadata": {},
   "outputs": [
    {
     "name": "stdout",
     "output_type": "stream",
     "text": [
      "Mittelwert (mean): 9.76\n",
      "Median:            7.50\n",
      "Schiefe:           19.34\n"
     ]
    }
   ],
   "source": [
    "mean_no2 = df[\"No2\"].mean()\n",
    "median_no2 = df[\"No2\"].median()\n",
    "skew_no2 = skew(df[\"No2\"].dropna())\n",
    "\n",
    "print(f\"Mittelwert (mean): {mean_no2:.2f}\")\n",
    "print(f\"Median:            {median_no2:.2f}\")\n",
    "print(f\"Schiefe:           {skew_no2:.2f}\")"
   ]
  },
  {
   "cell_type": "code",
   "execution_count": 24,
   "metadata": {},
   "outputs": [
    {
     "data": {
      "text/plain": [
       "<Axes: xlabel='No2', ylabel='Count'>"
      ]
     },
     "execution_count": 24,
     "metadata": {},
     "output_type": "execute_result"
    },
    {
     "data": {
      "image/png": "[encoded data removed]",
      "text/plain": [
       "<Figure size 640x480 with 1 Axes>"
      ]
     },
     "metadata": {},
     "output_type": "display_data"
    }
   ],
   "source": [
    "sns.histplot(df[\"No2\"], bins=100)"
   ]
  },
  {
   "cell_type": "code",
   "execution_count": 25,
   "metadata": {},
   "outputs": [],
   "source": [
    "# NO2 >= 300 oder == 500\n",
    "df.loc[df[\"No2\"] >= 300, \"No2\"] = np.nan"
   ]
  },
  {
   "cell_type": "markdown",
   "metadata": {},
   "source": [
    "### Bereinigung der NO₂-Werte\n",
    "Die NO₂-Werte zeigen eine stark rechtsschiefe Verteilung, mit einem Mittelwert von 10.55 µg/m³, einem Median von 8.40 µg/m³ und einer Schiefe von 10.08. Die große Mehrheit der Messwerte liegt unterhalb von 120 µg/m³, während einzelne Ausreißer bis 425 µg/m³ reichen. \n",
    "\n",
    "Zusätzlich tritt eine auffällige Häufung bei 500 µg/m³ auf, was sehr wahrscheinlich auf technische Platzhalterwerte zurückzuführen ist.\n",
    "Um die Analyse nicht durch extreme Einzelwerte zu verzerren, wurden alle NO₂-Werte ab 300 µg/m³ ausgeschlossen."
   ]
  },
  {
   "cell_type": "code",
   "execution_count": 26,
   "metadata": {},
   "outputs": [
    {
     "data": {
      "text/plain": [
       "count   1,408,527.00\n",
       "mean            9.67\n",
       "std             8.29\n",
       "min             0.00\n",
       "25%             4.60\n",
       "50%             7.50\n",
       "75%            12.40\n",
       "max           299.80\n",
       "Name: No2, dtype: float64"
      ]
     },
     "execution_count": 26,
     "metadata": {},
     "output_type": "execute_result"
    }
   ],
   "source": [
    "df[\"No2\"].describe()"
   ]
  },
  {
   "cell_type": "markdown",
   "metadata": {},
   "source": [
    "## Analyse und Bereinigung der So2-Werte"
   ]
  },
  {
   "cell_type": "code",
   "execution_count": 27,
   "metadata": {},
   "outputs": [
    {
     "data": {
      "image/png": "[encoded data removed]",
      "text/plain": [
       "<Figure size 640x480 with 1 Axes>"
      ]
     },
     "metadata": {},
     "output_type": "display_data"
    }
   ],
   "source": [
    "sns.stripplot(x=df[\"So2\"], size=2, jitter=0.3)\n",
    "plt.title(\"SO₂ Einzelwerte\")\n",
    "plt.xlabel(\"SO₂-Konzentration (µg/m³)\")\n",
    "plt.grid(True);"
   ]
  },
  {
   "cell_type": "code",
   "execution_count": 28,
   "metadata": {},
   "outputs": [
    {
     "name": "stdout",
     "output_type": "stream",
     "text": [
      "Mittelwert (mean): 3.98\n",
      "Median:            2.50\n",
      "Schiefe:           25.75\n"
     ]
    }
   ],
   "source": [
    "mean_so2 = df[\"So2\"].mean()\n",
    "median_so2 = df[\"So2\"].median()\n",
    "skew_so2 = skew(df[\"So2\"].dropna())\n",
    "\n",
    "print(f\"Mittelwert (mean): {mean_so2:.2f}\")\n",
    "print(f\"Median:            {median_so2:.2f}\")\n",
    "print(f\"Schiefe:           {skew_so2:.2f}\")"
   ]
  },
  {
   "cell_type": "code",
   "execution_count": 29,
   "metadata": {},
   "outputs": [],
   "source": [
    "# SO2 >= 300 oder == 500\n",
    "df.loc[df[\"So2\"] >= 300, \"So2\"] = np.nan"
   ]
  },
  {
   "cell_type": "markdown",
   "metadata": {},
   "source": [
    "### Bereinigung der SO₂-Werte\n",
    "Die Verteilung der Schwefeldioxid-Werte ist stark rechtsschief, mit einem Mittelwert von 4.10 µg/m³, einem Median von 2.60 µg/m³ und einer Schiefe von 10.45. Die große Mehrheit der Messwerte liegt unterhalb von 80 µg/m³, darüber hinaus treten vereinzelt höhere Werte auf – einige davon sind durchaus plausibel.\n",
    "\n",
    "Auffällig ist jedoch eine Datenlücke im Bereich von 300 bis 400 µg/m³, gefolgt von insgesamt neun vereinzelten Extremwerten oberhalb von 400, von denen zwei exakt bei 500 µg/m³ liegen. Diese Muster deuten auf technisch bedingte Ausreißer oder Platzhalterwerte hin.\n",
    "Um die Aussagekraft der Analyse zu erhöhen, wurden daher alle SO₂-Werte ab 300 µg/m³ ausgeschlossen."
   ]
  },
  {
   "cell_type": "markdown",
   "metadata": {},
   "source": [
    "## Analyse und Bereinigung der O3-Werte"
   ]
  },
  {
   "cell_type": "code",
   "execution_count": 30,
   "metadata": {},
   "outputs": [
    {
     "data": {
      "image/png": "[encoded data removed]",
      "text/plain": [
       "<Figure size 640x480 with 1 Axes>"
      ]
     },
     "metadata": {},
     "output_type": "display_data"
    }
   ],
   "source": [
    "sns.stripplot(x=df[\"O3\"], size=2, jitter=0.3)\n",
    "plt.title(\"O3 Einzelwerte\")\n",
    "plt.xlabel(\"O3-Konzentration (µg/m³)\")\n",
    "plt.grid(True);"
   ]
  },
  {
   "cell_type": "code",
   "execution_count": 31,
   "metadata": {},
   "outputs": [
    {
     "name": "stdout",
     "output_type": "stream",
     "text": [
      "Mittelwert (mean): 20.46\n",
      "Median:            19.90\n",
      "Schiefe:           13.71\n"
     ]
    }
   ],
   "source": [
    "mean_o3 = df[\"O3\"].mean()\n",
    "median_o3 = df[\"O3\"].median()\n",
    "skew_o3 = skew(df[\"O3\"].dropna())\n",
    "\n",
    "print(f\"Mittelwert (mean): {mean_o3:.2f}\")\n",
    "print(f\"Median:            {median_o3:.2f}\")\n",
    "print(f\"Schiefe:           {skew_o3:.2f}\")"
   ]
  },
  {
   "cell_type": "code",
   "execution_count": 32,
   "metadata": {},
   "outputs": [
    {
     "data": {
      "text/plain": [
       "<Axes: xlabel='O3', ylabel='Count'>"
      ]
     },
     "execution_count": 32,
     "metadata": {},
     "output_type": "execute_result"
    },
    {
     "data": {
      "image/png": "[encoded data removed]",
      "text/plain": [
       "<Figure size 640x480 with 1 Axes>"
      ]
     },
     "metadata": {},
     "output_type": "display_data"
    }
   ],
   "source": [
    "sns.histplot(df[\"O3\"], bins=100)"
   ]
  },
  {
   "cell_type": "code",
   "execution_count": 33,
   "metadata": {},
   "outputs": [],
   "source": [
    "# O3 >= 380 oder == 500\n",
    "df.loc[df[\"O3\"] >= 380, \"O3\"] = np.nan"
   ]
  },
  {
   "cell_type": "markdown",
   "metadata": {},
   "source": [
    "### Bereinigung der Ozon-Werte (O₃)\n",
    "Die Verteilung der Ozonwerte zeigt eine deutliche Rechtsschiefe mit einem Mittelwert von 20.01 µg/m³, einem Median von 19.10 µg/m³ und einer Schiefe von 7.71. Die große Mehrheit der Messwerte liegt unterhalb von 100 µg/m³, während vereinzelte Extremwerte bis ca. 320 µg/m³ auftreten, die jedoch noch plausibel erscheinen.\n",
    "\n",
    "Auffällig ist eine systematische Häufung im Bereich zwischen 380 und 390 µg/m³, die auf eine technisch bedingte Obergrenze oder einen Messfehler hinweist. Zusätzlich treten vereinzelte Werte beim Maximalwert von 500 µg/m³ auf, was stark auf einen Platzhalterwert schließen lässt.\n",
    "\n",
    "Um die Analyse nicht durch solche systematischen Ausreißer zu verzerren, wurden daher alle O₃-Werte ab 380 µg/m³ aus dem Datensatz ausgeschlossen."
   ]
  },
  {
   "cell_type": "markdown",
   "metadata": {},
   "source": [
    "## Analyse und Bereinigung der Pm10-Werte"
   ]
  },
  {
   "cell_type": "code",
   "execution_count": 34,
   "metadata": {},
   "outputs": [
    {
     "data": {
      "image/png": "[encoded data removed]",
      "text/plain": [
       "<Figure size 640x480 with 1 Axes>"
      ]
     },
     "metadata": {},
     "output_type": "display_data"
    }
   ],
   "source": [
    "sns.stripplot(x=df[\"Pm10\"], size=2, jitter=0.3)\n",
    "plt.title(\"Pm10 Einzelwerte\")\n",
    "plt.xlabel(\"Pm10-Konzentration (µg/m³)\")\n",
    "plt.grid(True);"
   ]
  },
  {
   "cell_type": "code",
   "execution_count": 35,
   "metadata": {},
   "outputs": [
    {
     "data": {
      "text/plain": [
       "count   1,353,189.00\n",
       "mean           27.07\n",
       "std            27.69\n",
       "min             0.00\n",
       "25%            12.00\n",
       "50%            19.00\n",
       "75%            34.00\n",
       "max           999.00\n",
       "Name: Pm10, dtype: float64"
      ]
     },
     "execution_count": 35,
     "metadata": {},
     "output_type": "execute_result"
    }
   ],
   "source": [
    "df[\"Pm10\"].describe()"
   ]
  },
  {
   "cell_type": "code",
   "execution_count": 36,
   "metadata": {},
   "outputs": [
    {
     "name": "stdout",
     "output_type": "stream",
     "text": [
      "Mittelwert (mean): 27.07\n",
      "Median:            19.00\n",
      "Schiefe:           9.64\n"
     ]
    }
   ],
   "source": [
    "mean_pm10 = df[\"Pm10\"].mean()\n",
    "median_pm10 = df[\"Pm10\"].median()\n",
    "skew_pm10 = skew(df[\"Pm10\"].dropna())\n",
    "\n",
    "print(f\"Mittelwert (mean): {mean_pm10:.2f}\")\n",
    "print(f\"Median:            {median_pm10:.2f}\")\n",
    "print(f\"Schiefe:           {skew_pm10:.2f}\")"
   ]
  },
  {
   "cell_type": "code",
   "execution_count": 37,
   "metadata": {},
   "outputs": [
    {
     "data": {
      "text/plain": [
       "<Axes: xlabel='O3', ylabel='Count'>"
      ]
     },
     "execution_count": 37,
     "metadata": {},
     "output_type": "execute_result"
    },
    {
     "data": {
      "image/png": "[encoded data removed]",
      "text/plain": [
       "<Figure size 640x480 with 1 Axes>"
      ]
     },
     "metadata": {},
     "output_type": "display_data"
    }
   ],
   "source": [
    "sns.histplot(df[\"O3\"], bins=100)"
   ]
  },
  {
   "cell_type": "markdown",
   "metadata": {},
   "source": [
    "ACHTUNG: Der Cutoff bei PM10 ist nicht so eindeutig zu setzen wie bei den anderen Schadstoffen. Es sind also zusätzliche Berechnungen sinnvoll."
   ]
  },
  {
   "cell_type": "code",
   "execution_count": 38,
   "metadata": {},
   "outputs": [
    {
     "data": {
      "text/plain": [
       "Pm10\n",
       "827.00     1\n",
       "830.00     1\n",
       "831.00     1\n",
       "840.00     1\n",
       "842.00     1\n",
       "843.00     1\n",
       "848.00     1\n",
       "849.00     1\n",
       "855.00     1\n",
       "861.00     1\n",
       "863.00     1\n",
       "865.00     1\n",
       "866.00     1\n",
       "867.00    59\n",
       "868.00    72\n",
       "869.00     1\n",
       "872.00     1\n",
       "878.00     1\n",
       "879.00     2\n",
       "880.00    20\n",
       "882.00    24\n",
       "884.00    13\n",
       "887.00     1\n",
       "890.00     1\n",
       "892.00     1\n",
       "893.00     1\n",
       "895.00     4\n",
       "896.00     4\n",
       "903.00     1\n",
       "935.00     1\n",
       "956.00     1\n",
       "970.00     1\n",
       "983.00     1\n",
       "999.00    45\n",
       "Name: count, dtype: int64"
      ]
     },
     "execution_count": 38,
     "metadata": {},
     "output_type": "execute_result"
    }
   ],
   "source": [
    "# Wo beginnt die Häufung bei der breiten Linie im Ausreißerbereich (ca. 820-840)?\n",
    "\n",
    "df[\"Pm10\"].value_counts().loc[lambda x: x.index > 820].sort_index()\n"
   ]
  },
  {
   "cell_type": "code",
   "execution_count": 39,
   "metadata": {},
   "outputs": [
    {
     "data": {
      "image/png": "[encoded data removed]",
      "text/plain": [
       "<Figure size 640x480 with 1 Axes>"
      ]
     },
     "metadata": {},
     "output_type": "display_data"
    }
   ],
   "source": [
    "# \"Datenmauer\" plotten (nicht wirklich nötig, aber \"Nice to have\" für Leute, die gerne Visualisierungen mögen...)\n",
    "\n",
    "high_values = df[\"Pm10\"][df[\"Pm10\"] > 800]\n",
    "sns.histplot(high_values, binwidth=1)\n",
    "plt.title(\"Häufigkeit der PM10-Werte > 800\")\n",
    "plt.xlabel(\"PM10-Wert (µg/m³)\")\n",
    "plt.ylabel(\"Anzahl\")\n",
    "plt.grid(True)\n",
    "plt.show()\n"
   ]
  },
  {
   "cell_type": "code",
   "execution_count": 40,
   "metadata": {},
   "outputs": [],
   "source": [
    "# PM10 >= 867\n",
    "df.loc[df[\"Pm10\"] >= 867, \"Pm10\"] = np.nan\n"
   ]
  },
  {
   "cell_type": "markdown",
   "metadata": {},
   "source": [
    "### Bereinigung der PM10-Werte\n",
    "Die PM10-Werte zeigen eine deutlich rechtsschiefe Verteilung mit einem Mittelwert von 32.43 µg/m³, einem Median von 24.00 µg/m³ und einer Schiefe von 7.17. Der größte Teil der Messwerte liegt unterhalb von 200 µg/m³, mit einer kontinuierlich abnehmenden Dichte bis in den Bereich von ca. 850 µg/m³.\n",
    "\n",
    "Eine detaillierte Analyse der Einzelwertverteilung ergab jedoch eine auffällige Häufung von Messwerten im Bereich 867–882 µg/m³, insbesondere 40 Messungen mit dem identischen Wert 867. Diese systematische Häufung spricht stark für einen technisch bedingten Fehler oder künstlich begrenzte Wertebereiche. Zusätzlich tritt der Platzhalterwert 999 33 Mal auf.\n",
    "\n",
    "Um die Analyse nicht durch diese systematischen Verzerrungen zu beeinflussen, wurden alle PM10-Werte ab 867 µg/m³ aus dem Datensatz ausgeschlossen."
   ]
  },
  {
   "cell_type": "markdown",
   "metadata": {},
   "source": [
    "### Methode zum Entfernen von Platzhalterwerten und starken Ausreißern\n",
    "Zur Datenbereinigung wurden extreme Ausreißer in den Schadstoffwerten nicht durch das Entfernen ganzer Zeilen, sondern durch das gezielte Ersetzen der jeweiligen Zellen mit NaN behandelt. So bleiben andere valide Messwerte in der gleichen Zeile erhalten."
   ]
  },
  {
   "cell_type": "code",
   "execution_count": 41,
   "metadata": {},
   "outputs": [
    {
     "data": {
      "text/html": [
       "<div>\n",
       "<style scoped>\n",
       "    .dataframe tbody tr th:only-of-type {\n",
       "        vertical-align: middle;\n",
       "    }\n",
       "\n",
       "    .dataframe tbody tr th {\n",
       "        vertical-align: top;\n",
       "    }\n",
       "\n",
       "    .dataframe thead th {\n",
       "        text-align: right;\n",
       "    }\n",
       "</style>\n",
       "<table border=\"1\" class=\"dataframe\">\n",
       "  <thead>\n",
       "    <tr style=\"text-align: right;\">\n",
       "      <th></th>\n",
       "      <th>dtype</th>\n",
       "      <th>total</th>\n",
       "      <th>missing</th>\n",
       "      <th>missing%</th>\n",
       "      <th>n_uniques</th>\n",
       "      <th>uniques%</th>\n",
       "      <th>uniques</th>\n",
       "    </tr>\n",
       "  </thead>\n",
       "  <tbody>\n",
       "    <tr>\n",
       "      <th>Year</th>\n",
       "      <td>int64</td>\n",
       "      <td>1695041</td>\n",
       "      <td>0</td>\n",
       "      <td>0.00</td>\n",
       "      <td>12</td>\n",
       "      <td>0.00</td>\n",
       "      <td>[2014, 2015, 2016, 2017, 2018, 2019, 2020, 202...</td>\n",
       "    </tr>\n",
       "    <tr>\n",
       "      <th>Month</th>\n",
       "      <td>int64</td>\n",
       "      <td>1695041</td>\n",
       "      <td>0</td>\n",
       "      <td>0.00</td>\n",
       "      <td>12</td>\n",
       "      <td>0.00</td>\n",
       "      <td>[12, 1, 2, 3, 4, 5, 6, 7, 8, 9, 10, 11]</td>\n",
       "    </tr>\n",
       "    <tr>\n",
       "      <th>Day</th>\n",
       "      <td>int64</td>\n",
       "      <td>1695041</td>\n",
       "      <td>0</td>\n",
       "      <td>0.00</td>\n",
       "      <td>31</td>\n",
       "      <td>0.00</td>\n",
       "      <td>[29, 30, 31, 1, 2, 3, 4, 5, 6, 7, 8, 9, 10, 11...</td>\n",
       "    </tr>\n",
       "    <tr>\n",
       "      <th>Country</th>\n",
       "      <td>object</td>\n",
       "      <td>1695041</td>\n",
       "      <td>0</td>\n",
       "      <td>0.00</td>\n",
       "      <td>95</td>\n",
       "      <td>0.01</td>\n",
       "      <td>[AT, AU, BE, BO, BR, CA, CH, CL, CN, CO, CY, C...</td>\n",
       "    </tr>\n",
       "    <tr>\n",
       "      <th>City</th>\n",
       "      <td>object</td>\n",
       "      <td>1695041</td>\n",
       "      <td>0</td>\n",
       "      <td>0.00</td>\n",
       "      <td>616</td>\n",
       "      <td>0.04</td>\n",
       "      <td>[Graz, Innsbruck, Linz, Salzburg, Vienna, Bris...</td>\n",
       "    </tr>\n",
       "    <tr>\n",
       "      <th>Latitude</th>\n",
       "      <td>float64</td>\n",
       "      <td>1692212</td>\n",
       "      <td>2829</td>\n",
       "      <td>0.17</td>\n",
       "      <td>617</td>\n",
       "      <td>0.04</td>\n",
       "      <td>[47.06667, 47.26266, 48.30639, 47.79941, 48.20...</td>\n",
       "    </tr>\n",
       "    <tr>\n",
       "      <th>Longitude</th>\n",
       "      <td>float64</td>\n",
       "      <td>1692212</td>\n",
       "      <td>2829</td>\n",
       "      <td>0.17</td>\n",
       "      <td>616</td>\n",
       "      <td>0.04</td>\n",
       "      <td>[15.45, 11.39454, 14.28611, 13.04399, 16.37208...</td>\n",
       "    </tr>\n",
       "    <tr>\n",
       "      <th>Co</th>\n",
       "      <td>float64</td>\n",
       "      <td>1063073</td>\n",
       "      <td>631968</td>\n",
       "      <td>37.28</td>\n",
       "      <td>988</td>\n",
       "      <td>0.06</td>\n",
       "      <td>[0.1, 1.9, 2.1, nan, 2.3, 2.0, 3.4, 5.5, 3.8, ...</td>\n",
       "    </tr>\n",
       "    <tr>\n",
       "      <th>No2</th>\n",
       "      <td>float64</td>\n",
       "      <td>1408527</td>\n",
       "      <td>286514</td>\n",
       "      <td>16.90</td>\n",
       "      <td>1271</td>\n",
       "      <td>0.07</td>\n",
       "      <td>[9.0, 25.6, 14.2, 21.1, 4.6, 0.7, nan, 6.5, 4....</td>\n",
       "    </tr>\n",
       "    <tr>\n",
       "      <th>O3</th>\n",
       "      <td>float64</td>\n",
       "      <td>1320292</td>\n",
       "      <td>374749</td>\n",
       "      <td>22.11</td>\n",
       "      <td>1497</td>\n",
       "      <td>0.09</td>\n",
       "      <td>[nan, 3.7, 4.3, 12.8, 15.2, 21.0, 17.6, 6.1, 2...</td>\n",
       "    </tr>\n",
       "    <tr>\n",
       "      <th>Pm10</th>\n",
       "      <td>float64</td>\n",
       "      <td>1352934</td>\n",
       "      <td>342107</td>\n",
       "      <td>20.18</td>\n",
       "      <td>1165</td>\n",
       "      <td>0.07</td>\n",
       "      <td>[13.0, 25.0, 21.0, 20.0, 11.0, 9.0, 16.0, 14.0...</td>\n",
       "    </tr>\n",
       "    <tr>\n",
       "      <th>Pm25</th>\n",
       "      <td>float64</td>\n",
       "      <td>1432153</td>\n",
       "      <td>262888</td>\n",
       "      <td>15.51</td>\n",
       "      <td>1036</td>\n",
       "      <td>0.06</td>\n",
       "      <td>[nan, 74.0, 65.0, 20.0, 19.0, 13.0, 9.0, 27.0,...</td>\n",
       "    </tr>\n",
       "    <tr>\n",
       "      <th>So2</th>\n",
       "      <td>float64</td>\n",
       "      <td>1161908</td>\n",
       "      <td>533133</td>\n",
       "      <td>31.45</td>\n",
       "      <td>1170</td>\n",
       "      <td>0.07</td>\n",
       "      <td>[1.6, 2.1, 2.6, 1.1, nan, 4.3, 2.9, 5.8, 1.5, ...</td>\n",
       "    </tr>\n",
       "    <tr>\n",
       "      <th>Dew</th>\n",
       "      <td>float64</td>\n",
       "      <td>1000165</td>\n",
       "      <td>694876</td>\n",
       "      <td>40.99</td>\n",
       "      <td>661</td>\n",
       "      <td>0.04</td>\n",
       "      <td>[nan, 16.0, 14.0, 0.5, 2.5, 1.0, 11.0, 18.0, 2...</td>\n",
       "    </tr>\n",
       "    <tr>\n",
       "      <th>Humidity</th>\n",
       "      <td>float64</td>\n",
       "      <td>1306961</td>\n",
       "      <td>388080</td>\n",
       "      <td>22.90</td>\n",
       "      <td>1131</td>\n",
       "      <td>0.07</td>\n",
       "      <td>[nan, 0.0, 100.0, 99.0, 94.0, 84.0, 82.0, 66.0...</td>\n",
       "    </tr>\n",
       "    <tr>\n",
       "      <th>Tavg</th>\n",
       "      <td>float64</td>\n",
       "      <td>1400959</td>\n",
       "      <td>294082</td>\n",
       "      <td>17.35</td>\n",
       "      <td>788</td>\n",
       "      <td>0.05</td>\n",
       "      <td>[nan, -4.0, 25.4, 2.8, 2.2, 1.3, 2.6, 20.9, -2...</td>\n",
       "    </tr>\n",
       "    <tr>\n",
       "      <th>Tmin</th>\n",
       "      <td>float64</td>\n",
       "      <td>1376504</td>\n",
       "      <td>318537</td>\n",
       "      <td>18.79</td>\n",
       "      <td>774</td>\n",
       "      <td>0.05</td>\n",
       "      <td>[nan, -6.4, 15.1, 25.2, 23.7, 13.6, 12.8, 11.2...</td>\n",
       "    </tr>\n",
       "    <tr>\n",
       "      <th>Tmax</th>\n",
       "      <td>float64</td>\n",
       "      <td>1374164</td>\n",
       "      <td>320877</td>\n",
       "      <td>18.93</td>\n",
       "      <td>821</td>\n",
       "      <td>0.05</td>\n",
       "      <td>[nan, 0.4, 37.0, 31.3, 26.9, 22.4, 24.6, 27.9,...</td>\n",
       "    </tr>\n",
       "    <tr>\n",
       "      <th>Prcp</th>\n",
       "      <td>float64</td>\n",
       "      <td>1038543</td>\n",
       "      <td>656498</td>\n",
       "      <td>38.73</td>\n",
       "      <td>1379</td>\n",
       "      <td>0.08</td>\n",
       "      <td>[nan, 0.0, 12.2, 129.4, 6.6, 0.5, 2.8, 3.9, 4....</td>\n",
       "    </tr>\n",
       "    <tr>\n",
       "      <th>Wdir</th>\n",
       "      <td>float64</td>\n",
       "      <td>1169606</td>\n",
       "      <td>525435</td>\n",
       "      <td>31.00</td>\n",
       "      <td>361</td>\n",
       "      <td>0.02</td>\n",
       "      <td>[nan, 18.0, 209.0, 210.0, 205.0, 188.0, 316.0,...</td>\n",
       "    </tr>\n",
       "    <tr>\n",
       "      <th>Wspd</th>\n",
       "      <td>float64</td>\n",
       "      <td>1239023</td>\n",
       "      <td>456018</td>\n",
       "      <td>26.90</td>\n",
       "      <td>654</td>\n",
       "      <td>0.04</td>\n",
       "      <td>[nan, 3.5, 11.5, 17.4, 17.7, 19.5, 18.6, 19.1,...</td>\n",
       "    </tr>\n",
       "    <tr>\n",
       "      <th>Pres</th>\n",
       "      <td>float64</td>\n",
       "      <td>1202982</td>\n",
       "      <td>492059</td>\n",
       "      <td>29.03</td>\n",
       "      <td>914</td>\n",
       "      <td>0.05</td>\n",
       "      <td>[nan, 1033.4, 1034.2, 1035.3, 1034.0, 1016.0, ...</td>\n",
       "    </tr>\n",
       "  </tbody>\n",
       "</table>\n",
       "</div>"
      ],
      "text/plain": [
       "             dtype    total  missing  missing%  n_uniques  uniques%  \\\n",
       "Year         int64  1695041        0      0.00         12      0.00   \n",
       "Month        int64  1695041        0      0.00         12      0.00   \n",
       "Day          int64  1695041        0      0.00         31      0.00   \n",
       "Country     object  1695041        0      0.00         95      0.01   \n",
       "City        object  1695041        0      0.00        616      0.04   \n",
       "Latitude   float64  1692212     2829      0.17        617      0.04   \n",
       "Longitude  float64  1692212     2829      0.17        616      0.04   \n",
       "Co         float64  1063073   631968     37.28        988      0.06   \n",
       "No2        float64  1408527   286514     16.90       1271      0.07   \n",
       "O3         float64  1320292   374749     22.11       1497      0.09   \n",
       "Pm10       float64  1352934   342107     20.18       1165      0.07   \n",
       "Pm25       float64  1432153   262888     15.51       1036      0.06   \n",
       "So2        float64  1161908   533133     31.45       1170      0.07   \n",
       "Dew        float64  1000165   694876     40.99        661      0.04   \n",
       "Humidity   float64  1306961   388080     22.90       1131      0.07   \n",
       "Tavg       float64  1400959   294082     17.35        788      0.05   \n",
       "Tmin       float64  1376504   318537     18.79        774      0.05   \n",
       "Tmax       float64  1374164   320877     18.93        821      0.05   \n",
       "Prcp       float64  1038543   656498     38.73       1379      0.08   \n",
       "Wdir       float64  1169606   525435     31.00        361      0.02   \n",
       "Wspd       float64  1239023   456018     26.90        654      0.04   \n",
       "Pres       float64  1202982   492059     29.03        914      0.05   \n",
       "\n",
       "                                                     uniques  \n",
       "Year       [2014, 2015, 2016, 2017, 2018, 2019, 2020, 202...  \n",
       "Month                [12, 1, 2, 3, 4, 5, 6, 7, 8, 9, 10, 11]  \n",
       "Day        [29, 30, 31, 1, 2, 3, 4, 5, 6, 7, 8, 9, 10, 11...  \n",
       "Country    [AT, AU, BE, BO, BR, CA, CH, CL, CN, CO, CY, C...  \n",
       "City       [Graz, Innsbruck, Linz, Salzburg, Vienna, Bris...  \n",
       "Latitude   [47.06667, 47.26266, 48.30639, 47.79941, 48.20...  \n",
       "Longitude  [15.45, 11.39454, 14.28611, 13.04399, 16.37208...  \n",
       "Co         [0.1, 1.9, 2.1, nan, 2.3, 2.0, 3.4, 5.5, 3.8, ...  \n",
       "No2        [9.0, 25.6, 14.2, 21.1, 4.6, 0.7, nan, 6.5, 4....  \n",
       "O3         [nan, 3.7, 4.3, 12.8, 15.2, 21.0, 17.6, 6.1, 2...  \n",
       "Pm10       [13.0, 25.0, 21.0, 20.0, 11.0, 9.0, 16.0, 14.0...  \n",
       "Pm25       [nan, 74.0, 65.0, 20.0, 19.0, 13.0, 9.0, 27.0,...  \n",
       "So2        [1.6, 2.1, 2.6, 1.1, nan, 4.3, 2.9, 5.8, 1.5, ...  \n",
       "Dew        [nan, 16.0, 14.0, 0.5, 2.5, 1.0, 11.0, 18.0, 2...  \n",
       "Humidity   [nan, 0.0, 100.0, 99.0, 94.0, 84.0, 82.0, 66.0...  \n",
       "Tavg       [nan, -4.0, 25.4, 2.8, 2.2, 1.3, 2.6, 20.9, -2...  \n",
       "Tmin       [nan, -6.4, 15.1, 25.2, 23.7, 13.6, 12.8, 11.2...  \n",
       "Tmax       [nan, 0.4, 37.0, 31.3, 26.9, 22.4, 24.6, 27.9,...  \n",
       "Prcp       [nan, 0.0, 12.2, 129.4, 6.6, 0.5, 2.8, 3.9, 4....  \n",
       "Wdir       [nan, 18.0, 209.0, 210.0, 205.0, 188.0, 316.0,...  \n",
       "Wspd       [nan, 3.5, 11.5, 17.4, 17.7, 19.5, 18.6, 19.1,...  \n",
       "Pres       [nan, 1033.4, 1034.2, 1035.3, 1034.0, 1016.0, ...  "
      ]
     },
     "metadata": {},
     "output_type": "display_data"
    }
   ],
   "source": [
    "overview(df)"
   ]
  },
  {
   "cell_type": "markdown",
   "metadata": {},
   "source": [
    "TD: Beschreiben, was wir an der neuen, geputzen overview-Funktion sehen:\n",
    "Datensatz nicht wesentlich verändert, keine neuen Spalten mit über 50% fehlenden werten erzeigt\n",
    "Datensatz dadurch besser geeignet für bestimmte Analysen, die sensibel auf Ausreißer reagieren, wie z:B. Clusteranalyse"
   ]
  },
  {
   "cell_type": "markdown",
   "metadata": {},
   "source": [
    "# Analyse und Bereinigung der Wettervariablen\n",
    "Analog zum Vorgehen bei den Schadstoffen werden im Folgenden alle Wettervariablen untersucht und ggf. Platzhalterwerte und starke Ausreißer durch NaN ersetzt.\n",
    "\n",
    "Anmerkung: Man KÖNNTE auch nur die Platzhalterwerte durch NaN ersetzten und die Ausreißer gesondert kennzeichen. Aber darauf wird jetzt erst einmal verzichtet.\n",
    "\n",
    "Die Wettervariablen werden in einer Schleife am Stück abgehandelt. Da das Setzen der Grenzwerte und das Entfernen vn Ausreißern für jede Variable individuell entscheiden werden sollte, um möglichst alle realistischen Werte zu erhalten, wir dieser Schritt nachgelagert."
   ]
  },
  {
   "cell_type": "code",
   "execution_count": 42,
   "metadata": {},
   "outputs": [
    {
     "data": {
      "text/html": [
       "<div>\n",
       "<style scoped>\n",
       "    .dataframe tbody tr th:only-of-type {\n",
       "        vertical-align: middle;\n",
       "    }\n",
       "\n",
       "    .dataframe tbody tr th {\n",
       "        vertical-align: top;\n",
       "    }\n",
       "\n",
       "    .dataframe thead th {\n",
       "        text-align: right;\n",
       "    }\n",
       "</style>\n",
       "<table border=\"1\" class=\"dataframe\">\n",
       "  <thead>\n",
       "    <tr style=\"text-align: right;\">\n",
       "      <th></th>\n",
       "      <th>Tavg</th>\n",
       "      <th>Tmin</th>\n",
       "      <th>Tmax</th>\n",
       "      <th>Humidity</th>\n",
       "      <th>Wspd</th>\n",
       "      <th>Wdir</th>\n",
       "      <th>Pres</th>\n",
       "      <th>Prcp</th>\n",
       "      <th>Dew</th>\n",
       "    </tr>\n",
       "  </thead>\n",
       "  <tbody>\n",
       "    <tr>\n",
       "      <th>count</th>\n",
       "      <td>1,400,959.00</td>\n",
       "      <td>1,376,504.00</td>\n",
       "      <td>1,374,164.00</td>\n",
       "      <td>1,306,961.00</td>\n",
       "      <td>1,239,023.00</td>\n",
       "      <td>1,169,606.00</td>\n",
       "      <td>1,202,982.00</td>\n",
       "      <td>1,038,543.00</td>\n",
       "      <td>1,000,165.00</td>\n",
       "    </tr>\n",
       "    <tr>\n",
       "      <th>mean</th>\n",
       "      <td>15.38</td>\n",
       "      <td>10.82</td>\n",
       "      <td>20.38</td>\n",
       "      <td>68.66</td>\n",
       "      <td>11.34</td>\n",
       "      <td>183.52</td>\n",
       "      <td>1,015.15</td>\n",
       "      <td>2.98</td>\n",
       "      <td>9.69</td>\n",
       "    </tr>\n",
       "    <tr>\n",
       "      <th>std</th>\n",
       "      <td>9.54</td>\n",
       "      <td>9.38</td>\n",
       "      <td>10.21</td>\n",
       "      <td>23.91</td>\n",
       "      <td>6.24</td>\n",
       "      <td>106.93</td>\n",
       "      <td>8.12</td>\n",
       "      <td>8.99</td>\n",
       "      <td>9.59</td>\n",
       "    </tr>\n",
       "    <tr>\n",
       "      <th>min</th>\n",
       "      <td>-41.00</td>\n",
       "      <td>-46.00</td>\n",
       "      <td>-37.20</td>\n",
       "      <td>-2,671.10</td>\n",
       "      <td>0.00</td>\n",
       "      <td>0.00</td>\n",
       "      <td>925.20</td>\n",
       "      <td>0.00</td>\n",
       "      <td>-64.30</td>\n",
       "    </tr>\n",
       "    <tr>\n",
       "      <th>25%</th>\n",
       "      <td>8.70</td>\n",
       "      <td>4.30</td>\n",
       "      <td>13.10</td>\n",
       "      <td>58.30</td>\n",
       "      <td>7.00</td>\n",
       "      <td>86.00</td>\n",
       "      <td>1,010.00</td>\n",
       "      <td>0.00</td>\n",
       "      <td>3.00</td>\n",
       "    </tr>\n",
       "    <tr>\n",
       "      <th>50%</th>\n",
       "      <td>15.90</td>\n",
       "      <td>11.00</td>\n",
       "      <td>21.10</td>\n",
       "      <td>72.80</td>\n",
       "      <td>10.00</td>\n",
       "      <td>194.00</td>\n",
       "      <td>1,015.00</td>\n",
       "      <td>0.00</td>\n",
       "      <td>10.00</td>\n",
       "    </tr>\n",
       "    <tr>\n",
       "      <th>75%</th>\n",
       "      <td>22.70</td>\n",
       "      <td>17.70</td>\n",
       "      <td>28.30</td>\n",
       "      <td>83.00</td>\n",
       "      <td>14.20</td>\n",
       "      <td>274.00</td>\n",
       "      <td>1,020.30</td>\n",
       "      <td>1.70</td>\n",
       "      <td>16.60</td>\n",
       "    </tr>\n",
       "    <tr>\n",
       "      <th>max</th>\n",
       "      <td>44.80</td>\n",
       "      <td>39.00</td>\n",
       "      <td>87.00</td>\n",
       "      <td>999.90</td>\n",
       "      <td>176.30</td>\n",
       "      <td>360.00</td>\n",
       "      <td>1,392.10</td>\n",
       "      <td>462.00</td>\n",
       "      <td>32.00</td>\n",
       "    </tr>\n",
       "  </tbody>\n",
       "</table>\n",
       "</div>"
      ],
      "text/plain": [
       "              Tavg         Tmin         Tmax     Humidity         Wspd  \\\n",
       "count 1,400,959.00 1,376,504.00 1,374,164.00 1,306,961.00 1,239,023.00   \n",
       "mean         15.38        10.82        20.38        68.66        11.34   \n",
       "std           9.54         9.38        10.21        23.91         6.24   \n",
       "min         -41.00       -46.00       -37.20    -2,671.10         0.00   \n",
       "25%           8.70         4.30        13.10        58.30         7.00   \n",
       "50%          15.90        11.00        21.10        72.80        10.00   \n",
       "75%          22.70        17.70        28.30        83.00        14.20   \n",
       "max          44.80        39.00        87.00       999.90       176.30   \n",
       "\n",
       "              Wdir         Pres         Prcp          Dew  \n",
       "count 1,169,606.00 1,202,982.00 1,038,543.00 1,000,165.00  \n",
       "mean        183.52     1,015.15         2.98         9.69  \n",
       "std         106.93         8.12         8.99         9.59  \n",
       "min           0.00       925.20         0.00       -64.30  \n",
       "25%          86.00     1,010.00         0.00         3.00  \n",
       "50%         194.00     1,015.00         0.00        10.00  \n",
       "75%         274.00     1,020.30         1.70        16.60  \n",
       "max         360.00     1,392.10       462.00        32.00  "
      ]
     },
     "execution_count": 42,
     "metadata": {},
     "output_type": "execute_result"
    }
   ],
   "source": [
    "df[[\"Tavg\", \"Tmin\", \"Tmax\", \"Humidity\", \"Wspd\", \"Wdir\", \"Pres\", \"Prcp\", \"Dew\"]].describe()\n"
   ]
  },
  {
   "cell_type": "markdown",
   "metadata": {},
   "source": [
    "## Auswertung von describe()\n",
    "\n",
    "| Spalte | Bedingung für NaN                     | Begründung |\n",
    "|:-------|:--------------------------------------|:-----------|\n",
    "|Tavg    |                                       |                              |\n",
    "|Tmin    |                                       |                          |\n",
    "|Tmax\t |Tmax > 60\t                             |weit über weltweit beobachtete Temperaturen|\n",
    "|Humidity|Humidity < 0 oder > 100                |physikalisch unmöglich / Platzhalter |\n",
    "|Wspd\t |erst visuell prüfen, dann ggf. > 150   |Hurrikan-Grenze |\n",
    "|Wdir    |<0 oder >360                           |Windrichtung wird in Winkelgrad gemessen |\n",
    "|Pres\t |Pres > 1100\t                         |ungewöhnlich hoch → Messfehler möglich |\n",
    "|Prcp\t |nicht filtern, sondern visuell prüfen  |rechtsschiefe, aber plausible Naturverteilung\n",
    "|Dew\t |ggf. ab –70 prüfen                     |tendenziell realistisch, vorsichtiger Umgang\n",
    "\n",
    "\n",
    "TD: Eine analoge Tabelle auch für die Schadstoffe anlegen (MK)"
   ]
  },
  {
   "cell_type": "markdown",
   "metadata": {},
   "source": [
    "# Schleife für Wettervariablen"
   ]
  },
  {
   "cell_type": "code",
   "execution_count": 43,
   "metadata": {},
   "outputs": [
    {
     "name": "stdout",
     "output_type": "stream",
     "text": [
      "\n",
      "📊 Analyse für: Tavg\n"
     ]
    },
    {
     "data": {
      "image/png": "[encoded data removed]",
      "text/plain": [
       "<Figure size 1000x200 with 1 Axes>"
      ]
     },
     "metadata": {},
     "output_type": "display_data"
    },
    {
     "name": "stdout",
     "output_type": "stream",
     "text": [
      "Mean:   15.38\n",
      "Median: 15.90\n",
      "Skew:   -0.38\n",
      "Min:    -41.00\n",
      "Max:    44.80\n",
      "99.9%-Quantil (suggestion only!): 38.30\n",
      "\n",
      "📊 Analyse für: Tmin\n"
     ]
    },
    {
     "data": {
      "image/png": "[encoded data removed]",
      "text/plain": [
       "<Figure size 1000x200 with 1 Axes>"
      ]
     },
     "metadata": {},
     "output_type": "display_data"
    },
    {
     "name": "stdout",
     "output_type": "stream",
     "text": [
      "Mean:   10.82\n",
      "Median: 11.00\n",
      "Skew:   -0.32\n",
      "Min:    -46.00\n",
      "Max:    39.00\n",
      "99.9%-Quantil (suggestion only!): 32.40\n",
      "\n",
      "📊 Analyse für: Tmax\n"
     ]
    },
    {
     "data": {
      "image/png": "[encoded data removed]",
      "text/plain": [
       "<Figure size 1000x200 with 1 Axes>"
      ]
     },
     "metadata": {},
     "output_type": "display_data"
    },
    {
     "name": "stdout",
     "output_type": "stream",
     "text": [
      "Mean:   20.38\n",
      "Median: 21.10\n",
      "Skew:   -0.37\n",
      "Min:    -37.20\n",
      "Max:    87.00\n",
      "99.9%-Quantil (suggestion only!): 45.90\n",
      "\n",
      "📊 Analyse für: Humidity\n"
     ]
    },
    {
     "data": {
      "image/png": "[encoded data removed]",
      "text/plain": [
       "<Figure size 1000x200 with 1 Axes>"
      ]
     },
     "metadata": {},
     "output_type": "display_data"
    },
    {
     "name": "stdout",
     "output_type": "stream",
     "text": [
      "Mean:   68.66\n",
      "Median: 72.80\n",
      "Skew:   -27.84\n",
      "Min:    -2671.10\n",
      "Max:    999.90\n",
      "99.9%-Quantil (suggestion only!): 100.00\n",
      "\n",
      "📊 Analyse für: Wspd\n"
     ]
    },
    {
     "data": {
      "image/png": "[encoded data removed]",
      "text/plain": [
       "<Figure size 1000x200 with 1 Axes>"
      ]
     },
     "metadata": {},
     "output_type": "display_data"
    },
    {
     "name": "stdout",
     "output_type": "stream",
     "text": [
      "Mean:   11.34\n",
      "Median: 10.00\n",
      "Skew:   1.51\n",
      "Min:    0.00\n",
      "Max:    176.30\n",
      "99.9%-Quantil (suggestion only!): 44.70\n",
      "\n",
      "📊 Analyse für: Wdir\n"
     ]
    },
    {
     "data": {
      "image/png": "[encoded data removed]",
      "text/plain": [
       "<Figure size 1000x200 with 1 Axes>"
      ]
     },
     "metadata": {},
     "output_type": "display_data"
    },
    {
     "name": "stdout",
     "output_type": "stream",
     "text": [
      "Mean:   183.52\n",
      "Median: 194.00\n",
      "Skew:   -0.11\n",
      "Min:    0.00\n",
      "Max:    360.00\n",
      "99.9%-Quantil (suggestion only!): 359.00\n",
      "\n",
      "📊 Analyse für: Pres\n"
     ]
    },
    {
     "data": {
      "image/png": "[encoded data removed]",
      "text/plain": [
       "<Figure size 1000x200 with 1 Axes>"
      ]
     },
     "metadata": {},
     "output_type": "display_data"
    },
    {
     "name": "stdout",
     "output_type": "stream",
     "text": [
      "Mean:   1015.15\n",
      "Median: 1015.00\n",
      "Skew:   -0.04\n",
      "Min:    925.20\n",
      "Max:    1392.10\n",
      "99.9%-Quantil (suggestion only!): 1041.70\n",
      "\n",
      "📊 Analyse für: Prcp\n"
     ]
    },
    {
     "data": {
      "image/png": "[encoded data removed]",
      "text/plain": [
       "<Figure size 1000x200 with 1 Axes>"
      ]
     },
     "metadata": {},
     "output_type": "display_data"
    },
    {
     "name": "stdout",
     "output_type": "stream",
     "text": [
      "Mean:   2.98\n",
      "Median: 0.00\n",
      "Skew:   8.21\n",
      "Min:    0.00\n",
      "Max:    462.00\n",
      "99.9%-Quantil (suggestion only!): 101.10\n",
      "\n",
      "📊 Analyse für: Dew\n"
     ]
    },
    {
     "data": {
      "image/png": "[encoded data removed]",
      "text/plain": [
       "<Figure size 1000x200 with 1 Axes>"
      ]
     },
     "metadata": {},
     "output_type": "display_data"
    },
    {
     "name": "stdout",
     "output_type": "stream",
     "text": [
      "Mean:   9.69\n",
      "Median: 10.00\n",
      "Skew:   -0.37\n",
      "Min:    -64.30\n",
      "Max:    32.00\n",
      "99.9%-Quantil (suggestion only!): 28.00\n"
     ]
    }
   ],
   "source": [
    "weather_columns = [\"Tavg\", \"Tmin\", \"Tmax\", \"Humidity\", \"Wspd\", \"Wdir\", \"Pres\", \"Prcp\", \"Dew\"]\n",
    "\n",
    "for col in weather_columns:\n",
    "    print(f\"\\n📊 Analyse für: {col}\")\n",
    "    \n",
    "    # Stripplot\n",
    "    plt.figure(figsize=(10, 2))\n",
    "    sns.stripplot(x=df[col], size=2, jitter=0.3)\n",
    "    plt.title(f\"{col} – Einzelwerte\")\n",
    "    plt.grid(True)\n",
    "    plt.xlabel(f\"{col}-Wert\")\n",
    "    plt.show()\n",
    "    \n",
    "    # Statistische Kennzahlen\n",
    "    mean_val = df[col].mean()\n",
    "    median_val = df[col].median()\n",
    "    skew_val = df[col].skew()\n",
    "    min_val = df[col].min()\n",
    "    max_val = df[col].max()\n",
    "    \n",
    "    print(f\"Mean:   {mean_val:.2f}\")\n",
    "    print(f\"Median: {median_val:.2f}\")\n",
    "    print(f\"Skew:   {skew_val:.2f}\")\n",
    "    print(f\"Min:    {min_val:.2f}\")\n",
    "    print(f\"Max:    {max_val:.2f}\")\n",
    "    \n",
    "    # Cutoff-Vorschlag (nur zur Orientierung)\n",
    "    cutoff = df[col].quantile(0.999)\n",
    "    print(f\"99.9%-Quantil (suggestion only!): {cutoff:.2f}\")\n"
   ]
  },
  {
   "cell_type": "markdown",
   "metadata": {},
   "source": [
    "### Cutoffbestimmung und Ausreißerentfernung für Wettervariablen\n",
    "\n",
    "Für Variablen, bei denen der Stripplot keine eindeutige Auskunft gibt, wird der Cutoff-Wert durch einen Blick auf die betreffenden Messwerte bestimmt:"
   ]
  },
  {
   "cell_type": "code",
   "execution_count": 44,
   "metadata": {},
   "outputs": [
    {
     "data": {
      "text/plain": [
       "Tmax\n",
       "87.00    1\n",
       "76.00    1\n",
       "60.00    1\n",
       "57.00    1\n",
       "56.00    1\n",
       "52.20    1\n",
       "52.10    2\n",
       "52.00    3\n",
       "51.70    1\n",
       "51.50    2\n",
       "Name: count, dtype: int64"
      ]
     },
     "execution_count": 44,
     "metadata": {},
     "output_type": "execute_result"
    }
   ],
   "source": [
    "# Cutoff für Tmax genauer bestimmen; oberste 10 Messwerte anschauen:\n",
    "df[\"Tmax\"].value_counts().sort_index(ascending=False).head(10)\n",
    "\n",
    "# --> Cutoff bei 60 Grad"
   ]
  },
  {
   "cell_type": "code",
   "execution_count": 45,
   "metadata": {},
   "outputs": [
    {
     "data": {
      "text/plain": [
       "Dew\n",
       "True     642772\n",
       "False    357393\n",
       "Name: count, dtype: int64"
      ]
     },
     "execution_count": 45,
     "metadata": {},
     "output_type": "execute_result"
    }
   ],
   "source": [
    "df[\"Dew\"].dropna().apply(lambda x: x.is_integer()).value_counts()"
   ]
  },
  {
   "cell_type": "code",
   "execution_count": null,
   "metadata": {},
   "outputs": [],
   "source": [
    "# Tmax: realistische Obergrenze bei 60°C\n",
    "df.loc[df[\"Tmax\"] > 60, \"Tmax\"] = np.nan\n",
    "\n",
    "# Humidity: alles < 0 oder > 100 ist physikalisch nicht (bzw. über 100% nur SEHR kurzzeitig) möglich\n",
    "df.loc[(df[\"Humidity\"] < 0) | (df[\"Humidity\"] > 100), \"Humidity\"] = np.nan\n",
    "\n",
    "# Wspd: Werte > 150 km/h (Orkangrenze) sind extrem selten\n",
    "df.loc[df[\"Wspd\"] > 150, \"Wspd\"] = np.nan\n",
    "\n",
    "# Pres: zwei Ausreißer über 1100 hPa → eher technisches Problem\n",
    "df.loc[df[\"Pres\"] > 1100, \"Pres\"] = np.nan\n",
    "\n",
    "# Prcp: 2 extreme Ausreißer, im prinzip möglich, aber für Modelle ungünstig und für den Gesamtdatensatz nicht repräsentativ\n",
    "df.loc[df[\"Prcp\"] > 400, \"Prcp\"] = np.nan\n",
    "\n",
    "# Dew: Werte von -40 bis 32 sind zu erwarten, und so werden nur wenige Extremwerte entfernt\n",
    "df.loc[(df[\"Dew\"] < -40) | (df[\"Dew\"] > 32), \"Dew\"] = np.nan"
   ]
  },
  {
   "cell_type": "markdown",
   "metadata": {},
   "source": [
    "## Ausführliche Beschreibung der Wettervariablen (sinnvoll?)\n",
    "\n",
    "🌡️ Tavg – Durchschnittstemperatur\n",
    "\n",
    "Die Variable Tavg beschreibt die durchschnittliche tägliche Temperatur. Die Verteilung ist leicht linksschief mit einem Skewness-Wert von –0.38. Der Mittelwert beträgt 15.38 °C, der Median liegt bei 15.90 °C, was auf eine weitgehend symmetrische Verteilung mit leichtem Übergewicht kälterer Temperaturen hinweist.\n",
    "\n",
    "Ein Blick auf den Stripplot zeigt, dass sich alle Werte im realistisch meteorologischen Bereich befinden:\n",
    "\n",
    "- Das Minimum liegt bei ca. –42 °C, was in sehr kalten Regionen (z. B. in Sibirien oder Teilen Kanadas) durchaus auftreten kann.\n",
    "- Das Maximum liegt bei ca. 50 °C, was mit bekannten Hitzerekorden weltweit vereinbar ist.\n",
    "\n",
    "Das 99.9%-Quantil liegt bei 38.30 °C. Dennoch wurde bewusst kein Grenzwert (Cutoff) gesetzt, da keine eindeutig unrealistischen Ausreißer erkennbar sind.\n",
    "\n",
    "→ Es wurden keine Werte entfernt oder als Ausreißer markiert.\n",
    "\n",
    "---\n",
    "\n",
    "🌡️ Tmin – Tagestiefsttemperatur\n",
    "\n",
    "Die Variable Tmin beschreibt die tägliche Tiefsttemperatur. Die Verteilung zeigt mit einer Schiefe von –0.32 eine leichte Linksschiefe, was auf ein geringfügiges Übergewicht sehr kalter Tage hinweist.\n",
    "Der Mittelwert beträgt 10.82 °C, der Median 11.00 °C, was auf eine insgesamt symmetrische Verteilung ohne nennenswerte Verzerrungen schließen lässt.\n",
    "\n",
    "Der Stripplot zeigt eine natürliche, kontinuierliche Verteilung der Messwerte.\n",
    "\n",
    "- Das Minimum liegt bei –46 °C, was in kalten Klimazonen realistisch ist.\n",
    "- Das Maximum bei 39 °C ist ungewöhnlich hoch für eine Tiefsttemperatur, aber unter besonderen Bedingungen (z. B. Hitzewellen) möglich.\n",
    "- Das 99.9%-Quantil liegt bei 32.4 °C, wodurch nur sehr wenige extrem hohe Werte überhaupt betroffen wären.\n",
    "\n",
    "Insgesamt zeigen sich keine auffälligen Ausreißer oder technische Artefakte.\n",
    "\n",
    "→ Es wurden keine Werte entfernt oder ersetzt.\n",
    "\n",
    "---\n",
    "\n",
    "🌡️ Tmax – Tageshöchsttemperatur\n",
    "\n",
    "Die Variable Tmax beschreibt die tägliche Höchsttemperatur.\n",
    "Die Verteilung ist mit einem Skewness-Wert von –0.37 leicht linksschief.\n",
    "Der Mittelwert beträgt 20.38 °C, der Median liegt bei 21.10 °C – die Verteilung ist insgesamt gut balanciert.\n",
    "\n",
    "Der Stripplot zeigt einen realistischen Verlauf im Bereich zwischen ca. –37 °C und 50 °C, wobei sich oberhalb von 50 °C vereinzelte Werte häufen. Eine genauere Prüfung der 20 höchsten Werte ergab jedoch drei offensichtliche Ausreißer:\n",
    "→ 60 °C, 76 °C und 87 °C – allesamt deutlich über bekannten meteorologischen Rekorden.\n",
    "\n",
    "Als Grenzwert wurde daher ein Cutoff bei 60 °C gesetzt.\n",
    "\n",
    "→ Drei Werte oberhalb dieses Grenzwerts wurden durch NaN ersetzt.\n",
    "\n",
    "---\n",
    "\n",
    "💧 Humidity – Relative Luftfeuchtigkeit\n",
    "\n",
    "Die Variable Humidity beschreibt die relative Luftfeuchtigkeit in Prozent.\n",
    "Die Verteilung ist extrem linksschief mit einer Skewness von –27.84, was auf starke Ausreißer im negativen und sehr hohen Bereich hindeutet.\n",
    "\n",
    "Die realistischen Messwerte liegen zwischen 0 % und 100 %.\n",
    "Der Stripplot zeigt jedoch vereinzelte, stark auffällige Werte:\n",
    "\n",
    "- Das Minimum beträgt –2671.1 %, was physikalisch unmöglich ist\n",
    "- Das Maximum liegt bei 999.9 %, höchstwahrscheinlich ein Platzhalterwert\n",
    "\n",
    "→ Es wurde daher ein Grenzbereich von 0 % bis 100 % definiert.\n",
    "Alle Werte außerhalb dieses Intervalls wurden durch NaN ersetzt.\n",
    "\n",
    "---\n",
    "\n",
    "💨 Wspd – Windgeschwindigkeit\n",
    "\n",
    "Die Variable Wspd beschreibt die tägliche durchschnittliche Windgeschwindigkeit in km/h.\n",
    "Die Verteilung zeigt eine leichte Rechtsschiefe mit einem Skewness-Wert von 1.51.\n",
    "Der Mittelwert liegt bei 11.34 km/h, der Median bei 10.00 km/h, was auf einen leicht asymmetrischen, aber plausiblen Verlauf hindeutet.\n",
    "\n",
    "Der Stripplot zeigt, dass die meisten Messwerte zwischen 0 und 45 km/h liegen, mit ausdünnender Streuung nach oben – was meteorologisch zu erwarten ist.\n",
    "Drei auffällige Extremwerte oberhalb von 150 km/h wurden identifiziert, der Maximalwert liegt bei 176.3 km/h. Solche Werte sind theoretisch möglich (z. B. bei Orkanen), aber im Kontext dieser Analyse nicht repräsentativ.\n",
    "\n",
    "→ Es wurde ein Cutoff bei 150 km/h gesetzt.\n",
    "Drei Werte oberhalb dieses Grenzwerts wurden durch NaN ersetzt.\n",
    "\n",
    "---\n",
    "\n",
    "🌬️ Pres – Luftdruck\n",
    "\n",
    "Die Variable Pres beschreibt den täglichen Luftdruck in hPa. Die Verteilung ist mit einer Skewness von –0.04 nahezu symmetrisch, was auf eine ausgewogene, realistische Verteilung hinweist.\n",
    "Der Mittelwert liegt bei 1015.15 hPa, was nahe am physikalischen Normaldruck (1013 hPa) liegt.\n",
    "\n",
    "Ein Blick auf die Extremwerte zeigt:\n",
    "\n",
    "- Minimum: 925.2 hPa – plausibel, z. B. bei Tiefdrucklagen\n",
    "- Maximum: 1392.1 hPa – stark unrealistisch, deutlich über bekannten Rekorden\n",
    "\n",
    "→ Es wurde ein Cutoff bei 1100 hPa gesetzt.\n",
    "Zwei klare Ausreißer oberhalb dieses Grenzwerts wurden durch NaN ersetzt.\n",
    "\n",
    "---\n",
    "\n",
    "🌧️ Prcp – Niederschlag\n",
    "\n",
    "Die Variable Prcp beschreibt die tägliche Niederschlagsmenge in mm. Die Verteilung ist mit einer Skewness von 8.21 stark rechtsschief:\n",
    "\n",
    "- An über der Hälfte aller Tage wurde kein Niederschlag gemessen (Median: 0.0 mm).\n",
    "- Einzelne Starkregenereignisse führen zu hohen Maximalwerten (bis zu 462 mm), die jedoch extrem selten sind.\n",
    "\n",
    "→ Zur Vermeidung einer übermäßigen Verzerrung der Analyse wurde ein Cutoff bei 400 mm gesetzt.\n",
    "Zwei ungewöhnlich hohe Werte oberhalb dieses Grenzwerts wurden durch NaN ersetzt.\n",
    "\n",
    "---\n",
    "\n",
    "💧 Dew – Taupunkt\n",
    "\n",
    "Die Variable Dew beschreibt den täglichen Taupunkt in °C – also die Temperatur, bei der die Luft mit Wasserdampf gesättigt ist.\n",
    "Die Werte zeigen eine leicht linksschiefe Verteilung mit einer Skewness von –0.37.\n",
    "Mittelwert und Median liegen nahe beieinander (9.69 °C bzw. 10.00 °C), was auf eine insgesamt ausgewogene Verteilung hindeutet.\n",
    "\n",
    "Der Stripplot vermittelt einen „gestückelten“ Eindruck, da etwa zwei Drittel der Werte ganzzahlig sind – vermutlich durch vorverarbeitete oder gerundete Messdaten. Ein gutes Drittel liegt jedoch im nicht-ganzzahligen Bereich, was unterschiedliche Genauigkeitsstufen in den Datenquellen vermuten lässt.\n",
    "\n",
    "Zur Erkennung potenzieller Ausreißer wurden die physikalisch plausiblen Grenzwerte des Taupunkts berücksichtigt:\n",
    "\n",
    "- Oberhalb von 32 °C (tropisch-feucht) und\n",
    "- Unterhalb von –40 °C (polar-trocken) sind reale Messwerte zwar nicht unmöglich, aber extrem selten.\n",
    "\n",
    "→ Es wurde ein Cutoff bei –40 °C und +32 °C gesetzt. Werte außerhalb dieses Bereichs wurden durch NaN ersetzt.\n"
   ]
  },
  {
   "cell_type": "markdown",
   "metadata": {},
   "source": [
    "# Welche Features könnten zusammenhängen (Kollinearität)?"
   ]
  },
  {
   "cell_type": "code",
   "execution_count": null,
   "metadata": {},
   "outputs": [],
   "source": [
    "# Collinearity of features? (heatmap)\n",
    "\n",
    "# > 0.8 = strong correlation\n",
    "# 0.5 - 0.8 = moderate correlation\n",
    "# < 0.5 = weak correlation\n",
    "\n",
    "# calculate correlation matrix (Pearson)\n",
    "corr_matrix = df.select_dtypes(include=['number']).corr()\n",
    "\n",
    "# Display heatmap\n",
    "plt.figure(figsize=(12, 8))\n",
    "sns.heatmap(corr_matrix, annot=True, fmt=\".2f\", cmap=\"coolwarm\", center=0, linewidths=0.5)\n",
    "plt.title(\"Feature correlations (Pearson)\");\n"
   ]
  },
  {
   "cell_type": "code",
   "execution_count": null,
   "metadata": {},
   "outputs": [],
   "source": [
    "# Show only strong and moderate correlations (>|0.4|); leave out main diagonal (1.0)\n",
    "\n",
    "# Calculte matrix\n",
    "corr_matrix = df.select_dtypes(include=['number']).corr()\n",
    "\n",
    "# extract only strong and moderate correlations (>|0.4|); leave out main diagonal (1.0)\n",
    "strong_corrs = corr_matrix[(corr_matrix.abs() > 0.4) & (corr_matrix.abs() < 1.0)]\n",
    "\n",
    "# Convert df to long list (.stack) and reset index\n",
    "strong_corrs = strong_corrs.stack().reset_index()\n",
    "strong_corrs.columns = [\"Feature 1\", \"Feature 2\", \"Korrelation\"]\n",
    "\n",
    "# remove redundant rows (note: the \"<\"-sign here refers to alphabetic order of feature names, not to numbers of any kind!)\n",
    "strong_corrs = strong_corrs.loc[strong_corrs[\"Feature 1\"] < strong_corrs[\"Feature 2\"]]\n",
    "\n",
    "strong_corrs"
   ]
  },
  {
   "cell_type": "code",
   "execution_count": null,
   "metadata": {},
   "outputs": [],
   "source": [
    "# @Wiebke: Der Code hier produziert genau dieselbe Heatmap mit Korrelationen, aber nur die untere Hälfte.\n",
    "# Ich finde das übersichtlicher, weil die Hälften identisch sind und dadurch komplett redundant\n",
    "# Wie das geht:\n",
    "# Duch schreibst eine Maske, die die obere Hälfte der Matrix maskiert (np.triu), np.ones_like erstellt eine Matrix mit den gleichen Dimensionen wie die Korrelationsmatrix\n",
    "# Das Variable corr_matrix enthält die Daten aus dem df und wurde eine Zelle weiter oben definiert.\n",
    "# und dtype=bool sorgt dafür, dass die Maske aus True und False besteht\n",
    "# Dann zeichnest du die Heatmap und übergibst die Maske als Argument\n",
    "\n",
    "\n",
    "mask = np.triu(np.ones_like(corr_matrix, dtype=bool))\n",
    "\n",
    "plt.figure(figsize=(12, 8))\n",
    "sns.heatmap(corr_matrix, mask=mask, annot=True, fmt=\".2f\", cmap=\"coolwarm\", center=0, linewidths=0.5)\n",
    "plt.title(\"Feature Correlations (Pearson)\");\n"
   ]
  },
  {
   "cell_type": "markdown",
   "metadata": {},
   "source": [
    "## Analyse der Korrelationen (Pearson) und Vorschläge für weitere Analysen\n",
    "\n",
    "Die Korrelationsmatrix zeigt mehrere starke und inhaltlich gut erklärbare Zusammenhänge zwischen den numerischen Variablen. Besonders deutlich sind folgende Muster:\n",
    "\n",
    "**Feinstaub- und Stickstoffdioxidwerte hängen zusammen:**\n",
    "Es besteht eine starke Korrelation zwischen PM10 und PM2.5 (r = 0.83), was plausibel ist, da PM2.5 eine Teilmenge von PM10 ist. Zusätzlich korreliert NO₂ moderat mit beiden Feinstaubkomponenten (r ≈ 0.42–0.48), was auf gemeinsame Emissionsquellen wie Verkehr oder Industrie hindeutet.\n",
    "\n",
    "**Temperaturvariablen sind stark untereinander korreliert:**\n",
    "Die Tagesmitteltemperatur (Tavg) steht in sehr engem Zusammenhang mit Tmin und Tmax (r ≈ 0.97). Auch Tmin und Tmax selbst sind hoch korreliert (r = 0.90). Das ist mathematisch und physikalisch naheliegend und spricht dafür, nicht alle drei Variablen gleichzeitig zu verwenden, um Redundanz zu vermeiden.\n",
    "\n",
    "**Der Taupunkt (Dew) korreliert stark mit Temperatur:**\n",
    "Die stärkste Korrelation liegt zwischen Dew und Tmin (r = 0.87), gefolgt von Tavg (r = 0.82). Dies spiegelt wider, dass die Luftfeuchtigkeit – und damit der Taupunkt – eng mit der Umgebungstemperatur zusammenhängt.\n",
    "\n",
    "**Einige schwächer negative Korrelationen deuten auf atmosphärische Zusammenhänge hin:**\n",
    "Der Luftdruck (Pres) korreliert moderat negativ mit Dew (r = –0.43) und Tmin (r = –0.42), was mit typischen meteorologischen Prozessen in Zusammenhang stehen kann (z. B. feuchtwarme Luft in Tiefdruckgebieten).\n",
    "\n",
    "### **Nutzen der Korrelationsanalyse, bzw. Weiterverwendung der Ergebnisse**\n",
    "\n",
    "Diese Ergebnisse helfen dabei, hoch korrelierte bzw. redundante Variablen zu erkennen und gezielt für weitere Analysen (z. B. Clusteranalyse oder Modellierung) geeignete Features auszuwählen.\n",
    "\n",
    "Für viele Verfahren, wie z. B. Clustering oder Regressionsmodelle, ist es ratsam, von stark korrelierten Variablen jeweils nur eine zu verwenden, um Verzerrungen oder sogenannte Multikollinearität zu vermeiden.\n",
    "\n",
    "Alternativ können Hauptkomponentenanalyse (PCA) oder andere dimensionalitätsreduzierende Verfahren genutzt werden, um mehrere stark korrelierte Variablen zu einer gemeinsamen Komponente zusammenzufassen, ohne wesentliche Information zu verlieren.\n"
   ]
  },
  {
   "cell_type": "code",
   "execution_count": null,
   "metadata": {},
   "outputs": [],
   "source": [
    "df.index"
   ]
  },
  {
   "cell_type": "code",
   "execution_count": null,
   "metadata": {},
   "outputs": [],
   "source": [
    "df.to_csv(\"data/cleaned_air_quality_data_2025_03_20.csv\", index=False)"
   ]
  },
  {
   "cell_type": "markdown",
   "metadata": {},
   "source": [
    "## Krimskrams\n",
    "\n",
    "@Wiebke: Aber hier kommt allerlei Zeugs, von dem ich mir nicht sicher bin, ob wie es in der EDA lassen sollen oder auslagern. Es sind verschiedene \"Experimente\":"
   ]
  },
  {
   "cell_type": "code",
   "execution_count": null,
   "metadata": {},
   "outputs": [],
   "source": [
    "# Plot changes throughout the year. Example: Analyse CO concentration per month\n",
    "\n",
    "# calculate mean CO per month\n",
    "monthly_co = df.groupby(\"Month\")[\"Co\"].mean()\n",
    "# monthly_co = df.groupby(\"Month\")[\"Co\"].mean()\n",
    "\n",
    "# create plot\n",
    "plt.figure(figsize=(10, 5))\n",
    "plt.plot(monthly_co.index, monthly_co.values, marker='o', linestyle='-')\n",
    "plt.xlabel(\"Monat\")\n",
    "plt.ylabel(\"Mittlere CO-Konzentration\")\n",
    "plt.title(\"Durchschnittliche CO-Konzentration pro Monat\")\n",
    "plt.xticks(range(1, 13), [\"Jan\", \"Feb\", \"Mär\", \"Apr\", \"Mai\", \"Jun\", \"Jul\", \"Aug\", \"Sep\", \"Okt\", \"Nov\", \"Dez\"])\n",
    "plt.grid(True);\n",
    "\n",
    "# DaAn diesem Schaubild kann man zeigen, dass es Quatsch ist, alle Städte weltweit über einen Kamm zu scheren;\n",
    "# Es sagt aber an sich nichts Sinnvolles über die Daten aus."
   ]
  },
  {
   "cell_type": "code",
   "execution_count": null,
   "metadata": {},
   "outputs": [],
   "source": [
    "# Sinnvoller wäre es, die Daten in Nord- und Südhalbkugel zu trennen und getrennt zu betrachten. Aber das ignoriert immer noch viele relevante Faktoren\n",
    "\n",
    "# Trennung der Daten in Nord- und Südhalbkugel\n",
    "\n",
    "# Definieren, welche Länder zur Nord- und Südhalbkugel gehören\n",
    "northern_hemisphere_countries = {\n",
    "    \"US\", \"CA\", \"MX\", \"DE\", \"FR\", \"GB\", \"RU\", \"CN\", \"JP\", \"IN\", \"IT\", \"ES\", \"PL\", \"TR\", \"IR\", \"KR\", \"UA\", \"NL\", \"BE\",\n",
    "    \"CH\", \"SE\", \"AT\", \"NO\", \"FI\", \"DK\", \"GR\", \"CZ\", \"HU\", \"RO\", \"BG\", \"PT\", \"IE\", \"SK\", \"HR\", \"LT\", \"SI\", \"LV\", \"EE\"\n",
    "}\n",
    "southern_hemisphere_countries = {\n",
    "    \"AU\", \"NZ\", \"AR\", \"BR\", \"ZA\", \"CL\", \"ID\", \"PE\", \"BO\", \"EC\", \"PY\", \"UY\", \"MG\"\n",
    "}\n",
    "\n",
    "# Daten für Nord- und Südhalbkugel filtern\n",
    "df_north = df[df[\"Country\"].isin(northern_hemisphere_countries)]\n",
    "df_south = df[df[\"Country\"].isin(southern_hemisphere_countries)]\n",
    "\n",
    "# Mittlere CO-Konzentration pro Monat berechnen\n",
    "monthly_co_north = df_north.groupby(\"Month\")[\"Co\"].mean()\n",
    "monthly_co_south = df_south.groupby(\"Month\")[\"Co\"].mean()\n",
    "\n",
    "# Plot erstellen\n",
    "plt.figure(figsize=(10, 5))\n",
    "plt.plot(monthly_co_north.index, monthly_co_north.values, marker='o', linestyle='-', label=\"Nordhalbkugel\", color='b')\n",
    "plt.plot(monthly_co_south.index, monthly_co_south.values, marker='o', linestyle='-', label=\"Südhalbkugel\", color='r')\n",
    "\n",
    "plt.xlabel(\"Monat\")\n",
    "plt.ylabel(\"Mittlere CO-Konzentration\")\n",
    "plt.title(\"Vergleich der CO-Konzentration auf Nord- und Südhalbkugel\")\n",
    "plt.xticks(range(1, 13))  # Monatsskala 1-12\n",
    "plt.legend()\n",
    "plt.grid(True);"
   ]
  },
  {
   "cell_type": "code",
   "execution_count": null,
   "metadata": {},
   "outputs": [],
   "source": [
    "# CO-Werte über das Jahr inklusive Streuung\n",
    "\n",
    "plt.figure(figsize=(10, 6))\n",
    "sns.lineplot(data=df, x=\"Month\", y=\"Co\", errorbar=\"sd\", marker=\"o\")\n",
    "plt.xlabel(\"Monat\")\n",
    "plt.ylabel(\"CO-Wert\")\n",
    "plt.title(\"Kohlenmonoxidwerte Im Jahresverlauf\")\n",
    "plt.xticks(range(1, 13), [\"Jan\", \"Feb\", \"Mär\", \"Apr\", \"Mai\", \"Jun\", \"Jul\", \"Aug\", \"Sep\", \"Okt\", \"Nov\", \"Dez\"])\n",
    "plt.show()\n",
    "\n",
    "# Die Grafik ist nicht intuitiv aussagekräftig. Die Streuung ist zu stark."
   ]
  },
  {
   "cell_type": "code",
   "execution_count": null,
   "metadata": {},
   "outputs": [],
   "source": [
    "# Streuung mit Achsenbegrenzung\n",
    "\n",
    "# Gruppiere nach Monat\n",
    "grouped = df.groupby(\"Month\")[\"Co\"]\n",
    "mean = grouped.mean()\n",
    "std = grouped.std()\n",
    "\n",
    "# Plot erstellen\n",
    "plt.figure(figsize=(10, 5))\n",
    "plt.plot(mean.index, mean.values, marker='o', linestyle='-', label='Mittelwert CO')\n",
    "plt.fill_between(mean.index, mean - std, mean + std, color='blue', alpha=0.2, label='±1 SD')\n",
    "\n",
    "# Achsen, Titel, Beschriftungen\n",
    "plt.xlabel(\"Monat\")\n",
    "plt.ylabel(\"CO-Konzentration (ppm)\")\n",
    "plt.title(\"Durchschnittliche CO-Konzentration mit Streuung\")\n",
    "plt.xticks(range(1, 13), [\"Jan\", \"Feb\", \"Mär\", \"Apr\", \"Mai\", \"Jun\", \"Jul\", \"Aug\", \"Sep\", \"Okt\", \"Nov\", \"Dez\"])\n",
    "\n",
    "# Fokus auf relevanten y-Bereich\n",
    "plt.ylim(3, 7)  # oder anpassen je nach Datensatz\n",
    "\n",
    "plt.grid(True)\n",
    "plt.legend()\n",
    "plt.show()\n",
    "\n",
    "# Ergebnis: Die Streuung bedeckt die gesamte Diagrammfläche. Es sollten als die Städte, die die größte Verzerrung bewirken, aussortiert werden.\n"
   ]
  },
  {
   "cell_type": "code",
   "execution_count": null,
   "metadata": {},
   "outputs": [],
   "source": [
    "co_by_city = df.groupby(\"City\")[\"Co\"].mean().sort_values(ascending=False)\n",
    "print(co_by_city.head(10))\n",
    "\n",
    "# Ashkelon ist ein unrealistischer Ausreißer. Siehe separates NB \"Ashkelon\": Es gibt nur Messwerte für Jan und Feb 2022, und diese schwanken extrem. Vielleicht kaputtes Messgerät."
   ]
  },
  {
   "cell_type": "code",
   "execution_count": null,
   "metadata": {},
   "outputs": [],
   "source": [
    "# calculate std per city\n",
    "\n",
    "co_std_by_city = df.groupby(\"City\")[\"Co\"].std().sort_values(ascending=False)\n",
    "print(co_std_by_city.head(10))"
   ]
  },
  {
   "cell_type": "code",
   "execution_count": null,
   "metadata": {},
   "outputs": [],
   "source": [
    "# combine mean and std to determine cities that cause the bigges distortions.\n",
    "\n",
    "co_stats = df.groupby(\"City\")[\"Co\"].agg([\"mean\", \"std\"]).sort_values(by=\"mean\", ascending=False)\n",
    "print(co_stats.head(10))"
   ]
  },
  {
   "cell_type": "code",
   "execution_count": null,
   "metadata": {},
   "outputs": [],
   "source": [
    "# The three Israeli cities of Ashkelon, Ashdod and Netanya show highly volatile CO values, measured only in certain months.\n",
    "# This distorts the graph to an extent that calls for dropping these three cities from further analyes of CO."
   ]
  },
  {
   "cell_type": "code",
   "execution_count": null,
   "metadata": {},
   "outputs": [],
   "source": [
    "# Drop distorting cities from fürther analyses\n",
    "exclude_cities = [\"Ashkelon\", \"Ashdod\", \"Netanya\"]\n",
    "df_cleaned = df[~df[\"City\"].isin(exclude_cities)]"
   ]
  },
  {
   "cell_type": "code",
   "execution_count": null,
   "metadata": {},
   "outputs": [],
   "source": [
    "# Streuung mit Achsenbegrenzung, ohne Ausreißerstädte in Israel\n",
    "\n",
    "# Gruppiere nach Monat\n",
    "grouped = df_cleaned.groupby(\"Month\")[\"Co\"]\n",
    "mean = grouped.mean()\n",
    "std = grouped.std()\n",
    "\n",
    "# Plot erstellen\n",
    "plt.figure(figsize=(10, 5))\n",
    "plt.plot(mean.index, mean.values, marker='o', linestyle='-', label='Mittelwert CO')\n",
    "plt.fill_between(mean.index, mean - std, mean + std, color='blue', alpha=0.2, label='±1 SD')\n",
    "\n",
    "# Achsen, Titel, Beschriftungen\n",
    "plt.xlabel(\"Monat\")\n",
    "plt.ylabel(\"CO-Konzentration (ppm)\")\n",
    "plt.title(\"Durchschnittliche CO-Konzentration mit Streuung\")\n",
    "plt.xticks(range(1, 13), [\"Jan\", \"Feb\", \"Mär\", \"Apr\", \"Mai\", \"Jun\", \"Jul\", \"Aug\", \"Sep\", \"Okt\", \"Nov\", \"Dez\"])\n",
    "\n",
    "# Fokus auf relevanten y-Bereich\n",
    "plt.ylim(3, 7)  # oder anpassen je nach Datensatz\n",
    "\n",
    "plt.grid(True)\n",
    "plt.legend()\n",
    "plt.show()\n",
    "\n",
    "# Ergebnis: Die Streuung bedeckt die gesamte Diagrammfläche. Es sollten als die Städte, die die größte Verzerrung bewirken, aussortiert werden.\n"
   ]
  },
  {
   "cell_type": "code",
   "execution_count": null,
   "metadata": {},
   "outputs": [],
   "source": [
    "# CO-Werte über das Jahr inklusive Streuung\n",
    "\n",
    "plt.figure(figsize=(10, 6))\n",
    "sns.lineplot(data=df_cleaned, x=\"Month\", y=\"Co\", errorbar=\"sd\", marker=\"o\")\n",
    "plt.xlabel(\"Monat\")\n",
    "plt.ylabel(\"CO-Wert\")\n",
    "plt.title(\"Kohlenmonoxidwerte Im Jahresverlauf\")\n",
    "plt.xticks(range(1, 13), [\"Jan\", \"Feb\", \"Mär\", \"Apr\", \"Mai\", \"Jun\", \"Jul\", \"Aug\", \"Sep\", \"Okt\", \"Nov\", \"Dez\"])\n",
    "plt.show()\n",
    "\n",
    "# Die Grafik ist immer noch nicht nicht intuitiv aussagekräftig. Die Streuung ist weiterhin zu stark."
   ]
  },
  {
   "cell_type": "code",
   "execution_count": null,
   "metadata": {},
   "outputs": [],
   "source": [
    "# Ursachenforschung für die starke CO-Streuung\n",
    "\n",
    "co_std_cleaned = df_cleaned.groupby(\"City\")[\"Co\"].std().sort_values(ascending=False)\n",
    "print(co_std_cleaned.head(10))"
   ]
  },
  {
   "cell_type": "code",
   "execution_count": null,
   "metadata": {},
   "outputs": [],
   "source": [
    "co_stats_cleaned = df_cleaned.groupby(\"City\")[\"Co\"].agg([\"mean\", \"std\"]).sort_values(by=\"std\", ascending=False)\n",
    "print(co_stats_cleaned.head(10))"
   ]
  },
  {
   "cell_type": "code",
   "execution_count": null,
   "metadata": {},
   "outputs": [],
   "source": [
    "# Weitere Städte mit extremer Varianz entfernen, um eine übersichtliche globale Darstellung zu erzielen\n",
    "\n",
    "more_extreme = [\"Portland\", \"Mérida\", \"Zamboanga\", \"Butuan\", \"Hạ long\", \"Oaxaca\", \"Isfahan\", \"San luis potosí\", \"Tabriz\", \"Tallahassee\"]\n",
    "exclude_cities = [\"Ashkelon\", \"Ashdod\", \"Netanya\"] + more_extreme\n",
    "df_cleaned2 = df[~df[\"City\"].isin(exclude_cities)]"
   ]
  },
  {
   "cell_type": "code",
   "execution_count": null,
   "metadata": {},
   "outputs": [],
   "source": [
    "# CO-Werte über das Jahr inklusive Streuung, weiter reduziert\n",
    "\n",
    "plt.figure(figsize=(10, 6))\n",
    "sns.lineplot(data=df_cleaned2, x=\"Month\", y=\"Co\", marker=\"o\")\n",
    "plt.fill_between(mean.index, mean - std * 0.5, mean + std * 0.5, alpha=0.2, label='±0.5 SD')\n",
    "plt.xlabel(\"Monat\")\n",
    "plt.ylabel(\"CO-Wert\")\n",
    "plt.title(\"Kohlenmonoxidwerte Im Jahresverlauf\")\n",
    "plt.xticks(range(1, 13), [\"Jan\", \"Feb\", \"Mär\", \"Apr\", \"Mai\", \"Jun\", \"Jul\", \"Aug\", \"Sep\", \"Okt\", \"Nov\", \"Dez\"])\n",
    "plt.show()\n",
    "\n",
    "# Die Grafik ist immer noch nicht nicht intuitiv aussagekräftig. Die Streuung ist weiterhin zu stark."
   ]
  },
  {
   "cell_type": "code",
   "execution_count": null,
   "metadata": {},
   "outputs": [],
   "source": [
    "\n",
    "# Nord- und Südhalbkugel anhand des Features \"Latitude\" trennen\n",
    "\n",
    "df_cleaned2.loc[:, \"Hemisphere\"] = df_cleaned2.loc[:, \"Latitude\"].apply(lambda x: \"Nordhalbkugel\" if x >= 0 else \"Südhalbkugel\")\n",
    "\n"
   ]
  },
  {
   "cell_type": "code",
   "execution_count": null,
   "metadata": {},
   "outputs": [],
   "source": [
    "df_north = df_cleaned2[df_cleaned2[\"Hemisphere\"] == \"Nordhalbkugel\"]\n",
    "df_south = df_cleaned2[df_cleaned2[\"Hemisphere\"] == \"Südhalbkugel\"]"
   ]
  },
  {
   "cell_type": "code",
   "execution_count": null,
   "metadata": {},
   "outputs": [],
   "source": [
    "# Nordhalbkugel\n",
    "grouped_north = df_north.groupby(\"Month\")[\"Co\"]\n",
    "mean_north = grouped_north.mean()\n",
    "std_north = grouped_north.std()\n",
    "\n",
    "# Südhalbkugel\n",
    "grouped_south = df_south.groupby(\"Month\")[\"Co\"]\n",
    "mean_south = grouped_south.mean()\n",
    "std_south = grouped_south.std()\n",
    "\n",
    "# Plot\n",
    "plt.figure(figsize=(10, 5))\n",
    "\n",
    "plt.plot(mean_north.index, mean_north, marker='o', label=\"Nordhalbkugel\")\n",
    "plt.fill_between(mean_north.index, mean_north - std_north, mean_north + std_north, alpha=0.2)\n",
    "\n",
    "plt.plot(mean_south.index, mean_south, marker='s', label=\"Südhalbkugel\")\n",
    "plt.fill_between(mean_south.index, mean_south - std_south, mean_south + std_south, alpha=0.2)\n",
    "\n",
    "plt.xticks(range(1, 13), [\"Jan\", \"Feb\", \"Mär\", \"Apr\", \"Mai\", \"Jun\", \"Jul\", \"Aug\", \"Sep\", \"Okt\", \"Nov\", \"Dez\"])\n",
    "plt.xlabel(\"Monat\")\n",
    "plt.ylabel(\"CO-Konzentration (ppm)\")\n",
    "plt.title(\"Saisonale CO-Muster nach Hemisphäre\")\n",
    "plt.legend()\n",
    "plt.grid(True)\n",
    "plt.show()\n"
   ]
  },
  {
   "cell_type": "code",
   "execution_count": null,
   "metadata": {},
   "outputs": [],
   "source": [
    "# Mittlere CO-Konzentration pro Monat berechnen\n",
    "monthly_co_north = df_north.groupby(\"Month\")[\"Co\"].mean()\n",
    "monthly_co_south = df_south.groupby(\"Month\")[\"Co\"].mean()\n",
    "\n",
    "# Plot erstellen\n",
    "plt.figure(figsize=(10, 5))\n",
    "plt.plot(monthly_co_north.index, monthly_co_north.values, marker='o', linestyle='-', label=\"Nordhalbkugel\", color='b')\n",
    "plt.plot(monthly_co_south.index, monthly_co_south.values, marker='o', linestyle='-', label=\"Südhalbkugel\", color='r')\n",
    "\n",
    "plt.xlabel(\"Monat\")\n",
    "plt.ylabel(\"Mittlere CO-Konzentration\")\n",
    "plt.title(\"Vergleich der CO-Konzentration auf Nord- und Südhalbkugel\")\n",
    "plt.xticks(range(1, 13))  # Monatsskala 1-12\n",
    "plt.legend()\n",
    "plt.grid(True);"
   ]
  },
  {
   "cell_type": "code",
   "execution_count": null,
   "metadata": {},
   "outputs": [],
   "source": [
    "# Mittlere CO-Konzentration pro Monat berechnen- Median statt Mean, weil robuster gegen Ausreißer\n",
    "monthly_co_north = df_north.groupby(\"Month\")[\"Co\"].median()\n",
    "monthly_co_south = df_south.groupby(\"Month\")[\"Co\"].median()\n",
    "\n",
    "# Plot erstellen\n",
    "plt.figure(figsize=(10, 5))\n",
    "plt.plot(monthly_co_north.index, monthly_co_north.values, marker='o', linestyle='-', label=\"Nordhalbkugel\", color='b')\n",
    "plt.plot(monthly_co_south.index, monthly_co_south.values, marker='o', linestyle='-', label=\"Südhalbkugel\", color='r')\n",
    "\n",
    "plt.xlabel(\"Monat\")\n",
    "plt.ylabel(\"Mittlere CO-Konzentration\")\n",
    "plt.title(\"Vergleich der CO-Konzentration auf Nord- und Südhalbkugel\")\n",
    "plt.xticks(range(1, 13))  # Monatsskala 1-12\n",
    "plt.legend()\n",
    "plt.grid(True);"
   ]
  },
  {
   "cell_type": "code",
   "execution_count": null,
   "metadata": {},
   "outputs": [],
   "source": [
    "# sns.histplot(df_north[\"Co\"], kde=True)\n",
    "# sns.histplot(df_south[\"Co\"], kde=True)\n",
    "\n",
    "plt.figure(figsize=(10, 5))\n",
    "\n",
    "# Nordhalbkugel\n",
    "sns.histplot(df_north[\"Co\"], kde=True, label=\"Nordhalbkugel\", stat=\"density\", element=\"step\", fill=True)\n",
    "\n",
    "# Südhalbkugel\n",
    "sns.histplot(df_south[\"Co\"], kde=True, label=\"Südhalbkugel\", stat=\"density\", element=\"step\", fill=True)\n",
    "\n",
    "# Achsen & Legende\n",
    "plt.xlabel(\"CO-Konzentration (ppm)\")\n",
    "plt.ylabel(\"Dichte\")\n",
    "plt.title(\"Verteilung der CO-Werte nach Hemisphäre\")\n",
    "plt.legend()\n",
    "plt.grid(True)\n",
    "plt.show()\n"
   ]
  },
  {
   "cell_type": "code",
   "execution_count": null,
   "metadata": {},
   "outputs": [],
   "source": [
    "plt.figure(figsize=(10, 5))\n",
    "\n",
    "# Histogramm Nordhalbkugel\n",
    "sns.histplot(df_north[\"Co\"], kde=True, stat=\"density\", label=\"Nordhalbkugel\", color=\"steelblue\", fill=True)\n",
    "\n",
    "# Histogramm Südhalbkugel\n",
    "sns.histplot(df_south[\"Co\"], kde=True, stat=\"density\", label=\"Südhalbkugel\", color=\"darkorange\", fill=True)\n",
    "\n",
    "# Zoom auf interessanten Bereich\n",
    "plt.xlim(0, 20)    # X-Achse (CO-Werte) begrenzen\n",
    "plt.ylim(0, 0.7)   # Y-Achse (Dichte) begrenzen\n",
    "\n",
    "# Titel & Achsen\n",
    "plt.xlabel(\"CO-Konzentration (ppm)\")\n",
    "plt.ylabel(\"Dichte\")\n",
    "plt.title(\"CO-Verteilung nach Hemisphäre (vergrößerter Bereich)\")\n",
    "plt.legend()\n",
    "plt.grid(True)\n",
    "plt.show()\n"
   ]
  },
  {
   "cell_type": "code",
   "execution_count": null,
   "metadata": {},
   "outputs": [],
   "source": [
    "# Mittlere CO-Konzentration pro Land berechnen\n",
    "country_co_avg = df.groupby(\"Country\")[\"Co\"].mean().sort_values(ascending=False)\n",
    "\n",
    "# Barplot erstellen\n",
    "plt.figure(figsize=(12, 6))\n",
    "country_co_avg.plot(kind='bar', color='b', alpha=0.7)\n",
    "plt.xlabel(\"Land\")\n",
    "plt.ylabel(\"Mittlere CO-Konzentration\")\n",
    "plt.title(\"Durchschnittliche CO-Konzentration pro Land\")\n",
    "plt.xticks(rotation=90)  # Länderbeschriftung drehen für bessere Lesbarkeit\n",
    "plt.grid(axis='y', linestyle='--', alpha=0.7);\n"
   ]
  },
  {
   "cell_type": "code",
   "execution_count": null,
   "metadata": {},
   "outputs": [],
   "source": [
    "# Mittlere CO-Konzentration pro Land berechnen\n",
    "\n",
    "# Mindestanzahl an CO-Messwerten pro Land, um in die Analyse aufgenommen zu werden\n",
    "min_measurements = 100  # Falls nötig, anpassen\n",
    "\n",
    "# Anzahl der CO-Messwerte pro Land berechnen\n",
    "country_co_counts = df.groupby(\"Country\")[\"Co\"].count()\n",
    "\n",
    "# Nur Länder behalten, die mindestens `min_measurements` Messwerte haben\n",
    "valid_countries = country_co_counts[country_co_counts >= min_measurements].index\n",
    "\n",
    "# Gefilterten DataFrame mit diesen Ländern erstellen\n",
    "df_valid_countries = df[df[\"Country\"].isin(valid_countries)]\n",
    "\n",
    "# Mittlere CO-Konzentration für diese Länder berechnen\n",
    "country_co_avg_filtered = df_valid_countries.groupby(\"Country\")[\"Co\"].mean().sort_values(ascending=False)\n",
    "\n",
    "# Falls nach der Filterung noch Daten vorhanden sind, Plot erstellen\n",
    "if not country_co_avg_filtered.empty:\n",
    "    plt.figure(figsize=(12, 6))\n",
    "    country_co_avg_filtered.plot(kind='bar', color='b', alpha=0.7)\n",
    "    plt.xlabel(\"Land\")\n",
    "    plt.ylabel(\"Mittlere CO-Konzentration\")\n",
    "    plt.title(\"Durchschnittliche CO-Konzentration pro Land (nur Länder mit ausreichenden Messwerten)\")\n",
    "    plt.xticks(rotation=90)  # Länderbeschriftung drehen für bessere Lesbarkeit\n",
    "    plt.grid(axis='y', linestyle='--', alpha=0.7)\n",
    "else:\n",
    "    print(\"Keine ausreichenden Daten für CO-Werte in den Ländern verfügbar.\")\n"
   ]
  },
  {
   "cell_type": "code",
   "execution_count": null,
   "metadata": {},
   "outputs": [],
   "source": [
    "country_co_avg_filtered.head(20).plot(kind='bar')\n"
   ]
  },
  {
   "cell_type": "code",
   "execution_count": null,
   "metadata": {},
   "outputs": [],
   "source": [
    "# Vergleich von Schadstoffen in verschiedenen Städten\n",
    "\n",
    "# Liste der relevanten Schadstoff-Spalten (falls sie in den Daten vorhanden sind)\n",
    "pollutants = [\"Co\", \"No2\", \"O3\", \"So2\", \"Pm10\", \"Pm25\"]\n",
    "\n",
    "# DataFrame mit nur den relevanten Spalten (fehlende Werte entfernen)\n",
    "df_pollutants = df[pollutants].dropna()\n",
    "\n",
    "# Korrelationsmatrix berechnen\n",
    "corr_matrix = df_pollutants.corr()\n",
    "\n",
    "# Heatmap der Korrelationen erstellen\n",
    "plt.figure(figsize=(8, 6))\n",
    "sns.heatmap(corr_matrix, annot=True, fmt=\".2f\", cmap=\"coolwarm\", center=0, linewidths=0.5)\n",
    "plt.title(\"Korrelation zwischen CO und anderen Schadstoffen\");\n"
   ]
  },
  {
   "cell_type": "code",
   "execution_count": null,
   "metadata": {},
   "outputs": [],
   "source": [
    "df[[\"Co\", \"No2\"]].corr()"
   ]
  },
  {
   "cell_type": "code",
   "execution_count": null,
   "metadata": {},
   "outputs": [],
   "source": [
    "# Ab hier Variablen korrigieren!!!\n",
    "\n",
    "# # Korrelation Schadstoffe und Wettervariablen\n",
    "\n",
    "# # Liste der Schadstoffe und Wettervariablen\n",
    "# pollutants = [\"Co\", \"No2\", \"O3\", \"So2\", \"Pm10\", \"Pm25\"]\n",
    "# weather_vars = [\"temperature\", \"pressure\", \"humidity\", \"dew\", \"wind-speed\", \"wind-gust\"]\n",
    "\n",
    "# # DataFrame mit nur den relevanten Spalten (fehlende Werte entfernen)\n",
    "# df_pollutants_weather = df[pollutants + weather_vars].dropna()\n",
    "\n",
    "# # Korrelationsmatrix berechnen\n",
    "# corr_matrix_weather = df_pollutants_weather.corr()\n",
    "\n",
    "# # Heatmap der Korrelationen zwischen Schadstoffen & Wettervariablen\n",
    "# plt.figure(figsize=(10, 6))\n",
    "# sns.heatmap(corr_matrix_weather, annot=True, fmt=\".2f\", cmap=\"coolwarm\", center=0, linewidths=0.5)\n",
    "# plt.title(\"Korrelation zwischen Schadstoffen und Wetterfaktoren\");"
   ]
  },
  {
   "cell_type": "code",
   "execution_count": null,
   "metadata": {},
   "outputs": [],
   "source": [
    "df[[\"co\", \"temperature\"]].corr()"
   ]
  },
  {
   "cell_type": "code",
   "execution_count": null,
   "metadata": {},
   "outputs": [],
   "source": [
    "# Schadstoffbelastung über die Zeit in verschiedenen Städten\n",
    "\n",
    "# Durchschnittliche Schadstoffwerte pro Jahr berechnen\n",
    "pollutants = [\"Co\", \"No2\", \"O3\", \"So2\", \"Pm10\", \"Pm25\"]\n",
    "yearly_trends = df.groupby(\"Year\")[pollutants].mean()\n",
    "\n",
    "# Liniendiagramm für langfristige Trends erstellen\n",
    "plt.figure(figsize=(12, 6))\n",
    "for pollutant in pollutants:\n",
    "    plt.plot(yearly_trends.index, yearly_trends[pollutant], marker='o', linestyle='-', label=pollutant)\n",
    "\n",
    "plt.xlabel(\"Jahr\")\n",
    "plt.ylabel(\"Mittlere Konzentration\")\n",
    "plt.title(\"Langfristige Entwicklung der Schadstoffwerte\")\n",
    "plt.legend()\n",
    "plt.grid(True);\n"
   ]
  },
  {
   "cell_type": "code",
   "execution_count": null,
   "metadata": {},
   "outputs": [],
   "source": [
    "# Ohne 2014 und 2025, weil zu wenige Daten\n",
    "\n",
    "# Schadstoffe, die analysiert werden sollen\n",
    "pollutants = [\"Co\", \"No2\", \"O3\", \"So2\", \"Pm10\", \"Pm25\"]\n",
    "\n",
    "# Falls \"year\" als String gespeichert ist, in numerischen Wert umwandeln\n",
    "df[\"year\"] = pd.to_numeric(df[\"Year\"], errors=\"coerce\")\n",
    "\n",
    "# Durchschnittliche Schadstoffwerte pro Jahr berechnen, aber 2014 & 2025 ausschließen\n",
    "yearly_trends = df.groupby(\"Year\")[pollutants].mean()\n",
    "yearly_trends = yearly_trends.loc[(yearly_trends.index > 2014) & (yearly_trends.index < 2025)]\n",
    "\n",
    "# Liniendiagramm für langfristige Trends erstellen\n",
    "plt.figure(figsize=(12, 6))\n",
    "for pollutant in pollutants:\n",
    "    plt.plot(yearly_trends.index, yearly_trends[pollutant], marker='o', linestyle='-', label=pollutant)\n",
    "\n",
    "plt.xlabel(\"Jahr\")\n",
    "plt.ylabel(\"Mittlere Konzentration\")\n",
    "plt.title(\"Langfristige Entwicklung der Schadstoffwerte (ohne 2014 & 2025)\")\n",
    "plt.legend()\n",
    "plt.grid(True);\n"
   ]
  },
  {
   "cell_type": "code",
   "execution_count": null,
   "metadata": {},
   "outputs": [],
   "source": [
    "num_cities_with_data = df.loc[:, [\"City\", \"Co\", \"No2\", \"So2\", \"O3\", \"Pm25\", \"Pm10\"]].dropna(subset=[\"Co\", \"No2\", \"So2\", \"O3\", \"Pm25\", \"Pm10\"], how=\"all\")[\"City\"].nunique()\n",
    "print(f\"Anzahl der Städte mit mindestens einem Messwert: {num_cities_with_data}\")"
   ]
  },
  {
   "cell_type": "code",
   "execution_count": null,
   "metadata": {},
   "outputs": [],
   "source": [
    "    import matplotlib.pyplot as plt\n",
    "\n",
    "    # Schadstoffe, die analysiert werden sollen\n",
    "    pollutants = [\"Co\", \"No2\", \"O3\", \"So2\", \"Pm10\", \"Pm25\"]\n",
    "\n",
    "    # Länder nach Regionen gruppieren\n",
    "    regions = {\n",
    "        \"Europe\": {\"DE\", \"FR\", \"GB\", \"IT\", \"ES\", \"PL\", \"NL\", \"SE\", \"AT\", \"CH\", \"BE\"},\n",
    "        \"North America\": {\"US\", \"CA\", \"MX\"},\n",
    "        \"South America\": {\"BR\", \"AR\", \"CO\", \"CL\", \"PE\"},\n",
    "        \"Asia\": {\"CN\", \"IN\", \"JP\", \"KR\", \"IR\"},\n",
    "        \"Africa\": {\"ZA\", \"EG\", \"NG\"},\n",
    "        \"Oceania\": {\"AU\", \"NZ\"}\n",
    "    }\n",
    "\n",
    "    # Falls \"year\" als String gespeichert ist, in numerischen Wert umwandeln\n",
    "    df[\"Year\"] = pd.to_numeric(df[\"Year\"], errors=\"coerce\")\n",
    "\n",
    "    # Regionen durchgehen & Diagramme erstellen\n",
    "    fig, axes = plt.subplots(2, 3, figsize=(15, 8), sharex=True, sharey=True)  # Einheitliche Achsen für bessere Vergleichbarkeit\n",
    "    axes = axes.flatten()  # 2D-Array in 1D-Array umwandeln\n",
    "\n",
    "    # Speichert alle Linien für die gemeinsame Legende\n",
    "    handles, labels = [], []\n",
    "\n",
    "    for i, (region, countries) in enumerate(regions.items()):\n",
    "        df_region = df[df[\"Country\"].isin(countries)]\n",
    "        yearly_trends_region = df_region.groupby(\"Year\")[pollutants].mean()\n",
    "        yearly_trends_region = yearly_trends_region.loc[(yearly_trends_region.index > 2014) & (yearly_trends_region.index < 2025)]\n",
    "        \n",
    "        ax = axes[i]\n",
    "        for pollutant in pollutants:\n",
    "            line, = ax.plot(yearly_trends_region.index, yearly_trends_region[pollutant], marker='o', linestyle='-', label=pollutant)\n",
    "            \n",
    "            # Speichert eine Linie pro Schadstoff für die gemeinsame Legende\n",
    "            if i == 0:  \n",
    "                handles.append(line)\n",
    "                labels.append(pollutant)\n",
    "\n",
    "        ax.set_title(region)\n",
    "        ax.set_xlabel(\"Jahr\")\n",
    "        ax.set_ylabel(\"Mittelwert\")\n",
    "        ax.grid(True)\n",
    "\n",
    "    for ax in axes[:3]:  # Die ersten drei Subplots sind in der oberen Reihe\n",
    "        ax.xaxis.set_tick_params(labelbottom=True)\n",
    "\n",
    "    # Gemeinsame Legende unterhalb der Subplots platzieren\n",
    "    fig.legend(handles, labels, loc='lower center', bbox_to_anchor=(0.5, -0.05), ncol=len(pollutants))\n",
    "\n",
    "    # Layout optimieren\n",
    "    plt.tight_layout();"
   ]
  },
  {
   "cell_type": "code",
   "execution_count": null,
   "metadata": {},
   "outputs": [],
   "source": [
    "# Sechs Top-Länder in Europa\n",
    "\n",
    "import matplotlib.pyplot as plt\n",
    "\n",
    "# Schadstoffe, die analysiert werden sollen\n",
    "pollutants = [\"co\", \"no2\", \"o3\", \"so2\", \"pm10\", \"pm25\"]\n",
    "\n",
    "# Europäische Länder definieren\n",
    "european_countries = {\"DE\", \"FR\", \"GB\", \"IT\", \"ES\", \"PL\", \"NL\", \"SE\", \"AT\", \"CH\", \"BE\"}\n",
    "\n",
    "# Falls \"year\" als String gespeichert ist, in numerischen Wert umwandeln\n",
    "df[\"year\"] = pd.to_numeric(df[\"year\"], errors=\"coerce\")\n",
    "\n",
    "# Nur europäische Länder auswählen\n",
    "df_europe = df[df[\"Country\"].isin(european_countries)]\n",
    "\n",
    "# Länder mit den meisten Messwerten identifizieren\n",
    "top_countries = df_europe[\"Country\"].value_counts().nlargest(6).index  # Falls nur 6 Länder visualisiert werden sollen\n",
    "\n",
    "# Subplots für die gewählten Länder erstellen\n",
    "fig, axes = plt.subplots(2, 3, figsize=(15, 8), sharex=True, sharey=True)  # 2 Reihen, 3 Spalten\n",
    "axes = axes.flatten()\n",
    "\n",
    "for i, country in enumerate(top_countries):\n",
    "    df_country = df_europe[df_europe[\"Country\"] == country]\n",
    "    yearly_trends_country = df_country.groupby(\"year\")[pollutants].mean()\n",
    "    yearly_trends_country = yearly_trends_country.loc[(yearly_trends_country.index > 2014) & (yearly_trends_country.index < 2025)]\n",
    "    \n",
    "    ax = axes[i]\n",
    "    for pollutant in pollutants:\n",
    "        ax.plot(yearly_trends_country.index, yearly_trends_country[pollutant], marker='o', linestyle='-', label=pollutant)\n",
    "    \n",
    "    ax.set_title(country)\n",
    "    ax.set_xlabel(\"Jahr\")\n",
    "    ax.set_ylabel(\"Mittelwert\")\n",
    "    ax.grid(True)\n",
    "\n",
    "# Gemeinsame Legende unterhalb der Subplots platzieren\n",
    "fig.legend(pollutants, loc='lower center', bbox_to_anchor=(0.5, -0.05), ncol=len(pollutants))\n",
    "\n",
    "# Layout optimieren\n",
    "plt.tight_layout();"
   ]
  },
  {
   "cell_type": "code",
   "execution_count": null,
   "metadata": {},
   "outputs": [],
   "source": [
    "# Korrekation zwischen Ozon und anderen Faktoren\n",
    "\n",
    "# Relevante Spalten auswählen\n",
    "pollutants = [\"co\", \"no2\", \"so2\", \"pm10\", \"pm25\", \"o3\"]\n",
    "weather_vars = [\"temperature\", \"pressure\", \"humidity\", \"dew\", \"wind-speed\", \"wind-gust\"]\n",
    "\n",
    "# DataFrame mit nur den relevanten Spalten (fehlende Werte entfernen)\n",
    "df_ozone_corr = df[pollutants + weather_vars].dropna()\n",
    "\n",
    "# Korrelationsmatrix berechnen\n",
    "corr_matrix_ozone = df_ozone_corr.corr()\n",
    "\n",
    "# Heatmap der Korrelationen zwischen Ozon und anderen Faktoren\n",
    "plt.figure(figsize=(8, 6))\n",
    "sns.heatmap(corr_matrix_ozone, annot=True, fmt=\".2f\", cmap=\"coolwarm\", center=0, linewidths=0.5)\n",
    "plt.title(\"Korrelation zwischen Ozon (O₃) und anderen Faktoren\");\n"
   ]
  },
  {
   "cell_type": "code",
   "execution_count": null,
   "metadata": {},
   "outputs": [],
   "source": [
    "# Durchschnittliche Ozonwerte pro Monat berechnen\n",
    "monthly_o3 = df.groupby(\"month\")[\"o3\"].mean()\n",
    "\n",
    "# Liniendiagramm für die saisonale Entwicklung von Ozon erstellen\n",
    "plt.figure(figsize=(10, 5))\n",
    "plt.plot(monthly_o3.index, monthly_o3.values, marker='o', linestyle='-', color='b')\n",
    "plt.xlabel(\"Monat\")\n",
    "plt.ylabel(\"Mittlere O₃-Konzentration\")\n",
    "plt.title(\"Saisonale Entwicklung der Ozonwerte (O₃)\")\n",
    "plt.xticks(range(1, 13), [\"Jan\", \"Feb\", \"Mär\", \"Apr\", \"Mai\", \"Jun\", \"Jul\", \"Aug\", \"Sep\", \"Okt\", \"Nov\", \"Dez\"])\n",
    "plt.grid(True);"
   ]
  },
  {
   "cell_type": "code",
   "execution_count": null,
   "metadata": {},
   "outputs": [],
   "source": [
    "# Länder nach Hemisphäre aufteilen\n",
    "northern_hemisphere_countries = {\n",
    "    \"US\", \"CA\", \"MX\", \"DE\", \"FR\", \"GB\", \"IT\", \"ES\", \"PL\", \"NL\", \"SE\", \"AT\", \"CH\", \"BE\", \"RU\", \"CN\", \"JP\", \"IN\", \"KR\"\n",
    "}\n",
    "southern_hemisphere_countries = {\n",
    "    \"AU\", \"NZ\", \"AR\", \"BR\", \"ZA\", \"CL\", \"ID\", \"PE\", \"BO\", \"EC\", \"PY\", \"UY\", \"MG\"\n",
    "}\n",
    "\n",
    "# Daten für Nord- und Südhalbkugel filtern\n",
    "df_north = df[df[\"Country\"].isin(northern_hemisphere_countries)]\n",
    "df_south = df[df[\"Country\"].isin(southern_hemisphere_countries)]\n",
    "\n",
    "# Durchschnittliche Ozonwerte pro Monat für beide Hemisphären berechnen\n",
    "monthly_o3_north = df_north.groupby(\"month\")[\"o3\"].mean()\n",
    "monthly_o3_south = df_south.groupby(\"month\")[\"o3\"].mean()\n",
    "\n",
    "# Plot erstellen\n",
    "plt.figure(figsize=(10, 5))\n",
    "plt.plot(monthly_o3_north.index, monthly_o3_north.values, marker='o', linestyle='-', label=\"Nordhalbkugel\", color='b')\n",
    "plt.plot(monthly_o3_south.index, monthly_o3_south.values, marker='o', linestyle='-', label=\"Südhalbkugel\", color='r')\n",
    "\n",
    "plt.xlabel(\"Monat\")\n",
    "plt.ylabel(\"Mittlere O₃-Konzentration\")\n",
    "plt.title(\"Vergleich der Ozonwerte (O₃) zwischen Nord- und Südhalbkugel\")\n",
    "plt.xticks(range(1, 13), [\"Jan\", \"Feb\", \"Mär\", \"Apr\", \"Mai\", \"Jun\", \"Jul\", \"Aug\", \"Sep\", \"Okt\", \"Nov\", \"Dez\"])\n",
    "plt.legend()\n",
    "plt.grid(True);\n",
    "\n"
   ]
  },
  {
   "cell_type": "code",
   "execution_count": null,
   "metadata": {},
   "outputs": [],
   "source": [
    "import matplotlib.pyplot as plt\n",
    "\n",
    "# Europäische Länder definieren\n",
    "european_countries = {\"DE\", \"FR\", \"GB\", \"IT\", \"ES\", \"PL\", \"NL\", \"SE\", \"AT\", \"CH\", \"BE\"}\n",
    "\n",
    "# Falls \"year\" als String gespeichert ist, in numerischen Wert umwandeln\n",
    "df[\"year\"] = pd.to_numeric(df[\"year\"], errors=\"coerce\")\n",
    "\n",
    "# Nur europäische Länder auswählen\n",
    "df_europe = df[df[\"Country\"].isin(european_countries)]\n",
    "\n",
    "# Jahre 2014 & 2025 aus der Analyse entfernen\n",
    "df_europe = df_europe[(df_europe[\"year\"] > 2014) & (df_europe[\"year\"] < 2025)]\n",
    "\n",
    "# Nur Länder behalten, die tatsächlich O₃-Werte haben\n",
    "countries_with_o3 = df_europe.groupby(\"Country\")[\"o3\"].count()\n",
    "valid_countries = countries_with_o3[countries_with_o3 > 0].index  # Länder mit vorhandenen O₃-Werten\n",
    "\n",
    "# DataFrame auf diese Länder filtern\n",
    "df_europe = df_europe[df_europe[\"Country\"].isin(valid_countries)]\n",
    "\n",
    "# Standardabweichung (Schwankungsstärke) von O₃ pro Jahr & Land berechnen\n",
    "ozone_volatility = df_europe.groupby([\"year\", \"Country\"])[\"o3\"].std().unstack()\n",
    "\n",
    "# Diagramm erstellen\n",
    "fig, ax = plt.subplots(figsize=(12, 6))\n",
    "handles = []  # Zum Speichern der Linien für die Legende\n",
    "labels = []   # Zum Speichern der Ländernamen\n",
    "\n",
    "for country in ozone_volatility.columns:\n",
    "    line, = ax.plot(ozone_volatility.index, ozone_volatility[country], marker='o', linestyle='-', label=country)\n",
    "    handles.append(line)\n",
    "    labels.append(country)\n",
    "\n",
    "ax.set_xlabel(\"Jahr\")\n",
    "ax.set_ylabel(\"Standardabweichung von O₃ (Schwankungsstärke)\")\n",
    "ax.set_title(\"Jährliche Schwankungsstärke der Ozonwerte in europäischen Ländern (nur Länder mit Daten)\")\n",
    "ax.grid(True)\n",
    "\n",
    "# Legende unterhalb des Plots platzieren\n",
    "fig.legend(handles, labels, loc='lower center', bbox_to_anchor=(0.5, -0.15), ncol=len(valid_countries))\n",
    "\n",
    "# Layout optimieren\n",
    "plt.tight_layout();"
   ]
  }
 ],
 "metadata": {
  "kernelspec": {
   "display_name": ".venv",
   "language": "python",
   "name": "python3"
  },
  "language_info": {
   "codemirror_mode": {
    "name": "ipython",
    "version": 3
   },
   "file_extension": ".py",
   "mimetype": "text/x-python",
   "name": "python",
   "nbconvert_exporter": "python",
   "pygments_lexer": "ipython3",
   "version": "3.11.4"
  }
 },
 "nbformat": 4,
 "nbformat_minor": 2
}
