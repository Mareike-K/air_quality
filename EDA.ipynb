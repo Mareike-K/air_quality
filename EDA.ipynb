{
 "cells": [
  {
   "cell_type": "code",
   "execution_count": 2,
   "metadata": {},
   "outputs": [],
   "source": [
    "# imports\n",
    "import pandas as pd\n",
    "import matplotlib.pyplot as plt\n",
    "import seaborn as sns\n",
    "%matplotlib inline\n",
    "\n",
    "# import os\n",
    "# import numpy as np\n",
    "# import matplotlib\n",
    "# import datetime"
   ]
  },
  {
   "cell_type": "code",
   "execution_count": 3,
   "metadata": {},
   "outputs": [],
   "source": [
    "# Settings for displaying floats\n",
    "pd.set_option('display.float_format', '{:,.2f}'.format)"
   ]
  },
  {
   "cell_type": "code",
   "execution_count": 4,
   "metadata": {},
   "outputs": [
    {
     "data": {
      "text/html": [
       "<div>\n",
       "<style scoped>\n",
       "    .dataframe tbody tr th:only-of-type {\n",
       "        vertical-align: middle;\n",
       "    }\n",
       "\n",
       "    .dataframe tbody tr th {\n",
       "        vertical-align: top;\n",
       "    }\n",
       "\n",
       "    .dataframe thead th {\n",
       "        text-align: right;\n",
       "    }\n",
       "</style>\n",
       "<table border=\"1\" class=\"dataframe\">\n",
       "  <thead>\n",
       "    <tr style=\"text-align: right;\">\n",
       "      <th></th>\n",
       "      <th>Year</th>\n",
       "      <th>Month</th>\n",
       "      <th>Day</th>\n",
       "      <th>Country</th>\n",
       "      <th>City</th>\n",
       "      <th>Latitude</th>\n",
       "      <th>Longitude</th>\n",
       "      <th>Population</th>\n",
       "      <th>Co</th>\n",
       "      <th>No2</th>\n",
       "      <th>...</th>\n",
       "      <th>Wind-speed</th>\n",
       "      <th>Dew</th>\n",
       "      <th>Humidity</th>\n",
       "      <th>Tavg</th>\n",
       "      <th>Tmin</th>\n",
       "      <th>Tmax</th>\n",
       "      <th>Prcp</th>\n",
       "      <th>Wdir</th>\n",
       "      <th>Wspd</th>\n",
       "      <th>Pres</th>\n",
       "    </tr>\n",
       "  </thead>\n",
       "  <tbody>\n",
       "    <tr>\n",
       "      <th>0</th>\n",
       "      <td>2014</td>\n",
       "      <td>12</td>\n",
       "      <td>29</td>\n",
       "      <td>AT</td>\n",
       "      <td>Graz</td>\n",
       "      <td>47.07</td>\n",
       "      <td>15.45</td>\n",
       "      <td>269,997.00</td>\n",
       "      <td>0.10</td>\n",
       "      <td>9.00</td>\n",
       "      <td>...</td>\n",
       "      <td>NaN</td>\n",
       "      <td>NaN</td>\n",
       "      <td>NaN</td>\n",
       "      <td>NaN</td>\n",
       "      <td>NaN</td>\n",
       "      <td>NaN</td>\n",
       "      <td>NaN</td>\n",
       "      <td>NaN</td>\n",
       "      <td>NaN</td>\n",
       "      <td>NaN</td>\n",
       "    </tr>\n",
       "    <tr>\n",
       "      <th>1</th>\n",
       "      <td>2014</td>\n",
       "      <td>12</td>\n",
       "      <td>29</td>\n",
       "      <td>AT</td>\n",
       "      <td>Innsbruck</td>\n",
       "      <td>47.26</td>\n",
       "      <td>11.39</td>\n",
       "      <td>124,579.00</td>\n",
       "      <td>0.10</td>\n",
       "      <td>25.60</td>\n",
       "      <td>...</td>\n",
       "      <td>NaN</td>\n",
       "      <td>NaN</td>\n",
       "      <td>NaN</td>\n",
       "      <td>NaN</td>\n",
       "      <td>NaN</td>\n",
       "      <td>NaN</td>\n",
       "      <td>NaN</td>\n",
       "      <td>NaN</td>\n",
       "      <td>NaN</td>\n",
       "      <td>NaN</td>\n",
       "    </tr>\n",
       "    <tr>\n",
       "      <th>2</th>\n",
       "      <td>2014</td>\n",
       "      <td>12</td>\n",
       "      <td>29</td>\n",
       "      <td>AT</td>\n",
       "      <td>Linz</td>\n",
       "      <td>48.31</td>\n",
       "      <td>14.29</td>\n",
       "      <td>193,814.00</td>\n",
       "      <td>0.10</td>\n",
       "      <td>14.20</td>\n",
       "      <td>...</td>\n",
       "      <td>NaN</td>\n",
       "      <td>NaN</td>\n",
       "      <td>NaN</td>\n",
       "      <td>NaN</td>\n",
       "      <td>NaN</td>\n",
       "      <td>NaN</td>\n",
       "      <td>NaN</td>\n",
       "      <td>NaN</td>\n",
       "      <td>NaN</td>\n",
       "      <td>NaN</td>\n",
       "    </tr>\n",
       "    <tr>\n",
       "      <th>3</th>\n",
       "      <td>2014</td>\n",
       "      <td>12</td>\n",
       "      <td>29</td>\n",
       "      <td>AT</td>\n",
       "      <td>Salzburg</td>\n",
       "      <td>47.80</td>\n",
       "      <td>13.04</td>\n",
       "      <td>146,631.00</td>\n",
       "      <td>0.10</td>\n",
       "      <td>21.10</td>\n",
       "      <td>...</td>\n",
       "      <td>NaN</td>\n",
       "      <td>NaN</td>\n",
       "      <td>NaN</td>\n",
       "      <td>NaN</td>\n",
       "      <td>NaN</td>\n",
       "      <td>NaN</td>\n",
       "      <td>NaN</td>\n",
       "      <td>NaN</td>\n",
       "      <td>NaN</td>\n",
       "      <td>NaN</td>\n",
       "    </tr>\n",
       "    <tr>\n",
       "      <th>4</th>\n",
       "      <td>2014</td>\n",
       "      <td>12</td>\n",
       "      <td>29</td>\n",
       "      <td>AT</td>\n",
       "      <td>Vienna</td>\n",
       "      <td>48.21</td>\n",
       "      <td>16.37</td>\n",
       "      <td>NaN</td>\n",
       "      <td>0.10</td>\n",
       "      <td>9.00</td>\n",
       "      <td>...</td>\n",
       "      <td>NaN</td>\n",
       "      <td>NaN</td>\n",
       "      <td>NaN</td>\n",
       "      <td>NaN</td>\n",
       "      <td>NaN</td>\n",
       "      <td>NaN</td>\n",
       "      <td>NaN</td>\n",
       "      <td>NaN</td>\n",
       "      <td>NaN</td>\n",
       "      <td>NaN</td>\n",
       "    </tr>\n",
       "  </tbody>\n",
       "</table>\n",
       "<p>5 rows × 27 columns</p>\n",
       "</div>"
      ],
      "text/plain": [
       "   Year  Month  Day Country       City  Latitude  Longitude  Population   Co  \\\n",
       "0  2014     12   29      AT       Graz     47.07      15.45  269,997.00 0.10   \n",
       "1  2014     12   29      AT  Innsbruck     47.26      11.39  124,579.00 0.10   \n",
       "2  2014     12   29      AT       Linz     48.31      14.29  193,814.00 0.10   \n",
       "3  2014     12   29      AT   Salzburg     47.80      13.04  146,631.00 0.10   \n",
       "4  2014     12   29      AT     Vienna     48.21      16.37         NaN 0.10   \n",
       "\n",
       "    No2  ...  Wind-speed  Dew  Humidity  Tavg  Tmin  Tmax  Prcp  Wdir  Wspd  \\\n",
       "0  9.00  ...         NaN  NaN       NaN   NaN   NaN   NaN   NaN   NaN   NaN   \n",
       "1 25.60  ...         NaN  NaN       NaN   NaN   NaN   NaN   NaN   NaN   NaN   \n",
       "2 14.20  ...         NaN  NaN       NaN   NaN   NaN   NaN   NaN   NaN   NaN   \n",
       "3 21.10  ...         NaN  NaN       NaN   NaN   NaN   NaN   NaN   NaN   NaN   \n",
       "4  9.00  ...         NaN  NaN       NaN   NaN   NaN   NaN   NaN   NaN   NaN   \n",
       "\n",
       "   Pres  \n",
       "0   NaN  \n",
       "1   NaN  \n",
       "2   NaN  \n",
       "3   NaN  \n",
       "4   NaN  \n",
       "\n",
       "[5 rows x 27 columns]"
      ]
     },
     "execution_count": 4,
     "metadata": {},
     "output_type": "execute_result"
    }
   ],
   "source": [
    "df = pd.read_csv(\"./data/cleaned_data.csv\")\n",
    "df.head()"
   ]
  },
  {
   "cell_type": "code",
   "execution_count": 5,
   "metadata": {},
   "outputs": [
    {
     "data": {
      "text/plain": [
       "Index(['Year', 'Month', 'Day', 'Country', 'City', 'Latitude', 'Longitude',\n",
       "       'Population', 'Co', 'No2', 'O3', 'Pm10', 'Pm25', 'Pressure', 'So2',\n",
       "       'Temperature', 'Wind-gust', 'Wind-speed', 'Dew', 'Humidity', 'Tavg',\n",
       "       'Tmin', 'Tmax', 'Prcp', 'Wdir', 'Wspd', 'Pres'],\n",
       "      dtype='object')"
      ]
     },
     "execution_count": 5,
     "metadata": {},
     "output_type": "execute_result"
    }
   ],
   "source": [
    "df.columns\n",
    "\n",
    "# Some redundant columns still need to be removed from df manually: Temperature, Pressure, Wind-speed"
   ]
  },
  {
   "cell_type": "code",
   "execution_count": 6,
   "metadata": {},
   "outputs": [
    {
     "data": {
      "text/plain": [
       "Index(['Year', 'Month', 'Day', 'Country', 'City', 'Latitude', 'Longitude',\n",
       "       'Population', 'Co', 'No2', 'O3', 'Pm10', 'Pm25', 'So2', 'Wind-gust',\n",
       "       'Dew', 'Humidity', 'Tavg', 'Tmin', 'Tmax', 'Prcp', 'Wdir', 'Wspd',\n",
       "       'Pres'],\n",
       "      dtype='object')"
      ]
     },
     "execution_count": 6,
     "metadata": {},
     "output_type": "execute_result"
    }
   ],
   "source": [
    "# Drop redundant columns\n",
    "\n",
    "df = df.drop(columns=['Temperature', 'Wind-speed', 'Pressure'])\n",
    "df.columns"
   ]
  },
  {
   "cell_type": "code",
   "execution_count": 7,
   "metadata": {},
   "outputs": [],
   "source": [
    "# Function to create overview for dtypes, missing values, unique values\n",
    "\n",
    "def overview(df):\n",
    "    '''\n",
    "    Erstelle einen Überblick über einige Eigenschaften der Spalten eines DataFrames.\n",
    "    VARs\n",
    "        df: Der zu betrachtende DataFrame\n",
    "    RETURNS:\n",
    "        None\n",
    "    '''\n",
    "    display(pd.DataFrame({'dtype': df.dtypes,\n",
    "                          'total': df.count(),\n",
    "                          'missing': df.isna().sum(),\n",
    "                          'missing%': df.isna().mean()*100,\n",
    "                          'n_uniques': df.nunique(),\n",
    "                          'uniques%': df.nunique()/df.shape[0]*100,\n",
    "                          'uniques': [df[col].unique() for col in df.columns]\n",
    "                         }))\n"
   ]
  },
  {
   "cell_type": "code",
   "execution_count": 8,
   "metadata": {},
   "outputs": [
    {
     "data": {
      "text/html": [
       "<div>\n",
       "<style scoped>\n",
       "    .dataframe tbody tr th:only-of-type {\n",
       "        vertical-align: middle;\n",
       "    }\n",
       "\n",
       "    .dataframe tbody tr th {\n",
       "        vertical-align: top;\n",
       "    }\n",
       "\n",
       "    .dataframe thead th {\n",
       "        text-align: right;\n",
       "    }\n",
       "</style>\n",
       "<table border=\"1\" class=\"dataframe\">\n",
       "  <thead>\n",
       "    <tr style=\"text-align: right;\">\n",
       "      <th></th>\n",
       "      <th>dtype</th>\n",
       "      <th>total</th>\n",
       "      <th>missing</th>\n",
       "      <th>missing%</th>\n",
       "      <th>n_uniques</th>\n",
       "      <th>uniques%</th>\n",
       "      <th>uniques</th>\n",
       "    </tr>\n",
       "  </thead>\n",
       "  <tbody>\n",
       "    <tr>\n",
       "      <th>Year</th>\n",
       "      <td>int64</td>\n",
       "      <td>1695041</td>\n",
       "      <td>0</td>\n",
       "      <td>0.00</td>\n",
       "      <td>12</td>\n",
       "      <td>0.00</td>\n",
       "      <td>[2014, 2015, 2016, 2017, 2018, 2019, 2020, 202...</td>\n",
       "    </tr>\n",
       "    <tr>\n",
       "      <th>Month</th>\n",
       "      <td>int64</td>\n",
       "      <td>1695041</td>\n",
       "      <td>0</td>\n",
       "      <td>0.00</td>\n",
       "      <td>12</td>\n",
       "      <td>0.00</td>\n",
       "      <td>[12, 1, 2, 3, 4, 5, 6, 7, 8, 9, 10, 11]</td>\n",
       "    </tr>\n",
       "    <tr>\n",
       "      <th>Day</th>\n",
       "      <td>int64</td>\n",
       "      <td>1695041</td>\n",
       "      <td>0</td>\n",
       "      <td>0.00</td>\n",
       "      <td>31</td>\n",
       "      <td>0.00</td>\n",
       "      <td>[29, 30, 31, 1, 2, 3, 4, 5, 6, 7, 8, 9, 10, 11...</td>\n",
       "    </tr>\n",
       "    <tr>\n",
       "      <th>Country</th>\n",
       "      <td>object</td>\n",
       "      <td>1695041</td>\n",
       "      <td>0</td>\n",
       "      <td>0.00</td>\n",
       "      <td>95</td>\n",
       "      <td>0.01</td>\n",
       "      <td>[AT, AU, BE, BO, BR, CA, CH, CL, CN, CO, CY, C...</td>\n",
       "    </tr>\n",
       "    <tr>\n",
       "      <th>City</th>\n",
       "      <td>object</td>\n",
       "      <td>1695041</td>\n",
       "      <td>0</td>\n",
       "      <td>0.00</td>\n",
       "      <td>616</td>\n",
       "      <td>0.04</td>\n",
       "      <td>[Graz, Innsbruck, Linz, Salzburg, Vienna, Bris...</td>\n",
       "    </tr>\n",
       "    <tr>\n",
       "      <th>Latitude</th>\n",
       "      <td>float64</td>\n",
       "      <td>1692212</td>\n",
       "      <td>2829</td>\n",
       "      <td>0.17</td>\n",
       "      <td>617</td>\n",
       "      <td>0.04</td>\n",
       "      <td>[47.06667, 47.26266, 48.30639, 47.79941, 48.20...</td>\n",
       "    </tr>\n",
       "    <tr>\n",
       "      <th>Longitude</th>\n",
       "      <td>float64</td>\n",
       "      <td>1692212</td>\n",
       "      <td>2829</td>\n",
       "      <td>0.17</td>\n",
       "      <td>616</td>\n",
       "      <td>0.04</td>\n",
       "      <td>[15.45, 11.39454, 14.28611, 13.04399, 16.37208...</td>\n",
       "    </tr>\n",
       "    <tr>\n",
       "      <th>Population</th>\n",
       "      <td>float64</td>\n",
       "      <td>363474</td>\n",
       "      <td>1331567</td>\n",
       "      <td>78.56</td>\n",
       "      <td>1289</td>\n",
       "      <td>0.08</td>\n",
       "      <td>[269997.0, 124579.0, 193814.0, 146631.0, nan, ...</td>\n",
       "    </tr>\n",
       "    <tr>\n",
       "      <th>Co</th>\n",
       "      <td>float64</td>\n",
       "      <td>1063231</td>\n",
       "      <td>631810</td>\n",
       "      <td>37.27</td>\n",
       "      <td>1009</td>\n",
       "      <td>0.06</td>\n",
       "      <td>[0.1, 1.9, 2.1, nan, 2.3, 2.0, 3.4, 5.5, 3.8, ...</td>\n",
       "    </tr>\n",
       "    <tr>\n",
       "      <th>No2</th>\n",
       "      <td>float64</td>\n",
       "      <td>1408781</td>\n",
       "      <td>286260</td>\n",
       "      <td>16.89</td>\n",
       "      <td>1291</td>\n",
       "      <td>0.08</td>\n",
       "      <td>[9.0, 25.6, 14.2, 21.1, 4.6, 0.7, nan, 6.5, 4....</td>\n",
       "    </tr>\n",
       "    <tr>\n",
       "      <th>O3</th>\n",
       "      <td>float64</td>\n",
       "      <td>1320893</td>\n",
       "      <td>374148</td>\n",
       "      <td>22.07</td>\n",
       "      <td>1512</td>\n",
       "      <td>0.09</td>\n",
       "      <td>[nan, 3.7, 4.3, 12.8, 15.2, 21.0, 17.6, 6.1, 2...</td>\n",
       "    </tr>\n",
       "    <tr>\n",
       "      <th>Pm10</th>\n",
       "      <td>float64</td>\n",
       "      <td>1353189</td>\n",
       "      <td>341852</td>\n",
       "      <td>20.17</td>\n",
       "      <td>1186</td>\n",
       "      <td>0.07</td>\n",
       "      <td>[13.0, 25.0, 21.0, 20.0, 11.0, 9.0, 16.0, 14.0...</td>\n",
       "    </tr>\n",
       "    <tr>\n",
       "      <th>Pm25</th>\n",
       "      <td>float64</td>\n",
       "      <td>1432252</td>\n",
       "      <td>262789</td>\n",
       "      <td>15.50</td>\n",
       "      <td>1046</td>\n",
       "      <td>0.06</td>\n",
       "      <td>[nan, 74.0, 65.0, 20.0, 19.0, 13.0, 9.0, 27.0,...</td>\n",
       "    </tr>\n",
       "    <tr>\n",
       "      <th>So2</th>\n",
       "      <td>float64</td>\n",
       "      <td>1162066</td>\n",
       "      <td>532975</td>\n",
       "      <td>31.44</td>\n",
       "      <td>1177</td>\n",
       "      <td>0.07</td>\n",
       "      <td>[1.6, 2.1, 2.6, 1.1, nan, 4.3, 2.9, 5.8, 1.5, ...</td>\n",
       "    </tr>\n",
       "    <tr>\n",
       "      <th>Wind-gust</th>\n",
       "      <td>float64</td>\n",
       "      <td>776096</td>\n",
       "      <td>918945</td>\n",
       "      <td>54.21</td>\n",
       "      <td>597</td>\n",
       "      <td>0.04</td>\n",
       "      <td>[nan, 1.5, 8.8, 1.7, 6.5, 0.9, 15.4, 18.3, 3.4...</td>\n",
       "    </tr>\n",
       "    <tr>\n",
       "      <th>Dew</th>\n",
       "      <td>float64</td>\n",
       "      <td>1000165</td>\n",
       "      <td>694876</td>\n",
       "      <td>40.99</td>\n",
       "      <td>661</td>\n",
       "      <td>0.04</td>\n",
       "      <td>[nan, 16.0, 14.0, 0.5, 2.5, 1.0, 11.0, 18.0, 2...</td>\n",
       "    </tr>\n",
       "    <tr>\n",
       "      <th>Humidity</th>\n",
       "      <td>float64</td>\n",
       "      <td>1306961</td>\n",
       "      <td>388080</td>\n",
       "      <td>22.90</td>\n",
       "      <td>1131</td>\n",
       "      <td>0.07</td>\n",
       "      <td>[nan, 0.0, 100.0, 99.0, 94.0, 84.0, 82.0, 66.0...</td>\n",
       "    </tr>\n",
       "    <tr>\n",
       "      <th>Tavg</th>\n",
       "      <td>float64</td>\n",
       "      <td>1400959</td>\n",
       "      <td>294082</td>\n",
       "      <td>17.35</td>\n",
       "      <td>788</td>\n",
       "      <td>0.05</td>\n",
       "      <td>[nan, -4.0, 25.4, 2.8, 2.2, 1.3, 2.6, 20.9, -2...</td>\n",
       "    </tr>\n",
       "    <tr>\n",
       "      <th>Tmin</th>\n",
       "      <td>float64</td>\n",
       "      <td>1376504</td>\n",
       "      <td>318537</td>\n",
       "      <td>18.79</td>\n",
       "      <td>774</td>\n",
       "      <td>0.05</td>\n",
       "      <td>[nan, -6.4, 15.1, 25.2, 23.7, 13.6, 12.8, 11.2...</td>\n",
       "    </tr>\n",
       "    <tr>\n",
       "      <th>Tmax</th>\n",
       "      <td>float64</td>\n",
       "      <td>1374164</td>\n",
       "      <td>320877</td>\n",
       "      <td>18.93</td>\n",
       "      <td>821</td>\n",
       "      <td>0.05</td>\n",
       "      <td>[nan, 0.4, 37.0, 31.3, 26.9, 22.4, 24.6, 27.9,...</td>\n",
       "    </tr>\n",
       "    <tr>\n",
       "      <th>Prcp</th>\n",
       "      <td>float64</td>\n",
       "      <td>1038543</td>\n",
       "      <td>656498</td>\n",
       "      <td>38.73</td>\n",
       "      <td>1379</td>\n",
       "      <td>0.08</td>\n",
       "      <td>[nan, 0.0, 12.2, 129.4, 6.6, 0.5, 2.8, 3.9, 4....</td>\n",
       "    </tr>\n",
       "    <tr>\n",
       "      <th>Wdir</th>\n",
       "      <td>float64</td>\n",
       "      <td>1169606</td>\n",
       "      <td>525435</td>\n",
       "      <td>31.00</td>\n",
       "      <td>361</td>\n",
       "      <td>0.02</td>\n",
       "      <td>[nan, 18.0, 209.0, 210.0, 205.0, 188.0, 316.0,...</td>\n",
       "    </tr>\n",
       "    <tr>\n",
       "      <th>Wspd</th>\n",
       "      <td>float64</td>\n",
       "      <td>1239023</td>\n",
       "      <td>456018</td>\n",
       "      <td>26.90</td>\n",
       "      <td>654</td>\n",
       "      <td>0.04</td>\n",
       "      <td>[nan, 3.5, 11.5, 17.4, 17.7, 19.5, 18.6, 19.1,...</td>\n",
       "    </tr>\n",
       "    <tr>\n",
       "      <th>Pres</th>\n",
       "      <td>float64</td>\n",
       "      <td>1202982</td>\n",
       "      <td>492059</td>\n",
       "      <td>29.03</td>\n",
       "      <td>914</td>\n",
       "      <td>0.05</td>\n",
       "      <td>[nan, 1033.4, 1034.2, 1035.3, 1034.0, 1016.0, ...</td>\n",
       "    </tr>\n",
       "  </tbody>\n",
       "</table>\n",
       "</div>"
      ],
      "text/plain": [
       "              dtype    total  missing  missing%  n_uniques  uniques%  \\\n",
       "Year          int64  1695041        0      0.00         12      0.00   \n",
       "Month         int64  1695041        0      0.00         12      0.00   \n",
       "Day           int64  1695041        0      0.00         31      0.00   \n",
       "Country      object  1695041        0      0.00         95      0.01   \n",
       "City         object  1695041        0      0.00        616      0.04   \n",
       "Latitude    float64  1692212     2829      0.17        617      0.04   \n",
       "Longitude   float64  1692212     2829      0.17        616      0.04   \n",
       "Population  float64   363474  1331567     78.56       1289      0.08   \n",
       "Co          float64  1063231   631810     37.27       1009      0.06   \n",
       "No2         float64  1408781   286260     16.89       1291      0.08   \n",
       "O3          float64  1320893   374148     22.07       1512      0.09   \n",
       "Pm10        float64  1353189   341852     20.17       1186      0.07   \n",
       "Pm25        float64  1432252   262789     15.50       1046      0.06   \n",
       "So2         float64  1162066   532975     31.44       1177      0.07   \n",
       "Wind-gust   float64   776096   918945     54.21        597      0.04   \n",
       "Dew         float64  1000165   694876     40.99        661      0.04   \n",
       "Humidity    float64  1306961   388080     22.90       1131      0.07   \n",
       "Tavg        float64  1400959   294082     17.35        788      0.05   \n",
       "Tmin        float64  1376504   318537     18.79        774      0.05   \n",
       "Tmax        float64  1374164   320877     18.93        821      0.05   \n",
       "Prcp        float64  1038543   656498     38.73       1379      0.08   \n",
       "Wdir        float64  1169606   525435     31.00        361      0.02   \n",
       "Wspd        float64  1239023   456018     26.90        654      0.04   \n",
       "Pres        float64  1202982   492059     29.03        914      0.05   \n",
       "\n",
       "                                                      uniques  \n",
       "Year        [2014, 2015, 2016, 2017, 2018, 2019, 2020, 202...  \n",
       "Month                 [12, 1, 2, 3, 4, 5, 6, 7, 8, 9, 10, 11]  \n",
       "Day         [29, 30, 31, 1, 2, 3, 4, 5, 6, 7, 8, 9, 10, 11...  \n",
       "Country     [AT, AU, BE, BO, BR, CA, CH, CL, CN, CO, CY, C...  \n",
       "City        [Graz, Innsbruck, Linz, Salzburg, Vienna, Bris...  \n",
       "Latitude    [47.06667, 47.26266, 48.30639, 47.79941, 48.20...  \n",
       "Longitude   [15.45, 11.39454, 14.28611, 13.04399, 16.37208...  \n",
       "Population  [269997.0, 124579.0, 193814.0, 146631.0, nan, ...  \n",
       "Co          [0.1, 1.9, 2.1, nan, 2.3, 2.0, 3.4, 5.5, 3.8, ...  \n",
       "No2         [9.0, 25.6, 14.2, 21.1, 4.6, 0.7, nan, 6.5, 4....  \n",
       "O3          [nan, 3.7, 4.3, 12.8, 15.2, 21.0, 17.6, 6.1, 2...  \n",
       "Pm10        [13.0, 25.0, 21.0, 20.0, 11.0, 9.0, 16.0, 14.0...  \n",
       "Pm25        [nan, 74.0, 65.0, 20.0, 19.0, 13.0, 9.0, 27.0,...  \n",
       "So2         [1.6, 2.1, 2.6, 1.1, nan, 4.3, 2.9, 5.8, 1.5, ...  \n",
       "Wind-gust   [nan, 1.5, 8.8, 1.7, 6.5, 0.9, 15.4, 18.3, 3.4...  \n",
       "Dew         [nan, 16.0, 14.0, 0.5, 2.5, 1.0, 11.0, 18.0, 2...  \n",
       "Humidity    [nan, 0.0, 100.0, 99.0, 94.0, 84.0, 82.0, 66.0...  \n",
       "Tavg        [nan, -4.0, 25.4, 2.8, 2.2, 1.3, 2.6, 20.9, -2...  \n",
       "Tmin        [nan, -6.4, 15.1, 25.2, 23.7, 13.6, 12.8, 11.2...  \n",
       "Tmax        [nan, 0.4, 37.0, 31.3, 26.9, 22.4, 24.6, 27.9,...  \n",
       "Prcp        [nan, 0.0, 12.2, 129.4, 6.6, 0.5, 2.8, 3.9, 4....  \n",
       "Wdir        [nan, 18.0, 209.0, 210.0, 205.0, 188.0, 316.0,...  \n",
       "Wspd        [nan, 3.5, 11.5, 17.4, 17.7, 19.5, 18.6, 19.1,...  \n",
       "Pres        [nan, 1033.4, 1034.2, 1035.3, 1034.0, 1016.0, ...  "
      ]
     },
     "metadata": {},
     "output_type": "display_data"
    }
   ],
   "source": [
    "overview(df)"
   ]
  },
  {
   "cell_type": "code",
   "execution_count": 9,
   "metadata": {},
   "outputs": [
    {
     "name": "stdout",
     "output_type": "stream",
     "text": [
      "Population   78.56\n",
      "Wind-gust    54.21\n",
      "Dew          40.99\n",
      "Prcp         38.73\n",
      "Co           37.27\n",
      "So2          31.44\n",
      "Wdir         31.00\n",
      "Pres         29.03\n",
      "Wspd         26.90\n",
      "Humidity     22.90\n",
      "O3           22.07\n",
      "Pm10         20.17\n",
      "Tmax         18.93\n",
      "Tmin         18.79\n",
      "Tavg         17.35\n",
      "No2          16.89\n",
      "Pm25         15.50\n",
      "Longitude     0.17\n",
      "Latitude      0.17\n",
      "Month         0.00\n",
      "City          0.00\n",
      "Country       0.00\n",
      "Day           0.00\n",
      "Year          0.00\n",
      "dtype: float64\n"
     ]
    }
   ],
   "source": [
    "# Focus on missing values: Sort missing values (descending)\n",
    "\n",
    "missing_percent = df.isna().mean() * 100\n",
    "missing_percent_sorted = missing_percent.sort_values(ascending=False)\n",
    "\n",
    "print(missing_percent_sorted)\n"
   ]
  },
  {
   "cell_type": "code",
   "execution_count": 10,
   "metadata": {},
   "outputs": [
    {
     "name": "stdout",
     "output_type": "stream",
     "text": [
      "Anzahl der entfernten Spalten: 0\n",
      "Übrige Spalten: Index(['Year', 'Month', 'Day', 'Country', 'City', 'Latitude', 'Longitude',\n",
      "       'Co', 'No2', 'O3', 'Pm10', 'Pm25', 'So2', 'Dew', 'Humidity', 'Tavg',\n",
      "       'Tmin', 'Tmax', 'Prcp', 'Wdir', 'Wspd', 'Pres'],\n",
      "      dtype='object')\n"
     ]
    },
    {
     "data": {
      "text/html": [
       "<div>\n",
       "<style scoped>\n",
       "    .dataframe tbody tr th:only-of-type {\n",
       "        vertical-align: middle;\n",
       "    }\n",
       "\n",
       "    .dataframe tbody tr th {\n",
       "        vertical-align: top;\n",
       "    }\n",
       "\n",
       "    .dataframe thead th {\n",
       "        text-align: right;\n",
       "    }\n",
       "</style>\n",
       "<table border=\"1\" class=\"dataframe\">\n",
       "  <thead>\n",
       "    <tr style=\"text-align: right;\">\n",
       "      <th></th>\n",
       "      <th>Year</th>\n",
       "      <th>Month</th>\n",
       "      <th>Day</th>\n",
       "      <th>Country</th>\n",
       "      <th>City</th>\n",
       "      <th>Latitude</th>\n",
       "      <th>Longitude</th>\n",
       "      <th>Co</th>\n",
       "      <th>No2</th>\n",
       "      <th>O3</th>\n",
       "      <th>...</th>\n",
       "      <th>So2</th>\n",
       "      <th>Dew</th>\n",
       "      <th>Humidity</th>\n",
       "      <th>Tavg</th>\n",
       "      <th>Tmin</th>\n",
       "      <th>Tmax</th>\n",
       "      <th>Prcp</th>\n",
       "      <th>Wdir</th>\n",
       "      <th>Wspd</th>\n",
       "      <th>Pres</th>\n",
       "    </tr>\n",
       "  </thead>\n",
       "  <tbody>\n",
       "    <tr>\n",
       "      <th>0</th>\n",
       "      <td>2014</td>\n",
       "      <td>12</td>\n",
       "      <td>29</td>\n",
       "      <td>AT</td>\n",
       "      <td>Graz</td>\n",
       "      <td>47.07</td>\n",
       "      <td>15.45</td>\n",
       "      <td>0.10</td>\n",
       "      <td>9.00</td>\n",
       "      <td>NaN</td>\n",
       "      <td>...</td>\n",
       "      <td>1.60</td>\n",
       "      <td>NaN</td>\n",
       "      <td>NaN</td>\n",
       "      <td>NaN</td>\n",
       "      <td>NaN</td>\n",
       "      <td>NaN</td>\n",
       "      <td>NaN</td>\n",
       "      <td>NaN</td>\n",
       "      <td>NaN</td>\n",
       "      <td>NaN</td>\n",
       "    </tr>\n",
       "    <tr>\n",
       "      <th>1</th>\n",
       "      <td>2014</td>\n",
       "      <td>12</td>\n",
       "      <td>29</td>\n",
       "      <td>AT</td>\n",
       "      <td>Innsbruck</td>\n",
       "      <td>47.26</td>\n",
       "      <td>11.39</td>\n",
       "      <td>0.10</td>\n",
       "      <td>25.60</td>\n",
       "      <td>NaN</td>\n",
       "      <td>...</td>\n",
       "      <td>1.60</td>\n",
       "      <td>NaN</td>\n",
       "      <td>NaN</td>\n",
       "      <td>NaN</td>\n",
       "      <td>NaN</td>\n",
       "      <td>NaN</td>\n",
       "      <td>NaN</td>\n",
       "      <td>NaN</td>\n",
       "      <td>NaN</td>\n",
       "      <td>NaN</td>\n",
       "    </tr>\n",
       "    <tr>\n",
       "      <th>2</th>\n",
       "      <td>2014</td>\n",
       "      <td>12</td>\n",
       "      <td>29</td>\n",
       "      <td>AT</td>\n",
       "      <td>Linz</td>\n",
       "      <td>48.31</td>\n",
       "      <td>14.29</td>\n",
       "      <td>0.10</td>\n",
       "      <td>14.20</td>\n",
       "      <td>NaN</td>\n",
       "      <td>...</td>\n",
       "      <td>2.10</td>\n",
       "      <td>NaN</td>\n",
       "      <td>NaN</td>\n",
       "      <td>NaN</td>\n",
       "      <td>NaN</td>\n",
       "      <td>NaN</td>\n",
       "      <td>NaN</td>\n",
       "      <td>NaN</td>\n",
       "      <td>NaN</td>\n",
       "      <td>NaN</td>\n",
       "    </tr>\n",
       "    <tr>\n",
       "      <th>3</th>\n",
       "      <td>2014</td>\n",
       "      <td>12</td>\n",
       "      <td>29</td>\n",
       "      <td>AT</td>\n",
       "      <td>Salzburg</td>\n",
       "      <td>47.80</td>\n",
       "      <td>13.04</td>\n",
       "      <td>0.10</td>\n",
       "      <td>21.10</td>\n",
       "      <td>NaN</td>\n",
       "      <td>...</td>\n",
       "      <td>2.10</td>\n",
       "      <td>NaN</td>\n",
       "      <td>NaN</td>\n",
       "      <td>NaN</td>\n",
       "      <td>NaN</td>\n",
       "      <td>NaN</td>\n",
       "      <td>NaN</td>\n",
       "      <td>NaN</td>\n",
       "      <td>NaN</td>\n",
       "      <td>NaN</td>\n",
       "    </tr>\n",
       "    <tr>\n",
       "      <th>4</th>\n",
       "      <td>2014</td>\n",
       "      <td>12</td>\n",
       "      <td>29</td>\n",
       "      <td>AT</td>\n",
       "      <td>Vienna</td>\n",
       "      <td>48.21</td>\n",
       "      <td>16.37</td>\n",
       "      <td>0.10</td>\n",
       "      <td>9.00</td>\n",
       "      <td>NaN</td>\n",
       "      <td>...</td>\n",
       "      <td>2.60</td>\n",
       "      <td>NaN</td>\n",
       "      <td>NaN</td>\n",
       "      <td>NaN</td>\n",
       "      <td>NaN</td>\n",
       "      <td>NaN</td>\n",
       "      <td>NaN</td>\n",
       "      <td>NaN</td>\n",
       "      <td>NaN</td>\n",
       "      <td>NaN</td>\n",
       "    </tr>\n",
       "  </tbody>\n",
       "</table>\n",
       "<p>5 rows × 22 columns</p>\n",
       "</div>"
      ],
      "text/plain": [
       "   Year  Month  Day Country       City  Latitude  Longitude   Co   No2  O3  \\\n",
       "0  2014     12   29      AT       Graz     47.07      15.45 0.10  9.00 NaN   \n",
       "1  2014     12   29      AT  Innsbruck     47.26      11.39 0.10 25.60 NaN   \n",
       "2  2014     12   29      AT       Linz     48.31      14.29 0.10 14.20 NaN   \n",
       "3  2014     12   29      AT   Salzburg     47.80      13.04 0.10 21.10 NaN   \n",
       "4  2014     12   29      AT     Vienna     48.21      16.37 0.10  9.00 NaN   \n",
       "\n",
       "   ...  So2  Dew  Humidity  Tavg  Tmin  Tmax  Prcp  Wdir  Wspd  Pres  \n",
       "0  ... 1.60  NaN       NaN   NaN   NaN   NaN   NaN   NaN   NaN   NaN  \n",
       "1  ... 1.60  NaN       NaN   NaN   NaN   NaN   NaN   NaN   NaN   NaN  \n",
       "2  ... 2.10  NaN       NaN   NaN   NaN   NaN   NaN   NaN   NaN   NaN  \n",
       "3  ... 2.10  NaN       NaN   NaN   NaN   NaN   NaN   NaN   NaN   NaN  \n",
       "4  ... 2.60  NaN       NaN   NaN   NaN   NaN   NaN   NaN   NaN   NaN  \n",
       "\n",
       "[5 rows x 22 columns]"
      ]
     },
     "execution_count": 10,
     "metadata": {},
     "output_type": "execute_result"
    }
   ],
   "source": [
    "# Remove all columns with more than 50% missing values\n",
    "# Note: This removes population data entirely!\n",
    "\n",
    "df = df.loc[:, missing_percent <= 50]\n",
    "\n",
    "# Print what has changed\n",
    "print(f\"Anzahl der entfernten Spalten: {df.shape[1] - df.shape[1]}\")\n",
    "print(\"Übrige Spalten:\", df.columns)\n",
    "\n",
    "df.head()"
   ]
  },
  {
   "cell_type": "code",
   "execution_count": 11,
   "metadata": {},
   "outputs": [
    {
     "data": {
      "text/plain": [
       "Index(['Year', 'Month', 'Day', 'Country', 'City', 'Latitude', 'Longitude',\n",
       "       'Co', 'No2', 'O3', 'Pm10', 'Pm25', 'So2', 'Dew', 'Humidity', 'Tavg',\n",
       "       'Tmin', 'Tmax', 'Prcp', 'Wdir', 'Wspd', 'Pres'],\n",
       "      dtype='object')"
      ]
     },
     "execution_count": 11,
     "metadata": {},
     "output_type": "execute_result"
    }
   ],
   "source": [
    "df.columns"
   ]
  },
  {
   "cell_type": "code",
   "execution_count": 12,
   "metadata": {},
   "outputs": [
    {
     "data": {
      "text/plain": [
       "(1695041, 22)"
      ]
     },
     "execution_count": 12,
     "metadata": {},
     "output_type": "execute_result"
    }
   ],
   "source": [
    "df.shape"
   ]
  },
  {
   "cell_type": "markdown",
   "metadata": {},
   "source": [
    "# Deskriptive Statistik\n",
    "\n",
    "Dataset has many variables. Statistics will be split up into pollutants, weather and location"
   ]
  },
  {
   "cell_type": "markdown",
   "metadata": {},
   "source": [
    "# Analysis of data on pollutants"
   ]
  },
  {
   "cell_type": "code",
   "execution_count": 13,
   "metadata": {},
   "outputs": [
    {
     "data": {
      "text/html": [
       "<div>\n",
       "<style scoped>\n",
       "    .dataframe tbody tr th:only-of-type {\n",
       "        vertical-align: middle;\n",
       "    }\n",
       "\n",
       "    .dataframe tbody tr th {\n",
       "        vertical-align: top;\n",
       "    }\n",
       "\n",
       "    .dataframe thead th {\n",
       "        text-align: right;\n",
       "    }\n",
       "</style>\n",
       "<table border=\"1\" class=\"dataframe\">\n",
       "  <thead>\n",
       "    <tr style=\"text-align: right;\">\n",
       "      <th></th>\n",
       "      <th>count</th>\n",
       "      <th>mean</th>\n",
       "      <th>std</th>\n",
       "      <th>min</th>\n",
       "      <th>25%</th>\n",
       "      <th>50%</th>\n",
       "      <th>75%</th>\n",
       "      <th>max</th>\n",
       "    </tr>\n",
       "  </thead>\n",
       "  <tbody>\n",
       "    <tr>\n",
       "      <th>Co</th>\n",
       "      <td>1,063,231.00</td>\n",
       "      <td>4.77</td>\n",
       "      <td>8.89</td>\n",
       "      <td>0.00</td>\n",
       "      <td>1.40</td>\n",
       "      <td>3.40</td>\n",
       "      <td>5.60</td>\n",
       "      <td>500.00</td>\n",
       "    </tr>\n",
       "    <tr>\n",
       "      <th>Pm25</th>\n",
       "      <td>1,432,252.00</td>\n",
       "      <td>53.25</td>\n",
       "      <td>41.04</td>\n",
       "      <td>0.00</td>\n",
       "      <td>25.00</td>\n",
       "      <td>42.00</td>\n",
       "      <td>67.00</td>\n",
       "      <td>999.00</td>\n",
       "    </tr>\n",
       "    <tr>\n",
       "      <th>Pm10</th>\n",
       "      <td>1,353,189.00</td>\n",
       "      <td>27.07</td>\n",
       "      <td>27.69</td>\n",
       "      <td>0.00</td>\n",
       "      <td>12.00</td>\n",
       "      <td>19.00</td>\n",
       "      <td>34.00</td>\n",
       "      <td>999.00</td>\n",
       "    </tr>\n",
       "    <tr>\n",
       "      <th>So2</th>\n",
       "      <td>1,162,066.00</td>\n",
       "      <td>3.98</td>\n",
       "      <td>8.82</td>\n",
       "      <td>0.00</td>\n",
       "      <td>1.20</td>\n",
       "      <td>2.50</td>\n",
       "      <td>4.30</td>\n",
       "      <td>500.00</td>\n",
       "    </tr>\n",
       "    <tr>\n",
       "      <th>No2</th>\n",
       "      <td>1,408,781.00</td>\n",
       "      <td>9.76</td>\n",
       "      <td>10.50</td>\n",
       "      <td>0.00</td>\n",
       "      <td>4.60</td>\n",
       "      <td>7.50</td>\n",
       "      <td>12.40</td>\n",
       "      <td>500.00</td>\n",
       "    </tr>\n",
       "    <tr>\n",
       "      <th>O3</th>\n",
       "      <td>1,320,893.00</td>\n",
       "      <td>20.46</td>\n",
       "      <td>15.39</td>\n",
       "      <td>0.00</td>\n",
       "      <td>11.80</td>\n",
       "      <td>19.90</td>\n",
       "      <td>27.20</td>\n",
       "      <td>500.00</td>\n",
       "    </tr>\n",
       "  </tbody>\n",
       "</table>\n",
       "</div>"
      ],
      "text/plain": [
       "            count  mean   std  min   25%   50%   75%    max\n",
       "Co   1,063,231.00  4.77  8.89 0.00  1.40  3.40  5.60 500.00\n",
       "Pm25 1,432,252.00 53.25 41.04 0.00 25.00 42.00 67.00 999.00\n",
       "Pm10 1,353,189.00 27.07 27.69 0.00 12.00 19.00 34.00 999.00\n",
       "So2  1,162,066.00  3.98  8.82 0.00  1.20  2.50  4.30 500.00\n",
       "No2  1,408,781.00  9.76 10.50 0.00  4.60  7.50 12.40 500.00\n",
       "O3   1,320,893.00 20.46 15.39 0.00 11.80 19.90 27.20 500.00"
      ]
     },
     "execution_count": 13,
     "metadata": {},
     "output_type": "execute_result"
    }
   ],
   "source": [
    "# Pollutants\n",
    "\n",
    "pollutant_cols = [\"Co\", \"Pm25\", \"Pm10\", \"So2\", \"No2\", \"O3\"]\n",
    "df[pollutant_cols].describe().T\n"
   ]
  },
  {
   "cell_type": "markdown",
   "metadata": {},
   "source": [
    "Einige Messwerte wie Co = 500 oder Pm25 = 999 deuten auf Platzhalter für fehlende oder ungültige Daten hin und verzerren die Verteilung erheblich. Diese Werte könnten fehlerhaft sein und sollten aus der Analyse ausgeschlossen werden."
   ]
  },
  {
   "cell_type": "markdown",
   "metadata": {},
   "source": [
    "## Analyse und Bereinigung der Pm25-Werte"
   ]
  },
  {
   "cell_type": "code",
   "execution_count": 14,
   "metadata": {},
   "outputs": [
    {
     "data": {
      "text/plain": [
       "array([999., 981., 834., 832., 831., 826., 825., 824., 818., 816.])"
      ]
     },
     "execution_count": 14,
     "metadata": {},
     "output_type": "execute_result"
    }
   ],
   "source": [
    "df[\"Pm25\"].sort_values(ascending=False).unique() [:10]"
   ]
  },
  {
   "cell_type": "code",
   "execution_count": 15,
   "metadata": {},
   "outputs": [
    {
     "data": {
      "image/png": "[encoded data removed]",
      "text/plain": [
       "<Figure size 640x480 with 1 Axes>"
      ]
     },
     "metadata": {},
     "output_type": "display_data"
    }
   ],
   "source": [
    "sns.stripplot(x=df[\"Pm25\"], size=2, jitter=0.3)\n",
    "plt.title(\"PM2.5 Einzelwerte\")\n",
    "plt.xlabel(\"PM2.5-Konzentration (µg/m³)\")\n",
    "plt.grid(True);"
   ]
  },
  {
   "cell_type": "markdown",
   "metadata": {},
   "source": [
    "### Interpretation der Pm25-Werte VOR Bereinigung des Datensatzes\n",
    "Bei der visuellen Analyse der PM2.5-Messwerte fällt eine ungewöhnliche Häufung im Bereich zwischen 816 und 834 µg/m³ auf, begleitet von vereinzelten extrem hohen Werten bei 981 und 999 µg/m³. Diese Werte liegen deutlich außerhalb des realistischen Messbereichs und deuten auf Messfehler, Platzhalterwerte oder systembedingte Übertragungsfehler hin. Um die Analyse nicht zu verzerren, werden daher alle PM2.5-Werte ab 816 µg/m³ ausgeschlossen."
   ]
  },
  {
   "cell_type": "code",
   "execution_count": 16,
   "metadata": {},
   "outputs": [],
   "source": [
    "df = df[df[\"Pm25\"] < 816]"
   ]
  },
  {
   "cell_type": "code",
   "execution_count": 17,
   "metadata": {},
   "outputs": [
    {
     "data": {
      "text/plain": [
       "<Axes: xlabel='Pm25', ylabel='Count'>"
      ]
     },
     "execution_count": 17,
     "metadata": {},
     "output_type": "execute_result"
    },
    {
     "data": {
      "image/png": "[encoded data removed]",
      "text/plain": [
       "<Figure size 640x480 with 1 Axes>"
      ]
     },
     "metadata": {},
     "output_type": "display_data"
    }
   ],
   "source": [
    "sns.histplot(df[\"Pm25\"], bins=100)"
   ]
  },
  {
   "cell_type": "markdown",
   "metadata": {},
   "source": [
    "Die Verteilung der Messwerte wirkt nach dem Entfernen der unrealistischen Werte rechtsschief. Überprüfung mit Vergleich Mean/Median."
   ]
  },
  {
   "cell_type": "code",
   "execution_count": 18,
   "metadata": {},
   "outputs": [
    {
     "name": "stdout",
     "output_type": "stream",
     "text": [
      "Mittelwert (mean): 53.19\n",
      "Median:            42.00\n"
     ]
    }
   ],
   "source": [
    "mean_pm25 = df[\"Pm25\"].mean()\n",
    "median_pm25 = df[\"Pm25\"].median()\n",
    "\n",
    "print(f\"Mittelwert (mean): {mean_pm25:.2f}\")\n",
    "print(f\"Median:            {median_pm25:.2f}\")"
   ]
  },
  {
   "cell_type": "code",
   "execution_count": 19,
   "metadata": {},
   "outputs": [
    {
     "name": "stdout",
     "output_type": "stream",
     "text": [
      "Schiefe (Skewness): 2.26\n"
     ]
    }
   ],
   "source": [
    "from scipy.stats import skew\n",
    "\n",
    "skew_pm25 = skew(df[\"Pm25\"].dropna())\n",
    "print(f\"Schiefe (Skewness): {skew_pm25:.2f}\")\n",
    "\n",
    "# Skewness > 0 --> rechtsschiefe Verteilung."
   ]
  },
  {
   "cell_type": "markdown",
   "metadata": {},
   "source": [
    "### Verteilung der bereinigten PM2.5-Werte (Fazit)\n",
    "\n",
    "Die PM2.5-Werte zeigen eine deutlich rechtsschiefe Verteilung. Der Mittelwert liegt bei 53,19 µg/m³, während der Median nur 42,00 µg/m³ beträgt. Zusätzlich ergibt die Berechnung der Schiefe (Skewness) einen Wert von 2,26, was auf eine starke Asymmetrie hindeutet.\n",
    "Diese rechtsschiefe Verteilung bedeutet, dass der Großteil der Messwerte im unteren Bereich liegt, während einige wenige sehr hohe Werte den Mittelwert nach oben ziehen.\n",
    "\n",
    "Um die Analyse nicht durch technisch bedingte Ausreißer zu verzerren, wurden alle PM2.5-Werte ab 816 µg/m³ ausgeschlossen, da sie deutlich außerhalb des natürlichen Messbereichs liegen und teilweise systematisch auftraten."
   ]
  },
  {
   "cell_type": "markdown",
   "metadata": {},
   "source": [
    "## Analyse und Bereinigung der CO-Werte"
   ]
  },
  {
   "cell_type": "code",
   "execution_count": 20,
   "metadata": {},
   "outputs": [
    {
     "data": {
      "text/plain": [
       "array([500. , 495. , 489.2, 485.5, 478.1, 426.4, 420.4, 416. , 397.6,\n",
       "       380.8, 357.3, 341. , 324.4, 315.5, 308.6, 288. , 277.1, 271.8,\n",
       "       270.3, 267.4, 266.4, 266. , 263.4, 262.7, 262.4, 262. , 261.4,\n",
       "       261. , 260.7, 259.4])"
      ]
     },
     "execution_count": 20,
     "metadata": {},
     "output_type": "execute_result"
    }
   ],
   "source": [
    "df[\"Co\"].sort_values(ascending=False).unique()[:30]"
   ]
  },
  {
   "cell_type": "code",
   "execution_count": 21,
   "metadata": {},
   "outputs": [
    {
     "data": {
      "image/png": "[encoded data removed]",
      "text/plain": [
       "<Figure size 640x480 with 1 Axes>"
      ]
     },
     "metadata": {},
     "output_type": "display_data"
    }
   ],
   "source": [
    "sns.stripplot(x=df[\"Co\"], size=2, jitter=0.3)\n",
    "plt.title(\"CO Einzelwerte\")\n",
    "plt.xlabel(\"CO-Konzentration (µg/m³)\")\n",
    "plt.grid(True);"
   ]
  },
  {
   "cell_type": "markdown",
   "metadata": {},
   "source": [
    "### Interpretation der Pm25-Werte VOR Bereinigung des Datensatzes\n",
    "Es gibt zwar einen eindeutigen Platzhalterwert, aber alle anderen Messwerte könnten theoretisch realistisch sein. Überprüfung der Verteilung mit Mean/Median, um den Cutoff festzulegen."
   ]
  },
  {
   "cell_type": "code",
   "execution_count": 22,
   "metadata": {},
   "outputs": [
    {
     "name": "stdout",
     "output_type": "stream",
     "text": [
      "Mittelwert (mean): 4.74\n",
      "Median:            3.40\n",
      "Schiefe:           29.64\n"
     ]
    }
   ],
   "source": [
    "mean_co = df[\"Co\"].mean()\n",
    "median_co = df[\"Co\"].median()\n",
    "skew_co = skew(df[\"Co\"].dropna())\n",
    "\n",
    "print(f\"Mittelwert (mean): {mean_co:.2f}\")\n",
    "print(f\"Median:            {median_co:.2f}\")\n",
    "print(f\"Schiefe:           {skew_co:.2f}\")"
   ]
  },
  {
   "cell_type": "markdown",
   "metadata": {},
   "source": [
    "### Bereinigte CO-Werte (Begründung)\n",
    "\n",
    "Die Verteilung der CO-Messwerte ist stark rechtsschief, mit einem Mittelwert von 4.74 µg/m³, einem Median von 3.40 µg/m³ und einer Schiefe von 29.64. Dies deutet auf extreme Ausreißer hin, die den Mittelwert erheblich verzerren. Zusätzlich tritt eine auffällige Häufung exakt bei 500 µg/m³ auf, was sehr wahrscheinlich ein technischer Platzhalterwert ist.\n",
    "\n",
    "Um die Aussagekraft der Analyse zu erhöhen, wurden daher alle Werte ab 300 µg/m³ ausgeschlossen. Dieser Grenzwert liegt deutlich oberhalb der Hauptverteilung und entfernt sowohl technische Ausreißer als auch extreme Einzelwerte."
   ]
  },
  {
   "cell_type": "code",
   "execution_count": 23,
   "metadata": {},
   "outputs": [],
   "source": [
    "df = df[df[\"Co\"] != 500]  # Platzhalter raus\n",
    "df = df[df[\"Co\"] < 300]   # Extremwerte raus"
   ]
  },
  {
   "cell_type": "markdown",
   "metadata": {},
   "source": [
    "## Analyse und Bereinigung der No2-Werte"
   ]
  },
  {
   "cell_type": "code",
   "execution_count": 25,
   "metadata": {},
   "outputs": [
    {
     "data": {
      "image/png": "[encoded data removed]",
      "text/plain": [
       "<Figure size 640x480 with 1 Axes>"
      ]
     },
     "metadata": {},
     "output_type": "display_data"
    }
   ],
   "source": [
    "sns.stripplot(x=df[\"No2\"], size=2, jitter=0.3)\n",
    "plt.title(\"NO₂ Einzelwerte\")\n",
    "plt.xlabel(\"NO₂-Konzentration (µg/m³)\")\n",
    "plt.grid(True);"
   ]
  },
  {
   "cell_type": "code",
   "execution_count": 26,
   "metadata": {},
   "outputs": [
    {
     "name": "stdout",
     "output_type": "stream",
     "text": [
      "Mittelwert (mean): 10.55\n",
      "Median:            8.40\n",
      "Schiefe:           10.08\n"
     ]
    }
   ],
   "source": [
    "mean_no2 = df[\"No2\"].mean()\n",
    "median_no2 = df[\"No2\"].median()\n",
    "skew_no2 = skew(df[\"No2\"].dropna())\n",
    "\n",
    "print(f\"Mittelwert (mean): {mean_no2:.2f}\")\n",
    "print(f\"Median:            {median_no2:.2f}\")\n",
    "print(f\"Schiefe:           {skew_no2:.2f}\")"
   ]
  },
  {
   "cell_type": "code",
   "execution_count": 27,
   "metadata": {},
   "outputs": [
    {
     "data": {
      "text/plain": [
       "<Axes: xlabel='No2', ylabel='Count'>"
      ]
     },
     "execution_count": 27,
     "metadata": {},
     "output_type": "execute_result"
    },
    {
     "data": {
      "image/png": "[encoded data removed]",
      "text/plain": [
       "<Figure size 640x480 with 1 Axes>"
      ]
     },
     "metadata": {},
     "output_type": "display_data"
    }
   ],
   "source": [
    "sns.histplot(df[\"No2\"], bins=100)"
   ]
  },
  {
   "cell_type": "code",
   "execution_count": 28,
   "metadata": {},
   "outputs": [],
   "source": [
    "df = df[df[\"No2\"] < 300]"
   ]
  },
  {
   "cell_type": "markdown",
   "metadata": {},
   "source": [
    "### Bereinigung der NO₂-Werte\n",
    "Die NO₂-Werte zeigen eine stark rechtsschiefe Verteilung, mit einem Mittelwert von 10.55 µg/m³, einem Median von 8.40 µg/m³ und einer Schiefe von 10.08. Die große Mehrheit der Messwerte liegt unterhalb von 120 µg/m³, während einzelne Ausreißer bis 425 µg/m³ reichen. \n",
    "\n",
    "Zusätzlich tritt eine auffällige Häufung bei 500 µg/m³ auf, was sehr wahrscheinlich auf technische Platzhalterwerte zurückzuführen ist.\n",
    "Um die Analyse nicht durch extreme Einzelwerte zu verzerren, wurden alle NO₂-Werte ab 300 µg/m³ ausgeschlossen."
   ]
  },
  {
   "cell_type": "code",
   "execution_count": 29,
   "metadata": {},
   "outputs": [
    {
     "data": {
      "text/plain": [
       "count   931,947.00\n",
       "mean         10.53\n",
       "std           8.56\n",
       "min           0.00\n",
       "25%           5.00\n",
       "50%           8.40\n",
       "75%          13.70\n",
       "max         180.00\n",
       "Name: No2, dtype: float64"
      ]
     },
     "execution_count": 29,
     "metadata": {},
     "output_type": "execute_result"
    }
   ],
   "source": [
    "df[\"No2\"].describe()"
   ]
  },
  {
   "cell_type": "markdown",
   "metadata": {},
   "source": [
    "## Analyse und Bereinigung der So2-Werte"
   ]
  },
  {
   "cell_type": "code",
   "execution_count": 32,
   "metadata": {},
   "outputs": [
    {
     "data": {
      "image/png": "[encoded data removed]",
      "text/plain": [
       "<Figure size 640x480 with 1 Axes>"
      ]
     },
     "metadata": {},
     "output_type": "display_data"
    }
   ],
   "source": [
    "sns.stripplot(x=df[\"So2\"], size=2, jitter=0.3)\n",
    "plt.title(\"SO₂ Einzelwerte\")\n",
    "plt.xlabel(\"SO₂-Konzentration (µg/m³)\")\n",
    "plt.grid(True);"
   ]
  },
  {
   "cell_type": "code",
   "execution_count": 33,
   "metadata": {},
   "outputs": [
    {
     "name": "stdout",
     "output_type": "stream",
     "text": [
      "Mittelwert (mean): 4.10\n",
      "Median:            2.60\n",
      "Schiefe:           10.45\n"
     ]
    }
   ],
   "source": [
    "mean_so2 = df[\"So2\"].mean()\n",
    "median_so2 = df[\"So2\"].median()\n",
    "skew_so2 = skew(df[\"So2\"].dropna())\n",
    "\n",
    "print(f\"Mittelwert (mean): {mean_so2:.2f}\")\n",
    "print(f\"Median:            {median_so2:.2f}\")\n",
    "print(f\"Schiefe:           {skew_so2:.2f}\")"
   ]
  },
  {
   "cell_type": "code",
   "execution_count": 34,
   "metadata": {},
   "outputs": [],
   "source": [
    "df = df[df[\"So2\"] < 300]"
   ]
  },
  {
   "cell_type": "markdown",
   "metadata": {},
   "source": [
    "### Bereinigung der SO₂-Werte\n",
    "Die Verteilung der Schwefeldioxid-Werte ist stark rechtsschief, mit einem Mittelwert von 4.10 µg/m³, einem Median von 2.60 µg/m³ und einer Schiefe von 10.45. Die große Mehrheit der Messwerte liegt unterhalb von 80 µg/m³, darüber hinaus treten vereinzelt höhere Werte auf – einige davon sind durchaus plausibel.\n",
    "\n",
    "Auffällig ist jedoch eine Datenlücke im Bereich von 300 bis 400 µg/m³, gefolgt von insgesamt neun vereinzelten Extremwerten oberhalb von 400, von denen zwei exakt bei 500 µg/m³ liegen. Diese Muster deuten auf technisch bedingte Ausreißer oder Platzhalterwerte hin.\n",
    "Um die Aussagekraft der Analyse zu erhöhen, wurden daher alle SO₂-Werte ab 300 µg/m³ ausgeschlossen."
   ]
  },
  {
   "cell_type": "markdown",
   "metadata": {},
   "source": [
    "## Analyse und Bereinigung der O3-Werte"
   ]
  },
  {
   "cell_type": "code",
   "execution_count": 36,
   "metadata": {},
   "outputs": [
    {
     "data": {
      "image/png": "[encoded data removed]",
      "text/plain": [
       "<Figure size 640x480 with 1 Axes>"
      ]
     },
     "metadata": {},
     "output_type": "display_data"
    }
   ],
   "source": [
    "sns.stripplot(x=df[\"O3\"], size=2, jitter=0.3)\n",
    "plt.title(\"O3 Einzelwerte\")\n",
    "plt.xlabel(\"O3-Konzentration (µg/m³)\")\n",
    "plt.grid(True);"
   ]
  },
  {
   "cell_type": "code",
   "execution_count": 37,
   "metadata": {},
   "outputs": [
    {
     "name": "stdout",
     "output_type": "stream",
     "text": [
      "Mittelwert (mean): 20.01\n",
      "Median:            19.10\n",
      "Schiefe:           7.71\n"
     ]
    }
   ],
   "source": [
    "mean_o3 = df[\"O3\"].mean()\n",
    "median_o3 = df[\"O3\"].median()\n",
    "skew_o3 = skew(df[\"O3\"].dropna())\n",
    "\n",
    "print(f\"Mittelwert (mean): {mean_o3:.2f}\")\n",
    "print(f\"Median:            {median_o3:.2f}\")\n",
    "print(f\"Schiefe:           {skew_o3:.2f}\")"
   ]
  },
  {
   "cell_type": "code",
   "execution_count": 38,
   "metadata": {},
   "outputs": [
    {
     "data": {
      "text/plain": [
       "<Axes: xlabel='O3', ylabel='Count'>"
      ]
     },
     "execution_count": 38,
     "metadata": {},
     "output_type": "execute_result"
    },
    {
     "data": {
      "image/png": "[encoded data removed]",
      "text/plain": [
       "<Figure size 640x480 with 1 Axes>"
      ]
     },
     "metadata": {},
     "output_type": "display_data"
    }
   ],
   "source": [
    "sns.histplot(df[\"O3\"], bins=100)"
   ]
  },
  {
   "cell_type": "code",
   "execution_count": 39,
   "metadata": {},
   "outputs": [],
   "source": [
    "df = df[df[\"O3\"] < 380]"
   ]
  },
  {
   "cell_type": "markdown",
   "metadata": {},
   "source": [
    "### Bereinigung der Ozon-Werte (O₃)\n",
    "Die Verteilung der Ozonwerte zeigt eine deutliche Rechtsschiefe mit einem Mittelwert von 20.01 µg/m³, einem Median von 19.10 µg/m³ und einer Schiefe von 7.71. Die große Mehrheit der Messwerte liegt unterhalb von 100 µg/m³, während vereinzelte Extremwerte bis ca. 320 µg/m³ auftreten, die jedoch noch plausibel erscheinen.\n",
    "\n",
    "Auffällig ist eine systematische Häufung im Bereich zwischen 380 und 390 µg/m³, die auf eine technisch bedingte Obergrenze oder einen Messfehler hinweist. Zusätzlich treten vereinzelte Werte beim Maximalwert von 500 µg/m³ auf, was stark auf einen Platzhalterwert schließen lässt.\n",
    "\n",
    "Um die Analyse nicht durch solche systematischen Ausreißer zu verzerren, wurden daher alle O₃-Werte ab 380 µg/m³ aus dem Datensatz ausgeschlossen."
   ]
  },
  {
   "cell_type": "markdown",
   "metadata": {},
   "source": [
    "## Analyse und Bereinigung der Pm10-Werte"
   ]
  },
  {
   "cell_type": "code",
   "execution_count": 41,
   "metadata": {},
   "outputs": [
    {
     "data": {
      "image/png": "[encoded data removed]",
      "text/plain": [
       "<Figure size 640x480 with 1 Axes>"
      ]
     },
     "metadata": {},
     "output_type": "display_data"
    }
   ],
   "source": [
    "sns.stripplot(x=df[\"Pm10\"], size=2, jitter=0.3)\n",
    "plt.title(\"Pm10 Einzelwerte\")\n",
    "plt.xlabel(\"Pm10-Konzentration (µg/m³)\")\n",
    "plt.grid(True);"
   ]
  },
  {
   "cell_type": "code",
   "execution_count": 44,
   "metadata": {},
   "outputs": [
    {
     "data": {
      "text/plain": [
       "count   672,084.00\n",
       "mean         32.43\n",
       "std          30.27\n",
       "min           0.00\n",
       "25%          14.00\n",
       "50%          24.00\n",
       "75%          43.00\n",
       "max         999.00\n",
       "Name: Pm10, dtype: float64"
      ]
     },
     "execution_count": 44,
     "metadata": {},
     "output_type": "execute_result"
    }
   ],
   "source": [
    "df[\"Pm10\"].describe()"
   ]
  },
  {
   "cell_type": "code",
   "execution_count": 43,
   "metadata": {},
   "outputs": [
    {
     "name": "stdout",
     "output_type": "stream",
     "text": [
      "Mittelwert (mean): 32.43\n",
      "Median:            24.00\n",
      "Schiefe:           7.17\n"
     ]
    }
   ],
   "source": [
    "mean_pm10 = df[\"Pm10\"].mean()\n",
    "median_pm10 = df[\"Pm10\"].median()\n",
    "skew_pm10 = skew(df[\"Pm10\"].dropna())\n",
    "\n",
    "print(f\"Mittelwert (mean): {mean_pm10:.2f}\")\n",
    "print(f\"Median:            {median_pm10:.2f}\")\n",
    "print(f\"Schiefe:           {skew_pm10:.2f}\")"
   ]
  },
  {
   "cell_type": "code",
   "execution_count": 45,
   "metadata": {},
   "outputs": [
    {
     "data": {
      "text/plain": [
       "<Axes: xlabel='O3', ylabel='Count'>"
      ]
     },
     "execution_count": 45,
     "metadata": {},
     "output_type": "execute_result"
    },
    {
     "data": {
      "image/png": "[encoded data removed]",
      "text/plain": [
       "<Figure size 640x480 with 1 Axes>"
      ]
     },
     "metadata": {},
     "output_type": "display_data"
    }
   ],
   "source": [
    "sns.histplot(df[\"O3\"], bins=100)"
   ]
  },
  {
   "cell_type": "code",
   "execution_count": null,
   "metadata": {},
   "outputs": [],
   "source": [
    "# Der Cutoff bei PM10 ist nicht so eindeutig zu setzen wie bei den anderen Schadstoffen. Es wären zusätzliche Berechnungen sinnvoll."
   ]
  },
  {
   "cell_type": "code",
   "execution_count": 48,
   "metadata": {},
   "outputs": [
    {
     "data": {
      "text/plain": [
       "Pm10\n",
       "827.00     1\n",
       "830.00     1\n",
       "831.00     1\n",
       "840.00     1\n",
       "843.00     1\n",
       "849.00     1\n",
       "861.00     1\n",
       "865.00     1\n",
       "867.00    40\n",
       "869.00     1\n",
       "872.00     1\n",
       "878.00     1\n",
       "880.00     5\n",
       "882.00    15\n",
       "890.00     1\n",
       "956.00     1\n",
       "983.00     1\n",
       "999.00    33\n",
       "Name: count, dtype: int64"
      ]
     },
     "execution_count": 48,
     "metadata": {},
     "output_type": "execute_result"
    }
   ],
   "source": [
    "# Wo beginnt die Häufung bei der breiten Linie im Ausreißerbereich (ca. 820-840)?\n",
    "\n",
    "df[\"Pm10\"].value_counts().loc[lambda x: x.index > 820].sort_index()\n"
   ]
  },
  {
   "cell_type": "code",
   "execution_count": null,
   "metadata": {},
   "outputs": [
    {
     "data": {
      "image/png": "[encoded data removed]",
      "text/plain": [
       "<Figure size 640x480 with 1 Axes>"
      ]
     },
     "metadata": {},
     "output_type": "display_data"
    }
   ],
   "source": [
    "# \"Datenmauer\" plotten (nicht wirklich nötig, aber \"Nice to have\" für Leute, die gerne Visualisierungen mögen...)\n",
    "\n",
    "high_values = df[\"Pm10\"][df[\"Pm10\"] > 800]\n",
    "sns.histplot(high_values, binwidth=1)\n",
    "plt.title(\"Häufigkeit der PM10-Werte > 800\")\n",
    "plt.xlabel(\"PM10-Wert (µg/m³)\")\n",
    "plt.ylabel(\"Anzahl\")\n",
    "plt.grid(True)\n",
    "plt.show()\n"
   ]
  },
  {
   "cell_type": "code",
   "execution_count": 52,
   "metadata": {},
   "outputs": [],
   "source": [
    "df = df[df[\"Pm10\"] < 867]"
   ]
  },
  {
   "cell_type": "markdown",
   "metadata": {},
   "source": [
    "### Bereinigung der PM10-Werte\n",
    "Die PM10-Werte zeigen eine deutlich rechtsschiefe Verteilung mit einem Mittelwert von 32.43 µg/m³, einem Median von 24.00 µg/m³ und einer Schiefe von 7.17. Der größte Teil der Messwerte liegt unterhalb von 200 µg/m³, mit einer kontinuierlich abnehmenden Dichte bis in den Bereich von ca. 850 µg/m³.\n",
    "\n",
    "Eine detaillierte Analyse der Einzelwertverteilung ergab jedoch eine auffällige Häufung von Messwerten im Bereich 867–882 µg/m³, insbesondere 40 Messungen mit dem identischen Wert 867. Diese systematische Häufung spricht stark für einen technisch bedingten Fehler oder künstlich begrenzte Wertebereiche. Zusätzlich tritt der Platzhalterwert 999 33 Mal auf.\n",
    "\n",
    "Um die Analyse nicht durch diese systematischen Verzerrungen zu beeinflussen, wurden alle PM10-Werte ab 867 µg/m³ aus dem Datensatz ausgeschlossen."
   ]
  },
  {
   "cell_type": "markdown",
   "metadata": {},
   "source": [
    "# ACHTUNG!!!\n",
    "Bevor ich weitermache, mit Alf klären, wie die Werte aus df ausgeschlossen wurden: Nur die Werte oder jeweils die gesamte Zeile? Und klären was sinnvoller ist. Und fragen wie wir mir NaN-Werten umgehen oder ob die schön entfernt wurden. ich glaube nämlich, die sind nich drin."
   ]
  },
  {
   "cell_type": "code",
   "execution_count": 50,
   "metadata": {},
   "outputs": [
    {
     "data": {
      "text/html": [
       "<div>\n",
       "<style scoped>\n",
       "    .dataframe tbody tr th:only-of-type {\n",
       "        vertical-align: middle;\n",
       "    }\n",
       "\n",
       "    .dataframe tbody tr th {\n",
       "        vertical-align: top;\n",
       "    }\n",
       "\n",
       "    .dataframe thead th {\n",
       "        text-align: right;\n",
       "    }\n",
       "</style>\n",
       "<table border=\"1\" class=\"dataframe\">\n",
       "  <thead>\n",
       "    <tr style=\"text-align: right;\">\n",
       "      <th></th>\n",
       "      <th>Year</th>\n",
       "      <th>Month</th>\n",
       "      <th>Day</th>\n",
       "      <th>Country</th>\n",
       "      <th>City</th>\n",
       "      <th>Latitude</th>\n",
       "      <th>Longitude</th>\n",
       "      <th>Co</th>\n",
       "      <th>No2</th>\n",
       "      <th>O3</th>\n",
       "      <th>...</th>\n",
       "      <th>So2</th>\n",
       "      <th>Dew</th>\n",
       "      <th>Humidity</th>\n",
       "      <th>Tavg</th>\n",
       "      <th>Tmin</th>\n",
       "      <th>Tmax</th>\n",
       "      <th>Prcp</th>\n",
       "      <th>Wdir</th>\n",
       "      <th>Wspd</th>\n",
       "      <th>Pres</th>\n",
       "    </tr>\n",
       "  </thead>\n",
       "  <tbody>\n",
       "    <tr>\n",
       "      <th>406486</th>\n",
       "      <td>2019</td>\n",
       "      <td>2</td>\n",
       "      <td>1</td>\n",
       "      <td>TH</td>\n",
       "      <td>Bangkok</td>\n",
       "      <td>13.75</td>\n",
       "      <td>100.50</td>\n",
       "      <td>0.10</td>\n",
       "      <td>10.40</td>\n",
       "      <td>11.50</td>\n",
       "      <td>...</td>\n",
       "      <td>1.10</td>\n",
       "      <td>21.00</td>\n",
       "      <td>0.00</td>\n",
       "      <td>29.50</td>\n",
       "      <td>26.50</td>\n",
       "      <td>34.00</td>\n",
       "      <td>NaN</td>\n",
       "      <td>NaN</td>\n",
       "      <td>2.10</td>\n",
       "      <td>1,013.10</td>\n",
       "    </tr>\n",
       "    <tr>\n",
       "      <th>140837</th>\n",
       "      <td>2016</td>\n",
       "      <td>4</td>\n",
       "      <td>7</td>\n",
       "      <td>CN</td>\n",
       "      <td>Hefei</td>\n",
       "      <td>31.86</td>\n",
       "      <td>117.28</td>\n",
       "      <td>6.40</td>\n",
       "      <td>11.50</td>\n",
       "      <td>23.60</td>\n",
       "      <td>...</td>\n",
       "      <td>5.10</td>\n",
       "      <td>NaN</td>\n",
       "      <td>NaN</td>\n",
       "      <td>15.80</td>\n",
       "      <td>10.70</td>\n",
       "      <td>21.00</td>\n",
       "      <td>26.20</td>\n",
       "      <td>NaN</td>\n",
       "      <td>8.30</td>\n",
       "      <td>1,014.20</td>\n",
       "    </tr>\n",
       "    <tr>\n",
       "      <th>1342515</th>\n",
       "      <td>2023</td>\n",
       "      <td>3</td>\n",
       "      <td>23</td>\n",
       "      <td>JP</td>\n",
       "      <td>Okayama</td>\n",
       "      <td>34.65</td>\n",
       "      <td>133.93</td>\n",
       "      <td>4.50</td>\n",
       "      <td>10.20</td>\n",
       "      <td>21.60</td>\n",
       "      <td>...</td>\n",
       "      <td>4.30</td>\n",
       "      <td>15.60</td>\n",
       "      <td>93.30</td>\n",
       "      <td>16.90</td>\n",
       "      <td>15.70</td>\n",
       "      <td>18.40</td>\n",
       "      <td>25.90</td>\n",
       "      <td>136.00</td>\n",
       "      <td>9.50</td>\n",
       "      <td>1,006.20</td>\n",
       "    </tr>\n",
       "    <tr>\n",
       "      <th>304085</th>\n",
       "      <td>2018</td>\n",
       "      <td>2</td>\n",
       "      <td>1</td>\n",
       "      <td>CN</td>\n",
       "      <td>Nanning</td>\n",
       "      <td>22.82</td>\n",
       "      <td>108.32</td>\n",
       "      <td>8.20</td>\n",
       "      <td>22.00</td>\n",
       "      <td>30.50</td>\n",
       "      <td>...</td>\n",
       "      <td>7.60</td>\n",
       "      <td>NaN</td>\n",
       "      <td>NaN</td>\n",
       "      <td>11.10</td>\n",
       "      <td>4.50</td>\n",
       "      <td>14.40</td>\n",
       "      <td>NaN</td>\n",
       "      <td>NaN</td>\n",
       "      <td>8.60</td>\n",
       "      <td>1,023.50</td>\n",
       "    </tr>\n",
       "    <tr>\n",
       "      <th>619989</th>\n",
       "      <td>2020</td>\n",
       "      <td>1</td>\n",
       "      <td>11</td>\n",
       "      <td>GB</td>\n",
       "      <td>London</td>\n",
       "      <td>42.98</td>\n",
       "      <td>-81.23</td>\n",
       "      <td>3.70</td>\n",
       "      <td>7.80</td>\n",
       "      <td>21.00</td>\n",
       "      <td>...</td>\n",
       "      <td>1.40</td>\n",
       "      <td>5.50</td>\n",
       "      <td>76.00</td>\n",
       "      <td>8.10</td>\n",
       "      <td>5.00</td>\n",
       "      <td>9.60</td>\n",
       "      <td>NaN</td>\n",
       "      <td>210.00</td>\n",
       "      <td>23.90</td>\n",
       "      <td>1,023.90</td>\n",
       "    </tr>\n",
       "    <tr>\n",
       "      <th>445469</th>\n",
       "      <td>2019</td>\n",
       "      <td>4</td>\n",
       "      <td>8</td>\n",
       "      <td>TH</td>\n",
       "      <td>Chiang mai</td>\n",
       "      <td>18.79</td>\n",
       "      <td>98.98</td>\n",
       "      <td>0.10</td>\n",
       "      <td>9.30</td>\n",
       "      <td>17.40</td>\n",
       "      <td>...</td>\n",
       "      <td>1.10</td>\n",
       "      <td>13.50</td>\n",
       "      <td>0.00</td>\n",
       "      <td>30.90</td>\n",
       "      <td>22.90</td>\n",
       "      <td>39.00</td>\n",
       "      <td>NaN</td>\n",
       "      <td>NaN</td>\n",
       "      <td>5.00</td>\n",
       "      <td>1,009.40</td>\n",
       "    </tr>\n",
       "    <tr>\n",
       "      <th>930926</th>\n",
       "      <td>2021</td>\n",
       "      <td>4</td>\n",
       "      <td>11</td>\n",
       "      <td>CN</td>\n",
       "      <td>Jieyang</td>\n",
       "      <td>23.54</td>\n",
       "      <td>116.37</td>\n",
       "      <td>6.40</td>\n",
       "      <td>8.70</td>\n",
       "      <td>43.90</td>\n",
       "      <td>...</td>\n",
       "      <td>4.60</td>\n",
       "      <td>15.00</td>\n",
       "      <td>72.00</td>\n",
       "      <td>21.40</td>\n",
       "      <td>16.00</td>\n",
       "      <td>29.00</td>\n",
       "      <td>NaN</td>\n",
       "      <td>88.00</td>\n",
       "      <td>8.10</td>\n",
       "      <td>1,019.30</td>\n",
       "    </tr>\n",
       "    <tr>\n",
       "      <th>210169</th>\n",
       "      <td>2017</td>\n",
       "      <td>2</td>\n",
       "      <td>5</td>\n",
       "      <td>BG</td>\n",
       "      <td>Sofia</td>\n",
       "      <td>42.70</td>\n",
       "      <td>23.32</td>\n",
       "      <td>0.10</td>\n",
       "      <td>20.50</td>\n",
       "      <td>4.40</td>\n",
       "      <td>...</td>\n",
       "      <td>0.80</td>\n",
       "      <td>NaN</td>\n",
       "      <td>NaN</td>\n",
       "      <td>3.30</td>\n",
       "      <td>0.00</td>\n",
       "      <td>12.90</td>\n",
       "      <td>1.50</td>\n",
       "      <td>NaN</td>\n",
       "      <td>7.10</td>\n",
       "      <td>1,011.10</td>\n",
       "    </tr>\n",
       "    <tr>\n",
       "      <th>310216</th>\n",
       "      <td>2018</td>\n",
       "      <td>2</td>\n",
       "      <td>12</td>\n",
       "      <td>IN</td>\n",
       "      <td>Chennai</td>\n",
       "      <td>13.09</td>\n",
       "      <td>80.28</td>\n",
       "      <td>7.90</td>\n",
       "      <td>5.90</td>\n",
       "      <td>11.80</td>\n",
       "      <td>...</td>\n",
       "      <td>2.90</td>\n",
       "      <td>NaN</td>\n",
       "      <td>NaN</td>\n",
       "      <td>NaN</td>\n",
       "      <td>NaN</td>\n",
       "      <td>NaN</td>\n",
       "      <td>NaN</td>\n",
       "      <td>NaN</td>\n",
       "      <td>NaN</td>\n",
       "      <td>NaN</td>\n",
       "    </tr>\n",
       "    <tr>\n",
       "      <th>647712</th>\n",
       "      <td>2020</td>\n",
       "      <td>2</td>\n",
       "      <td>21</td>\n",
       "      <td>JP</td>\n",
       "      <td>Okayama</td>\n",
       "      <td>34.65</td>\n",
       "      <td>133.93</td>\n",
       "      <td>6.70</td>\n",
       "      <td>13.90</td>\n",
       "      <td>20.80</td>\n",
       "      <td>...</td>\n",
       "      <td>5.80</td>\n",
       "      <td>NaN</td>\n",
       "      <td>NaN</td>\n",
       "      <td>8.60</td>\n",
       "      <td>0.40</td>\n",
       "      <td>14.30</td>\n",
       "      <td>0.00</td>\n",
       "      <td>98.00</td>\n",
       "      <td>7.80</td>\n",
       "      <td>1,033.80</td>\n",
       "    </tr>\n",
       "    <tr>\n",
       "      <th>1001223</th>\n",
       "      <td>2021</td>\n",
       "      <td>7</td>\n",
       "      <td>19</td>\n",
       "      <td>BA</td>\n",
       "      <td>Sarajevo</td>\n",
       "      <td>43.85</td>\n",
       "      <td>18.36</td>\n",
       "      <td>2.00</td>\n",
       "      <td>11.50</td>\n",
       "      <td>20.40</td>\n",
       "      <td>...</td>\n",
       "      <td>13.20</td>\n",
       "      <td>17.00</td>\n",
       "      <td>90.50</td>\n",
       "      <td>20.20</td>\n",
       "      <td>17.50</td>\n",
       "      <td>23.40</td>\n",
       "      <td>NaN</td>\n",
       "      <td>356.00</td>\n",
       "      <td>2.10</td>\n",
       "      <td>1,010.90</td>\n",
       "    </tr>\n",
       "    <tr>\n",
       "      <th>451554</th>\n",
       "      <td>2019</td>\n",
       "      <td>4</td>\n",
       "      <td>19</td>\n",
       "      <td>DE</td>\n",
       "      <td>Potsdam</td>\n",
       "      <td>52.40</td>\n",
       "      <td>13.07</td>\n",
       "      <td>0.10</td>\n",
       "      <td>9.20</td>\n",
       "      <td>42.30</td>\n",
       "      <td>...</td>\n",
       "      <td>2.30</td>\n",
       "      <td>NaN</td>\n",
       "      <td>33.00</td>\n",
       "      <td>15.40</td>\n",
       "      <td>7.90</td>\n",
       "      <td>24.00</td>\n",
       "      <td>0.00</td>\n",
       "      <td>82.00</td>\n",
       "      <td>15.50</td>\n",
       "      <td>1,030.20</td>\n",
       "    </tr>\n",
       "    <tr>\n",
       "      <th>1565345</th>\n",
       "      <td>2024</td>\n",
       "      <td>7</td>\n",
       "      <td>22</td>\n",
       "      <td>PL</td>\n",
       "      <td>Wrocław</td>\n",
       "      <td>51.10</td>\n",
       "      <td>17.03</td>\n",
       "      <td>0.10</td>\n",
       "      <td>15.70</td>\n",
       "      <td>31.80</td>\n",
       "      <td>...</td>\n",
       "      <td>4.90</td>\n",
       "      <td>NaN</td>\n",
       "      <td>85.70</td>\n",
       "      <td>NaN</td>\n",
       "      <td>NaN</td>\n",
       "      <td>NaN</td>\n",
       "      <td>NaN</td>\n",
       "      <td>NaN</td>\n",
       "      <td>NaN</td>\n",
       "      <td>NaN</td>\n",
       "    </tr>\n",
       "    <tr>\n",
       "      <th>276194</th>\n",
       "      <td>2017</td>\n",
       "      <td>6</td>\n",
       "      <td>10</td>\n",
       "      <td>US</td>\n",
       "      <td>San francisco</td>\n",
       "      <td>37.77</td>\n",
       "      <td>-122.42</td>\n",
       "      <td>2.80</td>\n",
       "      <td>2.80</td>\n",
       "      <td>22.50</td>\n",
       "      <td>...</td>\n",
       "      <td>0.50</td>\n",
       "      <td>NaN</td>\n",
       "      <td>NaN</td>\n",
       "      <td>NaN</td>\n",
       "      <td>NaN</td>\n",
       "      <td>NaN</td>\n",
       "      <td>NaN</td>\n",
       "      <td>NaN</td>\n",
       "      <td>NaN</td>\n",
       "      <td>NaN</td>\n",
       "    </tr>\n",
       "    <tr>\n",
       "      <th>1291491</th>\n",
       "      <td>2022</td>\n",
       "      <td>12</td>\n",
       "      <td>23</td>\n",
       "      <td>US</td>\n",
       "      <td>Oakland</td>\n",
       "      <td>37.80</td>\n",
       "      <td>-122.27</td>\n",
       "      <td>5.60</td>\n",
       "      <td>13.40</td>\n",
       "      <td>6.40</td>\n",
       "      <td>...</td>\n",
       "      <td>0.30</td>\n",
       "      <td>NaN</td>\n",
       "      <td>82.50</td>\n",
       "      <td>NaN</td>\n",
       "      <td>NaN</td>\n",
       "      <td>NaN</td>\n",
       "      <td>NaN</td>\n",
       "      <td>NaN</td>\n",
       "      <td>NaN</td>\n",
       "      <td>NaN</td>\n",
       "    </tr>\n",
       "    <tr>\n",
       "      <th>624499</th>\n",
       "      <td>2020</td>\n",
       "      <td>1</td>\n",
       "      <td>18</td>\n",
       "      <td>CA</td>\n",
       "      <td>Hamilton</td>\n",
       "      <td>-37.78</td>\n",
       "      <td>175.28</td>\n",
       "      <td>2.20</td>\n",
       "      <td>8.00</td>\n",
       "      <td>17.60</td>\n",
       "      <td>...</td>\n",
       "      <td>1.20</td>\n",
       "      <td>NaN</td>\n",
       "      <td>83.50</td>\n",
       "      <td>NaN</td>\n",
       "      <td>NaN</td>\n",
       "      <td>NaN</td>\n",
       "      <td>NaN</td>\n",
       "      <td>NaN</td>\n",
       "      <td>NaN</td>\n",
       "      <td>NaN</td>\n",
       "    </tr>\n",
       "    <tr>\n",
       "      <th>1407415</th>\n",
       "      <td>2023</td>\n",
       "      <td>7</td>\n",
       "      <td>25</td>\n",
       "      <td>IN</td>\n",
       "      <td>Muzaffarnagar</td>\n",
       "      <td>29.47</td>\n",
       "      <td>77.70</td>\n",
       "      <td>6.10</td>\n",
       "      <td>3.00</td>\n",
       "      <td>14.60</td>\n",
       "      <td>...</td>\n",
       "      <td>2.90</td>\n",
       "      <td>27.50</td>\n",
       "      <td>64.70</td>\n",
       "      <td>NaN</td>\n",
       "      <td>NaN</td>\n",
       "      <td>NaN</td>\n",
       "      <td>NaN</td>\n",
       "      <td>NaN</td>\n",
       "      <td>NaN</td>\n",
       "      <td>NaN</td>\n",
       "    </tr>\n",
       "    <tr>\n",
       "      <th>926625</th>\n",
       "      <td>2021</td>\n",
       "      <td>4</td>\n",
       "      <td>5</td>\n",
       "      <td>CN</td>\n",
       "      <td>Nanning</td>\n",
       "      <td>22.82</td>\n",
       "      <td>108.32</td>\n",
       "      <td>8.20</td>\n",
       "      <td>8.70</td>\n",
       "      <td>10.60</td>\n",
       "      <td>...</td>\n",
       "      <td>3.60</td>\n",
       "      <td>15.00</td>\n",
       "      <td>88.00</td>\n",
       "      <td>17.30</td>\n",
       "      <td>14.70</td>\n",
       "      <td>19.20</td>\n",
       "      <td>1.80</td>\n",
       "      <td>20.00</td>\n",
       "      <td>9.00</td>\n",
       "      <td>1,018.10</td>\n",
       "    </tr>\n",
       "    <tr>\n",
       "      <th>751152</th>\n",
       "      <td>2020</td>\n",
       "      <td>7</td>\n",
       "      <td>23</td>\n",
       "      <td>FR</td>\n",
       "      <td>Nantes</td>\n",
       "      <td>47.22</td>\n",
       "      <td>-1.55</td>\n",
       "      <td>0.10</td>\n",
       "      <td>4.50</td>\n",
       "      <td>37.90</td>\n",
       "      <td>...</td>\n",
       "      <td>1.10</td>\n",
       "      <td>9.50</td>\n",
       "      <td>42.00</td>\n",
       "      <td>22.30</td>\n",
       "      <td>15.00</td>\n",
       "      <td>28.50</td>\n",
       "      <td>0.00</td>\n",
       "      <td>336.00</td>\n",
       "      <td>9.40</td>\n",
       "      <td>1,017.70</td>\n",
       "    </tr>\n",
       "    <tr>\n",
       "      <th>1215687</th>\n",
       "      <td>2022</td>\n",
       "      <td>8</td>\n",
       "      <td>22</td>\n",
       "      <td>JP</td>\n",
       "      <td>Osaka</td>\n",
       "      <td>34.69</td>\n",
       "      <td>135.50</td>\n",
       "      <td>2.30</td>\n",
       "      <td>7.50</td>\n",
       "      <td>19.20</td>\n",
       "      <td>...</td>\n",
       "      <td>2.90</td>\n",
       "      <td>24.20</td>\n",
       "      <td>78.00</td>\n",
       "      <td>29.30</td>\n",
       "      <td>26.30</td>\n",
       "      <td>34.20</td>\n",
       "      <td>0.00</td>\n",
       "      <td>12.00</td>\n",
       "      <td>8.50</td>\n",
       "      <td>1,005.00</td>\n",
       "    </tr>\n",
       "  </tbody>\n",
       "</table>\n",
       "<p>20 rows × 22 columns</p>\n",
       "</div>"
      ],
      "text/plain": [
       "         Year  Month  Day Country           City  Latitude  Longitude   Co  \\\n",
       "406486   2019      2    1      TH        Bangkok     13.75     100.50 0.10   \n",
       "140837   2016      4    7      CN          Hefei     31.86     117.28 6.40   \n",
       "1342515  2023      3   23      JP        Okayama     34.65     133.93 4.50   \n",
       "304085   2018      2    1      CN        Nanning     22.82     108.32 8.20   \n",
       "619989   2020      1   11      GB         London     42.98     -81.23 3.70   \n",
       "445469   2019      4    8      TH     Chiang mai     18.79      98.98 0.10   \n",
       "930926   2021      4   11      CN        Jieyang     23.54     116.37 6.40   \n",
       "210169   2017      2    5      BG          Sofia     42.70      23.32 0.10   \n",
       "310216   2018      2   12      IN        Chennai     13.09      80.28 7.90   \n",
       "647712   2020      2   21      JP        Okayama     34.65     133.93 6.70   \n",
       "1001223  2021      7   19      BA       Sarajevo     43.85      18.36 2.00   \n",
       "451554   2019      4   19      DE        Potsdam     52.40      13.07 0.10   \n",
       "1565345  2024      7   22      PL        Wrocław     51.10      17.03 0.10   \n",
       "276194   2017      6   10      US  San francisco     37.77    -122.42 2.80   \n",
       "1291491  2022     12   23      US        Oakland     37.80    -122.27 5.60   \n",
       "624499   2020      1   18      CA       Hamilton    -37.78     175.28 2.20   \n",
       "1407415  2023      7   25      IN  Muzaffarnagar     29.47      77.70 6.10   \n",
       "926625   2021      4    5      CN        Nanning     22.82     108.32 8.20   \n",
       "751152   2020      7   23      FR         Nantes     47.22      -1.55 0.10   \n",
       "1215687  2022      8   22      JP          Osaka     34.69     135.50 2.30   \n",
       "\n",
       "          No2    O3  ...   So2   Dew  Humidity  Tavg  Tmin  Tmax  Prcp   Wdir  \\\n",
       "406486  10.40 11.50  ...  1.10 21.00      0.00 29.50 26.50 34.00   NaN    NaN   \n",
       "140837  11.50 23.60  ...  5.10   NaN       NaN 15.80 10.70 21.00 26.20    NaN   \n",
       "1342515 10.20 21.60  ...  4.30 15.60     93.30 16.90 15.70 18.40 25.90 136.00   \n",
       "304085  22.00 30.50  ...  7.60   NaN       NaN 11.10  4.50 14.40   NaN    NaN   \n",
       "619989   7.80 21.00  ...  1.40  5.50     76.00  8.10  5.00  9.60   NaN 210.00   \n",
       "445469   9.30 17.40  ...  1.10 13.50      0.00 30.90 22.90 39.00   NaN    NaN   \n",
       "930926   8.70 43.90  ...  4.60 15.00     72.00 21.40 16.00 29.00   NaN  88.00   \n",
       "210169  20.50  4.40  ...  0.80   NaN       NaN  3.30  0.00 12.90  1.50    NaN   \n",
       "310216   5.90 11.80  ...  2.90   NaN       NaN   NaN   NaN   NaN   NaN    NaN   \n",
       "647712  13.90 20.80  ...  5.80   NaN       NaN  8.60  0.40 14.30  0.00  98.00   \n",
       "1001223 11.50 20.40  ... 13.20 17.00     90.50 20.20 17.50 23.40   NaN 356.00   \n",
       "451554   9.20 42.30  ...  2.30   NaN     33.00 15.40  7.90 24.00  0.00  82.00   \n",
       "1565345 15.70 31.80  ...  4.90   NaN     85.70   NaN   NaN   NaN   NaN    NaN   \n",
       "276194   2.80 22.50  ...  0.50   NaN       NaN   NaN   NaN   NaN   NaN    NaN   \n",
       "1291491 13.40  6.40  ...  0.30   NaN     82.50   NaN   NaN   NaN   NaN    NaN   \n",
       "624499   8.00 17.60  ...  1.20   NaN     83.50   NaN   NaN   NaN   NaN    NaN   \n",
       "1407415  3.00 14.60  ...  2.90 27.50     64.70   NaN   NaN   NaN   NaN    NaN   \n",
       "926625   8.70 10.60  ...  3.60 15.00     88.00 17.30 14.70 19.20  1.80  20.00   \n",
       "751152   4.50 37.90  ...  1.10  9.50     42.00 22.30 15.00 28.50  0.00 336.00   \n",
       "1215687  7.50 19.20  ...  2.90 24.20     78.00 29.30 26.30 34.20  0.00  12.00   \n",
       "\n",
       "         Wspd     Pres  \n",
       "406486   2.10 1,013.10  \n",
       "140837   8.30 1,014.20  \n",
       "1342515  9.50 1,006.20  \n",
       "304085   8.60 1,023.50  \n",
       "619989  23.90 1,023.90  \n",
       "445469   5.00 1,009.40  \n",
       "930926   8.10 1,019.30  \n",
       "210169   7.10 1,011.10  \n",
       "310216    NaN      NaN  \n",
       "647712   7.80 1,033.80  \n",
       "1001223  2.10 1,010.90  \n",
       "451554  15.50 1,030.20  \n",
       "1565345   NaN      NaN  \n",
       "276194    NaN      NaN  \n",
       "1291491   NaN      NaN  \n",
       "624499    NaN      NaN  \n",
       "1407415   NaN      NaN  \n",
       "926625   9.00 1,018.10  \n",
       "751152   9.40 1,017.70  \n",
       "1215687  8.50 1,005.00  \n",
       "\n",
       "[20 rows x 22 columns]"
      ]
     },
     "execution_count": 50,
     "metadata": {},
     "output_type": "execute_result"
    }
   ],
   "source": [
    "df.sample(20)"
   ]
  },
  {
   "cell_type": "code",
   "execution_count": null,
   "metadata": {},
   "outputs": [],
   "source": [
    "# # Heatmap of missing values by city (NOT useful for big df; can be used with selection of up to 100 cities)\n",
    "\n",
    "# missing_by_city = df.groupby('City').apply(lambda x: x.isnull().sum())\n",
    "# missing_by_city_percent = missing_by_city / len(df) * 100  # Prozentsatz der fehlenden Werte\n",
    "\n",
    "# missing_by_city_percent\n",
    "\n",
    "# plt.figure(figsize=(12, 30))\n",
    "# sns.heatmap(missing_by_city, cmap=\"Reds\", annot=True, fmt=\".0f\", linewidths=0.5)\n",
    "# plt.title(\"Fehlende Werte pro Stadt und Messwert\")\n",
    "# plt.xlabel(\"Messwerte\")\n",
    "# plt.ylabel(\"Stadt\")\n",
    "# plt.xticks(rotation=90)\n",
    "# plt.show()\n"
   ]
  },
  {
   "cell_type": "code",
   "execution_count": null,
   "metadata": {},
   "outputs": [],
   "source": [
    "# Collinearity of features? (heatmap)\n",
    "\n",
    "# > 0.8 = strong correlation\n",
    "# 0.5 - 0.8 = moderate correlation\n",
    "# < 0.5 = weal correlation\n",
    "\n",
    "# calculate correlation matrix (Pearson)\n",
    "corr_matrix = df.select_dtypes(include=['number']).corr()\n",
    "\n",
    "# Display heatmap\n",
    "plt.figure(figsize=(12, 8))\n",
    "sns.heatmap(corr_matrix, annot=True, fmt=\".2f\", cmap=\"coolwarm\", center=0, linewidths=0.5)\n",
    "plt.title(\"Feature correlations (Pearson)\");\n"
   ]
  },
  {
   "cell_type": "code",
   "execution_count": null,
   "metadata": {},
   "outputs": [],
   "source": [
    "# Show only strong and moderate correaltions (>|0.5|); leave out main diagonal (1.0)\n",
    "\n",
    "# Calculte matrix\n",
    "corr_matrix = df.select_dtypes(include=['number']).corr()\n",
    "\n",
    "# extract only strong and moderate correlations (>|0.5|); leave out main diagonal (1.0)\n",
    "strong_corrs = corr_matrix[(corr_matrix.abs() > 0.4) & (corr_matrix.abs() < 1.0)]\n",
    "\n",
    "# Convert df to long list (.stack) and reset index\n",
    "strong_corrs = strong_corrs.stack().reset_index()\n",
    "strong_corrs.columns = [\"Feature 1\", \"Feature 2\", \"Korrelation\"]\n",
    "\n",
    "# remove redundant rows (note: the \"<\"-sign here refers to alphabetic order of feature names, not to numbers of any kind!)\n",
    "strong_corrs = strong_corrs.loc[strong_corrs[\"Feature 1\"] < strong_corrs[\"Feature 2\"]]\n",
    "\n",
    "strong_corrs"
   ]
  },
  {
   "cell_type": "code",
   "execution_count": null,
   "metadata": {},
   "outputs": [],
   "source": [
    "# Results: On a global scale, there are only expected correlations\n",
    "\n",
    "# Weather features:\n",
    "# The three temperature features (Tavg, Tmin, Tmax) are naturally almost identical\n",
    "# Temperature and Dew are highly correlated - which is to be expected as the dew point is immediately dependent on temperature\n",
    "# Weak negative correlation between latitude and temperature: Cities further north of the equator are typically colder.\n",
    "# Moderate negative correlation between dew point and pressure: Low pressure --> high dew point, i.e. more moisture in the air during low-pressure weather. However, other factors like altutude and local weather should be considered before drawing conclusions.\n",
    "\n",
    "# Air pollutants\n",
    "# Moderate correlation (0.45) between nitrogen dioxide and medium-sized fine dust particles. Possible reasons: Both are side products of industrial combustion processes. Also, NO2 can react with ammonia or sulfur dioxide to produce secondary fine dust particles (salts like ammonium nitrate or ammonium sulphate)"
   ]
  },
  {
   "cell_type": "code",
   "execution_count": null,
   "metadata": {},
   "outputs": [],
   "source": [
    "# Plot changes throughout the year. Example: Analyse CO concentration per month\n",
    "\n",
    "# calculate mean CO per month\n",
    "monthly_co = df.groupby(\"Month\")[\"Co\"].mean()\n",
    "# monthly_co = df.groupby(\"Month\")[\"Co\"].mean()\n",
    "\n",
    "# create plot\n",
    "plt.figure(figsize=(10, 5))\n",
    "plt.plot(monthly_co.index, monthly_co.values, marker='o', linestyle='-')\n",
    "plt.xlabel(\"Monat\")\n",
    "plt.ylabel(\"Mittlere CO-Konzentration\")\n",
    "plt.title(\"Durchschnittliche CO-Konzentration pro Monat\")\n",
    "plt.xticks(range(1, 13), [\"Jan\", \"Feb\", \"Mär\", \"Apr\", \"Mai\", \"Jun\", \"Jul\", \"Aug\", \"Sep\", \"Okt\", \"Nov\", \"Dez\"])\n",
    "plt.grid(True);"
   ]
  },
  {
   "cell_type": "code",
   "execution_count": null,
   "metadata": {},
   "outputs": [],
   "source": [
    "# Trennung der Daten in Nord- und Südhalbkugel\n",
    "\n",
    "# Definieren, welche Länder zur Nord- und Südhalbkugel gehören\n",
    "northern_hemisphere_countries = {\n",
    "    \"US\", \"CA\", \"MX\", \"DE\", \"FR\", \"GB\", \"RU\", \"CN\", \"JP\", \"IN\", \"IT\", \"ES\", \"PL\", \"TR\", \"IR\", \"KR\", \"UA\", \"NL\", \"BE\",\n",
    "    \"CH\", \"SE\", \"AT\", \"NO\", \"FI\", \"DK\", \"GR\", \"CZ\", \"HU\", \"RO\", \"BG\", \"PT\", \"IE\", \"SK\", \"HR\", \"LT\", \"SI\", \"LV\", \"EE\"\n",
    "}\n",
    "southern_hemisphere_countries = {\n",
    "    \"AU\", \"NZ\", \"AR\", \"BR\", \"ZA\", \"CL\", \"ID\", \"PE\", \"BO\", \"EC\", \"PY\", \"UY\", \"MG\"\n",
    "}\n",
    "\n",
    "# Daten für Nord- und Südhalbkugel filtern\n",
    "df_north = df[df[\"Country\"].isin(northern_hemisphere_countries)]\n",
    "df_south = df[df[\"Country\"].isin(southern_hemisphere_countries)]\n",
    "\n",
    "# Mittlere CO-Konzentration pro Monat berechnen\n",
    "monthly_co_north = df_north.groupby(\"Month\")[\"Co\"].mean()\n",
    "monthly_co_south = df_south.groupby(\"Month\")[\"Co\"].mean()\n",
    "\n",
    "# Plot erstellen\n",
    "plt.figure(figsize=(10, 5))\n",
    "plt.plot(monthly_co_north.index, monthly_co_north.values, marker='o', linestyle='-', label=\"Nordhalbkugel\", color='b')\n",
    "plt.plot(monthly_co_south.index, monthly_co_south.values, marker='o', linestyle='-', label=\"Südhalbkugel\", color='r')\n",
    "\n",
    "plt.xlabel(\"Monat\")\n",
    "plt.ylabel(\"Mittlere CO-Konzentration\")\n",
    "plt.title(\"Vergleich der CO-Konzentration auf Nord- und Südhalbkugel\")\n",
    "plt.xticks(range(1, 13))  # Monatsskala 1-12\n",
    "plt.legend()\n",
    "plt.grid(True);"
   ]
  },
  {
   "cell_type": "code",
   "execution_count": null,
   "metadata": {},
   "outputs": [],
   "source": [
    "# CO-Werte über das Jahr inklusive Streuung\n",
    "\n",
    "plt.figure(figsize=(10, 6))\n",
    "sns.lineplot(data=df, x=\"Month\", y=\"Co\", errorbar=\"sd\", marker=\"o\")\n",
    "plt.xlabel(\"Monat\")\n",
    "plt.ylabel(\"CO-Wert\")\n",
    "plt.title(\"Kohlenmonoxidwerte Im Jahresverlauf\")\n",
    "plt.xticks(range(1, 13), [\"Jan\", \"Feb\", \"Mär\", \"Apr\", \"Mai\", \"Jun\", \"Jul\", \"Aug\", \"Sep\", \"Okt\", \"Nov\", \"Dez\"])\n",
    "plt.show()\n",
    "\n",
    "# Die Grafik ist nicht intuitiv aussagekräftig. Die Streuung ist zu stark."
   ]
  },
  {
   "cell_type": "code",
   "execution_count": null,
   "metadata": {},
   "outputs": [],
   "source": [
    "# Streuung mit Achsenbegrenzung\n",
    "\n",
    "# Gruppiere nach Monat\n",
    "grouped = df.groupby(\"Month\")[\"Co\"]\n",
    "mean = grouped.mean()\n",
    "std = grouped.std()\n",
    "\n",
    "# Plot erstellen\n",
    "plt.figure(figsize=(10, 5))\n",
    "plt.plot(mean.index, mean.values, marker='o', linestyle='-', label='Mittelwert CO')\n",
    "plt.fill_between(mean.index, mean - std, mean + std, color='blue', alpha=0.2, label='±1 SD')\n",
    "\n",
    "# Achsen, Titel, Beschriftungen\n",
    "plt.xlabel(\"Monat\")\n",
    "plt.ylabel(\"CO-Konzentration (ppm)\")\n",
    "plt.title(\"Durchschnittliche CO-Konzentration mit Streuung\")\n",
    "plt.xticks(range(1, 13), [\"Jan\", \"Feb\", \"Mär\", \"Apr\", \"Mai\", \"Jun\", \"Jul\", \"Aug\", \"Sep\", \"Okt\", \"Nov\", \"Dez\"])\n",
    "\n",
    "# Fokus auf relevanten y-Bereich\n",
    "plt.ylim(3, 7)  # oder anpassen je nach Datensatz\n",
    "\n",
    "plt.grid(True)\n",
    "plt.legend()\n",
    "plt.show()\n",
    "\n",
    "# Ergebnis: Die Streuung bedeckt die gesamte Diagrammfläche. Es sollten als die Städte, die die größte Verzerrung bewirken, aussortiert werden.\n"
   ]
  },
  {
   "cell_type": "code",
   "execution_count": null,
   "metadata": {},
   "outputs": [],
   "source": [
    "co_by_city = df.groupby(\"City\")[\"Co\"].mean().sort_values(ascending=False)\n",
    "print(co_by_city.head(10))\n",
    "\n",
    "# Ashkelon ist ein unrealistischer Ausreißer. Siehe separates NB \"Ashkelon\": Es gibt nur Messwerte für Jan und Feb 2022, und diese schwanken extrem. Vielleicht kaputtes Messgerät."
   ]
  },
  {
   "cell_type": "code",
   "execution_count": null,
   "metadata": {},
   "outputs": [],
   "source": [
    "# calculate std per city\n",
    "\n",
    "co_std_by_city = df.groupby(\"City\")[\"Co\"].std().sort_values(ascending=False)\n",
    "print(co_std_by_city.head(10))"
   ]
  },
  {
   "cell_type": "code",
   "execution_count": null,
   "metadata": {},
   "outputs": [],
   "source": [
    "# combine mean and std to determine cities that cause the bigges distortions.\n",
    "\n",
    "co_stats = df.groupby(\"City\")[\"Co\"].agg([\"mean\", \"std\"]).sort_values(by=\"mean\", ascending=False)\n",
    "print(co_stats.head(10))"
   ]
  },
  {
   "cell_type": "code",
   "execution_count": null,
   "metadata": {},
   "outputs": [],
   "source": [
    "# The three Israeli cities of Ashkelon, Ashdod and Netanya show highly volatile CO values, measured only in certain months.\n",
    "# This distorts the graph to an extent that calls for dropping these three cities from further analyes of CO."
   ]
  },
  {
   "cell_type": "code",
   "execution_count": null,
   "metadata": {},
   "outputs": [],
   "source": [
    "# Drop distorting cities from fürther analyses\n",
    "exclude_cities = [\"Ashkelon\", \"Ashdod\", \"Netanya\"]\n",
    "df_cleaned = df[~df[\"City\"].isin(exclude_cities)]"
   ]
  },
  {
   "cell_type": "code",
   "execution_count": null,
   "metadata": {},
   "outputs": [],
   "source": [
    "# Streuung mit Achsenbegrenzung, ohne Ausreißerstädte in Israel\n",
    "\n",
    "# Gruppiere nach Monat\n",
    "grouped = df_cleaned.groupby(\"Month\")[\"Co\"]\n",
    "mean = grouped.mean()\n",
    "std = grouped.std()\n",
    "\n",
    "# Plot erstellen\n",
    "plt.figure(figsize=(10, 5))\n",
    "plt.plot(mean.index, mean.values, marker='o', linestyle='-', label='Mittelwert CO')\n",
    "plt.fill_between(mean.index, mean - std, mean + std, color='blue', alpha=0.2, label='±1 SD')\n",
    "\n",
    "# Achsen, Titel, Beschriftungen\n",
    "plt.xlabel(\"Monat\")\n",
    "plt.ylabel(\"CO-Konzentration (ppm)\")\n",
    "plt.title(\"Durchschnittliche CO-Konzentration mit Streuung\")\n",
    "plt.xticks(range(1, 13), [\"Jan\", \"Feb\", \"Mär\", \"Apr\", \"Mai\", \"Jun\", \"Jul\", \"Aug\", \"Sep\", \"Okt\", \"Nov\", \"Dez\"])\n",
    "\n",
    "# Fokus auf relevanten y-Bereich\n",
    "plt.ylim(3, 7)  # oder anpassen je nach Datensatz\n",
    "\n",
    "plt.grid(True)\n",
    "plt.legend()\n",
    "plt.show()\n",
    "\n",
    "# Ergebnis: Die Streuung bedeckt die gesamte Diagrammfläche. Es sollten als die Städte, die die größte Verzerrung bewirken, aussortiert werden.\n"
   ]
  },
  {
   "cell_type": "code",
   "execution_count": null,
   "metadata": {},
   "outputs": [],
   "source": [
    "# CO-Werte über das Jahr inklusive Streuung\n",
    "\n",
    "plt.figure(figsize=(10, 6))\n",
    "sns.lineplot(data=df_cleaned, x=\"Month\", y=\"Co\", errorbar=\"sd\", marker=\"o\")\n",
    "plt.xlabel(\"Monat\")\n",
    "plt.ylabel(\"CO-Wert\")\n",
    "plt.title(\"Kohlenmonoxidwerte Im Jahresverlauf\")\n",
    "plt.xticks(range(1, 13), [\"Jan\", \"Feb\", \"Mär\", \"Apr\", \"Mai\", \"Jun\", \"Jul\", \"Aug\", \"Sep\", \"Okt\", \"Nov\", \"Dez\"])\n",
    "plt.show()\n",
    "\n",
    "# Die Grafik ist immer noch nicht nicht intuitiv aussagekräftig. Die Streuung ist weiterhin zu stark."
   ]
  },
  {
   "cell_type": "code",
   "execution_count": null,
   "metadata": {},
   "outputs": [],
   "source": [
    "# Ursachenforschung für die starke CO-Streuung\n",
    "\n",
    "co_std_cleaned = df_cleaned.groupby(\"City\")[\"Co\"].std().sort_values(ascending=False)\n",
    "print(co_std_cleaned.head(10))"
   ]
  },
  {
   "cell_type": "code",
   "execution_count": null,
   "metadata": {},
   "outputs": [],
   "source": [
    "co_stats_cleaned = df_cleaned.groupby(\"City\")[\"Co\"].agg([\"mean\", \"std\"]).sort_values(by=\"std\", ascending=False)\n",
    "print(co_stats_cleaned.head(10))"
   ]
  },
  {
   "cell_type": "code",
   "execution_count": null,
   "metadata": {},
   "outputs": [],
   "source": [
    "# Weitere Städte mit extremer Varianz entfernen, um eine übersichtliche globale Darstellung zu erzielen\n",
    "\n",
    "more_extreme = [\"Portland\", \"Mérida\", \"Zamboanga\", \"Butuan\", \"Hạ long\", \"Oaxaca\", \"Isfahan\", \"San luis potosí\", \"Tabriz\", \"Tallahassee\"]\n",
    "exclude_cities = [\"Ashkelon\", \"Ashdod\", \"Netanya\"] + more_extreme\n",
    "df_cleaned2 = df[~df[\"City\"].isin(exclude_cities)]"
   ]
  },
  {
   "cell_type": "code",
   "execution_count": null,
   "metadata": {},
   "outputs": [],
   "source": [
    "# CO-Werte über das Jahr inklusive Streuung, weiter reduziert\n",
    "\n",
    "plt.figure(figsize=(10, 6))\n",
    "sns.lineplot(data=df_cleaned2, x=\"Month\", y=\"Co\", marker=\"o\")\n",
    "plt.fill_between(mean.index, mean - std * 0.5, mean + std * 0.5, alpha=0.2, label='±0.5 SD')\n",
    "plt.xlabel(\"Monat\")\n",
    "plt.ylabel(\"CO-Wert\")\n",
    "plt.title(\"Kohlenmonoxidwerte Im Jahresverlauf\")\n",
    "plt.xticks(range(1, 13), [\"Jan\", \"Feb\", \"Mär\", \"Apr\", \"Mai\", \"Jun\", \"Jul\", \"Aug\", \"Sep\", \"Okt\", \"Nov\", \"Dez\"])\n",
    "plt.show()\n",
    "\n",
    "# Die Grafik ist immer noch nicht nicht intuitiv aussagekräftig. Die Streuung ist weiterhin zu stark."
   ]
  },
  {
   "cell_type": "code",
   "execution_count": null,
   "metadata": {},
   "outputs": [],
   "source": [
    "\n",
    "# Nord- und Südhalbkugel anhand des Features \"Latitude\" trennen\n",
    "\n",
    "df_cleaned2.loc[:, \"Hemisphere\"] = df_cleaned2.loc[:, \"Latitude\"].apply(lambda x: \"Nordhalbkugel\" if x >= 0 else \"Südhalbkugel\")\n",
    "\n"
   ]
  },
  {
   "cell_type": "code",
   "execution_count": null,
   "metadata": {},
   "outputs": [],
   "source": [
    "df_north = df_cleaned2[df_cleaned2[\"Hemisphere\"] == \"Nordhalbkugel\"]\n",
    "df_south = df_cleaned2[df_cleaned2[\"Hemisphere\"] == \"Südhalbkugel\"]"
   ]
  },
  {
   "cell_type": "code",
   "execution_count": null,
   "metadata": {},
   "outputs": [],
   "source": [
    "# Nordhalbkugel\n",
    "grouped_north = df_north.groupby(\"Month\")[\"Co\"]\n",
    "mean_north = grouped_north.mean()\n",
    "std_north = grouped_north.std()\n",
    "\n",
    "# Südhalbkugel\n",
    "grouped_south = df_south.groupby(\"Month\")[\"Co\"]\n",
    "mean_south = grouped_south.mean()\n",
    "std_south = grouped_south.std()\n",
    "\n",
    "# Plot\n",
    "plt.figure(figsize=(10, 5))\n",
    "\n",
    "plt.plot(mean_north.index, mean_north, marker='o', label=\"Nordhalbkugel\")\n",
    "plt.fill_between(mean_north.index, mean_north - std_north, mean_north + std_north, alpha=0.2)\n",
    "\n",
    "plt.plot(mean_south.index, mean_south, marker='s', label=\"Südhalbkugel\")\n",
    "plt.fill_between(mean_south.index, mean_south - std_south, mean_south + std_south, alpha=0.2)\n",
    "\n",
    "plt.xticks(range(1, 13), [\"Jan\", \"Feb\", \"Mär\", \"Apr\", \"Mai\", \"Jun\", \"Jul\", \"Aug\", \"Sep\", \"Okt\", \"Nov\", \"Dez\"])\n",
    "plt.xlabel(\"Monat\")\n",
    "plt.ylabel(\"CO-Konzentration (ppm)\")\n",
    "plt.title(\"Saisonale CO-Muster nach Hemisphäre\")\n",
    "plt.legend()\n",
    "plt.grid(True)\n",
    "plt.show()\n"
   ]
  },
  {
   "cell_type": "code",
   "execution_count": null,
   "metadata": {},
   "outputs": [],
   "source": [
    "# Mittlere CO-Konzentration pro Monat berechnen\n",
    "monthly_co_north = df_north.groupby(\"Month\")[\"Co\"].mean()\n",
    "monthly_co_south = df_south.groupby(\"Month\")[\"Co\"].mean()\n",
    "\n",
    "# Plot erstellen\n",
    "plt.figure(figsize=(10, 5))\n",
    "plt.plot(monthly_co_north.index, monthly_co_north.values, marker='o', linestyle='-', label=\"Nordhalbkugel\", color='b')\n",
    "plt.plot(monthly_co_south.index, monthly_co_south.values, marker='o', linestyle='-', label=\"Südhalbkugel\", color='r')\n",
    "\n",
    "plt.xlabel(\"Monat\")\n",
    "plt.ylabel(\"Mittlere CO-Konzentration\")\n",
    "plt.title(\"Vergleich der CO-Konzentration auf Nord- und Südhalbkugel\")\n",
    "plt.xticks(range(1, 13))  # Monatsskala 1-12\n",
    "plt.legend()\n",
    "plt.grid(True);"
   ]
  },
  {
   "cell_type": "code",
   "execution_count": null,
   "metadata": {},
   "outputs": [],
   "source": [
    "# Mittlere CO-Konzentration pro Monat berechnen- Median statt Mean, weil robuster gegen Ausreißer\n",
    "monthly_co_north = df_north.groupby(\"Month\")[\"Co\"].median()\n",
    "monthly_co_south = df_south.groupby(\"Month\")[\"Co\"].median()\n",
    "\n",
    "# Plot erstellen\n",
    "plt.figure(figsize=(10, 5))\n",
    "plt.plot(monthly_co_north.index, monthly_co_north.values, marker='o', linestyle='-', label=\"Nordhalbkugel\", color='b')\n",
    "plt.plot(monthly_co_south.index, monthly_co_south.values, marker='o', linestyle='-', label=\"Südhalbkugel\", color='r')\n",
    "\n",
    "plt.xlabel(\"Monat\")\n",
    "plt.ylabel(\"Mittlere CO-Konzentration\")\n",
    "plt.title(\"Vergleich der CO-Konzentration auf Nord- und Südhalbkugel\")\n",
    "plt.xticks(range(1, 13))  # Monatsskala 1-12\n",
    "plt.legend()\n",
    "plt.grid(True);"
   ]
  },
  {
   "cell_type": "code",
   "execution_count": null,
   "metadata": {},
   "outputs": [],
   "source": [
    "# sns.histplot(df_north[\"Co\"], kde=True)\n",
    "# sns.histplot(df_south[\"Co\"], kde=True)\n",
    "\n",
    "plt.figure(figsize=(10, 5))\n",
    "\n",
    "# Nordhalbkugel\n",
    "sns.histplot(df_north[\"Co\"], kde=True, label=\"Nordhalbkugel\", stat=\"density\", element=\"step\", fill=True)\n",
    "\n",
    "# Südhalbkugel\n",
    "sns.histplot(df_south[\"Co\"], kde=True, label=\"Südhalbkugel\", stat=\"density\", element=\"step\", fill=True)\n",
    "\n",
    "# Achsen & Legende\n",
    "plt.xlabel(\"CO-Konzentration (ppm)\")\n",
    "plt.ylabel(\"Dichte\")\n",
    "plt.title(\"Verteilung der CO-Werte nach Hemisphäre\")\n",
    "plt.legend()\n",
    "plt.grid(True)\n",
    "plt.show()\n"
   ]
  },
  {
   "cell_type": "code",
   "execution_count": null,
   "metadata": {},
   "outputs": [],
   "source": [
    "plt.figure(figsize=(10, 5))\n",
    "\n",
    "# Histogramm Nordhalbkugel\n",
    "sns.histplot(df_north[\"Co\"], kde=True, stat=\"density\", label=\"Nordhalbkugel\", color=\"steelblue\", fill=True)\n",
    "\n",
    "# Histogramm Südhalbkugel\n",
    "sns.histplot(df_south[\"Co\"], kde=True, stat=\"density\", label=\"Südhalbkugel\", color=\"darkorange\", fill=True)\n",
    "\n",
    "# Zoom auf interessanten Bereich\n",
    "plt.xlim(0, 20)    # X-Achse (CO-Werte) begrenzen\n",
    "plt.ylim(0, 0.7)   # Y-Achse (Dichte) begrenzen\n",
    "\n",
    "# Titel & Achsen\n",
    "plt.xlabel(\"CO-Konzentration (ppm)\")\n",
    "plt.ylabel(\"Dichte\")\n",
    "plt.title(\"CO-Verteilung nach Hemisphäre (vergrößerter Bereich)\")\n",
    "plt.legend()\n",
    "plt.grid(True)\n",
    "plt.show()\n"
   ]
  },
  {
   "cell_type": "code",
   "execution_count": null,
   "metadata": {},
   "outputs": [],
   "source": [
    "# Mittlere CO-Konzentration pro Land berechnen\n",
    "country_co_avg = df.groupby(\"Country\")[\"Co\"].mean().sort_values(ascending=False)\n",
    "\n",
    "# Barplot erstellen\n",
    "plt.figure(figsize=(12, 6))\n",
    "country_co_avg.plot(kind='bar', color='b', alpha=0.7)\n",
    "plt.xlabel(\"Land\")\n",
    "plt.ylabel(\"Mittlere CO-Konzentration\")\n",
    "plt.title(\"Durchschnittliche CO-Konzentration pro Land\")\n",
    "plt.xticks(rotation=90)  # Länderbeschriftung drehen für bessere Lesbarkeit\n",
    "plt.grid(axis='y', linestyle='--', alpha=0.7);\n"
   ]
  },
  {
   "cell_type": "code",
   "execution_count": null,
   "metadata": {},
   "outputs": [],
   "source": [
    "# Mittlere CO-Konzentration pro Land berechnen\n",
    "\n",
    "# Mindestanzahl an CO-Messwerten pro Land, um in die Analyse aufgenommen zu werden\n",
    "min_measurements = 100  # Falls nötig, anpassen\n",
    "\n",
    "# Anzahl der CO-Messwerte pro Land berechnen\n",
    "country_co_counts = df.groupby(\"Country\")[\"Co\"].count()\n",
    "\n",
    "# Nur Länder behalten, die mindestens `min_measurements` Messwerte haben\n",
    "valid_countries = country_co_counts[country_co_counts >= min_measurements].index\n",
    "\n",
    "# Gefilterten DataFrame mit diesen Ländern erstellen\n",
    "df_valid_countries = df[df[\"Country\"].isin(valid_countries)]\n",
    "\n",
    "# Mittlere CO-Konzentration für diese Länder berechnen\n",
    "country_co_avg_filtered = df_valid_countries.groupby(\"Country\")[\"Co\"].mean().sort_values(ascending=False)\n",
    "\n",
    "# Falls nach der Filterung noch Daten vorhanden sind, Plot erstellen\n",
    "if not country_co_avg_filtered.empty:\n",
    "    plt.figure(figsize=(12, 6))\n",
    "    country_co_avg_filtered.plot(kind='bar', color='b', alpha=0.7)\n",
    "    plt.xlabel(\"Land\")\n",
    "    plt.ylabel(\"Mittlere CO-Konzentration\")\n",
    "    plt.title(\"Durchschnittliche CO-Konzentration pro Land (nur Länder mit ausreichenden Messwerten)\")\n",
    "    plt.xticks(rotation=90)  # Länderbeschriftung drehen für bessere Lesbarkeit\n",
    "    plt.grid(axis='y', linestyle='--', alpha=0.7)\n",
    "else:\n",
    "    print(\"Keine ausreichenden Daten für CO-Werte in den Ländern verfügbar.\")\n"
   ]
  },
  {
   "cell_type": "code",
   "execution_count": null,
   "metadata": {},
   "outputs": [],
   "source": [
    "country_co_avg_filtered.head(20).plot(kind='bar')\n"
   ]
  },
  {
   "cell_type": "code",
   "execution_count": null,
   "metadata": {},
   "outputs": [],
   "source": [
    "# Vergleich von Schadstoffen in verschiedenen Städten\n",
    "\n",
    "# Liste der relevanten Schadstoff-Spalten (falls sie in den Daten vorhanden sind)\n",
    "pollutants = [\"Co\", \"No2\", \"O3\", \"So2\", \"Pm10\", \"Pm25\"]\n",
    "\n",
    "# DataFrame mit nur den relevanten Spalten (fehlende Werte entfernen)\n",
    "df_pollutants = df[pollutants].dropna()\n",
    "\n",
    "# Korrelationsmatrix berechnen\n",
    "corr_matrix = df_pollutants.corr()\n",
    "\n",
    "# Heatmap der Korrelationen erstellen\n",
    "plt.figure(figsize=(8, 6))\n",
    "sns.heatmap(corr_matrix, annot=True, fmt=\".2f\", cmap=\"coolwarm\", center=0, linewidths=0.5)\n",
    "plt.title(\"Korrelation zwischen CO und anderen Schadstoffen\");\n"
   ]
  },
  {
   "cell_type": "code",
   "execution_count": null,
   "metadata": {},
   "outputs": [],
   "source": [
    "df[[\"Co\", \"No2\"]].corr()"
   ]
  },
  {
   "cell_type": "code",
   "execution_count": null,
   "metadata": {},
   "outputs": [],
   "source": [
    "# Korrelation Schadstoffe und Wettervariablen\n",
    "\n",
    "# Liste der Schadstoffe und Wettervariablen\n",
    "pollutants = [\"Co\", \"No2\", \"O3\", \"So2\", \"Pm10\", \"Pm25\"]\n",
    "weather_vars = [\"temperature\", \"pressure\", \"humidity\", \"dew\", \"wind-speed\", \"wind-gust\"]\n",
    "\n",
    "# DataFrame mit nur den relevanten Spalten (fehlende Werte entfernen)\n",
    "df_pollutants_weather = df[pollutants + weather_vars].dropna()\n",
    "\n",
    "# Korrelationsmatrix berechnen\n",
    "corr_matrix_weather = df_pollutants_weather.corr()\n",
    "\n",
    "# Heatmap der Korrelationen zwischen Schadstoffen & Wettervariablen\n",
    "plt.figure(figsize=(10, 6))\n",
    "sns.heatmap(corr_matrix_weather, annot=True, fmt=\".2f\", cmap=\"coolwarm\", center=0, linewidths=0.5)\n",
    "plt.title(\"Korrelation zwischen Schadstoffen und Wetterfaktoren\");"
   ]
  },
  {
   "cell_type": "code",
   "execution_count": null,
   "metadata": {},
   "outputs": [],
   "source": [
    "df[[\"co\", \"temperature\"]].corr()"
   ]
  },
  {
   "cell_type": "code",
   "execution_count": null,
   "metadata": {},
   "outputs": [],
   "source": [
    "# Schadstoffbelastung über die Zeit in verschiedenen Städten\n",
    "\n",
    "# Durchschnittliche Schadstoffwerte pro Jahr berechnen\n",
    "pollutants = [\"Co\", \"No2\", \"O3\", \"So2\", \"Pm10\", \"Pm25\"]\n",
    "yearly_trends = df.groupby(\"Year\")[pollutants].mean()\n",
    "\n",
    "# Liniendiagramm für langfristige Trends erstellen\n",
    "plt.figure(figsize=(12, 6))\n",
    "for pollutant in pollutants:\n",
    "    plt.plot(yearly_trends.index, yearly_trends[pollutant], marker='o', linestyle='-', label=pollutant)\n",
    "\n",
    "plt.xlabel(\"Jahr\")\n",
    "plt.ylabel(\"Mittlere Konzentration\")\n",
    "plt.title(\"Langfristige Entwicklung der Schadstoffwerte\")\n",
    "plt.legend()\n",
    "plt.grid(True);\n"
   ]
  },
  {
   "cell_type": "code",
   "execution_count": null,
   "metadata": {},
   "outputs": [],
   "source": [
    "# Ohne 2014 und 2025, weil zu wenige Daten\n",
    "\n",
    "# Schadstoffe, die analysiert werden sollen\n",
    "pollutants = [\"Co\", \"No2\", \"O3\", \"So2\", \"Pm10\", \"Pm25\"]\n",
    "\n",
    "# Falls \"year\" als String gespeichert ist, in numerischen Wert umwandeln\n",
    "df[\"year\"] = pd.to_numeric(df[\"Year\"], errors=\"coerce\")\n",
    "\n",
    "# Durchschnittliche Schadstoffwerte pro Jahr berechnen, aber 2014 & 2025 ausschließen\n",
    "yearly_trends = df.groupby(\"Year\")[pollutants].mean()\n",
    "yearly_trends = yearly_trends.loc[(yearly_trends.index > 2014) & (yearly_trends.index < 2025)]\n",
    "\n",
    "# Liniendiagramm für langfristige Trends erstellen\n",
    "plt.figure(figsize=(12, 6))\n",
    "for pollutant in pollutants:\n",
    "    plt.plot(yearly_trends.index, yearly_trends[pollutant], marker='o', linestyle='-', label=pollutant)\n",
    "\n",
    "plt.xlabel(\"Jahr\")\n",
    "plt.ylabel(\"Mittlere Konzentration\")\n",
    "plt.title(\"Langfristige Entwicklung der Schadstoffwerte (ohne 2014 & 2025)\")\n",
    "plt.legend()\n",
    "plt.grid(True);\n"
   ]
  },
  {
   "cell_type": "code",
   "execution_count": null,
   "metadata": {},
   "outputs": [],
   "source": [
    "num_cities_with_data = df.loc[:, [\"City\", \"Co\", \"No2\", \"So2\", \"O3\", \"Pm25\", \"Pm10\"]].dropna(subset=[\"Co\", \"No2\", \"So2\", \"O3\", \"Pm25\", \"Pm10\"], how=\"all\")[\"City\"].nunique()\n",
    "print(f\"Anzahl der Städte mit mindestens einem Messwert: {num_cities_with_data}\")"
   ]
  },
  {
   "cell_type": "code",
   "execution_count": null,
   "metadata": {},
   "outputs": [],
   "source": [
    "    import matplotlib.pyplot as plt\n",
    "\n",
    "    # Schadstoffe, die analysiert werden sollen\n",
    "    pollutants = [\"Co\", \"No2\", \"O3\", \"So2\", \"Pm10\", \"Pm25\"]\n",
    "\n",
    "    # Länder nach Regionen gruppieren\n",
    "    regions = {\n",
    "        \"Europe\": {\"DE\", \"FR\", \"GB\", \"IT\", \"ES\", \"PL\", \"NL\", \"SE\", \"AT\", \"CH\", \"BE\"},\n",
    "        \"North America\": {\"US\", \"CA\", \"MX\"},\n",
    "        \"South America\": {\"BR\", \"AR\", \"CO\", \"CL\", \"PE\"},\n",
    "        \"Asia\": {\"CN\", \"IN\", \"JP\", \"KR\", \"IR\"},\n",
    "        \"Africa\": {\"ZA\", \"EG\", \"NG\"},\n",
    "        \"Oceania\": {\"AU\", \"NZ\"}\n",
    "    }\n",
    "\n",
    "    # Falls \"year\" als String gespeichert ist, in numerischen Wert umwandeln\n",
    "    df[\"Year\"] = pd.to_numeric(df[\"Year\"], errors=\"coerce\")\n",
    "\n",
    "    # Regionen durchgehen & Diagramme erstellen\n",
    "    fig, axes = plt.subplots(2, 3, figsize=(15, 8), sharex=True, sharey=True)  # Einheitliche Achsen für bessere Vergleichbarkeit\n",
    "    axes = axes.flatten()  # 2D-Array in 1D-Array umwandeln\n",
    "\n",
    "    # Speichert alle Linien für die gemeinsame Legende\n",
    "    handles, labels = [], []\n",
    "\n",
    "    for i, (region, countries) in enumerate(regions.items()):\n",
    "        df_region = df[df[\"Country\"].isin(countries)]\n",
    "        yearly_trends_region = df_region.groupby(\"Year\")[pollutants].mean()\n",
    "        yearly_trends_region = yearly_trends_region.loc[(yearly_trends_region.index > 2014) & (yearly_trends_region.index < 2025)]\n",
    "        \n",
    "        ax = axes[i]\n",
    "        for pollutant in pollutants:\n",
    "            line, = ax.plot(yearly_trends_region.index, yearly_trends_region[pollutant], marker='o', linestyle='-', label=pollutant)\n",
    "            \n",
    "            # Speichert eine Linie pro Schadstoff für die gemeinsame Legende\n",
    "            if i == 0:  \n",
    "                handles.append(line)\n",
    "                labels.append(pollutant)\n",
    "\n",
    "        ax.set_title(region)\n",
    "        ax.set_xlabel(\"Jahr\")\n",
    "        ax.set_ylabel(\"Mittelwert\")\n",
    "        ax.grid(True)\n",
    "\n",
    "    for ax in axes[:3]:  # Die ersten drei Subplots sind in der oberen Reihe\n",
    "        ax.xaxis.set_tick_params(labelbottom=True)\n",
    "\n",
    "    # Gemeinsame Legende unterhalb der Subplots platzieren\n",
    "    fig.legend(handles, labels, loc='lower center', bbox_to_anchor=(0.5, -0.05), ncol=len(pollutants))\n",
    "\n",
    "    # Layout optimieren\n",
    "    plt.tight_layout();"
   ]
  },
  {
   "cell_type": "code",
   "execution_count": null,
   "metadata": {},
   "outputs": [],
   "source": [
    "# Sechs Top-Länder in Europa\n",
    "\n",
    "import matplotlib.pyplot as plt\n",
    "\n",
    "# Schadstoffe, die analysiert werden sollen\n",
    "pollutants = [\"co\", \"no2\", \"o3\", \"so2\", \"pm10\", \"pm25\"]\n",
    "\n",
    "# Europäische Länder definieren\n",
    "european_countries = {\"DE\", \"FR\", \"GB\", \"IT\", \"ES\", \"PL\", \"NL\", \"SE\", \"AT\", \"CH\", \"BE\"}\n",
    "\n",
    "# Falls \"year\" als String gespeichert ist, in numerischen Wert umwandeln\n",
    "df[\"year\"] = pd.to_numeric(df[\"year\"], errors=\"coerce\")\n",
    "\n",
    "# Nur europäische Länder auswählen\n",
    "df_europe = df[df[\"Country\"].isin(european_countries)]\n",
    "\n",
    "# Länder mit den meisten Messwerten identifizieren\n",
    "top_countries = df_europe[\"Country\"].value_counts().nlargest(6).index  # Falls nur 6 Länder visualisiert werden sollen\n",
    "\n",
    "# Subplots für die gewählten Länder erstellen\n",
    "fig, axes = plt.subplots(2, 3, figsize=(15, 8), sharex=True, sharey=True)  # 2 Reihen, 3 Spalten\n",
    "axes = axes.flatten()\n",
    "\n",
    "for i, country in enumerate(top_countries):\n",
    "    df_country = df_europe[df_europe[\"Country\"] == country]\n",
    "    yearly_trends_country = df_country.groupby(\"year\")[pollutants].mean()\n",
    "    yearly_trends_country = yearly_trends_country.loc[(yearly_trends_country.index > 2014) & (yearly_trends_country.index < 2025)]\n",
    "    \n",
    "    ax = axes[i]\n",
    "    for pollutant in pollutants:\n",
    "        ax.plot(yearly_trends_country.index, yearly_trends_country[pollutant], marker='o', linestyle='-', label=pollutant)\n",
    "    \n",
    "    ax.set_title(country)\n",
    "    ax.set_xlabel(\"Jahr\")\n",
    "    ax.set_ylabel(\"Mittelwert\")\n",
    "    ax.grid(True)\n",
    "\n",
    "# Gemeinsame Legende unterhalb der Subplots platzieren\n",
    "fig.legend(pollutants, loc='lower center', bbox_to_anchor=(0.5, -0.05), ncol=len(pollutants))\n",
    "\n",
    "# Layout optimieren\n",
    "plt.tight_layout();"
   ]
  },
  {
   "cell_type": "code",
   "execution_count": null,
   "metadata": {},
   "outputs": [],
   "source": [
    "# Korrekation zwischen Ozon und anderen Faktoren\n",
    "\n",
    "# Relevante Spalten auswählen\n",
    "pollutants = [\"co\", \"no2\", \"so2\", \"pm10\", \"pm25\", \"o3\"]\n",
    "weather_vars = [\"temperature\", \"pressure\", \"humidity\", \"dew\", \"wind-speed\", \"wind-gust\"]\n",
    "\n",
    "# DataFrame mit nur den relevanten Spalten (fehlende Werte entfernen)\n",
    "df_ozone_corr = df[pollutants + weather_vars].dropna()\n",
    "\n",
    "# Korrelationsmatrix berechnen\n",
    "corr_matrix_ozone = df_ozone_corr.corr()\n",
    "\n",
    "# Heatmap der Korrelationen zwischen Ozon und anderen Faktoren\n",
    "plt.figure(figsize=(8, 6))\n",
    "sns.heatmap(corr_matrix_ozone, annot=True, fmt=\".2f\", cmap=\"coolwarm\", center=0, linewidths=0.5)\n",
    "plt.title(\"Korrelation zwischen Ozon (O₃) und anderen Faktoren\");\n"
   ]
  },
  {
   "cell_type": "code",
   "execution_count": null,
   "metadata": {},
   "outputs": [],
   "source": [
    "# Durchschnittliche Ozonwerte pro Monat berechnen\n",
    "monthly_o3 = df.groupby(\"month\")[\"o3\"].mean()\n",
    "\n",
    "# Liniendiagramm für die saisonale Entwicklung von Ozon erstellen\n",
    "plt.figure(figsize=(10, 5))\n",
    "plt.plot(monthly_o3.index, monthly_o3.values, marker='o', linestyle='-', color='b')\n",
    "plt.xlabel(\"Monat\")\n",
    "plt.ylabel(\"Mittlere O₃-Konzentration\")\n",
    "plt.title(\"Saisonale Entwicklung der Ozonwerte (O₃)\")\n",
    "plt.xticks(range(1, 13), [\"Jan\", \"Feb\", \"Mär\", \"Apr\", \"Mai\", \"Jun\", \"Jul\", \"Aug\", \"Sep\", \"Okt\", \"Nov\", \"Dez\"])\n",
    "plt.grid(True);"
   ]
  },
  {
   "cell_type": "code",
   "execution_count": null,
   "metadata": {},
   "outputs": [],
   "source": [
    "# Länder nach Hemisphäre aufteilen\n",
    "northern_hemisphere_countries = {\n",
    "    \"US\", \"CA\", \"MX\", \"DE\", \"FR\", \"GB\", \"IT\", \"ES\", \"PL\", \"NL\", \"SE\", \"AT\", \"CH\", \"BE\", \"RU\", \"CN\", \"JP\", \"IN\", \"KR\"\n",
    "}\n",
    "southern_hemisphere_countries = {\n",
    "    \"AU\", \"NZ\", \"AR\", \"BR\", \"ZA\", \"CL\", \"ID\", \"PE\", \"BO\", \"EC\", \"PY\", \"UY\", \"MG\"\n",
    "}\n",
    "\n",
    "# Daten für Nord- und Südhalbkugel filtern\n",
    "df_north = df[df[\"Country\"].isin(northern_hemisphere_countries)]\n",
    "df_south = df[df[\"Country\"].isin(southern_hemisphere_countries)]\n",
    "\n",
    "# Durchschnittliche Ozonwerte pro Monat für beide Hemisphären berechnen\n",
    "monthly_o3_north = df_north.groupby(\"month\")[\"o3\"].mean()\n",
    "monthly_o3_south = df_south.groupby(\"month\")[\"o3\"].mean()\n",
    "\n",
    "# Plot erstellen\n",
    "plt.figure(figsize=(10, 5))\n",
    "plt.plot(monthly_o3_north.index, monthly_o3_north.values, marker='o', linestyle='-', label=\"Nordhalbkugel\", color='b')\n",
    "plt.plot(monthly_o3_south.index, monthly_o3_south.values, marker='o', linestyle='-', label=\"Südhalbkugel\", color='r')\n",
    "\n",
    "plt.xlabel(\"Monat\")\n",
    "plt.ylabel(\"Mittlere O₃-Konzentration\")\n",
    "plt.title(\"Vergleich der Ozonwerte (O₃) zwischen Nord- und Südhalbkugel\")\n",
    "plt.xticks(range(1, 13), [\"Jan\", \"Feb\", \"Mär\", \"Apr\", \"Mai\", \"Jun\", \"Jul\", \"Aug\", \"Sep\", \"Okt\", \"Nov\", \"Dez\"])\n",
    "plt.legend()\n",
    "plt.grid(True);\n",
    "\n"
   ]
  },
  {
   "cell_type": "code",
   "execution_count": null,
   "metadata": {},
   "outputs": [],
   "source": [
    "import matplotlib.pyplot as plt\n",
    "\n",
    "# Europäische Länder definieren\n",
    "european_countries = {\"DE\", \"FR\", \"GB\", \"IT\", \"ES\", \"PL\", \"NL\", \"SE\", \"AT\", \"CH\", \"BE\"}\n",
    "\n",
    "# Falls \"year\" als String gespeichert ist, in numerischen Wert umwandeln\n",
    "df[\"year\"] = pd.to_numeric(df[\"year\"], errors=\"coerce\")\n",
    "\n",
    "# Nur europäische Länder auswählen\n",
    "df_europe = df[df[\"Country\"].isin(european_countries)]\n",
    "\n",
    "# Jahre 2014 & 2025 aus der Analyse entfernen\n",
    "df_europe = df_europe[(df_europe[\"year\"] > 2014) & (df_europe[\"year\"] < 2025)]\n",
    "\n",
    "# Nur Länder behalten, die tatsächlich O₃-Werte haben\n",
    "countries_with_o3 = df_europe.groupby(\"Country\")[\"o3\"].count()\n",
    "valid_countries = countries_with_o3[countries_with_o3 > 0].index  # Länder mit vorhandenen O₃-Werten\n",
    "\n",
    "# DataFrame auf diese Länder filtern\n",
    "df_europe = df_europe[df_europe[\"Country\"].isin(valid_countries)]\n",
    "\n",
    "# Standardabweichung (Schwankungsstärke) von O₃ pro Jahr & Land berechnen\n",
    "ozone_volatility = df_europe.groupby([\"year\", \"Country\"])[\"o3\"].std().unstack()\n",
    "\n",
    "# Diagramm erstellen\n",
    "fig, ax = plt.subplots(figsize=(12, 6))\n",
    "handles = []  # Zum Speichern der Linien für die Legende\n",
    "labels = []   # Zum Speichern der Ländernamen\n",
    "\n",
    "for country in ozone_volatility.columns:\n",
    "    line, = ax.plot(ozone_volatility.index, ozone_volatility[country], marker='o', linestyle='-', label=country)\n",
    "    handles.append(line)\n",
    "    labels.append(country)\n",
    "\n",
    "ax.set_xlabel(\"Jahr\")\n",
    "ax.set_ylabel(\"Standardabweichung von O₃ (Schwankungsstärke)\")\n",
    "ax.set_title(\"Jährliche Schwankungsstärke der Ozonwerte in europäischen Ländern (nur Länder mit Daten)\")\n",
    "ax.grid(True)\n",
    "\n",
    "# Legende unterhalb des Plots platzieren\n",
    "fig.legend(handles, labels, loc='lower center', bbox_to_anchor=(0.5, -0.15), ncol=len(valid_countries))\n",
    "\n",
    "# Layout optimieren\n",
    "plt.tight_layout();"
   ]
  },
  {
   "cell_type": "code",
   "execution_count": null,
   "metadata": {},
   "outputs": [],
   "source": [
    "# Clusteranalyse zur Schadstoffbelastung\n",
    "\n",
    "from sklearn.preprocessing import StandardScaler\n",
    "\n",
    "# Liste der Schadstoff-Features für das Clustering\n",
    "pollutants = [\"co\", \"no2\", \"o3\", \"so2\", \"pm10\", \"pm25\"]\n",
    "\n",
    "# Durchschnittliche Schadstoffwerte pro Land berechnen\n",
    "df_cluster = df.groupby(\"Country\")[pollutants].mean().dropna()\n",
    "\n",
    "# Daten skalieren (K-Means ist empfindlich gegenüber unterschiedlichen Skalen)\n",
    "scaler = StandardScaler()\n",
    "df_scaled = scaler.fit_transform(df_cluster)\n",
    "\n",
    "# Ergebnis als DataFrame zurückgeben\n",
    "df_cluster_scaled = pd.DataFrame(df_scaled, index=df_cluster.index, columns=pollutants)\n",
    "\n",
    "# Überprüfen, ob die Daten korrekt vorbereitet sind\n",
    "df_cluster_scaled.head()\n"
   ]
  },
  {
   "cell_type": "code",
   "execution_count": null,
   "metadata": {},
   "outputs": [],
   "source": [
    "from sklearn.cluster import KMeans\n",
    "\n",
    "# Teste verschiedene Clusterzahlen (k = 1 bis 10)\n",
    "inertia = []\n",
    "k_values = range(1, 31)\n",
    "\n",
    "for k in k_values:\n",
    "    kmeans = KMeans(n_clusters=k, random_state=42, n_init=10)\n",
    "    kmeans.fit(df_cluster_scaled)\n",
    "    inertia.append(kmeans.inertia_)  # Speichert den Fehler (Inertia)\n",
    "\n",
    "# Elbow-Plot erstellen\n",
    "plt.figure(figsize=(8, 5))\n",
    "plt.plot(k_values, inertia, marker='o', linestyle='-')\n",
    "plt.xlabel(\"Anzahl der Cluster (k)\")\n",
    "plt.ylabel(\"Inertia (Fehler)\")\n",
    "plt.title(\"Elbow-Methode zur Bestimmung der optimalen Clusterzahl\")\n",
    "plt.grid(True);\n"
   ]
  },
  {
   "cell_type": "code",
   "execution_count": null,
   "metadata": {},
   "outputs": [],
   "source": [
    "from sklearn.metrics import silhouette_score\n",
    "\n",
    "# Teste verschiedene Clusterzahlen (k = 2 bis 10, weil k=1 keine Silhouettenwertung hat)\n",
    "silhouette_scores = []\n",
    "\n",
    "for k in range(2, 11):\n",
    "    kmeans = KMeans(n_clusters=k, random_state=42, n_init=10)\n",
    "    labels = kmeans.fit_predict(df_cluster_scaled)\n",
    "    score = silhouette_score(df_cluster_scaled, labels)\n",
    "    silhouette_scores.append(score)\n",
    "\n",
    "# Silhouetten-Plot erstellen\n",
    "plt.figure(figsize=(8, 5))\n",
    "plt.plot(range(2, 11), silhouette_scores, marker='o', linestyle='-')\n",
    "plt.xlabel(\"Anzahl der Cluster (k)\")\n",
    "plt.ylabel(\"Silhouetten-Koeffizient\")\n",
    "plt.title(\"Silhouetten-Analyse zur Bestimmung der optimalen Clusterzahl\")\n",
    "plt.grid(True);\n"
   ]
  },
  {
   "cell_type": "markdown",
   "metadata": {},
   "source": [
    "Entscheidung: 5 Cluster nehmen"
   ]
  },
  {
   "cell_type": "code",
   "execution_count": null,
   "metadata": {},
   "outputs": [],
   "source": [
    "# K-Means Clustering mit k=5\n",
    "kmeans = KMeans(n_clusters=5, random_state=42, n_init=10)\n",
    "df_cluster_scaled[\"Cluster\"] = kmeans.fit_predict(df_cluster_scaled)\n",
    "\n",
    "# Cluster-Zugehörigkeit pro Land anzeigen\n",
    "df_clusters = df_cluster_scaled[[\"Cluster\"]]\n",
    "df_clusters.head()\n"
   ]
  },
  {
   "cell_type": "code",
   "execution_count": null,
   "metadata": {},
   "outputs": [],
   "source": [
    "df_clusters[\"Cluster\"].value_counts()\n"
   ]
  },
  {
   "cell_type": "code",
   "execution_count": null,
   "metadata": {},
   "outputs": [],
   "source": [
    "df_cluster_scaled.groupby(\"Cluster\").mean()"
   ]
  },
  {
   "cell_type": "code",
   "execution_count": null,
   "metadata": {},
   "outputs": [],
   "source": [
    "import seaborn as sns\n",
    "import matplotlib.pyplot as plt\n",
    "\n",
    "plt.figure(figsize=(12, 6))\n",
    "sns.boxplot(x=df_cluster_scaled[\"Cluster\"], y=df_cluster_scaled[\"pm25\"])\n",
    "plt.xlabel(\"Cluster\")\n",
    "plt.ylabel(\"PM2.5-Werte (standardisiert)\")\n",
    "plt.title(\"Vergleich der PM2.5-Werte in den Clustern\")\n",
    "plt.grid(True);"
   ]
  },
  {
   "cell_type": "code",
   "execution_count": null,
   "metadata": {},
   "outputs": [],
   "source": [
    "# Länder und ihre Cluster-Zugehörigkeit anzeigen\n",
    "df_clusters_sorted = df_clusters.sort_values(by=\"Cluster\")  # Nach Cluster sortieren\n",
    "df_clusters_sorted\n"
   ]
  },
  {
   "cell_type": "code",
   "execution_count": null,
   "metadata": {},
   "outputs": [],
   "source": [
    "# Test mit 4 oder 6 Clustern\n",
    "\n",
    "# K-Means mit 4 und 6 Clustern testen\n",
    "for k in [4, 6]:\n",
    "    kmeans = KMeans(n_clusters=k, random_state=42, n_init=10)\n",
    "    df_cluster_scaled[f\"Cluster_{k}\"] = kmeans.fit_predict(df_cluster_scaled)\n",
    "\n",
    "# Ergebnisse anzeigen\n",
    "df_clusters_test = df_cluster_scaled[[\"Cluster_4\", \"Cluster_6\"]]\n",
    "df_clusters_test\n"
   ]
  },
  {
   "cell_type": "code",
   "execution_count": null,
   "metadata": {},
   "outputs": [],
   "source": [
    "df_cluster_scaled.groupby(\"Cluster\").mean()\n"
   ]
  },
  {
   "cell_type": "code",
   "execution_count": null,
   "metadata": {},
   "outputs": [],
   "source": [
    "# K-Means nochmal ausführen, mit Stadt statt Land\n",
    "\n",
    "from sklearn.preprocessing import StandardScaler\n",
    "\n",
    "# Liste der Schadstoff-Features für das Clustering\n",
    "pollutants = [\"co\", \"no2\", \"o3\", \"so2\", \"pm10\", \"pm25\"]\n",
    "\n",
    "# Durchschnittliche Schadstoffwerte pro Stadt berechnen\n",
    "df_cluster = df.groupby(\"City\")[pollutants].mean().dropna()\n",
    "\n",
    "# Daten skalieren (K-Means ist empfindlich gegenüber unterschiedlichen Skalen)\n",
    "scaler = StandardScaler()\n",
    "df_scaled = scaler.fit_transform(df_cluster)\n",
    "\n",
    "# Ergebnis als DataFrame zurückgeben\n",
    "df_cluster_scaled = pd.DataFrame(df_scaled, index=df_cluster.index, columns=pollutants)\n",
    "\n",
    "# Überprüfen, ob die Daten korrekt vorbereitet sind\n",
    "df_cluster_scaled.head()\n"
   ]
  },
  {
   "cell_type": "code",
   "execution_count": null,
   "metadata": {},
   "outputs": [],
   "source": [
    "\n",
    "# Teheran rausschmeißen\n",
    "\n",
    "\n",
    "from sklearn.cluster import KMeans\n",
    "\n",
    "# Teste verschiedene Clusterzahlen (k = 1 bis 30) ohne Teheran\n",
    "inertia_no_tehran = []\n",
    "k_values = range(1, 31)\n",
    "\n",
    "for k in k_values:\n",
    "    kmeans = KMeans(n_clusters=k, random_state=42, n_init=10)\n",
    "    kmeans.fit(df_cluster_no_tehran.drop(columns=[\"Cluster\"]))  # Clustering ohne vorherige Cluster-Spalte\n",
    "    inertia_no_tehran.append(kmeans.inertia_)\n",
    "\n",
    "# Elbow-Plot erstellen\n",
    "plt.figure(figsize=(8, 5))\n",
    "plt.plot(k_values, inertia_no_tehran, marker='o', linestyle='-')\n",
    "plt.xlabel(\"Anzahl der Cluster (k)\")\n",
    "plt.ylabel(\"Inertia (Fehler)\")\n",
    "plt.title(\"Elbow-Methode ohne Teheran\")\n",
    "plt.grid(True);\n",
    "\n"
   ]
  },
  {
   "cell_type": "code",
   "execution_count": null,
   "metadata": {},
   "outputs": [],
   "source": [
    "# K-Means Clustering mit 4 Clustern (oder einer anderen optimalen Zahl)\n",
    "kmeans = KMeans(n_clusters=4, random_state=42, n_init=10)\n",
    "df_cluster_scaled[\"Cluster\"] = kmeans.fit_predict(df_cluster_scaled)\n",
    "\n",
    "# Cluster-Zugehörigkeit pro Stadt anzeigen\n",
    "df_clusters = df_cluster_scaled[[\"Cluster\"]]\n",
    "df_clusters_sorted = df_clusters.sort_values(by=\"Cluster\")  # Sortiert nach Cluster\n",
    "df_clusters_sorted\n"
   ]
  },
  {
   "cell_type": "code",
   "execution_count": null,
   "metadata": {},
   "outputs": [],
   "source": [
    "# Teheran aus dem DataFrame entfernen\n",
    "df_cluster_no_tehran = df_cluster_scaled.drop(index=\"Tehran\")\n",
    "\n",
    "# K-Means erneut ausführen mit 5 Clustern (oder einer anderen optimalen Zahl)\n",
    "kmeans = KMeans(n_clusters=5, random_state=42, n_init=10)\n",
    "df_cluster_no_tehran[\"Cluster\"] = kmeans.fit_predict(df_cluster_no_tehran)\n",
    "\n",
    "# Neue Cluster-Zugehörigkeit der Städte anzeigen\n",
    "df_clusters_no_tehran = df_cluster_no_tehran[[\"Cluster\"]]\n",
    "df_clusters_no_tehran_sorted = df_clusters_no_tehran.sort_values(by=\"Cluster\")  # Sortiert nach Cluster\n",
    "df_clusters_no_tehran_sorted\n"
   ]
  }
 ],
 "metadata": {
  "kernelspec": {
   "display_name": ".venv",
   "language": "python",
   "name": "python3"
  },
  "language_info": {
   "codemirror_mode": {
    "name": "ipython",
    "version": 3
   },
   "file_extension": ".py",
   "mimetype": "text/x-python",
   "name": "python",
   "nbconvert_exporter": "python",
   "pygments_lexer": "ipython3",
   "version": "3.11.4"
  }
 },
 "nbformat": 4,
 "nbformat_minor": 2
}
