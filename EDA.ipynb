{
 "cells": [
  {
   "cell_type": "markdown",
   "metadata": {},
   "source": [
    "# Inhaltsübersicht EDA\n",
    "\n",
    "### 0. Datensatz laden und bereinigen mit data_preparation.py (neu machen, wenn Funktion abgeschlossen)\n",
    "- kurze Beschreibung der Daten (Ursprung, Umfang)\n",
    "- Funktion data_import()\n",
    "- Funktion data_cleaning()\n",
    "\n",
    "### 1. Überblick über den Datensatz\n",
    "- Spaltenbeschreibung/Datentypen: Funktion overview()\n",
    "- Fehlende Werte (NaN-Anteile)\n",
    "- Entfernen von Variablen mit mehr als 50% fehlenden Werten\n",
    "\n",
    "### 2. Deskriptive Statistik & Ausreißer-Handling\n",
    "#### 2.1 Schadstoffe (einzeln)\n",
    "- describe()-Tabelle für Schadstoffe\n",
    "- Stripplots zur Ausreißererkennung für alle Schadstoffe\n",
    "- Vergleich von Mean und Median und Schiefe (skew)\n",
    "- Zellenweise Ersetzung durch NaN (statt Zeilenlöschung)\n",
    "- Dokumentaton der Schwellenwerte (Cutoff) und Filterlogik\n",
    "- Tabelle mit Anzahl der entfernten Werte\n",
    "\n",
    "#### 2.2 Wetter (Schleife)\n",
    "- describe()-Tabelle für Wetter\n",
    "- Stripplots und Kennzahlen zur Ausreißererkennung für alle Wettervariablen\n",
    "- Festlegen der Schwellenwerte für Ausreißer, Ersetzen durch NaN\n",
    "- Dokumentaton der Schwellenwerte (Cutoff) und Filterlogik\n",
    "- Tabelle mit Anzahl der entfernten Werte\n",
    "\n",
    "### 3. Korrelationsanalysen\n",
    "#### 3.1 Korelationsmatrix\n",
    "- Korrelationsmatrix (Pearson)\n",
    "- Identifikation und Dokumentation der stärksten Korrelationen\n",
    "- Empfehlung zur Variablenselektion (evtl. PCA)\n",
    "\n",
    "#### 3.2 Pairplots der wichtigsten Feature-Paare\n",
    "- Berechnung und Interpretation von Pairplots\n",
    "- Überprüfen der Art des Zusammenhangs (linear oder nicht) mit linearer Regression und LOWESS (Local Weighted Scatterplot Smoothing)\n",
    "- Individuell getestete Feature-Paare: PM10-PM25, NO₂-PM10, NO₂-PM25, Humidity-PM25, O3-Tavg, Tmin-Dew, Pres-Dew, Pres-Tmin \n",
    "- Abschließende Bewertung der Korrelationen und der Datenstruktur"
   ]
  },
  {
   "cell_type": "markdown",
   "metadata": {},
   "source": [
    "# 0. Datensatz laden\n",
    "\n",
    "Der Datensatz enthält Messungen zur Luftqualität sowie Wetter- und Bevölkerungdaten aus den Jahren 2014-2024, aggregiert aus verschiedenen Quellen mit einem anfänglichen Gesamtumfang von ca. 14 Mio Datenpunkten (s. README.md --> Datenquellen)\n",
    "Um alle Daten in einem Pandas-Dataframe bearbeiten zu können, werden zunächst die Datensätze mit der Funktion data_import() aggregiert und anschlie0end mit der Funktion data_cleaning() so bereinigt, dass z.B. redundante Spalten entfernt werden. Die Funktionen und ihre Unterfunktionen finden befinden sich im Skript data_preparation.py."
   ]
  },
  {
   "cell_type": "code",
   "execution_count": 1,
   "metadata": {},
   "outputs": [],
   "source": [
    "# imports\n",
    "import numpy as np\n",
    "import pandas as pd\n",
    "import matplotlib.pyplot as plt\n",
    "import seaborn as sns\n",
    "from scipy.stats import skew\n",
    "%matplotlib inline"
   ]
  },
  {
   "cell_type": "code",
   "execution_count": 2,
   "metadata": {},
   "outputs": [],
   "source": [
    "# Settings for displaying floats\n",
    "pd.set_option('display.float_format', '{:,.2f}'.format)"
   ]
  },
  {
   "cell_type": "code",
   "execution_count": 3,
   "metadata": {},
   "outputs": [
    {
     "data": {
      "text/html": [
       "<div>\n",
       "<style scoped>\n",
       "    .dataframe tbody tr th:only-of-type {\n",
       "        vertical-align: middle;\n",
       "    }\n",
       "\n",
       "    .dataframe tbody tr th {\n",
       "        vertical-align: top;\n",
       "    }\n",
       "\n",
       "    .dataframe thead th {\n",
       "        text-align: right;\n",
       "    }\n",
       "</style>\n",
       "<table border=\"1\" class=\"dataframe\">\n",
       "  <thead>\n",
       "    <tr style=\"text-align: right;\">\n",
       "      <th></th>\n",
       "      <th>Year</th>\n",
       "      <th>Month</th>\n",
       "      <th>Day</th>\n",
       "      <th>Country</th>\n",
       "      <th>City</th>\n",
       "      <th>Latitude</th>\n",
       "      <th>Longitude</th>\n",
       "      <th>Co</th>\n",
       "      <th>No2</th>\n",
       "      <th>O3</th>\n",
       "      <th>...</th>\n",
       "      <th>So2</th>\n",
       "      <th>Dew</th>\n",
       "      <th>Humidity</th>\n",
       "      <th>Tavg</th>\n",
       "      <th>Tmin</th>\n",
       "      <th>Tmax</th>\n",
       "      <th>Prcp</th>\n",
       "      <th>Wdir</th>\n",
       "      <th>Wspd</th>\n",
       "      <th>Pres</th>\n",
       "    </tr>\n",
       "  </thead>\n",
       "  <tbody>\n",
       "    <tr>\n",
       "      <th>0</th>\n",
       "      <td>2014</td>\n",
       "      <td>12</td>\n",
       "      <td>29</td>\n",
       "      <td>AT</td>\n",
       "      <td>Graz</td>\n",
       "      <td>47.07</td>\n",
       "      <td>15.45</td>\n",
       "      <td>0.10</td>\n",
       "      <td>9.00</td>\n",
       "      <td>NaN</td>\n",
       "      <td>...</td>\n",
       "      <td>1.60</td>\n",
       "      <td>NaN</td>\n",
       "      <td>NaN</td>\n",
       "      <td>NaN</td>\n",
       "      <td>NaN</td>\n",
       "      <td>NaN</td>\n",
       "      <td>NaN</td>\n",
       "      <td>NaN</td>\n",
       "      <td>NaN</td>\n",
       "      <td>NaN</td>\n",
       "    </tr>\n",
       "    <tr>\n",
       "      <th>1</th>\n",
       "      <td>2014</td>\n",
       "      <td>12</td>\n",
       "      <td>29</td>\n",
       "      <td>AT</td>\n",
       "      <td>Innsbruck</td>\n",
       "      <td>47.26</td>\n",
       "      <td>11.39</td>\n",
       "      <td>0.10</td>\n",
       "      <td>25.60</td>\n",
       "      <td>NaN</td>\n",
       "      <td>...</td>\n",
       "      <td>1.60</td>\n",
       "      <td>NaN</td>\n",
       "      <td>NaN</td>\n",
       "      <td>NaN</td>\n",
       "      <td>NaN</td>\n",
       "      <td>NaN</td>\n",
       "      <td>NaN</td>\n",
       "      <td>NaN</td>\n",
       "      <td>NaN</td>\n",
       "      <td>NaN</td>\n",
       "    </tr>\n",
       "    <tr>\n",
       "      <th>2</th>\n",
       "      <td>2014</td>\n",
       "      <td>12</td>\n",
       "      <td>29</td>\n",
       "      <td>AT</td>\n",
       "      <td>Linz</td>\n",
       "      <td>48.31</td>\n",
       "      <td>14.29</td>\n",
       "      <td>0.10</td>\n",
       "      <td>14.20</td>\n",
       "      <td>NaN</td>\n",
       "      <td>...</td>\n",
       "      <td>2.10</td>\n",
       "      <td>NaN</td>\n",
       "      <td>NaN</td>\n",
       "      <td>NaN</td>\n",
       "      <td>NaN</td>\n",
       "      <td>NaN</td>\n",
       "      <td>NaN</td>\n",
       "      <td>NaN</td>\n",
       "      <td>NaN</td>\n",
       "      <td>NaN</td>\n",
       "    </tr>\n",
       "    <tr>\n",
       "      <th>3</th>\n",
       "      <td>2014</td>\n",
       "      <td>12</td>\n",
       "      <td>29</td>\n",
       "      <td>AT</td>\n",
       "      <td>Salzburg</td>\n",
       "      <td>47.80</td>\n",
       "      <td>13.04</td>\n",
       "      <td>0.10</td>\n",
       "      <td>21.10</td>\n",
       "      <td>NaN</td>\n",
       "      <td>...</td>\n",
       "      <td>2.10</td>\n",
       "      <td>NaN</td>\n",
       "      <td>NaN</td>\n",
       "      <td>NaN</td>\n",
       "      <td>NaN</td>\n",
       "      <td>NaN</td>\n",
       "      <td>NaN</td>\n",
       "      <td>NaN</td>\n",
       "      <td>NaN</td>\n",
       "      <td>NaN</td>\n",
       "    </tr>\n",
       "    <tr>\n",
       "      <th>4</th>\n",
       "      <td>2014</td>\n",
       "      <td>12</td>\n",
       "      <td>29</td>\n",
       "      <td>AT</td>\n",
       "      <td>Vienna</td>\n",
       "      <td>48.21</td>\n",
       "      <td>16.37</td>\n",
       "      <td>0.10</td>\n",
       "      <td>9.00</td>\n",
       "      <td>NaN</td>\n",
       "      <td>...</td>\n",
       "      <td>2.60</td>\n",
       "      <td>NaN</td>\n",
       "      <td>NaN</td>\n",
       "      <td>NaN</td>\n",
       "      <td>NaN</td>\n",
       "      <td>NaN</td>\n",
       "      <td>NaN</td>\n",
       "      <td>NaN</td>\n",
       "      <td>NaN</td>\n",
       "      <td>NaN</td>\n",
       "    </tr>\n",
       "  </tbody>\n",
       "</table>\n",
       "<p>5 rows × 22 columns</p>\n",
       "</div>"
      ],
      "text/plain": [
       "   Year  Month  Day Country       City  Latitude  Longitude   Co   No2  O3  \\\n",
       "0  2014     12   29      AT       Graz     47.07      15.45 0.10  9.00 NaN   \n",
       "1  2014     12   29      AT  Innsbruck     47.26      11.39 0.10 25.60 NaN   \n",
       "2  2014     12   29      AT       Linz     48.31      14.29 0.10 14.20 NaN   \n",
       "3  2014     12   29      AT   Salzburg     47.80      13.04 0.10 21.10 NaN   \n",
       "4  2014     12   29      AT     Vienna     48.21      16.37 0.10  9.00 NaN   \n",
       "\n",
       "   ...  So2  Dew  Humidity  Tavg  Tmin  Tmax  Prcp  Wdir  Wspd  Pres  \n",
       "0  ... 1.60  NaN       NaN   NaN   NaN   NaN   NaN   NaN   NaN   NaN  \n",
       "1  ... 1.60  NaN       NaN   NaN   NaN   NaN   NaN   NaN   NaN   NaN  \n",
       "2  ... 2.10  NaN       NaN   NaN   NaN   NaN   NaN   NaN   NaN   NaN  \n",
       "3  ... 2.10  NaN       NaN   NaN   NaN   NaN   NaN   NaN   NaN   NaN  \n",
       "4  ... 2.60  NaN       NaN   NaN   NaN   NaN   NaN   NaN   NaN   NaN  \n",
       "\n",
       "[5 rows x 22 columns]"
      ]
     },
     "execution_count": 3,
     "metadata": {},
     "output_type": "execute_result"
    }
   ],
   "source": [
    "df = pd.read_csv(\"./data/cleaned_air_quality_data_2025_03_25.csv\")\n",
    "df.head()"
   ]
  },
  {
   "cell_type": "code",
   "execution_count": 4,
   "metadata": {},
   "outputs": [
    {
     "data": {
      "text/plain": [
       "Index(['Year', 'Month', 'Day', 'Country', 'City', 'Latitude', 'Longitude',\n",
       "       'Co', 'No2', 'O3', 'Pm10', 'Pm25', 'So2', 'Dew', 'Humidity', 'Tavg',\n",
       "       'Tmin', 'Tmax', 'Prcp', 'Wdir', 'Wspd', 'Pres'],\n",
       "      dtype='object')"
      ]
     },
     "execution_count": 4,
     "metadata": {},
     "output_type": "execute_result"
    }
   ],
   "source": [
    "# Zelle löschen, wenn cleaning-Funktion das übernimmt!\n",
    "\n",
    "df.columns\n",
    "\n",
    "# Some redundant columns still need to be removed from df manually: Temperature, Pressure, Wind-speed"
   ]
  },
  {
   "cell_type": "code",
   "execution_count": 6,
   "metadata": {},
   "outputs": [
    {
     "data": {
      "text/plain": [
       "(1695041, 22)"
      ]
     },
     "execution_count": 6,
     "metadata": {},
     "output_type": "execute_result"
    }
   ],
   "source": [
    "df.shape"
   ]
  },
  {
   "cell_type": "markdown",
   "metadata": {},
   "source": [
    "# 1. Überblick über den Datensatz\n",
    "\n",
    "- Überblicksfunktion .overview()\n",
    "- Fehlende Werte ausloten und Spalten mit < 50% Daten entfernen.\n",
    "- Nach dem kompletten Entfernen aller Spalten mit < 50% Daten umfasst der Datensatz **1.695.041 Zeilen und 22 Spalten**."
   ]
  },
  {
   "cell_type": "code",
   "execution_count": 7,
   "metadata": {},
   "outputs": [],
   "source": [
    "# Function to create overview for dtypes, missing values, unique values\n",
    "\n",
    "def overview(df):\n",
    "    '''\n",
    "    Erstelle einen Überblick über einige Eigenschaften der Spalten eines DataFrames.\n",
    "    VARs\n",
    "        df: Der zu betrachtende DataFrame\n",
    "    RETURNS:\n",
    "        None\n",
    "    '''\n",
    "    display(pd.DataFrame({'dtype': df.dtypes,\n",
    "                          'total': df.count(),\n",
    "                          'missing': df.isna().sum(),\n",
    "                          'missing%': df.isna().mean()*100,\n",
    "                          'n_uniques': df.nunique(),\n",
    "                          'uniques%': df.nunique()/df.shape[0]*100,\n",
    "                          'uniques': [df[col].unique() for col in df.columns]\n",
    "                         }))\n"
   ]
  },
  {
   "cell_type": "code",
   "execution_count": 8,
   "metadata": {},
   "outputs": [
    {
     "data": {
      "text/html": [
       "<div>\n",
       "<style scoped>\n",
       "    .dataframe tbody tr th:only-of-type {\n",
       "        vertical-align: middle;\n",
       "    }\n",
       "\n",
       "    .dataframe tbody tr th {\n",
       "        vertical-align: top;\n",
       "    }\n",
       "\n",
       "    .dataframe thead th {\n",
       "        text-align: right;\n",
       "    }\n",
       "</style>\n",
       "<table border=\"1\" class=\"dataframe\">\n",
       "  <thead>\n",
       "    <tr style=\"text-align: right;\">\n",
       "      <th></th>\n",
       "      <th>dtype</th>\n",
       "      <th>total</th>\n",
       "      <th>missing</th>\n",
       "      <th>missing%</th>\n",
       "      <th>n_uniques</th>\n",
       "      <th>uniques%</th>\n",
       "      <th>uniques</th>\n",
       "    </tr>\n",
       "  </thead>\n",
       "  <tbody>\n",
       "    <tr>\n",
       "      <th>Year</th>\n",
       "      <td>int64</td>\n",
       "      <td>1695041</td>\n",
       "      <td>0</td>\n",
       "      <td>0.00</td>\n",
       "      <td>12</td>\n",
       "      <td>0.00</td>\n",
       "      <td>[2014, 2015, 2016, 2017, 2018, 2019, 2020, 202...</td>\n",
       "    </tr>\n",
       "    <tr>\n",
       "      <th>Month</th>\n",
       "      <td>int64</td>\n",
       "      <td>1695041</td>\n",
       "      <td>0</td>\n",
       "      <td>0.00</td>\n",
       "      <td>12</td>\n",
       "      <td>0.00</td>\n",
       "      <td>[12, 1, 2, 3, 4, 5, 6, 7, 8, 9, 10, 11]</td>\n",
       "    </tr>\n",
       "    <tr>\n",
       "      <th>Day</th>\n",
       "      <td>int64</td>\n",
       "      <td>1695041</td>\n",
       "      <td>0</td>\n",
       "      <td>0.00</td>\n",
       "      <td>31</td>\n",
       "      <td>0.00</td>\n",
       "      <td>[29, 30, 31, 1, 2, 3, 4, 5, 6, 7, 8, 9, 10, 11...</td>\n",
       "    </tr>\n",
       "    <tr>\n",
       "      <th>Country</th>\n",
       "      <td>object</td>\n",
       "      <td>1695041</td>\n",
       "      <td>0</td>\n",
       "      <td>0.00</td>\n",
       "      <td>95</td>\n",
       "      <td>0.01</td>\n",
       "      <td>[AT, AU, BE, BO, BR, CA, CH, CL, CN, CO, CY, C...</td>\n",
       "    </tr>\n",
       "    <tr>\n",
       "      <th>City</th>\n",
       "      <td>object</td>\n",
       "      <td>1695041</td>\n",
       "      <td>0</td>\n",
       "      <td>0.00</td>\n",
       "      <td>616</td>\n",
       "      <td>0.04</td>\n",
       "      <td>[Graz, Innsbruck, Linz, Salzburg, Vienna, Bris...</td>\n",
       "    </tr>\n",
       "    <tr>\n",
       "      <th>Latitude</th>\n",
       "      <td>float64</td>\n",
       "      <td>1692212</td>\n",
       "      <td>2829</td>\n",
       "      <td>0.17</td>\n",
       "      <td>617</td>\n",
       "      <td>0.04</td>\n",
       "      <td>[47.06667, 47.26266, 48.30639, 47.79941, 48.20...</td>\n",
       "    </tr>\n",
       "    <tr>\n",
       "      <th>Longitude</th>\n",
       "      <td>float64</td>\n",
       "      <td>1692212</td>\n",
       "      <td>2829</td>\n",
       "      <td>0.17</td>\n",
       "      <td>616</td>\n",
       "      <td>0.04</td>\n",
       "      <td>[15.45, 11.39454, 14.28611, 13.04399, 16.37208...</td>\n",
       "    </tr>\n",
       "    <tr>\n",
       "      <th>Co</th>\n",
       "      <td>float64</td>\n",
       "      <td>1063073</td>\n",
       "      <td>631968</td>\n",
       "      <td>37.28</td>\n",
       "      <td>988</td>\n",
       "      <td>0.06</td>\n",
       "      <td>[0.1, 1.9, 2.1, nan, 2.3, 2.0, 3.4, 5.5, 3.8, ...</td>\n",
       "    </tr>\n",
       "    <tr>\n",
       "      <th>No2</th>\n",
       "      <td>float64</td>\n",
       "      <td>1408527</td>\n",
       "      <td>286514</td>\n",
       "      <td>16.90</td>\n",
       "      <td>1271</td>\n",
       "      <td>0.07</td>\n",
       "      <td>[9.0, 25.6, 14.2, 21.1, 4.6, 0.7, nan, 6.5, 4....</td>\n",
       "    </tr>\n",
       "    <tr>\n",
       "      <th>O3</th>\n",
       "      <td>float64</td>\n",
       "      <td>1320290</td>\n",
       "      <td>374751</td>\n",
       "      <td>22.11</td>\n",
       "      <td>1496</td>\n",
       "      <td>0.09</td>\n",
       "      <td>[nan, 3.7, 4.3, 12.8, 15.2, 21.0, 17.6, 6.1, 2...</td>\n",
       "    </tr>\n",
       "    <tr>\n",
       "      <th>Pm10</th>\n",
       "      <td>float64</td>\n",
       "      <td>1352934</td>\n",
       "      <td>342107</td>\n",
       "      <td>20.18</td>\n",
       "      <td>1165</td>\n",
       "      <td>0.07</td>\n",
       "      <td>[13.0, 25.0, 21.0, 20.0, 11.0, 9.0, 16.0, 14.0...</td>\n",
       "    </tr>\n",
       "    <tr>\n",
       "      <th>Pm25</th>\n",
       "      <td>float64</td>\n",
       "      <td>1432153</td>\n",
       "      <td>262888</td>\n",
       "      <td>15.51</td>\n",
       "      <td>1036</td>\n",
       "      <td>0.06</td>\n",
       "      <td>[nan, 74.0, 65.0, 20.0, 19.0, 13.0, 9.0, 27.0,...</td>\n",
       "    </tr>\n",
       "    <tr>\n",
       "      <th>So2</th>\n",
       "      <td>float64</td>\n",
       "      <td>1161909</td>\n",
       "      <td>533132</td>\n",
       "      <td>31.45</td>\n",
       "      <td>1171</td>\n",
       "      <td>0.07</td>\n",
       "      <td>[1.6, 2.1, 2.6, 1.1, nan, 4.3, 2.9, 5.8, 1.5, ...</td>\n",
       "    </tr>\n",
       "    <tr>\n",
       "      <th>Dew</th>\n",
       "      <td>float64</td>\n",
       "      <td>1000150</td>\n",
       "      <td>694891</td>\n",
       "      <td>41.00</td>\n",
       "      <td>652</td>\n",
       "      <td>0.04</td>\n",
       "      <td>[nan, 16.0, 14.0, 0.5, 2.5, 1.0, 11.0, 18.0, 2...</td>\n",
       "    </tr>\n",
       "    <tr>\n",
       "      <th>Humidity</th>\n",
       "      <td>float64</td>\n",
       "      <td>1306627</td>\n",
       "      <td>388414</td>\n",
       "      <td>22.91</td>\n",
       "      <td>1001</td>\n",
       "      <td>0.06</td>\n",
       "      <td>[nan, 0.0, 100.0, 99.0, 94.0, 84.0, 82.0, 66.0...</td>\n",
       "    </tr>\n",
       "    <tr>\n",
       "      <th>Tavg</th>\n",
       "      <td>float64</td>\n",
       "      <td>1400959</td>\n",
       "      <td>294082</td>\n",
       "      <td>17.35</td>\n",
       "      <td>788</td>\n",
       "      <td>0.05</td>\n",
       "      <td>[nan, -4.0, 25.4, 2.8, 2.2, 1.3, 2.6, 20.9, -2...</td>\n",
       "    </tr>\n",
       "    <tr>\n",
       "      <th>Tmin</th>\n",
       "      <td>float64</td>\n",
       "      <td>1376504</td>\n",
       "      <td>318537</td>\n",
       "      <td>18.79</td>\n",
       "      <td>774</td>\n",
       "      <td>0.05</td>\n",
       "      <td>[nan, -6.4, 15.1, 25.2, 23.7, 13.6, 12.8, 11.2...</td>\n",
       "    </tr>\n",
       "    <tr>\n",
       "      <th>Tmax</th>\n",
       "      <td>float64</td>\n",
       "      <td>1374162</td>\n",
       "      <td>320879</td>\n",
       "      <td>18.93</td>\n",
       "      <td>819</td>\n",
       "      <td>0.05</td>\n",
       "      <td>[nan, 0.4, 37.0, 31.3, 26.9, 22.4, 24.6, 27.9,...</td>\n",
       "    </tr>\n",
       "    <tr>\n",
       "      <th>Prcp</th>\n",
       "      <td>float64</td>\n",
       "      <td>1038541</td>\n",
       "      <td>656500</td>\n",
       "      <td>38.73</td>\n",
       "      <td>1377</td>\n",
       "      <td>0.08</td>\n",
       "      <td>[nan, 0.0, 12.2, 129.4, 6.6, 0.5, 2.8, 3.9, 4....</td>\n",
       "    </tr>\n",
       "    <tr>\n",
       "      <th>Wdir</th>\n",
       "      <td>float64</td>\n",
       "      <td>1169606</td>\n",
       "      <td>525435</td>\n",
       "      <td>31.00</td>\n",
       "      <td>361</td>\n",
       "      <td>0.02</td>\n",
       "      <td>[nan, 18.0, 209.0, 210.0, 205.0, 188.0, 316.0,...</td>\n",
       "    </tr>\n",
       "    <tr>\n",
       "      <th>Wspd</th>\n",
       "      <td>float64</td>\n",
       "      <td>1239020</td>\n",
       "      <td>456021</td>\n",
       "      <td>26.90</td>\n",
       "      <td>652</td>\n",
       "      <td>0.04</td>\n",
       "      <td>[nan, 3.5, 11.5, 17.4, 17.7, 19.5, 18.6, 19.1,...</td>\n",
       "    </tr>\n",
       "    <tr>\n",
       "      <th>Pres</th>\n",
       "      <td>float64</td>\n",
       "      <td>1202980</td>\n",
       "      <td>492061</td>\n",
       "      <td>29.03</td>\n",
       "      <td>912</td>\n",
       "      <td>0.05</td>\n",
       "      <td>[nan, 1033.4, 1034.2, 1035.3, 1034.0, 1016.0, ...</td>\n",
       "    </tr>\n",
       "  </tbody>\n",
       "</table>\n",
       "</div>"
      ],
      "text/plain": [
       "             dtype    total  missing  missing%  n_uniques  uniques%  \\\n",
       "Year         int64  1695041        0      0.00         12      0.00   \n",
       "Month        int64  1695041        0      0.00         12      0.00   \n",
       "Day          int64  1695041        0      0.00         31      0.00   \n",
       "Country     object  1695041        0      0.00         95      0.01   \n",
       "City        object  1695041        0      0.00        616      0.04   \n",
       "Latitude   float64  1692212     2829      0.17        617      0.04   \n",
       "Longitude  float64  1692212     2829      0.17        616      0.04   \n",
       "Co         float64  1063073   631968     37.28        988      0.06   \n",
       "No2        float64  1408527   286514     16.90       1271      0.07   \n",
       "O3         float64  1320290   374751     22.11       1496      0.09   \n",
       "Pm10       float64  1352934   342107     20.18       1165      0.07   \n",
       "Pm25       float64  1432153   262888     15.51       1036      0.06   \n",
       "So2        float64  1161909   533132     31.45       1171      0.07   \n",
       "Dew        float64  1000150   694891     41.00        652      0.04   \n",
       "Humidity   float64  1306627   388414     22.91       1001      0.06   \n",
       "Tavg       float64  1400959   294082     17.35        788      0.05   \n",
       "Tmin       float64  1376504   318537     18.79        774      0.05   \n",
       "Tmax       float64  1374162   320879     18.93        819      0.05   \n",
       "Prcp       float64  1038541   656500     38.73       1377      0.08   \n",
       "Wdir       float64  1169606   525435     31.00        361      0.02   \n",
       "Wspd       float64  1239020   456021     26.90        652      0.04   \n",
       "Pres       float64  1202980   492061     29.03        912      0.05   \n",
       "\n",
       "                                                     uniques  \n",
       "Year       [2014, 2015, 2016, 2017, 2018, 2019, 2020, 202...  \n",
       "Month                [12, 1, 2, 3, 4, 5, 6, 7, 8, 9, 10, 11]  \n",
       "Day        [29, 30, 31, 1, 2, 3, 4, 5, 6, 7, 8, 9, 10, 11...  \n",
       "Country    [AT, AU, BE, BO, BR, CA, CH, CL, CN, CO, CY, C...  \n",
       "City       [Graz, Innsbruck, Linz, Salzburg, Vienna, Bris...  \n",
       "Latitude   [47.06667, 47.26266, 48.30639, 47.79941, 48.20...  \n",
       "Longitude  [15.45, 11.39454, 14.28611, 13.04399, 16.37208...  \n",
       "Co         [0.1, 1.9, 2.1, nan, 2.3, 2.0, 3.4, 5.5, 3.8, ...  \n",
       "No2        [9.0, 25.6, 14.2, 21.1, 4.6, 0.7, nan, 6.5, 4....  \n",
       "O3         [nan, 3.7, 4.3, 12.8, 15.2, 21.0, 17.6, 6.1, 2...  \n",
       "Pm10       [13.0, 25.0, 21.0, 20.0, 11.0, 9.0, 16.0, 14.0...  \n",
       "Pm25       [nan, 74.0, 65.0, 20.0, 19.0, 13.0, 9.0, 27.0,...  \n",
       "So2        [1.6, 2.1, 2.6, 1.1, nan, 4.3, 2.9, 5.8, 1.5, ...  \n",
       "Dew        [nan, 16.0, 14.0, 0.5, 2.5, 1.0, 11.0, 18.0, 2...  \n",
       "Humidity   [nan, 0.0, 100.0, 99.0, 94.0, 84.0, 82.0, 66.0...  \n",
       "Tavg       [nan, -4.0, 25.4, 2.8, 2.2, 1.3, 2.6, 20.9, -2...  \n",
       "Tmin       [nan, -6.4, 15.1, 25.2, 23.7, 13.6, 12.8, 11.2...  \n",
       "Tmax       [nan, 0.4, 37.0, 31.3, 26.9, 22.4, 24.6, 27.9,...  \n",
       "Prcp       [nan, 0.0, 12.2, 129.4, 6.6, 0.5, 2.8, 3.9, 4....  \n",
       "Wdir       [nan, 18.0, 209.0, 210.0, 205.0, 188.0, 316.0,...  \n",
       "Wspd       [nan, 3.5, 11.5, 17.4, 17.7, 19.5, 18.6, 19.1,...  \n",
       "Pres       [nan, 1033.4, 1034.2, 1035.3, 1034.0, 1016.0, ...  "
      ]
     },
     "metadata": {},
     "output_type": "display_data"
    }
   ],
   "source": [
    "overview(df)"
   ]
  },
  {
   "cell_type": "code",
   "execution_count": null,
   "metadata": {},
   "outputs": [],
   "source": [
    "# Sort missing values (descending)\n",
    "\n",
    "missing_percent = df.isna().mean() * 100\n",
    "missing_percent_sorted = missing_percent.sort_values(ascending=False)\n",
    "\n",
    "print(missing_percent_sorted)\n"
   ]
  },
  {
   "cell_type": "code",
   "execution_count": null,
   "metadata": {},
   "outputs": [],
   "source": [
    "# Ursprünglich wurden hier Spalten mit >50% fehlenden Werten entfernt.\n",
    "# Der aktuelle Datensatz ist vollständig genug – daher ist dieser Schritt derzeit nicht notwendig.\n",
    "# Falls sich das ändert, kann der folgende Codeblock wieder aktiviert werden:\n",
    "\n",
    "# # Remove all columns with more than 50% missing values\n",
    "# # Note: This removes population data entirely!\n",
    "\n",
    "# # Anzahl der Spalten vor dem Entfernen merken\n",
    "# original_columns = df.shape[1]\n",
    "\n",
    "# df = df.loc[:, missing_percent <= 50]\n",
    "\n",
    "# # Print what has changed\n",
    "# print(f\"Anzahl der entfernten Spalten: {original_columns - df.shape[1]}\")\n",
    "# removed = missing_percent[missing_percent > 50].index\n",
    "# print(\"Entfernte Spalten:\", list(removed))\n",
    "# print(\"Übrige Spalten:\", df.columns)\n",
    "\n",
    "# df.shape()"
   ]
  },
  {
   "cell_type": "markdown",
   "metadata": {},
   "source": [
    "# 2. Deskriptive Statistik und Ausreißerentfernung\n",
    "\n",
    "Vor der systematischen Ausreißeranalyse ist es sinnvoll, kurz die Art der Daten zu reflektieren:\n",
    "Wetterdaten (wie Temperatur, Luftdruck oder Windgeschwindigkeit) werden seit Jahrzehnten weltweit standardisiert erfasst. Die verwendeten Messinstrumente sind technisch ausgereift, gut kalibriert und liefern in der Regel konsistente Ergebnisse. Aus diesem Grund ist hier nur mit wenigen Ausreißern oder Platzhalterwerten zu rechnen.\n",
    "\n",
    "Bei Schadstoffmessungen (wie PM₂.₅, NO₂ oder O₃) sieht die Situation anders aus. Diese Daten werden häufig mit komplexeren Sensoren erhoben, die empfindlicher auf Umwelteinflüsse oder Wartungsprobleme reagieren. Außerdem sind Schadstoffmessstationen nicht flächendeckend verfügbar, was zu uneinheitlicher Datenqualität führen kann. In der Praxis zeigt sich das häufig durch auffällige Ausreißerwerte oder symbolische Platzhalter wie 500 oder 999, die als Maximalwert oder Fehlwert dienen.\n",
    "\n",
    "Auf Basis dieser Überlegungen erwarten wir bei der folgenden Analyse:\n",
    "\n",
    "- Mehr auffällige Werte in den Schadstoffvariablen\n",
    "- Weniger (aber nicht zwingend keine) Ausreißer bei den Wetterdaten\n",
    "\n",
    "Diese Hypothese bestätigt sich auch in der Auswertung.\n",
    "\n",
    "Entsprechend dieser Erwartung wurde das methodische Vorgehen angepasst:\n",
    "\n",
    "- Die Schadstoffvariablen wurden einzeln analysiert – mit Stripplots, Schiefe-Werten und einer individuellen Beurteilung der Ausreißerstruktur.\n",
    "\n",
    "- Bei den Wettervariablen wurde – unter Berücksichtigung ihrer geringeren Anfälligkeit für Messfehler – eine automatisierte Analyse mittels Schleife durchgeführt, die Kennzahlen berechnet und visualisiert, um dennoch potenzielle Ausreißer strukturiert erkennen und ggf. entfernen zu können.\n",
    "\n",
    "Die Entscheidungen, wo jeweils der Schwellenwerte  für die Ausreißerentfernung gesetzt wird, sind nicht rein statistisch begründet (z.B. 99,99-Quantil als Cutoff), sondern werden für jedes Feature individuell getroffen. Ziel der Ausreißerentfernung ist es, sachlich unmögliche Werte zu entfernen, die natürliche Varianz zu erhalten und einen repräsentativen Datensatz für folgende Modellierungen zu schaffen.\n",
    "\n",
    "Methode zur Ausreißerentfernung: Zur Datenbereinigung wurden extreme Ausreißer in den Schadstoffwerten nicht durch das Entfernen ganzer Zeilen, sondern durch das gezielte Ersetzen der jeweiligen Zellen mit NaN behandelt. So bleiben andere valide Messwerte in der gleichen Zeile erhalten."
   ]
  },
  {
   "cell_type": "markdown",
   "metadata": {},
   "source": [
    "# Analyse der Schadstoffdaten"
   ]
  },
  {
   "cell_type": "code",
   "execution_count": null,
   "metadata": {},
   "outputs": [],
   "source": [
    "# Pollutants\n",
    "\n",
    "pollutant_cols = [\"Co\", \"Pm25\", \"Pm10\", \"So2\", \"No2\", \"O3\"]\n",
    "df[pollutant_cols].describe().T\n"
   ]
  },
  {
   "cell_type": "markdown",
   "metadata": {},
   "source": [
    "Die Messwerte, die als Maxima angegeben sind (Co = 500 oder Pm25 = 999) lassen Platzhalter für fehlende oder ungültige Daten vermuten. Solche Werte können die Verteilung erheblich verzerren und sollten im Folgenden genau in Augenschein genommen werden.\n",
    "\n",
    "Damit die Anzahl der entfernten Ausreißer ermittelt werden kann, muss vor der Aureißerentfernung deren Anzahl ermittelt und gespeichert werden:"
   ]
  },
  {
   "cell_type": "code",
   "execution_count": null,
   "metadata": {},
   "outputs": [],
   "source": [
    "# Vor der Bereinigung: fehlende Werte zählen\n",
    "missing_before = df.isna().sum()\n",
    "\n",
    "# Gesamtgröße des df speichern, um später den Prozentsatz an durch Ausreißerentfernung verlorenen Werten zu berechnen\n",
    "total_values_before = df.shape[0] * df.shape[1]"
   ]
  },
  {
   "cell_type": "markdown",
   "metadata": {},
   "source": [
    "## Mittelgroße Feinstaubpartikel (Pm25)\n",
    "\n",
    "\"Die als Feinstaub (PM2,5) bezeichnete Staubfraktion enthält 50% der Teilchen mit einem Durchmesser von 2,5 µm, einen höheren Anteil kleinerer Teilchen und einen niedrigeren Anteil größerer Teilchen.\" (https://www.umweltbundesamt.at/umweltthemen/luft/luftschadstoffe/staub/pm25)\n"
   ]
  },
  {
   "cell_type": "code",
   "execution_count": null,
   "metadata": {},
   "outputs": [],
   "source": [
    "sns.stripplot(x=df[\"Pm25\"], size=2, jitter=0.3)\n",
    "plt.title(\"PM2.5 Einzelwerte\")\n",
    "plt.xlabel(\"PM2.5-Konzentration (µg/m³)\")\n",
    "plt.grid(True);"
   ]
  },
  {
   "cell_type": "markdown",
   "metadata": {},
   "source": [
    "Bei der visuellen Analyse der PM2.5-Messwerte fällt eine ungewöhnliche Häufung im Bereich zwischen 816 und 834 µg/m³ auf, begleitet von vereinzelten extrem hohen Werten bei 981 und 999 µg/m³. Diese Werte liegen deutlich außerhalb des realistischen Messbereichs und deuten auf Messfehler, Platzhalterwerte oder systembedingte Übertragungsfehler hin. Um die Analyse nicht zu verzerren, werden daher alle PM2.5-Werte ab 816 µg/m³ ausgeschlossen."
   ]
  },
  {
   "cell_type": "code",
   "execution_count": null,
   "metadata": {},
   "outputs": [],
   "source": [
    "# PM2.5 >= 816\n",
    "df.loc[df[\"Pm25\"] >= 816, \"Pm25\"] = np.nan"
   ]
  },
  {
   "cell_type": "code",
   "execution_count": null,
   "metadata": {},
   "outputs": [],
   "source": [
    "sns.histplot(df[\"Pm25\"], bins=50)"
   ]
  },
  {
   "cell_type": "code",
   "execution_count": null,
   "metadata": {},
   "outputs": [],
   "source": [
    "mean_pm25 = df[\"Pm25\"].mean()\n",
    "median_pm25 = df[\"Pm25\"].median()\n",
    "skew_pm25 = skew(df[\"Pm25\"].dropna())\n",
    "\n",
    "print(f\"Mittelwert (mean): {mean_pm25:.2f}\")\n",
    "print(f\"Median:            {median_pm25:.2f}\")\n",
    "print(f\"Schiefe (Skewness): {skew_pm25:.2f}\")"
   ]
  },
  {
   "cell_type": "markdown",
   "metadata": {},
   "source": [
    "### Verteilung der bereinigten PM2.5-Werte\n",
    "\n",
    "Die PM2.5-Werte zeigen eine deutlich rechtsschiefe Verteilung. Der Mittelwert liegt bei 53,19 µg/m³, während der Median nur 42,00 µg/m³ beträgt. Zusätzlich ergibt die Berechnung der Schiefe (Skewness) einen Wert von 2,26, was auf eine starke Asymmetrie hindeutet.\n",
    "Diese rechtsschiefe Verteilung bedeutet, dass der Großteil der Messwerte im unteren Bereich liegt, während einige wenige sehr hohe Werte den Mittelwert nach oben ziehen.\n",
    "\n",
    "Um die Analyse nicht durch technisch bedingte Ausreißer zu verzerren, wurden alle PM2.5-Werte ab 816 µg/m³ ausgeschlossen, da sie deutlich außerhalb des natürlichen Messbereichs liegen und teilweise systematisch auftraten (Platzhalterwerte)."
   ]
  },
  {
   "cell_type": "markdown",
   "metadata": {},
   "source": [
    "## Kohlenmonoxid (CO)\n",
    "\n",
    "\"Kohlenmonoxid (CO) ist ein farb-, geruch- und geschmackloses Gas, das bei der unvollständigen Verbrennung von Brenn- und Treibstoffen entsteht. Es bildet sich, wenn bei Verbrennungsprozessen zu wenig Sauerstoff zur Verfügung steht. In höheren Konzentrationen wirkt CO als starkes Atemgift.\" (https://www.umweltbundesamt.de/themen/luft/luftschadstoffe-im-ueberblick/kohlenmonoxid)"
   ]
  },
  {
   "cell_type": "code",
   "execution_count": null,
   "metadata": {},
   "outputs": [],
   "source": [
    "sns.stripplot(x=df[\"Co\"], size=2, jitter=0.3)\n",
    "plt.title(\"CO Einzelwerte\")\n",
    "plt.xlabel(\"CO-Konzentration (µg/m³)\")\n",
    "plt.grid(True);"
   ]
  },
  {
   "cell_type": "code",
   "execution_count": null,
   "metadata": {},
   "outputs": [],
   "source": [
    "mean_co = df[\"Co\"].mean()\n",
    "median_co = df[\"Co\"].median()\n",
    "skew_co = skew(df[\"Co\"].dropna())\n",
    "\n",
    "print(f\"Mittelwert (mean): {mean_co:.2f}\")\n",
    "print(f\"Median:            {median_co:.2f}\")\n",
    "print(f\"Schiefe:           {skew_co:.2f}\")"
   ]
  },
  {
   "cell_type": "code",
   "execution_count": null,
   "metadata": {},
   "outputs": [],
   "source": [
    "# CO > 300 oder CO == 500 → als NaN\n",
    "df.loc[df[\"Co\"] >= 300, \"Co\"] = np.nan"
   ]
  },
  {
   "cell_type": "markdown",
   "metadata": {},
   "source": [
    "### Verteilung der bereinigten CO-Werte\n",
    "\n",
    "Die Verteilung der CO-Messwerte ist stark rechtsschief, mit einem Mittelwert von 4.74 µg/m³, einem Median von 3.40 µg/m³ und einer Schiefe von 29.64. Dies deutet auf extreme Ausreißer hin, die den Mittelwert erheblich verzerren. Zusätzlich tritt eine auffällige Häufung exakt bei 500 µg/m³ auf, was sehr wahrscheinlich ein technischer Platzhalterwert ist.\n",
    "\n",
    "Um die Aussagekraft der Analyse zu erhöhen, wurden daher alle Werte ab 300 µg/m³ ausgeschlossen. Dieser Grenzwert liegt deutlich oberhalb der Hauptverteilung und entfernt technische Ausreißer, aber auch extreme realistische Einzelwerte."
   ]
  },
  {
   "cell_type": "markdown",
   "metadata": {},
   "source": [
    "## Stickstoffdioxid (No2)\n",
    "\n",
    "\"Stickstoffdioxid (NO2) ist ein ätzendes Reizgas, es schädigt unmittelbar das Schleimhautgewebe im gesamten Atemtrakt und kann auch die Augen reizen. Stickstoffdioxid zeigt eine stärkere schädliche Wirkung als Stickstoffmonoxid (NO), weshalb Stickstoffdioxid im Zentrum der Bemühungen um saubere Luft steht. [...] Die mittelbare Wirkung des Stickstoffdioxids auf die menschliche Gesundheit besteht in seiner Eigenschaft als Vorläufersubstanz für die Bildung von Feinstaub.\" (https://www.umweltbundesamt.de/service/uba-fragen/wie-wirken-sich-stickstoffoxide-auf-die-menschliche)"
   ]
  },
  {
   "cell_type": "code",
   "execution_count": null,
   "metadata": {},
   "outputs": [],
   "source": [
    "sns.stripplot(x=df[\"No2\"], size=2, jitter=0.3)\n",
    "plt.title(\"NO₂ Einzelwerte\")\n",
    "plt.xlabel(\"NO₂-Konzentration (µg/m³)\")\n",
    "plt.grid(True);"
   ]
  },
  {
   "cell_type": "code",
   "execution_count": null,
   "metadata": {},
   "outputs": [],
   "source": [
    "mean_no2 = df[\"No2\"].mean()\n",
    "median_no2 = df[\"No2\"].median()\n",
    "skew_no2 = skew(df[\"No2\"].dropna())\n",
    "\n",
    "print(f\"Mittelwert (mean): {mean_no2:.2f}\")\n",
    "print(f\"Median:            {median_no2:.2f}\")\n",
    "print(f\"Schiefe:           {skew_no2:.2f}\")"
   ]
  },
  {
   "cell_type": "code",
   "execution_count": null,
   "metadata": {},
   "outputs": [],
   "source": [
    "# NO2 >= 300 oder == 500\n",
    "df.loc[df[\"No2\"] >= 300, \"No2\"] = np.nan"
   ]
  },
  {
   "cell_type": "markdown",
   "metadata": {},
   "source": [
    "### Bereinigung der NO₂-Werte\n",
    "Die NO₂-Werte zeigen eine stark rechtsschiefe Verteilung, mit einem Mittelwert von 10.55 µg/m³, einem Median von 8.40 µg/m³ und einer Schiefe von 10.08. Die große Mehrheit der Messwerte liegt unterhalb von 120 µg/m³, während einzelne Ausreißer bis 425 µg/m³ reichen. \n",
    "\n",
    "Zusätzlich tritt eine auffällige Häufung bei 500 µg/m³ auf, was sehr wahrscheinlich auf technische Platzhalterwerte zurückzuführen ist.\n",
    "Um die Analyse nicht durch extreme Einzelwerte zu verzerren, wurden alle NO₂-Werte ab 300 µg/m³ ausgeschlossen."
   ]
  },
  {
   "cell_type": "markdown",
   "metadata": {},
   "source": [
    "## Schwefeldioxid (So2)\n",
    "\n",
    "\"Schwefeldioxid (SO2) ist ein farbloses, stechend riechendes, wasserlösliches Gas, das Mensch und Umwelt beeinträchtigt. In der Atmosphäre aus Schwefeldioxid entstehende Sulfatpartikel tragen zudem zur Belastung mit Feinstaub (PM10) bei.\" (https://www.umweltbundesamt.de/themen/luft/luftschadstoffe-im-ueberblick/schwefeldioxid)"
   ]
  },
  {
   "cell_type": "code",
   "execution_count": null,
   "metadata": {},
   "outputs": [],
   "source": [
    "sns.stripplot(x=df[\"So2\"], size=2, jitter=0.3)\n",
    "plt.title(\"SO₂ Einzelwerte\")\n",
    "plt.xlabel(\"SO₂-Konzentration (µg/m³)\")\n",
    "plt.grid(True);"
   ]
  },
  {
   "cell_type": "code",
   "execution_count": null,
   "metadata": {},
   "outputs": [],
   "source": [
    "mean_so2 = df[\"So2\"].mean()\n",
    "median_so2 = df[\"So2\"].median()\n",
    "skew_so2 = skew(df[\"So2\"].dropna())\n",
    "\n",
    "print(f\"Mittelwert (mean): {mean_so2:.2f}\")\n",
    "print(f\"Median:            {median_so2:.2f}\")\n",
    "print(f\"Schiefe:           {skew_so2:.2f}\")"
   ]
  },
  {
   "cell_type": "markdown",
   "metadata": {},
   "source": [
    "Es zeigt sich eine auffällige Punktelinie zwischen 300 und 400, die einen technischen Maximalwert bestimmter Messgeräte vermuten lässt. Wo genau liegt diese Linie?"
   ]
  },
  {
   "cell_type": "code",
   "execution_count": null,
   "metadata": {},
   "outputs": [],
   "source": [
    "df[\"So2\"].value_counts().sort_index(ascending=False).head(10)"
   ]
  },
  {
   "cell_type": "code",
   "execution_count": null,
   "metadata": {},
   "outputs": [],
   "source": [
    "# SO2 >= 352 oder == 500\n",
    "df.loc[df[\"So2\"] >= 352, \"So2\"] = np.nan"
   ]
  },
  {
   "cell_type": "markdown",
   "metadata": {},
   "source": [
    "### Bereinigung der SO₂-Werte\n",
    "Die Variable So2 misst die tägliche Schwefeldioxidkonzentration in µg/m³. Die Verteilung ist stark rechtsschief (Skewness = 25.75) mit einem Median von 2.5 µg/m³ und einem Mittelwert von 3.98 µg/m³.\n",
    "\n",
    "Der Großteil der Werte liegt im Bereich von 0 bis 70 µg/m³, wobei sich oberhalb dieses Bereichs eine kontinuierlich abnehmende Streuung zeigt.\n",
    "\n",
    "Ab etwa 220 µg/m³ tritt eine leichte Häufung auf, bei 352 µg/m³ eine weitere, und bei 500 µg/m³ zeigt sich eine deutliche Punktelinie – vermutlich ein technischer Maximalwert oder Platzhalter.\n",
    "\n",
    "Zur Verbesserung der Datenqualität und Modellierbarkeit wurde ein Cutoff bei 352 µg/m³ gesetzt.\n",
    "Alle Werte oberhalb dieses Grenzwerts wurden durch NaN ersetzt."
   ]
  },
  {
   "cell_type": "markdown",
   "metadata": {},
   "source": [
    "## Analyse und Bereinigung der O3-Werte\n",
    "\n",
    "\"Das farblose und giftige Gas Ozon ist eines der wichtigsten Spurengase in der Atmosphäre. [...] In Bodennähe auftretendes Ozon wird nicht direkt freigesetzt, sondern bei intensiver Sonneneinstrahlung durch komplexe photochemische Prozesse aus Vorläuferschadstoffen − überwiegend Stickstoffoxiden und flüchtigen organischen Verbindungen − gebildet. Ozon wird deshalb als sekundärer Schadstoff bezeichnet.\" (https://www.umweltbundesamt.de/themen/luft/luftschadstoffe-im-ueberblick/ozon)"
   ]
  },
  {
   "cell_type": "code",
   "execution_count": null,
   "metadata": {},
   "outputs": [],
   "source": [
    "sns.stripplot(x=df[\"O3\"], size=2, jitter=0.3)\n",
    "plt.title(\"O3 Einzelwerte\")\n",
    "plt.xlabel(\"O3-Konzentration (µg/m³)\")\n",
    "plt.grid(True);"
   ]
  },
  {
   "cell_type": "code",
   "execution_count": null,
   "metadata": {},
   "outputs": [],
   "source": [
    "mean_o3 = df[\"O3\"].mean()\n",
    "median_o3 = df[\"O3\"].median()\n",
    "skew_o3 = skew(df[\"O3\"].dropna())\n",
    "\n",
    "print(f\"Mittelwert (mean): {mean_o3:.2f}\")\n",
    "print(f\"Median:            {median_o3:.2f}\")\n",
    "print(f\"Schiefe:           {skew_o3:.2f}\")"
   ]
  },
  {
   "cell_type": "code",
   "execution_count": null,
   "metadata": {},
   "outputs": [],
   "source": [
    "df[\"O3\"].value_counts().sort_index(ascending=False).head(20)"
   ]
  },
  {
   "cell_type": "code",
   "execution_count": null,
   "metadata": {},
   "outputs": [],
   "source": [
    "# O3 >= 323.5 oder == 500\n",
    "df.loc[df[\"O3\"] >= 323.5, \"O3\"] = np.nan"
   ]
  },
  {
   "cell_type": "markdown",
   "metadata": {},
   "source": [
    "### Bereinigung der Ozon-Werte (O₃)\n",
    "Die Ozonwerte (O3) zeigen eine stark rechtsschiefe Verteilung mit einer Skewness von 13.71. Der Median liegt bei 19.90 µg/m³, der Mittelwert bei 20.46 µg/m³ – was nahe beieinander liegt, aber durch einige hohe Ausreißer leicht verzerrt wird.\n",
    "\n",
    "Im oberen Bereich der Verteilung ist eine ausgeprägte Punktelinie bei 395 µg/m³ erkennbar, mit 36 identischen Messwerten. Zudem zeigt sich eine große Häufung bei 500 µg/m³ mit 536 Einträgen – ein starkes Indiz für technische Grenzwerte oder Platzhalterwerte.\n",
    "\n",
    "Zwischen 323.5 µg/m³ und 381 µg/m³ besteht eine auffällige Lücke, was darauf hinweist, dass oberhalb von 323.5 keine kontinuierliche natürliche Streuung mehr vorhanden ist.\n",
    "\n",
    "→ Es wurde ein Cutoff bei 323.5 µg/m³ gesetzt.\n",
    "Alle Werte oberhalb dieses Grenzwerts wurden durch NaN ersetzt."
   ]
  },
  {
   "cell_type": "markdown",
   "metadata": {},
   "source": [
    "## Analyse und Bereinigung der Pm10-Werte\n",
    "\n",
    "\"Als Feinstaub (⁠PM10⁠) bezeichnet man Partikel mit einem aerodynamischen Durchmesser von weniger als 10 Mikrometer (µm). Der größte Teil der anthropogenen Feinstaubemissionen stammt aus Verbrennungsvorgängen (Kfz-Verkehr, Gebäudeheizung) und Produktionsprozessen inkl. Schüttgutumschlag. [...] Feinstaub wird nicht nur direkt emittiert (primäre Partikel) sondern bildet sich auch aus Vorläuferstoffen (unter anderem aus Schwefeldioxid, Stickstoffoxid und Ammoniak) in der Atmosphäre (sekundäre Partikel).\" (https://www.umweltbundesamt.de/daten/luft/luftschadstoff-emissionen-in-deutschland/emission-von-feinstaub-der-partikelgroesse-pm10#was-ist-feinstaub)"
   ]
  },
  {
   "cell_type": "code",
   "execution_count": null,
   "metadata": {},
   "outputs": [],
   "source": [
    "sns.stripplot(x=df[\"Pm10\"], size=2, jitter=0.3)\n",
    "plt.title(\"Pm10 Einzelwerte\")\n",
    "plt.xlabel(\"Pm10-Konzentration (µg/m³)\")\n",
    "plt.grid(True);"
   ]
  },
  {
   "cell_type": "code",
   "execution_count": null,
   "metadata": {},
   "outputs": [],
   "source": [
    "df[\"Pm10\"].describe()"
   ]
  },
  {
   "cell_type": "code",
   "execution_count": null,
   "metadata": {},
   "outputs": [],
   "source": [
    "mean_pm10 = df[\"Pm10\"].mean()\n",
    "median_pm10 = df[\"Pm10\"].median()\n",
    "skew_pm10 = skew(df[\"Pm10\"].dropna())\n",
    "\n",
    "print(f\"Mittelwert (mean): {mean_pm10:.2f}\")\n",
    "print(f\"Median:            {median_pm10:.2f}\")\n",
    "print(f\"Schiefe:           {skew_pm10:.2f}\")"
   ]
  },
  {
   "cell_type": "code",
   "execution_count": null,
   "metadata": {},
   "outputs": [],
   "source": [
    "# Wo beginnt die Häufung bei der breiten Linie im Ausreißerbereich (ca. 820-840)?\n",
    "\n",
    "df[\"Pm10\"].value_counts().loc[lambda x: x.index > 850].sort_index()\n"
   ]
  },
  {
   "cell_type": "code",
   "execution_count": null,
   "metadata": {},
   "outputs": [],
   "source": [
    "# \"Datenmauer\" plotten (nicht wirklich nötig, aber \"Nice to have\" für Leute, die gerne Visualisierungen mögen...)\n",
    "\n",
    "high_values = df[\"Pm10\"][df[\"Pm10\"] > 800]\n",
    "sns.histplot(high_values, binwidth=1)\n",
    "plt.title(\"Häufigkeit der PM10-Werte > 800\")\n",
    "plt.xlabel(\"PM10-Wert (µg/m³)\")\n",
    "plt.ylabel(\"Anzahl\")\n",
    "plt.grid(True)\n",
    "plt.show()\n"
   ]
  },
  {
   "cell_type": "code",
   "execution_count": null,
   "metadata": {},
   "outputs": [],
   "source": [
    "# PM10 >= 867\n",
    "df.loc[df[\"Pm10\"] >= 867, \"Pm10\"] = np.nan\n"
   ]
  },
  {
   "cell_type": "markdown",
   "metadata": {},
   "source": [
    "### Bereinigung der PM10-Werte\n",
    "Die PM10-Werte zeigen eine deutlich rechtsschiefe Verteilung mit einem Mittelwert von 32.43 µg/m³, einem Median von 24.00 µg/m³ und einer Schiefe von 7.17. Der größte Teil der Messwerte liegt unterhalb von 200 µg/m³, mit einer kontinuierlich abnehmenden Dichte bis in den Bereich von ca. 850 µg/m³.\n",
    "\n",
    "Eine detaillierte Analyse der Einzelwertverteilung ergab jedoch eine auffällige Häufung von Messwerten im Bereich 867–882 µg/m³, insbesondere 40 Messungen mit dem identischen Wert 867. Diese systematische Häufung spricht stark für einen technisch bedingten Fehler oder künstlich begrenzte Wertebereiche. Zusätzlich tritt der Platzhalterwert 999 33 Mal auf.\n",
    "\n",
    "Um die Analyse nicht durch diese systematischen Verzerrungen zu beeinflussen, wurden alle PM10-Werte ab 867 µg/m³ aus dem Datensatz ausgeschlossen."
   ]
  },
  {
   "cell_type": "markdown",
   "metadata": {},
   "source": [
    "### Vergleich Anzahl fehlender Werte vor und nach der Ausreißerentfernung (Schadstoffe)"
   ]
  },
  {
   "cell_type": "code",
   "execution_count": null,
   "metadata": {},
   "outputs": [],
   "source": [
    "missing_after = df.isna().sum()\n",
    "outliers_removed = missing_after - missing_before\n",
    "\n",
    "outlier_table = pd.DataFrame({\n",
    "    \"Missing Before\": missing_before,\n",
    "    \"Missing After\": missing_after,\n",
    "    \"Outliers Replaced\": missing_after - missing_before\n",
    "})\n",
    "\n",
    "# Nur Zeilen anzeigen, in denen tatsächlich Ausreißer ersetzt wurden - alos die Schadstoff-Spalten\n",
    "outlier_table_filtered = outlier_table[outlier_table[\"Outliers Replaced\"] != 0]\n",
    "\n",
    "outlier_table_filtered"
   ]
  },
  {
   "cell_type": "code",
   "execution_count": null,
   "metadata": {},
   "outputs": [],
   "source": [
    "# Wieviele Daten (%) wurden durch Ausreißerentfernung verloren?\n",
    "missing_before_total = missing_before.sum()\n",
    "missing_after_total = missing_after.sum()\n",
    "outliers_total = missing_after_total - missing_before_total\n",
    "outlier_percent = outliers_total / total_values_before * 100\n",
    "\n",
    "print(f\"Anzahl ersetzter Ausreißer: {outliers_total:,}\")\n",
    "print(f\"Prozentualer Anteil der ersetzten Ausreißer: {outlier_percent:.4f}%\")"
   ]
  },
  {
   "cell_type": "markdown",
   "metadata": {},
   "source": [
    "Durch das Entfernen klar identifizierter Ausreißer **in den Schadstoffvariablen** wurden lediglich 0.0041 % der Datenpunkte ersetzt.\n",
    "Der Datensatz wurde dadurch kaum reduziert, ist aber nun robuster gegenüber Verzerrungen, was insbesondere für Machine-Learning-Modelle, Visualisierungen und Clusteranalysen von Vorteil ist."
   ]
  },
  {
   "cell_type": "markdown",
   "metadata": {},
   "source": [
    "# Analyse und Bereinigung der Wettervariablen\n",
    "Analog zum Vorgehen bei den Schadstoffen werden im Folgenden alle Wettervariablen untersucht und ggf. Platzhalterwerte und starke Ausreißer durch NaN ersetzt.\n",
    "\n",
    "Anmerkung: Man KÖNNTE auch nur die Platzhalterwerte durch NaN ersetzten und die Ausreißer gesondert kennzeichen. Aber darauf wird jetzt erst einmal verzichtet.\n",
    "\n",
    "Die Wettervariablen werden in einer Schleife am Stück abgehandelt. Da das Setzen der Grenzwerte und das Entfernen von Ausreißern für jede Variable individuell entscheiden werden sollte, um möglichst alle realistischen Werte zu erhalten, wir dieser Schritt nachgelagert.\n"
   ]
  },
  {
   "cell_type": "code",
   "execution_count": null,
   "metadata": {},
   "outputs": [],
   "source": [
    "# Save percentage of missing values before manipulatiing weather data\n",
    "missing_before_weather = df.isna().sum()\n",
    "total_values_before_weather = df.shape[0] * df.shape[1]\n"
   ]
  },
  {
   "cell_type": "code",
   "execution_count": null,
   "metadata": {},
   "outputs": [],
   "source": [
    "df[[\"Tavg\", \"Tmin\", \"Tmax\", \"Humidity\", \"Wspd\", \"Wdir\", \"Pres\", \"Prcp\", \"Dew\"]].describe()\n"
   ]
  },
  {
   "cell_type": "markdown",
   "metadata": {},
   "source": [
    "## Auswertung von describe()\n",
    "\n",
    "| Spalte | Bedingung für NaN                     | Begründung |\n",
    "|:-------|:--------------------------------------|:-----------|\n",
    "|Tavg    |                                       |                              |\n",
    "|Tmin    |                                       |                          |\n",
    "|Tmax\t |Tmax > 60\t                             |gemessenes Maximum weit über weltweit beobachtete Temperaturen|\n",
    "|Humidity|Humidity < 0 oder > 100                |physikalisch unmöglich / Platzhalter |\n",
    "|Wspd\t |erst visuell prüfen, dann ggf. > 150   |Hurrikan-Grenze, höhere Werte für einzelen Böen möglich aber selten |\n",
    "|Wdir    |<0 oder >360                           |Windrichtung wird in Winkelgrad gemessen |\n",
    "|Pres\t |Pres > 1100\t                         |Maximum ungewöhnlich hoch → Messfehler möglich |\n",
    "|Prcp\t |                                       |plausible Naturverteilung, visuell prüfen\n",
    "|Dew\t |ggf. ab –70 prüfen                     |tendenziell realistisch, vorsichtiger Umgang\n"
   ]
  },
  {
   "cell_type": "markdown",
   "metadata": {},
   "source": [
    "# Schleife für Wettervariablen"
   ]
  },
  {
   "cell_type": "code",
   "execution_count": null,
   "metadata": {},
   "outputs": [],
   "source": [
    "weather_columns = [\"Tavg\", \"Tmin\", \"Tmax\", \"Humidity\", \"Wspd\", \"Wdir\", \"Pres\", \"Prcp\", \"Dew\"]\n",
    "\n",
    "for col in weather_columns:\n",
    "    print(f\"\\n📊 Analyse für: {col}\")\n",
    "    \n",
    "    # Stripplot\n",
    "    plt.figure(figsize=(10, 2))\n",
    "    sns.stripplot(x=df[col], size=2, jitter=0.3)\n",
    "    plt.title(f\"{col} – Einzelwerte\")\n",
    "    plt.grid(True)\n",
    "    plt.xlabel(f\"{col}-Wert\")\n",
    "    plt.show()\n",
    "    \n",
    "    # Statistische Kennzahlen\n",
    "    mean_val = df[col].mean()\n",
    "    median_val = df[col].median()\n",
    "    skew_val = df[col].skew()\n",
    "    min_val = df[col].min()\n",
    "    max_val = df[col].max()\n",
    "    \n",
    "    print(f\"Mean:   {mean_val:.2f}\")\n",
    "    print(f\"Median: {median_val:.2f}\")\n",
    "    print(f\"Skew:   {skew_val:.2f}\")\n",
    "    print(f\"Min:    {min_val:.2f}\")\n",
    "    print(f\"Max:    {max_val:.2f}\")\n",
    "    \n",
    "    # Cutoff-Vorschlag (nur zur Orientierung)\n",
    "    cutoff = df[col].quantile(0.999)\n",
    "    print(f\"99.9%-Quantil (statistical suggestion only!): {cutoff:.2f}\")\n"
   ]
  },
  {
   "cell_type": "markdown",
   "metadata": {},
   "source": [
    "### Cutoffbestimmung und Ausreißerentfernung für Wettervariablen\n",
    "\n",
    "Für Variablen, bei denen der Stripplot keine eindeutige Auskunft gibt, wird der Cutoff-Wert durch einen Blick auf die betreffenden Messwerte bestimmt:"
   ]
  },
  {
   "cell_type": "code",
   "execution_count": null,
   "metadata": {},
   "outputs": [],
   "source": [
    "# Cutoff für Tmax genauer bestimmen; oberste 10 Messwerte anschauen:\n",
    "df[\"Tmax\"].value_counts().sort_index(ascending=False).head(10)\n",
    "\n",
    "# --> Cutoff bei 60 Grad"
   ]
  },
  {
   "cell_type": "code",
   "execution_count": null,
   "metadata": {},
   "outputs": [],
   "source": [
    "# Wie entsteht der \"gestrichelte\" Eindruck im Stripplot für den Taupunkt? Gibt es mehrhheitlich ganzzahlige Messwerte?\n",
    "df[\"Dew\"].dropna().apply(lambda x: x.is_integer()).value_counts()\n",
    "\n",
    "# --> Vermutlich geben die meisten Messgeräte nur ganzzahlige Werte aus"
   ]
  },
  {
   "cell_type": "code",
   "execution_count": null,
   "metadata": {},
   "outputs": [],
   "source": [
    "# Tmax: realistische Obergrenze bei 60°C\n",
    "df.loc[df[\"Tmax\"] > 60, \"Tmax\"] = np.nan\n",
    "\n",
    "# Humidity: alles < 0 oder > 100 ist physikalisch nicht (bzw. über 100% nur SEHR kurzzeitig) möglich\n",
    "df.loc[(df[\"Humidity\"] < 0) | (df[\"Humidity\"] > 100), \"Humidity\"] = np.nan\n",
    "\n",
    "# Wspd: Werte > 150 km/h (Orkangrenze) sind extrem selten\n",
    "df.loc[df[\"Wspd\"] > 150, \"Wspd\"] = np.nan\n",
    "\n",
    "# Pres: zwei Ausreißer über 1100 hPa, vermutlich technisches Problem\n",
    "df.loc[df[\"Pres\"] > 1100, \"Pres\"] = np.nan\n",
    "\n",
    "# Prcp: 2 extreme Ausreißer, im Prinzip möglich, aber für Modelle ungünstig und für den Gesamtdatensatz nicht repräsentativ\n",
    "df.loc[df[\"Prcp\"] > 400, \"Prcp\"] = np.nan\n",
    "\n",
    "# Dew: Werte von -40 bis 32 sind zu erwarten; mit diesen Schwellenwerten werden nur wenige Extremwerte entfernt\n",
    "df.loc[(df[\"Dew\"] < -40) | (df[\"Dew\"] > 32), \"Dew\"] = np.nan"
   ]
  },
  {
   "cell_type": "markdown",
   "metadata": {},
   "source": [
    "## Ausführliche Beschreibung der Wettervariablen\n",
    "\n",
    "🌡️ Tavg – Durchschnittstemperatur\n",
    "\n",
    "Die Variable Tavg beschreibt die durchschnittliche tägliche Temperatur. Die Verteilung ist leicht linksschief mit einem Skewness-Wert von –0.38. Der Mittelwert beträgt 15.38 °C, der Median liegt bei 15.90 °C, was auf eine weitgehend symmetrische Verteilung mit leichtem Übergewicht kälterer Temperaturen hinweist.\n",
    "\n",
    "Ein Blick auf den Stripplot zeigt, dass sich alle Werte im realistisch meteorologischen Bereich befinden:\n",
    "\n",
    "- Das Minimum liegt bei ca. –42 °C, was in sehr kalten Regionen (z. B. in Sibirien oder Teilen Kanadas) durchaus auftreten kann.\n",
    "- Das Maximum liegt bei ca. 50 °C, was mit bekannten Hitzerekorden weltweit vereinbar ist.\n",
    "\n",
    "Das 99.9%-Quantil liegt bei 38.30 °C. Dennoch wurde bewusst kein Grenzwert (Cutoff) gesetzt, da keine eindeutig unrealistischen Ausreißer erkennbar sind.\n",
    "\n",
    "→ Es wurden keine Werte entfernt oder als Ausreißer markiert.\n",
    "\n",
    "---\n",
    "\n",
    "🌡️ Tmin – Tagestiefsttemperatur\n",
    "\n",
    "Die Variable Tmin beschreibt die tägliche Tiefsttemperatur. Die Verteilung zeigt mit einer Schiefe von –0.32 eine leichte Linksschiefe, was auf ein geringfügiges Übergewicht sehr kalter Tage hinweist.\n",
    "Der Mittelwert beträgt 10.82 °C, der Median 11.00 °C, was auf eine insgesamt symmetrische Verteilung ohne nennenswerte Verzerrungen schließen lässt.\n",
    "\n",
    "Der Stripplot zeigt eine natürliche, kontinuierliche Verteilung der Messwerte.\n",
    "\n",
    "- Das Minimum liegt bei –46 °C, was in kalten Klimazonen realistisch ist.\n",
    "- Das Maximum bei 39 °C ist ungewöhnlich hoch für eine Tiefsttemperatur, aber unter besonderen Bedingungen (z. B. Hitzewellen) möglich.\n",
    "- Das 99.9%-Quantil liegt bei 32.4 °C, wodurch nur sehr wenige extrem hohe Werte überhaupt betroffen wären.\n",
    "\n",
    "Insgesamt zeigen sich keine auffälligen Ausreißer oder technische Artefakte.\n",
    "\n",
    "→ Es wurden keine Werte entfernt oder ersetzt.\n",
    "\n",
    "---\n",
    "\n",
    "🌡️ Tmax – Tageshöchsttemperatur\n",
    "\n",
    "Die Variable Tmax beschreibt die tägliche Höchsttemperatur.\n",
    "Die Verteilung ist mit einem Skewness-Wert von –0.37 leicht linksschief.\n",
    "Der Mittelwert beträgt 20.38 °C, der Median liegt bei 21.10 °C – die Verteilung ist insgesamt gut balanciert.\n",
    "\n",
    "Der Stripplot zeigt einen realistischen Verlauf im Bereich zwischen ca. –37 °C und 50 °C, wobei sich oberhalb von 50 °C vereinzelte Werte häufen. Eine genauere Prüfung der 20 höchsten Werte ergab jedoch drei offensichtliche Ausreißer:\n",
    "→ 60 °C, 76 °C und 87 °C – allesamt deutlich über bekannten meteorologischen Rekorden.\n",
    "\n",
    "→ Als Grenzwert wurde daher ein Cutoff bei 60 °C gesetzt. Drei Werte oberhalb dieses Grenzwerts wurden durch NaN ersetzt.\n",
    "\n",
    "---\n",
    "\n",
    "💧 Humidity – Relative Luftfeuchtigkeit\n",
    "\n",
    "Die Variable Humidity beschreibt die relative Luftfeuchtigkeit in Prozent.\n",
    "Die Verteilung ist extrem linksschief mit einer Skewness von –27.84, was auf starke Ausreißer im negativen und sehr hohen Bereich hindeutet.\n",
    "\n",
    "Die realistischen Messwerte liegen zwischen 0 % und 100 %.\n",
    "Der Stripplot zeigt jedoch vereinzelte, stark auffällige Werte:\n",
    "\n",
    "- Das Minimum beträgt –2671.1 %, was physikalisch unmöglich ist\n",
    "- Das Maximum liegt bei 999.9 %, höchstwahrscheinlich ein Platzhalterwert\n",
    "\n",
    "→ Es wurde daher ein Grenzbereich von 0 % bis 100 % definiert.\n",
    "Alle Werte außerhalb dieses Intervalls wurden durch NaN ersetzt.\n",
    "\n",
    "---\n",
    "\n",
    "💨 Wspd – Windgeschwindigkeit\n",
    "\n",
    "Die Variable Wspd beschreibt die tägliche durchschnittliche Windgeschwindigkeit in km/h.\n",
    "Die Verteilung zeigt eine leichte Rechtsschiefe mit einem Skewness-Wert von 1.51.\n",
    "Der Mittelwert liegt bei 11.34 km/h, der Median bei 10.00 km/h, was auf einen leicht asymmetrischen, aber plausiblen Verlauf hindeutet.\n",
    "\n",
    "Der Stripplot zeigt, dass die meisten Messwerte zwischen 0 und 45 km/h liegen, mit ausdünnender Streuung nach oben – was meteorologisch zu erwarten ist.\n",
    "Drei auffällige Extremwerte oberhalb von 150 km/h wurden identifiziert, der Maximalwert liegt bei 176.3 km/h. Solche Werte sind theoretisch möglich (z. B. bei Orkanen), aber im Kontext dieser Analyse nicht repräsentativ.\n",
    "\n",
    "→ Es wurde ein Cutoff bei 150 km/h gesetzt.\n",
    "Drei Werte oberhalb dieses Grenzwerts wurden durch NaN ersetzt.\n",
    "\n",
    "---\n",
    "\n",
    "🌬️ Pres – Luftdruck\n",
    "\n",
    "Die Variable Pres beschreibt den täglichen Luftdruck in hPa. Die Verteilung ist mit einer Skewness von –0.04 nahezu symmetrisch, was auf eine ausgewogene, realistische Verteilung hinweist.\n",
    "Der Mittelwert liegt bei 1015.15 hPa, was nahe am physikalischen Normaldruck (1013 hPa) liegt.\n",
    "\n",
    "Ein Blick auf die Extremwerte zeigt:\n",
    "\n",
    "- Minimum: 925.2 hPa – plausibel, z. B. bei Tiefdrucklagen\n",
    "- Maximum: 1392.1 hPa – stark unrealistisch, deutlich über bekannten Rekorden\n",
    "\n",
    "→ Es wurde ein Cutoff bei 1100 hPa gesetzt.\n",
    "Zwei klare Ausreißer oberhalb dieses Grenzwerts wurden durch NaN ersetzt.\n",
    "\n",
    "---\n",
    "\n",
    "🌧️ Prcp – Niederschlag\n",
    "\n",
    "Die Variable Prcp beschreibt die tägliche Niederschlagsmenge in mm. Die Verteilung ist mit einer Skewness von 8.21 stark rechtsschief:\n",
    "\n",
    "- An über der Hälfte aller Tage wurde kein Niederschlag gemessen (Median: 0.0 mm).\n",
    "- Einzelne Starkregenereignisse führen zu hohen Maximalwerten (bis zu 462 mm), die jedoch extrem selten sind.\n",
    "\n",
    "→ Zur Vermeidung einer übermäßigen Verzerrung der Analyse wurde ein Cutoff bei 400 mm gesetzt.\n",
    "Zwei ungewöhnlich hohe Werte oberhalb dieses Grenzwerts wurden durch NaN ersetzt.\n",
    "\n",
    "---\n",
    "\n",
    "💧 Dew – Taupunkt\n",
    "\n",
    "Die Variable Dew beschreibt den täglichen Taupunkt in °C – also die Temperatur, bei der die Luft mit Wasserdampf gesättigt ist.\n",
    "Die Werte zeigen eine leicht linksschiefe Verteilung mit einer Skewness von –0.37.\n",
    "Mittelwert und Median liegen nahe beieinander (9.69 °C bzw. 10.00 °C), was auf eine insgesamt ausgewogene Verteilung hindeutet.\n",
    "\n",
    "Der Stripplot vermittelt einen „gestückelten“ Eindruck, da etwa zwei Drittel der Werte ganzzahlig sind – vermutlich durch vorverarbeitete oder gerundete Messdaten. Ein gutes Drittel liegt jedoch im nicht-ganzzahligen Bereich, was unterschiedliche Genauigkeitsstufen in den Datenquellen vermuten lässt.\n",
    "\n",
    "Zur Erkennung potenzieller Ausreißer wurden die physikalisch plausiblen Grenzwerte des Taupunkts berücksichtigt:\n",
    "\n",
    "- Oberhalb von 32 °C (tropisch-feucht) und\n",
    "- Unterhalb von –40 °C (polar-trocken) sind reale Messwerte zwar nicht unmöglich, aber extrem selten.\n",
    "\n",
    "→ Es wurde ein Cutoff bei –40 °C und +32 °C gesetzt. Werte außerhalb dieses Bereichs wurden durch NaN ersetzt.\n"
   ]
  },
  {
   "cell_type": "markdown",
   "metadata": {},
   "source": [
    "### Vergleich Anzahl fehlender Werte vor und nach der Ausreißerentfernung (Wetter)"
   ]
  },
  {
   "cell_type": "code",
   "execution_count": null,
   "metadata": {},
   "outputs": [],
   "source": [
    "missing_after_weather = df.isna().sum()\n",
    "outliers_weather = missing_after_weather - missing_before_weather\n",
    "\n",
    "outlier_weather_table = pd.DataFrame({\n",
    "    \"Missing Before\": missing_before_weather,\n",
    "    \"Missing After\": missing_after_weather,\n",
    "    \"Outliers Replaced\": outliers_weather\n",
    "})\n",
    "\n",
    "# Nur Zeilen anzeigen, in denen tatsächlich Ausreißer ersetzt wurden - alos die Schadstoff-Spalten\n",
    "outlier_weather_table_filtered = outlier_weather_table[outlier_weather_table[\"Outliers Replaced\"] != 0]\n",
    "\n",
    "outlier_weather_table_filtered"
   ]
  },
  {
   "cell_type": "code",
   "execution_count": null,
   "metadata": {},
   "outputs": [],
   "source": [
    "missing_before_total_weather = missing_before_weather.sum()\n",
    "missing_after_total_weather = missing_after_weather.sum()\n",
    "outliers_total_weather = missing_after_total_weather - missing_before_total_weather\n",
    "outlier_percent_weather = outliers_total_weather / total_values_before_weather * 100\n",
    "\n",
    "print(f\"Anzahl ersetzter Ausreißer (Wetterdaten): {outliers_total_weather:,}\")\n",
    "print(f\"Prozentualer Anteil der ersetzten Ausreißer: {outlier_percent_weather:.4f}%\")\n"
   ]
  },
  {
   "cell_type": "markdown",
   "metadata": {},
   "source": [
    "Durch das Entfernen klar identifizierter Ausreißer **in den Wettervariablen** wurden lediglich 0.001 % der Datenpunkte ersetzt.\n",
    "Der Datensatz wurde dadurch kaum reduziert, ist aber nun robuster gegenüber Verzerrungen, was insbesondere für Machine-Learning-Modelle, Visualisierungen und Clusteranalysen von Vorteil ist."
   ]
  },
  {
   "cell_type": "code",
   "execution_count": null,
   "metadata": {},
   "outputs": [],
   "source": [
    "df.to_csv(\"data/cleaned_air_quality_data_2025_03_25.csv\", index=False)"
   ]
  },
  {
   "cell_type": "markdown",
   "metadata": {},
   "source": [
    "# 3. Korrelationsanalysen"
   ]
  },
  {
   "cell_type": "markdown",
   "metadata": {},
   "source": [
    "## 3.1 Korrelationsmatrix (Pearson)\n",
    "\n",
    "Die Matrix enthält alle numerischen Features aus dem Datensatz. Als Maßstab für die Stärke einer Korrelation werden folgende Werte angesetzt:\n",
    "\n",
    "\\> 0.8 = strong correlation\n",
    "\n",
    "0.4 - 0.8 = moderate correlation\n",
    "\n",
    "< 0.4 = weak correlation"
   ]
  },
  {
   "cell_type": "code",
   "execution_count": null,
   "metadata": {},
   "outputs": [],
   "source": [
    "\n",
    "# calculate correlation matrix (Pearson)\n",
    "corr_matrix = df.select_dtypes(include=['number']).corr()\n",
    "\n",
    "# Mask upper triangle\n",
    "mask = np.triu(np.ones_like(corr_matrix, dtype=bool))\n",
    "\n",
    "# Display heatmap\n",
    "plt.figure(figsize=(12, 8))\n",
    "sns.heatmap(corr_matrix, mask=mask, annot=True, fmt=\".2f\", cmap=\"coolwarm\", center=0, linewidths=0.5)\n",
    "plt.title(\"Feature Correlations (Pearson)\");\n"
   ]
  },
  {
   "cell_type": "code",
   "execution_count": null,
   "metadata": {},
   "outputs": [],
   "source": [
    "# Show only strong and moderate correlations (>|0.4|); leave out main diagonal (1.0)\n",
    "\n",
    "# Calculate matrix\n",
    "corr_matrix = df.select_dtypes(include=['number']).corr()\n",
    "\n",
    "# extract only strong and moderate correlations (>|0.4|); leave out main diagonal (1.0)\n",
    "strong_corrs = corr_matrix[(corr_matrix.abs() > 0.4) & (corr_matrix.abs() < 1.0)]\n",
    "\n",
    "# Convert df to long list (.stack) and reset index\n",
    "strong_corrs = strong_corrs.stack().reset_index()\n",
    "strong_corrs.columns = [\"Feature 1\", \"Feature 2\", \"Korrelation\"]\n",
    "\n",
    "# remove redundant rows (note: the \"<\"-sign here refers to alphabetic order of feature names, not to numbers of any kind!)\n",
    "strong_corrs = strong_corrs.loc[strong_corrs[\"Feature 1\"] < strong_corrs[\"Feature 2\"]]\n",
    "\n",
    "strong_corrs"
   ]
  },
  {
   "cell_type": "markdown",
   "metadata": {},
   "source": [
    "## Interpretation der Korrelationen und Vorschläge für weitere Analysen\n",
    "\n",
    "Die Korrelationsmatrix zeigt mehrere starke und inhaltlich gut erklärbare Zusammenhänge zwischen den numerischen Variablen. Besonders deutlich sind folgende Muster:\n",
    "\n",
    "**Feinstaub- und Stickstoffdioxidwerte hängen zusammen:**\n",
    "Es besteht eine starke Korrelation zwischen PM10 und PM2.5 (r = 0.83), was plausibel ist, da PM2.5 eine Teilmenge von PM10 ist. Zusätzlich korreliert NO₂ moderat mit beiden Feinstaubkomponenten (r ≈ 0.42–0.48), was auf gemeinsame Emissionsquellen wie Verkehr oder Industrie hindeutet.\n",
    "\n",
    "**Temperaturvariablen sind stark untereinander korreliert:**\n",
    "Die Tagesmitteltemperatur (Tavg) steht in sehr engem Zusammenhang mit Tmin und Tmax (r ≈ 0.97). Auch Tmin und Tmax selbst sind hoch korreliert (r = 0.90). Das ist mathematisch und physikalisch naheliegend und spricht dafür, nicht alle drei Variablen gleichzeitig zu verwenden, um Redundanz zu vermeiden.\n",
    "\n",
    "**Der Taupunkt (Dew) korreliert stark mit Temperatur:**\n",
    "Die stärkste Korrelation liegt zwischen Dew und Tmin (r = 0.87), gefolgt von Tavg (r = 0.82). Dies spiegelt wider, dass die Luftfeuchtigkeit – und damit der Taupunkt – eng mit der Umgebungstemperatur zusammenhängt.\n",
    "\n",
    "**Einige schwächer negative Korrelationen deuten auf atmosphärische Zusammenhänge hin:**\n",
    "Der Luftdruck (Pres) korreliert moderat negativ mit Dew (r = –0.43) und Tmin (r = –0.42), was mit typischen meteorologischen Prozessen in Zusammenhang stehen kann (z. B. feuchtwarme Luft in Tiefdruckgebieten).\n",
    "\n",
    "---\n",
    "\n",
    "Diese Ergebnisse helfen dabei, hoch korrelierte bzw. redundante Variablen zu erkennen und gezielt für weitere Analysen (z. B. Clusteranalyse oder Modellierung) geeignete Features auszuwählen.\n",
    "\n",
    "Für viele Verfahren, wie z. B. Clustering oder Regressionsmodelle, ist es ratsam, von stark korrelierten Variablen jeweils nur eine zu verwenden, um Verzerrungen oder sogenannte Multikollinearität zu vermeiden.\n",
    "\n",
    "Alternativ können Hauptkomponentenanalyse (PCA) oder andere dimensionalitätsreduzierende Verfahren genutzt werden, um mehrere stark korrelierte Variablen zu einer gemeinsamen Komponente zusammenzufassen, ohne wesentliche Information zu verlieren.\n"
   ]
  },
  {
   "cell_type": "markdown",
   "metadata": {},
   "source": [
    "# 3.2 Pairplot der wichtigsten Feature-Paare\n",
    "\n",
    "Für eine Pairplot-Analyse werden nur bestimmte Features ausgewählt, bei denen entweder aufgrund von Weltwissen oder der berechneten Korrelationswerte relevante Zusammenhänge zu erwarten sind. Diese sind: PM25, PM10, NO₂, O3, CO, Tavg, Humidity, Dew, Pres.\n",
    "\n",
    "Von diesen werden wiederum nur einzelne Paare getestet: PM10-PM25, NO₂-PM10, NO₂-PM25, Humidity-PM25, O3-Tavg, Tmin-Dew, Pres-Dew, Pres-Tmin.\n",
    "\n",
    "Die Pairplots werden auf einem repräsentativen Sample von 2000 Datenpunkten berechnet."
   ]
  },
  {
   "cell_type": "code",
   "execution_count": null,
   "metadata": {},
   "outputs": [],
   "source": [
    "features = [\"Pm25\", \"Pm10\", \"No2\", \"O3\", \"Co\", \"Tavg\", \"Humidity\", \"Dew\", \"Pres\"]\n",
    "sample_df = df[features].dropna().sample(n=2000, random_state=42)\n",
    "sns.pairplot(sample_df, diag_kind=\"kde\", plot_kws={\"alpha\": 0.4, \"s\": 15})"
   ]
  },
  {
   "cell_type": "markdown",
   "metadata": {},
   "source": [
    "Die Histogramme im Pairplot bestätigen die zuvor berechnete Schiefe vieler Variablen:\n",
    "\n",
    "Schadstoffe wie Pm25, NO2 und O3 sind erwartungsgemäß rechtsschief verteilt, während Temperatur (Tavg), Luftfeuchtigkeit (Humidity) und Taupunkt (Dew) eine leichte Linksschiefe zeigen. Der Luftdruck (Pres) hebt sich durch seine nahezu normalverteilte Form ab."
   ]
  },
  {
   "cell_type": "markdown",
   "metadata": {},
   "source": [
    "# Überprüfung einzelner Variablenpaare mit linearer Regression und/oder LOWESS\n",
    "\n",
    "Um die Art des Zusammenhangs (lienar oder nicht) zwischen zwei Features eindeutig zu identifizieren, werden sowohl lineare Regression als auch LOWESS (Local Weighted Scatterplot Smoothing) angewendet.\n",
    "\n",
    "Die Samplegröße beträgt jeweils 3000 Datenpunkte. Zur Replizierbarkeit wird ein Random State von 42 festgelegt. NaN-Werte werden für alle Berechnungen entfernt (weil Seaborn damit nicht umgehen kann)."
   ]
  },
  {
   "cell_type": "markdown",
   "metadata": {},
   "source": [
    "## Zusammenhang zwischen Pm10 und Pm25\n",
    "\n",
    "Pearson-Koeffizient: 0,83\n",
    "\n",
    "Pm25 ist eine Teilmenge von Pm10. Sind beide Features relevant für spätere Modellierungen oder ist eines davon redundant?"
   ]
  },
  {
   "cell_type": "code",
   "execution_count": null,
   "metadata": {},
   "outputs": [],
   "source": [
    "subset = df[[\"Pm10\", \"Pm25\"]].dropna().sample(n=3000, random_state=42)\n",
    "\n",
    "plt.figure(figsize=(8, 5))\n",
    "sns.regplot(data=subset, x=\"Pm10\", y=\"Pm25\", lowess=True,\n",
    "            scatter_kws={\"alpha\": 0.3, \"s\": 15},\n",
    "            line_kws={\"color\": \"crimson\"})\n",
    "\n",
    "plt.title(\"LOWESS-Regressionskurve: PM10 vs. PM2.5\")\n",
    "plt.xlabel(\"PM10-Konzentration (µg/m³)\")\n",
    "plt.ylabel(\"PM2.5-Konzentration (µg/m³)\")\n",
    "plt.grid(True);"
   ]
  },
  {
   "cell_type": "markdown",
   "metadata": {},
   "source": [
    "Die LOWESS-Analyse bestätigt den erwarteten sehr starken linearen Zusammenhang zwischen PM10 und PM2.5.\n",
    "\n",
    "Im zentralen Bereich steigt PM2.5 nahezu proportional zu PM10, mit nur einer leichten Abflachung bei höheren PM10-Werten.\n",
    "Diese minimale Abweichung könnte darauf hindeuten, dass bei sehr hoher Feinstaubbelastung der relative Anteil von groben Partikeln (PM10 ohne PM2.5) etwas zunimmt.\n",
    "\n",
    "Aufgrund der wenigen Datenpunkte in den extremen Bereichen kann für diesen keine Belastbare Aussage gemacht werden."
   ]
  },
  {
   "cell_type": "markdown",
   "metadata": {},
   "source": [
    "## Zusammenhang zwischen NO2 und PM10\n",
    "\n",
    "Pearson-Koeffizient: 0,42\n",
    "\n",
    "Der Zusammenhang sollte ähnlich sein wie der zwischen No2 und PM25, aber um abzuschätzen, ob für spätere Analysen ein Feature redundant ist, gehen wir mit LOWESS sicher:"
   ]
  },
  {
   "cell_type": "code",
   "execution_count": null,
   "metadata": {},
   "outputs": [],
   "source": [
    "subset = df[[\"No2\", \"Pm10\"]].dropna().sample(n=3000, random_state=42)\n",
    "\n",
    "plt.figure(figsize=(8, 5))\n",
    "sns.regplot(data=subset, x=\"No2\", y=\"Pm10\", lowess=True,\n",
    "            scatter_kws={\"alpha\": 0.3, \"s\": 15},\n",
    "            line_kws={\"color\": \"darkorange\"})\n",
    "\n",
    "plt.title(\"LOWESS-Regressionskurve für NO₂ und PM10\")\n",
    "plt.xlabel(\"NO₂-Konzentration (µg/m³)\")\n",
    "plt.ylabel(\"PM10-Konzentration (µg/m³)\")\n",
    "plt.grid(True);"
   ]
  },
  {
   "cell_type": "markdown",
   "metadata": {},
   "source": [
    "Die LOWESS-Analyse des Zusammenhangs zwischen NO₂ und PM10 zeigt einen insgesamt positiven Trend, der im Bereich bis etwa 40 µg/m³ NO₂ weitgehend linear verläuft. Ab etwa 40 µg/m³ NO₂ wird der Zusammenhang flacher, was auf eine Sättigung oder zunehmende Streuung hinweisen könnte. In diesem Bereich sind jedoch nur wenige Datenpunkte vorhanden, sodass der Verlauf der Kurve dort nicht belastbar interpretiert werden sollte.\n",
    "\n",
    "Eine lineare Regression könnte im unteren Bereich sinnvoll sein, sollte aber auf den zentralen Wertebereich beschränkt werden."
   ]
  },
  {
   "cell_type": "markdown",
   "metadata": {},
   "source": [
    "## Zusammenhang zwischen NO2 und PM25\n",
    "\n",
    "Pearson-Koeffizient: 0,48"
   ]
  },
  {
   "cell_type": "code",
   "execution_count": null,
   "metadata": {},
   "outputs": [],
   "source": [
    "sample_df = df[[\"No2\", \"Pm25\"]].dropna().sample(n=3000, random_state=42)\n",
    "\n",
    "plt.figure(figsize=(8, 5))\n",
    "sns.regplot(data=sample_df, x=\"No2\", y=\"Pm25\",\n",
    "            scatter_kws={\"alpha\":0.3, \"s\":15},\n",
    "            line_kws={\"color\": \"darkred\"})\n",
    "\n",
    "plt.title(\"Zusammenhang zwischen NO₂ und PM2.5 (Stichprobe)\")\n",
    "plt.xlabel(\"NO₂-Konzentration (µg/m³)\")\n",
    "plt.ylabel(\"PM2.5-Konzentration (µg/m³)\")\n",
    "plt.grid(True)"
   ]
  },
  {
   "cell_type": "markdown",
   "metadata": {},
   "source": [
    "Der regplot zwischen NO₂ und PM2.5 zeigt eine positive lineare Tendenz, was plausibel erscheint, da beide Schadstoffe häufig durch Verkehr oder industrielle Prozesse freigesetzt werden.\n",
    "Aufgrund der breiten Streuung und fehlender Kontextvariablen ist die Regressionslinie jedoch nicht als kausales Modell, sondern lediglich als explorative Visualisierung einer Korrelation zu verstehen.\n",
    "Der Konfidenzbereich ist nur für den Bereich gut, in dem die meisten Messwerte liegen. Problem: Heteroskadastizität."
   ]
  },
  {
   "cell_type": "code",
   "execution_count": null,
   "metadata": {},
   "outputs": [],
   "source": [
    "subset = df[(df[\"No2\"] < 40) & (df[\"Pm25\"] < 200)][[\"No2\", \"Pm25\"]].dropna().sample(n=3000, random_state=42)\n",
    "\n",
    "plt.figure(figsize=(8, 5))\n",
    "sns.regplot(data=subset, x=\"No2\", y=\"Pm25\",\n",
    "            scatter_kws={\"alpha\": 0.3, \"s\": 15},\n",
    "            line_kws={\"color\": \"darkblue\"})\n",
    "\n",
    "plt.title(\"Regression innerhalb des zentralen Wertebereichs (No2 < 40, Pm25 < 200)\")\n",
    "plt.xlabel(\"NO₂-Konzentration (µg/m³)\")\n",
    "plt.ylabel(\"PM2.5-Konzentration (µg/m³)\")\n",
    "plt.grid(True);"
   ]
  },
  {
   "cell_type": "markdown",
   "metadata": {},
   "source": [
    "Nimmt man nur den zentralen Wertebereich heraus, ist eine lineare Verteilung sichtbar, und auch das Konfidenzintervall ist \"akzeptabel\"."
   ]
  },
  {
   "cell_type": "code",
   "execution_count": null,
   "metadata": {},
   "outputs": [],
   "source": [
    "subset = df[[\"No2\", \"Pm25\"]].dropna().sample(n=3000, random_state=42)\n",
    "\n",
    "plt.figure(figsize=(8, 5))\n",
    "sns.regplot(data=subset, x=\"No2\", y=\"Pm25\", lowess=True,\n",
    "            scatter_kws={\"alpha\": 0.3, \"s\": 15},\n",
    "            line_kws={\"color\": \"mediumvioletred\"})\n",
    "\n",
    "plt.title(\"LOWESS-Regressionskurve für NO₂ und PM2.5\")\n",
    "plt.xlabel(\"NO₂-Konzentration (µg/m³)\")\n",
    "plt.ylabel(\"PM2.5-Konzentration (µg/m³)\")\n",
    "plt.grid(True)"
   ]
  },
  {
   "cell_type": "markdown",
   "metadata": {},
   "source": [
    "Die Anwendung von LOWESS auf den gesamten Wertebereich von NO₂ und PM2.5 zeigt, dass der Zusammenhang nicht durchgängig linear ist.\n",
    "Besonders im oberen Wertebereich (ab ~70 µg/m³ NO₂) ist die Punktverteilung zu dünn und uneinheitlich, was zu starken Schwankungen in der Regressionskurve führt.\n",
    "Im zentralen Wertebereich (NO₂ < 40, PM2.5 < 200) zeigt sich hingegen ein stabiler, positiver Trend.\n",
    "Für lineare Analysen ist daher eine Einschränkung auf diesen Bereich sinnvoll.\n",
    "\n",
    "--> Der Zusammenhang ist also ähnlich wie der zwischen NO₂ und PM10."
   ]
  },
  {
   "cell_type": "markdown",
   "metadata": {},
   "source": [
    "## Zusammenhang zwischen Luftfeuchtigkeit (Humidity) und mittelgroßen Feinstaubpartikeln (Pm25)\n",
    "\n",
    "Pearson-Koeffizient: 0,13\n",
    "\n"
   ]
  },
  {
   "cell_type": "code",
   "execution_count": null,
   "metadata": {},
   "outputs": [],
   "source": [
    "subset = df[[\"Humidity\", \"Pm25\"]].dropna().sample(n=3000, random_state=42)\n",
    "\n",
    "plt.figure(figsize=(8, 5))\n",
    "sns.regplot(data=subset, x=\"Humidity\", y=\"Pm25\", lowess=True,\n",
    "            scatter_kws={\"alpha\": 0.3, \"s\": 15},\n",
    "            line_kws={\"color\": \"teal\"})\n",
    "\n",
    "plt.title(\"LOWESS-Regressionskurve: Luftfeuchtigkeit vs. PM2.5\")\n",
    "plt.xlabel(\"Relative Luftfeuchtigkeit (%)\")\n",
    "plt.ylabel(\"PM2.5-Konzentration (µg/m³)\")\n",
    "plt.grid(True);"
   ]
  },
  {
   "cell_type": "markdown",
   "metadata": {},
   "source": [
    "Die LOWESS-Regression zwischen Luftfeuchtigkeit (Humidity) und PM2.5 zeigt, wie erwartet, einen klar negativen Zusammenhang.\n",
    "Bei niedriger Luftfeuchtigkeit (unter 20 %) liegen die PM2.5-Werte durchschnittlich bei etwa 70 µg/m³, während sie bei sehr hoher Luftfeuchtigkeit (über 90 %) auf unter 50 µg/m³ sinken.\n",
    "\n",
    "Dieser Verlauf ist nicht ganz linear, sondern flacht bei zunehmender Feuchtigkeit ab – ein Hinweis auf sättigende Effekte oder natürliche Begrenzungen.\n",
    "\n",
    "Eine lineare Regression wäre hier möglich, aber nicht unbedingt angemessen – LOWESS zeigt die tatsächliche Struktur des Zusammenhangs besser."
   ]
  },
  {
   "cell_type": "markdown",
   "metadata": {},
   "source": [
    "## Zusammenhang zwischen Ozonwert (O3) und Durchnittstemperatur (Tavg)\n",
    "\n",
    "Pearson-Koeffizient: 0,19"
   ]
  },
  {
   "cell_type": "code",
   "execution_count": null,
   "metadata": {},
   "outputs": [],
   "source": [
    "subset = df[[\"O3\", \"Tavg\"]].dropna().sample(n=3000, random_state=42)\n",
    "plt.figure(figsize=(8, 5))\n",
    "sns.regplot(data=subset, x=\"Tavg\", y=\"O3\", lowess=True,\n",
    "            scatter_kws={\"alpha\": 0.3, \"s\": 15},\n",
    "            line_kws={\"color\": \"darkgreen\"})\n",
    "\n",
    "plt.title(\"Nichtlinearer Zusammenhang zwischen Temperatur (Tavg) und Ozon (O3)\")\n",
    "plt.xlabel(\"Durchschnittstemperatur (°C)\")\n",
    "plt.ylabel(\"Ozonkonzentration (µg/m³)\")\n",
    "plt.grid(True);"
   ]
  },
  {
   "cell_type": "markdown",
   "metadata": {},
   "source": [
    "Die Analyse des Zusammenhangs zwischen Temperatur (Tavg) und Ozonkonzentration (O3) mit Hilfe einer LOWESS-Regression zeigt einen klar nichtlinearen Verlauf:\n",
    "\n",
    "- Bei Temperaturen zwischen 0 und etwa 20 °C steigt die Ozonkonzentration tendenziell an – ein plausibler Effekt durch sonnengetriebene Bildung.\n",
    "- Ab ca. 20 °C sinkt die Konzentration jedoch wieder.\n",
    "\n",
    "Dieser geknickte Verlauf weist darauf hin, dass eine lineare Regressionsanalyse hier nicht geeignet ist, um den Zusammenhang korrekt zu modellieren.\n",
    "\n",
    "--> Stichwort: „Ozon-Peak-Temperatur-Phänomen“"
   ]
  },
  {
   "cell_type": "markdown",
   "metadata": {},
   "source": [
    "## Zusammenhang zwischen Tagestiefsttemperatur (Tmin) und Taupunkt (Dew)\n",
    "\n",
    "Pearson-Koeffizient: 0.87\n",
    "\n",
    "Die Temperatur beeinflusst den Taupunkt. Der Taupunkt ist der Punkt, bei dem die Luft gesättigt ist und Wasserdampf kondensiert. Er ist immer kleiner oder gleich der aktuellen Lufttemperatur. Er nähert sich der Lufttemperatur vor allem nachts, wenn es abkühlt. Daher ist der Zusammenhang mit Tmin am stärksten."
   ]
  },
  {
   "cell_type": "code",
   "execution_count": null,
   "metadata": {},
   "outputs": [],
   "source": [
    "subset = df[[\"Tmin\", \"Dew\"]].dropna().sample(n=3000, random_state=42)\n",
    "\n",
    "plt.figure(figsize=(8, 5))\n",
    "sns.regplot(data=subset, x=\"Tmin\", y=\"Dew\", lowess=True,\n",
    "            scatter_kws={\"alpha\": 0.3, \"s\": 15},\n",
    "            line_kws={\"color\": \"mediumseagreen\"})\n",
    "\n",
    "plt.title(\"LOWESS-Regressionskurve: Tmin vs. Taupunkt (Dew)\")\n",
    "plt.xlabel(\"Tiefsttemperatur (°C)\")\n",
    "plt.ylabel(\"Taupunkt (°C)\")\n",
    "plt.grid(True);"
   ]
  },
  {
   "cell_type": "markdown",
   "metadata": {},
   "source": [
    "Es zeigt sich ein deutlicher linearer Zusammenhang ohne nennenswerte Knicke.\n",
    "\n",
    "Vergleich von LOWESS und linearer Regressionlinie:"
   ]
  },
  {
   "cell_type": "code",
   "execution_count": null,
   "metadata": {},
   "outputs": [],
   "source": [
    "subset = df[[\"Tmin\", \"Dew\"]].dropna().sample(n=3000, random_state=42)\n",
    "\n",
    "plt.figure(figsize=(8, 5))\n",
    "\n",
    "# LOWESS\n",
    "sns.regplot(data=subset, x=\"Tmin\", y=\"Dew\", lowess=True,\n",
    "            scatter_kws={\"alpha\": 0.3, \"s\": 15},\n",
    "            line_kws={\"color\": \"mediumseagreen\", \"label\": \"LOWESS\"})\n",
    "\n",
    "# Lineare Regression\n",
    "sns.regplot(data=subset, x=\"Tmin\", y=\"Dew\", lowess=False,\n",
    "            scatter=False,\n",
    "            line_kws={\"color\": \"orangered\", \"linestyle\": \"--\", \"label\": \"Linear\"})\n",
    "\n",
    "plt.title(\"Tmin vs. Taupunkt (LOWESS & Lineare Regression)\")\n",
    "plt.xlabel(\"Tiefsttemperatur (°C)\")\n",
    "plt.ylabel(\"Taupunkt (°C)\")\n",
    "plt.legend()\n",
    "plt.grid(True);\n"
   ]
  },
  {
   "cell_type": "markdown",
   "metadata": {},
   "source": [
    "Tiefsttemperatur (Tmin) und Taupunkt (Dew) sind hoch korreliert (r = 0.87).\n",
    "\n",
    "Ein LOWESS-Plot offenbart einen weitgehend linearen Anstieg des Taupunkts mit zunehmender Temperatur, insbesondere im Bereich unter 0 °C. In höheren Temperaturbereichen wird die Steigung etwas flacher, was auf eine schwächer werdende Kopplung hinweisen könnte.\n",
    "\n",
    "Zum Vergleich wurde zusätzlich eine lineare Regressionslinie mit Konfidenzintervall geplottet. Sie verläuft insgesamt flacher als die LOWESS-Kurve. Das Konfidenzband ist sehr schmal, was auf eine geringe Streuung und hohe Vorhersagbarkeit hinweist.\n",
    "\n",
    "Der Vergleich zeigt, dass eine lineare Regression im zentralen Bereich zwar möglich, aber nicht ideal ist.\n",
    "LOWESS eignet sich, um die **leichte** Nichtlinearität sichtbar zu machen und kann für explorative Zwecke empfohlen werden."
   ]
  },
  {
   "cell_type": "markdown",
   "metadata": {},
   "source": [
    "## Zusammenhang zwischen Luftdruck (Pres) und Taupunkt (Dew)\n",
    "\n",
    "Korrelationskoeffizient: -0,43"
   ]
  },
  {
   "cell_type": "code",
   "execution_count": null,
   "metadata": {},
   "outputs": [],
   "source": [
    "subset = df[[\"Pres\", \"Dew\"]].dropna().sample(n=3000, random_state=42)\n",
    "\n",
    "plt.figure(figsize=(8, 5))\n",
    "sns.regplot(data=subset, x=\"Pres\", y=\"Dew\", lowess=True,\n",
    "            scatter_kws={\"alpha\": 0.3, \"s\": 15},\n",
    "            line_kws={\"color\": \"darkorange\"})\n",
    "\n",
    "plt.title(\"LOWESS-Regressionskurve: Luftdruck vs. Taupunkt\")\n",
    "plt.xlabel(\"Luftdruck (hPa)\")\n",
    "plt.ylabel(\"Taupunkt (°C)\")\n",
    "plt.grid(True)"
   ]
  },
  {
   "cell_type": "markdown",
   "metadata": {},
   "source": [
    "Die LOWESS-Analyse zwischen Luftdruck (Pres) und Taupunkt (Dew) zeigt einen nichtlinearen, umgekehrt U-förmigen Zusammenhang.\n",
    "Bei niedrigen Druckwerten steigt der Taupunkt zunächst an, flacht im mittleren Bereich ab und fällt schließlich bei hohem Druck steil ab.\n",
    "\n",
    "Dies unterstützt die meteorologische Annahme, dass Tiefdruck mit feuchterer Luft (höherem Taupunkt) und Hochdruck mit trockenerer Luft (niedrigerem Taupunkt) einhergeht."
   ]
  },
  {
   "cell_type": "markdown",
   "metadata": {},
   "source": [
    "## Zusammenhang zwischen Tagestiefsttemperatur (Tmin) und Luftdruck (Pres)\n",
    "\n",
    "Korrelationskoeffizient: -0,42"
   ]
  },
  {
   "cell_type": "code",
   "execution_count": null,
   "metadata": {},
   "outputs": [],
   "source": [
    "subset = df[[\"Pres\", \"Tmin\"]].dropna().sample(n=3000, random_state=42)\n",
    "\n",
    "plt.figure(figsize=(8, 5))\n",
    "sns.regplot(data=subset, x=\"Pres\", y=\"Tmin\", lowess=True,\n",
    "            scatter_kws={\"alpha\": 0.3, \"s\": 15},\n",
    "            line_kws={\"color\": \"darkorange\"})\n",
    "\n",
    "plt.title(\"LOWESS-Regressionskurve: Luftdruck vs. Tiefsttemperatur\")\n",
    "plt.xlabel(\"Luftdruck (hPa)\")\n",
    "plt.ylabel(\"Tiefsttemperatur (°C)\")\n",
    "plt.grid(True)"
   ]
  },
  {
   "cell_type": "markdown",
   "metadata": {},
   "source": [
    "Die LOWESS-Analyse zwischen Luftdruck (Pres) und Tiefsttemperatur (Tmin) zeigt einen symmetrisch gebogenen Zusammenhang, ähnlich wie bei Pres und Dew.\n",
    "\n",
    "- In Bereichen mit niedrigem Druck steigen die nächtlichen Tiefsttemperaturen zunächst leicht an, was auf eine isolierende Wirkung von Wolken und Wetteraktivität bei Tiefdruck hindeutet.\n",
    "- Ab einem Druck von etwa 1008 hPa kehrt sich der Effekt um: Bei hohem Druck sinken die Tiefsttemperaturen, vermutlich durch klare Nächte mit stärkerer Abkühlung.\n",
    "\n",
    "Die Kurve ist harmonisch geformt und belegt eine meteorologisch plausible, nichtlineare Beziehung."
   ]
  },
  {
   "cell_type": "markdown",
   "metadata": {},
   "source": [
    "# Abschließende Bewertung der Korrelationen und der Datenstruktur\n",
    "\n",
    "Die ausführliche Analyse der Korrelationen – unterstützt durch klassische Korrelationsmatrizen, Regressionsplots und LOWESS-Kurven – hat gezeigt, dass die betrachteten Variablen sinnvolle, teils lineare, teils nichtlineare Zusammenhänge aufweisen, die physikalisch, meteorologisch oder umweltbezogen plausibel erklärbar sind.\n",
    "\n",
    "Dabei konnten sowohl bekannte Beziehungen (z. B. zwischen Feinstaub und Stickstoffdioxid oder zwischen Taupunkt und Temperatur) als auch weniger offensichtliche, aber nachvollziehbare Muster (z. B. der Einfluss des Luftdrucks auf Temperatur und Feuchtigkeit) sichtbar gemacht werden.\n",
    "\n",
    "Insgesamt deutet die Korrelationenanalyse darauf hin, dass es sich um natürliche, glaubwürdige und konsistente Umweltdaten handelt, die keine Anzeichen künstlicher Verzerrung oder unplausibler Artefakte zeigen.\n",
    "\n",
    "Damit ist der Datensatz in seiner bereinigten Form eine solide Grundlage für weiterführende Machine-Learning-Modelle. Die erkannten Strukturen können gezielt genutzt werden, um sinnvolle Features zu definieren, Zusammenhänge zu explorieren und vorhersagende Modelle zu entwickeln, die auf realweltlichen Mustern basieren."
   ]
  }
 ],
 "metadata": {
  "kernelspec": {
   "display_name": ".venv",
   "language": "python",
   "name": "python3"
  },
  "language_info": {
   "codemirror_mode": {
    "name": "ipython",
    "version": 3
   },
   "file_extension": ".py",
   "mimetype": "text/x-python",
   "name": "python",
   "nbconvert_exporter": "python",
   "pygments_lexer": "ipython3",
   "version": "3.11.4"
  }
 },
 "nbformat": 4,
 "nbformat_minor": 4
}
